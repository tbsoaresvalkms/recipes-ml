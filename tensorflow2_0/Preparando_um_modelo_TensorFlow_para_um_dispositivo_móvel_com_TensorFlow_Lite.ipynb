{
  "nbformat": 4,
  "nbformat_minor": 0,
  "metadata": {
    "colab": {
      "name": "Preparando um modelo TensorFlow para um dispositivo móvel com TensorFlow Lite.ipynb",
      "provenance": [],
      "collapsed_sections": []
    },
    "kernelspec": {
      "name": "python3",
      "display_name": "Python 3"
    },
    "accelerator": "GPU"
  },
  "cells": [
    {
      "cell_type": "markdown",
      "metadata": {
        "id": "gNCP2RT3RNtz",
        "colab_type": "text"
      },
      "source": [
        "## Etapa 1: Instalação das bibliotecas"
      ]
    },
    {
      "cell_type": "code",
      "metadata": {
        "id": "RtAydW1fQ2Kg",
        "colab_type": "code",
        "outputId": "cec59d0a-b116-4526-acff-5840f15ad5d0",
        "colab": {
          "base_uri": "https://localhost:8080/",
          "height": 649
        }
      },
      "source": [
        "!pip install tensorflow-gpu==1.13.1"
      ],
      "execution_count": 0,
      "outputs": [
        {
          "output_type": "stream",
          "text": [
            "Collecting tensorflow-gpu==1.13.1\n",
            "\u001b[?25l  Downloading https://files.pythonhosted.org/packages/7b/b1/0ad4ae02e17ddd62109cd54c291e311c4b5fd09b4d0678d3d6ce4159b0f0/tensorflow_gpu-1.13.1-cp36-cp36m-manylinux1_x86_64.whl (345.2MB)\n",
            "\u001b[K     |████████████████████████████████| 345.2MB 58kB/s \n",
            "\u001b[?25hCollecting tensorboard<1.14.0,>=1.13.0 (from tensorflow-gpu==1.13.1)\n",
            "\u001b[?25l  Downloading https://files.pythonhosted.org/packages/0f/39/bdd75b08a6fba41f098b6cb091b9e8c7a80e1b4d679a581a0ccd17b10373/tensorboard-1.13.1-py3-none-any.whl (3.2MB)\n",
            "\u001b[K     |████████████████████████████████| 3.2MB 32.7MB/s \n",
            "\u001b[?25hRequirement already satisfied: grpcio>=1.8.6 in /usr/local/lib/python3.6/dist-packages (from tensorflow-gpu==1.13.1) (1.15.0)\n",
            "Requirement already satisfied: wheel>=0.26 in /usr/local/lib/python3.6/dist-packages (from tensorflow-gpu==1.13.1) (0.33.6)\n",
            "Requirement already satisfied: keras-applications>=1.0.6 in /usr/local/lib/python3.6/dist-packages (from tensorflow-gpu==1.13.1) (1.0.8)\n",
            "Requirement already satisfied: protobuf>=3.6.1 in /usr/local/lib/python3.6/dist-packages (from tensorflow-gpu==1.13.1) (3.7.1)\n",
            "Requirement already satisfied: numpy>=1.13.3 in /usr/local/lib/python3.6/dist-packages (from tensorflow-gpu==1.13.1) (1.16.5)\n",
            "Requirement already satisfied: astor>=0.6.0 in /usr/local/lib/python3.6/dist-packages (from tensorflow-gpu==1.13.1) (0.8.0)\n",
            "Collecting tensorflow-estimator<1.14.0rc0,>=1.13.0 (from tensorflow-gpu==1.13.1)\n",
            "\u001b[?25l  Downloading https://files.pythonhosted.org/packages/bb/48/13f49fc3fa0fdf916aa1419013bb8f2ad09674c275b4046d5ee669a46873/tensorflow_estimator-1.13.0-py2.py3-none-any.whl (367kB)\n",
            "\u001b[K     |████████████████████████████████| 368kB 42.9MB/s \n",
            "\u001b[?25hRequirement already satisfied: absl-py>=0.1.6 in /usr/local/lib/python3.6/dist-packages (from tensorflow-gpu==1.13.1) (0.8.0)\n",
            "Requirement already satisfied: gast>=0.2.0 in /usr/local/lib/python3.6/dist-packages (from tensorflow-gpu==1.13.1) (0.2.2)\n",
            "Requirement already satisfied: six>=1.10.0 in /usr/local/lib/python3.6/dist-packages (from tensorflow-gpu==1.13.1) (1.12.0)\n",
            "Requirement already satisfied: termcolor>=1.1.0 in /usr/local/lib/python3.6/dist-packages (from tensorflow-gpu==1.13.1) (1.1.0)\n",
            "Requirement already satisfied: keras-preprocessing>=1.0.5 in /usr/local/lib/python3.6/dist-packages (from tensorflow-gpu==1.13.1) (1.1.0)\n",
            "Requirement already satisfied: markdown>=2.6.8 in /usr/local/lib/python3.6/dist-packages (from tensorboard<1.14.0,>=1.13.0->tensorflow-gpu==1.13.1) (3.1.1)\n",
            "Requirement already satisfied: werkzeug>=0.11.15 in /usr/local/lib/python3.6/dist-packages (from tensorboard<1.14.0,>=1.13.0->tensorflow-gpu==1.13.1) (0.15.6)\n",
            "Requirement already satisfied: h5py in /usr/local/lib/python3.6/dist-packages (from keras-applications>=1.0.6->tensorflow-gpu==1.13.1) (2.8.0)\n",
            "Requirement already satisfied: setuptools in /usr/local/lib/python3.6/dist-packages (from protobuf>=3.6.1->tensorflow-gpu==1.13.1) (41.2.0)\n",
            "Collecting mock>=2.0.0 (from tensorflow-estimator<1.14.0rc0,>=1.13.0->tensorflow-gpu==1.13.1)\n",
            "  Downloading https://files.pythonhosted.org/packages/05/d2/f94e68be6b17f46d2c353564da56e6fb89ef09faeeff3313a046cb810ca9/mock-3.0.5-py2.py3-none-any.whl\n",
            "\u001b[31mERROR: tensorflow 1.14.0 has requirement tensorboard<1.15.0,>=1.14.0, but you'll have tensorboard 1.13.1 which is incompatible.\u001b[0m\n",
            "\u001b[31mERROR: tensorflow 1.14.0 has requirement tensorflow-estimator<1.15.0rc0,>=1.14.0rc0, but you'll have tensorflow-estimator 1.13.0 which is incompatible.\u001b[0m\n",
            "Installing collected packages: tensorboard, mock, tensorflow-estimator, tensorflow-gpu\n",
            "  Found existing installation: tensorboard 1.14.0\n",
            "    Uninstalling tensorboard-1.14.0:\n",
            "      Successfully uninstalled tensorboard-1.14.0\n",
            "  Found existing installation: tensorflow-estimator 1.14.0\n",
            "    Uninstalling tensorflow-estimator-1.14.0:\n",
            "      Successfully uninstalled tensorflow-estimator-1.14.0\n",
            "Successfully installed mock-3.0.5 tensorboard-1.13.1 tensorflow-estimator-1.13.0 tensorflow-gpu-1.13.1\n"
          ],
          "name": "stdout"
        }
      ]
    },
    {
      "cell_type": "markdown",
      "metadata": {
        "id": "i7guNG2NSYm9",
        "colab_type": "text"
      },
      "source": [
        "## Etapa 2: Importação das bibliotecas"
      ]
    },
    {
      "cell_type": "code",
      "metadata": {
        "id": "p3kH8SQSSA6c",
        "colab_type": "code",
        "outputId": "0b693a31-b4c1-49d0-c1f4-ff24b597a55f",
        "colab": {
          "base_uri": "https://localhost:8080/",
          "height": 34
        }
      },
      "source": [
        "import tensorflow as tf\n",
        "import numpy as np\n",
        "\n",
        "from tensorflow.keras.datasets import fashion_mnist\n",
        "\n",
        "tf.__version__"
      ],
      "execution_count": 0,
      "outputs": [
        {
          "output_type": "execute_result",
          "data": {
            "text/plain": [
              "'1.13.1'"
            ]
          },
          "metadata": {
            "tags": []
          },
          "execution_count": 2
        }
      ]
    },
    {
      "cell_type": "markdown",
      "metadata": {
        "id": "qUemNsucSpTc",
        "colab_type": "text"
      },
      "source": [
        "## Etapa 3: Pré-processamento"
      ]
    },
    {
      "cell_type": "markdown",
      "metadata": {
        "id": "NTxQSWirSs2l",
        "colab_type": "text"
      },
      "source": [
        "### Carregando a base de dados FashionMNIST"
      ]
    },
    {
      "cell_type": "code",
      "metadata": {
        "id": "3s83WwJ2SnDr",
        "colab_type": "code",
        "outputId": "40d27792-6662-416d-ab8d-fc64aac15655",
        "colab": {
          "base_uri": "https://localhost:8080/",
          "height": 153
        }
      },
      "source": [
        "(X_train, y_train), (X_test, y_test) = fashion_mnist.load_data()"
      ],
      "execution_count": 0,
      "outputs": [
        {
          "output_type": "stream",
          "text": [
            "Downloading data from https://storage.googleapis.com/tensorflow/tf-keras-datasets/train-labels-idx1-ubyte.gz\n",
            "32768/29515 [=================================] - 0s 0us/step\n",
            "Downloading data from https://storage.googleapis.com/tensorflow/tf-keras-datasets/train-images-idx3-ubyte.gz\n",
            "26427392/26421880 [==============================] - 0s 0us/step\n",
            "Downloading data from https://storage.googleapis.com/tensorflow/tf-keras-datasets/t10k-labels-idx1-ubyte.gz\n",
            "8192/5148 [===============================================] - 0s 0us/step\n",
            "Downloading data from https://storage.googleapis.com/tensorflow/tf-keras-datasets/t10k-images-idx3-ubyte.gz\n",
            "4423680/4422102 [==============================] - 0s 0us/step\n"
          ],
          "name": "stdout"
        }
      ]
    },
    {
      "cell_type": "markdown",
      "metadata": {
        "id": "4OvP_vFiSwmc",
        "colab_type": "text"
      },
      "source": [
        "### Normalização das imagens"
      ]
    },
    {
      "cell_type": "code",
      "metadata": {
        "id": "rODvuie6Sz06",
        "colab_type": "code",
        "colab": {}
      },
      "source": [
        "X_train = X_train / 255.\n",
        "X_test = X_test / 255."
      ],
      "execution_count": 0,
      "outputs": []
    },
    {
      "cell_type": "markdown",
      "metadata": {
        "id": "hky7XzH3S1sQ",
        "colab_type": "text"
      },
      "source": [
        "### Mudando a dimensionalidade da base de dados"
      ]
    },
    {
      "cell_type": "code",
      "metadata": {
        "id": "aBxZsTPBS4XJ",
        "colab_type": "code",
        "outputId": "33913896-7cb6-4ab2-dfce-ba4e39064ad1",
        "colab": {
          "base_uri": "https://localhost:8080/",
          "height": 34
        }
      },
      "source": [
        "X_train.shape"
      ],
      "execution_count": 0,
      "outputs": [
        {
          "output_type": "execute_result",
          "data": {
            "text/plain": [
              "(60000, 28, 28)"
            ]
          },
          "metadata": {
            "tags": []
          },
          "execution_count": 5
        }
      ]
    },
    {
      "cell_type": "code",
      "metadata": {
        "id": "5rPdViS9T1Xb",
        "colab_type": "code",
        "colab": {}
      },
      "source": [
        "X_train = X_train.reshape(-1, 28*28)\n",
        "X_test = X_test.reshape(-1, 28*28)"
      ],
      "execution_count": 0,
      "outputs": []
    },
    {
      "cell_type": "code",
      "metadata": {
        "id": "Fbmf82l2UH3a",
        "colab_type": "code",
        "outputId": "ce1fff88-3375-49dc-b264-fd8de539673e",
        "colab": {
          "base_uri": "https://localhost:8080/",
          "height": 34
        }
      },
      "source": [
        "X_train.shape"
      ],
      "execution_count": 0,
      "outputs": [
        {
          "output_type": "execute_result",
          "data": {
            "text/plain": [
              "(60000, 784)"
            ]
          },
          "metadata": {
            "tags": []
          },
          "execution_count": 7
        }
      ]
    },
    {
      "cell_type": "markdown",
      "metadata": {
        "id": "o7g7SeZgUWCo",
        "colab_type": "text"
      },
      "source": [
        "## Etapa 4: Construindo o modelo"
      ]
    },
    {
      "cell_type": "markdown",
      "metadata": {
        "id": "HfqQPaYVUY2S",
        "colab_type": "text"
      },
      "source": [
        "### Definindo o modelo"
      ]
    },
    {
      "cell_type": "code",
      "metadata": {
        "id": "db7lvvFXUKe6",
        "colab_type": "code",
        "colab": {}
      },
      "source": [
        "model = tf.keras.models.Sequential()"
      ],
      "execution_count": 0,
      "outputs": []
    },
    {
      "cell_type": "markdown",
      "metadata": {
        "id": "RrwtIwtCUa0g",
        "colab_type": "text"
      },
      "source": [
        "### Construindo o modelo"
      ]
    },
    {
      "cell_type": "code",
      "metadata": {
        "id": "pnSHfe5XUcp1",
        "colab_type": "code",
        "colab": {}
      },
      "source": [
        "model.add(tf.keras.layers.Dense(units=128, activation='relu', input_shape=(784,)))\n",
        "model.add(tf.keras.layers.Dropout(rate=0.2))\n",
        "model.add(tf.keras.layers.Dense(units=10, activation='softmax'))"
      ],
      "execution_count": 0,
      "outputs": []
    },
    {
      "cell_type": "markdown",
      "metadata": {
        "id": "Ed_YGh-5UdL3",
        "colab_type": "text"
      },
      "source": [
        "### Compilando o modelo"
      ]
    },
    {
      "cell_type": "code",
      "metadata": {
        "id": "pDnN_VdBhH_t",
        "colab_type": "code",
        "outputId": "bc74a339-e23e-48e6-b1ea-3209805430a1",
        "colab": {
          "base_uri": "https://localhost:8080/",
          "height": 34
        }
      },
      "source": [
        "y_test"
      ],
      "execution_count": 0,
      "outputs": [
        {
          "output_type": "execute_result",
          "data": {
            "text/plain": [
              "array([9, 2, 1, ..., 8, 1, 5], dtype=uint8)"
            ]
          },
          "metadata": {
            "tags": []
          },
          "execution_count": 12
        }
      ]
    },
    {
      "cell_type": "code",
      "metadata": {
        "id": "JZVOTYQXUgC5",
        "colab_type": "code",
        "colab": {}
      },
      "source": [
        "model.compile(optimizer='adam', loss='sparse_categorical_crossentropy', metrics=['sparse_categorical_accuracy'])"
      ],
      "execution_count": 0,
      "outputs": []
    },
    {
      "cell_type": "markdown",
      "metadata": {
        "id": "ZnV-v8ooWXPw",
        "colab_type": "text"
      },
      "source": [
        "### Treinando o modelo"
      ]
    },
    {
      "cell_type": "code",
      "metadata": {
        "id": "oZnrU1MHVB4b",
        "colab_type": "code",
        "outputId": "2e76ebf4-51d5-46f1-b97f-497a50524f38",
        "colab": {
          "base_uri": "https://localhost:8080/",
          "height": 204
        }
      },
      "source": [
        "model.fit(X_train, y_train, epochs=5)"
      ],
      "execution_count": 0,
      "outputs": [
        {
          "output_type": "stream",
          "text": [
            "Epoch 1/5\n",
            "60000/60000 [==============================] - 12s 198us/sample - loss: 1.3389 - sparse_categorical_accuracy: 0.4173\n",
            "Epoch 2/5\n",
            "60000/60000 [==============================] - 11s 182us/sample - loss: 0.7342 - sparse_categorical_accuracy: 0.6905\n",
            "Epoch 3/5\n",
            "60000/60000 [==============================] - 11s 185us/sample - loss: 0.5065 - sparse_categorical_accuracy: 0.8270\n",
            "Epoch 4/5\n",
            "60000/60000 [==============================] - 11s 189us/sample - loss: 0.4513 - sparse_categorical_accuracy: 0.8443\n",
            "Epoch 5/5\n",
            "60000/60000 [==============================] - 11s 187us/sample - loss: 0.4211 - sparse_categorical_accuracy: 0.8569\n"
          ],
          "name": "stdout"
        },
        {
          "output_type": "execute_result",
          "data": {
            "text/plain": [
              "<tensorflow.python.keras.callbacks.History at 0x7fb70bf178d0>"
            ]
          },
          "metadata": {
            "tags": []
          },
          "execution_count": 14
        }
      ]
    },
    {
      "cell_type": "markdown",
      "metadata": {
        "id": "P2GalF1WWZDk",
        "colab_type": "text"
      },
      "source": [
        "### Avaliando o modelo"
      ]
    },
    {
      "cell_type": "code",
      "metadata": {
        "id": "zUO2saLWWa3q",
        "colab_type": "code",
        "outputId": "ad66ebd9-7b6d-4c30-fd47-2f237611a36d",
        "colab": {
          "base_uri": "https://localhost:8080/",
          "height": 51
        }
      },
      "source": [
        "test_loss, test_accuracy = model.evaluate(X_test, y_test)\n",
        "print(\"Test accuracy: {}\".format(test_accuracy))"
      ],
      "execution_count": 0,
      "outputs": [
        {
          "output_type": "stream",
          "text": [
            "10000/10000 [==============================] - 1s 77us/sample - loss: 0.4108 - sparse_categorical_accuracy: 0.8569\n",
            "Test accuracy: 0.8568999767303467\n"
          ],
          "name": "stdout"
        }
      ]
    },
    {
      "cell_type": "markdown",
      "metadata": {
        "id": "AV_Vnn1IXbUN",
        "colab_type": "text"
      },
      "source": [
        "## Etapa 5: Convertendo o modelo para o TensorFlow Lite"
      ]
    },
    {
      "cell_type": "markdown",
      "metadata": {
        "id": "bw6WoYDeXhA4",
        "colab_type": "text"
      },
      "source": [
        "### Salvando o modelo"
      ]
    },
    {
      "cell_type": "code",
      "metadata": {
        "id": "-Oa-J6Vwi2oo",
        "colab_type": "code",
        "colab": {}
      },
      "source": [
        "model_name = \"fashion_mobile_model.h5\"\n",
        "tf.keras.models.save_model(model, model_name)"
      ],
      "execution_count": 0,
      "outputs": []
    },
    {
      "cell_type": "markdown",
      "metadata": {
        "id": "Bvz3KYQWYKe2",
        "colab_type": "text"
      },
      "source": [
        "### Criando o TFLite Converter"
      ]
    },
    {
      "cell_type": "code",
      "metadata": {
        "id": "H4AMOVmSjrZ6",
        "colab_type": "code",
        "outputId": "bb76ec1c-277d-4c84-f554-4ef765d433f7",
        "colab": {
          "base_uri": "https://localhost:8080/",
          "height": 51
        }
      },
      "source": [
        "converter = tf.lite.TFLiteConverter.from_keras_model_file(model_name)"
      ],
      "execution_count": 0,
      "outputs": [
        {
          "output_type": "stream",
          "text": [
            "INFO:tensorflow:Froze 12 variables.\n",
            "INFO:tensorflow:Converted 12 variables to const ops.\n"
          ],
          "name": "stdout"
        }
      ]
    },
    {
      "cell_type": "markdown",
      "metadata": {
        "id": "R2kkEO_bZbcI",
        "colab_type": "text"
      },
      "source": [
        "### Convertendo o modelo"
      ]
    },
    {
      "cell_type": "code",
      "metadata": {
        "id": "JxIx4SgdkYCp",
        "colab_type": "code",
        "colab": {}
      },
      "source": [
        "tflite_model = converter.convert()"
      ],
      "execution_count": 0,
      "outputs": []
    },
    {
      "cell_type": "markdown",
      "metadata": {
        "id": "dXHT978hZzX3",
        "colab_type": "text"
      },
      "source": [
        "### Salvando a versão TFLite"
      ]
    },
    {
      "cell_type": "code",
      "metadata": {
        "id": "UnFhSof_k4vd",
        "colab_type": "code",
        "colab": {}
      },
      "source": [
        "with open(\"tflite_model\", \"wb\") as f:\n",
        "  f.write(tflite_model)"
      ],
      "execution_count": 0,
      "outputs": []
    }
  ]
}