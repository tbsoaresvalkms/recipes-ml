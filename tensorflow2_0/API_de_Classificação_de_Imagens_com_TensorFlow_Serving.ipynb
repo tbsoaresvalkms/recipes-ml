{
  "nbformat": 4,
  "nbformat_minor": 0,
  "metadata": {
    "colab": {
      "name": "API de Classificação de Imagens com TensorFlow Serving.ipynb",
      "provenance": [],
      "collapsed_sections": []
    },
    "kernelspec": {
      "name": "python3",
      "display_name": "Python 3"
    },
    "accelerator": "GPU"
  },
  "cells": [
    {
      "cell_type": "markdown",
      "metadata": {
        "id": "yCrzPgLp7W1h",
        "colab_type": "text"
      },
      "source": [
        "## Etapa 1: Instalação das bibliotecas"
      ]
    },
    {
      "cell_type": "code",
      "metadata": {
        "id": "w0KGbZuk7T7F",
        "colab_type": "code",
        "outputId": "b89b64c7-ece0-4044-de73-f7dd6f12aba6",
        "colab": {
          "base_uri": "https://localhost:8080/",
          "height": 102
        }
      },
      "source": [
        "!echo \"deb [arch=amd64] http://storage.googleapis.com/tensorflow-serving-apt stable tensorflow-model-server tensorflow-model-server-universal\" | sudo tee /etc/apt/sources.list.d/tensorflow-serving.list && curl https://storage.googleapis.com/tensorflow-serving-apt/tensorflow-serving.release.pub.gpg | sudo apt-key add -"
      ],
      "execution_count": 0,
      "outputs": [
        {
          "output_type": "stream",
          "text": [
            "deb [arch=amd64] http://storage.googleapis.com/tensorflow-serving-apt stable tensorflow-model-server tensorflow-model-server-universal\n",
            "  % Total    % Received % Xferd  Average Speed   Time    Time     Time  Current\n",
            "                                 Dload  Upload   Total   Spent    Left  Speed\n",
            "\r  0     0    0     0    0     0      0      0 --:--:-- --:--:-- --:--:--     0\r  0     0    0     0    0     0      0      0 --:--:-- --:--:-- --:--:--     0\r100  2943  100  2943    0     0   7040      0 --:--:-- --:--:-- --:--:--  7023\n",
            "OK\n"
          ],
          "name": "stdout"
        }
      ]
    },
    {
      "cell_type": "code",
      "metadata": {
        "id": "-AoEpKnD94Lj",
        "colab_type": "code",
        "outputId": "5c4944f5-4ba5-4651-976e-428a7534f01f",
        "colab": {
          "base_uri": "https://localhost:8080/",
          "height": 102
        }
      },
      "source": [
        "!apt-get install tensorflow-model-server"
      ],
      "execution_count": 0,
      "outputs": [
        {
          "output_type": "stream",
          "text": [
            "Reading package lists... Done\n",
            "Building dependency tree       \n",
            "Reading state information... Done\n",
            "tensorflow-model-server is already the newest version (1.14.0).\n",
            "0 upgraded, 0 newly installed, 0 to remove and 107 not upgraded.\n"
          ],
          "name": "stdout"
        }
      ]
    },
    {
      "cell_type": "code",
      "metadata": {
        "id": "a1cAehxr-M9p",
        "colab_type": "code",
        "outputId": "69d9222d-a535-4393-dce0-21631b3fa721",
        "colab": {
          "base_uri": "https://localhost:8080/",
          "height": 360
        }
      },
      "source": [
        "!pip install tensorflow-gpu==1.13.1"
      ],
      "execution_count": 0,
      "outputs": [
        {
          "output_type": "stream",
          "text": [
            "Requirement already satisfied: tensorflow-gpu==1.13.1 in /usr/local/lib/python3.6/dist-packages (1.13.1)\n",
            "Requirement already satisfied: absl-py>=0.1.6 in /usr/local/lib/python3.6/dist-packages (from tensorflow-gpu==1.13.1) (0.8.0)\n",
            "Requirement already satisfied: gast>=0.2.0 in /usr/local/lib/python3.6/dist-packages (from tensorflow-gpu==1.13.1) (0.2.2)\n",
            "Requirement already satisfied: termcolor>=1.1.0 in /usr/local/lib/python3.6/dist-packages (from tensorflow-gpu==1.13.1) (1.1.0)\n",
            "Requirement already satisfied: grpcio>=1.8.6 in /usr/local/lib/python3.6/dist-packages (from tensorflow-gpu==1.13.1) (1.15.0)\n",
            "Requirement already satisfied: wheel>=0.26 in /usr/local/lib/python3.6/dist-packages (from tensorflow-gpu==1.13.1) (0.33.6)\n",
            "Requirement already satisfied: astor>=0.6.0 in /usr/local/lib/python3.6/dist-packages (from tensorflow-gpu==1.13.1) (0.8.0)\n",
            "Requirement already satisfied: tensorflow-estimator<1.14.0rc0,>=1.13.0 in /usr/local/lib/python3.6/dist-packages (from tensorflow-gpu==1.13.1) (1.13.0)\n",
            "Requirement already satisfied: six>=1.10.0 in /usr/local/lib/python3.6/dist-packages (from tensorflow-gpu==1.13.1) (1.12.0)\n",
            "Requirement already satisfied: protobuf>=3.6.1 in /usr/local/lib/python3.6/dist-packages (from tensorflow-gpu==1.13.1) (3.7.1)\n",
            "Requirement already satisfied: keras-preprocessing>=1.0.5 in /usr/local/lib/python3.6/dist-packages (from tensorflow-gpu==1.13.1) (1.1.0)\n",
            "Requirement already satisfied: numpy>=1.13.3 in /usr/local/lib/python3.6/dist-packages (from tensorflow-gpu==1.13.1) (1.16.5)\n",
            "Requirement already satisfied: tensorboard<1.14.0,>=1.13.0 in /usr/local/lib/python3.6/dist-packages (from tensorflow-gpu==1.13.1) (1.13.1)\n",
            "Requirement already satisfied: keras-applications>=1.0.6 in /usr/local/lib/python3.6/dist-packages (from tensorflow-gpu==1.13.1) (1.0.8)\n",
            "Requirement already satisfied: mock>=2.0.0 in /usr/local/lib/python3.6/dist-packages (from tensorflow-estimator<1.14.0rc0,>=1.13.0->tensorflow-gpu==1.13.1) (3.0.5)\n",
            "Requirement already satisfied: setuptools in /usr/local/lib/python3.6/dist-packages (from protobuf>=3.6.1->tensorflow-gpu==1.13.1) (41.2.0)\n",
            "Requirement already satisfied: werkzeug>=0.11.15 in /usr/local/lib/python3.6/dist-packages (from tensorboard<1.14.0,>=1.13.0->tensorflow-gpu==1.13.1) (0.15.6)\n",
            "Requirement already satisfied: markdown>=2.6.8 in /usr/local/lib/python3.6/dist-packages (from tensorboard<1.14.0,>=1.13.0->tensorflow-gpu==1.13.1) (3.1.1)\n",
            "Requirement already satisfied: h5py in /usr/local/lib/python3.6/dist-packages (from keras-applications>=1.0.6->tensorflow-gpu==1.13.1) (2.8.0)\n"
          ],
          "name": "stdout"
        }
      ]
    },
    {
      "cell_type": "code",
      "metadata": {
        "id": "zfxOPCl7-Wp7",
        "colab_type": "code",
        "outputId": "ee8beb2d-d727-4af0-d123-e6399709be23",
        "colab": {
          "base_uri": "https://localhost:8080/",
          "height": 102
        }
      },
      "source": [
        "!pip install requests"
      ],
      "execution_count": 0,
      "outputs": [
        {
          "output_type": "stream",
          "text": [
            "Requirement already satisfied: requests in /usr/local/lib/python3.6/dist-packages (2.21.0)\n",
            "Requirement already satisfied: urllib3<1.25,>=1.21.1 in /usr/local/lib/python3.6/dist-packages (from requests) (1.24.3)\n",
            "Requirement already satisfied: certifi>=2017.4.17 in /usr/local/lib/python3.6/dist-packages (from requests) (2019.6.16)\n",
            "Requirement already satisfied: idna<2.9,>=2.5 in /usr/local/lib/python3.6/dist-packages (from requests) (2.8)\n",
            "Requirement already satisfied: chardet<3.1.0,>=3.0.2 in /usr/local/lib/python3.6/dist-packages (from requests) (3.0.4)\n"
          ],
          "name": "stdout"
        }
      ]
    },
    {
      "cell_type": "markdown",
      "metadata": {
        "id": "qsgbM_R2-ud_",
        "colab_type": "text"
      },
      "source": [
        "## Etapa 2: Importação das bibliotecas"
      ]
    },
    {
      "cell_type": "code",
      "metadata": {
        "id": "Y3taHerg-nkS",
        "colab_type": "code",
        "outputId": "985b27b7-c290-4f31-e769-768e7c7be690",
        "colab": {
          "base_uri": "https://localhost:8080/",
          "height": 34
        }
      },
      "source": [
        "import os\n",
        "import json\n",
        "import random\n",
        "import requests\n",
        "import subprocess\n",
        "import numpy as np\n",
        "import tensorflow as tf\n",
        "import matplotlib.pyplot as plt\n",
        "\n",
        "from tensorflow.keras.datasets import cifar10\n",
        "\n",
        "%matplotlib inline\n",
        "tf.__version__"
      ],
      "execution_count": 0,
      "outputs": [
        {
          "output_type": "execute_result",
          "data": {
            "text/plain": [
              "'1.13.1'"
            ]
          },
          "metadata": {
            "tags": []
          },
          "execution_count": 5
        }
      ]
    },
    {
      "cell_type": "markdown",
      "metadata": {
        "id": "90mWV1g6_TSt",
        "colab_type": "text"
      },
      "source": [
        "## Etapa 3: Pré-processamento"
      ]
    },
    {
      "cell_type": "markdown",
      "metadata": {
        "id": "dJsURBeA_XEe",
        "colab_type": "text"
      },
      "source": [
        "### Carregando a base de dados"
      ]
    },
    {
      "cell_type": "code",
      "metadata": {
        "id": "zj89bRDaYV2c",
        "colab_type": "code",
        "colab": {}
      },
      "source": [
        "(X_train, y_train), (X_test, y_test) = cifar10.load_data()"
      ],
      "execution_count": 0,
      "outputs": []
    },
    {
      "cell_type": "code",
      "metadata": {
        "id": "OqQV6E-vYcbh",
        "colab_type": "code",
        "colab": {}
      },
      "source": [
        "class_names = ['airplane', 'automobile', 'bird', 'cat', 'deer', 'dog', 'frog', 'horse', 'ship', 'truck']"
      ],
      "execution_count": 0,
      "outputs": []
    },
    {
      "cell_type": "markdown",
      "metadata": {
        "id": "B_adA5GI_ZGK",
        "colab_type": "text"
      },
      "source": [
        "### Normalização das imagens"
      ]
    },
    {
      "cell_type": "code",
      "metadata": {
        "id": "pTFerN2jYrRk",
        "colab_type": "code",
        "colab": {}
      },
      "source": [
        "X_train = X_train / 255.0\n",
        "X_test = X_test / 255.0"
      ],
      "execution_count": 0,
      "outputs": []
    },
    {
      "cell_type": "code",
      "metadata": {
        "id": "kWyXhqtQYxjC",
        "colab_type": "code",
        "outputId": "f4ca9e6b-52da-42f0-e0d4-d9b08b88fb6f",
        "colab": {
          "base_uri": "https://localhost:8080/",
          "height": 34
        }
      },
      "source": [
        "X_train.shape"
      ],
      "execution_count": 0,
      "outputs": [
        {
          "output_type": "execute_result",
          "data": {
            "text/plain": [
              "(50000, 32, 32, 3)"
            ]
          },
          "metadata": {
            "tags": []
          },
          "execution_count": 9
        }
      ]
    },
    {
      "cell_type": "code",
      "metadata": {
        "id": "UsvVsl5UbY5x",
        "colab_type": "code",
        "outputId": "0086ff1c-d1e9-44e4-ebaa-92efca6d2177",
        "colab": {
          "base_uri": "https://localhost:8080/",
          "height": 34
        }
      },
      "source": [
        "X_test.shape"
      ],
      "execution_count": 0,
      "outputs": [
        {
          "output_type": "execute_result",
          "data": {
            "text/plain": [
              "(10000, 32, 32, 3)"
            ]
          },
          "metadata": {
            "tags": []
          },
          "execution_count": 10
        }
      ]
    },
    {
      "cell_type": "code",
      "metadata": {
        "id": "kKBLdF7W9LHS",
        "colab_type": "code",
        "outputId": "98b26d50-70b0-485f-9f5d-b0600dbe3f39",
        "colab": {
          "base_uri": "https://localhost:8080/",
          "height": 136
        }
      },
      "source": [
        "y_test"
      ],
      "execution_count": 0,
      "outputs": [
        {
          "output_type": "execute_result",
          "data": {
            "text/plain": [
              "array([[3],\n",
              "       [8],\n",
              "       [8],\n",
              "       ...,\n",
              "       [5],\n",
              "       [1],\n",
              "       [7]])"
            ]
          },
          "metadata": {
            "tags": []
          },
          "execution_count": 11
        }
      ]
    },
    {
      "cell_type": "markdown",
      "metadata": {
        "id": "HO6nL_9sBLPo",
        "colab_type": "text"
      },
      "source": [
        "## Etapa 4: Definição do modelo\n",
        "\n",
        "NOTA: Estamos usando o mesmo modelo da seção sobre Redes Neurais Convolucionais"
      ]
    },
    {
      "cell_type": "code",
      "metadata": {
        "id": "FHyAvU8OA_aq",
        "colab_type": "code",
        "colab": {}
      },
      "source": [
        "model = tf.keras.models.Sequential()\n",
        "model.add(tf.keras.layers.Conv2D(filters=32, kernel_size=3, padding=\"same\", activation=\"relu\", input_shape=[32, 32, 3]))\n",
        "model.add(tf.keras.layers.Conv2D(filters=32, kernel_size=3, padding=\"same\", activation=\"relu\"))\n",
        "model.add(tf.keras.layers.MaxPool2D(pool_size=2, strides=2, padding='valid'))\n",
        "model.add(tf.keras.layers.Conv2D(filters=64, kernel_size=3, padding=\"same\", activation=\"relu\"))\n",
        "model.add(tf.keras.layers.Conv2D(filters=64, kernel_size=3, padding=\"same\", activation=\"relu\"))\n",
        "model.add(tf.keras.layers.MaxPool2D(pool_size=2, strides=2, padding='valid'))\n",
        "model.add(tf.keras.layers.Flatten())\n",
        "model.add(tf.keras.layers.Dense(units=128, activation='relu'))\n",
        "model.add(tf.keras.layers.Dense(units=10, activation='softmax'))"
      ],
      "execution_count": 0,
      "outputs": []
    },
    {
      "cell_type": "markdown",
      "metadata": {
        "id": "J-7vFhykBgMj",
        "colab_type": "text"
      },
      "source": [
        "### Compilando o modelo"
      ]
    },
    {
      "cell_type": "code",
      "metadata": {
        "id": "5nqrVFn3BkeS",
        "colab_type": "code",
        "colab": {}
      },
      "source": [
        "model.compile(optimizer='Adam', \n",
        "              loss='sparse_categorical_crossentropy', \n",
        "              metrics=['sparse_categorical_accuracy'])"
      ],
      "execution_count": 0,
      "outputs": []
    },
    {
      "cell_type": "markdown",
      "metadata": {
        "id": "JJ1X_hgBBmx9",
        "colab_type": "text"
      },
      "source": [
        "### Treinando o modelo"
      ]
    },
    {
      "cell_type": "code",
      "metadata": {
        "id": "I7FSeHUkBpUq",
        "colab_type": "code",
        "outputId": "896e6bf8-6cbc-4e13-e5d5-7fc1520a34c1",
        "colab": {
          "base_uri": "https://localhost:8080/",
          "height": 374
        }
      },
      "source": [
        "model.fit(X_train, \n",
        "          y_train, \n",
        "          batch_size=128, \n",
        "          epochs=10)"
      ],
      "execution_count": 0,
      "outputs": [
        {
          "output_type": "stream",
          "text": [
            "Epoch 1/10\n",
            "50000/50000 [==============================] - 12s 249us/sample - loss: 1.4954 - sparse_categorical_accuracy: 0.4616\n",
            "Epoch 2/10\n",
            "50000/50000 [==============================] - 11s 222us/sample - loss: 1.0436 - sparse_categorical_accuracy: 0.6316\n",
            "Epoch 3/10\n",
            "50000/50000 [==============================] - 11s 217us/sample - loss: 0.8507 - sparse_categorical_accuracy: 0.7019\n",
            "Epoch 4/10\n",
            "50000/50000 [==============================] - 11s 216us/sample - loss: 0.7289 - sparse_categorical_accuracy: 0.7467\n",
            "Epoch 5/10\n",
            "50000/50000 [==============================] - 11s 217us/sample - loss: 0.6350 - sparse_categorical_accuracy: 0.7802\n",
            "Epoch 6/10\n",
            "50000/50000 [==============================] - 11s 218us/sample - loss: 0.5519 - sparse_categorical_accuracy: 0.8070\n",
            "Epoch 7/10\n",
            "50000/50000 [==============================] - 11s 214us/sample - loss: 0.4698 - sparse_categorical_accuracy: 0.8347\n",
            "Epoch 8/10\n",
            "50000/50000 [==============================] - 11s 216us/sample - loss: 0.3985 - sparse_categorical_accuracy: 0.8617\n",
            "Epoch 9/10\n",
            "50000/50000 [==============================] - 11s 215us/sample - loss: 0.3311 - sparse_categorical_accuracy: 0.8852\n",
            "Epoch 10/10\n",
            "50000/50000 [==============================] - 11s 216us/sample - loss: 0.2696 - sparse_categorical_accuracy: 0.9049\n"
          ],
          "name": "stdout"
        },
        {
          "output_type": "execute_result",
          "data": {
            "text/plain": [
              "<tensorflow.python.keras.callbacks.History at 0x7fd0d33033c8>"
            ]
          },
          "metadata": {
            "tags": []
          },
          "execution_count": 15
        }
      ]
    },
    {
      "cell_type": "markdown",
      "metadata": {
        "id": "g6k_gnv5BqdT",
        "colab_type": "text"
      },
      "source": [
        "### Avaliação do modelo"
      ]
    },
    {
      "cell_type": "code",
      "metadata": {
        "id": "l0nHalVeBtAy",
        "colab_type": "code",
        "outputId": "f88bfb5d-5c54-431c-b127-8ad0f7cc8525",
        "colab": {
          "base_uri": "https://localhost:8080/",
          "height": 34
        }
      },
      "source": [
        "test_loss, test_accuracy = model.evaluate(X_test, y_test)"
      ],
      "execution_count": 0,
      "outputs": [
        {
          "output_type": "stream",
          "text": [
            "10000/10000 [==============================] - 2s 170us/sample - loss: 0.9174 - sparse_categorical_accuracy: 0.7503\n"
          ],
          "name": "stdout"
        }
      ]
    },
    {
      "cell_type": "code",
      "metadata": {
        "id": "u9q7jsTuBuxT",
        "colab_type": "code",
        "outputId": "0c2437b8-1d98-4f1d-8a3f-c89fa5756574",
        "colab": {
          "base_uri": "https://localhost:8080/",
          "height": 34
        }
      },
      "source": [
        "print(\"Test accuracy is {}\".format(test_accuracy))"
      ],
      "execution_count": 0,
      "outputs": [
        {
          "output_type": "stream",
          "text": [
            "Test accuracy is 0.7502999901771545\n"
          ],
          "name": "stdout"
        }
      ]
    },
    {
      "cell_type": "markdown",
      "metadata": {
        "id": "945L3-2rDjFe",
        "colab_type": "text"
      },
      "source": [
        "## Etapa 5: Salvando o modelo para produção"
      ]
    },
    {
      "cell_type": "markdown",
      "metadata": {
        "id": "5a5uCiniDmgY",
        "colab_type": "text"
      },
      "source": [
        "### Criando o diretório para o modelo"
      ]
    },
    {
      "cell_type": "code",
      "metadata": {
        "id": "AWLAkNt1-SaC",
        "colab_type": "code",
        "colab": {}
      },
      "source": [
        "model_dir = \"model/\"\n",
        "version = 1"
      ],
      "execution_count": 0,
      "outputs": []
    },
    {
      "cell_type": "code",
      "metadata": {
        "id": "sl5eFF4K-a0C",
        "colab_type": "code",
        "outputId": "edd39d27-c6f3-4015-db2a-4f1d213f05db",
        "colab": {
          "base_uri": "https://localhost:8080/",
          "height": 34
        }
      },
      "source": [
        "export_path = os.path.join(model_dir, str(version))\n",
        "export_path"
      ],
      "execution_count": 0,
      "outputs": [
        {
          "output_type": "execute_result",
          "data": {
            "text/plain": [
              "'model/1'"
            ]
          },
          "metadata": {
            "tags": []
          },
          "execution_count": 19
        }
      ]
    },
    {
      "cell_type": "code",
      "metadata": {
        "id": "PuITmRAc-mQT",
        "colab_type": "code",
        "colab": {}
      },
      "source": [
        "if os.path.isdir(export_path):\n",
        "  !rm -r {export_path}"
      ],
      "execution_count": 0,
      "outputs": []
    },
    {
      "cell_type": "markdown",
      "metadata": {
        "id": "0RA2HuIUDrDQ",
        "colab_type": "text"
      },
      "source": [
        "### Salvando o modelo para o TensorFlow Serving"
      ]
    },
    {
      "cell_type": "code",
      "metadata": {
        "id": "V3vO0Hqc_W2h",
        "colab_type": "code",
        "outputId": "c32f875b-532d-43ef-bd01-c68586d6f11d",
        "colab": {
          "base_uri": "https://localhost:8080/",
          "height": 34
        }
      },
      "source": [
        "model.input"
      ],
      "execution_count": 0,
      "outputs": [
        {
          "output_type": "execute_result",
          "data": {
            "text/plain": [
              "<tf.Tensor 'conv2d_4_input:0' shape=(?, 32, 32, 3) dtype=float32>"
            ]
          },
          "metadata": {
            "tags": []
          },
          "execution_count": 21
        }
      ]
    },
    {
      "cell_type": "code",
      "metadata": {
        "id": "LZ2VMaPH_t6a",
        "colab_type": "code",
        "outputId": "b6c4dcc7-3b78-462f-aaec-11dfd2c095fe",
        "colab": {
          "base_uri": "https://localhost:8080/",
          "height": 34
        }
      },
      "source": [
        "model.outputs"
      ],
      "execution_count": 0,
      "outputs": [
        {
          "output_type": "execute_result",
          "data": {
            "text/plain": [
              "[<tf.Tensor 'dense_3/Softmax:0' shape=(?, 10) dtype=float32>]"
            ]
          },
          "metadata": {
            "tags": []
          },
          "execution_count": 22
        }
      ]
    },
    {
      "cell_type": "code",
      "metadata": {
        "id": "O0G_Xdy3_5Dd",
        "colab_type": "code",
        "colab": {}
      },
      "source": [
        "o = {t.name: t for t in model.outputs}"
      ],
      "execution_count": 0,
      "outputs": []
    },
    {
      "cell_type": "code",
      "metadata": {
        "id": "SuWVEFKi_8nr",
        "colab_type": "code",
        "outputId": "0d3ab9db-c13c-449c-f874-3811c793b61b",
        "colab": {
          "base_uri": "https://localhost:8080/",
          "height": 34
        }
      },
      "source": [
        "o"
      ],
      "execution_count": 0,
      "outputs": [
        {
          "output_type": "execute_result",
          "data": {
            "text/plain": [
              "{'dense_3/Softmax:0': <tf.Tensor 'dense_3/Softmax:0' shape=(?, 10) dtype=float32>}"
            ]
          },
          "metadata": {
            "tags": []
          },
          "execution_count": 24
        }
      ]
    },
    {
      "cell_type": "code",
      "metadata": {
        "id": "hpiYG5Do-5vp",
        "colab_type": "code",
        "outputId": "054019e4-a754-4ac5-ee16-cb01f77a06d2",
        "colab": {
          "base_uri": "https://localhost:8080/",
          "height": 190
        }
      },
      "source": [
        "tf.saved_model.simple_save(tf.keras.backend.get_session(), export_dir = export_path,\n",
        "                           inputs = {\"input_image\": model.input},\n",
        "                           outputs = {t.name: t for t in model.outputs})"
      ],
      "execution_count": 0,
      "outputs": [
        {
          "output_type": "stream",
          "text": [
            "WARNING:tensorflow:From <ipython-input-25-89facc26b84a>:3: simple_save (from tensorflow.python.saved_model.simple_save) is deprecated and will be removed in a future version.\n",
            "Instructions for updating:\n",
            "This function will only be available through the v1 compatibility library as tf.compat.v1.saved_model.simple_save.\n",
            "WARNING:tensorflow:From /usr/local/lib/python3.6/dist-packages/tensorflow/python/saved_model/signature_def_utils_impl.py:205: build_tensor_info (from tensorflow.python.saved_model.utils_impl) is deprecated and will be removed in a future version.\n",
            "Instructions for updating:\n",
            "This function will only be available through the v1 compatibility library as tf.compat.v1.saved_model.utils.build_tensor_info or tf.compat.v1.saved_model.build_tensor_info.\n",
            "INFO:tensorflow:Assets added to graph.\n",
            "INFO:tensorflow:No assets to write.\n",
            "INFO:tensorflow:SavedModel written to: model/1/saved_model.pb\n"
          ],
          "name": "stdout"
        }
      ]
    },
    {
      "cell_type": "markdown",
      "metadata": {
        "id": "1o8BlXcBFvIm",
        "colab_type": "text"
      },
      "source": [
        "## Etapa 6: Configuração do ambiente de produção"
      ]
    },
    {
      "cell_type": "markdown",
      "metadata": {
        "id": "rSFWzxOrF0ft",
        "colab_type": "text"
      },
      "source": [
        "### Exportando o MODEL_DIR para as variáveis de ambiente"
      ]
    },
    {
      "cell_type": "code",
      "metadata": {
        "id": "Gt_EZ4IEB0IU",
        "colab_type": "code",
        "colab": {}
      },
      "source": [
        "os.environ[\"model_dir\"] = os.path.abspath(model_dir)"
      ],
      "execution_count": 0,
      "outputs": []
    },
    {
      "cell_type": "markdown",
      "metadata": {
        "id": "8TXejqj5F5oj",
        "colab_type": "text"
      },
      "source": [
        "### Executando a API TensorFlow Serving REST"
      ]
    },
    {
      "cell_type": "code",
      "metadata": {
        "id": "Pln1AJHKCPt6",
        "colab_type": "code",
        "outputId": "6d17c282-0b21-41fa-d38d-097d3680faf4",
        "colab": {
          "base_uri": "https://localhost:8080/",
          "height": 34
        }
      },
      "source": [
        "%%bash --bg\n",
        "nohup tensorflow_model_server --rest_api_port=8501 --model_name=cifar10 --model_base_path=\"${model_dir}\" >server.log 2>&1"
      ],
      "execution_count": 0,
      "outputs": [
        {
          "output_type": "stream",
          "text": [
            "Starting job # 0 in a separate thread.\n"
          ],
          "name": "stdout"
        }
      ]
    },
    {
      "cell_type": "code",
      "metadata": {
        "id": "JrDmb-50DByK",
        "colab_type": "code",
        "outputId": "401413cf-4bea-4c38-9d13-1a1cfc0a3ef5",
        "colab": {
          "base_uri": "https://localhost:8080/",
          "height": 207
        }
      },
      "source": [
        "!tail server.log"
      ],
      "execution_count": 0,
      "outputs": [
        {
          "output_type": "stream",
          "text": [
            "2019-09-18 21:17:28.054345: I external/org_tensorflow/tensorflow/cc/saved_model/reader.cc:31] Reading SavedModel from: /content/model/1\n",
            "2019-09-18 21:17:28.058065: I external/org_tensorflow/tensorflow/cc/saved_model/reader.cc:54] Reading meta graph with tags { serve }\n",
            "2019-09-18 21:17:28.061393: I external/org_tensorflow/tensorflow/core/platform/cpu_feature_guard.cc:142] Your CPU supports instructions that this TensorFlow binary was not compiled to use: AVX2 FMA\n",
            "2019-09-18 21:17:28.082780: I external/org_tensorflow/tensorflow/cc/saved_model/loader.cc:202] Restoring SavedModel bundle.\n",
            "2019-09-18 21:17:28.130135: I external/org_tensorflow/tensorflow/cc/saved_model/loader.cc:311] SavedModel load for tags { serve }; Status: success. Took 75781 microseconds.\n",
            "2019-09-18 21:17:28.130197: I tensorflow_serving/servables/tensorflow/saved_model_warmup.cc:103] No warmup data file found at /content/model/1/assets.extra/tf_serving_warmup_requests\n",
            "2019-09-18 21:17:28.130299: I tensorflow_serving/core/loader_harness.cc:86] Successfully loaded servable version {name: cifar10 version: 1}\n",
            "2019-09-18 21:17:28.131466: I tensorflow_serving/model_servers/server.cc:324] Running gRPC ModelServer at 0.0.0.0:8500 ...\n",
            "[warn] getaddrinfo: address family for nodename not supported\n",
            "[evhttp_server.cc : 224] RAW: Couldn't bind to port 8501\n"
          ],
          "name": "stdout"
        }
      ]
    },
    {
      "cell_type": "markdown",
      "metadata": {
        "id": "ICEqKpKUOC2F",
        "colab_type": "text"
      },
      "source": [
        "## Etapa 7: Criando a primeira requisição POST"
      ]
    },
    {
      "cell_type": "code",
      "metadata": {
        "id": "blrM1Sg8IEGf",
        "colab_type": "code",
        "colab": {}
      },
      "source": [
        "random_image = np.random.randint(0, len(X_test))"
      ],
      "execution_count": 0,
      "outputs": []
    },
    {
      "cell_type": "code",
      "metadata": {
        "id": "VPQf6ZwxIM4L",
        "colab_type": "code",
        "outputId": "e7606e1a-67c1-489f-d2f1-efb9c5f2aba8",
        "colab": {
          "base_uri": "https://localhost:8080/",
          "height": 34
        }
      },
      "source": [
        "random_image"
      ],
      "execution_count": 0,
      "outputs": [
        {
          "output_type": "execute_result",
          "data": {
            "text/plain": [
              "3337"
            ]
          },
          "metadata": {
            "tags": []
          },
          "execution_count": 30
        }
      ]
    },
    {
      "cell_type": "markdown",
      "metadata": {
        "id": "tqOfIBMNOK8p",
        "colab_type": "text"
      },
      "source": [
        "### Criando o objeto JSON"
      ]
    },
    {
      "cell_type": "code",
      "metadata": {
        "id": "F1VAGjNYIXNJ",
        "colab_type": "code",
        "colab": {}
      },
      "source": [
        "data = json.dumps({\"signature_name\": \"serving_default\", \"instances\": [X_test[random_image].tolist()]})"
      ],
      "execution_count": 0,
      "outputs": []
    },
    {
      "cell_type": "code",
      "metadata": {
        "id": "Tl7dh_3PIr66",
        "colab_type": "code",
        "outputId": "e4981f59-b6be-4f5f-920f-ffd138f48042",
        "colab": {
          "base_uri": "https://localhost:8080/",
          "height": 54
        }
      },
      "source": [
        "data"
      ],
      "execution_count": 0,
      "outputs": [
        {
          "output_type": "execute_result",
          "data": {
            "text/plain": [
              "'{\"signature_name\": \"serving_default\", \"instances\": [[[[1.0, 1.0, 1.0], [1.0, 1.0, 1.0], [1.0, 1.0, 1.0], [1.0, 1.0, 1.0], [1.0, 1.0, 1.0], [1.0, 1.0, 1.0], [1.0, 1.0, 1.0], [1.0, 1.0, 1.0], [1.0, 1.0, 1.0], [1.0, 1.0, 1.0], [1.0, 1.0, 1.0], [1.0, 1.0, 1.0], [0.9921568627450981, 1.0, 1.0], [0.9215686274509803, 0.9372549019607843, 0.9333333333333333], [0.9333333333333333, 0.9450980392156862, 0.9450980392156862], [0.984313725490196, 1.0, 0.996078431372549], [0.9333333333333333, 0.9490196078431372, 0.9450980392156862], [0.8941176470588236, 0.9215686274509803, 0.8901960784313725], [0.8196078431372549, 0.8666666666666667, 0.788235294117647], [0.7764705882352941, 0.8352941176470589, 0.7333333333333333], [0.7411764705882353, 0.803921568627451, 0.6941176470588235], [0.6823529411764706, 0.7568627450980392, 0.6588235294117647], [0.7294117647058823, 0.8117647058823529, 0.7333333333333333], [0.7843137254901961, 0.8627450980392157, 0.807843137254902], [0.8117647058823529, 0.8862745098039215, 0.8392156862745098], [0.8235294117647058, 0.8901960784313725, 0.8509803921568627], [0.8117647058823529, 0.8627450980392157, 0.8274509803921568], [0.9294117647058824, 0.9568627450980393, 0.9294117647058824], [0.9921568627450981, 1.0, 0.9803921568627451], [1.0, 1.0, 0.996078431372549], [1.0, 1.0, 1.0], [0.9921568627450981, 0.9921568627450981, 1.0]], [[0.9921568627450981, 0.9921568627450981, 0.9921568627450981], [0.996078431372549, 0.996078431372549, 0.996078431372549], [1.0, 1.0, 1.0], [0.996078431372549, 0.996078431372549, 0.996078431372549], [0.996078431372549, 0.996078431372549, 0.996078431372549], [0.996078431372549, 0.996078431372549, 0.996078431372549], [0.996078431372549, 0.996078431372549, 0.996078431372549], [0.996078431372549, 0.996078431372549, 0.996078431372549], [0.9921568627450981, 0.9921568627450981, 0.9921568627450981], [0.984313725490196, 0.984313725490196, 0.984313725490196], [0.9882352941176471, 0.9921568627450981, 0.9921568627450981], [0.9921568627450981, 0.996078431372549, 0.996078431372549], [0.984313725490196, 0.996078431372549, 0.9921568627450981], [0.9333333333333333, 0.9490196078431372, 0.9450980392156862], [0.9333333333333333, 0.9490196078431372, 0.9450980392156862], [0.9725490196078431, 0.984313725490196, 0.984313725490196], [0.9725490196078431, 0.9882352941176471, 0.984313725490196], [0.9647058823529412, 0.984313725490196, 0.9568627450980393], [0.9137254901960784, 0.9450980392156862, 0.8862745098039215], [0.8666666666666667, 0.9019607843137255, 0.8431372549019608], [0.8352941176470589, 0.8784313725490196, 0.8156862745098039], [0.7803921568627451, 0.8352941176470589, 0.7686274509803922], [0.6980392156862745, 0.7607843137254902, 0.6823529411764706], [0.7333333333333333, 0.807843137254902, 0.7215686274509804], [0.7490196078431373, 0.8392156862745098, 0.7529411764705882], [0.7254901960784313, 0.807843137254902, 0.7333333333333333], [0.7411764705882353, 0.803921568627451, 0.7450980392156863], [0.8392156862745098, 0.8862745098039215, 0.8431372549019608], [0.9294117647058824, 0.9529411764705882, 0.9294117647058824], [0.9725490196078431, 0.9803921568627451, 0.9725490196078431], [0.9686274509803922, 0.9686274509803922, 0.9686274509803922], [0.9215686274509803, 0.9215686274509803, 0.9254901960784314]], [[0.9921568627450981, 0.9921568627450981, 0.9921568627450981], [1.0, 1.0, 1.0], [1.0, 1.0, 1.0], [1.0, 1.0, 1.0], [1.0, 1.0, 1.0], [1.0, 1.0, 1.0], [1.0, 1.0, 1.0], [1.0, 1.0, 1.0], [0.996078431372549, 0.996078431372549, 0.996078431372549], [0.9725490196078431, 0.9725490196078431, 0.9725490196078431], [0.9764705882352941, 0.9764705882352941, 0.9764705882352941], [0.984313725490196, 0.9882352941176471, 0.9882352941176471], [0.9803921568627451, 0.9921568627450981, 0.9882352941176471], [0.9607843137254902, 0.9764705882352941, 0.9725490196078431], [0.9137254901960784, 0.9294117647058824, 0.9254901960784314], [0.9529411764705882, 0.9686274509803922, 0.9647058823529412], [0.9764705882352941, 0.9921568627450981, 0.9921568627450981], [0.9411764705882353, 0.9568627450980393, 0.9372549019607843], [0.9215686274509803, 0.9372549019607843, 0.8980392156862745], [0.9098039215686274, 0.9254901960784314, 0.9019607843137255], [0.9019607843137255, 0.9254901960784314, 0.9098039215686274], [0.8862745098039215, 0.9294117647058824, 0.8862745098039215], [0.7607843137254902, 0.8156862745098039, 0.7333333333333333], [0.6745098039215687, 0.7450980392156863, 0.6352941176470588], [0.6745098039215687, 0.7725490196078432, 0.6549019607843137], [0.6901960784313725, 0.788235294117647, 0.6784313725490196], [0.7568627450980392, 0.8352941176470589, 0.7529411764705882], [0.807843137254902, 0.8666666666666667, 0.8156862745098039], [0.9176470588235294, 0.9529411764705882, 0.9333333333333333], [0.9882352941176471, 1.0, 0.996078431372549], [0.9372549019607843, 0.9411764705882353, 0.9137254901960784], [0.8392156862745098, 0.8470588235294118, 0.8]], [[0.9921568627450981, 0.9921568627450981, 0.9921568627450981], [1.0, 1.0, 1.0], [0.996078431372549, 0.996078431372549, 0.996078431372549], [0.996078431372549, 0.996078431372549, 0.996078431372549], [1.0, 1.0, 1.0], [0.996078431372549, 1.0, 1.0], [0.9921568627450981, 1.0, 1.0], [0.9921568627450981, 1.0, 1.0], [0.9921568627450981, 1.0, 1.0], [0.9882352941176471, 0.996078431372549, 0.996078431372549], [0.9882352941176471, 0.996078431372549, 0.9921568627450981], [0.9647058823529412, 0.9882352941176471, 0.9803921568627451], [0.9647058823529412, 0.996078431372549, 0.984313725490196], [0.9450980392156862, 0.9725490196078431, 0.9647058823529412], [0.9019607843137255, 0.9254901960784314, 0.9137254901960784], [0.9529411764705882, 0.9725490196078431, 0.9647058823529412], [0.9803921568627451, 0.9921568627450981, 0.9882352941176471], [0.9490196078431372, 0.9568627450980393, 0.9529411764705882], [0.9450980392156862, 0.9490196078431372, 0.9411764705882353], [0.9137254901960784, 0.9137254901960784, 0.9098039215686274], [0.8941176470588236, 0.8941176470588236, 0.8823529411764706], [0.8745098039215686, 0.9058823529411765, 0.8588235294117647], [0.7647058823529411, 0.8352941176470589, 0.7450980392156863], [0.6470588235294118, 0.7450980392156863, 0.6235294117647059], [0.6392156862745098, 0.7529411764705882, 0.6313725490196078], [0.6862745098039216, 0.7803921568627451, 0.6862745098039216], [0.7411764705882353, 0.8117647058823529, 0.7372549019607844], [0.8196078431372549, 0.8705882352941177, 0.788235294117647], [0.9294117647058824, 0.9607843137254902, 0.9176470588235294], [0.9764705882352941, 0.9921568627450981, 0.996078431372549], [0.9254901960784314, 0.9450980392156862, 0.9215686274509803], [0.8117647058823529, 0.8313725490196079, 0.7843137254901961]], [[0.9921568627450981, 0.9921568627450981, 0.9921568627450981], [1.0, 1.0, 1.0], [1.0, 1.0, 1.0], [1.0, 1.0, 1.0], [1.0, 1.0, 1.0], [0.996078431372549, 0.996078431372549, 1.0], [0.996078431372549, 0.996078431372549, 1.0], [0.996078431372549, 1.0, 1.0], [0.9882352941176471, 1.0, 0.996078431372549], [0.9686274509803922, 0.9921568627450981, 0.9882352941176471], [0.9607843137254902, 0.9921568627450981, 0.984313725490196], [0.9568627450980393, 0.9882352941176471, 0.984313725490196], [0.9529411764705882, 0.9725490196078431, 0.9803921568627451], [0.9568627450980393, 0.9686274509803922, 0.9764705882352941], [0.9215686274509803, 0.9254901960784314, 0.9372549019607843], [0.9607843137254902, 0.9529411764705882, 0.9686274509803922], [0.9882352941176471, 0.9686274509803922, 0.9882352941176471], [0.9725490196078431, 0.9607843137254902, 0.9764705882352941], [0.9490196078431372, 0.9490196078431372, 0.9529411764705882], [0.6784313725490196, 0.6705882352941176, 0.6705882352941176], [0.6627450980392157, 0.6588235294117647, 0.6470588235294118], [0.8666666666666667, 0.8901960784313725, 0.8588235294117647], [0.8392156862745098, 0.9098039215686274, 0.8588235294117647], [0.7490196078431373, 0.8470588235294118, 0.7647058823529411], [0.6313725490196078, 0.7176470588235294, 0.6196078431372549], [0.6705882352941176, 0.7411764705882353, 0.6745098039215687], [0.7529411764705882, 0.8117647058823529, 0.7372549019607844], [0.7568627450980392, 0.807843137254902, 0.6941176470588235], [0.8588235294117647, 0.8941176470588236, 0.8156862745098039], [0.9294117647058824, 0.9490196078431372, 0.9490196078431372], [0.9411764705882353, 0.9607843137254902, 0.9607843137254902], [0.8823529411764706, 0.9058823529411765, 0.8862745098039215]], [[0.9921568627450981, 0.9921568627450981, 0.9921568627450981], [0.996078431372549, 0.996078431372549, 0.996078431372549], [0.996078431372549, 0.996078431372549, 0.996078431372549], [1.0, 1.0, 1.0], [0.9882352941176471, 0.9882352941176471, 0.9882352941176471], [0.9921568627450981, 0.9803921568627451, 0.9882352941176471], [1.0, 0.9921568627450981, 1.0], [1.0, 0.9921568627450981, 1.0], [0.9921568627450981, 0.9921568627450981, 0.9921568627450981], [0.9568627450980393, 0.9764705882352941, 0.9686274509803922], [0.9372549019607843, 0.9686274509803922, 0.9568627450980393], [0.9490196078431372, 0.984313725490196, 0.984313725490196], [0.9372549019607843, 0.9764705882352941, 0.984313725490196], [0.9294117647058824, 0.9607843137254902, 0.9725490196078431], [0.9098039215686274, 0.9372549019607843, 0.9490196078431372], [0.9529411764705882, 0.9686274509803922, 0.9803921568627451], [0.9725490196078431, 0.9764705882352941, 0.996078431372549], [0.9764705882352941, 0.9764705882352941, 0.984313725490196], [0.807843137254902, 0.792156862745098, 0.7843137254901961], [0.2627450980392157, 0.24705882352941178, 0.23921568627450981], [0.43529411764705883, 0.42745098039215684, 0.4235294117647059], [0.8784313725490196, 0.8823529411764706, 0.8784313725490196], [0.9294117647058824, 0.9450980392156862, 0.9490196078431372], [0.9333333333333333, 0.9529411764705882, 0.9333333333333333], [0.6509803921568628, 0.6666666666666666, 0.6039215686274509], [0.48627450980392156, 0.5137254901960784, 0.4627450980392157], [0.7215686274509804, 0.7764705882352941, 0.7019607843137254], [0.7176470588235294, 0.788235294117647, 0.6549019607843137], [0.8, 0.8588235294117647, 0.7490196078431373], [0.8431372549019608, 0.8745098039215686, 0.8431372549019608], [0.9098039215686274, 0.9333333333333333, 0.9215686274509803], [0.9098039215686274, 0.9333333333333333, 0.9137254901960784]], [[0.9725490196078431, 0.9725490196078431, 0.9725490196078431], [0.9921568627450981, 0.9921568627450981, 0.9921568627450981], [0.996078431372549, 0.996078431372549, 0.996078431372549], [0.9803921568627451, 0.9803921568627451, 0.9803921568627451], [0.9372549019607843, 0.9372549019607843, 0.9372549019607843], [0.9333333333333333, 0.9372549019607843, 0.9372549019607843], [0.9764705882352941, 0.9803921568627451, 0.984313725490196], [0.996078431372549, 0.996078431372549, 1.0], [1.0, 1.0, 1.0], [1.0, 0.9921568627450981, 1.0], [0.9647058823529412, 0.9490196078431372, 0.9568627450980393], [0.9686274509803922, 0.9686274509803922, 0.9686274509803922], [0.9725490196078431, 0.9882352941176471, 0.984313725490196], [0.9529411764705882, 0.9647058823529412, 0.9607843137254902], [0.9254901960784314, 0.9215686274509803, 0.9215686274509803], [0.9490196078431372, 0.9333333333333333, 0.9333333333333333], [0.9568627450980393, 0.9372549019607843, 0.9411764705882353], [0.9529411764705882, 0.9058823529411765, 0.9137254901960784], [0.615686274509804, 0.5372549019607843, 0.5450980392156862], [0.15294117647058825, 0.09019607843137255, 0.08627450980392157], [0.44313725490196076, 0.4, 0.3843137254901961], [0.8705882352941177, 0.8235294117647058, 0.803921568627451], [0.9333333333333333, 0.8705882352941177, 0.8549019607843137], [0.8509803921568627, 0.7725490196078432, 0.7490196078431373], [0.48627450980392156, 0.4196078431372549, 0.3843137254901961], [0.47058823529411764, 0.4588235294117647, 0.4235294117647059], [0.7450980392156863, 0.8, 0.7176470588235294], [0.6862745098039216, 0.7764705882352941, 0.6196078431372549], [0.7490196078431373, 0.8313725490196079, 0.6823529411764706], [0.792156862745098, 0.8352941176470589, 0.7686274509803922], [0.8431372549019608, 0.8666666666666667, 0.8470588235294118], [0.8901960784313725, 0.9137254901960784, 0.8980392156862745]], [[0.9568627450980393, 0.9529411764705882, 0.9568627450980393], [0.9686274509803922, 0.9686274509803922, 0.9764705882352941], [0.984313725490196, 0.9882352941176471, 0.996078431372549], [0.9568627450980393, 0.9568627450980393, 0.9686274509803922], [0.9372549019607843, 0.9333333333333333, 0.9411764705882353], [0.9215686274509803, 0.9411764705882353, 0.9372549019607843], [0.9647058823529412, 0.9882352941176471, 0.9764705882352941], [0.9882352941176471, 0.9764705882352941, 0.9647058823529412], [0.9333333333333333, 0.8823529411764706, 0.8745098039215686], [0.8627450980392157, 0.7764705882352941, 0.7803921568627451], [0.8156862745098039, 0.7098039215686275, 0.7254901960784313], [0.803921568627451, 0.6862745098039216, 0.6901960784313725], [0.788235294117647, 0.6549019607843137, 0.6431372549019608], [0.803921568627451, 0.6745098039215687, 0.6705882352941176], [0.8235294117647058, 0.6862745098039216, 0.6901960784313725], [0.792156862745098, 0.6470588235294118, 0.6509803921568628], [0.7568627450980392, 0.6039215686274509, 0.6078431372549019], [0.7137254901960784, 0.5568627450980392, 0.5647058823529412], [0.5215686274509804, 0.3803921568627451, 0.3843137254901961], [0.26666666666666666, 0.1450980392156863, 0.13333333333333333], [0.3764705882352941, 0.27058823529411763, 0.23529411764705882], [0.596078431372549, 0.4823529411764706, 0.43137254901960786], [0.7215686274509804, 0.5803921568627451, 0.5215686274509804], [0.6431372549019608, 0.49019607843137253, 0.43137254901960786], [0.4666666666666667, 0.3568627450980392, 0.3137254901960784], [0.6588235294117647, 0.6274509803921569, 0.5843137254901961], [0.7686274509803922, 0.8274509803921568, 0.7372549019607844], [0.6627450980392157, 0.7686274509803922, 0.6235294117647059], [0.7568627450980392, 0.8392156862745098, 0.7058823529411765], [0.8352941176470589, 0.8745098039215686, 0.803921568627451], [0.8117647058823529, 0.8431372549019608, 0.8], [0.7686274509803922, 0.8, 0.7568627450980392]], [[0.9764705882352941, 0.9725490196078431, 0.9725490196078431], [0.9568627450980393, 0.9686274509803922, 0.984313725490196], [0.9647058823529412, 0.9803921568627451, 1.0], [0.9686274509803922, 0.9686274509803922, 0.9882352941176471], [1.0, 0.984313725490196, 1.0], [0.9921568627450981, 0.9764705882352941, 0.9803921568627451], [0.8901960784313725, 0.8509803921568627, 0.8352941176470589], [0.7333333333333333, 0.6313725490196078, 0.6], [0.6392156862745098, 0.47843137254901963, 0.44313725490196076], [0.6274509803921569, 0.4392156862745098, 0.4117647058823529], [0.6, 0.403921568627451, 0.396078431372549], [0.5568627450980392, 0.34901960784313724, 0.3333333333333333], [0.5176470588235295, 0.3058823529411765, 0.27450980392156865], [0.5019607843137255, 0.30980392156862746, 0.2980392156862745], [0.5725490196078431, 0.396078431372549, 0.396078431372549], [0.592156862745098, 0.4117647058823529, 0.4117647058823529], [0.5372549019607843, 0.3411764705882353, 0.3254901960784314], [0.5764705882352941, 0.3764705882352941, 0.34509803921568627], [0.6392156862745098, 0.45098039215686275, 0.40784313725490196], [0.5098039215686274, 0.3215686274509804, 0.27058823529411763], [0.49019607843137253, 0.2901960784313726, 0.23529411764705882], [0.5215686274509804, 0.3176470588235294, 0.25098039215686274], [0.6352941176470588, 0.4196078431372549, 0.35294117647058826], [0.6666666666666666, 0.4627450980392157, 0.396078431372549], [0.6274509803921569, 0.49019607843137253, 0.42745098039215684], [0.7333333333333333, 0.6901960784313725, 0.6196078431372549], [0.7647058823529411, 0.8156862745098039, 0.7294117647058823], [0.7372549019607844, 0.8196078431372549, 0.7411764705882353], [0.8235294117647058, 0.8705882352941177, 0.8274509803921568], [0.9372549019607843, 0.9372549019607843, 0.9176470588235294], [0.8784313725490196, 0.9058823529411765, 0.8431372549019608], [0.7294117647058823, 0.7764705882352941, 0.6901960784313725]], [[0.9725490196078431, 0.9803921568627451, 0.984313725490196], [0.9529411764705882, 0.9686274509803922, 0.9803921568627451], [0.9647058823529412, 0.9686274509803922, 0.9803921568627451], [0.9647058823529412, 0.9372549019607843, 0.9411764705882353], [0.9254901960784314, 0.8666666666666667, 0.8588235294117647], [0.8352941176470589, 0.7215686274509804, 0.7137254901960784], [0.6705882352941176, 0.5058823529411764, 0.4980392156862745], [0.5686274509803921, 0.39215686274509803, 0.37254901960784315], [0.5568627450980392, 0.37254901960784315, 0.34901960784313724], [0.5098039215686274, 0.3254901960784314, 0.2980392156862745], [0.4549019607843137, 0.27450980392156865, 0.2549019607843137], [0.45098039215686275, 0.26666666666666666, 0.24313725490196078], [0.41568627450980394, 0.23137254901960785, 0.20784313725490197], [0.4235294117647059, 0.2549019607843137, 0.24705882352941178], [0.4745098039215686, 0.3137254901960784, 0.3137254901960784], [0.4627450980392157, 0.2901960784313726, 0.2784313725490196], [0.4235294117647059, 0.22745098039215686, 0.19607843137254902], [0.5294117647058824, 0.30980392156862746, 0.2627450980392157], [0.6705882352941176, 0.42745098039215684, 0.3686274509803922], [0.6745098039215687, 0.4235294117647059, 0.3607843137254902], [0.6705882352941176, 0.4117647058823529, 0.34901960784313724], [0.6470588235294118, 0.3843137254901961, 0.3137254901960784], [0.6980392156862745, 0.4235294117647059, 0.34509803921568627], [0.6470588235294118, 0.38823529411764707, 0.3137254901960784], [0.5254901960784314, 0.3333333333333333, 0.2784313725490196], [0.6392156862745098, 0.5294117647058824, 0.4745098039215686], [0.8666666666666667, 0.8392156862745098, 0.7843137254901961], [0.8823529411764706, 0.8941176470588236, 0.8588235294117647], [0.9215686274509803, 0.9176470588235294, 0.9176470588235294], [0.9725490196078431, 0.9490196078431372, 0.9686274509803922], [0.9568627450980393, 0.9607843137254902, 0.9529411764705882], [0.9176470588235294, 0.9411764705882353, 0.9176470588235294]], [[0.984313725490196, 0.9686274509803922, 0.984313725490196], [0.984313725490196, 0.9607843137254902, 0.9803921568627451], [0.9529411764705882, 0.8980392156862745, 0.9058823529411765], [0.8352941176470589, 0.7294117647058823, 0.7058823529411765], [0.7333333333333333, 0.5764705882352941, 0.5294117647058824], [0.6705882352941176, 0.47058823529411764, 0.4196078431372549], [0.5725490196078431, 0.36470588235294116, 0.32941176470588235], [0.47843137254901963, 0.2901960784313726, 0.26666666666666666], [0.43529411764705883, 0.26666666666666666, 0.24705882352941178], [0.36470588235294116, 0.20392156862745098, 0.1803921568627451], [0.3333333333333333, 0.16862745098039217, 0.1411764705882353], [0.3215686274509804, 0.1568627450980392, 0.12941176470588237], [0.29411764705882354, 0.1411764705882353, 0.12549019607843137], [0.28627450980392155, 0.1411764705882353, 0.13333333333333333], [0.2980392156862745, 0.15294117647058825, 0.1450980392156863], [0.3058823529411765, 0.1411764705882353, 0.11764705882352941], [0.41568627450980394, 0.2196078431372549, 0.16862745098039217], [0.6039215686274509, 0.3843137254901961, 0.3254901960784314], [0.6196078431372549, 0.3843137254901961, 0.3254901960784314], [0.6352941176470588, 0.396078431372549, 0.33725490196078434], [0.6627450980392157, 0.4117647058823529, 0.34901960784313724], [0.6862745098039216, 0.42745098039215684, 0.3568627450980392], [0.7058823529411765, 0.44313725490196076, 0.3607843137254902], [0.6235294117647059, 0.36470588235294116, 0.29411764705882354], [0.5725490196078431, 0.36470588235294116, 0.30980392156862746], [0.5215686274509804, 0.37254901960784315, 0.3254901960784314], [0.7450980392156863, 0.6666666666666666, 0.6352941176470588], [0.9647058823529412, 0.9372549019607843, 0.9333333333333333], [0.9725490196078431, 0.9568627450980393, 0.9882352941176471], [0.9607843137254902, 0.9490196078431372, 0.9921568627450981], [0.9411764705882353, 0.9372549019607843, 0.9686274509803922], [0.9333333333333333, 0.9333333333333333, 0.9568627450980393]], [[0.9803921568627451, 0.9215686274509803, 0.9607843137254902], [0.8862745098039215, 0.8, 0.8313725490196079], [0.6823529411764706, 0.5490196078431373, 0.5568627450980392], [0.6352941176470588, 0.4470588235294118, 0.41568627450980394], [0.6509803921568628, 0.4196078431372549, 0.3568627450980392], [0.5725490196078431, 0.34901960784313724, 0.26666666666666666], [0.4627450980392157, 0.27450980392156865, 0.20392156862745098], [0.3803921568627451, 0.2235294117647059, 0.1803921568627451], [0.34509803921568627, 0.20784313725490197, 0.18823529411764706], [0.2784313725490196, 0.1411764705882353, 0.12156862745098039], [0.24313725490196078, 0.09019607843137255, 0.058823529411764705], [0.20392156862745098, 0.06274509803921569, 0.03529411764705882], [0.16862745098039217, 0.047058823529411764, 0.03529411764705882], [0.16470588235294117, 0.043137254901960784, 0.0392156862745098], [0.1843137254901961, 0.050980392156862744, 0.043137254901960784], [0.2784313725490196, 0.11372549019607843, 0.08235294117647059], [0.43137254901960786, 0.23137254901960785, 0.17254901960784313], [0.5647058823529412, 0.3607843137254902, 0.29411764705882354], [0.4823529411764706, 0.2901960784313726, 0.23921568627450981], [0.4588235294117647, 0.2784313725490196, 0.23137254901960785], [0.5372549019607843, 0.35294117647058826, 0.30196078431372547], [0.5254901960784314, 0.33725490196078434, 0.2823529411764706], [0.5764705882352941, 0.37254901960784315, 0.30980392156862746], [0.5333333333333333, 0.3254901960784314, 0.25882352941176473], [0.6039215686274509, 0.40784313725490196, 0.35294117647058826], [0.5294117647058824, 0.3764705882352941, 0.3254901960784314], [0.4549019607843137, 0.3607843137254902, 0.32941176470588235], [0.796078431372549, 0.7568627450980392, 0.7607843137254902], [0.9372549019607843, 0.9372549019607843, 0.9725490196078431], [0.9137254901960784, 0.9294117647058824, 0.984313725490196], [0.9137254901960784, 0.9215686274509803, 0.9490196078431372], [0.9098039215686274, 0.9098039215686274, 0.9254901960784314]], [[0.796078431372549, 0.6823529411764706, 0.7019607843137254], [0.6078431372549019, 0.45098039215686275, 0.4627450980392157], [0.4666666666666667, 0.27058823529411763, 0.27450980392156865], [0.49411764705882355, 0.2823529411764706, 0.25882352941176473], [0.5058823529411764, 0.28627450980392155, 0.24313725490196078], [0.4745098039215686, 0.2549019607843137, 0.1843137254901961], [0.44313725490196076, 0.23529411764705882, 0.17254901960784313], [0.3333333333333333, 0.1450980392156863, 0.11764705882352941], [0.2627450980392157, 0.10588235294117647, 0.10588235294117647], [0.19607843137254902, 0.0784313725490196, 0.07450980392156863], [0.13333333333333333, 0.043137254901960784, 0.03137254901960784], [0.09019607843137255, 0.027450980392156862, 0.00784313725490196], [0.07058823529411765, 0.01568627450980392, 0.00784313725490196], [0.09803921568627451, 0.00784313725490196, 0.011764705882352941], [0.1568627450980392, 0.023529411764705882, 0.03137254901960784], [0.27450980392156865, 0.10196078431372549, 0.08627450980392157], [0.3764705882352941, 0.1803921568627451, 0.13333333333333333], [0.43529411764705883, 0.2196078431372549, 0.1450980392156863], [0.49019607843137253, 0.2784313725490196, 0.20392156862745098], [0.4, 0.24313725490196078, 0.21176470588235294], [0.23921568627450981, 0.13725490196078433, 0.13725490196078433], [0.2196078431372549, 0.12549019607843137, 0.12549019607843137], [0.35294117647058826, 0.2235294117647059, 0.18823529411764706], [0.403921568627451, 0.23529411764705882, 0.17647058823529413], [0.4549019607843137, 0.28627450980392155, 0.23529411764705882], [0.4470588235294118, 0.30196078431372547, 0.24313725490196078], [0.4, 0.29411764705882354, 0.23137254901960785], [0.6352941176470588, 0.5803921568627451, 0.5333333333333333], [0.7019607843137254, 0.6941176470588235, 0.6823529411764706], [0.6901960784313725, 0.7098039215686275, 0.7254901960784313], [0.7568627450980392, 0.7803921568627451, 0.7686274509803922], [0.7176470588235294, 0.7450980392156863, 0.7137254901960784]], [[0.5450980392156862, 0.3686274509803922, 0.33725490196078434], [0.47843137254901963, 0.27450980392156865, 0.25098039215686274], [0.43137254901960786, 0.20392156862745098, 0.18823529411764706], [0.403921568627451, 0.1843137254901961, 0.16470588235294117], [0.4196078431372549, 0.21568627450980393, 0.18823529411764706], [0.4117647058823529, 0.19607843137254902, 0.1450980392156863], [0.3843137254901961, 0.16470588235294117, 0.11764705882352941], [0.27058823529411763, 0.09019607843137255, 0.07058823529411765], [0.1803921568627451, 0.0392156862745098, 0.047058823529411764], [0.12156862745098039, 0.03137254901960784, 0.03529411764705882], [0.07450980392156863, 0.01568627450980392, 0.011764705882352941], [0.043137254901960784, 0.00784313725490196, 0.0], [0.03529411764705882, 0.00392156862745098, 0.00392156862745098], [0.058823529411764705, 0.0, 0.00784313725490196], [0.11764705882352941, 0.01568627450980392, 0.023529411764705882], [0.21568627450980393, 0.06666666666666667, 0.054901960784313725], [0.34509803921568627, 0.1607843137254902, 0.12156862745098039], [0.41568627450980394, 0.2, 0.12941176470588237], [0.49019607843137253, 0.27450980392156865, 0.20392156862745098], [0.4666666666666667, 0.3058823529411765, 0.2784313725490196], [0.3137254901960784, 0.21176470588235294, 0.2196078431372549], [0.2901960784313726, 0.19607843137254902, 0.2], [0.3686274509803922, 0.23921568627450981, 0.2], [0.37254901960784315, 0.21568627450980393, 0.1568627450980392], [0.396078431372549, 0.2549019607843137, 0.2235294117647059], [0.37254901960784315, 0.2627450980392157, 0.22745098039215686], [0.4549019607843137, 0.37254901960784315, 0.3254901960784314], [0.6627450980392157, 0.611764705882353, 0.5686274509803921], [0.592156862745098, 0.5568627450980392, 0.5372549019607843], [0.6549019607843137, 0.6274509803921569, 0.6313725490196078], [0.8156862745098039, 0.796078431372549, 0.792156862745098], [0.7137254901960784, 0.7019607843137254, 0.6901960784313725]], [[0.43529411764705883, 0.24313725490196078, 0.19607843137254902], [0.403921568627451, 0.1843137254901961, 0.14901960784313725], [0.3764705882352941, 0.1411764705882353, 0.12156862745098039], [0.36470588235294116, 0.1450980392156863, 0.12549019607843137], [0.3607843137254902, 0.1568627450980392, 0.13333333333333333], [0.3843137254901961, 0.16862745098039217, 0.12549019607843137], [0.30196078431372547, 0.10196078431372549, 0.058823529411764705], [0.1843137254901961, 0.047058823529411764, 0.03137254901960784], [0.09803921568627451, 0.01568627450980392, 0.01568627450980392], [0.06666666666666667, 0.00784313725490196, 0.01568627450980392], [0.047058823529411764, 0.0, 0.00392156862745098], [0.03529411764705882, 0.0, 0.0], [0.023529411764705882, 0.0, 0.00784313725490196], [0.03529411764705882, 0.00392156862745098, 0.0196078431372549], [0.06274509803921569, 0.011764705882352941, 0.01568627450980392], [0.16470588235294117, 0.06274509803921569, 0.047058823529411764], [0.3137254901960784, 0.14901960784313725, 0.11372549019607843], [0.35294117647058826, 0.15294117647058825, 0.10196078431372549], [0.41568627450980394, 0.2196078431372549, 0.16862745098039217], [0.45098039215686275, 0.28627450980392155, 0.25882352941176473], [0.42745098039215684, 0.2980392156862745, 0.2784313725490196], [0.43137254901960786, 0.2980392156862745, 0.27058823529411763], [0.4980392156862745, 0.3411764705882353, 0.2823529411764706], [0.49019607843137253, 0.3215686274509804, 0.2627450980392157], [0.4470588235294118, 0.3137254901960784, 0.2980392156862745], [0.4392156862745098, 0.34901960784313724, 0.33725490196078434], [0.5647058823529412, 0.5176470588235295, 0.49019607843137253], [0.803921568627451, 0.7803921568627451, 0.7372549019607844], [0.8470588235294118, 0.8196078431372549, 0.7686274509803922], [0.8823529411764706, 0.8470588235294118, 0.792156862745098], [0.9372549019607843, 0.9098039215686274, 0.8549019607843137], [0.8627450980392157, 0.8431372549019608, 0.792156862745098]], [[0.3686274509803922, 0.22745098039215686, 0.2196078431372549], [0.3764705882352941, 0.18823529411764706, 0.1843137254901961], [0.33725490196078434, 0.12156862745098039, 0.11764705882352941], [0.3215686274509804, 0.10196078431372549, 0.08235294117647059], [0.2901960784313726, 0.0784313725490196, 0.047058823529411764], [0.3137254901960784, 0.09019607843137255, 0.054901960784313725], [0.2823529411764706, 0.09411764705882353, 0.06274509803921569], [0.13725490196078433, 0.03137254901960784, 0.0196078431372549], [0.043137254901960784, 0.0, 0.00392156862745098], [0.027450980392156862, 0.00392156862745098, 0.011764705882352941], [0.03137254901960784, 0.0, 0.00392156862745098], [0.03137254901960784, 0.0, 0.00392156862745098], [0.0196078431372549, 0.00392156862745098, 0.0196078431372549], [0.00784313725490196, 0.00784313725490196, 0.027450980392156862], [0.027450980392156862, 0.01568627450980392, 0.023529411764705882], [0.12549019607843137, 0.054901960784313725, 0.047058823529411764], [0.25882352941176473, 0.10588235294117647, 0.0784313725490196], [0.3058823529411765, 0.11372549019607843, 0.07450980392156863], [0.3215686274509804, 0.1411764705882353, 0.09803921568627451], [0.35294117647058826, 0.1843137254901961, 0.15294117647058825], [0.35294117647058826, 0.19607843137254902, 0.1607843137254902], [0.42745098039215684, 0.26666666666666666, 0.21568627450980393], [0.5137254901960784, 0.33725490196078434, 0.26666666666666666], [0.5803921568627451, 0.39215686274509803, 0.3254901960784314], [0.5529411764705883, 0.3843137254901961, 0.36470588235294116], [0.5098039215686274, 0.403921568627451, 0.38823529411764707], [0.5607843137254902, 0.5411764705882353, 0.4980392156862745], [0.7176470588235294, 0.7411764705882353, 0.6588235294117647], [0.7725490196078432, 0.796078431372549, 0.6705882352941176], [0.7843137254901961, 0.8, 0.6352941176470588], [0.7490196078431373, 0.8, 0.615686274509804], [0.7058823529411765, 0.7764705882352941, 0.5843137254901961]], [[0.49411764705882355, 0.39215686274509803, 0.4], [0.43529411764705883, 0.3215686274509804, 0.34901960784313724], [0.3686274509803922, 0.22745098039215686, 0.25098039215686274], [0.30196078431372547, 0.10980392156862745, 0.10980392156862745], [0.28627450980392155, 0.054901960784313725, 0.027450980392156862], [0.23137254901960785, 0.01568627450980392, 0.00392156862745098], [0.1803921568627451, 0.027450980392156862, 0.023529411764705882], [0.12156862745098039, 0.03137254901960784, 0.027450980392156862], [0.043137254901960784, 0.00392156862745098, 0.00392156862745098], [0.027450980392156862, 0.0, 0.00392156862745098], [0.03137254901960784, 0.0, 0.00392156862745098], [0.027450980392156862, 0.0, 0.01568627450980392], [0.01568627450980392, 0.011764705882352941, 0.023529411764705882], [0.03137254901960784, 0.047058823529411764, 0.01568627450980392], [0.2784313725490196, 0.2823529411764706, 0.2], [0.40784313725490196, 0.3607843137254902, 0.2784313725490196], [0.2, 0.08235294117647059, 0.054901960784313725], [0.20392156862745098, 0.054901960784313725, 0.03137254901960784], [0.2196078431372549, 0.0784313725490196, 0.03137254901960784], [0.24313725490196078, 0.09411764705882353, 0.054901960784313725], [0.3254901960784314, 0.16862745098039217, 0.13725490196078433], [0.403921568627451, 0.23921568627450981, 0.19215686274509805], [0.45098039215686275, 0.2784313725490196, 0.20784313725490197], [0.5137254901960784, 0.3215686274509804, 0.25882352941176473], [0.5764705882352941, 0.3764705882352941, 0.35294117647058826], [0.5294117647058824, 0.3764705882352941, 0.34901960784313724], [0.5490196078431373, 0.47058823529411764, 0.4], [0.6823529411764706, 0.6745098039215687, 0.5490196078431373], [0.7254901960784313, 0.7568627450980392, 0.5725490196078431], [0.6862745098039216, 0.7450980392156863, 0.5215686274509804], [0.6509803921568628, 0.7607843137254902, 0.5098039215686274], [0.6196078431372549, 0.7529411764705882, 0.49411764705882355]], [[0.5019607843137255, 0.40784313725490196, 0.403921568627451], [0.4588235294117647, 0.3764705882352941, 0.403921568627451], [0.4392156862745098, 0.3411764705882353, 0.3764705882352941], [0.3843137254901961, 0.22745098039215686, 0.24313725490196078], [0.3137254901960784, 0.09803921568627451, 0.08627450980392157], [0.24313725490196078, 0.03137254901960784, 0.03529411764705882], [0.17647058823529413, 0.01568627450980392, 0.027450980392156862], [0.1411764705882353, 0.03529411764705882, 0.03529411764705882], [0.06666666666666667, 0.00784313725490196, 0.00784313725490196], [0.03137254901960784, 0.0, 0.0], [0.03137254901960784, 0.00784313725490196, 0.00392156862745098], [0.0392156862745098, 0.00392156862745098, 0.0196078431372549], [0.047058823529411764, 0.01568627450980392, 0.011764705882352941], [0.30196078431372547, 0.30196078431372547, 0.19607843137254902], [0.6196078431372549, 0.6313725490196078, 0.4470588235294118], [0.7019607843137254, 0.6941176470588235, 0.5098039215686274], [0.49411764705882355, 0.4549019607843137, 0.32941176470588235], [0.27058823529411763, 0.19607843137254902, 0.13333333333333333], [0.18823529411764706, 0.08627450980392157, 0.054901960784313725], [0.15294117647058825, 0.03529411764705882, 0.023529411764705882], [0.30196078431372547, 0.17254901960784313, 0.1607843137254902], [0.4196078431372549, 0.2823529411764706, 0.24705882352941178], [0.403921568627451, 0.26666666666666666, 0.2], [0.4666666666666667, 0.3058823529411765, 0.21568627450980393], [0.611764705882353, 0.403921568627451, 0.3137254901960784], [0.6784313725490196, 0.4823529411764706, 0.4235294117647059], [0.7803921568627451, 0.6470588235294118, 0.6078431372549019], [0.7058823529411765, 0.6470588235294118, 0.5529411764705883], [0.6509803921568628, 0.6705882352941176, 0.4588235294117647], [0.6196078431372549, 0.6901960784313725, 0.396078431372549], [0.5803921568627451, 0.6588235294117647, 0.396078431372549], [0.5764705882352941, 0.6509803921568628, 0.4196078431372549]], [[0.43137254901960786, 0.3333333333333333, 0.3333333333333333], [0.42745098039215684, 0.33725490196078434, 0.3568627450980392], [0.4196078431372549, 0.3254901960784314, 0.35294117647058826], [0.41568627450980394, 0.29411764705882354, 0.3137254901960784], [0.35294117647058826, 0.20392156862745098, 0.21176470588235294], [0.2784313725490196, 0.08627450980392157, 0.09411764705882353], [0.2196078431372549, 0.03529411764705882, 0.043137254901960784], [0.1607843137254902, 0.03529411764705882, 0.03137254901960784], [0.08235294117647059, 0.01568627450980392, 0.00784313725490196], [0.0392156862745098, 0.00392156862745098, 0.0], [0.047058823529411764, 0.0196078431372549, 0.00784313725490196], [0.09411764705882353, 0.047058823529411764, 0.00784313725490196], [0.3254901960784314, 0.27450980392156865, 0.16470588235294117], [0.6235294117647059, 0.6196078431372549, 0.40784313725490196], [0.6941176470588235, 0.7294117647058823, 0.44313725490196076], [0.7019607843137254, 0.7529411764705882, 0.44313725490196076], [0.7215686274509804, 0.7568627450980392, 0.4666666666666667], [0.6784313725490196, 0.6823529411764706, 0.4196078431372549], [0.615686274509804, 0.5764705882352941, 0.33725490196078434], [0.38823529411764707, 0.3333333333333333, 0.16862745098039217], [0.2784313725490196, 0.21176470588235294, 0.11764705882352941], [0.3176470588235294, 0.23921568627450981, 0.1803921568627451], [0.3568627450980392, 0.2784313725490196, 0.2549019607843137], [0.47843137254901963, 0.3686274509803922, 0.3137254901960784], [0.5647058823529412, 0.3803921568627451, 0.25098039215686274], [0.5803921568627451, 0.396078431372549, 0.3333333333333333], [0.7647058823529411, 0.6313725490196078, 0.6509803921568628], [0.8117647058823529, 0.7490196078431373, 0.7215686274509804], [0.6039215686274509, 0.615686274509804, 0.43137254901960786], [0.596078431372549, 0.6627450980392157, 0.3411764705882353], [0.6392156862745098, 0.6745098039215687, 0.3764705882352941], [0.7019607843137254, 0.7137254901960784, 0.4549019607843137]], [[0.403921568627451, 0.30196078431372547, 0.3058823529411765], [0.4117647058823529, 0.3176470588235294, 0.3254901960784314], [0.403921568627451, 0.3215686274509804, 0.33725490196078434], [0.37254901960784315, 0.29411764705882354, 0.3176470588235294], [0.32941176470588235, 0.25098039215686274, 0.27450980392156865], [0.3176470588235294, 0.1843137254901961, 0.1843137254901961], [0.2823529411764706, 0.12941176470588237, 0.10980392156862745], [0.18823529411764706, 0.07450980392156863, 0.050980392156862744], [0.11372549019607843, 0.03529411764705882, 0.01568627450980392], [0.08627450980392157, 0.0196078431372549, 0.00392156862745098], [0.12156862745098039, 0.043137254901960784, 0.03137254901960784], [0.30980392156862746, 0.24313725490196078, 0.17647058823529413], [0.6705882352941176, 0.6431372549019608, 0.4823529411764706], [0.7568627450980392, 0.7725490196078432, 0.5607843137254902], [0.7294117647058823, 0.7725490196078432, 0.5254901960784314], [0.7294117647058823, 0.7803921568627451, 0.5254901960784314], [0.7568627450980392, 0.792156862745098, 0.5607843137254902], [0.792156862745098, 0.807843137254902, 0.5607843137254902], [0.8196078431372549, 0.8117647058823529, 0.5372549019607843], [0.7568627450980392, 0.7450980392156863, 0.5333333333333333], [0.596078431372549, 0.5803921568627451, 0.4627450980392157], [0.36470588235294116, 0.3411764705882353, 0.2980392156862745], [0.25098039215686274, 0.23137254901960785, 0.24313725490196078], [0.4235294117647059, 0.3803921568627451, 0.3764705882352941], [0.4980392156862745, 0.403921568627451, 0.3411764705882353], [0.42745098039215684, 0.3254901960784314, 0.3058823529411765], [0.47058823529411764, 0.38823529411764707, 0.4235294117647059], [0.7215686274509804, 0.6745098039215687, 0.6823529411764706], [0.5725490196078431, 0.5647058823529412, 0.48627450980392156], [0.5843137254901961, 0.6078431372549019, 0.43529411764705883], [0.7215686274509804, 0.7411764705882353, 0.5372549019607843], [0.7294117647058823, 0.7450980392156863, 0.5411764705882353]], [[0.3843137254901961, 0.2901960784313726, 0.29411764705882354], [0.4, 0.30196078431372547, 0.30980392156862746], [0.4, 0.30980392156862746, 0.3254901960784314], [0.37254901960784315, 0.2980392156862745, 0.32941176470588235], [0.3215686274509804, 0.27058823529411763, 0.30196078431372547], [0.3333333333333333, 0.24313725490196078, 0.24705882352941178], [0.36470588235294116, 0.25098039215686274, 0.2235294117647059], [0.30196078431372547, 0.2, 0.16470588235294117], [0.20784313725490197, 0.10980392156862745, 0.0784313725490196], [0.17647058823529413, 0.07450980392156863, 0.050980392156862744], [0.23529411764705882, 0.12549019607843137, 0.11372549019607843], [0.5529411764705883, 0.48627450980392156, 0.4627450980392157], [0.8274509803921568, 0.8196078431372549, 0.7686274509803922], [0.8392156862745098, 0.8470588235294118, 0.792156862745098], [0.8431372549019608, 0.8549019607843137, 0.803921568627451], [0.8470588235294118, 0.8549019607843137, 0.8156862745098039], [0.8588235294117647, 0.8470588235294118, 0.8274509803921568], [0.8627450980392157, 0.8392156862745098, 0.8235294117647058], [0.8588235294117647, 0.8392156862745098, 0.8196078431372549], [0.8352941176470589, 0.8196078431372549, 0.8156862745098039], [0.6705882352941176, 0.6627450980392157, 0.6705882352941176], [0.4627450980392157, 0.4627450980392157, 0.4745098039215686], [0.43529411764705883, 0.4470588235294118, 0.45098039215686275], [0.3333333333333333, 0.3411764705882353, 0.3333333333333333], [0.34901960784313724, 0.3333333333333333, 0.33725490196078434], [0.2901960784313726, 0.2627450980392157, 0.27450980392156865], [0.3058823529411765, 0.27058823529411763, 0.28627450980392155], [0.7215686274509804, 0.6901960784313725, 0.6980392156862745], [0.5647058823529412, 0.5450980392156862, 0.5450980392156862], [0.596078431372549, 0.5843137254901961, 0.5764705882352941], [0.8156862745098039, 0.8235294117647058, 0.796078431372549], [0.8, 0.8196078431372549, 0.7803921568627451]], [[0.35294117647058826, 0.27450980392156865, 0.27450980392156865], [0.38823529411764707, 0.28627450980392155, 0.30196078431372547], [0.39215686274509803, 0.2823529411764706, 0.3058823529411765], [0.37254901960784315, 0.2784313725490196, 0.30980392156862746], [0.3411764705882353, 0.26666666666666666, 0.2980392156862745], [0.32941176470588235, 0.24705882352941178, 0.2627450980392157], [0.3803921568627451, 0.27450980392156865, 0.27058823529411763], [0.396078431372549, 0.27450980392156865, 0.2549019607843137], [0.34509803921568627, 0.2196078431372549, 0.1843137254901961], [0.27058823529411763, 0.1607843137254902, 0.12941176470588237], [0.3176470588235294, 0.22745098039215686, 0.20784313725490197], [0.6313725490196078, 0.592156862745098, 0.6], [0.8470588235294118, 0.8431372549019608, 0.8862745098039215], [0.8509803921568627, 0.8431372549019608, 0.8941176470588236], [0.8823529411764706, 0.8705882352941177, 0.9254901960784314], [0.8745098039215686, 0.8588235294117647, 0.9215686274509803], [0.8549019607843137, 0.8392156862745098, 0.8980392156862745], [0.8235294117647058, 0.807843137254902, 0.8666666666666667], [0.788235294117647, 0.7843137254901961, 0.8352941176470589], [0.7607843137254902, 0.7568627450980392, 0.807843137254902], [0.6980392156862745, 0.6941176470588235, 0.7450980392156863], [0.7098039215686275, 0.7058823529411765, 0.7568627450980392], [0.7529411764705882, 0.7490196078431373, 0.792156862745098], [0.41568627450980394, 0.4117647058823529, 0.4627450980392157], [0.19215686274509805, 0.19215686274509805, 0.25098039215686274], [0.1450980392156863, 0.13333333333333333, 0.1803921568627451], [0.3058823529411765, 0.27450980392156865, 0.3058823529411765], [0.6196078431372549, 0.5882352941176471, 0.6196078431372549], [0.5764705882352941, 0.5607843137254902, 0.6078431372549019], [0.7568627450980392, 0.7568627450980392, 0.8196078431372549], [0.8274509803921568, 0.8392156862745098, 0.8823529411764706], [0.803921568627451, 0.8196078431372549, 0.8549019607843137]], [[0.3176470588235294, 0.24705882352941178, 0.23529411764705882], [0.36470588235294116, 0.2627450980392157, 0.26666666666666666], [0.3803921568627451, 0.26666666666666666, 0.2823529411764706], [0.3568627450980392, 0.2627450980392157, 0.2784313725490196], [0.3254901960784314, 0.2549019607843137, 0.27058823529411763], [0.30980392156862746, 0.23529411764705882, 0.25882352941176473], [0.3568627450980392, 0.2627450980392157, 0.27450980392156865], [0.40784313725490196, 0.29411764705882354, 0.2784313725490196], [0.4117647058823529, 0.28627450980392155, 0.25098039215686274], [0.3803921568627451, 0.2627450980392157, 0.2196078431372549], [0.396078431372549, 0.2980392156862745, 0.2627450980392157], [0.6588235294117647, 0.6, 0.5843137254901961], [0.8588235294117647, 0.8470588235294118, 0.8352941176470589], [0.8784313725490196, 0.8705882352941177, 0.8431372549019608], [0.8666666666666667, 0.8666666666666667, 0.8235294117647058], [0.8235294117647058, 0.8274509803921568, 0.7843137254901961], [0.803921568627451, 0.8117647058823529, 0.7764705882352941], [0.8196078431372549, 0.8235294117647058, 0.792156862745098], [0.8784313725490196, 0.8666666666666667, 0.8392156862745098], [0.9176470588235294, 0.9019607843137255, 0.8745098039215686], [0.8901960784313725, 0.8784313725490196, 0.8509803921568627], [0.8784313725490196, 0.8627450980392157, 0.8392156862745098], [0.8862745098039215, 0.8705882352941177, 0.8431372549019608], [0.7411764705882353, 0.7372549019607844, 0.7254901960784313], [0.4823529411764706, 0.4980392156862745, 0.5215686274509804], [0.39215686274509803, 0.4, 0.4196078431372549], [0.5098039215686274, 0.5019607843137255, 0.5098039215686274], [0.6705882352941176, 0.6627450980392157, 0.6705882352941176], [0.7764705882352941, 0.7843137254901961, 0.803921568627451], [0.8352941176470589, 0.8627450980392157, 0.8941176470588236], [0.8235294117647058, 0.8549019607843137, 0.8862745098039215], [0.8117647058823529, 0.8470588235294118, 0.8705882352941177]], [[0.2784313725490196, 0.20784313725490197, 0.1843137254901961], [0.3333333333333333, 0.23529411764705882, 0.22745098039215686], [0.34901960784313724, 0.23921568627450981, 0.24705882352941178], [0.3333333333333333, 0.24313725490196078, 0.24705882352941178], [0.3137254901960784, 0.24313725490196078, 0.25098039215686274], [0.2823529411764706, 0.2235294117647059, 0.24705882352941178], [0.3176470588235294, 0.23921568627450981, 0.2627450980392157], [0.3843137254901961, 0.2784313725490196, 0.27058823529411763], [0.41568627450980394, 0.2901960784313726, 0.2549019607843137], [0.403921568627451, 0.27450980392156865, 0.2235294117647059], [0.43137254901960786, 0.3137254901960784, 0.2627450980392157], [0.5686274509803921, 0.47843137254901963, 0.37254901960784315], [0.792156862745098, 0.7411764705882353, 0.5490196078431373], [0.8235294117647058, 0.792156862745098, 0.5490196078431373], [0.792156862745098, 0.7843137254901961, 0.4980392156862745], [0.7725490196078432, 0.7803921568627451, 0.48627450980392156], [0.7607843137254902, 0.7803921568627451, 0.5058823529411764], [0.7607843137254902, 0.7764705882352941, 0.5176470588235295], [0.792156862745098, 0.796078431372549, 0.5411764705882353], [0.8, 0.8, 0.5450980392156862], [0.7843137254901961, 0.7803921568627451, 0.5254901960784314], [0.7647058823529411, 0.7607843137254902, 0.5058823529411764], [0.7725490196078432, 0.7686274509803922, 0.5098039215686274], [0.7803921568627451, 0.792156862745098, 0.5450980392156862], [0.7529411764705882, 0.788235294117647, 0.5686274509803921], [0.7411764705882353, 0.7725490196078432, 0.5450980392156862], [0.7686274509803922, 0.7764705882352941, 0.5372549019607843], [0.7803921568627451, 0.792156862745098, 0.5529411764705883], [0.7764705882352941, 0.803921568627451, 0.5764705882352941], [0.7529411764705882, 0.792156862745098, 0.5882352941176471], [0.7372549019607844, 0.7803921568627451, 0.6196078431372549], [0.7450980392156863, 0.788235294117647, 0.6431372549019608]], [[0.23921568627450981, 0.1607843137254902, 0.12156862745098039], [0.2784313725490196, 0.17647058823529413, 0.15294117647058825], [0.3176470588235294, 0.20392156862745098, 0.19607843137254902], [0.3137254901960784, 0.2235294117647059, 0.2196078431372549], [0.30196078431372547, 0.23529411764705882, 0.23529411764705882], [0.27058823529411763, 0.2196078431372549, 0.24705882352941178], [0.29411764705882354, 0.23137254901960785, 0.2627450980392157], [0.33725490196078434, 0.23921568627450981, 0.23529411764705882], [0.396078431372549, 0.27058823529411763, 0.23137254901960785], [0.4117647058823529, 0.27450980392156865, 0.2196078431372549], [0.41568627450980394, 0.2901960784313726, 0.23137254901960785], [0.47058823529411764, 0.35294117647058826, 0.23529411764705882], [0.6901960784313725, 0.5882352941176471, 0.3607843137254902], [0.8352941176470589, 0.7647058823529411, 0.45098039215686275], [0.8352941176470589, 0.796078431372549, 0.41568627450980394], [0.803921568627451, 0.788235294117647, 0.4], [0.7843137254901961, 0.7803921568627451, 0.41568627450980394], [0.7764705882352941, 0.7725490196078432, 0.42745098039215684], [0.7843137254901961, 0.7803921568627451, 0.43529411764705883], [0.7843137254901961, 0.7843137254901961, 0.4392156862745098], [0.7843137254901961, 0.7803921568627451, 0.43529411764705883], [0.7803921568627451, 0.7764705882352941, 0.43529411764705883], [0.792156862745098, 0.788235294117647, 0.4470588235294118], [0.7843137254901961, 0.788235294117647, 0.4470588235294118], [0.7411764705882353, 0.7647058823529411, 0.4117647058823529], [0.7529411764705882, 0.7647058823529411, 0.4], [0.788235294117647, 0.788235294117647, 0.40784313725490196], [0.792156862745098, 0.796078431372549, 0.4196078431372549], [0.7647058823529411, 0.7843137254901961, 0.4235294117647059], [0.7215686274509804, 0.7607843137254902, 0.41568627450980394], [0.7019607843137254, 0.7529411764705882, 0.4117647058823529], [0.7294117647058823, 0.7803921568627451, 0.4392156862745098]], [[0.23529411764705882, 0.11764705882352941, 0.050980392156862744], [0.2549019607843137, 0.12549019607843137, 0.06274509803921569], [0.2980392156862745, 0.16862745098039217, 0.12156862745098039], [0.2980392156862745, 0.19215686274509805, 0.17254901960784313], [0.2901960784313726, 0.21176470588235294, 0.21568627450980393], [0.26666666666666666, 0.21568627450980393, 0.24705882352941178], [0.2823529411764706, 0.22745098039215686, 0.2549019607843137], [0.3137254901960784, 0.2196078431372549, 0.20784313725490197], [0.3607843137254902, 0.23921568627450981, 0.19607843137254902], [0.40784313725490196, 0.28627450980392155, 0.22745098039215686], [0.403921568627451, 0.29411764705882354, 0.24313725490196078], [0.39215686274509803, 0.29411764705882354, 0.23137254901960785], [0.4980392156862745, 0.43137254901960786, 0.2784313725490196], [0.7372549019607844, 0.7176470588235294, 0.41568627450980394], [0.7764705882352941, 0.792156862745098, 0.4235294117647059], [0.7607843137254902, 0.7803921568627451, 0.43137254901960786], [0.7529411764705882, 0.7568627450980392, 0.43137254901960786], [0.7568627450980392, 0.7607843137254902, 0.43137254901960786], [0.7529411764705882, 0.7647058823529411, 0.43137254901960786], [0.7333333333333333, 0.7450980392156863, 0.4117647058823529], [0.7411764705882353, 0.7529411764705882, 0.4196078431372549], [0.7411764705882353, 0.7529411764705882, 0.4235294117647059], [0.7450980392156863, 0.7568627450980392, 0.43137254901960786], [0.7607843137254902, 0.7725490196078432, 0.4392156862745098], [0.7450980392156863, 0.7647058823529411, 0.41568627450980394], [0.7686274509803922, 0.7843137254901961, 0.4196078431372549], [0.7686274509803922, 0.7803921568627451, 0.41568627450980394], [0.7372549019607844, 0.7686274509803922, 0.41568627450980394], [0.7019607843137254, 0.7607843137254902, 0.43529411764705883], [0.6352941176470588, 0.7294117647058823, 0.4196078431372549], [0.611764705882353, 0.7294117647058823, 0.403921568627451], [0.6078431372549019, 0.7294117647058823, 0.39215686274509803]], [[0.20392156862745098, 0.08627450980392157, 0.023529411764705882], [0.23921568627450981, 0.10196078431372549, 0.03529411764705882], [0.25882352941176473, 0.12156862745098039, 0.06274509803921569], [0.2627450980392157, 0.1450980392156863, 0.11372549019607843], [0.27450980392156865, 0.1803921568627451, 0.1803921568627451], [0.26666666666666666, 0.20784313725490197, 0.22745098039215686], [0.2823529411764706, 0.2196078431372549, 0.23921568627450981], [0.30196078431372547, 0.21568627450980393, 0.20784313725490197], [0.3333333333333333, 0.22745098039215686, 0.19215686274509805], [0.3568627450980392, 0.24313725490196078, 0.19215686274509805], [0.3843137254901961, 0.27450980392156865, 0.2196078431372549], [0.37254901960784315, 0.28627450980392155, 0.23529411764705882], [0.44313725490196076, 0.403921568627451, 0.28627450980392155], [0.6705882352941176, 0.6823529411764706, 0.4196078431372549], [0.7019607843137254, 0.7450980392156863, 0.42745098039215684], [0.6941176470588235, 0.7333333333333333, 0.4470588235294118], [0.6705882352941176, 0.6901960784313725, 0.4196078431372549], [0.5882352941176471, 0.611764705882353, 0.3254901960784314], [0.5843137254901961, 0.615686274509804, 0.32941176470588235], [0.6980392156862745, 0.7333333333333333, 0.43529411764705883], [0.7058823529411765, 0.7450980392156863, 0.43137254901960786], [0.6901960784313725, 0.7333333333333333, 0.4], [0.7058823529411765, 0.7490196078431373, 0.403921568627451], [0.7176470588235294, 0.7647058823529411, 0.4117647058823529], [0.7058823529411765, 0.7529411764705882, 0.4117647058823529], [0.7215686274509804, 0.7647058823529411, 0.41568627450980394], [0.7333333333333333, 0.7725490196078432, 0.4196078431372549], [0.7137254901960784, 0.7647058823529411, 0.42745098039215684], [0.6745098039215687, 0.7568627450980392, 0.44313725490196076], [0.6235294117647059, 0.7372549019607844, 0.44313725490196076], [0.5882352941176471, 0.7098039215686275, 0.4196078431372549], [0.5686274509803921, 0.6901960784313725, 0.4]], [[0.16862745098039217, 0.06274509803921569, 0.011764705882352941], [0.20784313725490197, 0.0784313725490196, 0.0196078431372549], [0.23137254901960785, 0.09019607843137255, 0.03529411764705882], [0.23529411764705882, 0.10980392156862745, 0.07058823529411765], [0.25882352941176473, 0.14901960784313725, 0.13333333333333333], [0.25882352941176473, 0.17647058823529413, 0.1843137254901961], [0.26666666666666666, 0.19607843137254902, 0.20784313725490197], [0.28627450980392155, 0.21176470588235294, 0.21176470588235294], [0.30980392156862746, 0.2235294117647059, 0.20392156862745098], [0.29411764705882354, 0.18823529411764706, 0.1450980392156863], [0.36470588235294116, 0.24705882352941178, 0.1843137254901961], [0.3803921568627451, 0.2980392156862745, 0.22745098039215686], [0.4666666666666667, 0.45098039215686275, 0.3254901960784314], [0.6039215686274509, 0.6392156862745098, 0.4], [0.5882352941176471, 0.6470588235294118, 0.3803921568627451], [0.592156862745098, 0.6470588235294118, 0.41568627450980394], [0.5294117647058824, 0.5725490196078431, 0.33725490196078434], [0.47843137254901963, 0.5215686274509804, 0.26666666666666666], [0.5215686274509804, 0.5882352941176471, 0.3254901960784314], [0.6509803921568628, 0.7215686274509804, 0.4470588235294118], [0.6549019607843137, 0.7254901960784313, 0.43137254901960786], [0.6352941176470588, 0.7098039215686275, 0.38823529411764707], [0.6627450980392157, 0.7411764705882353, 0.396078431372549], [0.6666666666666666, 0.7529411764705882, 0.40784313725490196], [0.6509803921568628, 0.7411764705882353, 0.4117647058823529], [0.6352941176470588, 0.7137254901960784, 0.3843137254901961], [0.6431372549019608, 0.7098039215686275, 0.3686274509803922], [0.6470588235294118, 0.7215686274509804, 0.3843137254901961], [0.6274509803921569, 0.7215686274509804, 0.4], [0.6, 0.7137254901960784, 0.4117647058823529], [0.615686274509804, 0.7254901960784313, 0.43137254901960786], [0.615686274509804, 0.7254901960784313, 0.43137254901960786]], [[0.14901960784313725, 0.054901960784313725, 0.01568627450980392], [0.19215686274509805, 0.07058823529411765, 0.01568627450980392], [0.2196078431372549, 0.08235294117647059, 0.0196078431372549], [0.22745098039215686, 0.09019607843137255, 0.043137254901960784], [0.25098039215686274, 0.12941176470588237, 0.10196078431372549], [0.24313725490196078, 0.1411764705882353, 0.13333333333333333], [0.24313725490196078, 0.16470588235294117, 0.17254901960784313], [0.25098039215686274, 0.18823529411764706, 0.19215686274509805], [0.2823529411764706, 0.21176470588235294, 0.20784313725490197], [0.3058823529411765, 0.21568627450980393, 0.1803921568627451], [0.3686274509803922, 0.24313725490196078, 0.17254901960784313], [0.3764705882352941, 0.2980392156862745, 0.19607843137254902], [0.47058823529411764, 0.48627450980392156, 0.3176470588235294], [0.5372549019607843, 0.592156862745098, 0.33725490196078434], [0.4196078431372549, 0.5019607843137255, 0.23921568627450981], [0.41568627450980394, 0.49411764705882355, 0.27058823529411763], [0.48627450980392156, 0.5490196078431373, 0.3137254901960784], [0.5568627450980392, 0.6313725490196078, 0.35294117647058826], [0.596078431372549, 0.6980392156862745, 0.4117647058823529], [0.6196078431372549, 0.7254901960784313, 0.43529411764705883], [0.6196078431372549, 0.7294117647058823, 0.43529411764705883], [0.596078431372549, 0.7058823529411765, 0.403921568627451], [0.615686274509804, 0.7215686274509804, 0.4196078431372549], [0.615686274509804, 0.7333333333333333, 0.42745098039215684], [0.6039215686274509, 0.7294117647058823, 0.4235294117647059], [0.615686274509804, 0.7294117647058823, 0.40784313725490196], [0.615686274509804, 0.7098039215686275, 0.37254901960784315], [0.6431372549019608, 0.7372549019607844, 0.396078431372549], [0.6196078431372549, 0.7254901960784313, 0.4], [0.5843137254901961, 0.7058823529411765, 0.38823529411764707], [0.5803921568627451, 0.6980392156862745, 0.37254901960784315], [0.6078431372549019, 0.7137254901960784, 0.3843137254901961]], [[0.1411764705882353, 0.050980392156862744, 0.011764705882352941], [0.17647058823529413, 0.07058823529411765, 0.027450980392156862], [0.2, 0.0784313725490196, 0.03529411764705882], [0.20392156862745098, 0.07450980392156863, 0.03529411764705882], [0.23529411764705882, 0.10980392156862745, 0.0784313725490196], [0.22745098039215686, 0.11372549019607843, 0.10980392156862745], [0.2196078431372549, 0.12941176470588237, 0.1411764705882353], [0.2235294117647059, 0.14901960784313725, 0.16470588235294117], [0.23921568627450981, 0.17254901960784313, 0.17254901960784313], [0.2627450980392157, 0.18823529411764706, 0.15294117647058825], [0.30980392156862746, 0.21176470588235294, 0.13725490196078433], [0.33725490196078434, 0.28627450980392155, 0.16470588235294117], [0.5294117647058824, 0.5568627450980392, 0.3803921568627451], [0.6078431372549019, 0.6509803921568628, 0.44313725490196076], [0.5019607843137255, 0.5607843137254902, 0.34509803921568627], [0.4823529411764706, 0.5490196078431373, 0.3411764705882353], [0.6078431372549019, 0.6745098039215687, 0.4549019607843137], [0.6666666666666666, 0.7490196078431373, 0.49019607843137253], [0.6705882352941176, 0.7803921568627451, 0.48627450980392156], [0.6745098039215687, 0.788235294117647, 0.49019607843137253], [0.6509803921568628, 0.7607843137254902, 0.47058823529411764], [0.6313725490196078, 0.7411764705882353, 0.45098039215686275], [0.6392156862745098, 0.7529411764705882, 0.4627450980392157], [0.6470588235294118, 0.7607843137254902, 0.4745098039215686], [0.6392156862745098, 0.7450980392156863, 0.4666666666666667], [0.6745098039215687, 0.7764705882352941, 0.49019607843137253], [0.6588235294117647, 0.7607843137254902, 0.4588235294117647], [0.6235294117647059, 0.7294117647058823, 0.4196078431372549], [0.592156862745098, 0.7058823529411765, 0.39215686274509803], [0.5843137254901961, 0.7098039215686275, 0.38823529411764707], [0.592156862745098, 0.7254901960784313, 0.3686274509803922], [0.5764705882352941, 0.7098039215686275, 0.34509803921568627]], [[0.13725490196078433, 0.050980392156862744, 0.01568627450980392], [0.16862745098039217, 0.07058823529411765, 0.0392156862745098], [0.2, 0.09411764705882353, 0.06666666666666667], [0.1843137254901961, 0.07058823529411765, 0.043137254901960784], [0.20392156862745098, 0.08235294117647059, 0.06274509803921569], [0.23137254901960785, 0.11764705882352941, 0.11764705882352941], [0.2, 0.10980392156862745, 0.12549019607843137], [0.18823529411764706, 0.11764705882352941, 0.12941176470588237], [0.21176470588235294, 0.15294117647058825, 0.15294117647058825], [0.24705882352941178, 0.1803921568627451, 0.15294117647058825], [0.26666666666666666, 0.18823529411764706, 0.13333333333333333], [0.3568627450980392, 0.30980392156862746, 0.25882352941176473], [0.7137254901960784, 0.7176470588235294, 0.6862745098039216], [0.8352941176470589, 0.8431372549019608, 0.803921568627451], [0.803921568627451, 0.8235294117647058, 0.7725490196078432], [0.7647058823529411, 0.796078431372549, 0.7294117647058823], [0.7647058823529411, 0.807843137254902, 0.7294117647058823], [0.7647058823529411, 0.8196078431372549, 0.7254901960784313], [0.7607843137254902, 0.8313725490196079, 0.7137254901960784], [0.7568627450980392, 0.8313725490196079, 0.7058823529411765], [0.7450980392156863, 0.8196078431372549, 0.6980392156862745], [0.7411764705882353, 0.8156862745098039, 0.6941176470588235], [0.7411764705882353, 0.8156862745098039, 0.6941176470588235], [0.7333333333333333, 0.807843137254902, 0.6745098039215687], [0.7294117647058823, 0.796078431372549, 0.6313725490196078], [0.7411764705882353, 0.8156862745098039, 0.6352941176470588], [0.7098039215686275, 0.792156862745098, 0.6039215686274509], [0.6666666666666666, 0.7568627450980392, 0.5568627450980392], [0.6431372549019608, 0.7450980392156863, 0.5294117647058824], [0.611764705882353, 0.7215686274509804, 0.4980392156862745], [0.592156862745098, 0.7098039215686275, 0.47058823529411764], [0.5607843137254902, 0.6823529411764706, 0.4392156862745098]], [[0.12941176470588237, 0.054901960784313725, 0.023529411764705882], [0.15294117647058825, 0.07058823529411765, 0.043137254901960784], [0.21568627450980393, 0.12549019607843137, 0.10196078431372549], [0.21176470588235294, 0.10588235294117647, 0.09019607843137255], [0.18823529411764706, 0.07450980392156863, 0.058823529411764705], [0.21176470588235294, 0.11372549019607843, 0.10588235294117647], [0.19215686274509805, 0.11372549019607843, 0.11764705882352941], [0.1568627450980392, 0.09803921568627451, 0.10980392156862745], [0.1411764705882353, 0.09411764705882353, 0.10588235294117647], [0.2196078431372549, 0.16470588235294117, 0.1568627450980392], [0.2627450980392157, 0.18823529411764706, 0.1568627450980392], [0.396078431372549, 0.34901960784313724, 0.33725490196078434], [0.7647058823529411, 0.7607843137254902, 0.7803921568627451], [0.8235294117647058, 0.8235294117647058, 0.8352941176470589], [0.796078431372549, 0.803921568627451, 0.803921568627451], [0.7764705882352941, 0.8, 0.7843137254901961], [0.7372549019607844, 0.7725490196078432, 0.7450980392156863], [0.7176470588235294, 0.7568627450980392, 0.7333333333333333], [0.7254901960784313, 0.7725490196078432, 0.7529411764705882], [0.7294117647058823, 0.7764705882352941, 0.7568627450980392], [0.7333333333333333, 0.7803921568627451, 0.7568627450980392], [0.7333333333333333, 0.7803921568627451, 0.7607843137254902], [0.7254901960784313, 0.7686274509803922, 0.7490196078431373], [0.7215686274509804, 0.7686274509803922, 0.7411764705882353], [0.7254901960784313, 0.7686274509803922, 0.7372549019607844], [0.7215686274509804, 0.7725490196078432, 0.7294117647058823], [0.7058823529411765, 0.7686274509803922, 0.7137254901960784], [0.6941176470588235, 0.7607843137254902, 0.6941176470588235], [0.6784313725490196, 0.7607843137254902, 0.6784313725490196], [0.6627450980392157, 0.7529411764705882, 0.6666666666666666], [0.6666666666666666, 0.7490196078431373, 0.6705882352941176], [0.6588235294117647, 0.7372549019607844, 0.6627450980392157]]]]}'"
            ]
          },
          "metadata": {
            "tags": []
          },
          "execution_count": 41
        }
      ]
    },
    {
      "cell_type": "markdown",
      "metadata": {
        "id": "KZDKjyfbPoIa",
        "colab_type": "text"
      },
      "source": [
        "### Enviando a primeira requisição POST para o modelo"
      ]
    },
    {
      "cell_type": "code",
      "metadata": {
        "id": "uLLzVnVRJp7x",
        "colab_type": "code",
        "colab": {}
      },
      "source": [
        "headers = {\"content-type\": \"application/json\"}"
      ],
      "execution_count": 0,
      "outputs": []
    },
    {
      "cell_type": "code",
      "metadata": {
        "id": "ccg8lHh5J0cY",
        "colab_type": "code",
        "colab": {}
      },
      "source": [
        "json_response = requests.post(url=\"http://localhost:8501/v1/models/cifar10:predict\", data = data, headers = headers)"
      ],
      "execution_count": 0,
      "outputs": []
    },
    {
      "cell_type": "code",
      "metadata": {
        "id": "5Z2GMM-AKn_6",
        "colab_type": "code",
        "outputId": "9002d8ef-872e-43a2-daa1-58021dc440fe",
        "colab": {
          "base_uri": "https://localhost:8080/",
          "height": 34
        }
      },
      "source": [
        "json_response"
      ],
      "execution_count": 0,
      "outputs": [
        {
          "output_type": "execute_result",
          "data": {
            "text/plain": [
              "<Response [200]>"
            ]
          },
          "metadata": {
            "tags": []
          },
          "execution_count": 44
        }
      ]
    },
    {
      "cell_type": "code",
      "metadata": {
        "id": "nVjM83cWK-yr",
        "colab_type": "code",
        "colab": {}
      },
      "source": [
        "predictions = json.loads(json_response.text)['predictions']"
      ],
      "execution_count": 0,
      "outputs": []
    },
    {
      "cell_type": "code",
      "metadata": {
        "id": "QKEOLZ__LHCH",
        "colab_type": "code",
        "outputId": "83412e1b-15a0-461f-a60d-f58be3115105",
        "colab": {
          "base_uri": "https://localhost:8080/",
          "height": 187
        }
      },
      "source": [
        "predictions"
      ],
      "execution_count": 0,
      "outputs": [
        {
          "output_type": "execute_result",
          "data": {
            "text/plain": [
              "[[1.29174839e-06,\n",
              "  3.90305637e-08,\n",
              "  2.41002152e-08,\n",
              "  5.7435733e-07,\n",
              "  3.03971973e-07,\n",
              "  3.61679433e-08,\n",
              "  5.37696199e-09,\n",
              "  4.1830976e-08,\n",
              "  0.99997437,\n",
              "  2.33127885e-05]]"
            ]
          },
          "metadata": {
            "tags": []
          },
          "execution_count": 53
        }
      ]
    },
    {
      "cell_type": "code",
      "metadata": {
        "id": "abegdbY3LXIM",
        "colab_type": "code",
        "outputId": "76b6b510-53ed-43a6-d631-bf6f7308fd86",
        "colab": {
          "base_uri": "https://localhost:8080/",
          "height": 286
        }
      },
      "source": [
        "plt.imshow(X_test[random_image])"
      ],
      "execution_count": 0,
      "outputs": [
        {
          "output_type": "execute_result",
          "data": {
            "text/plain": [
              "<matplotlib.image.AxesImage at 0x7fd0baeb6ef0>"
            ]
          },
          "metadata": {
            "tags": []
          },
          "execution_count": 46
        },
        {
          "output_type": "display_data",
          "data": {
            "image/png": "[encoded data removed]",
            "text/plain": [
              "<Figure size 432x288 with 1 Axes>"
            ]
          },
          "metadata": {
            "tags": []
          }
        }
      ]
    },
    {
      "cell_type": "code",
      "metadata": {
        "id": "7dQqqlioLq6B",
        "colab_type": "code",
        "outputId": "1b2d4ec4-6ccb-48bb-9bc1-0d94d0e19cbf",
        "colab": {
          "base_uri": "https://localhost:8080/",
          "height": 34
        }
      },
      "source": [
        "class_names[np.argmax(predictions[0])]"
      ],
      "execution_count": 0,
      "outputs": [
        {
          "output_type": "execute_result",
          "data": {
            "text/plain": [
              "'deer'"
            ]
          },
          "metadata": {
            "tags": []
          },
          "execution_count": 47
        }
      ]
    },
    {
      "cell_type": "markdown",
      "metadata": {
        "id": "OVN6T3tFR_IQ",
        "colab_type": "text"
      },
      "source": [
        "## Etapa 8: Enviando a requisição POST para um modelo específico que está armazendo no servidor"
      ]
    },
    {
      "cell_type": "code",
      "metadata": {
        "id": "Z5NYumDFNINp",
        "colab_type": "code",
        "colab": {}
      },
      "source": [
        "specific_json_response = requests.post(url=\"http://localhost:8501/v1/models/cifar10/versions/1:predict\", data = data, headers = headers)"
      ],
      "execution_count": 0,
      "outputs": []
    },
    {
      "cell_type": "code",
      "metadata": {
        "id": "KYYS3vXTPoHv",
        "colab_type": "code",
        "outputId": "c18df73a-356c-42dd-bfe0-8232392ee2e6",
        "colab": {
          "base_uri": "https://localhost:8080/",
          "height": 34
        }
      },
      "source": [
        "specific_json_response"
      ],
      "execution_count": 0,
      "outputs": [
        {
          "output_type": "execute_result",
          "data": {
            "text/plain": [
              "<Response [200]>"
            ]
          },
          "metadata": {
            "tags": []
          },
          "execution_count": 51
        }
      ]
    }
  ]
}