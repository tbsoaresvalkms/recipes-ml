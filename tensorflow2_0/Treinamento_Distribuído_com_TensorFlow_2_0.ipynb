{
  "nbformat": 4,
  "nbformat_minor": 0,
  "metadata": {
    "colab": {
      "name": "Treinamento Distribuído com TensorFlow 2.0.ipynb",
      "provenance": [],
      "collapsed_sections": []
    },
    "kernelspec": {
      "name": "python3",
      "display_name": "Python 3"
    },
    "accelerator": "GPU"
  },
  "cells": [
    {
      "cell_type": "markdown",
      "metadata": {
        "id": "7eeB9h7f-5Pk",
        "colab_type": "text"
      },
      "source": [
        "## Etapa 1: Instalação das bibliotecas"
      ]
    },
    {
      "cell_type": "code",
      "metadata": {
        "id": "wZML5kPN-k8a",
        "colab_type": "code",
        "outputId": "a0d03558-7376-49da-a55c-7539c5c00553",
        "colab": {
          "base_uri": "https://localhost:8080/",
          "height": 496
        }
      },
      "source": [
        "!pip install tensorflow-gpu==2.0.0.alpha0"
      ],
      "execution_count": 0,
      "outputs": [
        {
          "output_type": "stream",
          "text": [
            "Collecting tensorflow-gpu==2.0.0.alpha0\n",
            "\u001b[?25l  Downloading https://files.pythonhosted.org/packages/1a/66/32cffad095253219d53f6b6c2a436637bbe45ac4e7be0244557210dc3918/tensorflow_gpu-2.0.0a0-cp36-cp36m-manylinux1_x86_64.whl (332.1MB)\n",
            "\u001b[K     |████████████████████████████████| 332.1MB 63kB/s \n",
            "\u001b[?25hCollecting tb-nightly<1.14.0a20190302,>=1.14.0a20190301 (from tensorflow-gpu==2.0.0.alpha0)\n",
            "\u001b[?25l  Downloading https://files.pythonhosted.org/packages/a9/51/aa1d756644bf4624c03844115e4ac4058eff77acd786b26315f051a4b195/tb_nightly-1.14.0a20190301-py3-none-any.whl (3.0MB)\n",
            "\u001b[K     |████████████████████████████████| 3.0MB 44.6MB/s \n",
            "\u001b[?25hRequirement already satisfied: astor>=0.6.0 in /usr/local/lib/python3.6/dist-packages (from tensorflow-gpu==2.0.0.alpha0) (0.8.0)\n",
            "Requirement already satisfied: wheel>=0.26 in /usr/local/lib/python3.6/dist-packages (from tensorflow-gpu==2.0.0.alpha0) (0.33.6)\n",
            "Requirement already satisfied: termcolor>=1.1.0 in /usr/local/lib/python3.6/dist-packages (from tensorflow-gpu==2.0.0.alpha0) (1.1.0)\n",
            "Requirement already satisfied: google-pasta>=0.1.2 in /usr/local/lib/python3.6/dist-packages (from tensorflow-gpu==2.0.0.alpha0) (0.1.7)\n",
            "Requirement already satisfied: six>=1.10.0 in /usr/local/lib/python3.6/dist-packages (from tensorflow-gpu==2.0.0.alpha0) (1.12.0)\n",
            "Requirement already satisfied: numpy<2.0,>=1.14.5 in /usr/local/lib/python3.6/dist-packages (from tensorflow-gpu==2.0.0.alpha0) (1.16.5)\n",
            "Requirement already satisfied: keras-applications>=1.0.6 in /usr/local/lib/python3.6/dist-packages (from tensorflow-gpu==2.0.0.alpha0) (1.0.8)\n",
            "Collecting tf-estimator-nightly<1.14.0.dev2019030116,>=1.14.0.dev2019030115 (from tensorflow-gpu==2.0.0.alpha0)\n",
            "\u001b[?25l  Downloading https://files.pythonhosted.org/packages/13/82/f16063b4eed210dc2ab057930ac1da4fbe1e91b7b051a6c8370b401e6ae7/tf_estimator_nightly-1.14.0.dev2019030115-py2.py3-none-any.whl (411kB)\n",
            "\u001b[K     |████████████████████████████████| 419kB 46.2MB/s \n",
            "\u001b[?25hRequirement already satisfied: keras-preprocessing>=1.0.5 in /usr/local/lib/python3.6/dist-packages (from tensorflow-gpu==2.0.0.alpha0) (1.1.0)\n",
            "Requirement already satisfied: gast>=0.2.0 in /usr/local/lib/python3.6/dist-packages (from tensorflow-gpu==2.0.0.alpha0) (0.2.2)\n",
            "Requirement already satisfied: grpcio>=1.8.6 in /usr/local/lib/python3.6/dist-packages (from tensorflow-gpu==2.0.0.alpha0) (1.15.0)\n",
            "Requirement already satisfied: absl-py>=0.7.0 in /usr/local/lib/python3.6/dist-packages (from tensorflow-gpu==2.0.0.alpha0) (0.8.0)\n",
            "Requirement already satisfied: protobuf>=3.6.1 in /usr/local/lib/python3.6/dist-packages (from tensorflow-gpu==2.0.0.alpha0) (3.7.1)\n",
            "Requirement already satisfied: werkzeug>=0.11.15 in /usr/local/lib/python3.6/dist-packages (from tb-nightly<1.14.0a20190302,>=1.14.0a20190301->tensorflow-gpu==2.0.0.alpha0) (0.15.6)\n",
            "Requirement already satisfied: markdown>=2.6.8 in /usr/local/lib/python3.6/dist-packages (from tb-nightly<1.14.0a20190302,>=1.14.0a20190301->tensorflow-gpu==2.0.0.alpha0) (3.1.1)\n",
            "Requirement already satisfied: h5py in /usr/local/lib/python3.6/dist-packages (from keras-applications>=1.0.6->tensorflow-gpu==2.0.0.alpha0) (2.8.0)\n",
            "Requirement already satisfied: setuptools in /usr/local/lib/python3.6/dist-packages (from protobuf>=3.6.1->tensorflow-gpu==2.0.0.alpha0) (41.2.0)\n",
            "Installing collected packages: tb-nightly, tf-estimator-nightly, tensorflow-gpu\n",
            "Successfully installed tb-nightly-1.14.0a20190301 tensorflow-gpu-2.0.0a0 tf-estimator-nightly-1.14.0.dev2019030115\n"
          ],
          "name": "stdout"
        }
      ]
    },
    {
      "cell_type": "markdown",
      "metadata": {
        "id": "lSKxj2vSED3K",
        "colab_type": "text"
      },
      "source": [
        "## Etapa 2: Importação das bibliotecas"
      ]
    },
    {
      "cell_type": "code",
      "metadata": {
        "id": "SJgY-K01ELTU",
        "colab_type": "code",
        "colab": {}
      },
      "source": [
        "import time\n",
        "import numpy as np\n",
        "import tensorflow as tf"
      ],
      "execution_count": 0,
      "outputs": []
    },
    {
      "cell_type": "code",
      "metadata": {
        "id": "sRUOhsd8EMht",
        "colab_type": "code",
        "outputId": "32941706-efc9-4da7-dc7e-51fdc28ca246",
        "colab": {
          "base_uri": "https://localhost:8080/",
          "height": 34
        }
      },
      "source": [
        "tf.__version__"
      ],
      "execution_count": 0,
      "outputs": [
        {
          "output_type": "execute_result",
          "data": {
            "text/plain": [
              "'2.0.0-alpha0'"
            ]
          },
          "metadata": {
            "tags": []
          },
          "execution_count": 14
        }
      ]
    },
    {
      "cell_type": "markdown",
      "metadata": {
        "id": "26ptHcr0EI0a",
        "colab_type": "text"
      },
      "source": [
        "## Etapa 3: Pré-processamento"
      ]
    },
    {
      "cell_type": "markdown",
      "metadata": {
        "id": "hczKVjTGEjAH",
        "colab_type": "text"
      },
      "source": [
        "### Carregando a base de dados MNIST"
      ]
    },
    {
      "cell_type": "code",
      "metadata": {
        "id": "G1Ha87twDSHS",
        "colab_type": "code",
        "colab": {}
      },
      "source": [
        "(X_train, y_train), (X_test, y_test) = tf.keras.datasets.mnist.load_data()"
      ],
      "execution_count": 0,
      "outputs": []
    },
    {
      "cell_type": "markdown",
      "metadata": {
        "id": "7Rx1xqx0Ek2Y",
        "colab_type": "text"
      },
      "source": [
        "### Normalização das imagens"
      ]
    },
    {
      "cell_type": "code",
      "metadata": {
        "id": "iiCH6RVDEmdS",
        "colab_type": "code",
        "colab": {}
      },
      "source": [
        "X_train = X_train / 255.\n",
        "X_test = X_test / 255."
      ],
      "execution_count": 0,
      "outputs": []
    },
    {
      "cell_type": "code",
      "metadata": {
        "id": "dKO-LUwRF_VN",
        "colab_type": "code",
        "outputId": "37bf833b-57e8-46b3-ef1e-ce3aea4ae4db",
        "colab": {
          "base_uri": "https://localhost:8080/",
          "height": 34
        }
      },
      "source": [
        "X_train.shape"
      ],
      "execution_count": 0,
      "outputs": [
        {
          "output_type": "execute_result",
          "data": {
            "text/plain": [
              "(60000, 28, 28)"
            ]
          },
          "metadata": {
            "tags": []
          },
          "execution_count": 18
        }
      ]
    },
    {
      "cell_type": "markdown",
      "metadata": {
        "id": "cFay5qJlEm9j",
        "colab_type": "text"
      },
      "source": [
        "### Mudança das dimensões"
      ]
    },
    {
      "cell_type": "code",
      "metadata": {
        "id": "jKSk6QhDEpTR",
        "colab_type": "code",
        "colab": {}
      },
      "source": [
        "X_train = X_train.reshape(-1, 28*28)\n",
        "X_test = X_test.reshape(-1, 28*28)"
      ],
      "execution_count": 0,
      "outputs": []
    },
    {
      "cell_type": "code",
      "metadata": {
        "id": "tY5ZlIXbGT6z",
        "colab_type": "code",
        "outputId": "5246359f-f2e7-46a1-b77e-9b05cce91083",
        "colab": {
          "base_uri": "https://localhost:8080/",
          "height": 34
        }
      },
      "source": [
        "X_train.shape"
      ],
      "execution_count": 0,
      "outputs": [
        {
          "output_type": "execute_result",
          "data": {
            "text/plain": [
              "(60000, 784)"
            ]
          },
          "metadata": {
            "tags": []
          },
          "execution_count": 20
        }
      ]
    },
    {
      "cell_type": "markdown",
      "metadata": {
        "id": "4C4z3xaBHCkj",
        "colab_type": "text"
      },
      "source": [
        "## Etapa 4: Treinamento distribuído"
      ]
    },
    {
      "cell_type": "markdown",
      "metadata": {
        "id": "Go7pPmPNHF4i",
        "colab_type": "text"
      },
      "source": [
        "### Definição do modelo normal (não distribuído)"
      ]
    },
    {
      "cell_type": "code",
      "metadata": {
        "id": "y0-yHacPGVbC",
        "colab_type": "code",
        "colab": {}
      },
      "source": [
        "model_normal = tf.keras.models.Sequential()\n",
        "model_normal.add(tf.keras.layers.Dense(units=128, activation='relu', input_shape=(784,)))\n",
        "model_normal.add(tf.keras.layers.Dropout(rate=0.2))\n",
        "model_normal.add(tf.keras.layers.Dense(units=10, activation='softmax'))\n",
        "model_normal.compile(optimizer='adam', loss='sparse_categorical_crossentropy', metrics=['sparse_categorical_accuracy'])"
      ],
      "execution_count": 0,
      "outputs": []
    },
    {
      "cell_type": "markdown",
      "metadata": {
        "id": "QxNAPpg_Ixd1",
        "colab_type": "text"
      },
      "source": [
        "### Definição da estratégia distribuída"
      ]
    },
    {
      "cell_type": "code",
      "metadata": {
        "id": "0QizNJXBuQ6R",
        "colab_type": "code",
        "outputId": "34bf0dd8-45ce-4f68-b382-abc48b0d8c48",
        "colab": {
          "base_uri": "https://localhost:8080/",
          "height": 68
        }
      },
      "source": [
        "distribute = tf.distribute.MirroredStrategy()"
      ],
      "execution_count": 0,
      "outputs": [
        {
          "output_type": "stream",
          "text": [
            "INFO:tensorflow:Device is available but not used by distribute strategy: /device:CPU:0\n",
            "INFO:tensorflow:Device is available but not used by distribute strategy: /device:XLA_GPU:0\n",
            "INFO:tensorflow:Device is available but not used by distribute strategy: /device:XLA_CPU:0\n"
          ],
          "name": "stdout"
        }
      ]
    },
    {
      "cell_type": "markdown",
      "metadata": {
        "id": "Yq18oQJyLvR8",
        "colab_type": "text"
      },
      "source": [
        "### Definindo um modelo distribuído"
      ]
    },
    {
      "cell_type": "code",
      "metadata": {
        "id": "YeJPAzw4wUUv",
        "colab_type": "code",
        "outputId": "4611901e-5a55-4e6b-bd5d-6c30c2b865db",
        "colab": {
          "base_uri": "https://localhost:8080/",
          "height": 187
        }
      },
      "source": [
        "with distribute.scope():\n",
        "  model_distributed = tf.keras.models.Sequential()\n",
        "  model_distributed.add(tf.keras.layers.Dense(units=128, activation='relu', input_shape=(784,)))\n",
        "  model_distributed.add(tf.keras.layers.Dropout(rate=0.2))\n",
        "  model_distributed.add(tf.keras.layers.Dense(units=10, activation='softmax'))\n",
        "  model_distributed.compile(optimizer='adam', loss='sparse_categorical_crossentropy', metrics=['sparse_categorical_accuracy'])"
      ],
      "execution_count": 0,
      "outputs": [
        {
          "output_type": "stream",
          "text": [
            "INFO:tensorflow:Reduce to /job:localhost/replica:0/task:0/device:CPU:0 then broadcast to ('/job:localhost/replica:0/task:0/device:CPU:0',).\n",
            "INFO:tensorflow:Reduce to /job:localhost/replica:0/task:0/device:CPU:0 then broadcast to ('/job:localhost/replica:0/task:0/device:CPU:0',).\n",
            "INFO:tensorflow:Reduce to /job:localhost/replica:0/task:0/device:CPU:0 then broadcast to ('/job:localhost/replica:0/task:0/device:CPU:0',).\n",
            "INFO:tensorflow:Reduce to /job:localhost/replica:0/task:0/device:CPU:0 then broadcast to ('/job:localhost/replica:0/task:0/device:CPU:0',).\n",
            "INFO:tensorflow:Reduce to /job:localhost/replica:0/task:0/device:CPU:0 then broadcast to ('/job:localhost/replica:0/task:0/device:CPU:0',).\n",
            "INFO:tensorflow:Reduce to /job:localhost/replica:0/task:0/device:CPU:0 then broadcast to ('/job:localhost/replica:0/task:0/device:CPU:0',).\n",
            "INFO:tensorflow:Reduce to /job:localhost/replica:0/task:0/device:CPU:0 then broadcast to ('/job:localhost/replica:0/task:0/device:CPU:0',).\n",
            "INFO:tensorflow:Reduce to /job:localhost/replica:0/task:0/device:CPU:0 then broadcast to ('/job:localhost/replica:0/task:0/device:CPU:0',).\n",
            "INFO:tensorflow:Reduce to /job:localhost/replica:0/task:0/device:CPU:0 then broadcast to ('/job:localhost/replica:0/task:0/device:CPU:0',).\n",
            "INFO:tensorflow:Reduce to /job:localhost/replica:0/task:0/device:CPU:0 then broadcast to ('/job:localhost/replica:0/task:0/device:CPU:0',).\n"
          ],
          "name": "stdout"
        }
      ]
    },
    {
      "cell_type": "markdown",
      "metadata": {
        "id": "yq-5J0hmNJPh",
        "colab_type": "text"
      },
      "source": [
        "### Comparação de velocidade entre o treinamento normal e o treinamento distribuído"
      ]
    },
    {
      "cell_type": "code",
      "metadata": {
        "id": "c3KCpeC2w9OF",
        "colab_type": "code",
        "outputId": "205d9496-9487-4324-c2bd-67fc7d8b8b0c",
        "colab": {
          "base_uri": "https://localhost:8080/",
          "height": 751
        }
      },
      "source": [
        "starting_time = time.time()\n",
        "model_distributed.fit(X_train, y_train, epochs=20, batch_size=128)\n",
        "print(\"Distributed training: {}\".format(time.time() - starting_time))"
      ],
      "execution_count": 0,
      "outputs": [
        {
          "output_type": "stream",
          "text": [
            "INFO:tensorflow:batch_all_reduce invoked for batches size = 4 with algorithm = nccl, num_packs = 1, agg_small_grads_max_bytes = 0 and agg_small_grads_max_group = 10\n",
            "Epoch 1/20\n",
            "469/469 [==============================] - 4s 7ms/step - loss: 0.4019 - sparse_categorical_accuracy: 0.8845\n",
            "Epoch 2/20\n",
            "469/469 [==============================] - 3s 6ms/step - loss: 0.1911 - sparse_categorical_accuracy: 0.9453\n",
            "Epoch 3/20\n",
            "469/469 [==============================] - 3s 6ms/step - loss: 0.1461 - sparse_categorical_accuracy: 0.9572\n",
            "Epoch 4/20\n",
            "469/469 [==============================] - 3s 6ms/step - loss: 0.1190 - sparse_categorical_accuracy: 0.9645\n",
            "Epoch 5/20\n",
            "469/469 [==============================] - 3s 6ms/step - loss: 0.1013 - sparse_categorical_accuracy: 0.9696\n",
            "Epoch 6/20\n",
            "469/469 [==============================] - 3s 6ms/step - loss: 0.0880 - sparse_categorical_accuracy: 0.9738\n",
            "Epoch 7/20\n",
            "469/469 [==============================] - 3s 6ms/step - loss: 0.0764 - sparse_categorical_accuracy: 0.9765\n",
            "Epoch 8/20\n",
            "469/469 [==============================] - 3s 6ms/step - loss: 0.0707 - sparse_categorical_accuracy: 0.9784\n",
            "Epoch 9/20\n",
            "469/469 [==============================] - 3s 6ms/step - loss: 0.0631 - sparse_categorical_accuracy: 0.9809\n",
            "Epoch 10/20\n",
            "469/469 [==============================] - 3s 6ms/step - loss: 0.0572 - sparse_categorical_accuracy: 0.9821\n",
            "Epoch 11/20\n",
            "469/469 [==============================] - 3s 6ms/step - loss: 0.0524 - sparse_categorical_accuracy: 0.9839\n",
            "Epoch 12/20\n",
            "469/469 [==============================] - 3s 6ms/step - loss: 0.0483 - sparse_categorical_accuracy: 0.9849\n",
            "Epoch 13/20\n",
            "469/469 [==============================] - 3s 6ms/step - loss: 0.0461 - sparse_categorical_accuracy: 0.9857\n",
            "Epoch 14/20\n",
            "469/469 [==============================] - 3s 6ms/step - loss: 0.0420 - sparse_categorical_accuracy: 0.9866\n",
            "Epoch 15/20\n",
            "469/469 [==============================] - 3s 6ms/step - loss: 0.0388 - sparse_categorical_accuracy: 0.9874\n",
            "Epoch 16/20\n",
            "469/469 [==============================] - 3s 6ms/step - loss: 0.0371 - sparse_categorical_accuracy: 0.9875\n",
            "Epoch 17/20\n",
            "469/469 [==============================] - 3s 6ms/step - loss: 0.0353 - sparse_categorical_accuracy: 0.9884\n",
            "Epoch 18/20\n",
            "469/469 [==============================] - 3s 6ms/step - loss: 0.0324 - sparse_categorical_accuracy: 0.9894\n",
            "Epoch 19/20\n",
            "469/469 [==============================] - 3s 6ms/step - loss: 0.0295 - sparse_categorical_accuracy: 0.9905\n",
            "Epoch 20/20\n",
            "469/469 [==============================] - 3s 6ms/step - loss: 0.0300 - sparse_categorical_accuracy: 0.9902\n",
            "Distributed training: 59.637446641922\n"
          ],
          "name": "stdout"
        }
      ]
    },
    {
      "cell_type": "code",
      "metadata": {
        "id": "IMEfp-xJxUIY",
        "colab_type": "code",
        "outputId": "3f760fd1-9f89-4ed7-eec5-42b607441fcb",
        "colab": {
          "base_uri": "https://localhost:8080/",
          "height": 714
        }
      },
      "source": [
        "starting_time = time.time()\n",
        "model_normal.fit(X_train, y_train, epochs=20, batch_size=128)\n",
        "print(\"Normal training: {}\".format(time.time() - starting_time))"
      ],
      "execution_count": 0,
      "outputs": [
        {
          "output_type": "stream",
          "text": [
            "Epoch 1/20\n",
            "60000/60000 [==============================] - 2s 42us/sample - loss: 0.4000 - sparse_categorical_accuracy: 0.8862\n",
            "Epoch 2/20\n",
            "60000/60000 [==============================] - 3s 42us/sample - loss: 0.1903 - sparse_categorical_accuracy: 0.9449\n",
            "Epoch 3/20\n",
            "60000/60000 [==============================] - 2s 39us/sample - loss: 0.1432 - sparse_categorical_accuracy: 0.9582\n",
            "Epoch 4/20\n",
            "60000/60000 [==============================] - 2s 41us/sample - loss: 0.1205 - sparse_categorical_accuracy: 0.9645\n",
            "Epoch 5/20\n",
            "60000/60000 [==============================] - 2s 40us/sample - loss: 0.1009 - sparse_categorical_accuracy: 0.9696\n",
            "Epoch 6/20\n",
            "60000/60000 [==============================] - 2s 41us/sample - loss: 0.0909 - sparse_categorical_accuracy: 0.9732\n",
            "Epoch 7/20\n",
            "60000/60000 [==============================] - 2s 40us/sample - loss: 0.0798 - sparse_categorical_accuracy: 0.9752\n",
            "Epoch 8/20\n",
            "60000/60000 [==============================] - 2s 40us/sample - loss: 0.0710 - sparse_categorical_accuracy: 0.9783\n",
            "Epoch 9/20\n",
            "60000/60000 [==============================] - 3s 42us/sample - loss: 0.0630 - sparse_categorical_accuracy: 0.9808\n",
            "Epoch 10/20\n",
            "60000/60000 [==============================] - 2s 42us/sample - loss: 0.0582 - sparse_categorical_accuracy: 0.9811\n",
            "Epoch 11/20\n",
            "60000/60000 [==============================] - 2s 42us/sample - loss: 0.0549 - sparse_categorical_accuracy: 0.9827\n",
            "Epoch 12/20\n",
            "60000/60000 [==============================] - 3s 45us/sample - loss: 0.0508 - sparse_categorical_accuracy: 0.9831\n",
            "Epoch 13/20\n",
            "60000/60000 [==============================] - 3s 42us/sample - loss: 0.0458 - sparse_categorical_accuracy: 0.9855\n",
            "Epoch 14/20\n",
            "60000/60000 [==============================] - 3s 42us/sample - loss: 0.0423 - sparse_categorical_accuracy: 0.9865\n",
            "Epoch 15/20\n",
            "60000/60000 [==============================] - 3s 43us/sample - loss: 0.0384 - sparse_categorical_accuracy: 0.9880\n",
            "Epoch 16/20\n",
            "60000/60000 [==============================] - 2s 42us/sample - loss: 0.0363 - sparse_categorical_accuracy: 0.9889\n",
            "Epoch 17/20\n",
            "60000/60000 [==============================] - 3s 42us/sample - loss: 0.0362 - sparse_categorical_accuracy: 0.9882\n",
            "Epoch 18/20\n",
            "60000/60000 [==============================] - 3s 43us/sample - loss: 0.0348 - sparse_categorical_accuracy: 0.9887\n",
            "Epoch 19/20\n",
            "60000/60000 [==============================] - 3s 42us/sample - loss: 0.0314 - sparse_categorical_accuracy: 0.9897\n",
            "Epoch 20/20\n",
            "60000/60000 [==============================] - 3s 42us/sample - loss: 0.0313 - sparse_categorical_accuracy: 0.9901\n",
            "Normal training: 59.41553330421448\n"
          ],
          "name": "stdout"
        }
      ]
    }
  ]
}