{
  "nbformat": 4,
  "nbformat_minor": 0,
  "metadata": {
    "colab": {
      "name": "Copy of Aprendizagem por Reforço para Negociação de Ações.ipynb",
      "provenance": [],
      "collapsed_sections": [],
      "toc_visible": true,
      "include_colab_link": true
    },
    "kernelspec": {
      "name": "python3",
      "display_name": "Python 3"
    },
    "accelerator": "GPU"
  },
  "cells": [
    {
      "cell_type": "markdown",
      "metadata": {
        "id": "view-in-github",
        "colab_type": "text"
      },
      "source": [
        "<a href=\"https://colab.research.google.com/github/tbsoaresvalkms/recipes-ml/blob/master/tensorflow2_0/Aprendizagem_por_Refor%C3%A7o_para_Negocia%C3%A7%C3%A3o_de_A%C3%A7%C3%B5es.ipynb\" target=\"_parent\"><img src=\"https://colab.research.google.com/assets/colab-badge.svg\" alt=\"Open In Colab\"/></a>"
      ]
    },
    {
      "cell_type": "markdown",
      "metadata": {
        "id": "CFYKMfEEEzni",
        "colab_type": "text"
      },
      "source": [
        "## Etapa 1: Instalação da bibliotecas\n"
      ]
    },
    {
      "cell_type": "code",
      "metadata": {
        "id": "UEPWe6QNErug",
        "colab_type": "code",
        "outputId": "f3c64401-18fb-4604-ff03-d5059e7f94a1",
        "colab": {
          "base_uri": "https://localhost:8080/",
          "height": 496
        }
      },
      "source": [
        "!pip install tensorflow-gpu==2.0.0.alpha0"
      ],
      "execution_count": 1,
      "outputs": [
        {
          "output_type": "stream",
          "text": [
            "Collecting tensorflow-gpu==2.0.0.alpha0\n",
            "\u001b[?25l  Downloading https://files.pythonhosted.org/packages/1a/66/32cffad095253219d53f6b6c2a436637bbe45ac4e7be0244557210dc3918/tensorflow_gpu-2.0.0a0-cp36-cp36m-manylinux1_x86_64.whl (332.1MB)\n",
            "\u001b[K     |████████████████████████████████| 332.1MB 54kB/s \n",
            "\u001b[?25hRequirement already satisfied: gast>=0.2.0 in /usr/local/lib/python3.6/dist-packages (from tensorflow-gpu==2.0.0.alpha0) (0.2.2)\n",
            "Requirement already satisfied: protobuf>=3.6.1 in /usr/local/lib/python3.6/dist-packages (from tensorflow-gpu==2.0.0.alpha0) (3.10.0)\n",
            "Requirement already satisfied: grpcio>=1.8.6 in /usr/local/lib/python3.6/dist-packages (from tensorflow-gpu==2.0.0.alpha0) (1.15.0)\n",
            "Requirement already satisfied: astor>=0.6.0 in /usr/local/lib/python3.6/dist-packages (from tensorflow-gpu==2.0.0.alpha0) (0.8.1)\n",
            "Collecting tb-nightly<1.14.0a20190302,>=1.14.0a20190301\n",
            "\u001b[?25l  Downloading https://files.pythonhosted.org/packages/a9/51/aa1d756644bf4624c03844115e4ac4058eff77acd786b26315f051a4b195/tb_nightly-1.14.0a20190301-py3-none-any.whl (3.0MB)\n",
            "\u001b[K     |████████████████████████████████| 3.0MB 34.6MB/s \n",
            "\u001b[?25hRequirement already satisfied: six>=1.10.0 in /usr/local/lib/python3.6/dist-packages (from tensorflow-gpu==2.0.0.alpha0) (1.12.0)\n",
            "Requirement already satisfied: termcolor>=1.1.0 in /usr/local/lib/python3.6/dist-packages (from tensorflow-gpu==2.0.0.alpha0) (1.1.0)\n",
            "Requirement already satisfied: absl-py>=0.7.0 in /usr/local/lib/python3.6/dist-packages (from tensorflow-gpu==2.0.0.alpha0) (0.8.1)\n",
            "Requirement already satisfied: keras-preprocessing>=1.0.5 in /usr/local/lib/python3.6/dist-packages (from tensorflow-gpu==2.0.0.alpha0) (1.1.0)\n",
            "Collecting tf-estimator-nightly<1.14.0.dev2019030116,>=1.14.0.dev2019030115\n",
            "\u001b[?25l  Downloading https://files.pythonhosted.org/packages/13/82/f16063b4eed210dc2ab057930ac1da4fbe1e91b7b051a6c8370b401e6ae7/tf_estimator_nightly-1.14.0.dev2019030115-py2.py3-none-any.whl (411kB)\n",
            "\u001b[K     |████████████████████████████████| 419kB 47.0MB/s \n",
            "\u001b[?25hRequirement already satisfied: keras-applications>=1.0.6 in /usr/local/lib/python3.6/dist-packages (from tensorflow-gpu==2.0.0.alpha0) (1.0.8)\n",
            "Requirement already satisfied: wheel>=0.26 in /usr/local/lib/python3.6/dist-packages (from tensorflow-gpu==2.0.0.alpha0) (0.33.6)\n",
            "Requirement already satisfied: numpy<2.0,>=1.14.5 in /usr/local/lib/python3.6/dist-packages (from tensorflow-gpu==2.0.0.alpha0) (1.17.4)\n",
            "Requirement already satisfied: google-pasta>=0.1.2 in /usr/local/lib/python3.6/dist-packages (from tensorflow-gpu==2.0.0.alpha0) (0.1.8)\n",
            "Requirement already satisfied: setuptools in /usr/local/lib/python3.6/dist-packages (from protobuf>=3.6.1->tensorflow-gpu==2.0.0.alpha0) (42.0.2)\n",
            "Requirement already satisfied: werkzeug>=0.11.15 in /usr/local/lib/python3.6/dist-packages (from tb-nightly<1.14.0a20190302,>=1.14.0a20190301->tensorflow-gpu==2.0.0.alpha0) (0.16.0)\n",
            "Requirement already satisfied: markdown>=2.6.8 in /usr/local/lib/python3.6/dist-packages (from tb-nightly<1.14.0a20190302,>=1.14.0a20190301->tensorflow-gpu==2.0.0.alpha0) (3.1.1)\n",
            "Requirement already satisfied: h5py in /usr/local/lib/python3.6/dist-packages (from keras-applications>=1.0.6->tensorflow-gpu==2.0.0.alpha0) (2.8.0)\n",
            "Installing collected packages: tb-nightly, tf-estimator-nightly, tensorflow-gpu\n",
            "Successfully installed tb-nightly-1.14.0a20190301 tensorflow-gpu-2.0.0a0 tf-estimator-nightly-1.14.0.dev2019030115\n"
          ],
          "name": "stdout"
        }
      ]
    },
    {
      "cell_type": "code",
      "metadata": {
        "id": "6lafKy3gGRFW",
        "colab_type": "code",
        "outputId": "5d65f93c-1d23-4558-c1d3-63147ba6fa35",
        "colab": {
          "base_uri": "https://localhost:8080/",
          "height": 258
        }
      },
      "source": [
        "!pip install pandas-datareader"
      ],
      "execution_count": 2,
      "outputs": [
        {
          "output_type": "stream",
          "text": [
            "Requirement already satisfied: pandas-datareader in /usr/local/lib/python3.6/dist-packages (0.7.4)\n",
            "Requirement already satisfied: lxml in /usr/local/lib/python3.6/dist-packages (from pandas-datareader) (4.2.6)\n",
            "Requirement already satisfied: requests>=2.3.0 in /usr/local/lib/python3.6/dist-packages (from pandas-datareader) (2.21.0)\n",
            "Requirement already satisfied: wrapt in /usr/local/lib/python3.6/dist-packages (from pandas-datareader) (1.11.2)\n",
            "Requirement already satisfied: pandas>=0.19.2 in /usr/local/lib/python3.6/dist-packages (from pandas-datareader) (0.25.3)\n",
            "Requirement already satisfied: idna<2.9,>=2.5 in /usr/local/lib/python3.6/dist-packages (from requests>=2.3.0->pandas-datareader) (2.8)\n",
            "Requirement already satisfied: urllib3<1.25,>=1.21.1 in /usr/local/lib/python3.6/dist-packages (from requests>=2.3.0->pandas-datareader) (1.24.3)\n",
            "Requirement already satisfied: certifi>=2017.4.17 in /usr/local/lib/python3.6/dist-packages (from requests>=2.3.0->pandas-datareader) (2019.11.28)\n",
            "Requirement already satisfied: chardet<3.1.0,>=3.0.2 in /usr/local/lib/python3.6/dist-packages (from requests>=2.3.0->pandas-datareader) (3.0.4)\n",
            "Requirement already satisfied: pytz>=2017.2 in /usr/local/lib/python3.6/dist-packages (from pandas>=0.19.2->pandas-datareader) (2018.9)\n",
            "Requirement already satisfied: python-dateutil>=2.6.1 in /usr/local/lib/python3.6/dist-packages (from pandas>=0.19.2->pandas-datareader) (2.6.1)\n",
            "Requirement already satisfied: numpy>=1.13.3 in /usr/local/lib/python3.6/dist-packages (from pandas>=0.19.2->pandas-datareader) (1.17.4)\n",
            "Requirement already satisfied: six>=1.5 in /usr/local/lib/python3.6/dist-packages (from python-dateutil>=2.6.1->pandas>=0.19.2->pandas-datareader) (1.12.0)\n"
          ],
          "name": "stdout"
        }
      ]
    },
    {
      "cell_type": "markdown",
      "metadata": {
        "id": "J0BVbvetGrlR",
        "colab_type": "text"
      },
      "source": [
        "## Etapa 2: Importação das bibliotecas"
      ]
    },
    {
      "cell_type": "code",
      "metadata": {
        "id": "qALiMginGiMW",
        "colab_type": "code",
        "outputId": "c9324b75-df71-49df-882f-35fe4ffc867b",
        "colab": {
          "base_uri": "https://localhost:8080/",
          "height": 445
        }
      },
      "source": [
        "import math\n",
        "import random\n",
        "import numpy as np\n",
        "import pandas as pd\n",
        "import tensorflow as tf\n",
        "import matplotlib.pyplot as plt\n",
        "import pandas_datareader as data_reader\n",
        "\n",
        "from tqdm import tqdm_notebook, tqdm\n",
        "from collections import deque"
      ],
      "execution_count": 3,
      "outputs": [
        {
          "output_type": "stream",
          "text": [
            "/usr/local/lib/python3.6/dist-packages/tensorflow/python/framework/dtypes.py:523: FutureWarning: Passing (type, 1) or '1type' as a synonym of type is deprecated; in a future version of numpy, it will be understood as (type, (1,)) / '(1,)type'.\n",
            "  _np_qint8 = np.dtype([(\"qint8\", np.int8, 1)])\n",
            "/usr/local/lib/python3.6/dist-packages/tensorflow/python/framework/dtypes.py:524: FutureWarning: Passing (type, 1) or '1type' as a synonym of type is deprecated; in a future version of numpy, it will be understood as (type, (1,)) / '(1,)type'.\n",
            "  _np_quint8 = np.dtype([(\"quint8\", np.uint8, 1)])\n",
            "/usr/local/lib/python3.6/dist-packages/tensorflow/python/framework/dtypes.py:525: FutureWarning: Passing (type, 1) or '1type' as a synonym of type is deprecated; in a future version of numpy, it will be understood as (type, (1,)) / '(1,)type'.\n",
            "  _np_qint16 = np.dtype([(\"qint16\", np.int16, 1)])\n",
            "/usr/local/lib/python3.6/dist-packages/tensorflow/python/framework/dtypes.py:526: FutureWarning: Passing (type, 1) or '1type' as a synonym of type is deprecated; in a future version of numpy, it will be understood as (type, (1,)) / '(1,)type'.\n",
            "  _np_quint16 = np.dtype([(\"quint16\", np.uint16, 1)])\n",
            "/usr/local/lib/python3.6/dist-packages/tensorflow/python/framework/dtypes.py:527: FutureWarning: Passing (type, 1) or '1type' as a synonym of type is deprecated; in a future version of numpy, it will be understood as (type, (1,)) / '(1,)type'.\n",
            "  _np_qint32 = np.dtype([(\"qint32\", np.int32, 1)])\n",
            "/usr/local/lib/python3.6/dist-packages/tensorflow/python/framework/dtypes.py:532: FutureWarning: Passing (type, 1) or '1type' as a synonym of type is deprecated; in a future version of numpy, it will be understood as (type, (1,)) / '(1,)type'.\n",
            "  np_resource = np.dtype([(\"resource\", np.ubyte, 1)])\n",
            "/usr/local/lib/python3.6/dist-packages/tensorboard/compat/tensorflow_stub/dtypes.py:541: FutureWarning: Passing (type, 1) or '1type' as a synonym of type is deprecated; in a future version of numpy, it will be understood as (type, (1,)) / '(1,)type'.\n",
            "  _np_qint8 = np.dtype([(\"qint8\", np.int8, 1)])\n",
            "/usr/local/lib/python3.6/dist-packages/tensorboard/compat/tensorflow_stub/dtypes.py:542: FutureWarning: Passing (type, 1) or '1type' as a synonym of type is deprecated; in a future version of numpy, it will be understood as (type, (1,)) / '(1,)type'.\n",
            "  _np_quint8 = np.dtype([(\"quint8\", np.uint8, 1)])\n",
            "/usr/local/lib/python3.6/dist-packages/tensorboard/compat/tensorflow_stub/dtypes.py:543: FutureWarning: Passing (type, 1) or '1type' as a synonym of type is deprecated; in a future version of numpy, it will be understood as (type, (1,)) / '(1,)type'.\n",
            "  _np_qint16 = np.dtype([(\"qint16\", np.int16, 1)])\n",
            "/usr/local/lib/python3.6/dist-packages/tensorboard/compat/tensorflow_stub/dtypes.py:544: FutureWarning: Passing (type, 1) or '1type' as a synonym of type is deprecated; in a future version of numpy, it will be understood as (type, (1,)) / '(1,)type'.\n",
            "  _np_quint16 = np.dtype([(\"quint16\", np.uint16, 1)])\n",
            "/usr/local/lib/python3.6/dist-packages/tensorboard/compat/tensorflow_stub/dtypes.py:545: FutureWarning: Passing (type, 1) or '1type' as a synonym of type is deprecated; in a future version of numpy, it will be understood as (type, (1,)) / '(1,)type'.\n",
            "  _np_qint32 = np.dtype([(\"qint32\", np.int32, 1)])\n",
            "/usr/local/lib/python3.6/dist-packages/tensorboard/compat/tensorflow_stub/dtypes.py:550: FutureWarning: Passing (type, 1) or '1type' as a synonym of type is deprecated; in a future version of numpy, it will be understood as (type, (1,)) / '(1,)type'.\n",
            "  np_resource = np.dtype([(\"resource\", np.ubyte, 1)])\n"
          ],
          "name": "stderr"
        }
      ]
    },
    {
      "cell_type": "code",
      "metadata": {
        "id": "drGd9adHGuje",
        "colab_type": "code",
        "outputId": "92573905-7cf5-42ef-beaa-4d2c6eccebc2",
        "colab": {
          "base_uri": "https://localhost:8080/",
          "height": 34
        }
      },
      "source": [
        "tf.__version__"
      ],
      "execution_count": 4,
      "outputs": [
        {
          "output_type": "execute_result",
          "data": {
            "text/plain": [
              "'2.0.0-alpha0'"
            ]
          },
          "metadata": {
            "tags": []
          },
          "execution_count": 4
        }
      ]
    },
    {
      "cell_type": "markdown",
      "metadata": {
        "id": "__E4SMMaGwqb",
        "colab_type": "text"
      },
      "source": [
        "## Etapa 3: Construção da IA para negociação de ações"
      ]
    },
    {
      "cell_type": "code",
      "metadata": {
        "id": "qV_UlZrLeSUk",
        "colab_type": "code",
        "colab": {}
      },
      "source": [
        "class AI_Trader():\n",
        "  \n",
        "  def __init__(self, state_size, action_space = 3, model_name = \"AITrader\"):\n",
        "    # O estado que esta vindo do ambiente\n",
        "    self.state_size = state_size\n",
        "    # Acoes possiveis que podemos tomar\n",
        "    self.action_space = action_space\n",
        "    # +- O numero de acoes para depois fazer o treinamento.\n",
        "    self.memory = deque(maxlen = 2000)\n",
        "\n",
        "    self.model_name = model_name\n",
        "    \n",
        "    self.gamma = 0.95\n",
        "    # param que determina se o agente vai seguir a rede ou escolher aleatorio. 1 quer dizer que vai ser 100% aleatorio, o motivo disso, pois no comeco a rede ainda nao esta treinada, entao precisa ser feito escolhas randomicas\n",
        "    self.epsilon = 1.0\n",
        "    # como esse param sera reduzido, a gente precisa coloca um minimo, obs que nao eh 0, entao em determinados momentos ele ira escolher pontos aleatorios\n",
        "    self.epsilon_final = 0.01\n",
        "    # esse valor determina o quanto o param de aleatoridade ira cair.\n",
        "    self.epsilon_decay = 0.995\n",
        "    self.model = self.model_builder()\n",
        "    \n",
        "  def model_builder(self):\n",
        "    model = tf.keras.models.Sequential()\n",
        "    model.add(tf.keras.layers.Dense(units = 32, activation = \"relu\", input_dim = self.state_size))\n",
        "    model.add(tf.keras.layers.Dense(units = 64, activation = \"relu\"))\n",
        "    model.add(tf.keras.layers.Dense(units = 128, activation = \"relu\"))\n",
        "    model.add(tf.keras.layers.Dense(units = self.action_space, activation = \"linear\"))\n",
        "    model.compile(loss = \"mse\", optimizer = tf.keras.optimizers.Adam(lr = 0.001))\n",
        "    return model\n",
        "  \n",
        "  def trade(self, state):\n",
        "    if random.random() <= self.epsilon:\n",
        "      return random.randrange(self.action_space)\n",
        "    \n",
        "    actions = self.model.predict(state)\n",
        "    return np.argmax(actions[0])\n",
        "  \n",
        "  def batch_train(self, batch_size):\n",
        "    batch = []\n",
        "    for i in range(len(self.memory) - batch_size + 1, len(self.memory)):\n",
        "      batch.append(self.memory[i])\n",
        "      \n",
        "    for state, action, reward, next_state, done in batch:\n",
        "      if not done:\n",
        "        reward = reward + self.gamma * np.amax(self.model.predict(next_state)[0])\n",
        "        \n",
        "      target = self.model.predict(state)\n",
        "      target[0][action] = reward\n",
        "      \n",
        "      self.model.fit(state, target, epochs=1, verbose=0)\n",
        "      \n",
        "    if self.epsilon > self.epsilon_final:\n",
        "      self.epsilon *= self.epsilon_decay\n",
        "      "
      ],
      "execution_count": 0,
      "outputs": []
    },
    {
      "cell_type": "code",
      "metadata": {
        "id": "nei9YcfmWn0y",
        "colab_type": "code",
        "outputId": "445c9283-d508-4085-88a3-e4e69173370d",
        "colab": {
          "base_uri": "https://localhost:8080/",
          "height": 34
        }
      },
      "source": [
        "random.randrange(3)"
      ],
      "execution_count": 6,
      "outputs": [
        {
          "output_type": "execute_result",
          "data": {
            "text/plain": [
              "0"
            ]
          },
          "metadata": {
            "tags": []
          },
          "execution_count": 6
        }
      ]
    },
    {
      "cell_type": "markdown",
      "metadata": {
        "id": "7tcUyJMnS479",
        "colab_type": "text"
      },
      "source": [
        "## Etapa 4: Pré-processamento da base de dados"
      ]
    },
    {
      "cell_type": "markdown",
      "metadata": {
        "id": "ya_4XPUMS8Pe",
        "colab_type": "text"
      },
      "source": [
        "### Definição de funções auxiliares"
      ]
    },
    {
      "cell_type": "markdown",
      "metadata": {
        "id": "kK6UDGe0TACz",
        "colab_type": "text"
      },
      "source": [
        "#### Sigmoid"
      ]
    },
    {
      "cell_type": "code",
      "metadata": {
        "id": "IzXG-49iSZX3",
        "colab_type": "code",
        "colab": {}
      },
      "source": [
        "def sigmoid(x):\n",
        "  return 1 / (1 + math.exp(-x))"
      ],
      "execution_count": 0,
      "outputs": []
    },
    {
      "cell_type": "code",
      "metadata": {
        "id": "3kLpIoe6wMLQ",
        "colab_type": "code",
        "outputId": "b21cbe2a-f19e-4355-c998-ae262d27ba90",
        "colab": {
          "base_uri": "https://localhost:8080/",
          "height": 34
        }
      },
      "source": [
        "sigmoid(0.5)"
      ],
      "execution_count": 8,
      "outputs": [
        {
          "output_type": "execute_result",
          "data": {
            "text/plain": [
              "0.6224593312018546"
            ]
          },
          "metadata": {
            "tags": []
          },
          "execution_count": 8
        }
      ]
    },
    {
      "cell_type": "markdown",
      "metadata": {
        "id": "0VRbmx_OTDtZ",
        "colab_type": "text"
      },
      "source": [
        "#### Formatação de preços"
      ]
    },
    {
      "cell_type": "code",
      "metadata": {
        "id": "N8vVBL8YTGaE",
        "colab_type": "code",
        "colab": {}
      },
      "source": [
        "def stocks_price_format(n):\n",
        "  if n < 0:\n",
        "    return \"- $ {0:2f}\".format(abs(n))\n",
        "  else:\n",
        "    return \"$ {0:2f}\".format(abs(n))"
      ],
      "execution_count": 0,
      "outputs": []
    },
    {
      "cell_type": "code",
      "metadata": {
        "id": "3pH2jleGwSlG",
        "colab_type": "code",
        "outputId": "f6572abf-d784-4577-ffd1-73fb4a1a23ec",
        "colab": {
          "base_uri": "https://localhost:8080/",
          "height": 34
        }
      },
      "source": [
        "stocks_price_format(100)"
      ],
      "execution_count": 10,
      "outputs": [
        {
          "output_type": "execute_result",
          "data": {
            "text/plain": [
              "'$ 100.000000'"
            ]
          },
          "metadata": {
            "tags": []
          },
          "execution_count": 10
        }
      ]
    },
    {
      "cell_type": "markdown",
      "metadata": {
        "id": "j8_bXTiFTHnH",
        "colab_type": "text"
      },
      "source": [
        "#### Carregador da base de dados"
      ]
    },
    {
      "cell_type": "code",
      "metadata": {
        "id": "2bNOpbV2yjTK",
        "colab_type": "code",
        "colab": {}
      },
      "source": [
        "dataset = data_reader.DataReader(\"AAPL\", data_source = \"yahoo\")"
      ],
      "execution_count": 0,
      "outputs": []
    },
    {
      "cell_type": "code",
      "metadata": {
        "id": "mef6ZW4w09_R",
        "colab_type": "code",
        "outputId": "4b214689-681a-4722-bfa5-7306f4d72598",
        "colab": {
          "base_uri": "https://localhost:8080/",
          "height": 235
        }
      },
      "source": [
        "dataset.tail()"
      ],
      "execution_count": 12,
      "outputs": [
        {
          "output_type": "execute_result",
          "data": {
            "text/html": [
              "<div>\n",
              "<style scoped>\n",
              "    .dataframe tbody tr th:only-of-type {\n",
              "        vertical-align: middle;\n",
              "    }\n",
              "\n",
              "    .dataframe tbody tr th {\n",
              "        vertical-align: top;\n",
              "    }\n",
              "\n",
              "    .dataframe thead th {\n",
              "        text-align: right;\n",
              "    }\n",
              "</style>\n",
              "<table border=\"1\" class=\"dataframe\">\n",
              "  <thead>\n",
              "    <tr style=\"text-align: right;\">\n",
              "      <th></th>\n",
              "      <th>High</th>\n",
              "      <th>Low</th>\n",
              "      <th>Open</th>\n",
              "      <th>Close</th>\n",
              "      <th>Volume</th>\n",
              "      <th>Adj Close</th>\n",
              "    </tr>\n",
              "    <tr>\n",
              "      <th>Date</th>\n",
              "      <th></th>\n",
              "      <th></th>\n",
              "      <th></th>\n",
              "      <th></th>\n",
              "      <th></th>\n",
              "      <th></th>\n",
              "    </tr>\n",
              "  </thead>\n",
              "  <tbody>\n",
              "    <tr>\n",
              "      <th>2019-12-09</th>\n",
              "      <td>270.799988</td>\n",
              "      <td>264.910004</td>\n",
              "      <td>270.000000</td>\n",
              "      <td>266.920013</td>\n",
              "      <td>32010600.0</td>\n",
              "      <td>266.920013</td>\n",
              "    </tr>\n",
              "    <tr>\n",
              "      <th>2019-12-10</th>\n",
              "      <td>270.070007</td>\n",
              "      <td>265.859985</td>\n",
              "      <td>268.600006</td>\n",
              "      <td>268.480011</td>\n",
              "      <td>22605100.0</td>\n",
              "      <td>268.480011</td>\n",
              "    </tr>\n",
              "    <tr>\n",
              "      <th>2019-12-11</th>\n",
              "      <td>271.100006</td>\n",
              "      <td>268.500000</td>\n",
              "      <td>268.809998</td>\n",
              "      <td>270.769989</td>\n",
              "      <td>19689200.0</td>\n",
              "      <td>270.769989</td>\n",
              "    </tr>\n",
              "    <tr>\n",
              "      <th>2019-12-12</th>\n",
              "      <td>272.559998</td>\n",
              "      <td>267.320007</td>\n",
              "      <td>267.779999</td>\n",
              "      <td>271.459991</td>\n",
              "      <td>34327600.0</td>\n",
              "      <td>271.459991</td>\n",
              "    </tr>\n",
              "    <tr>\n",
              "      <th>2019-12-13</th>\n",
              "      <td>275.299988</td>\n",
              "      <td>270.929993</td>\n",
              "      <td>271.459991</td>\n",
              "      <td>275.149994</td>\n",
              "      <td>33396900.0</td>\n",
              "      <td>275.149994</td>\n",
              "    </tr>\n",
              "  </tbody>\n",
              "</table>\n",
              "</div>"
            ],
            "text/plain": [
              "                  High         Low  ...      Volume   Adj Close\n",
              "Date                                ...                        \n",
              "2019-12-09  270.799988  264.910004  ...  32010600.0  266.920013\n",
              "2019-12-10  270.070007  265.859985  ...  22605100.0  268.480011\n",
              "2019-12-11  271.100006  268.500000  ...  19689200.0  270.769989\n",
              "2019-12-12  272.559998  267.320007  ...  34327600.0  271.459991\n",
              "2019-12-13  275.299988  270.929993  ...  33396900.0  275.149994\n",
              "\n",
              "[5 rows x 6 columns]"
            ]
          },
          "metadata": {
            "tags": []
          },
          "execution_count": 12
        }
      ]
    },
    {
      "cell_type": "code",
      "metadata": {
        "id": "of2H_S1R2Aeq",
        "colab_type": "code",
        "outputId": "91a1d5b4-eb25-42b7-8593-2d63d8edc751",
        "colab": {
          "base_uri": "https://localhost:8080/",
          "height": 34
        }
      },
      "source": [
        "str(dataset.index[0]).split()[0]"
      ],
      "execution_count": 13,
      "outputs": [
        {
          "output_type": "execute_result",
          "data": {
            "text/plain": [
              "'2010-01-04'"
            ]
          },
          "metadata": {
            "tags": []
          },
          "execution_count": 13
        }
      ]
    },
    {
      "cell_type": "code",
      "metadata": {
        "id": "-aQGb62K2qa8",
        "colab_type": "code",
        "outputId": "12feaa41-6cca-4c83-ea18-eb8bf5814253",
        "colab": {
          "base_uri": "https://localhost:8080/",
          "height": 34
        }
      },
      "source": [
        "dataset.index[-1]"
      ],
      "execution_count": 14,
      "outputs": [
        {
          "output_type": "execute_result",
          "data": {
            "text/plain": [
              "Timestamp('2019-12-13 00:00:00')"
            ]
          },
          "metadata": {
            "tags": []
          },
          "execution_count": 14
        }
      ]
    },
    {
      "cell_type": "code",
      "metadata": {
        "id": "myj5_5yj2-ka",
        "colab_type": "code",
        "outputId": "cf363968-a210-4a80-b72d-3ac8679ed0e0",
        "colab": {
          "base_uri": "https://localhost:8080/",
          "height": 238
        }
      },
      "source": [
        "dataset['Close']"
      ],
      "execution_count": 15,
      "outputs": [
        {
          "output_type": "execute_result",
          "data": {
            "text/plain": [
              "Date\n",
              "2010-01-04     30.572857\n",
              "2010-01-05     30.625713\n",
              "2010-01-06     30.138571\n",
              "2010-01-07     30.082857\n",
              "2010-01-08     30.282858\n",
              "                 ...    \n",
              "2019-12-09    266.920013\n",
              "2019-12-10    268.480011\n",
              "2019-12-11    270.769989\n",
              "2019-12-12    271.459991\n",
              "2019-12-13    275.149994\n",
              "Name: Close, Length: 2505, dtype: float64"
            ]
          },
          "metadata": {
            "tags": []
          },
          "execution_count": 15
        }
      ]
    },
    {
      "cell_type": "code",
      "metadata": {
        "id": "n0fpuTNQ1tOP",
        "colab_type": "code",
        "colab": {}
      },
      "source": [
        "def dataset_loader(stock_name):\n",
        "  dataset = data_reader.DataReader(stock_name, data_source = \"yahoo\")\n",
        "  start_date = str(dataset.index[0]).split()[0]\n",
        "  end_date = str(dataset.index[-1]).split()[0]\n",
        "  close = dataset['Close']\n",
        "  return close"
      ],
      "execution_count": 0,
      "outputs": []
    },
    {
      "cell_type": "markdown",
      "metadata": {
        "id": "eG5ueRzH1Kh8",
        "colab_type": "text"
      },
      "source": [
        "### Criador de estados"
      ]
    },
    {
      "cell_type": "code",
      "metadata": {
        "id": "iMbqIpLq9Ee2",
        "colab_type": "code",
        "outputId": "925bf7ea-968c-4d51-ad8d-166ad030fca2",
        "colab": {
          "base_uri": "https://localhost:8080/",
          "height": 34
        }
      },
      "source": [
        "0 - 5 + 1"
      ],
      "execution_count": 17,
      "outputs": [
        {
          "output_type": "execute_result",
          "data": {
            "text/plain": [
              "-4"
            ]
          },
          "metadata": {
            "tags": []
          },
          "execution_count": 17
        }
      ]
    },
    {
      "cell_type": "code",
      "metadata": {
        "id": "ii_VUJlN9KeI",
        "colab_type": "code",
        "outputId": "424982cc-cdaf-4f32-e612-9fe4f5f65d08",
        "colab": {
          "base_uri": "https://localhost:8080/",
          "height": 34
        }
      },
      "source": [
        "20 - 5 + 1"
      ],
      "execution_count": 18,
      "outputs": [
        {
          "output_type": "execute_result",
          "data": {
            "text/plain": [
              "16"
            ]
          },
          "metadata": {
            "tags": []
          },
          "execution_count": 18
        }
      ]
    },
    {
      "cell_type": "code",
      "metadata": {
        "id": "26nd_oRH9iP7",
        "colab_type": "code",
        "outputId": "62a0935f-e8e4-4e5e-b3a6-8a047b93d4f0",
        "colab": {
          "base_uri": "https://localhost:8080/",
          "height": 235
        }
      },
      "source": [
        "dataset[16:21]"
      ],
      "execution_count": 19,
      "outputs": [
        {
          "output_type": "execute_result",
          "data": {
            "text/html": [
              "<div>\n",
              "<style scoped>\n",
              "    .dataframe tbody tr th:only-of-type {\n",
              "        vertical-align: middle;\n",
              "    }\n",
              "\n",
              "    .dataframe tbody tr th {\n",
              "        vertical-align: top;\n",
              "    }\n",
              "\n",
              "    .dataframe thead th {\n",
              "        text-align: right;\n",
              "    }\n",
              "</style>\n",
              "<table border=\"1\" class=\"dataframe\">\n",
              "  <thead>\n",
              "    <tr style=\"text-align: right;\">\n",
              "      <th></th>\n",
              "      <th>High</th>\n",
              "      <th>Low</th>\n",
              "      <th>Open</th>\n",
              "      <th>Close</th>\n",
              "      <th>Volume</th>\n",
              "      <th>Adj Close</th>\n",
              "    </tr>\n",
              "    <tr>\n",
              "      <th>Date</th>\n",
              "      <th></th>\n",
              "      <th></th>\n",
              "      <th></th>\n",
              "      <th></th>\n",
              "      <th></th>\n",
              "      <th></th>\n",
              "    </tr>\n",
              "  </thead>\n",
              "  <tbody>\n",
              "    <tr>\n",
              "      <th>2010-01-27</th>\n",
              "      <td>30.082857</td>\n",
              "      <td>28.504286</td>\n",
              "      <td>29.549999</td>\n",
              "      <td>29.697144</td>\n",
              "      <td>430642100.0</td>\n",
              "      <td>25.839514</td>\n",
              "    </tr>\n",
              "    <tr>\n",
              "      <th>2010-01-28</th>\n",
              "      <td>29.357143</td>\n",
              "      <td>28.385714</td>\n",
              "      <td>29.275715</td>\n",
              "      <td>28.469999</td>\n",
              "      <td>293375600.0</td>\n",
              "      <td>24.771774</td>\n",
              "    </tr>\n",
              "    <tr>\n",
              "      <th>2010-01-29</th>\n",
              "      <td>28.885714</td>\n",
              "      <td>27.178572</td>\n",
              "      <td>28.725714</td>\n",
              "      <td>27.437143</td>\n",
              "      <td>311488100.0</td>\n",
              "      <td>23.873083</td>\n",
              "    </tr>\n",
              "    <tr>\n",
              "      <th>2010-02-01</th>\n",
              "      <td>28.000000</td>\n",
              "      <td>27.328571</td>\n",
              "      <td>27.481428</td>\n",
              "      <td>27.818571</td>\n",
              "      <td>187469100.0</td>\n",
              "      <td>24.204962</td>\n",
              "    </tr>\n",
              "    <tr>\n",
              "      <th>2010-02-02</th>\n",
              "      <td>28.045713</td>\n",
              "      <td>27.625713</td>\n",
              "      <td>27.987143</td>\n",
              "      <td>27.980000</td>\n",
              "      <td>174585600.0</td>\n",
              "      <td>24.345423</td>\n",
              "    </tr>\n",
              "  </tbody>\n",
              "</table>\n",
              "</div>"
            ],
            "text/plain": [
              "                 High        Low       Open      Close       Volume  Adj Close\n",
              "Date                                                                          \n",
              "2010-01-27  30.082857  28.504286  29.549999  29.697144  430642100.0  25.839514\n",
              "2010-01-28  29.357143  28.385714  29.275715  28.469999  293375600.0  24.771774\n",
              "2010-01-29  28.885714  27.178572  28.725714  27.437143  311488100.0  23.873083\n",
              "2010-02-01  28.000000  27.328571  27.481428  27.818571  187469100.0  24.204962\n",
              "2010-02-02  28.045713  27.625713  27.987143  27.980000  174585600.0  24.345423"
            ]
          },
          "metadata": {
            "tags": []
          },
          "execution_count": 19
        }
      ]
    },
    {
      "cell_type": "code",
      "metadata": {
        "id": "D0rX3jY48WaQ",
        "colab_type": "code",
        "colab": {}
      },
      "source": [
        "def state_creator(data, timestep, window_size):\n",
        "  starting_id = timestep - window_size + 1\n",
        "  \n",
        "  if starting_id >= 0:\n",
        "    windowed_data = data[starting_id:timestep + 1]\n",
        "  else:\n",
        "    windowed_data = - starting_id * [data[0]] + list(data[0:timestep + 1])\n",
        "    \n",
        "  state = []\n",
        "  for i in range(window_size - 1):\n",
        "    state.append(sigmoid(windowed_data[i + 1] - windowed_data[i]))\n",
        "    \n",
        "  return np.array([state]), windowed_data"
      ],
      "execution_count": 0,
      "outputs": []
    },
    {
      "cell_type": "markdown",
      "metadata": {
        "id": "sV2a68QC34N-",
        "colab_type": "text"
      },
      "source": [
        "### Carregando a base de dados"
      ]
    },
    {
      "cell_type": "code",
      "metadata": {
        "id": "ye-U_gaNCFcz",
        "colab_type": "code",
        "colab": {}
      },
      "source": [
        "stock_name = \"AAPL\"\n",
        "data = dataset_loader(stock_name)"
      ],
      "execution_count": 0,
      "outputs": []
    },
    {
      "cell_type": "code",
      "metadata": {
        "id": "q36_uruXCNjI",
        "colab_type": "code",
        "colab": {}
      },
      "source": [
        "s, w = state_creator(data, 1000, 5)"
      ],
      "execution_count": 0,
      "outputs": []
    },
    {
      "cell_type": "code",
      "metadata": {
        "id": "BzpDmRHmCl1k",
        "colab_type": "code",
        "outputId": "2ab1f9fd-5f94-4997-abf0-b6a232590a1f",
        "colab": {
          "base_uri": "https://localhost:8080/",
          "height": 34
        }
      },
      "source": [
        "s"
      ],
      "execution_count": 23,
      "outputs": [
        {
          "output_type": "execute_result",
          "data": {
            "text/plain": [
              "array([[0.35368976, 0.28875709, 0.65733224, 0.95302395]])"
            ]
          },
          "metadata": {
            "tags": []
          },
          "execution_count": 23
        }
      ]
    },
    {
      "cell_type": "code",
      "metadata": {
        "id": "cWb7euNCCnsS",
        "colab_type": "code",
        "outputId": "a2d319a8-c8ed-4239-ab85-b01c2fa24efc",
        "colab": {
          "base_uri": "https://localhost:8080/",
          "height": 136
        }
      },
      "source": [
        "w"
      ],
      "execution_count": 24,
      "outputs": [
        {
          "output_type": "execute_result",
          "data": {
            "text/plain": [
              "Date\n",
              "2013-12-17    79.284286\n",
              "2013-12-18    78.681427\n",
              "2013-12-19    77.779999\n",
              "2013-12-20    78.431427\n",
              "2013-12-23    81.441429\n",
              "Name: Close, dtype: float64"
            ]
          },
          "metadata": {
            "tags": []
          },
          "execution_count": 24
        }
      ]
    },
    {
      "cell_type": "markdown",
      "metadata": {
        "id": "k_KUeBY14o8Z",
        "colab_type": "text"
      },
      "source": [
        "## Etapa 5: Treinando a IA"
      ]
    },
    {
      "cell_type": "markdown",
      "metadata": {
        "id": "hkyW12-L4qo_",
        "colab_type": "text"
      },
      "source": [
        "### Configuração dos hyper parâmetros"
      ]
    },
    {
      "cell_type": "code",
      "metadata": {
        "id": "jt1Z8b8iKH9t",
        "colab_type": "code",
        "colab": {}
      },
      "source": [
        "window_size = 10\n",
        "episodes = 1000\n",
        "batch_size = 32\n",
        "data_samples = len(data) - 1"
      ],
      "execution_count": 0,
      "outputs": []
    },
    {
      "cell_type": "code",
      "metadata": {
        "id": "99tv5fIkKlq9",
        "colab_type": "code",
        "outputId": "df6bcd25-7e4a-4b60-93a5-6f7ce9f6ccb6",
        "colab": {
          "base_uri": "https://localhost:8080/",
          "height": 34
        }
      },
      "source": [
        "data_samples"
      ],
      "execution_count": 26,
      "outputs": [
        {
          "output_type": "execute_result",
          "data": {
            "text/plain": [
              "2504"
            ]
          },
          "metadata": {
            "tags": []
          },
          "execution_count": 26
        }
      ]
    },
    {
      "cell_type": "markdown",
      "metadata": {
        "id": "h2kvNZx24sJ7",
        "colab_type": "text"
      },
      "source": [
        "### Definição do modelo"
      ]
    },
    {
      "cell_type": "code",
      "metadata": {
        "id": "LZSDqBLMKuWJ",
        "colab_type": "code",
        "colab": {}
      },
      "source": [
        "trader = AI_Trader(window_size)"
      ],
      "execution_count": 0,
      "outputs": []
    },
    {
      "cell_type": "code",
      "metadata": {
        "id": "x4p4VbU6MioS",
        "colab_type": "code",
        "outputId": "361aadfc-33c6-4795-aa2b-836573771279",
        "colab": {
          "base_uri": "https://localhost:8080/",
          "height": 289
        }
      },
      "source": [
        "trader.model.summary()"
      ],
      "execution_count": 28,
      "outputs": [
        {
          "output_type": "stream",
          "text": [
            "Model: \"sequential\"\n",
            "_________________________________________________________________\n",
            "Layer (type)                 Output Shape              Param #   \n",
            "=================================================================\n",
            "dense (Dense)                (None, 32)                352       \n",
            "_________________________________________________________________\n",
            "dense_1 (Dense)              (None, 64)                2112      \n",
            "_________________________________________________________________\n",
            "dense_2 (Dense)              (None, 128)               8320      \n",
            "_________________________________________________________________\n",
            "dense_3 (Dense)              (None, 3)                 387       \n",
            "=================================================================\n",
            "Total params: 11,171\n",
            "Trainable params: 11,171\n",
            "Non-trainable params: 0\n",
            "_________________________________________________________________\n"
          ],
          "name": "stdout"
        }
      ]
    },
    {
      "cell_type": "markdown",
      "metadata": {
        "id": "QRip_rac5zHS",
        "colab_type": "text"
      },
      "source": [
        "### Loop de treinamento"
      ]
    },
    {
      "cell_type": "code",
      "metadata": {
        "id": "wxN9NY-_NoWw",
        "colab_type": "code",
        "outputId": "5e529a69-d22c-4e70-9263-2f964961535d",
        "colab": {
          "base_uri": "https://localhost:8080/",
          "height": 1000
        }
      },
      "source": [
        "for episode in range(1, episodes + 1):\n",
        "  print(\"Episode: {}/{}\".format(episode, episodes))\n",
        "  state = state_creator(data, 0, window_size + 1)\n",
        "  total_profit = 0\n",
        "  trader.inventory = []\n",
        "  for t in tqdm(range(data_samples)):\n",
        "    action = trader.trade(state)\n",
        "    next_state = state_creator(data, t + 1, window_size + 1)\n",
        "    reward = 0\n",
        "    \n",
        "    if action == 1 and len(trader.inventory) == 0: # Comprando uma ação\n",
        "      trader.inventory.append(data[t])\n",
        "      print(\"AI Trader bought: \", stocks_price_format(data[t]))\n",
        "    elif action == 2 and len(trader.inventory) > 0: # Vendendo uma ação  \n",
        "      buy_price = trader.inventory.pop(0)\n",
        "      \n",
        "      reward = max(data[t] - buy_price, 0)\n",
        "      total_profit += data[t] - buy_price\n",
        "      print(\"AI Trader sold: \", stocks_price_format(data[t]), \" Profit: \" + stocks_price_format(data[t] - buy_price))\n",
        "      \n",
        "    if t == data_samples - 1:\n",
        "      done = True\n",
        "    else:\n",
        "      done = False\n",
        "      \n",
        "    trader.memory.append((state, action, reward, next_state, done))\n",
        "    \n",
        "    state = next_state\n",
        "    \n",
        "    if done:\n",
        "      print(\"########################\")\n",
        "      print(\"Total profit: {}\".format(total_profit))\n",
        "      print(\"########################\")\n",
        "      \n",
        "    if len(trader.memory) > batch_size:\n",
        "      trader.batch_train(batch_size)\n",
        "     \n",
        "  if episode % 10 == 0:\n",
        "    trader.model.save(\"ai_trader_{}.h5\".format(episode))\n",
        "    "
      ],
      "execution_count": 0,
      "outputs": [
        {
          "output_type": "stream",
          "text": [
            "\n",
            "  0%|          | 0/2504 [00:00<?, ?it/s]\u001b[A"
          ],
          "name": "stderr"
        },
        {
          "output_type": "stream",
          "text": [
            "Episode: 1/1000\n"
          ],
          "name": "stdout"
        },
        {
          "output_type": "stream",
          "text": [
            "\n",
            "  0%|          | 1/2504 [00:00<11:25,  3.65it/s]\u001b[A\n",
            "  0%|          | 2/2504 [00:00<11:45,  3.54it/s]\u001b[A\n",
            "  0%|          | 3/2504 [00:00<11:40,  3.57it/s]\u001b[A\n",
            "  0%|          | 4/2504 [00:01<11:29,  3.62it/s]\u001b[A\n",
            "  0%|          | 5/2504 [00:01<11:46,  3.54it/s]\u001b[A"
          ],
          "name": "stderr"
        },
        {
          "output_type": "stream",
          "text": [
            "AI Trader bought:  $ 30.015715\n"
          ],
          "name": "stdout"
        },
        {
          "output_type": "stream",
          "text": [
            "\n",
            "  0%|          | 6/2504 [00:01<11:42,  3.56it/s]\u001b[A\n",
            "  0%|          | 7/2504 [00:01<11:12,  3.71it/s]\u001b[A\n",
            "  0%|          | 8/2504 [00:02<11:01,  3.77it/s]\u001b[A\n",
            "  0%|          | 9/2504 [00:02<11:07,  3.74it/s]\u001b[A\n",
            "  0%|          | 10/2504 [00:02<11:09,  3.72it/s]\u001b[A\n",
            "  0%|          | 11/2504 [00:02<10:57,  3.79it/s]\u001b[A\n",
            "  0%|          | 12/2504 [00:03<10:41,  3.88it/s]\u001b[A\n",
            "  1%|          | 13/2504 [00:03<10:39,  3.89it/s]\u001b[A\n",
            "  1%|          | 14/2504 [00:03<10:20,  4.01it/s]\u001b[A\n",
            "  1%|          | 15/2504 [00:03<10:23,  3.99it/s]\u001b[A\n",
            "  1%|          | 16/2504 [00:04<10:28,  3.96it/s]\u001b[A\n",
            "  1%|          | 17/2504 [00:04<10:56,  3.79it/s]\u001b[A\n",
            "  1%|          | 18/2504 [00:04<11:13,  3.69it/s]\u001b[A\n",
            "  1%|          | 19/2504 [00:05<11:21,  3.65it/s]\u001b[A\n",
            "  1%|          | 20/2504 [00:05<11:17,  3.67it/s]\u001b[A\n",
            "  1%|          | 21/2504 [00:05<11:40,  3.54it/s]\u001b[A\n",
            "  1%|          | 22/2504 [00:05<11:11,  3.69it/s]\u001b[A\n",
            "  1%|          | 23/2504 [00:06<10:50,  3.82it/s]\u001b[A\n",
            "  1%|          | 24/2504 [00:06<10:32,  3.92it/s]\u001b[A\n",
            "  1%|          | 25/2504 [00:06<10:34,  3.91it/s]\u001b[A\n",
            "  1%|          | 26/2504 [00:06<10:36,  3.90it/s]\u001b[A\n",
            "  1%|          | 27/2504 [00:07<10:41,  3.86it/s]\u001b[A\n",
            "  1%|          | 28/2504 [00:07<10:30,  3.93it/s]\u001b[A\n",
            "  1%|          | 29/2504 [00:07<10:19,  3.99it/s]\u001b[A\n",
            "  1%|          | 30/2504 [00:07<10:11,  4.05it/s]\u001b[A\n",
            "  1%|          | 31/2504 [00:08<10:12,  4.04it/s]\u001b[A\n",
            "  1%|▏         | 32/2504 [00:08<10:07,  4.07it/s]\u001b[A\n",
            "  1%|▏         | 33/2504 [00:08<10:13,  4.02it/s]\u001b[A\n",
            "  1%|▏         | 34/2504 [00:08<10:30,  3.92it/s]\u001b[A\n",
            "  1%|▏         | 35/2504 [00:09<10:47,  3.81it/s]\u001b[A\n",
            "  1%|▏         | 36/2504 [00:09<10:38,  3.86it/s]\u001b[A\n",
            "  1%|▏         | 37/2504 [00:09<10:38,  3.87it/s]\u001b[A\n",
            "  2%|▏         | 38/2504 [00:09<10:49,  3.80it/s]\u001b[A\n",
            "  2%|▏         | 39/2504 [00:10<10:52,  3.78it/s]\u001b[A\n",
            "  2%|▏         | 40/2504 [00:10<11:05,  3.70it/s]\u001b[A\n",
            "  2%|▏         | 41/2504 [00:10<11:07,  3.69it/s]\u001b[A\n",
            "  2%|▏         | 42/2504 [00:11<11:08,  3.68it/s]\u001b[A\n",
            "  2%|▏         | 43/2504 [00:11<10:49,  3.79it/s]\u001b[A\n",
            "  2%|▏         | 44/2504 [00:11<11:04,  3.70it/s]\u001b[A\n",
            "  2%|▏         | 45/2504 [00:11<10:56,  3.74it/s]\u001b[A\n",
            "  2%|▏         | 46/2504 [00:12<10:52,  3.77it/s]\u001b[A\n",
            "  2%|▏         | 47/2504 [00:12<10:36,  3.86it/s]\u001b[A\n",
            "  2%|▏         | 48/2504 [00:12<10:29,  3.90it/s]\u001b[A\n",
            "  2%|▏         | 49/2504 [00:12<10:14,  4.00it/s]\u001b[A\n",
            "  2%|▏         | 50/2504 [00:13<10:30,  3.90it/s]\u001b[A\n",
            "  2%|▏         | 51/2504 [00:13<10:24,  3.93it/s]\u001b[A\n",
            "  2%|▏         | 52/2504 [00:13<10:27,  3.91it/s]\u001b[A\n",
            "  2%|▏         | 53/2504 [00:13<10:19,  3.95it/s]\u001b[A\n",
            "  2%|▏         | 54/2504 [00:14<10:28,  3.90it/s]\u001b[A\n",
            "  2%|▏         | 55/2504 [00:14<10:32,  3.87it/s]\u001b[A\n",
            "  2%|▏         | 56/2504 [00:14<10:32,  3.87it/s]\u001b[A\n",
            "  2%|▏         | 57/2504 [00:14<10:38,  3.83it/s]\u001b[A\n",
            "  2%|▏         | 58/2504 [00:15<10:52,  3.75it/s]\u001b[A\n",
            "  2%|▏         | 59/2504 [00:15<10:45,  3.79it/s]\u001b[A\n",
            "  2%|▏         | 60/2504 [00:15<11:04,  3.68it/s]\u001b[A\n",
            "  2%|▏         | 61/2504 [00:16<11:18,  3.60it/s]\u001b[A\n",
            "  2%|▏         | 62/2504 [00:16<11:10,  3.64it/s]\u001b[A\n",
            "  3%|▎         | 63/2504 [00:16<10:52,  3.74it/s]\u001b[A\n",
            "  3%|▎         | 64/2504 [00:16<10:53,  3.73it/s]\u001b[A\n",
            "  3%|▎         | 65/2504 [00:17<10:49,  3.75it/s]\u001b[A\n",
            "  3%|▎         | 66/2504 [00:17<10:55,  3.72it/s]\u001b[A\n",
            "  3%|▎         | 67/2504 [00:17<11:11,  3.63it/s]\u001b[A\n",
            "  3%|▎         | 68/2504 [00:17<11:02,  3.67it/s]\u001b[A\n",
            "  3%|▎         | 69/2504 [00:18<10:49,  3.75it/s]\u001b[A\n",
            "  3%|▎         | 70/2504 [00:18<11:09,  3.64it/s]\u001b[A\n",
            "  3%|▎         | 71/2504 [00:18<11:23,  3.56it/s]\u001b[A\n",
            "  3%|▎         | 72/2504 [00:19<11:25,  3.55it/s]\u001b[A\n",
            "  3%|▎         | 73/2504 [00:19<11:00,  3.68it/s]\u001b[A\n",
            "  3%|▎         | 74/2504 [00:19<10:59,  3.68it/s]\u001b[A\n",
            "  3%|▎         | 75/2504 [00:19<10:49,  3.74it/s]\u001b[A\n",
            "  3%|▎         | 76/2504 [00:20<10:38,  3.80it/s]\u001b[A\n",
            "  3%|▎         | 77/2504 [00:20<10:30,  3.85it/s]\u001b[A\n",
            "  3%|▎         | 78/2504 [00:20<11:02,  3.66it/s]\u001b[A\n",
            "  3%|▎         | 79/2504 [00:20<11:07,  3.63it/s]\u001b[A\n",
            "  3%|▎         | 80/2504 [00:21<11:20,  3.56it/s]\u001b[A\n",
            "  3%|▎         | 81/2504 [00:21<11:30,  3.51it/s]\u001b[A\n",
            "  3%|▎         | 82/2504 [00:21<11:14,  3.59it/s]\u001b[A\n",
            "  3%|▎         | 83/2504 [00:22<11:16,  3.58it/s]\u001b[A\n",
            "  3%|▎         | 84/2504 [00:22<11:13,  3.59it/s]\u001b[A\n",
            "  3%|▎         | 85/2504 [00:22<11:26,  3.52it/s]\u001b[A\n",
            "  3%|▎         | 86/2504 [00:22<11:11,  3.60it/s]\u001b[A\n",
            "  3%|▎         | 87/2504 [00:23<11:22,  3.54it/s]\u001b[A\n",
            "  4%|▎         | 88/2504 [00:23<11:25,  3.53it/s]\u001b[A\n",
            "  4%|▎         | 89/2504 [00:23<11:26,  3.52it/s]\u001b[A\n",
            "  4%|▎         | 90/2504 [00:24<11:07,  3.62it/s]\u001b[A\n",
            "  4%|▎         | 91/2504 [00:24<10:47,  3.73it/s]\u001b[A\n",
            "  4%|▎         | 92/2504 [00:24<10:36,  3.79it/s]\u001b[A\n",
            "  4%|▎         | 93/2504 [00:24<10:36,  3.79it/s]\u001b[A\n",
            "  4%|▍         | 94/2504 [00:25<10:36,  3.79it/s]\u001b[A\n",
            "  4%|▍         | 95/2504 [00:25<10:39,  3.77it/s]\u001b[A\n",
            "  4%|▍         | 96/2504 [00:25<10:30,  3.82it/s]\u001b[A\n",
            "  4%|▍         | 97/2504 [00:25<10:26,  3.84it/s]\u001b[A\n",
            "  4%|▍         | 98/2504 [00:26<10:27,  3.83it/s]\u001b[A\n",
            "  4%|▍         | 99/2504 [00:26<10:22,  3.86it/s]\u001b[A\n",
            "  4%|▍         | 100/2504 [00:26<10:20,  3.88it/s]\u001b[A\n",
            "  4%|▍         | 101/2504 [00:26<10:21,  3.87it/s]\u001b[A\n",
            "  4%|▍         | 102/2504 [00:27<10:43,  3.74it/s]\u001b[A\n",
            "  4%|▍         | 103/2504 [00:27<10:18,  3.88it/s]\u001b[A\n",
            "  4%|▍         | 104/2504 [00:27<10:09,  3.94it/s]\u001b[A\n",
            "  4%|▍         | 105/2504 [00:27<10:06,  3.96it/s]\u001b[A\n",
            "  4%|▍         | 106/2504 [00:28<10:11,  3.92it/s]\u001b[A\n",
            "  4%|▍         | 107/2504 [00:28<10:09,  3.93it/s]\u001b[A\n",
            "  4%|▍         | 108/2504 [00:28<10:02,  3.98it/s]\u001b[A\n",
            "  4%|▍         | 109/2504 [00:28<10:08,  3.94it/s]\u001b[A\n",
            "  4%|▍         | 110/2504 [00:29<10:41,  3.73it/s]\u001b[A\n",
            "  4%|▍         | 111/2504 [00:29<10:34,  3.77it/s]\u001b[A\n",
            "  4%|▍         | 112/2504 [00:29<10:23,  3.83it/s]\u001b[A\n",
            "  5%|▍         | 113/2504 [00:29<10:26,  3.82it/s]\u001b[A\n",
            "  5%|▍         | 114/2504 [00:30<10:43,  3.71it/s]\u001b[A\n",
            "  5%|▍         | 115/2504 [00:30<10:51,  3.67it/s]\u001b[A\n",
            "  5%|▍         | 116/2504 [00:30<10:50,  3.67it/s]\u001b[A\n",
            "  5%|▍         | 117/2504 [00:31<11:08,  3.57it/s]\u001b[A\n",
            "  5%|▍         | 118/2504 [00:31<11:12,  3.55it/s]\u001b[A\n",
            "  5%|▍         | 119/2504 [00:31<11:30,  3.46it/s]\u001b[A\n",
            "  5%|▍         | 120/2504 [00:31<11:22,  3.50it/s]\u001b[A\n",
            "  5%|▍         | 121/2504 [00:32<11:06,  3.58it/s]\u001b[A\n",
            "  5%|▍         | 122/2504 [00:32<10:51,  3.66it/s]\u001b[A\n",
            "  5%|▍         | 123/2504 [00:32<10:28,  3.79it/s]\u001b[A\n",
            "  5%|▍         | 124/2504 [00:33<10:23,  3.82it/s]\u001b[A\n",
            "  5%|▍         | 125/2504 [00:33<10:35,  3.74it/s]\u001b[A\n",
            "  5%|▌         | 126/2504 [00:33<10:19,  3.84it/s]\u001b[A\n",
            "  5%|▌         | 127/2504 [00:33<10:10,  3.90it/s]\u001b[A\n",
            "  5%|▌         | 128/2504 [00:34<09:53,  4.00it/s]\u001b[A\n",
            "  5%|▌         | 129/2504 [00:34<10:03,  3.94it/s]\u001b[A\n",
            "  5%|▌         | 130/2504 [00:34<10:13,  3.87it/s]\u001b[A\n",
            "  5%|▌         | 131/2504 [00:34<10:06,  3.91it/s]\u001b[A\n",
            "  5%|▌         | 132/2504 [00:35<10:08,  3.90it/s]\u001b[A\n",
            "  5%|▌         | 133/2504 [00:35<10:33,  3.74it/s]\u001b[A\n",
            "  5%|▌         | 134/2504 [00:35<10:41,  3.70it/s]\u001b[A\n",
            "  5%|▌         | 135/2504 [00:35<10:41,  3.69it/s]\u001b[A\n",
            "  5%|▌         | 136/2504 [00:36<10:32,  3.74it/s]\u001b[A\n",
            "  5%|▌         | 137/2504 [00:36<10:46,  3.66it/s]\u001b[A\n",
            "  6%|▌         | 138/2504 [00:36<10:48,  3.65it/s]\u001b[A\n",
            "  6%|▌         | 139/2504 [00:36<10:31,  3.75it/s]\u001b[A\n",
            "  6%|▌         | 140/2504 [00:37<10:38,  3.70it/s]\u001b[A\n",
            "  6%|▌         | 141/2504 [00:37<10:44,  3.67it/s]\u001b[A\n",
            "  6%|▌         | 142/2504 [00:37<10:35,  3.72it/s]\u001b[A\n",
            "  6%|▌         | 143/2504 [00:38<10:23,  3.79it/s]\u001b[A\n",
            "  6%|▌         | 144/2504 [00:38<10:23,  3.78it/s]\u001b[A\n",
            "  6%|▌         | 145/2504 [00:38<10:38,  3.69it/s]\u001b[A\n",
            "  6%|▌         | 146/2504 [00:38<10:36,  3.70it/s]\u001b[A\n",
            "  6%|▌         | 147/2504 [00:39<10:32,  3.73it/s]\u001b[A\n",
            "  6%|▌         | 148/2504 [00:39<10:37,  3.70it/s]\u001b[A\n",
            "  6%|▌         | 149/2504 [00:39<10:50,  3.62it/s]\u001b[A\n",
            "  6%|▌         | 150/2504 [00:39<10:32,  3.72it/s]\u001b[A\n",
            "  6%|▌         | 151/2504 [00:40<10:13,  3.83it/s]\u001b[A\n",
            "  6%|▌         | 152/2504 [00:40<10:08,  3.86it/s]\u001b[A\n",
            "  6%|▌         | 153/2504 [00:40<10:23,  3.77it/s]\u001b[A\n",
            "  6%|▌         | 154/2504 [00:40<10:09,  3.86it/s]\u001b[A\n",
            "  6%|▌         | 155/2504 [00:41<10:14,  3.83it/s]\u001b[A\n",
            "  6%|▌         | 156/2504 [00:41<10:12,  3.83it/s]\u001b[A\n",
            "  6%|▋         | 157/2504 [00:41<10:23,  3.76it/s]\u001b[A\n",
            "  6%|▋         | 158/2504 [00:41<10:06,  3.87it/s]\u001b[A\n",
            "  6%|▋         | 159/2504 [00:42<09:59,  3.91it/s]\u001b[A\n",
            "  6%|▋         | 160/2504 [00:42<10:04,  3.88it/s]\u001b[A\n",
            "  6%|▋         | 161/2504 [00:42<10:22,  3.76it/s]\u001b[A\n",
            "  6%|▋         | 162/2504 [00:43<10:07,  3.85it/s]\u001b[A\n",
            "  7%|▋         | 163/2504 [00:43<10:00,  3.90it/s]\u001b[A\n",
            "  7%|▋         | 164/2504 [00:43<09:56,  3.92it/s]\u001b[A\n",
            "  7%|▋         | 165/2504 [00:43<10:01,  3.89it/s]\u001b[A\n",
            "  7%|▋         | 166/2504 [00:44<09:49,  3.97it/s]\u001b[A\n",
            "  7%|▋         | 167/2504 [00:44<10:03,  3.87it/s]\u001b[A\n",
            "  7%|▋         | 168/2504 [00:44<10:08,  3.84it/s]\u001b[A\n",
            "  7%|▋         | 169/2504 [00:44<09:54,  3.93it/s]\u001b[A\n",
            "  7%|▋         | 170/2504 [00:45<09:47,  3.97it/s]\u001b[A\n",
            "  7%|▋         | 171/2504 [00:45<09:42,  4.00it/s]\u001b[A\n",
            "  7%|▋         | 172/2504 [00:45<09:46,  3.98it/s]\u001b[A\n",
            "  7%|▋         | 173/2504 [00:45<09:55,  3.92it/s]\u001b[A\n",
            "  7%|▋         | 174/2504 [00:46<10:14,  3.79it/s]\u001b[A\n",
            "  7%|▋         | 175/2504 [00:46<10:19,  3.76it/s]\u001b[A\n",
            "  7%|▋         | 176/2504 [00:46<10:11,  3.81it/s]\u001b[A\n",
            "  7%|▋         | 177/2504 [00:46<10:16,  3.78it/s]\u001b[A\n",
            "  7%|▋         | 178/2504 [00:47<10:06,  3.84it/s]\u001b[A\n",
            "  7%|▋         | 179/2504 [00:47<09:49,  3.94it/s]\u001b[A\n",
            "  7%|▋         | 180/2504 [00:47<09:41,  4.00it/s]\u001b[A\n",
            "  7%|▋         | 181/2504 [00:47<09:43,  3.98it/s]\u001b[A\n",
            "  7%|▋         | 182/2504 [00:48<09:44,  3.97it/s]\u001b[A\n",
            "  7%|▋         | 183/2504 [00:48<09:56,  3.89it/s]\u001b[A\n",
            "  7%|▋         | 184/2504 [00:48<10:22,  3.73it/s]\u001b[A\n",
            "  7%|▋         | 185/2504 [00:48<10:32,  3.67it/s]\u001b[A\n",
            "  7%|▋         | 186/2504 [00:49<10:23,  3.72it/s]\u001b[A\n",
            "  7%|▋         | 187/2504 [00:49<10:19,  3.74it/s]\u001b[A\n",
            "  8%|▊         | 188/2504 [00:49<10:12,  3.78it/s]\u001b[A\n",
            "  8%|▊         | 189/2504 [00:50<10:14,  3.77it/s]\u001b[A\n",
            "  8%|▊         | 190/2504 [00:50<10:02,  3.84it/s]\u001b[A\n",
            "  8%|▊         | 191/2504 [00:50<10:02,  3.84it/s]\u001b[A\n",
            "  8%|▊         | 192/2504 [00:50<09:55,  3.88it/s]\u001b[A\n",
            "  8%|▊         | 193/2504 [00:51<10:00,  3.85it/s]\u001b[A\n",
            "  8%|▊         | 194/2504 [00:51<10:12,  3.77it/s]\u001b[A\n",
            "  8%|▊         | 195/2504 [00:51<10:34,  3.64it/s]\u001b[A\n",
            "  8%|▊         | 196/2504 [00:51<10:06,  3.80it/s]\u001b[A\n",
            "  8%|▊         | 197/2504 [00:52<10:06,  3.80it/s]\u001b[A\n",
            "  8%|▊         | 198/2504 [00:52<10:01,  3.83it/s]\u001b[A\n",
            "  8%|▊         | 199/2504 [00:52<10:05,  3.81it/s]\u001b[A\n",
            "  8%|▊         | 200/2504 [00:52<10:00,  3.84it/s]\u001b[A\n",
            "  8%|▊         | 201/2504 [00:53<10:20,  3.71it/s]\u001b[A\n",
            "  8%|▊         | 202/2504 [00:53<10:30,  3.65it/s]\u001b[A\n",
            "  8%|▊         | 203/2504 [00:53<10:33,  3.63it/s]\u001b[A\n",
            "  8%|▊         | 204/2504 [00:54<10:17,  3.72it/s]\u001b[A\n",
            "  8%|▊         | 205/2504 [00:54<10:20,  3.70it/s]\u001b[A\n",
            "  8%|▊         | 206/2504 [00:54<10:37,  3.60it/s]\u001b[A\n",
            "  8%|▊         | 207/2504 [00:54<10:21,  3.70it/s]\u001b[A\n",
            "  8%|▊         | 208/2504 [00:55<10:05,  3.79it/s]\u001b[A\n",
            "  8%|▊         | 209/2504 [00:55<10:10,  3.76it/s]\u001b[A\n",
            "  8%|▊         | 210/2504 [00:55<10:30,  3.64it/s]\u001b[A\n",
            "  8%|▊         | 211/2504 [00:55<10:16,  3.72it/s]\u001b[A\n",
            "  8%|▊         | 212/2504 [00:56<10:10,  3.75it/s]\u001b[A\n",
            "  9%|▊         | 213/2504 [00:56<10:06,  3.78it/s]\u001b[A\n",
            "  9%|▊         | 214/2504 [00:56<10:34,  3.61it/s]\u001b[A\n",
            "  9%|▊         | 215/2504 [00:56<10:13,  3.73it/s]\u001b[A\n",
            "  9%|▊         | 216/2504 [00:57<10:09,  3.75it/s]\u001b[A\n",
            "  9%|▊         | 217/2504 [00:57<09:57,  3.83it/s]\u001b[A\n",
            "  9%|▊         | 218/2504 [00:57<10:01,  3.80it/s]\u001b[A\n",
            "  9%|▊         | 219/2504 [00:58<09:50,  3.87it/s]\u001b[A\n",
            "  9%|▉         | 220/2504 [00:58<09:46,  3.89it/s]\u001b[A\n",
            "  9%|▉         | 221/2504 [00:58<10:01,  3.80it/s]\u001b[A\n",
            "  9%|▉         | 222/2504 [00:58<10:26,  3.64it/s]\u001b[A\n",
            "  9%|▉         | 223/2504 [00:59<10:34,  3.60it/s]\u001b[A\n",
            "  9%|▉         | 224/2504 [00:59<10:06,  3.76it/s]\u001b[A\n",
            "  9%|▉         | 225/2504 [00:59<10:02,  3.78it/s]\u001b[A\n",
            "  9%|▉         | 226/2504 [00:59<10:07,  3.75it/s]\u001b[A\n",
            "  9%|▉         | 227/2504 [01:00<09:56,  3.82it/s]\u001b[A\n",
            "  9%|▉         | 228/2504 [01:00<09:48,  3.87it/s]\u001b[A\n",
            "  9%|▉         | 229/2504 [01:00<10:07,  3.75it/s]\u001b[A\n",
            "  9%|▉         | 230/2504 [01:00<10:21,  3.66it/s]\u001b[A\n",
            "  9%|▉         | 231/2504 [01:01<10:25,  3.63it/s]\u001b[A\n",
            "  9%|▉         | 232/2504 [01:01<10:08,  3.73it/s]\u001b[A\n",
            "  9%|▉         | 233/2504 [01:01<10:18,  3.67it/s]\u001b[A\n",
            "  9%|▉         | 234/2504 [01:02<09:57,  3.80it/s]\u001b[A\n",
            "  9%|▉         | 235/2504 [01:02<10:09,  3.72it/s]\u001b[A\n",
            "  9%|▉         | 236/2504 [01:02<10:01,  3.77it/s]\u001b[A\n",
            "  9%|▉         | 237/2504 [01:02<10:08,  3.73it/s]\u001b[A\n",
            " 10%|▉         | 238/2504 [01:03<09:59,  3.78it/s]\u001b[A\n",
            " 10%|▉         | 239/2504 [01:03<10:00,  3.77it/s]\u001b[A\n",
            " 10%|▉         | 240/2504 [01:03<10:00,  3.77it/s]\u001b[A\n",
            " 10%|▉         | 241/2504 [01:03<10:29,  3.59it/s]\u001b[A\n",
            " 10%|▉         | 242/2504 [01:04<10:06,  3.73it/s]\u001b[A\n",
            " 10%|▉         | 243/2504 [01:04<09:42,  3.88it/s]\u001b[A\n",
            " 10%|▉         | 244/2504 [01:04<09:40,  3.89it/s]\u001b[A\n",
            " 10%|▉         | 245/2504 [01:04<09:45,  3.86it/s]\u001b[A\n",
            " 10%|▉         | 246/2504 [01:05<09:41,  3.88it/s]\u001b[A\n",
            " 10%|▉         | 247/2504 [01:05<09:37,  3.91it/s]\u001b[A\n",
            " 10%|▉         | 248/2504 [01:05<09:36,  3.91it/s]\u001b[A\n",
            " 10%|▉         | 249/2504 [01:05<09:49,  3.83it/s]\u001b[A\n",
            " 10%|▉         | 250/2504 [01:06<09:39,  3.89it/s]\u001b[A\n",
            " 10%|█         | 251/2504 [01:06<09:34,  3.92it/s]\u001b[A\n",
            " 10%|█         | 252/2504 [01:06<09:32,  3.93it/s]\u001b[A\n",
            " 10%|█         | 253/2504 [01:07<10:06,  3.71it/s]\u001b[A\n",
            " 10%|█         | 254/2504 [01:07<09:59,  3.75it/s]\u001b[A\n",
            " 10%|█         | 255/2504 [01:07<09:54,  3.79it/s]\u001b[A\n",
            " 10%|█         | 256/2504 [01:07<09:43,  3.86it/s]\u001b[A\n",
            " 10%|█         | 257/2504 [01:08<09:53,  3.79it/s]\u001b[A\n",
            " 10%|█         | 258/2504 [01:08<09:40,  3.87it/s]\u001b[A\n",
            " 10%|█         | 259/2504 [01:08<09:28,  3.95it/s]\u001b[A\n",
            " 10%|█         | 260/2504 [01:08<09:22,  3.99it/s]\u001b[A\n",
            " 10%|█         | 261/2504 [01:09<09:40,  3.86it/s]\u001b[A\n",
            " 10%|█         | 262/2504 [01:09<09:32,  3.92it/s]\u001b[A\n",
            " 11%|█         | 263/2504 [01:09<09:26,  3.96it/s]\u001b[A\n",
            " 11%|█         | 264/2504 [01:09<09:13,  4.05it/s]\u001b[A\n",
            " 11%|█         | 265/2504 [01:10<09:26,  3.95it/s]\u001b[A\n",
            " 11%|█         | 266/2504 [01:10<09:23,  3.97it/s]\u001b[A\n",
            " 11%|█         | 267/2504 [01:10<09:21,  3.99it/s]\u001b[A\n",
            " 11%|█         | 268/2504 [01:10<09:22,  3.97it/s]\u001b[A\n",
            " 11%|█         | 269/2504 [01:11<09:48,  3.80it/s]\u001b[A\n",
            " 11%|█         | 270/2504 [01:11<09:38,  3.86it/s]\u001b[A\n",
            " 11%|█         | 271/2504 [01:11<09:28,  3.93it/s]\u001b[A\n",
            " 11%|█         | 272/2504 [01:11<09:20,  3.98it/s]\u001b[A"
          ],
          "name": "stderr"
        },
        {
          "output_type": "stream",
          "text": [
            "AI Trader sold:  $ 49.290001  Profit: $ 19.274286\n"
          ],
          "name": "stdout"
        },
        {
          "output_type": "stream",
          "text": [
            "\n",
            " 11%|█         | 273/2504 [01:12<09:30,  3.91it/s]\u001b[A\n",
            " 11%|█         | 274/2504 [01:12<09:53,  3.76it/s]\u001b[A\n",
            " 11%|█         | 275/2504 [01:12<10:01,  3.71it/s]\u001b[A\n",
            " 11%|█         | 276/2504 [01:12<09:45,  3.81it/s]\u001b[A\n",
            " 11%|█         | 277/2504 [01:13<09:42,  3.82it/s]\u001b[A\n",
            " 11%|█         | 278/2504 [01:13<09:31,  3.89it/s]\u001b[A\n",
            " 11%|█         | 279/2504 [01:13<09:22,  3.95it/s]\u001b[A\n",
            " 11%|█         | 280/2504 [01:13<09:15,  4.00it/s]\u001b[A\n",
            " 11%|█         | 281/2504 [01:14<09:44,  3.81it/s]\u001b[A\n",
            " 11%|█▏        | 282/2504 [01:14<09:42,  3.81it/s]\u001b[A\n",
            " 11%|█▏        | 283/2504 [01:14<09:35,  3.86it/s]\u001b[A\n",
            " 11%|█▏        | 284/2504 [01:15<09:38,  3.84it/s]\u001b[A"
          ],
          "name": "stderr"
        },
        {
          "output_type": "stream",
          "text": [
            "AI Trader bought:  $ 51.185715\n"
          ],
          "name": "stdout"
        },
        {
          "output_type": "stream",
          "text": [
            "\n",
            " 11%|█▏        | 285/2504 [01:15<09:51,  3.75it/s]\u001b[A\n",
            " 11%|█▏        | 286/2504 [01:15<09:41,  3.82it/s]\u001b[A"
          ],
          "name": "stderr"
        },
        {
          "output_type": "stream",
          "text": [
            "AI Trader sold:  $ 48.372856  Profit: - $ 2.812859\n"
          ],
          "name": "stdout"
        },
        {
          "output_type": "stream",
          "text": [
            "\n",
            " 11%|█▏        | 287/2504 [01:15<09:49,  3.76it/s]\u001b[A\n",
            " 12%|█▏        | 288/2504 [01:16<10:02,  3.68it/s]\u001b[A\n",
            " 12%|█▏        | 289/2504 [01:16<10:03,  3.67it/s]\u001b[A"
          ],
          "name": "stderr"
        },
        {
          "output_type": "stream",
          "text": [
            "AI Trader bought:  $ 49.737144\n"
          ],
          "name": "stdout"
        },
        {
          "output_type": "stream",
          "text": [
            "\n",
            " 12%|█▏        | 290/2504 [01:16<10:10,  3.63it/s]\u001b[A\n",
            " 12%|█▏        | 291/2504 [01:16<09:54,  3.72it/s]\u001b[A\n",
            " 12%|█▏        | 292/2504 [01:17<09:45,  3.78it/s]\u001b[A\n",
            " 12%|█▏        | 293/2504 [01:17<09:53,  3.72it/s]\u001b[A\n",
            " 12%|█▏        | 294/2504 [01:17<10:07,  3.64it/s]\u001b[A\n",
            " 12%|█▏        | 295/2504 [01:17<09:43,  3.79it/s]\u001b[A\n",
            " 12%|█▏        | 296/2504 [01:18<09:39,  3.81it/s]\u001b[A\n",
            " 12%|█▏        | 297/2504 [01:18<09:52,  3.73it/s]\u001b[A\n",
            " 12%|█▏        | 298/2504 [01:18<09:55,  3.71it/s]\u001b[A"
          ],
          "name": "stderr"
        },
        {
          "output_type": "stream",
          "text": [
            "AI Trader sold:  $ 49.524284  Profit: - $ 0.212860\n"
          ],
          "name": "stdout"
        },
        {
          "output_type": "stream",
          "text": [
            "\n",
            " 12%|█▏        | 299/2504 [01:19<09:57,  3.69it/s]\u001b[A\n",
            " 12%|█▏        | 300/2504 [01:19<09:51,  3.72it/s]\u001b[A\n",
            " 12%|█▏        | 301/2504 [01:19<09:49,  3.73it/s]\u001b[A\n",
            " 12%|█▏        | 302/2504 [01:19<09:46,  3.76it/s]\u001b[A\n",
            " 12%|█▏        | 303/2504 [01:20<09:40,  3.79it/s]\u001b[A\n",
            " 12%|█▏        | 304/2504 [01:20<10:02,  3.65it/s]\u001b[A\n",
            " 12%|█▏        | 305/2504 [01:20<10:02,  3.65it/s]\u001b[A\n",
            " 12%|█▏        | 306/2504 [01:20<09:50,  3.72it/s]\u001b[A\n",
            " 12%|█▏        | 307/2504 [01:21<09:49,  3.73it/s]\u001b[A\n",
            " 12%|█▏        | 308/2504 [01:21<09:38,  3.80it/s]\u001b[A\n",
            " 12%|█▏        | 309/2504 [01:21<09:35,  3.81it/s]\u001b[A\n",
            " 12%|█▏        | 310/2504 [01:21<09:32,  3.83it/s]\u001b[A\n",
            " 12%|█▏        | 311/2504 [01:22<09:29,  3.85it/s]\u001b[A\n",
            " 12%|█▏        | 312/2504 [01:22<09:32,  3.83it/s]\u001b[A\n",
            " 12%|█▎        | 313/2504 [01:22<09:24,  3.88it/s]\u001b[A\n",
            " 13%|█▎        | 314/2504 [01:22<09:17,  3.93it/s]\u001b[A\n",
            " 13%|█▎        | 315/2504 [01:23<09:38,  3.79it/s]\u001b[A\n",
            " 13%|█▎        | 316/2504 [01:23<09:58,  3.66it/s]\u001b[A\n",
            " 13%|█▎        | 317/2504 [01:23<09:52,  3.69it/s]\u001b[A\n",
            " 13%|█▎        | 318/2504 [01:24<10:02,  3.63it/s]\u001b[A\n",
            " 13%|█▎        | 319/2504 [01:24<09:45,  3.73it/s]\u001b[A\n",
            " 13%|█▎        | 320/2504 [01:24<09:25,  3.86it/s]\u001b[A\n",
            " 13%|█▎        | 321/2504 [01:24<09:29,  3.84it/s]\u001b[A\n",
            " 13%|█▎        | 322/2504 [01:25<09:28,  3.84it/s]\u001b[A\n",
            " 13%|█▎        | 323/2504 [01:25<09:28,  3.84it/s]\u001b[A\n",
            " 13%|█▎        | 324/2504 [01:25<09:13,  3.94it/s]\u001b[A\n",
            " 13%|█▎        | 325/2504 [01:25<09:00,  4.03it/s]\u001b[A\n",
            " 13%|█▎        | 326/2504 [01:26<09:07,  3.98it/s]\u001b[A\n",
            " 13%|█▎        | 327/2504 [01:26<09:15,  3.92it/s]\u001b[A\n",
            " 13%|█▎        | 328/2504 [01:26<09:11,  3.95it/s]\u001b[A\n",
            " 13%|█▎        | 329/2504 [01:26<09:15,  3.91it/s]\u001b[A\n",
            " 13%|█▎        | 330/2504 [01:27<09:36,  3.77it/s]\u001b[A\n",
            " 13%|█▎        | 331/2504 [01:27<09:27,  3.83it/s]\u001b[A"
          ],
          "name": "stderr"
        },
        {
          "output_type": "stream",
          "text": [
            "AI Trader bought:  $ 50.021427\n"
          ],
          "name": "stdout"
        },
        {
          "output_type": "stream",
          "text": [
            "\n",
            " 13%|█▎        | 332/2504 [01:27<09:25,  3.84it/s]\u001b[A\n",
            " 13%|█▎        | 333/2504 [01:27<09:30,  3.81it/s]\u001b[A\n",
            " 13%|█▎        | 334/2504 [01:28<09:22,  3.86it/s]\u001b[A\n",
            " 13%|█▎        | 335/2504 [01:28<09:22,  3.85it/s]\u001b[A\n",
            " 13%|█▎        | 336/2504 [01:28<09:12,  3.92it/s]\u001b[A\n",
            " 13%|█▎        | 337/2504 [01:28<09:09,  3.94it/s]\u001b[A\n",
            " 13%|█▎        | 338/2504 [01:29<09:16,  3.90it/s]\u001b[A\n",
            " 14%|█▎        | 339/2504 [01:29<09:16,  3.89it/s]\u001b[A\n",
            " 14%|█▎        | 340/2504 [01:29<09:31,  3.78it/s]\u001b[A\n",
            " 14%|█▎        | 341/2504 [01:30<09:28,  3.81it/s]\u001b[A\n",
            " 14%|█▎        | 342/2504 [01:30<09:40,  3.73it/s]\u001b[A\n",
            " 14%|█▎        | 343/2504 [01:30<09:58,  3.61it/s]\u001b[A\n",
            " 14%|█▎        | 344/2504 [01:30<09:57,  3.62it/s]\u001b[A\n",
            " 14%|█▍        | 345/2504 [01:31<09:46,  3.68it/s]\u001b[A\n",
            " 14%|█▍        | 346/2504 [01:31<09:55,  3.63it/s]\u001b[A\n",
            " 14%|█▍        | 347/2504 [01:31<10:15,  3.51it/s]\u001b[A\n",
            " 14%|█▍        | 348/2504 [01:32<10:02,  3.58it/s]\u001b[A\n",
            " 14%|█▍        | 349/2504 [01:32<09:48,  3.66it/s]\u001b[A\n",
            " 14%|█▍        | 350/2504 [01:32<09:57,  3.60it/s]\u001b[A\n",
            " 14%|█▍        | 351/2504 [01:32<09:57,  3.60it/s]\u001b[A\n",
            " 14%|█▍        | 352/2504 [01:33<09:51,  3.64it/s]\u001b[A\n",
            " 14%|█▍        | 353/2504 [01:33<09:38,  3.72it/s]\u001b[A\n",
            " 14%|█▍        | 354/2504 [01:33<09:53,  3.62it/s]\u001b[A\n",
            " 14%|█▍        | 355/2504 [01:33<10:02,  3.57it/s]\u001b[A\n",
            " 14%|█▍        | 356/2504 [01:34<09:49,  3.64it/s]\u001b[A\n",
            " 14%|█▍        | 357/2504 [01:34<09:29,  3.77it/s]\u001b[A\n",
            " 14%|█▍        | 358/2504 [01:34<09:28,  3.78it/s]\u001b[A\n",
            " 14%|█▍        | 359/2504 [01:34<09:25,  3.79it/s]\u001b[A\n",
            " 14%|█▍        | 360/2504 [01:35<09:29,  3.76it/s]\u001b[A\n",
            " 14%|█▍        | 361/2504 [01:35<09:19,  3.83it/s]\u001b[A\n",
            " 14%|█▍        | 362/2504 [01:35<09:26,  3.78it/s]\u001b[A\n",
            " 14%|█▍        | 363/2504 [01:36<09:19,  3.83it/s]\u001b[A\n",
            " 15%|█▍        | 364/2504 [01:36<09:17,  3.84it/s]\u001b[A\n",
            " 15%|█▍        | 365/2504 [01:36<09:34,  3.72it/s]\u001b[A\n",
            " 15%|█▍        | 366/2504 [01:36<09:36,  3.71it/s]\u001b[A\n",
            " 15%|█▍        | 367/2504 [01:37<09:25,  3.78it/s]\u001b[A\n",
            " 15%|█▍        | 368/2504 [01:37<09:31,  3.74it/s]\u001b[A\n",
            " 15%|█▍        | 369/2504 [01:37<10:02,  3.54it/s]\u001b[A\n",
            " 15%|█▍        | 370/2504 [01:37<09:43,  3.66it/s]\u001b[A\n",
            " 15%|█▍        | 371/2504 [01:38<09:58,  3.57it/s]\u001b[A\n",
            " 15%|█▍        | 372/2504 [01:38<09:59,  3.56it/s]\u001b[A\n",
            " 15%|█▍        | 373/2504 [01:38<09:51,  3.60it/s]\u001b[A\n",
            " 15%|█▍        | 374/2504 [01:39<09:37,  3.69it/s]\u001b[A\n",
            " 15%|█▍        | 375/2504 [01:39<09:27,  3.75it/s]\u001b[A\n",
            " 15%|█▌        | 376/2504 [01:39<09:21,  3.79it/s]\u001b[A\n",
            " 15%|█▌        | 377/2504 [01:39<09:21,  3.79it/s]\u001b[A\n",
            " 15%|█▌        | 378/2504 [01:40<09:11,  3.86it/s]\u001b[A\n",
            " 15%|█▌        | 379/2504 [01:40<09:15,  3.82it/s]\u001b[A\n",
            " 15%|█▌        | 380/2504 [01:40<09:37,  3.68it/s]\u001b[A\n",
            " 15%|█▌        | 381/2504 [01:40<09:28,  3.74it/s]\u001b[A\n",
            " 15%|█▌        | 382/2504 [01:41<09:19,  3.79it/s]\u001b[A\n",
            " 15%|█▌        | 383/2504 [01:41<09:05,  3.89it/s]\u001b[A\n",
            " 15%|█▌        | 384/2504 [01:41<09:02,  3.91it/s]\u001b[A\n",
            " 15%|█▌        | 385/2504 [01:41<09:14,  3.82it/s]\u001b[A\n",
            " 15%|█▌        | 386/2504 [01:42<09:30,  3.71it/s]\u001b[A\n",
            " 15%|█▌        | 387/2504 [01:42<09:18,  3.79it/s]\u001b[A\n",
            " 15%|█▌        | 388/2504 [01:42<09:09,  3.85it/s]\u001b[A\n",
            " 16%|█▌        | 389/2504 [01:42<09:15,  3.81it/s]\u001b[A\n",
            " 16%|█▌        | 390/2504 [01:43<09:06,  3.87it/s]\u001b[A\n",
            " 16%|█▌        | 391/2504 [01:43<09:05,  3.87it/s]\u001b[A\n",
            " 16%|█▌        | 392/2504 [01:43<09:01,  3.90it/s]\u001b[A\n",
            " 16%|█▌        | 393/2504 [01:43<09:15,  3.80it/s]\u001b[A\n",
            " 16%|█▌        | 394/2504 [01:44<09:05,  3.87it/s]\u001b[A\n",
            " 16%|█▌        | 395/2504 [01:44<08:52,  3.96it/s]\u001b[A\n",
            " 16%|█▌        | 396/2504 [01:44<08:44,  4.02it/s]\u001b[A\n",
            " 16%|█▌        | 397/2504 [01:44<08:58,  3.91it/s]\u001b[A\n",
            " 16%|█▌        | 398/2504 [01:45<09:04,  3.87it/s]\u001b[A\n",
            " 16%|█▌        | 399/2504 [01:45<08:58,  3.91it/s]\u001b[A\n",
            " 16%|█▌        | 400/2504 [01:45<08:55,  3.93it/s]\u001b[A\n",
            " 16%|█▌        | 401/2504 [01:46<09:16,  3.78it/s]\u001b[A\n",
            " 16%|█▌        | 402/2504 [01:46<09:10,  3.82it/s]\u001b[A\n",
            " 16%|█▌        | 403/2504 [01:46<09:05,  3.85it/s]\u001b[A\n",
            " 16%|█▌        | 404/2504 [01:46<08:53,  3.93it/s]\u001b[A\n",
            " 16%|█▌        | 405/2504 [01:47<09:07,  3.84it/s]\u001b[A\n",
            " 16%|█▌        | 406/2504 [01:47<09:15,  3.78it/s]\u001b[A\n",
            " 16%|█▋        | 407/2504 [01:47<09:08,  3.82it/s]\u001b[A\n",
            " 16%|█▋        | 408/2504 [01:47<09:08,  3.82it/s]\u001b[A\n",
            " 16%|█▋        | 409/2504 [01:48<09:03,  3.85it/s]\u001b[A\n",
            " 16%|█▋        | 410/2504 [01:48<08:55,  3.91it/s]\u001b[A\n",
            " 16%|█▋        | 411/2504 [01:48<09:09,  3.81it/s]\u001b[A\n",
            " 16%|█▋        | 412/2504 [01:48<09:12,  3.79it/s]\u001b[A\n",
            " 16%|█▋        | 413/2504 [01:49<09:17,  3.75it/s]\u001b[A\n",
            " 17%|█▋        | 414/2504 [01:49<09:00,  3.87it/s]\u001b[A\n",
            " 17%|█▋        | 415/2504 [01:49<09:17,  3.75it/s]\u001b[A\n",
            " 17%|█▋        | 416/2504 [01:50<09:36,  3.62it/s]\u001b[A\n",
            " 17%|█▋        | 417/2504 [01:50<09:27,  3.68it/s]\u001b[A"
          ],
          "name": "stderr"
        },
        {
          "output_type": "stream",
          "text": [
            "AI Trader sold:  $ 55.709999  Profit: $ 5.688572\n"
          ],
          "name": "stdout"
        },
        {
          "output_type": "stream",
          "text": [
            "\n",
            " 17%|█▋        | 418/2504 [01:50<09:29,  3.66it/s]\u001b[A\n",
            " 17%|█▋        | 419/2504 [01:50<09:20,  3.72it/s]\u001b[A\n",
            " 17%|█▋        | 420/2504 [01:51<09:18,  3.73it/s]\u001b[A\n",
            " 17%|█▋        | 421/2504 [01:51<09:34,  3.63it/s]\u001b[A\n",
            " 17%|█▋        | 422/2504 [01:51<09:40,  3.59it/s]\u001b[A\n",
            " 17%|█▋        | 423/2504 [01:51<09:25,  3.68it/s]\u001b[A"
          ],
          "name": "stderr"
        },
        {
          "output_type": "stream",
          "text": [
            "AI Trader bought:  $ 54.847141\n"
          ],
          "name": "stdout"
        },
        {
          "output_type": "stream",
          "text": [
            "\n",
            " 17%|█▋        | 424/2504 [01:52<09:30,  3.65it/s]\u001b[A\n",
            " 17%|█▋        | 425/2504 [01:52<09:36,  3.60it/s]\u001b[A\n",
            " 17%|█▋        | 426/2504 [01:52<09:36,  3.60it/s]\u001b[A"
          ],
          "name": "stderr"
        },
        {
          "output_type": "stream",
          "text": [
            "AI Trader sold:  $ 54.277142  Profit: - $ 0.570000\n"
          ],
          "name": "stdout"
        },
        {
          "output_type": "stream",
          "text": [
            "\n",
            " 17%|█▋        | 427/2504 [01:53<09:29,  3.64it/s]\u001b[A\n",
            " 17%|█▋        | 428/2504 [01:53<09:44,  3.55it/s]\u001b[A"
          ],
          "name": "stderr"
        },
        {
          "output_type": "stream",
          "text": [
            "AI Trader bought:  $ 55.614285\n"
          ],
          "name": "stdout"
        },
        {
          "output_type": "stream",
          "text": [
            "\n",
            " 17%|█▋        | 429/2504 [01:53<09:53,  3.50it/s]\u001b[A\n",
            " 17%|█▋        | 430/2504 [01:53<09:35,  3.60it/s]\u001b[A\n",
            " 17%|█▋        | 431/2504 [01:54<09:29,  3.64it/s]\u001b[A\n",
            " 17%|█▋        | 432/2504 [01:54<09:09,  3.77it/s]\u001b[A\n",
            " 17%|█▋        | 433/2504 [01:54<08:59,  3.84it/s]\u001b[A\n",
            " 17%|█▋        | 434/2504 [01:54<08:56,  3.86it/s]\u001b[A\n",
            " 17%|█▋        | 435/2504 [01:55<09:00,  3.83it/s]\u001b[A\n",
            " 17%|█▋        | 436/2504 [01:55<08:49,  3.91it/s]\u001b[A\n",
            " 17%|█▋        | 437/2504 [01:55<08:56,  3.86it/s]\u001b[A\n",
            " 17%|█▋        | 438/2504 [01:55<08:48,  3.91it/s]\u001b[A\n",
            " 18%|█▊        | 439/2504 [01:56<08:56,  3.85it/s]\u001b[A\n",
            " 18%|█▊        | 440/2504 [01:56<08:51,  3.89it/s]\u001b[A\n",
            " 18%|█▊        | 441/2504 [01:56<08:58,  3.83it/s]\u001b[A\n",
            " 18%|█▊        | 442/2504 [01:56<09:14,  3.72it/s]\u001b[A\n",
            " 18%|█▊        | 443/2504 [01:57<09:20,  3.68it/s]\u001b[A\n",
            " 18%|█▊        | 444/2504 [01:57<09:06,  3.77it/s]\u001b[A\n",
            " 18%|█▊        | 445/2504 [01:57<09:02,  3.80it/s]\u001b[A\n",
            " 18%|█▊        | 446/2504 [01:58<09:01,  3.80it/s]\u001b[A\n",
            " 18%|█▊        | 447/2504 [01:58<09:06,  3.77it/s]\u001b[A"
          ],
          "name": "stderr"
        },
        {
          "output_type": "stream",
          "text": [
            "AI Trader sold:  $ 57.184284  Profit: $ 1.570000\n"
          ],
          "name": "stdout"
        },
        {
          "output_type": "stream",
          "text": [
            "\n",
            " 18%|█▊        | 448/2504 [01:58<09:24,  3.64it/s]\u001b[A"
          ],
          "name": "stderr"
        },
        {
          "output_type": "stream",
          "text": [
            "AI Trader bought:  $ 57.455715\n"
          ],
          "name": "stdout"
        },
        {
          "output_type": "stream",
          "text": [
            "\n",
            " 18%|█▊        | 449/2504 [01:58<09:13,  3.71it/s]\u001b[A\n",
            " 18%|█▊        | 450/2504 [01:59<09:18,  3.67it/s]\u001b[A\n",
            " 18%|█▊        | 451/2504 [01:59<09:06,  3.76it/s]\u001b[A\n",
            " 18%|█▊        | 452/2504 [01:59<09:05,  3.76it/s]\u001b[A\n",
            " 18%|█▊        | 453/2504 [01:59<09:13,  3.70it/s]\u001b[A"
          ],
          "name": "stderr"
        },
        {
          "output_type": "stream",
          "text": [
            "AI Trader sold:  $ 56.945713  Profit: - $ 0.510002\n"
          ],
          "name": "stdout"
        },
        {
          "output_type": "stream",
          "text": [
            "\n",
            " 18%|█▊        | 454/2504 [02:00<09:19,  3.67it/s]\u001b[A\n",
            " 18%|█▊        | 455/2504 [02:00<09:16,  3.69it/s]\u001b[A\n",
            " 18%|█▊        | 456/2504 [02:00<09:16,  3.68it/s]\u001b[A\n",
            " 18%|█▊        | 457/2504 [02:01<09:07,  3.74it/s]\u001b[A\n",
            " 18%|█▊        | 458/2504 [02:01<09:04,  3.76it/s]\u001b[A\n",
            " 18%|█▊        | 459/2504 [02:01<09:01,  3.78it/s]\u001b[A"
          ],
          "name": "stderr"
        },
        {
          "output_type": "stream",
          "text": [
            "AI Trader bought:  $ 57.812859\n"
          ],
          "name": "stdout"
        },
        {
          "output_type": "stream",
          "text": [
            "\n",
            " 18%|█▊        | 460/2504 [02:01<09:00,  3.78it/s]\u001b[A\n",
            " 18%|█▊        | 461/2504 [02:02<09:02,  3.77it/s]\u001b[A\n",
            " 18%|█▊        | 462/2504 [02:02<08:57,  3.80it/s]\u001b[A\n",
            " 18%|█▊        | 463/2504 [02:02<08:54,  3.82it/s]\u001b[A\n",
            " 19%|█▊        | 464/2504 [02:02<08:49,  3.85it/s]\u001b[A\n",
            " 19%|█▊        | 465/2504 [02:03<08:44,  3.88it/s]\u001b[A\n",
            " 19%|█▊        | 466/2504 [02:03<08:46,  3.87it/s]\u001b[A\n",
            " 19%|█▊        | 467/2504 [02:03<08:49,  3.84it/s]\u001b[A\n",
            " 19%|█▊        | 468/2504 [02:03<08:38,  3.93it/s]\u001b[A\n",
            " 19%|█▊        | 469/2504 [02:04<08:42,  3.90it/s]\u001b[A\n",
            " 19%|█▉        | 470/2504 [02:04<08:45,  3.87it/s]\u001b[A\n",
            " 19%|█▉        | 471/2504 [02:04<08:50,  3.83it/s]\u001b[A\n",
            " 19%|█▉        | 472/2504 [02:04<08:44,  3.87it/s]\u001b[A\n",
            " 19%|█▉        | 473/2504 [02:05<08:50,  3.83it/s]\u001b[A\n",
            " 19%|█▉        | 474/2504 [02:05<08:57,  3.78it/s]\u001b[A\n",
            " 19%|█▉        | 475/2504 [02:05<08:47,  3.84it/s]\u001b[A\n",
            " 19%|█▉        | 476/2504 [02:05<08:43,  3.88it/s]\u001b[A\n",
            " 19%|█▉        | 477/2504 [02:06<09:03,  3.73it/s]\u001b[A\n",
            " 19%|█▉        | 478/2504 [02:06<09:23,  3.59it/s]\u001b[A"
          ],
          "name": "stderr"
        },
        {
          "output_type": "stream",
          "text": [
            "AI Trader sold:  $ 52.427143  Profit: - $ 5.385715\n"
          ],
          "name": "stdout"
        },
        {
          "output_type": "stream",
          "text": [
            "\n",
            " 19%|█▉        | 479/2504 [02:06<09:28,  3.56it/s]\u001b[A\n",
            " 19%|█▉        | 480/2504 [02:07<09:35,  3.52it/s]\u001b[A"
          ],
          "name": "stderr"
        },
        {
          "output_type": "stream",
          "text": [
            "AI Trader bought:  $ 53.731430\n"
          ],
          "name": "stdout"
        },
        {
          "output_type": "stream",
          "text": [
            "\n",
            " 19%|█▉        | 481/2504 [02:07<09:46,  3.45it/s]\u001b[A\n",
            " 19%|█▉        | 482/2504 [02:07<09:41,  3.48it/s]\u001b[A\n",
            " 19%|█▉        | 483/2504 [02:07<09:21,  3.60it/s]\u001b[A\n",
            " 19%|█▉        | 484/2504 [02:08<10:32,  3.19it/s]\u001b[A\n",
            " 19%|█▉        | 485/2504 [02:08<10:12,  3.30it/s]\u001b[A\n",
            " 19%|█▉        | 486/2504 [02:08<09:45,  3.45it/s]\u001b[A\n",
            " 19%|█▉        | 487/2504 [02:09<09:36,  3.50it/s]\u001b[A\n",
            " 19%|█▉        | 488/2504 [02:09<09:35,  3.50it/s]\u001b[A\n",
            " 20%|█▉        | 489/2504 [02:09<09:13,  3.64it/s]\u001b[A\n",
            " 20%|█▉        | 490/2504 [02:09<09:07,  3.68it/s]\u001b[A\n",
            " 20%|█▉        | 491/2504 [02:10<09:09,  3.66it/s]\u001b[A\n",
            " 20%|█▉        | 492/2504 [02:10<09:30,  3.53it/s]\u001b[A\n",
            " 20%|█▉        | 493/2504 [02:10<09:18,  3.60it/s]\u001b[A\n",
            " 20%|█▉        | 494/2504 [02:11<09:16,  3.61it/s]\u001b[A\n",
            " 20%|█▉        | 495/2504 [02:11<09:07,  3.67it/s]\u001b[A\n",
            " 20%|█▉        | 496/2504 [02:11<09:07,  3.67it/s]\u001b[A\n",
            " 20%|█▉        | 497/2504 [02:11<08:58,  3.73it/s]\u001b[A\n",
            " 20%|█▉        | 498/2504 [02:12<08:58,  3.72it/s]\u001b[A\n",
            " 20%|█▉        | 499/2504 [02:12<08:57,  3.73it/s]\u001b[A\n",
            " 20%|█▉        | 500/2504 [02:12<09:15,  3.61it/s]\u001b[A\n",
            " 20%|██        | 501/2504 [02:13<09:17,  3.59it/s]\u001b[A\n",
            " 20%|██        | 502/2504 [02:13<09:08,  3.65it/s]\u001b[A\n",
            " 20%|██        | 503/2504 [02:13<09:10,  3.64it/s]\u001b[A\n",
            " 20%|██        | 504/2504 [02:13<08:50,  3.77it/s]\u001b[A\n",
            " 20%|██        | 505/2504 [02:14<08:44,  3.81it/s]\u001b[A\n",
            " 20%|██        | 506/2504 [02:14<08:41,  3.83it/s]\u001b[A\n",
            " 20%|██        | 507/2504 [02:14<08:51,  3.76it/s]\u001b[A\n",
            " 20%|██        | 508/2504 [02:14<08:48,  3.78it/s]\u001b[A\n",
            " 20%|██        | 509/2504 [02:15<08:53,  3.74it/s]\u001b[A\n",
            " 20%|██        | 510/2504 [02:15<09:07,  3.64it/s]\u001b[A\n",
            " 20%|██        | 511/2504 [02:15<09:20,  3.56it/s]\u001b[A\n",
            " 20%|██        | 512/2504 [02:15<09:14,  3.59it/s]\u001b[A\n",
            " 20%|██        | 513/2504 [02:16<09:10,  3.62it/s]\u001b[A\n",
            " 21%|██        | 514/2504 [02:16<08:53,  3.73it/s]\u001b[A\n",
            " 21%|██        | 515/2504 [02:16<08:59,  3.69it/s]\u001b[A\n",
            " 21%|██        | 516/2504 [02:17<08:53,  3.73it/s]\u001b[A\n",
            " 21%|██        | 517/2504 [02:17<08:38,  3.83it/s]\u001b[A\n",
            " 21%|██        | 518/2504 [02:17<08:25,  3.93it/s]\u001b[A\n",
            " 21%|██        | 519/2504 [02:17<08:38,  3.83it/s]\u001b[A\n",
            " 21%|██        | 520/2504 [02:18<08:45,  3.77it/s]\u001b[A\n",
            " 21%|██        | 521/2504 [02:18<08:33,  3.86it/s]\u001b[A\n",
            " 21%|██        | 522/2504 [02:18<08:37,  3.83it/s]\u001b[A\n",
            " 21%|██        | 523/2504 [02:18<08:43,  3.78it/s]\u001b[A\n",
            " 21%|██        | 524/2504 [02:19<08:39,  3.81it/s]\u001b[A\n",
            " 21%|██        | 525/2504 [02:19<08:30,  3.87it/s]\u001b[A\n",
            " 21%|██        | 526/2504 [02:19<09:01,  3.65it/s]\u001b[A\n",
            " 21%|██        | 527/2504 [02:19<08:50,  3.73it/s]\u001b[A\n",
            " 21%|██        | 528/2504 [02:20<08:58,  3.67it/s]\u001b[A\n",
            " 21%|██        | 529/2504 [02:20<08:47,  3.75it/s]\u001b[A\n",
            " 21%|██        | 530/2504 [02:20<08:40,  3.79it/s]\u001b[A\n",
            " 21%|██        | 531/2504 [02:20<08:48,  3.73it/s]\u001b[A\n",
            " 21%|██        | 532/2504 [02:21<08:46,  3.75it/s]\u001b[A\n",
            " 21%|██▏       | 533/2504 [02:21<08:43,  3.76it/s]\u001b[A\n",
            " 21%|██▏       | 534/2504 [02:21<08:38,  3.80it/s]\u001b[A\n",
            " 21%|██▏       | 535/2504 [02:22<08:41,  3.77it/s]\u001b[A\n",
            " 21%|██▏       | 536/2504 [02:22<08:29,  3.86it/s]\u001b[A\n",
            " 21%|██▏       | 537/2504 [02:22<08:30,  3.85it/s]\u001b[A\n",
            " 21%|██▏       | 538/2504 [02:22<08:45,  3.74it/s]\u001b[A\n",
            " 22%|██▏       | 539/2504 [02:23<09:01,  3.63it/s]\u001b[A\n",
            " 22%|██▏       | 540/2504 [02:23<08:53,  3.68it/s]\u001b[A\n",
            " 22%|██▏       | 541/2504 [02:23<08:48,  3.72it/s]\u001b[A\n",
            " 22%|██▏       | 542/2504 [02:23<08:46,  3.72it/s]\u001b[A\n",
            " 22%|██▏       | 543/2504 [02:24<08:48,  3.71it/s]\u001b[A\n",
            " 22%|██▏       | 544/2504 [02:24<08:41,  3.76it/s]\u001b[A\n",
            " 22%|██▏       | 545/2504 [02:24<08:26,  3.87it/s]\u001b[A\n",
            " 22%|██▏       | 546/2504 [02:24<08:22,  3.89it/s]\u001b[A\n",
            " 22%|██▏       | 547/2504 [02:25<08:15,  3.95it/s]\u001b[A\n",
            " 22%|██▏       | 548/2504 [02:25<08:09,  4.00it/s]\u001b[A\n",
            " 22%|██▏       | 549/2504 [02:25<08:06,  4.02it/s]\u001b[A\n",
            " 22%|██▏       | 550/2504 [02:25<08:12,  3.97it/s]\u001b[A\n",
            " 22%|██▏       | 551/2504 [02:26<08:15,  3.94it/s]\u001b[A\n",
            " 22%|██▏       | 552/2504 [02:26<08:14,  3.95it/s]\u001b[A\n",
            " 22%|██▏       | 553/2504 [02:26<08:28,  3.84it/s]\u001b[A\n",
            " 22%|██▏       | 554/2504 [02:27<08:35,  3.78it/s]\u001b[A\n",
            " 22%|██▏       | 555/2504 [02:27<08:32,  3.80it/s]\u001b[A\n",
            " 22%|██▏       | 556/2504 [02:27<08:23,  3.87it/s]\u001b[A\n",
            " 22%|██▏       | 557/2504 [02:27<08:23,  3.87it/s]\u001b[A\n",
            " 22%|██▏       | 558/2504 [02:28<08:31,  3.80it/s]\u001b[A\n",
            " 22%|██▏       | 559/2504 [02:28<08:29,  3.82it/s]\u001b[A\n",
            " 22%|██▏       | 560/2504 [02:28<08:25,  3.84it/s]\u001b[A\n",
            " 22%|██▏       | 561/2504 [02:28<08:24,  3.85it/s]\u001b[A\n",
            " 22%|██▏       | 562/2504 [02:29<08:19,  3.89it/s]\u001b[A\n",
            " 22%|██▏       | 563/2504 [02:29<08:19,  3.89it/s]\u001b[A\n",
            " 23%|██▎       | 564/2504 [02:29<08:23,  3.85it/s]\u001b[A\n",
            " 23%|██▎       | 565/2504 [02:29<08:26,  3.83it/s]\u001b[A\n",
            " 23%|██▎       | 566/2504 [02:30<08:31,  3.79it/s]\u001b[A\n",
            " 23%|██▎       | 567/2504 [02:30<08:29,  3.80it/s]\u001b[A\n",
            " 23%|██▎       | 568/2504 [02:30<08:59,  3.59it/s]\u001b[A\n",
            " 23%|██▎       | 569/2504 [02:30<08:57,  3.60it/s]\u001b[A\n",
            " 23%|██▎       | 570/2504 [02:31<08:42,  3.70it/s]\u001b[A\n",
            " 23%|██▎       | 571/2504 [02:31<08:35,  3.75it/s]\u001b[A\n",
            " 23%|██▎       | 572/2504 [02:31<08:46,  3.67it/s]\u001b[A\n",
            " 23%|██▎       | 573/2504 [02:32<08:46,  3.67it/s]\u001b[A\n",
            " 23%|██▎       | 574/2504 [02:32<08:40,  3.71it/s]\u001b[A\n",
            " 23%|██▎       | 575/2504 [02:32<08:32,  3.76it/s]\u001b[A\n",
            " 23%|██▎       | 576/2504 [02:32<08:44,  3.68it/s]\u001b[A\n",
            " 23%|██▎       | 577/2504 [02:33<08:41,  3.70it/s]\u001b[A\n",
            " 23%|██▎       | 578/2504 [02:33<08:35,  3.74it/s]\u001b[A\n",
            " 23%|██▎       | 579/2504 [02:33<08:36,  3.73it/s]\u001b[A\n",
            " 23%|██▎       | 580/2504 [02:33<08:52,  3.61it/s]\u001b[A\n",
            " 23%|██▎       | 581/2504 [02:34<08:47,  3.65it/s]\u001b[A\n",
            " 23%|██▎       | 582/2504 [02:34<08:31,  3.76it/s]\u001b[A\n",
            " 23%|██▎       | 583/2504 [02:34<08:40,  3.69it/s]\u001b[A"
          ],
          "name": "stderr"
        },
        {
          "output_type": "stream",
          "text": [
            "AI Trader sold:  $ 86.814285  Profit: $ 33.082855\n"
          ],
          "name": "stdout"
        },
        {
          "output_type": "stream",
          "text": [
            "\n",
            " 23%|██▎       | 584/2504 [02:35<08:59,  3.56it/s]\u001b[A"
          ],
          "name": "stderr"
        },
        {
          "output_type": "stream",
          "text": [
            "AI Trader bought:  $ 86.142860\n"
          ],
          "name": "stdout"
        },
        {
          "output_type": "stream",
          "text": [
            "\n",
            " 23%|██▎       | 585/2504 [02:35<08:53,  3.60it/s]\u001b[A"
          ],
          "name": "stderr"
        },
        {
          "output_type": "stream",
          "text": [
            "AI Trader sold:  $ 83.425713  Profit: - $ 2.717148\n"
          ],
          "name": "stdout"
        },
        {
          "output_type": "stream",
          "text": [
            "\n",
            " 23%|██▎       | 586/2504 [02:35<08:40,  3.69it/s]\u001b[A\n",
            " 23%|██▎       | 587/2504 [02:35<08:36,  3.71it/s]\u001b[A\n",
            " 23%|██▎       | 588/2504 [02:36<08:39,  3.69it/s]\u001b[A\n",
            " 24%|██▎       | 589/2504 [02:36<08:28,  3.77it/s]\u001b[A\n",
            " 24%|██▎       | 590/2504 [02:36<08:19,  3.83it/s]\u001b[A\n",
            " 24%|██▎       | 591/2504 [02:36<08:12,  3.88it/s]\u001b[A\n",
            " 24%|██▎       | 592/2504 [02:37<08:28,  3.76it/s]\u001b[A\n",
            " 24%|██▎       | 593/2504 [02:37<08:23,  3.80it/s]\u001b[A\n",
            " 24%|██▎       | 594/2504 [02:37<08:21,  3.81it/s]\u001b[A\n",
            " 24%|██▍       | 595/2504 [02:37<08:32,  3.73it/s]\u001b[A\n",
            " 24%|██▍       | 596/2504 [02:38<08:47,  3.62it/s]\u001b[A\n",
            " 24%|██▍       | 597/2504 [02:38<08:37,  3.68it/s]\u001b[A\n",
            " 24%|██▍       | 598/2504 [02:38<08:27,  3.76it/s]\u001b[A\n",
            " 24%|██▍       | 599/2504 [02:39<08:35,  3.70it/s]\u001b[A\n",
            " 24%|██▍       | 600/2504 [02:39<08:32,  3.72it/s]\u001b[A\n",
            " 24%|██▍       | 601/2504 [02:39<08:27,  3.75it/s]\u001b[A\n",
            " 24%|██▍       | 602/2504 [02:39<08:29,  3.73it/s]\u001b[A\n",
            " 24%|██▍       | 603/2504 [02:40<08:22,  3.78it/s]\u001b[A\n",
            " 24%|██▍       | 604/2504 [02:40<08:38,  3.67it/s]\u001b[A\n",
            " 24%|██▍       | 605/2504 [02:40<08:51,  3.57it/s]\u001b[A\n",
            " 24%|██▍       | 606/2504 [02:40<08:38,  3.66it/s]\u001b[A\n",
            " 24%|██▍       | 607/2504 [02:41<08:55,  3.54it/s]\u001b[A\n",
            " 24%|██▍       | 608/2504 [02:41<08:39,  3.65it/s]\u001b[A\n",
            " 24%|██▍       | 609/2504 [02:41<08:32,  3.70it/s]\u001b[A\n",
            " 24%|██▍       | 610/2504 [02:42<08:20,  3.79it/s]\u001b[A\n",
            " 24%|██▍       | 611/2504 [02:42<08:23,  3.76it/s]\u001b[A\n",
            " 24%|██▍       | 612/2504 [02:42<08:25,  3.74it/s]\u001b[A\n",
            " 24%|██▍       | 613/2504 [02:42<08:37,  3.65it/s]\u001b[A\n",
            " 25%|██▍       | 614/2504 [02:43<08:44,  3.61it/s]\u001b[A\n",
            " 25%|██▍       | 615/2504 [02:43<08:38,  3.64it/s]\u001b[A\n",
            " 25%|██▍       | 616/2504 [02:43<08:34,  3.67it/s]\u001b[A\n",
            " 25%|██▍       | 617/2504 [02:43<08:24,  3.74it/s]\u001b[A"
          ],
          "name": "stderr"
        },
        {
          "output_type": "stream",
          "text": [
            "AI Trader bought:  $ 81.647141\n"
          ],
          "name": "stdout"
        },
        {
          "output_type": "stream",
          "text": [
            "\n",
            " 25%|██▍       | 618/2504 [02:44<08:28,  3.71it/s]\u001b[A\n",
            " 25%|██▍       | 619/2504 [02:44<08:45,  3.59it/s]\u001b[A\n",
            " 25%|██▍       | 620/2504 [02:44<08:43,  3.60it/s]\u001b[A\n",
            " 25%|██▍       | 621/2504 [02:45<08:35,  3.65it/s]\u001b[A\n",
            " 25%|██▍       | 622/2504 [02:45<08:45,  3.58it/s]\u001b[A\n",
            " 25%|██▍       | 623/2504 [02:45<08:32,  3.67it/s]\u001b[A\n",
            " 25%|██▍       | 624/2504 [02:45<08:23,  3.74it/s]\u001b[A\n",
            " 25%|██▍       | 625/2504 [02:46<08:38,  3.62it/s]\u001b[A\n",
            " 25%|██▌       | 626/2504 [02:46<08:32,  3.67it/s]\u001b[A\n",
            " 25%|██▌       | 627/2504 [02:46<08:24,  3.72it/s]\u001b[A\n",
            " 25%|██▌       | 628/2504 [02:46<08:16,  3.78it/s]\u001b[A\n",
            " 25%|██▌       | 629/2504 [02:47<08:10,  3.82it/s]\u001b[A\n",
            " 25%|██▌       | 630/2504 [02:47<08:23,  3.72it/s]\u001b[A\n",
            " 25%|██▌       | 631/2504 [02:47<08:31,  3.67it/s]\u001b[A\n",
            " 25%|██▌       | 632/2504 [02:47<08:14,  3.79it/s]\u001b[A\n",
            " 25%|██▌       | 633/2504 [02:48<08:07,  3.84it/s]\u001b[A\n",
            " 25%|██▌       | 634/2504 [02:48<08:16,  3.77it/s]\u001b[A\n",
            " 25%|██▌       | 635/2504 [02:48<08:07,  3.83it/s]\u001b[A\n",
            " 25%|██▌       | 636/2504 [02:49<08:05,  3.85it/s]\u001b[A\n",
            " 25%|██▌       | 637/2504 [02:49<08:15,  3.77it/s]\u001b[A\n",
            " 25%|██▌       | 638/2504 [02:49<08:25,  3.69it/s]\u001b[A"
          ],
          "name": "stderr"
        },
        {
          "output_type": "stream",
          "text": [
            "AI Trader sold:  $ 86.701431  Profit: $ 5.054291\n"
          ],
          "name": "stdout"
        },
        {
          "output_type": "stream",
          "text": [
            "\n",
            " 26%|██▌       | 639/2504 [02:49<08:25,  3.69it/s]\u001b[A"
          ],
          "name": "stderr"
        },
        {
          "output_type": "stream",
          "text": [
            "AI Trader bought:  $ 86.705711\n"
          ],
          "name": "stdout"
        },
        {
          "output_type": "stream",
          "text": [
            "\n",
            " 26%|██▌       | 640/2504 [02:50<08:26,  3.68it/s]\u001b[A"
          ],
          "name": "stderr"
        },
        {
          "output_type": "stream",
          "text": [
            "AI Trader sold:  $ 86.608574  Profit: - $ 0.097137\n"
          ],
          "name": "stdout"
        },
        {
          "output_type": "stream",
          "text": [
            "\n",
            " 26%|██▌       | 641/2504 [02:50<08:19,  3.73it/s]\u001b[A\n",
            " 26%|██▌       | 642/2504 [02:50<08:21,  3.71it/s]\u001b[A\n",
            " 26%|██▌       | 643/2504 [02:50<08:13,  3.77it/s]\u001b[A\n",
            " 26%|██▌       | 644/2504 [02:51<08:10,  3.79it/s]\u001b[A\n",
            " 26%|██▌       | 645/2504 [02:51<08:03,  3.85it/s]\u001b[A\n",
            " 26%|██▌       | 646/2504 [02:51<08:19,  3.72it/s]\u001b[A\n",
            " 26%|██▌       | 647/2504 [02:51<08:10,  3.79it/s]\u001b[A\n",
            " 26%|██▌       | 648/2504 [02:52<08:17,  3.73it/s]\u001b[A\n",
            " 26%|██▌       | 649/2504 [02:52<08:15,  3.75it/s]\u001b[A\n",
            " 26%|██▌       | 650/2504 [02:52<08:15,  3.74it/s]\u001b[A\n",
            " 26%|██▌       | 651/2504 [02:53<08:09,  3.78it/s]\u001b[A\n",
            " 26%|██▌       | 652/2504 [02:53<08:25,  3.66it/s]\u001b[A\n",
            " 26%|██▌       | 653/2504 [02:53<08:47,  3.51it/s]\u001b[A\n",
            " 26%|██▌       | 654/2504 [02:53<08:37,  3.57it/s]\u001b[A\n",
            " 26%|██▌       | 655/2504 [02:54<08:18,  3.71it/s]\u001b[A\n",
            " 26%|██▌       | 656/2504 [02:54<08:09,  3.78it/s]\u001b[A\n",
            " 26%|██▌       | 657/2504 [02:54<08:06,  3.80it/s]\u001b[A\n",
            " 26%|██▋       | 658/2504 [02:54<08:00,  3.84it/s]\u001b[A\n",
            " 26%|██▋       | 659/2504 [02:55<07:52,  3.90it/s]\u001b[A\n",
            " 26%|██▋       | 660/2504 [02:55<07:58,  3.85it/s]\u001b[A\n",
            " 26%|██▋       | 661/2504 [02:55<07:57,  3.86it/s]\u001b[A\n",
            " 26%|██▋       | 662/2504 [02:55<07:51,  3.91it/s]\u001b[A\n",
            " 26%|██▋       | 663/2504 [02:56<07:56,  3.87it/s]\u001b[A\n",
            " 27%|██▋       | 664/2504 [02:56<08:19,  3.69it/s]\u001b[A\n",
            " 27%|██▋       | 665/2504 [02:56<08:29,  3.61it/s]\u001b[A\n",
            " 27%|██▋       | 666/2504 [02:57<08:33,  3.58it/s]\u001b[A\n",
            " 27%|██▋       | 667/2504 [02:57<08:22,  3.65it/s]\u001b[A\n",
            " 27%|██▋       | 668/2504 [02:57<08:20,  3.67it/s]\u001b[A\n",
            " 27%|██▋       | 669/2504 [02:57<08:10,  3.74it/s]\u001b[A\n",
            " 27%|██▋       | 670/2504 [02:58<08:11,  3.73it/s]\u001b[A\n",
            " 27%|██▋       | 671/2504 [02:58<08:21,  3.65it/s]\u001b[A\n",
            " 27%|██▋       | 672/2504 [02:58<08:38,  3.53it/s]\u001b[A\n",
            " 27%|██▋       | 673/2504 [02:59<08:44,  3.49it/s]\u001b[A"
          ],
          "name": "stderr"
        },
        {
          "output_type": "stream",
          "text": [
            "AI Trader bought:  $ 96.424286\n"
          ],
          "name": "stdout"
        },
        {
          "output_type": "stream",
          "text": [
            "\n",
            " 27%|██▋       | 674/2504 [02:59<08:34,  3.55it/s]\u001b[A"
          ],
          "name": "stderr"
        },
        {
          "output_type": "stream",
          "text": [
            "AI Trader sold:  $ 95.747147  Profit: - $ 0.677139\n"
          ],
          "name": "stdout"
        },
        {
          "output_type": "stream",
          "text": [
            "\n",
            " 27%|██▋       | 675/2504 [02:59<08:18,  3.67it/s]\u001b[A\n",
            " 27%|██▋       | 676/2504 [02:59<08:12,  3.71it/s]\u001b[A\n",
            " 27%|██▋       | 677/2504 [03:00<07:58,  3.82it/s]\u001b[A\n",
            " 27%|██▋       | 678/2504 [03:00<07:56,  3.84it/s]\u001b[A"
          ],
          "name": "stderr"
        },
        {
          "output_type": "stream",
          "text": [
            "AI Trader bought:  $ 94.370003\n"
          ],
          "name": "stdout"
        },
        {
          "output_type": "stream",
          "text": [
            "\n",
            " 27%|██▋       | 679/2504 [03:00<07:59,  3.81it/s]\u001b[A"
          ],
          "name": "stderr"
        },
        {
          "output_type": "stream",
          "text": [
            "AI Trader sold:  $ 95.684288  Profit: $ 1.314285\n"
          ],
          "name": "stdout"
        },
        {
          "output_type": "stream",
          "text": [
            "\n",
            " 27%|██▋       | 680/2504 [03:00<08:10,  3.72it/s]\u001b[A\n",
            " 27%|██▋       | 681/2504 [03:01<08:26,  3.60it/s]\u001b[A\n",
            " 27%|██▋       | 682/2504 [03:01<08:14,  3.68it/s]\u001b[A\n",
            " 27%|██▋       | 683/2504 [03:01<08:04,  3.76it/s]\u001b[A\n",
            " 27%|██▋       | 684/2504 [03:01<07:55,  3.83it/s]\u001b[A\n",
            " 27%|██▋       | 685/2504 [03:02<07:52,  3.85it/s]\u001b[A\n",
            " 27%|██▋       | 686/2504 [03:02<08:18,  3.64it/s]\u001b[A\n",
            " 27%|██▋       | 687/2504 [03:02<08:40,  3.49it/s]\u001b[A\n",
            " 27%|██▋       | 688/2504 [03:03<08:36,  3.51it/s]\u001b[A\n",
            " 28%|██▊       | 689/2504 [03:03<08:27,  3.57it/s]\u001b[A\n",
            " 28%|██▊       | 690/2504 [03:03<08:36,  3.51it/s]\u001b[A\n",
            " 28%|██▊       | 691/2504 [03:03<08:31,  3.55it/s]\u001b[A\n",
            " 28%|██▊       | 692/2504 [03:04<08:17,  3.65it/s]\u001b[A\n",
            " 28%|██▊       | 693/2504 [03:04<08:20,  3.62it/s]\u001b[A\n",
            " 28%|██▊       | 694/2504 [03:04<08:21,  3.61it/s]\u001b[A\n",
            " 28%|██▊       | 695/2504 [03:05<08:17,  3.64it/s]\u001b[A\n",
            " 28%|██▊       | 696/2504 [03:05<08:08,  3.70it/s]\u001b[A\n",
            " 28%|██▊       | 697/2504 [03:05<08:13,  3.66it/s]\u001b[A\n",
            " 28%|██▊       | 698/2504 [03:05<08:06,  3.72it/s]\u001b[A\n",
            " 28%|██▊       | 699/2504 [03:06<07:59,  3.76it/s]\u001b[A\n",
            " 28%|██▊       | 700/2504 [03:06<07:59,  3.76it/s]\u001b[A\n",
            " 28%|██▊       | 701/2504 [03:06<08:18,  3.62it/s]\u001b[A\n",
            " 28%|██▊       | 702/2504 [03:06<08:14,  3.65it/s]\u001b[A\n",
            " 28%|██▊       | 703/2504 [03:07<08:00,  3.75it/s]\u001b[A\n",
            " 28%|██▊       | 704/2504 [03:07<07:52,  3.81it/s]\u001b[A\n",
            " 28%|██▊       | 705/2504 [03:07<08:06,  3.70it/s]\u001b[A\n",
            " 28%|██▊       | 706/2504 [03:08<08:28,  3.54it/s]\u001b[A\n",
            " 28%|██▊       | 707/2504 [03:08<08:18,  3.60it/s]\u001b[A\n",
            " 28%|██▊       | 708/2504 [03:08<08:03,  3.72it/s]\u001b[A\n",
            " 28%|██▊       | 709/2504 [03:08<07:56,  3.77it/s]\u001b[A\n",
            " 28%|██▊       | 710/2504 [03:09<07:58,  3.75it/s]\u001b[A\n",
            " 28%|██▊       | 711/2504 [03:09<07:49,  3.82it/s]\u001b[A\n",
            " 28%|██▊       | 712/2504 [03:09<07:44,  3.86it/s]\u001b[A\n",
            " 28%|██▊       | 713/2504 [03:09<07:51,  3.80it/s]\u001b[A\n",
            " 29%|██▊       | 714/2504 [03:10<07:56,  3.75it/s]\u001b[A\n",
            " 29%|██▊       | 715/2504 [03:10<07:46,  3.84it/s]\u001b[A\n",
            " 29%|██▊       | 716/2504 [03:10<07:41,  3.88it/s]\u001b[A\n",
            " 29%|██▊       | 717/2504 [03:10<07:48,  3.82it/s]\u001b[A\n",
            " 29%|██▊       | 718/2504 [03:11<07:55,  3.75it/s]\u001b[A\n",
            " 29%|██▊       | 719/2504 [03:11<07:49,  3.80it/s]\u001b[A\n",
            " 29%|██▉       | 720/2504 [03:11<07:45,  3.83it/s]\u001b[A\n",
            " 29%|██▉       | 721/2504 [03:11<07:52,  3.78it/s]\u001b[A\n",
            " 29%|██▉       | 722/2504 [03:12<07:50,  3.79it/s]\u001b[A\n",
            " 29%|██▉       | 723/2504 [03:12<07:49,  3.79it/s]\u001b[A\n",
            " 29%|██▉       | 724/2504 [03:12<07:36,  3.90it/s]\u001b[A"
          ],
          "name": "stderr"
        },
        {
          "output_type": "stream",
          "text": [
            "AI Trader bought:  $ 75.382858\n"
          ],
          "name": "stdout"
        },
        {
          "output_type": "stream",
          "text": [
            "\n",
            " 29%|██▉       | 725/2504 [03:13<08:03,  3.68it/s]\u001b[A"
          ],
          "name": "stderr"
        },
        {
          "output_type": "stream",
          "text": [
            "AI Trader sold:  $ 80.818573  Profit: $ 5.435715\n"
          ],
          "name": "stdout"
        },
        {
          "output_type": "stream",
          "text": [
            "\n",
            " 29%|██▉       | 726/2504 [03:13<07:58,  3.71it/s]\u001b[A\n",
            " 29%|██▉       | 727/2504 [03:13<07:52,  3.76it/s]\u001b[A\n",
            " 29%|██▉       | 728/2504 [03:13<07:45,  3.82it/s]\u001b[A\n",
            " 29%|██▉       | 729/2504 [03:14<07:53,  3.75it/s]\u001b[A\n",
            " 29%|██▉       | 730/2504 [03:14<07:48,  3.79it/s]\u001b[A\n",
            " 29%|██▉       | 731/2504 [03:14<07:42,  3.84it/s]\u001b[A\n",
            " 29%|██▉       | 732/2504 [03:14<07:35,  3.89it/s]\u001b[A"
          ],
          "name": "stderr"
        },
        {
          "output_type": "stream",
          "text": [
            "AI Trader bought:  $ 84.194283\n"
          ],
          "name": "stdout"
        },
        {
          "output_type": "stream",
          "text": [
            "\n",
            " 29%|██▉       | 733/2504 [03:15<07:53,  3.74it/s]\u001b[A\n",
            " 29%|██▉       | 734/2504 [03:15<07:46,  3.79it/s]\u001b[A\n",
            " 29%|██▉       | 735/2504 [03:15<07:41,  3.83it/s]\u001b[A\n",
            " 29%|██▉       | 736/2504 [03:15<07:44,  3.81it/s]\u001b[A\n",
            " 29%|██▉       | 737/2504 [03:16<07:56,  3.71it/s]\u001b[A\n",
            " 29%|██▉       | 738/2504 [03:16<07:50,  3.76it/s]\u001b[A\n",
            " 30%|██▉       | 739/2504 [03:16<07:43,  3.81it/s]\u001b[A\n",
            " 30%|██▉       | 740/2504 [03:16<07:42,  3.81it/s]\u001b[A\n",
            " 30%|██▉       | 741/2504 [03:17<07:54,  3.71it/s]\u001b[A\n",
            " 30%|██▉       | 742/2504 [03:17<07:45,  3.79it/s]\u001b[A\n",
            " 30%|██▉       | 743/2504 [03:17<07:42,  3.80it/s]\u001b[A\n",
            " 30%|██▉       | 744/2504 [03:17<07:37,  3.84it/s]\u001b[A\n",
            " 30%|██▉       | 745/2504 [03:18<07:57,  3.69it/s]\u001b[A\n",
            " 30%|██▉       | 746/2504 [03:18<08:05,  3.62it/s]\u001b[A"
          ],
          "name": "stderr"
        },
        {
          "output_type": "stream",
          "text": [
            "AI Trader sold:  $ 75.187141  Profit: - $ 9.007141\n"
          ],
          "name": "stdout"
        },
        {
          "output_type": "stream",
          "text": [
            "\n",
            " 30%|██▉       | 747/2504 [03:18<07:57,  3.68it/s]\u001b[A\n",
            " 30%|██▉       | 748/2504 [03:19<07:59,  3.66it/s]\u001b[A"
          ],
          "name": "stderr"
        },
        {
          "output_type": "stream",
          "text": [
            "AI Trader bought:  $ 74.190002\n"
          ],
          "name": "stdout"
        },
        {
          "output_type": "stream",
          "text": [
            "\n",
            " 30%|██▉       | 749/2504 [03:19<07:53,  3.70it/s]\u001b[A\n",
            " 30%|██▉       | 750/2504 [03:19<07:56,  3.68it/s]\u001b[A\n",
            " 30%|██▉       | 751/2504 [03:19<07:52,  3.71it/s]\u001b[A"
          ],
          "name": "stderr"
        },
        {
          "output_type": "stream",
          "text": [
            "AI Trader sold:  $ 73.580002  Profit: - $ 0.610001\n"
          ],
          "name": "stdout"
        },
        {
          "output_type": "stream",
          "text": [
            "\n",
            " 30%|███       | 752/2504 [03:20<07:54,  3.69it/s]\u001b[A\n",
            " 30%|███       | 753/2504 [03:20<07:42,  3.79it/s]\u001b[A\n",
            " 30%|███       | 754/2504 [03:20<07:42,  3.79it/s]\u001b[A\n",
            " 30%|███       | 755/2504 [03:20<07:34,  3.84it/s]\u001b[A\n",
            " 30%|███       | 756/2504 [03:21<07:39,  3.80it/s]\u001b[A\n",
            " 30%|███       | 757/2504 [03:21<07:43,  3.77it/s]\u001b[A"
          ],
          "name": "stderr"
        },
        {
          "output_type": "stream",
          "text": [
            "AI Trader bought:  $ 74.842857\n"
          ],
          "name": "stdout"
        },
        {
          "output_type": "stream",
          "text": [
            "\n",
            " 30%|███       | 758/2504 [03:21<07:44,  3.76it/s]\u001b[A\n",
            " 30%|███       | 759/2504 [03:22<07:36,  3.82it/s]\u001b[A"
          ],
          "name": "stderr"
        },
        {
          "output_type": "stream",
          "text": [
            "AI Trader sold:  $ 73.871429  Profit: - $ 0.971428\n"
          ],
          "name": "stdout"
        },
        {
          "output_type": "stream",
          "text": [
            "\n",
            " 30%|███       | 760/2504 [03:22<07:56,  3.66it/s]\u001b[A\n",
            " 30%|███       | 761/2504 [03:22<08:14,  3.53it/s]\u001b[A\n",
            " 30%|███       | 762/2504 [03:22<08:10,  3.55it/s]\u001b[A\n",
            " 30%|███       | 763/2504 [03:23<08:02,  3.61it/s]\u001b[A"
          ],
          "name": "stderr"
        },
        {
          "output_type": "stream",
          "text": [
            "AI Trader bought:  $ 69.417145\n"
          ],
          "name": "stdout"
        },
        {
          "output_type": "stream",
          "text": [
            "\n",
            " 31%|███       | 764/2504 [03:23<08:17,  3.50it/s]\u001b[A\n",
            " 31%|███       | 765/2504 [03:23<08:13,  3.52it/s]\u001b[A"
          ],
          "name": "stderr"
        },
        {
          "output_type": "stream",
          "text": [
            "AI Trader sold:  $ 71.811432  Profit: $ 2.394287\n"
          ],
          "name": "stdout"
        },
        {
          "output_type": "stream",
          "text": [
            "\n",
            " 31%|███       | 766/2504 [03:24<08:07,  3.56it/s]\u001b[A\n",
            " 31%|███       | 767/2504 [03:24<07:58,  3.63it/s]\u001b[A\n",
            " 31%|███       | 768/2504 [03:24<07:42,  3.75it/s]\u001b[A\n",
            " 31%|███       | 769/2504 [03:24<07:37,  3.79it/s]\u001b[A\n",
            " 31%|███       | 770/2504 [03:25<07:31,  3.84it/s]\u001b[A\n",
            " 31%|███       | 771/2504 [03:25<07:36,  3.79it/s]\u001b[A\n",
            " 31%|███       | 772/2504 [03:25<07:31,  3.84it/s]\u001b[A\n",
            " 31%|███       | 773/2504 [03:25<07:30,  3.84it/s]\u001b[A\n",
            " 31%|███       | 774/2504 [03:26<07:29,  3.85it/s]\u001b[A\n",
            " 31%|███       | 775/2504 [03:26<07:33,  3.81it/s]\u001b[A\n",
            " 31%|███       | 776/2504 [03:26<07:33,  3.81it/s]\u001b[A"
          ],
          "name": "stderr"
        },
        {
          "output_type": "stream",
          "text": [
            "AI Trader bought:  $ 63.188572\n"
          ],
          "name": "stdout"
        },
        {
          "output_type": "stream",
          "text": [
            "\n",
            " 31%|███       | 777/2504 [03:26<07:36,  3.78it/s]\u001b[A\n",
            " 31%|███       | 778/2504 [03:27<07:29,  3.84it/s]\u001b[A"
          ],
          "name": "stderr"
        },
        {
          "output_type": "stream",
          "text": [
            "AI Trader sold:  $ 65.335716  Profit: $ 2.147144\n"
          ],
          "name": "stdout"
        },
        {
          "output_type": "stream",
          "text": [
            "\n",
            " 31%|███       | 779/2504 [03:27<07:33,  3.80it/s]\u001b[A\n",
            " 31%|███       | 780/2504 [03:27<07:39,  3.75it/s]\u001b[A\n",
            " 31%|███       | 781/2504 [03:27<07:31,  3.82it/s]\u001b[A\n",
            " 31%|███       | 782/2504 [03:28<07:28,  3.84it/s]\u001b[A"
          ],
          "name": "stderr"
        },
        {
          "output_type": "stream",
          "text": [
            "AI Trader bought:  $ 66.842857\n"
          ],
          "name": "stdout"
        },
        {
          "output_type": "stream",
          "text": [
            "\n",
            " 31%|███▏      | 783/2504 [03:28<07:29,  3.83it/s]\u001b[A\n",
            " 31%|███▏      | 784/2504 [03:28<07:35,  3.77it/s]\u001b[A\n",
            " 31%|███▏      | 785/2504 [03:28<07:28,  3.83it/s]\u001b[A\n",
            " 31%|███▏      | 786/2504 [03:29<07:25,  3.86it/s]\u001b[A\n",
            " 31%|███▏      | 787/2504 [03:29<07:34,  3.78it/s]\u001b[A\n",
            " 31%|███▏      | 788/2504 [03:29<07:31,  3.80it/s]\u001b[A\n",
            " 32%|███▏      | 789/2504 [03:30<07:27,  3.83it/s]\u001b[A\n",
            " 32%|███▏      | 790/2504 [03:30<07:20,  3.89it/s]\u001b[A"
          ],
          "name": "stderr"
        },
        {
          "output_type": "stream",
          "text": [
            "AI Trader sold:  $ 63.257141  Profit: - $ 3.585716\n"
          ],
          "name": "stdout"
        },
        {
          "output_type": "stream",
          "text": [
            "\n",
            " 32%|███▏      | 791/2504 [03:30<07:28,  3.82it/s]\u001b[A\n",
            " 32%|███▏      | 792/2504 [03:30<07:37,  3.74it/s]\u001b[A"
          ],
          "name": "stderr"
        },
        {
          "output_type": "stream",
          "text": [
            "AI Trader bought:  $ 63.509998\n"
          ],
          "name": "stdout"
        },
        {
          "output_type": "stream",
          "text": [
            "\n",
            " 32%|███▏      | 793/2504 [03:31<07:36,  3.75it/s]\u001b[A"
          ],
          "name": "stderr"
        },
        {
          "output_type": "stream",
          "text": [
            "AI Trader sold:  $ 63.057144  Profit: - $ 0.452854\n"
          ],
          "name": "stdout"
        },
        {
          "output_type": "stream",
          "text": [
            "\n",
            " 32%|███▏      | 794/2504 [03:31<07:32,  3.78it/s]\u001b[A"
          ],
          "name": "stderr"
        },
        {
          "output_type": "stream",
          "text": [
            "AI Trader bought:  $ 61.495716\n"
          ],
          "name": "stdout"
        },
        {
          "output_type": "stream",
          "text": [
            "\n",
            " 32%|███▏      | 795/2504 [03:31<07:37,  3.73it/s]\u001b[A\n",
            " 32%|███▏      | 796/2504 [03:31<07:37,  3.73it/s]\u001b[A"
          ],
          "name": "stderr"
        },
        {
          "output_type": "stream",
          "text": [
            "AI Trader sold:  $ 61.591427  Profit: $ 0.095711\n"
          ],
          "name": "stdout"
        },
        {
          "output_type": "stream",
          "text": [
            "\n",
            " 32%|███▏      | 797/2504 [03:32<07:30,  3.79it/s]\u001b[A\n",
            " 32%|███▏      | 798/2504 [03:32<07:30,  3.78it/s]\u001b[A\n",
            " 32%|███▏      | 799/2504 [03:32<07:28,  3.80it/s]\u001b[A"
          ],
          "name": "stderr"
        },
        {
          "output_type": "stream",
          "text": [
            "AI Trader bought:  $ 61.674286\n"
          ],
          "name": "stdout"
        },
        {
          "output_type": "stream",
          "text": [
            "\n",
            " 32%|███▏      | 800/2504 [03:32<07:39,  3.71it/s]\u001b[A\n",
            " 32%|███▏      | 801/2504 [03:33<07:42,  3.68it/s]\u001b[A\n",
            " 32%|███▏      | 802/2504 [03:33<07:32,  3.76it/s]\u001b[A\n",
            " 32%|███▏      | 803/2504 [03:33<07:46,  3.64it/s]\u001b[A\n",
            " 32%|███▏      | 804/2504 [03:34<07:43,  3.67it/s]\u001b[A\n",
            " 32%|███▏      | 805/2504 [03:34<07:35,  3.73it/s]\u001b[A"
          ],
          "name": "stderr"
        },
        {
          "output_type": "stream",
          "text": [
            "AI Trader sold:  $ 65.102859  Profit: $ 3.428574\n"
          ],
          "name": "stdout"
        },
        {
          "output_type": "stream",
          "text": [
            "\n",
            " 32%|███▏      | 806/2504 [03:34<07:40,  3.69it/s]\u001b[A\n",
            " 32%|███▏      | 807/2504 [03:34<07:27,  3.79it/s]\u001b[A\n",
            " 32%|███▏      | 808/2504 [03:35<07:37,  3.70it/s]\u001b[A"
          ],
          "name": "stderr"
        },
        {
          "output_type": "stream",
          "text": [
            "AI Trader bought:  $ 64.675713\n"
          ],
          "name": "stdout"
        },
        {
          "output_type": "stream",
          "text": [
            "\n",
            " 32%|███▏      | 809/2504 [03:35<07:33,  3.74it/s]\u001b[A\n",
            " 32%|███▏      | 810/2504 [03:35<07:33,  3.73it/s]\u001b[A"
          ],
          "name": "stderr"
        },
        {
          "output_type": "stream",
          "text": [
            "AI Trader sold:  $ 66.225716  Profit: $ 1.550003\n"
          ],
          "name": "stdout"
        },
        {
          "output_type": "stream",
          "text": [
            "\n",
            " 32%|███▏      | 811/2504 [03:35<07:35,  3.71it/s]\u001b[A\n",
            " 32%|███▏      | 812/2504 [03:36<07:34,  3.73it/s]\u001b[A\n",
            " 32%|███▏      | 813/2504 [03:36<07:22,  3.82it/s]\u001b[A\n",
            " 33%|███▎      | 814/2504 [03:36<07:33,  3.73it/s]\u001b[A\n",
            " 33%|███▎      | 815/2504 [03:36<07:27,  3.77it/s]\u001b[A\n",
            " 33%|███▎      | 816/2504 [03:37<07:25,  3.79it/s]\u001b[A\n",
            " 33%|███▎      | 817/2504 [03:37<07:24,  3.79it/s]\u001b[A\n",
            " 33%|███▎      | 818/2504 [03:37<07:30,  3.74it/s]\u001b[A\n",
            " 33%|███▎      | 819/2504 [03:38<07:35,  3.70it/s]\u001b[A\n",
            " 33%|███▎      | 820/2504 [03:38<07:31,  3.73it/s]\u001b[A\n",
            " 33%|███▎      | 821/2504 [03:38<07:20,  3.82it/s]\u001b[A\n",
            " 33%|███▎      | 822/2504 [03:38<07:19,  3.83it/s]\u001b[A\n",
            " 33%|███▎      | 823/2504 [03:39<07:18,  3.83it/s]\u001b[A\n",
            " 33%|███▎      | 824/2504 [03:39<07:26,  3.76it/s]\u001b[A"
          ],
          "name": "stderr"
        },
        {
          "output_type": "stream",
          "text": [
            "AI Trader bought:  $ 59.978573\n"
          ],
          "name": "stdout"
        },
        {
          "output_type": "stream",
          "text": [
            "\n",
            " 33%|███▎      | 825/2504 [03:39<07:16,  3.85it/s]\u001b[A"
          ],
          "name": "stderr"
        },
        {
          "output_type": "stream",
          "text": [
            "AI Trader sold:  $ 60.891430  Profit: $ 0.912857\n"
          ],
          "name": "stdout"
        },
        {
          "output_type": "stream",
          "text": [
            "\n",
            " 33%|███▎      | 826/2504 [03:39<07:22,  3.79it/s]\u001b[A\n",
            " 33%|███▎      | 827/2504 [03:40<07:16,  3.84it/s]\u001b[A\n",
            " 33%|███▎      | 828/2504 [03:40<07:13,  3.87it/s]\u001b[A\n",
            " 33%|███▎      | 829/2504 [03:40<07:11,  3.88it/s]\u001b[A\n",
            " 33%|███▎      | 830/2504 [03:40<07:19,  3.81it/s]\u001b[A\n",
            " 33%|███▎      | 831/2504 [03:41<07:14,  3.85it/s]\u001b[A\n",
            " 33%|███▎      | 832/2504 [03:41<07:16,  3.83it/s]\u001b[A\n",
            " 33%|███▎      | 833/2504 [03:41<07:28,  3.73it/s]\u001b[A"
          ],
          "name": "stderr"
        },
        {
          "output_type": "stream",
          "text": [
            "AI Trader bought:  $ 59.599998\n"
          ],
          "name": "stdout"
        },
        {
          "output_type": "stream",
          "text": [
            "\n",
            " 33%|███▎      | 834/2504 [03:41<07:23,  3.76it/s]\u001b[A\n",
            " 33%|███▎      | 835/2504 [03:42<07:25,  3.75it/s]\u001b[A"
          ],
          "name": "stderr"
        },
        {
          "output_type": "stream",
          "text": [
            "AI Trader sold:  $ 63.254284  Profit: $ 3.654285\n"
          ],
          "name": "stdout"
        },
        {
          "output_type": "stream",
          "text": [
            "\n",
            " 33%|███▎      | 836/2504 [03:42<07:37,  3.65it/s]\u001b[A\n",
            " 33%|███▎      | 837/2504 [03:42<07:39,  3.63it/s]\u001b[A\n",
            " 33%|███▎      | 838/2504 [03:43<07:33,  3.68it/s]\u001b[A\n",
            " 34%|███▎      | 839/2504 [03:43<07:30,  3.69it/s]\u001b[A\n",
            " 34%|███▎      | 840/2504 [03:43<07:49,  3.55it/s]\u001b[A\n",
            " 34%|███▎      | 841/2504 [03:43<07:35,  3.65it/s]\u001b[A\n",
            " 34%|███▎      | 842/2504 [03:44<07:37,  3.63it/s]\u001b[A\n",
            " 34%|███▎      | 843/2504 [03:44<07:36,  3.64it/s]\u001b[A"
          ],
          "name": "stderr"
        },
        {
          "output_type": "stream",
          "text": [
            "AI Trader bought:  $ 64.709999\n"
          ],
          "name": "stdout"
        },
        {
          "output_type": "stream",
          "text": [
            "\n",
            " 34%|███▎      | 844/2504 [03:44<08:01,  3.45it/s]\u001b[A"
          ],
          "name": "stderr"
        },
        {
          "output_type": "stream",
          "text": [
            "AI Trader sold:  $ 64.962860  Profit: $ 0.252861\n"
          ],
          "name": "stdout"
        },
        {
          "output_type": "stream",
          "text": [
            "\n",
            " 34%|███▎      | 845/2504 [03:45<07:56,  3.48it/s]\u001b[A\n",
            " 34%|███▍      | 846/2504 [03:45<07:43,  3.58it/s]\u001b[A\n",
            " 34%|███▍      | 847/2504 [03:45<07:34,  3.64it/s]\u001b[A\n",
            " 34%|███▍      | 848/2504 [03:45<07:45,  3.56it/s]\u001b[A\n",
            " 34%|███▍      | 849/2504 [03:46<07:50,  3.52it/s]\u001b[A\n",
            " 34%|███▍      | 850/2504 [03:46<07:35,  3.63it/s]\u001b[A\n",
            " 34%|███▍      | 851/2504 [03:46<07:35,  3.63it/s]\u001b[A\n",
            " 34%|███▍      | 852/2504 [03:47<07:48,  3.52it/s]\u001b[A\n",
            " 34%|███▍      | 853/2504 [03:47<07:37,  3.60it/s]\u001b[A\n",
            " 34%|███▍      | 854/2504 [03:47<07:27,  3.69it/s]\u001b[A\n",
            " 34%|███▍      | 855/2504 [03:47<07:23,  3.72it/s]\u001b[A\n",
            " 34%|███▍      | 856/2504 [03:48<07:22,  3.72it/s]\u001b[A\n",
            " 34%|███▍      | 857/2504 [03:48<07:14,  3.79it/s]\u001b[A"
          ],
          "name": "stderr"
        },
        {
          "output_type": "stream",
          "text": [
            "AI Trader bought:  $ 64.247147\n"
          ],
          "name": "stdout"
        },
        {
          "output_type": "stream",
          "text": [
            "\n",
            " 34%|███▍      | 858/2504 [03:48<07:20,  3.74it/s]\u001b[A"
          ],
          "name": "stderr"
        },
        {
          "output_type": "stream",
          "text": [
            "AI Trader sold:  $ 64.388573  Profit: $ 0.141426\n"
          ],
          "name": "stdout"
        },
        {
          "output_type": "stream",
          "text": [
            "\n",
            " 34%|███▍      | 859/2504 [03:48<07:22,  3.72it/s]\u001b[A"
          ],
          "name": "stderr"
        },
        {
          "output_type": "stream",
          "text": [
            "AI Trader bought:  $ 64.187141\n"
          ],
          "name": "stdout"
        },
        {
          "output_type": "stream",
          "text": [
            "\n",
            " 34%|███▍      | 860/2504 [03:49<07:23,  3.71it/s]\u001b[A\n",
            " 34%|███▍      | 861/2504 [03:49<07:24,  3.69it/s]\u001b[A\n",
            " 34%|███▍      | 862/2504 [03:49<07:33,  3.62it/s]\u001b[A"
          ],
          "name": "stderr"
        },
        {
          "output_type": "stream",
          "text": [
            "AI Trader sold:  $ 63.115715  Profit: - $ 1.071426\n"
          ],
          "name": "stdout"
        },
        {
          "output_type": "stream",
          "text": [
            "\n",
            " 34%|███▍      | 863/2504 [03:49<07:32,  3.62it/s]\u001b[A\n",
            " 35%|███▍      | 864/2504 [03:50<07:20,  3.72it/s]\u001b[A\n",
            " 35%|███▍      | 865/2504 [03:50<07:11,  3.80it/s]\u001b[A\n",
            " 35%|███▍      | 866/2504 [03:50<07:09,  3.81it/s]\u001b[A"
          ],
          "name": "stderr"
        }
      ]
    }
  ]
}