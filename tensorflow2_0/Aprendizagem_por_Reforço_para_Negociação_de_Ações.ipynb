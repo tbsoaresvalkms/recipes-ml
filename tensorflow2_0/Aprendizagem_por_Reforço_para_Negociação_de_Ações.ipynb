{
 "cells": [
  {
   "cell_type": "markdown",
   "metadata": {
    "colab_type": "text",
    "id": "CFYKMfEEEzni"
   },
   "source": [
    "## Etapa 1: Instalação da bibliotecas\n"
   ]
  },
  {
   "cell_type": "code",
   "execution_count": 3,
   "metadata": {
    "colab": {
     "base_uri": "https://localhost:8080/",
     "height": 496
    },
    "colab_type": "code",
    "executionInfo": {
     "elapsed": 45325,
     "status": "ok",
     "timestamp": 1576495278638,
     "user": {
      "displayName": "Thiago Soares",
      "photoUrl": "https://lh3.googleusercontent.com/a-/AAuE7mDVnn4bs_69Dza620eJyFyEB7MAQjY-YrvBLOoJwg=s64",
      "userId": "00720103411866679317"
     },
     "user_tz": 180
    },
    "id": "UEPWe6QNErug",
    "outputId": "f3c64401-18fb-4604-ff03-d5059e7f94a1"
   },
   "outputs": [
    {
     "name": "stdout",
     "output_type": "stream",
     "text": [
      "Collecting package metadata (repodata.json): done\n",
      "Solving environment: - ^C\n",
      "failed with initial frozen solve. Retrying with flexible solve.\n",
      "\n",
      "CondaError: KeyboardInterrupt\n",
      "\n"
     ]
    }
   ],
   "source": [
    "!conda install tensorflow-gpu==2.0.0"
   ]
  },
  {
   "cell_type": "code",
   "execution_count": 4,
   "metadata": {
    "colab": {
     "base_uri": "https://localhost:8080/",
     "height": 258
    },
    "colab_type": "code",
    "executionInfo": {
     "elapsed": 49431,
     "status": "ok",
     "timestamp": 1576495282752,
     "user": {
      "displayName": "Thiago Soares",
      "photoUrl": "https://lh3.googleusercontent.com/a-/AAuE7mDVnn4bs_69Dza620eJyFyEB7MAQjY-YrvBLOoJwg=s64",
      "userId": "00720103411866679317"
     },
     "user_tz": 180
    },
    "id": "6lafKy3gGRFW",
    "outputId": "5d65f93c-1d23-4558-c1d3-63147ba6fa35"
   },
   "outputs": [
    {
     "name": "stdout",
     "output_type": "stream",
     "text": [
      "^C\r\n",
      "\r\n",
      "CondaError: KeyboardInterrupt\r\n",
      "\r\n"
     ]
    }
   ],
   "source": [
    "!conda install -f pandas-datareader"
   ]
  },
  {
   "cell_type": "markdown",
   "metadata": {
    "colab_type": "text",
    "id": "J0BVbvetGrlR"
   },
   "source": [
    "## Etapa 2: Importação das bibliotecas"
   ]
  },
  {
   "cell_type": "code",
   "execution_count": 5,
   "metadata": {
    "colab": {
     "base_uri": "https://localhost:8080/",
     "height": 445
    },
    "colab_type": "code",
    "executionInfo": {
     "elapsed": 51228,
     "status": "ok",
     "timestamp": 1576495284555,
     "user": {
      "displayName": "Thiago Soares",
      "photoUrl": "https://lh3.googleusercontent.com/a-/AAuE7mDVnn4bs_69Dza620eJyFyEB7MAQjY-YrvBLOoJwg=s64",
      "userId": "00720103411866679317"
     },
     "user_tz": 180
    },
    "id": "qALiMginGiMW",
    "outputId": "c9324b75-df71-49df-882f-35fe4ffc867b"
   },
   "outputs": [],
   "source": [
    "import math\n",
    "import random\n",
    "import numpy as np\n",
    "import pandas as pd\n",
    "import tensorflow as tf\n",
    "import matplotlib.pyplot as plt\n",
    "import pandas_datareader as data_reader\n",
    "\n",
    "from tqdm import tqdm_notebook, tqdm\n",
    "from collections import deque"
   ]
  },
  {
   "cell_type": "code",
   "execution_count": 6,
   "metadata": {
    "colab": {
     "base_uri": "https://localhost:8080/",
     "height": 34
    },
    "colab_type": "code",
    "executionInfo": {
     "elapsed": 51222,
     "status": "ok",
     "timestamp": 1576495284555,
     "user": {
      "displayName": "Thiago Soares",
      "photoUrl": "https://lh3.googleusercontent.com/a-/AAuE7mDVnn4bs_69Dza620eJyFyEB7MAQjY-YrvBLOoJwg=s64",
      "userId": "00720103411866679317"
     },
     "user_tz": 180
    },
    "id": "drGd9adHGuje",
    "outputId": "92573905-7cf5-42ef-beaa-4d2c6eccebc2"
   },
   "outputs": [
    {
     "data": {
      "text/plain": [
       "'1.14.0'"
      ]
     },
     "execution_count": 6,
     "metadata": {},
     "output_type": "execute_result"
    }
   ],
   "source": [
    "tf.__version__"
   ]
  },
  {
   "cell_type": "markdown",
   "metadata": {
    "colab_type": "text",
    "id": "__E4SMMaGwqb"
   },
   "source": [
    "## Etapa 3: Construção da IA para negociação de ações"
   ]
  },
  {
   "cell_type": "code",
   "execution_count": 7,
   "metadata": {
    "colab": {},
    "colab_type": "code",
    "id": "qV_UlZrLeSUk"
   },
   "outputs": [],
   "source": [
    "class AI_Trader():\n",
    "  \n",
    "  def __init__(self, state_size, action_space = 3, model_name = \"AITrader\"):\n",
    "    # O estado que esta vindo do ambiente\n",
    "    self.state_size = state_size\n",
    "    # Acoes possiveis que podemos tomar\n",
    "    self.action_space = action_space\n",
    "    # +- O numero de acoes para depois fazer o treinamento.\n",
    "    self.memory = deque(maxlen = 2000)\n",
    "\n",
    "    self.model_name = model_name\n",
    "    \n",
    "    self.gamma = 0.95\n",
    "    # param que determina se o agente vai seguir a rede ou escolher aleatorio. 1 quer dizer que vai ser 100% aleatorio, o motivo disso, pois no comeco a rede ainda nao esta treinada, entao precisa ser feito escolhas randomicas\n",
    "    self.epsilon = 1.0\n",
    "    # como esse param sera reduzido, a gente precisa coloca um minimo, obs que nao eh 0, entao em determinados momentos ele ira escolher pontos aleatorios\n",
    "    self.epsilon_final = 0.01\n",
    "    # esse valor determina o quanto o param de aleatoridade ira cair.\n",
    "    self.epsilon_decay = 0.995\n",
    "    self.model = self.model_builder()\n",
    "    \n",
    "  def model_builder(self):\n",
    "    model = tf.keras.models.Sequential()\n",
    "    model.add(tf.keras.layers.Dense(units = 32, activation = \"relu\", input_dim = self.state_size))\n",
    "    model.add(tf.keras.layers.Dense(units = 64, activation = \"relu\"))\n",
    "    model.add(tf.keras.layers.Dense(units = 128, activation = \"relu\"))\n",
    "    model.add(tf.keras.layers.Dense(units = self.action_space, activation = \"linear\"))\n",
    "    model.compile(loss = \"mse\", optimizer = tf.keras.optimizers.Adam(lr = 0.001))\n",
    "    return model\n",
    "  \n",
    "  def trade(self, state):\n",
    "    if random.random() <= self.epsilon:\n",
    "      return random.randrange(self.action_space)\n",
    "    \n",
    "    actions = self.model.predict(state)\n",
    "    return np.argmax(actions[0])\n",
    "  \n",
    "  def batch_train(self, batch_size):\n",
    "    batch = []\n",
    "    for i in range(len(self.memory) - batch_size + 1, len(self.memory)):\n",
    "      batch.append(self.memory[i])\n",
    "      \n",
    "    for state, action, reward, next_state, done in batch:\n",
    "      if not done:\n",
    "        reward = reward + self.gamma * np.amax(self.model.predict(next_state)[0])\n",
    "        \n",
    "      target = self.model.predict(state)\n",
    "      target[0][action] = reward\n",
    "      \n",
    "      self.model.fit(state, target, epochs=1, verbose=0)\n",
    "      \n",
    "    if self.epsilon > self.epsilon_final:\n",
    "      self.epsilon *= self.epsilon_decay\n",
    "      "
   ]
  },
  {
   "cell_type": "code",
   "execution_count": 8,
   "metadata": {
    "colab": {
     "base_uri": "https://localhost:8080/",
     "height": 34
    },
    "colab_type": "code",
    "executionInfo": {
     "elapsed": 51216,
     "status": "ok",
     "timestamp": 1576495284557,
     "user": {
      "displayName": "Thiago Soares",
      "photoUrl": "https://lh3.googleusercontent.com/a-/AAuE7mDVnn4bs_69Dza620eJyFyEB7MAQjY-YrvBLOoJwg=s64",
      "userId": "00720103411866679317"
     },
     "user_tz": 180
    },
    "id": "nei9YcfmWn0y",
    "outputId": "445c9283-d508-4085-88a3-e4e69173370d"
   },
   "outputs": [
    {
     "data": {
      "text/plain": [
       "2"
      ]
     },
     "execution_count": 8,
     "metadata": {},
     "output_type": "execute_result"
    }
   ],
   "source": [
    "random.randrange(3)"
   ]
  },
  {
   "cell_type": "markdown",
   "metadata": {
    "colab_type": "text",
    "id": "7tcUyJMnS479"
   },
   "source": [
    "## Etapa 4: Pré-processamento da base de dados"
   ]
  },
  {
   "cell_type": "markdown",
   "metadata": {
    "colab_type": "text",
    "id": "ya_4XPUMS8Pe"
   },
   "source": [
    "### Definição de funções auxiliares"
   ]
  },
  {
   "cell_type": "markdown",
   "metadata": {
    "colab_type": "text",
    "id": "kK6UDGe0TACz"
   },
   "source": [
    "#### Sigmoid"
   ]
  },
  {
   "cell_type": "code",
   "execution_count": 9,
   "metadata": {
    "colab": {},
    "colab_type": "code",
    "id": "IzXG-49iSZX3"
   },
   "outputs": [],
   "source": [
    "def sigmoid(x):\n",
    "  return 1 / (1 + math.exp(-x))"
   ]
  },
  {
   "cell_type": "code",
   "execution_count": 10,
   "metadata": {
    "colab": {
     "base_uri": "https://localhost:8080/",
     "height": 34
    },
    "colab_type": "code",
    "executionInfo": {
     "elapsed": 51210,
     "status": "ok",
     "timestamp": 1576495284559,
     "user": {
      "displayName": "Thiago Soares",
      "photoUrl": "https://lh3.googleusercontent.com/a-/AAuE7mDVnn4bs_69Dza620eJyFyEB7MAQjY-YrvBLOoJwg=s64",
      "userId": "00720103411866679317"
     },
     "user_tz": 180
    },
    "id": "3kLpIoe6wMLQ",
    "outputId": "b21cbe2a-f19e-4355-c998-ae262d27ba90"
   },
   "outputs": [
    {
     "data": {
      "text/plain": [
       "0.6224593312018546"
      ]
     },
     "execution_count": 10,
     "metadata": {},
     "output_type": "execute_result"
    }
   ],
   "source": [
    "sigmoid(0.5)"
   ]
  },
  {
   "cell_type": "markdown",
   "metadata": {
    "colab_type": "text",
    "id": "0VRbmx_OTDtZ"
   },
   "source": [
    "#### Formatação de preços"
   ]
  },
  {
   "cell_type": "code",
   "execution_count": 11,
   "metadata": {
    "colab": {},
    "colab_type": "code",
    "id": "N8vVBL8YTGaE"
   },
   "outputs": [],
   "source": [
    "def stocks_price_format(n):\n",
    "  if n < 0:\n",
    "    return \"- $ {0:2f}\".format(abs(n))\n",
    "  else:\n",
    "    return \"$ {0:2f}\".format(abs(n))"
   ]
  },
  {
   "cell_type": "code",
   "execution_count": 12,
   "metadata": {
    "colab": {
     "base_uri": "https://localhost:8080/",
     "height": 34
    },
    "colab_type": "code",
    "executionInfo": {
     "elapsed": 51203,
     "status": "ok",
     "timestamp": 1576495284560,
     "user": {
      "displayName": "Thiago Soares",
      "photoUrl": "https://lh3.googleusercontent.com/a-/AAuE7mDVnn4bs_69Dza620eJyFyEB7MAQjY-YrvBLOoJwg=s64",
      "userId": "00720103411866679317"
     },
     "user_tz": 180
    },
    "id": "3pH2jleGwSlG",
    "outputId": "f6572abf-d784-4577-ffd1-73fb4a1a23ec"
   },
   "outputs": [
    {
     "data": {
      "text/plain": [
       "'$ 100.000000'"
      ]
     },
     "execution_count": 12,
     "metadata": {},
     "output_type": "execute_result"
    }
   ],
   "source": [
    "stocks_price_format(100)"
   ]
  },
  {
   "cell_type": "markdown",
   "metadata": {
    "colab_type": "text",
    "id": "j8_bXTiFTHnH"
   },
   "source": [
    "#### Carregador da base de dados"
   ]
  },
  {
   "cell_type": "code",
   "execution_count": 13,
   "metadata": {
    "colab": {},
    "colab_type": "code",
    "id": "2bNOpbV2yjTK"
   },
   "outputs": [],
   "source": [
    "dataset = data_reader.DataReader(\"AAPL\", data_source = \"yahoo\")"
   ]
  },
  {
   "cell_type": "code",
   "execution_count": 14,
   "metadata": {
    "colab": {
     "base_uri": "https://localhost:8080/",
     "height": 235
    },
    "colab_type": "code",
    "executionInfo": {
     "elapsed": 51500,
     "status": "ok",
     "timestamp": 1576495284864,
     "user": {
      "displayName": "Thiago Soares",
      "photoUrl": "https://lh3.googleusercontent.com/a-/AAuE7mDVnn4bs_69Dza620eJyFyEB7MAQjY-YrvBLOoJwg=s64",
      "userId": "00720103411866679317"
     },
     "user_tz": 180
    },
    "id": "mef6ZW4w09_R",
    "outputId": "4b214689-681a-4722-bfa5-7306f4d72598"
   },
   "outputs": [
    {
     "data": {
      "text/html": [
       "<div>\n",
       "<style scoped>\n",
       "    .dataframe tbody tr th:only-of-type {\n",
       "        vertical-align: middle;\n",
       "    }\n",
       "\n",
       "    .dataframe tbody tr th {\n",
       "        vertical-align: top;\n",
       "    }\n",
       "\n",
       "    .dataframe thead th {\n",
       "        text-align: right;\n",
       "    }\n",
       "</style>\n",
       "<table border=\"1\" class=\"dataframe\">\n",
       "  <thead>\n",
       "    <tr style=\"text-align: right;\">\n",
       "      <th></th>\n",
       "      <th>High</th>\n",
       "      <th>Low</th>\n",
       "      <th>Open</th>\n",
       "      <th>Close</th>\n",
       "      <th>Volume</th>\n",
       "      <th>Adj Close</th>\n",
       "    </tr>\n",
       "    <tr>\n",
       "      <th>Date</th>\n",
       "      <th></th>\n",
       "      <th></th>\n",
       "      <th></th>\n",
       "      <th></th>\n",
       "      <th></th>\n",
       "      <th></th>\n",
       "    </tr>\n",
       "  </thead>\n",
       "  <tbody>\n",
       "    <tr>\n",
       "      <th>2019-12-09</th>\n",
       "      <td>270.799988</td>\n",
       "      <td>264.910004</td>\n",
       "      <td>270.000000</td>\n",
       "      <td>266.920013</td>\n",
       "      <td>32010600.0</td>\n",
       "      <td>266.920013</td>\n",
       "    </tr>\n",
       "    <tr>\n",
       "      <th>2019-12-10</th>\n",
       "      <td>270.070007</td>\n",
       "      <td>265.859985</td>\n",
       "      <td>268.600006</td>\n",
       "      <td>268.480011</td>\n",
       "      <td>22605100.0</td>\n",
       "      <td>268.480011</td>\n",
       "    </tr>\n",
       "    <tr>\n",
       "      <th>2019-12-11</th>\n",
       "      <td>271.100006</td>\n",
       "      <td>268.500000</td>\n",
       "      <td>268.809998</td>\n",
       "      <td>270.769989</td>\n",
       "      <td>19689200.0</td>\n",
       "      <td>270.769989</td>\n",
       "    </tr>\n",
       "    <tr>\n",
       "      <th>2019-12-12</th>\n",
       "      <td>272.559998</td>\n",
       "      <td>267.320007</td>\n",
       "      <td>267.779999</td>\n",
       "      <td>271.459991</td>\n",
       "      <td>34327600.0</td>\n",
       "      <td>271.459991</td>\n",
       "    </tr>\n",
       "    <tr>\n",
       "      <th>2019-12-13</th>\n",
       "      <td>275.299988</td>\n",
       "      <td>270.929993</td>\n",
       "      <td>271.459991</td>\n",
       "      <td>275.149994</td>\n",
       "      <td>33396900.0</td>\n",
       "      <td>275.149994</td>\n",
       "    </tr>\n",
       "  </tbody>\n",
       "</table>\n",
       "</div>"
      ],
      "text/plain": [
       "                  High         Low        Open       Close      Volume  \\\n",
       "Date                                                                     \n",
       "2019-12-09  270.799988  264.910004  270.000000  266.920013  32010600.0   \n",
       "2019-12-10  270.070007  265.859985  268.600006  268.480011  22605100.0   \n",
       "2019-12-11  271.100006  268.500000  268.809998  270.769989  19689200.0   \n",
       "2019-12-12  272.559998  267.320007  267.779999  271.459991  34327600.0   \n",
       "2019-12-13  275.299988  270.929993  271.459991  275.149994  33396900.0   \n",
       "\n",
       "             Adj Close  \n",
       "Date                    \n",
       "2019-12-09  266.920013  \n",
       "2019-12-10  268.480011  \n",
       "2019-12-11  270.769989  \n",
       "2019-12-12  271.459991  \n",
       "2019-12-13  275.149994  "
      ]
     },
     "execution_count": 14,
     "metadata": {},
     "output_type": "execute_result"
    }
   ],
   "source": [
    "dataset.tail()"
   ]
  },
  {
   "cell_type": "code",
   "execution_count": 15,
   "metadata": {
    "colab": {
     "base_uri": "https://localhost:8080/",
     "height": 34
    },
    "colab_type": "code",
    "executionInfo": {
     "elapsed": 51495,
     "status": "ok",
     "timestamp": 1576495284865,
     "user": {
      "displayName": "Thiago Soares",
      "photoUrl": "https://lh3.googleusercontent.com/a-/AAuE7mDVnn4bs_69Dza620eJyFyEB7MAQjY-YrvBLOoJwg=s64",
      "userId": "00720103411866679317"
     },
     "user_tz": 180
    },
    "id": "of2H_S1R2Aeq",
    "outputId": "91a1d5b4-eb25-42b7-8593-2d63d8edc751"
   },
   "outputs": [
    {
     "data": {
      "text/plain": [
       "'2014-12-17'"
      ]
     },
     "execution_count": 15,
     "metadata": {},
     "output_type": "execute_result"
    }
   ],
   "source": [
    "str(dataset.index[0]).split()[0]"
   ]
  },
  {
   "cell_type": "code",
   "execution_count": 16,
   "metadata": {
    "colab": {
     "base_uri": "https://localhost:8080/",
     "height": 34
    },
    "colab_type": "code",
    "executionInfo": {
     "elapsed": 51489,
     "status": "ok",
     "timestamp": 1576495284865,
     "user": {
      "displayName": "Thiago Soares",
      "photoUrl": "https://lh3.googleusercontent.com/a-/AAuE7mDVnn4bs_69Dza620eJyFyEB7MAQjY-YrvBLOoJwg=s64",
      "userId": "00720103411866679317"
     },
     "user_tz": 180
    },
    "id": "-aQGb62K2qa8",
    "outputId": "12feaa41-6cca-4c83-ea18-eb8bf5814253"
   },
   "outputs": [
    {
     "data": {
      "text/plain": [
       "Timestamp('2019-12-13 00:00:00')"
      ]
     },
     "execution_count": 16,
     "metadata": {},
     "output_type": "execute_result"
    }
   ],
   "source": [
    "dataset.index[-1]"
   ]
  },
  {
   "cell_type": "code",
   "execution_count": 17,
   "metadata": {
    "colab": {
     "base_uri": "https://localhost:8080/",
     "height": 238
    },
    "colab_type": "code",
    "executionInfo": {
     "elapsed": 51484,
     "status": "ok",
     "timestamp": 1576495284866,
     "user": {
      "displayName": "Thiago Soares",
      "photoUrl": "https://lh3.googleusercontent.com/a-/AAuE7mDVnn4bs_69Dza620eJyFyEB7MAQjY-YrvBLOoJwg=s64",
      "userId": "00720103411866679317"
     },
     "user_tz": 180
    },
    "id": "myj5_5yj2-ka",
    "outputId": "cf363968-a210-4a80-b72d-3ac8679ed0e0"
   },
   "outputs": [
    {
     "data": {
      "text/plain": [
       "Date\n",
       "2014-12-17    109.410004\n",
       "2014-12-18    112.650002\n",
       "2014-12-19    111.779999\n",
       "2014-12-22    112.940002\n",
       "2014-12-23    112.540001\n",
       "2014-12-24    112.010002\n",
       "2014-12-26    113.989998\n",
       "2014-12-29    113.910004\n",
       "2014-12-30    112.519997\n",
       "2014-12-31    110.379997\n",
       "2015-01-02    109.330002\n",
       "2015-01-05    106.250000\n",
       "2015-01-06    106.260002\n",
       "2015-01-07    107.750000\n",
       "2015-01-08    111.889999\n",
       "2015-01-09    112.010002\n",
       "2015-01-12    109.250000\n",
       "2015-01-13    110.220001\n",
       "2015-01-14    109.800003\n",
       "2015-01-15    106.820000\n",
       "2015-01-16    105.989998\n",
       "2015-01-20    108.720001\n",
       "2015-01-21    109.550003\n",
       "2015-01-22    112.400002\n",
       "2015-01-23    112.980003\n",
       "2015-01-26    113.099998\n",
       "2015-01-27    109.139999\n",
       "2015-01-28    115.309998\n",
       "2015-01-29    118.900002\n",
       "2015-01-30    117.160004\n",
       "                 ...    \n",
       "2019-11-01    255.820007\n",
       "2019-11-04    257.500000\n",
       "2019-11-05    257.130005\n",
       "2019-11-06    257.239990\n",
       "2019-11-07    259.429993\n",
       "2019-11-08    260.140015\n",
       "2019-11-11    262.200012\n",
       "2019-11-12    261.959991\n",
       "2019-11-13    264.470001\n",
       "2019-11-14    262.640015\n",
       "2019-11-15    265.760010\n",
       "2019-11-18    267.100006\n",
       "2019-11-19    266.290009\n",
       "2019-11-20    263.190002\n",
       "2019-11-21    262.010010\n",
       "2019-11-22    261.779999\n",
       "2019-11-25    266.369995\n",
       "2019-11-26    264.290009\n",
       "2019-11-27    267.839996\n",
       "2019-11-29    267.250000\n",
       "2019-12-02    264.160004\n",
       "2019-12-03    259.450012\n",
       "2019-12-04    261.739990\n",
       "2019-12-05    265.579987\n",
       "2019-12-06    270.709991\n",
       "2019-12-09    266.920013\n",
       "2019-12-10    268.480011\n",
       "2019-12-11    270.769989\n",
       "2019-12-12    271.459991\n",
       "2019-12-13    275.149994\n",
       "Name: Close, Length: 1257, dtype: float64"
      ]
     },
     "execution_count": 17,
     "metadata": {},
     "output_type": "execute_result"
    }
   ],
   "source": [
    "dataset['Close']"
   ]
  },
  {
   "cell_type": "code",
   "execution_count": 18,
   "metadata": {
    "colab": {},
    "colab_type": "code",
    "id": "n0fpuTNQ1tOP"
   },
   "outputs": [],
   "source": [
    "def dataset_loader(stock_name):\n",
    "  dataset = data_reader.DataReader(stock_name, data_source = \"yahoo\")\n",
    "  start_date = str(dataset.index[0]).split()[0]\n",
    "  end_date = str(dataset.index[-1]).split()[0]\n",
    "  close = dataset['Close']\n",
    "  return close"
   ]
  },
  {
   "cell_type": "markdown",
   "metadata": {
    "colab_type": "text",
    "id": "eG5ueRzH1Kh8"
   },
   "source": [
    "### Criador de estados"
   ]
  },
  {
   "cell_type": "code",
   "execution_count": 19,
   "metadata": {
    "colab": {
     "base_uri": "https://localhost:8080/",
     "height": 34
    },
    "colab_type": "code",
    "executionInfo": {
     "elapsed": 51076,
     "status": "ok",
     "timestamp": 1576495284867,
     "user": {
      "displayName": "Thiago Soares",
      "photoUrl": "https://lh3.googleusercontent.com/a-/AAuE7mDVnn4bs_69Dza620eJyFyEB7MAQjY-YrvBLOoJwg=s64",
      "userId": "00720103411866679317"
     },
     "user_tz": 180
    },
    "id": "iMbqIpLq9Ee2",
    "outputId": "925bf7ea-968c-4d51-ad8d-166ad030fca2"
   },
   "outputs": [
    {
     "data": {
      "text/plain": [
       "-4"
      ]
     },
     "execution_count": 19,
     "metadata": {},
     "output_type": "execute_result"
    }
   ],
   "source": [
    "0 - 5 + 1"
   ]
  },
  {
   "cell_type": "code",
   "execution_count": 20,
   "metadata": {
    "colab": {
     "base_uri": "https://localhost:8080/",
     "height": 34
    },
    "colab_type": "code",
    "executionInfo": {
     "elapsed": 50496,
     "status": "ok",
     "timestamp": 1576495284867,
     "user": {
      "displayName": "Thiago Soares",
      "photoUrl": "https://lh3.googleusercontent.com/a-/AAuE7mDVnn4bs_69Dza620eJyFyEB7MAQjY-YrvBLOoJwg=s64",
      "userId": "00720103411866679317"
     },
     "user_tz": 180
    },
    "id": "ii_VUJlN9KeI",
    "outputId": "424982cc-cdaf-4f32-e612-9fe4f5f65d08"
   },
   "outputs": [
    {
     "data": {
      "text/plain": [
       "16"
      ]
     },
     "execution_count": 20,
     "metadata": {},
     "output_type": "execute_result"
    }
   ],
   "source": [
    "20 - 5 + 1"
   ]
  },
  {
   "cell_type": "code",
   "execution_count": 21,
   "metadata": {
    "colab": {
     "base_uri": "https://localhost:8080/",
     "height": 235
    },
    "colab_type": "code",
    "executionInfo": {
     "elapsed": 50298,
     "status": "ok",
     "timestamp": 1576495284868,
     "user": {
      "displayName": "Thiago Soares",
      "photoUrl": "https://lh3.googleusercontent.com/a-/AAuE7mDVnn4bs_69Dza620eJyFyEB7MAQjY-YrvBLOoJwg=s64",
      "userId": "00720103411866679317"
     },
     "user_tz": 180
    },
    "id": "26nd_oRH9iP7",
    "outputId": "62a0935f-e8e4-4e5e-b3a6-8a047b93d4f0"
   },
   "outputs": [
    {
     "data": {
      "text/html": [
       "<div>\n",
       "<style scoped>\n",
       "    .dataframe tbody tr th:only-of-type {\n",
       "        vertical-align: middle;\n",
       "    }\n",
       "\n",
       "    .dataframe tbody tr th {\n",
       "        vertical-align: top;\n",
       "    }\n",
       "\n",
       "    .dataframe thead th {\n",
       "        text-align: right;\n",
       "    }\n",
       "</style>\n",
       "<table border=\"1\" class=\"dataframe\">\n",
       "  <thead>\n",
       "    <tr style=\"text-align: right;\">\n",
       "      <th></th>\n",
       "      <th>High</th>\n",
       "      <th>Low</th>\n",
       "      <th>Open</th>\n",
       "      <th>Close</th>\n",
       "      <th>Volume</th>\n",
       "      <th>Adj Close</th>\n",
       "    </tr>\n",
       "    <tr>\n",
       "      <th>Date</th>\n",
       "      <th></th>\n",
       "      <th></th>\n",
       "      <th></th>\n",
       "      <th></th>\n",
       "      <th></th>\n",
       "      <th></th>\n",
       "    </tr>\n",
       "  </thead>\n",
       "  <tbody>\n",
       "    <tr>\n",
       "      <th>2015-01-12</th>\n",
       "      <td>112.629997</td>\n",
       "      <td>108.800003</td>\n",
       "      <td>112.599998</td>\n",
       "      <td>109.250000</td>\n",
       "      <td>49650800.0</td>\n",
       "      <td>100.380791</td>\n",
       "    </tr>\n",
       "    <tr>\n",
       "      <th>2015-01-13</th>\n",
       "      <td>112.800003</td>\n",
       "      <td>108.910004</td>\n",
       "      <td>111.430000</td>\n",
       "      <td>110.220001</td>\n",
       "      <td>67091900.0</td>\n",
       "      <td>101.272049</td>\n",
       "    </tr>\n",
       "    <tr>\n",
       "      <th>2015-01-14</th>\n",
       "      <td>110.489998</td>\n",
       "      <td>108.500000</td>\n",
       "      <td>109.040001</td>\n",
       "      <td>109.800003</td>\n",
       "      <td>48956600.0</td>\n",
       "      <td>100.886154</td>\n",
       "    </tr>\n",
       "    <tr>\n",
       "      <th>2015-01-15</th>\n",
       "      <td>110.059998</td>\n",
       "      <td>106.660004</td>\n",
       "      <td>110.000000</td>\n",
       "      <td>106.820000</td>\n",
       "      <td>60014000.0</td>\n",
       "      <td>98.148056</td>\n",
       "    </tr>\n",
       "    <tr>\n",
       "      <th>2015-01-16</th>\n",
       "      <td>107.580002</td>\n",
       "      <td>105.199997</td>\n",
       "      <td>107.029999</td>\n",
       "      <td>105.989998</td>\n",
       "      <td>78513300.0</td>\n",
       "      <td>97.385445</td>\n",
       "    </tr>\n",
       "  </tbody>\n",
       "</table>\n",
       "</div>"
      ],
      "text/plain": [
       "                  High         Low        Open       Close      Volume  \\\n",
       "Date                                                                     \n",
       "2015-01-12  112.629997  108.800003  112.599998  109.250000  49650800.0   \n",
       "2015-01-13  112.800003  108.910004  111.430000  110.220001  67091900.0   \n",
       "2015-01-14  110.489998  108.500000  109.040001  109.800003  48956600.0   \n",
       "2015-01-15  110.059998  106.660004  110.000000  106.820000  60014000.0   \n",
       "2015-01-16  107.580002  105.199997  107.029999  105.989998  78513300.0   \n",
       "\n",
       "             Adj Close  \n",
       "Date                    \n",
       "2015-01-12  100.380791  \n",
       "2015-01-13  101.272049  \n",
       "2015-01-14  100.886154  \n",
       "2015-01-15   98.148056  \n",
       "2015-01-16   97.385445  "
      ]
     },
     "execution_count": 21,
     "metadata": {},
     "output_type": "execute_result"
    }
   ],
   "source": [
    "dataset[16:21]"
   ]
  },
  {
   "cell_type": "code",
   "execution_count": 22,
   "metadata": {
    "colab": {},
    "colab_type": "code",
    "id": "D0rX3jY48WaQ"
   },
   "outputs": [],
   "source": [
    "def state_creator(data, timestep, window_size):\n",
    "  starting_id = timestep - window_size + 1\n",
    "  \n",
    "  if starting_id >= 0:\n",
    "    windowed_data = data[starting_id:timestep + 1]\n",
    "  else:\n",
    "    windowed_data = - starting_id * [data[0]] + list(data[0:timestep + 1])\n",
    "    \n",
    "  state = []\n",
    "  for i in range(window_size - 1):\n",
    "    state.append(sigmoid(windowed_data[i + 1] - windowed_data[i]))\n",
    "    \n",
    "  return np.array([state]), windowed_data"
   ]
  },
  {
   "cell_type": "markdown",
   "metadata": {
    "colab_type": "text",
    "id": "sV2a68QC34N-"
   },
   "source": [
    "### Carregando a base de dados"
   ]
  },
  {
   "cell_type": "code",
   "execution_count": 23,
   "metadata": {
    "colab": {},
    "colab_type": "code",
    "id": "ye-U_gaNCFcz"
   },
   "outputs": [],
   "source": [
    "stock_name = \"AAPL\"\n",
    "data = dataset_loader(stock_name)"
   ]
  },
  {
   "cell_type": "code",
   "execution_count": 24,
   "metadata": {
    "colab": {},
    "colab_type": "code",
    "id": "q36_uruXCNjI"
   },
   "outputs": [],
   "source": [
    "s, w = state_creator(data, 1000, 5)"
   ]
  },
  {
   "cell_type": "code",
   "execution_count": 25,
   "metadata": {
    "colab": {
     "base_uri": "https://localhost:8080/",
     "height": 34
    },
    "colab_type": "code",
    "executionInfo": {
     "elapsed": 48838,
     "status": "ok",
     "timestamp": 1576495285702,
     "user": {
      "displayName": "Thiago Soares",
      "photoUrl": "https://lh3.googleusercontent.com/a-/AAuE7mDVnn4bs_69Dza620eJyFyEB7MAQjY-YrvBLOoJwg=s64",
      "userId": "00720103411866679317"
     },
     "user_tz": 180
    },
    "id": "BzpDmRHmCl1k",
    "outputId": "2ab1f9fd-5f94-4997-abf0-b6a232590a1f"
   },
   "outputs": [
    {
     "data": {
      "text/plain": [
       "array([[9.98053950e-01, 2.94480018e-04, 1.22388756e-01, 1.96558916e-03]])"
      ]
     },
     "execution_count": 25,
     "metadata": {},
     "output_type": "execute_result"
    }
   ],
   "source": [
    "s"
   ]
  },
  {
   "cell_type": "code",
   "execution_count": 26,
   "metadata": {
    "colab": {
     "base_uri": "https://localhost:8080/",
     "height": 136
    },
    "colab_type": "code",
    "executionInfo": {
     "elapsed": 48608,
     "status": "ok",
     "timestamp": 1576495285703,
     "user": {
      "displayName": "Thiago Soares",
      "photoUrl": "https://lh3.googleusercontent.com/a-/AAuE7mDVnn4bs_69Dza620eJyFyEB7MAQjY-YrvBLOoJwg=s64",
      "userId": "00720103411866679317"
     },
     "user_tz": 180
    },
    "id": "cWb7euNCCnsS",
    "outputId": "a2d319a8-c8ed-4239-ab85-b01c2fa24efc"
   },
   "outputs": [
    {
     "data": {
      "text/plain": [
       "Date\n",
       "2018-11-30    178.580002\n",
       "2018-12-03    184.820007\n",
       "2018-12-04    176.690002\n",
       "2018-12-06    174.720001\n",
       "2018-12-07    168.490005\n",
       "Name: Close, dtype: float64"
      ]
     },
     "execution_count": 26,
     "metadata": {},
     "output_type": "execute_result"
    }
   ],
   "source": [
    "w"
   ]
  },
  {
   "cell_type": "markdown",
   "metadata": {
    "colab_type": "text",
    "id": "k_KUeBY14o8Z"
   },
   "source": [
    "## Etapa 5: Treinando a IA"
   ]
  },
  {
   "cell_type": "markdown",
   "metadata": {
    "colab_type": "text",
    "id": "hkyW12-L4qo_"
   },
   "source": [
    "### Configuração dos hyper parâmetros"
   ]
  },
  {
   "cell_type": "code",
   "execution_count": 40,
   "metadata": {},
   "outputs": [
    {
     "data": {
      "text/plain": [
       "1256"
      ]
     },
     "execution_count": 40,
     "metadata": {},
     "output_type": "execute_result"
    }
   ],
   "source": [
    "window_size = 20\n",
    "episodes = 1000\n",
    "batch_size = 32\n",
    "data_samples = len(data) - 1\n",
    "data_samples"
   ]
  },
  {
   "cell_type": "markdown",
   "metadata": {
    "colab_type": "text",
    "id": "h2kvNZx24sJ7"
   },
   "source": [
    "### Definição do modelo"
   ]
  },
  {
   "cell_type": "code",
   "execution_count": 41,
   "metadata": {
    "colab": {},
    "colab_type": "code",
    "id": "LZSDqBLMKuWJ"
   },
   "outputs": [],
   "source": [
    "trader = AI_Trader(window_size)"
   ]
  },
  {
   "cell_type": "code",
   "execution_count": 42,
   "metadata": {
    "colab": {
     "base_uri": "https://localhost:8080/",
     "height": 289
    },
    "colab_type": "code",
    "executionInfo": {
     "elapsed": 45829,
     "status": "ok",
     "timestamp": 1576495286776,
     "user": {
      "displayName": "Thiago Soares",
      "photoUrl": "https://lh3.googleusercontent.com/a-/AAuE7mDVnn4bs_69Dza620eJyFyEB7MAQjY-YrvBLOoJwg=s64",
      "userId": "00720103411866679317"
     },
     "user_tz": 180
    },
    "id": "x4p4VbU6MioS",
    "outputId": "361aadfc-33c6-4795-aa2b-836573771279"
   },
   "outputs": [
    {
     "name": "stdout",
     "output_type": "stream",
     "text": [
      "Model: \"sequential_1\"\n",
      "_________________________________________________________________\n",
      "Layer (type)                 Output Shape              Param #   \n",
      "=================================================================\n",
      "dense_4 (Dense)              (None, 32)                672       \n",
      "_________________________________________________________________\n",
      "dense_5 (Dense)              (None, 64)                2112      \n",
      "_________________________________________________________________\n",
      "dense_6 (Dense)              (None, 128)               8320      \n",
      "_________________________________________________________________\n",
      "dense_7 (Dense)              (None, 3)                 387       \n",
      "=================================================================\n",
      "Total params: 11,491\n",
      "Trainable params: 11,491\n",
      "Non-trainable params: 0\n",
      "_________________________________________________________________\n"
     ]
    }
   ],
   "source": [
    "trader.model.summary()"
   ]
  },
  {
   "cell_type": "markdown",
   "metadata": {
    "colab_type": "text",
    "id": "QRip_rac5zHS"
   },
   "source": [
    "### Loop de treinamento"
   ]
  },
  {
   "cell_type": "code",
   "execution_count": 43,
   "metadata": {},
   "outputs": [],
   "source": [
    "from IPython.display import clear_output, display"
   ]
  },
  {
   "cell_type": "code",
   "execution_count": 44,
   "metadata": {},
   "outputs": [],
   "source": [
    "def print_registry(buy, sell, total):\n",
    "    clear_output(wait=True)\n",
    "    print(\"AI Trader bought: \", stocks_price_format(buy))\n",
    "    print(\"AI Trader sold: \", stocks_price_format(sell), \" Profit: \" + stocks_price_format(sell - buy))\n",
    "    print(\"Total profit: {}\".format(total))"
   ]
  },
  {
   "cell_type": "code",
   "execution_count": null,
   "metadata": {
    "colab": {
     "base_uri": "https://localhost:8080/",
     "height": 1000
    },
    "colab_type": "code",
    "executionInfo": {
     "elapsed": 663077,
     "status": "error",
     "timestamp": 1568759267634,
     "user": {
      "displayName": "Jones Granatyr",
      "photoUrl": "https://lh3.googleusercontent.com/a-/AAuE7mCNNQrSNiYnrrUeeQaAwqrh0aIsa9m62DCgFx01=s64",
      "userId": "10042675233362078631"
     },
     "user_tz": 180
    },
    "id": "wxN9NY-_NoWw",
    "outputId": "5e529a69-d22c-4e70-9263-2f964961535d"
   },
   "outputs": [
    {
     "name": "stdout",
     "output_type": "stream",
     "text": [
      "AI Trader bought:  $ 212.240005\n",
      "AI Trader sold:  $ 218.860001  Profit: $ 6.619995\n",
      "Total profit: 23.240005493164062\n"
     ]
    }
   ],
   "source": [
    "for episode in range(1, episodes + 1):\n",
    "  print(\"Episode: {}/{}\".format(episode, episodes))\n",
    "  state = state_creator(data, window_size + 1, window_size + 1)\n",
    "  total_profit = 0\n",
    "  trader.inventory = []\n",
    "  for t in range(window_size + 1, data_samples):\n",
    "    action = trader.trade(state)\n",
    "    next_state = state_creator(data, t + 1, window_size + 1)\n",
    "    reward = 0\n",
    "    \n",
    "    if action == 1 and len(trader.inventory) == 0: # Comprando uma ação\n",
    "      trader.inventory.append(data[t])\n",
    "      \n",
    "    elif action == 2 and len(trader.inventory) > 0: # Vendendo uma ação  \n",
    "      buy_price = trader.inventory.pop(0)\n",
    "      \n",
    "      reward = max(data[t] - buy_price, 0)\n",
    "      total_profit += data[t] - buy_price\n",
    "      print_registry(buy_price, data[t], total_profit)\n",
    "\n",
    "\n",
    "    if t == data_samples - 1:\n",
    "      done = True\n",
    "    else:\n",
    "      done = False\n",
    "      \n",
    "    trader.memory.append((state, action, reward, next_state, done))\n",
    "    \n",
    "    state = next_state\n",
    "    \n",
    "    if done:\n",
    "      print(\"########################\")\n",
    "      print(\"Total profit: {}\".format(total_profit))\n",
    "      print(\"########################\")\n",
    "      \n",
    "    if len(trader.memory) > batch_size:\n",
    "      trader.batch_train(batch_size)\n",
    "     \n",
    "  if episode % 10 == 0:\n",
    "    trader.model.save(\"ai_trader_{}.h5\".format(episode))\n",
    "    "
   ]
  },
  {
   "cell_type": "code",
   "execution_count": null,
   "metadata": {},
   "outputs": [],
   "source": []
  }
 ],
 "metadata": {
  "accelerator": "GPU",
  "colab": {
   "collapsed_sections": [],
   "name": "Copy of Aprendizagem por Reforço para Negociação de Ações.ipynb",
   "provenance": [
    {
     "file_id": "1ELWUphTJcRAqRDO-SBPF9YbvC1yaCQdJ",
     "timestamp": 1576440922288
    },
    {
     "file_id": "1ZPBM7gAAzsStog0-Y8JDUTxW55aYdor0",
     "timestamp": 1568463642722
    }
   ],
   "toc_visible": true
  },
  "kernelspec": {
   "display_name": "Python 3",
   "language": "python",
   "name": "python3"
  },
  "language_info": {
   "codemirror_mode": {
    "name": "ipython",
    "version": 3
   },
   "file_extension": ".py",
   "mimetype": "text/x-python",
   "name": "python",
   "nbconvert_exporter": "python",
   "pygments_lexer": "ipython3",
   "version": "3.7.3"
  }
 },
 "nbformat": 4,
 "nbformat_minor": 1
}
