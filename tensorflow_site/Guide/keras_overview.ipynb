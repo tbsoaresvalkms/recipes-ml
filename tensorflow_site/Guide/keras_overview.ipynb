{
 "cells": [
  {
   "cell_type": "markdown",
   "metadata": {},
   "source": [
    "# Keras Overview"
   ]
  },
  {
   "cell_type": "markdown",
   "metadata": {},
   "source": [
    "## Import tf.keras"
   ]
  },
  {
   "cell_type": "code",
   "execution_count": 2,
   "metadata": {},
   "outputs": [],
   "source": [
    "import tensorflow as tf\n",
    "from tensorflow import keras\n",
    "from tensorflow.keras import layers"
   ]
  },
  {
   "cell_type": "markdown",
   "metadata": {},
   "source": [
    "## Build a simple model"
   ]
  },
  {
   "cell_type": "code",
   "execution_count": 4,
   "metadata": {},
   "outputs": [],
   "source": [
    "model = tf.keras.Sequential()\n",
    "model.add(layers.Dense(64, activation='relu'))\n",
    "model.add(layers.Dense(64, activation='relu'))\n",
    "model.add(layers.Dense(10))"
   ]
  },
  {
   "cell_type": "code",
   "execution_count": 8,
   "metadata": {},
   "outputs": [
    {
     "data": {
      "text/plain": [
       "<tensorflow.python.keras.layers.core.Dense at 0x136c57f10>"
      ]
     },
     "execution_count": 8,
     "metadata": {},
     "output_type": "execute_result"
    }
   ],
   "source": [
    "layers.Dense(64, activation='relu')\n",
    "layers.Dense(64, activation=tf.nn.relu)\n",
    "layers.Dense(64, kernel_regularizer=tf.keras.regularizers.l1(0.01))\n",
    "layers.Dense(64, bias_regularizer=tf.keras.regularizers.l2(0.01))\n",
    "layers.Dense(64, kernel_initializer='orthogonal')\n",
    "layers.Dense(64, bias_initializer=tf.keras.initializers.Constant(2.0))"
   ]
  },
  {
   "cell_type": "markdown",
   "metadata": {},
   "source": [
    "## Train and evaluate"
   ]
  },
  {
   "cell_type": "code",
   "execution_count": 11,
   "metadata": {},
   "outputs": [],
   "source": [
    "model = tf.keras.Sequential([\n",
    "    layers.Dense(64, activation=tf.nn.relu, input_shape=(32, )),\n",
    "    layers.Dense(64, activation=tf.nn.relu),\n",
    "    layers.Dense(10)\n",
    "])\n",
    "\n",
    "model.compile(optimizer=tf.keras.optimizers.Adam(0.1),\n",
    "              loss=tf.keras.losses.CategoricalCrossentropy(from_logits=True),\n",
    "              metrics=[tf.keras.metrics.Accuracy()])"
   ]
  },
  {
   "cell_type": "code",
   "execution_count": 24,
   "metadata": {},
   "outputs": [],
   "source": [
    "model.compile(optimizer=tf.keras.optimizers.RMSprop(0.01),\n",
    "              loss=tf.keras.losses.CategoricalCrossentropy(from_logits=True),\n",
    "              metrics=[tf.keras.metrics.Accuracy()])"
   ]
  },
  {
   "cell_type": "code",
   "execution_count": 25,
   "metadata": {},
   "outputs": [],
   "source": [
    "model.compile(optimizer=tf.keras.optimizers.Adam(0.1),\n",
    "              loss=tf.keras.losses.MeanSquaredError(),\n",
    "              metrics=[tf.keras.metrics.MeanSquaredError()])"
   ]
  },
  {
   "cell_type": "code",
   "execution_count": 26,
   "metadata": {},
   "outputs": [],
   "source": [
    "import numpy as np"
   ]
  },
  {
   "cell_type": "code",
   "execution_count": 27,
   "metadata": {},
   "outputs": [
    {
     "data": {
      "text/plain": [
       "(1000, 32)"
      ]
     },
     "execution_count": 27,
     "metadata": {},
     "output_type": "execute_result"
    }
   ],
   "source": [
    "data = np.random.random((1000, 32))\n",
    "data.shape"
   ]
  },
  {
   "cell_type": "code",
   "execution_count": 28,
   "metadata": {},
   "outputs": [
    {
     "data": {
      "text/plain": [
       "(1000, 10)"
      ]
     },
     "execution_count": 28,
     "metadata": {},
     "output_type": "execute_result"
    }
   ],
   "source": [
    "labels = np.random.random((1000, 10))\n",
    "labels.shape"
   ]
  },
  {
   "cell_type": "code",
   "execution_count": 60,
   "metadata": {},
   "outputs": [
    {
     "name": "stdout",
     "output_type": "stream",
     "text": [
      "Epoch 1/5\n",
      "1000/1000 [==============================] - 0s 130us/sample - loss: 0.3852 - mean_squared_error: 0.3852\n",
      "Epoch 2/5\n",
      "1000/1000 [==============================] - 0s 29us/sample - loss: 0.3595 - mean_squared_error: 0.3595\n",
      "Epoch 3/5\n",
      "1000/1000 [==============================] - 0s 31us/sample - loss: 0.3403 - mean_squared_error: 0.3403\n",
      "Epoch 4/5\n",
      "1000/1000 [==============================] - 0s 27us/sample - loss: 0.3132 - mean_squared_error: 0.3132\n",
      "Epoch 5/5\n",
      "1000/1000 [==============================] - 0s 26us/sample - loss: 0.2941 - mean_squared_error: 0.2941\n"
     ]
    },
    {
     "data": {
      "text/plain": [
       "<tensorflow.python.keras.callbacks.History at 0x1395e3f10>"
      ]
     },
     "execution_count": 60,
     "metadata": {},
     "output_type": "execute_result"
    }
   ],
   "source": [
    "model.fit(data, labels, epochs=5, batch_size=32)"
   ]
  },
  {
   "cell_type": "code",
   "execution_count": 31,
   "metadata": {},
   "outputs": [
    {
     "data": {
      "text/plain": [
       "(100, 32)"
      ]
     },
     "execution_count": 31,
     "metadata": {},
     "output_type": "execute_result"
    }
   ],
   "source": [
    "val_data = np.random.random((100, 32))\n",
    "val_data.shape"
   ]
  },
  {
   "cell_type": "code",
   "execution_count": 32,
   "metadata": {},
   "outputs": [
    {
     "data": {
      "text/plain": [
       "(100, 10)"
      ]
     },
     "execution_count": 32,
     "metadata": {},
     "output_type": "execute_result"
    }
   ],
   "source": [
    "val_labels = np.random.random((100, 10))\n",
    "val_labels.shape"
   ]
  },
  {
   "cell_type": "code",
   "execution_count": 61,
   "metadata": {},
   "outputs": [
    {
     "name": "stdout",
     "output_type": "stream",
     "text": [
      "Train on 1000 samples, validate on 100 samples\n",
      "Epoch 1/5\n",
      "1000/1000 [==============================] - 0s 107us/sample - loss: 0.2783 - mean_squared_error: 0.2783 - val_loss: 0.2169 - val_mean_squared_error: 0.2169\n",
      "Epoch 2/5\n",
      "1000/1000 [==============================] - 0s 38us/sample - loss: 0.2531 - mean_squared_error: 0.2531 - val_loss: 0.2623 - val_mean_squared_error: 0.2623\n",
      "Epoch 3/5\n",
      "1000/1000 [==============================] - 0s 38us/sample - loss: 0.2467 - mean_squared_error: 0.2467 - val_loss: 0.2104 - val_mean_squared_error: 0.2104\n",
      "Epoch 4/5\n",
      "1000/1000 [==============================] - 0s 38us/sample - loss: 0.2172 - mean_squared_error: 0.2172 - val_loss: 0.3457 - val_mean_squared_error: 0.3457\n",
      "Epoch 5/5\n",
      "1000/1000 [==============================] - 0s 32us/sample - loss: 0.2142 - mean_squared_error: 0.2142 - val_loss: 0.1737 - val_mean_squared_error: 0.1737\n"
     ]
    },
    {
     "data": {
      "text/plain": [
       "<tensorflow.python.keras.callbacks.History at 0x1394ec250>"
      ]
     },
     "execution_count": 61,
     "metadata": {},
     "output_type": "execute_result"
    }
   ],
   "source": [
    "model.fit(data,\n",
    "          labels,\n",
    "          epochs=5,\n",
    "          batch_size=32,\n",
    "          validation_data=(val_data, val_labels))"
   ]
  },
  {
   "cell_type": "code",
   "execution_count": 36,
   "metadata": {},
   "outputs": [
    {
     "name": "stdout",
     "output_type": "stream",
     "text": [
      "1000/1000 [==============================] - 0s 20us/sample - loss: 0.1549 - mean_squared_error: 0.1549\n"
     ]
    },
    {
     "data": {
      "text/plain": [
       "[0.15491807007789613, 0.15491806]"
      ]
     },
     "execution_count": 36,
     "metadata": {},
     "output_type": "execute_result"
    }
   ],
   "source": [
    "model.evaluate(data, labels, batch_size=32)"
   ]
  },
  {
   "cell_type": "code",
   "execution_count": 37,
   "metadata": {},
   "outputs": [
    {
     "name": "stdout",
     "output_type": "stream",
     "text": [
      "32/32 [==============================] - 0s 2ms/step - loss: 0.1554 - mean_squared_error: 0.1549\n"
     ]
    },
    {
     "data": {
      "text/plain": [
       "[0.15538878180086613, 0.15491806]"
      ]
     },
     "execution_count": 37,
     "metadata": {},
     "output_type": "execute_result"
    }
   ],
   "source": [
    "dataset = tf.data.Dataset.from_tensor_slices((data, labels))\n",
    "dataset = dataset.batch(32)\n",
    "\n",
    "model.evaluate(dataset)"
   ]
  },
  {
   "cell_type": "code",
   "execution_count": 40,
   "metadata": {},
   "outputs": [
    {
     "data": {
      "text/plain": [
       "(1000, 10)"
      ]
     },
     "execution_count": 40,
     "metadata": {},
     "output_type": "execute_result"
    }
   ],
   "source": [
    "result = model.predict(dataset)\n",
    "result.shape"
   ]
  },
  {
   "cell_type": "markdown",
   "metadata": {},
   "source": [
    "## Build complex models"
   ]
  },
  {
   "cell_type": "code",
   "execution_count": 42,
   "metadata": {},
   "outputs": [],
   "source": [
    "inputs = tf.keras.Input(shape=(32, ))\n",
    "x = layers.Dense(64, activation=tf.nn.relu)(inputs)\n",
    "x = layers.Dense(64, activation=tf.nn.relu)(x)\n",
    "predictions = layers.Dense(10)(x)"
   ]
  },
  {
   "cell_type": "code",
   "execution_count": 193,
   "metadata": {},
   "outputs": [],
   "source": [
    "model = tf.keras.Model(inputs=inputs, outputs=predictions)\n",
    "\n",
    "model.compile(optimizer=tf.keras.optimizers.RMSprop(0.001),\n",
    "              loss=tf.keras.losses.MeanSquaredError(),\n",
    "              metrics=[tf.keras.metrics.MeanSquaredError()])"
   ]
  },
  {
   "cell_type": "code",
   "execution_count": 59,
   "metadata": {},
   "outputs": [
    {
     "name": "stdout",
     "output_type": "stream",
     "text": [
      "Epoch 1/5\n",
      "32/32 [==============================] - 0s 4ms/step - loss: 0.5406 - mean_squared_error: 0.5403\n",
      "Epoch 2/5\n",
      "32/32 [==============================] - 0s 1ms/step - loss: 0.5110 - mean_squared_error: 0.5079\n",
      "Epoch 3/5\n",
      "32/32 [==============================] - 0s 855us/step - loss: 0.4817 - mean_squared_error: 0.4818\n",
      "Epoch 4/5\n",
      "32/32 [==============================] - 0s 850us/step - loss: 0.4624 - mean_squared_error: 0.4635\n",
      "Epoch 5/5\n",
      "32/32 [==============================] - 0s 834us/step - loss: 0.4152 - mean_squared_error: 0.4110\n"
     ]
    },
    {
     "data": {
      "text/plain": [
       "<tensorflow.python.keras.callbacks.History at 0x1394ecd90>"
      ]
     },
     "execution_count": 59,
     "metadata": {},
     "output_type": "execute_result"
    }
   ],
   "source": [
    "dataset = dataset.shuffle(1000, reshuffle_each_iteration=True)\n",
    "model.fit(dataset, epochs=5)"
   ]
  },
  {
   "cell_type": "code",
   "execution_count": 71,
   "metadata": {},
   "outputs": [],
   "source": [
    "class MyModel(tf.keras.Model):\n",
    "    def __init__(self, num_classes=10):\n",
    "        super(MyModel, self).__init__(name='my_model')\n",
    "        self.num_classes = num_classes\n",
    "        self.dense_1 = layers.Dense(32, activation=tf.nn.relu)\n",
    "        self.dense_2 = layers.Dense(num_classes)\n",
    "\n",
    "    # Call on fit method\n",
    "    def call(self, inputs):\n",
    "        x = self.dense_1(inputs)\n",
    "        return self.dense_2(x)"
   ]
  },
  {
   "cell_type": "code",
   "execution_count": 72,
   "metadata": {},
   "outputs": [],
   "source": [
    "model = MyModel(num_classes=10)"
   ]
  },
  {
   "cell_type": "code",
   "execution_count": 73,
   "metadata": {},
   "outputs": [],
   "source": [
    "model.compile(optimizer=tf.keras.optimizers.RMSprop(0.001),\n",
    "              loss=tf.keras.losses.CategoricalCrossentropy(from_logits=True),\n",
    "              metrics=[tf.keras.metrics.Accuracy()])"
   ]
  },
  {
   "cell_type": "code",
   "execution_count": 74,
   "metadata": {},
   "outputs": [
    {
     "name": "stdout",
     "output_type": "stream",
     "text": [
      "Epoch 1/5\n",
      "32/32 [==============================] - 0s 5ms/step - loss: 12.1425 - accuracy: 0.0000e+00\n",
      "Epoch 2/5\n",
      "32/32 [==============================] - 0s 763us/step - loss: 13.9697 - accuracy: 0.0000e+00\n",
      "Epoch 3/5\n",
      "32/32 [==============================] - 0s 844us/step - loss: 15.9812 - accuracy: 0.0000e+00\n",
      "Epoch 4/5\n",
      "32/32 [==============================] - 0s 820us/step - loss: 17.7008 - accuracy: 0.0000e+00\n",
      "Epoch 5/5\n",
      "32/32 [==============================] - 0s 671us/step - loss: 19.1393 - accuracy: 0.0000e+00\n"
     ]
    },
    {
     "data": {
      "text/plain": [
       "<tensorflow.python.keras.callbacks.History at 0x13961e250>"
      ]
     },
     "execution_count": 74,
     "metadata": {},
     "output_type": "execute_result"
    }
   ],
   "source": [
    "model.fit(dataset, epochs=5)"
   ]
  },
  {
   "cell_type": "code",
   "execution_count": 118,
   "metadata": {},
   "outputs": [],
   "source": [
    "class MyLayer(layers.Layer):\n",
    "    def __init__(self, output_dim, **kwargs):\n",
    "        self.output_dim = output_dim\n",
    "        super(MyLayer, self).__init__(**kwargs)\n",
    "\n",
    "    def build(self, input_shape):\n",
    "        self.kernel = self.add_weight(name='kernel',\n",
    "                                      shape=(input_shape[1], self.output_dim),\n",
    "                                      initializer='uniform',\n",
    "                                      trainable=True)\n",
    "\n",
    "    def call(self, inputs):\n",
    "        return tf.matmul(inputs, self.kernel)\n",
    "\n",
    "    def get_config(self):\n",
    "        base_config = super(MyLayer, self).get_config()\n",
    "        base_config['output_dim'] = self.output_dim\n",
    "        return base_config\n",
    "\n",
    "    @classmethod\n",
    "    def from_config(cls, config):\n",
    "        return cls(**config)"
   ]
  },
  {
   "cell_type": "code",
   "execution_count": 119,
   "metadata": {},
   "outputs": [],
   "source": [
    "model = tf.keras.Sequential([MyLayer(10)])"
   ]
  },
  {
   "cell_type": "code",
   "execution_count": 120,
   "metadata": {},
   "outputs": [],
   "source": [
    "model.compile(optimizer=tf.keras.optimizers.RMSprop(0.001),\n",
    "              loss=tf.keras.losses.CategoricalCrossentropy(from_logits=True),\n",
    "              metrics=['accuracy'])"
   ]
  },
  {
   "cell_type": "code",
   "execution_count": 121,
   "metadata": {},
   "outputs": [
    {
     "ename": "TypeError",
     "evalue": "Failed to convert object of type <class 'tuple'> to Tensor. Contents: (Dimension(32), 10). Consider casting elements to a supported type.",
     "output_type": "error",
     "traceback": [
      "\u001b[0;31m---------------------------------------------------------------------------\u001b[0m",
      "\u001b[0;31mTypeError\u001b[0m                                 Traceback (most recent call last)",
      "\u001b[0;32m/usr/local/lib/python3.7/site-packages/tensorflow/python/framework/tensor_util.py\u001b[0m in \u001b[0;36mmake_tensor_proto\u001b[0;34m(values, dtype, shape, verify_shape, allow_broadcast)\u001b[0m\n\u001b[1;32m    557\u001b[0m     \u001b[0;32mtry\u001b[0m\u001b[0;34m:\u001b[0m\u001b[0;34m\u001b[0m\u001b[0;34m\u001b[0m\u001b[0m\n\u001b[0;32m--> 558\u001b[0;31m       \u001b[0mstr_values\u001b[0m \u001b[0;34m=\u001b[0m \u001b[0;34m[\u001b[0m\u001b[0mcompat\u001b[0m\u001b[0;34m.\u001b[0m\u001b[0mas_bytes\u001b[0m\u001b[0;34m(\u001b[0m\u001b[0mx\u001b[0m\u001b[0;34m)\u001b[0m \u001b[0;32mfor\u001b[0m \u001b[0mx\u001b[0m \u001b[0;32min\u001b[0m \u001b[0mproto_values\u001b[0m\u001b[0;34m]\u001b[0m\u001b[0;34m\u001b[0m\u001b[0;34m\u001b[0m\u001b[0m\n\u001b[0m\u001b[1;32m    559\u001b[0m     \u001b[0;32mexcept\u001b[0m \u001b[0mTypeError\u001b[0m\u001b[0;34m:\u001b[0m\u001b[0;34m\u001b[0m\u001b[0;34m\u001b[0m\u001b[0m\n",
      "\u001b[0;32m/usr/local/lib/python3.7/site-packages/tensorflow/python/framework/tensor_util.py\u001b[0m in \u001b[0;36m<listcomp>\u001b[0;34m(.0)\u001b[0m\n\u001b[1;32m    557\u001b[0m     \u001b[0;32mtry\u001b[0m\u001b[0;34m:\u001b[0m\u001b[0;34m\u001b[0m\u001b[0;34m\u001b[0m\u001b[0m\n\u001b[0;32m--> 558\u001b[0;31m       \u001b[0mstr_values\u001b[0m \u001b[0;34m=\u001b[0m \u001b[0;34m[\u001b[0m\u001b[0mcompat\u001b[0m\u001b[0;34m.\u001b[0m\u001b[0mas_bytes\u001b[0m\u001b[0;34m(\u001b[0m\u001b[0mx\u001b[0m\u001b[0;34m)\u001b[0m \u001b[0;32mfor\u001b[0m \u001b[0mx\u001b[0m \u001b[0;32min\u001b[0m \u001b[0mproto_values\u001b[0m\u001b[0;34m]\u001b[0m\u001b[0;34m\u001b[0m\u001b[0;34m\u001b[0m\u001b[0m\n\u001b[0m\u001b[1;32m    559\u001b[0m     \u001b[0;32mexcept\u001b[0m \u001b[0mTypeError\u001b[0m\u001b[0;34m:\u001b[0m\u001b[0;34m\u001b[0m\u001b[0;34m\u001b[0m\u001b[0m\n",
      "\u001b[0;32m/usr/local/lib/python3.7/site-packages/tensorflow/python/util/compat.py\u001b[0m in \u001b[0;36mas_bytes\u001b[0;34m(bytes_or_text, encoding)\u001b[0m\n\u001b[1;32m     64\u001b[0m     raise TypeError('Expected binary or unicode string, got %r' %\n\u001b[0;32m---> 65\u001b[0;31m                     (bytes_or_text,))\n\u001b[0m\u001b[1;32m     66\u001b[0m \u001b[0;34m\u001b[0m\u001b[0m\n",
      "\u001b[0;31mTypeError\u001b[0m: Expected binary or unicode string, got Dimension(32)",
      "\nDuring handling of the above exception, another exception occurred:\n",
      "\u001b[0;31mTypeError\u001b[0m                                 Traceback (most recent call last)",
      "\u001b[0;32m<ipython-input-121-7840c7806e2b>\u001b[0m in \u001b[0;36m<module>\u001b[0;34m\u001b[0m\n\u001b[0;32m----> 1\u001b[0;31m \u001b[0mmodel\u001b[0m\u001b[0;34m.\u001b[0m\u001b[0mfit\u001b[0m\u001b[0;34m(\u001b[0m\u001b[0mdata\u001b[0m\u001b[0;34m,\u001b[0m \u001b[0mlabels\u001b[0m\u001b[0;34m,\u001b[0m \u001b[0mbatch_size\u001b[0m\u001b[0;34m=\u001b[0m\u001b[0;36m32\u001b[0m\u001b[0;34m,\u001b[0m \u001b[0mepochs\u001b[0m\u001b[0;34m=\u001b[0m\u001b[0;36m5\u001b[0m\u001b[0;34m)\u001b[0m\u001b[0;34m\u001b[0m\u001b[0;34m\u001b[0m\u001b[0m\n\u001b[0m",
      "\u001b[0;32m/usr/local/lib/python3.7/site-packages/tensorflow/python/keras/engine/training.py\u001b[0m in \u001b[0;36mfit\u001b[0;34m(self, x, y, batch_size, epochs, verbose, callbacks, validation_split, validation_data, shuffle, class_weight, sample_weight, initial_epoch, steps_per_epoch, validation_steps, validation_freq, max_queue_size, workers, use_multiprocessing, **kwargs)\u001b[0m\n\u001b[1;32m    707\u001b[0m         \u001b[0msteps\u001b[0m\u001b[0;34m=\u001b[0m\u001b[0msteps_per_epoch\u001b[0m\u001b[0;34m,\u001b[0m\u001b[0;34m\u001b[0m\u001b[0;34m\u001b[0m\u001b[0m\n\u001b[1;32m    708\u001b[0m         \u001b[0mvalidation_split\u001b[0m\u001b[0;34m=\u001b[0m\u001b[0mvalidation_split\u001b[0m\u001b[0;34m,\u001b[0m\u001b[0;34m\u001b[0m\u001b[0;34m\u001b[0m\u001b[0m\n\u001b[0;32m--> 709\u001b[0;31m         shuffle=shuffle)\n\u001b[0m\u001b[1;32m    710\u001b[0m \u001b[0;34m\u001b[0m\u001b[0m\n\u001b[1;32m    711\u001b[0m     \u001b[0;31m# Prepare validation data.\u001b[0m\u001b[0;34m\u001b[0m\u001b[0;34m\u001b[0m\u001b[0;34m\u001b[0m\u001b[0m\n",
      "\u001b[0;32m/usr/local/lib/python3.7/site-packages/tensorflow/python/keras/engine/training.py\u001b[0m in \u001b[0;36m_standardize_user_data\u001b[0;34m(self, x, y, sample_weight, class_weight, batch_size, check_steps, steps_name, steps, validation_split, shuffle, extract_tensors_from_dataset)\u001b[0m\n\u001b[1;32m   2556\u001b[0m       \u001b[0;32melse\u001b[0m\u001b[0;34m:\u001b[0m\u001b[0;34m\u001b[0m\u001b[0;34m\u001b[0m\u001b[0m\n\u001b[1;32m   2557\u001b[0m         \u001b[0mcast_inputs\u001b[0m \u001b[0;34m=\u001b[0m \u001b[0mx_input\u001b[0m\u001b[0;34m\u001b[0m\u001b[0;34m\u001b[0m\u001b[0m\n\u001b[0;32m-> 2558\u001b[0;31m       \u001b[0mself\u001b[0m\u001b[0;34m.\u001b[0m\u001b[0m_set_inputs\u001b[0m\u001b[0;34m(\u001b[0m\u001b[0mcast_inputs\u001b[0m\u001b[0;34m)\u001b[0m\u001b[0;34m\u001b[0m\u001b[0;34m\u001b[0m\u001b[0m\n\u001b[0m\u001b[1;32m   2559\u001b[0m     \u001b[0;32melse\u001b[0m\u001b[0;34m:\u001b[0m\u001b[0;34m\u001b[0m\u001b[0;34m\u001b[0m\u001b[0m\n\u001b[1;32m   2560\u001b[0m       \u001b[0my_input\u001b[0m \u001b[0;34m=\u001b[0m \u001b[0my\u001b[0m\u001b[0;34m\u001b[0m\u001b[0;34m\u001b[0m\u001b[0m\n",
      "\u001b[0;32m/usr/local/lib/python3.7/site-packages/tensorflow/python/keras/engine/training.py\u001b[0m in \u001b[0;36m_set_inputs\u001b[0;34m(self, inputs, outputs, training)\u001b[0m\n\u001b[1;32m   2774\u001b[0m       \u001b[0mkwargs\u001b[0m \u001b[0;34m=\u001b[0m \u001b[0;34m{\u001b[0m\u001b[0;34m'training'\u001b[0m\u001b[0;34m:\u001b[0m \u001b[0mtraining\u001b[0m\u001b[0;34m}\u001b[0m \u001b[0;32mif\u001b[0m \u001b[0mself\u001b[0m\u001b[0;34m.\u001b[0m\u001b[0m_expects_training_arg\u001b[0m \u001b[0;32melse\u001b[0m \u001b[0;34m{\u001b[0m\u001b[0;34m}\u001b[0m\u001b[0;34m\u001b[0m\u001b[0;34m\u001b[0m\u001b[0m\n\u001b[1;32m   2775\u001b[0m       \u001b[0;32mtry\u001b[0m\u001b[0;34m:\u001b[0m\u001b[0;34m\u001b[0m\u001b[0;34m\u001b[0m\u001b[0m\n\u001b[0;32m-> 2776\u001b[0;31m         \u001b[0moutputs\u001b[0m \u001b[0;34m=\u001b[0m \u001b[0mself\u001b[0m\u001b[0;34m(\u001b[0m\u001b[0minputs\u001b[0m\u001b[0;34m,\u001b[0m \u001b[0;34m**\u001b[0m\u001b[0mkwargs\u001b[0m\u001b[0;34m)\u001b[0m\u001b[0;34m\u001b[0m\u001b[0;34m\u001b[0m\u001b[0m\n\u001b[0m\u001b[1;32m   2777\u001b[0m       \u001b[0;32mexcept\u001b[0m \u001b[0mNotImplementedError\u001b[0m\u001b[0;34m:\u001b[0m\u001b[0;34m\u001b[0m\u001b[0;34m\u001b[0m\u001b[0m\n\u001b[1;32m   2778\u001b[0m         \u001b[0;31m# This Model or a submodel is dynamic and hasn't overridden\u001b[0m\u001b[0;34m\u001b[0m\u001b[0;34m\u001b[0m\u001b[0;34m\u001b[0m\u001b[0m\n",
      "\u001b[0;32m/usr/local/lib/python3.7/site-packages/tensorflow/python/keras/engine/base_layer.py\u001b[0m in \u001b[0;36m__call__\u001b[0;34m(self, inputs, *args, **kwargs)\u001b[0m\n\u001b[1;32m    632\u001b[0m                     \u001b[0moutputs\u001b[0m \u001b[0;34m=\u001b[0m \u001b[0mbase_layer_utils\u001b[0m\u001b[0;34m.\u001b[0m\u001b[0mmark_as_return\u001b[0m\u001b[0;34m(\u001b[0m\u001b[0moutputs\u001b[0m\u001b[0;34m,\u001b[0m \u001b[0macd\u001b[0m\u001b[0;34m)\u001b[0m\u001b[0;34m\u001b[0m\u001b[0;34m\u001b[0m\u001b[0m\n\u001b[1;32m    633\u001b[0m                 \u001b[0;32melse\u001b[0m\u001b[0;34m:\u001b[0m\u001b[0;34m\u001b[0m\u001b[0;34m\u001b[0m\u001b[0m\n\u001b[0;32m--> 634\u001b[0;31m                   \u001b[0moutputs\u001b[0m \u001b[0;34m=\u001b[0m \u001b[0mcall_fn\u001b[0m\u001b[0;34m(\u001b[0m\u001b[0minputs\u001b[0m\u001b[0;34m,\u001b[0m \u001b[0;34m*\u001b[0m\u001b[0margs\u001b[0m\u001b[0;34m,\u001b[0m \u001b[0;34m**\u001b[0m\u001b[0mkwargs\u001b[0m\u001b[0;34m)\u001b[0m\u001b[0;34m\u001b[0m\u001b[0;34m\u001b[0m\u001b[0m\n\u001b[0m\u001b[1;32m    635\u001b[0m \u001b[0;34m\u001b[0m\u001b[0m\n\u001b[1;32m    636\u001b[0m             \u001b[0;32mexcept\u001b[0m \u001b[0mTypeError\u001b[0m \u001b[0;32mas\u001b[0m \u001b[0me\u001b[0m\u001b[0;34m:\u001b[0m\u001b[0;34m\u001b[0m\u001b[0;34m\u001b[0m\u001b[0m\n",
      "\u001b[0;32m/usr/local/lib/python3.7/site-packages/tensorflow/python/keras/engine/sequential.py\u001b[0m in \u001b[0;36mcall\u001b[0;34m(self, inputs, training, mask)\u001b[0m\n\u001b[1;32m    259\u001b[0m         \u001b[0mkwargs\u001b[0m\u001b[0;34m[\u001b[0m\u001b[0;34m'training'\u001b[0m\u001b[0;34m]\u001b[0m \u001b[0;34m=\u001b[0m \u001b[0mtraining\u001b[0m\u001b[0;34m\u001b[0m\u001b[0;34m\u001b[0m\u001b[0m\n\u001b[1;32m    260\u001b[0m \u001b[0;34m\u001b[0m\u001b[0m\n\u001b[0;32m--> 261\u001b[0;31m       \u001b[0moutputs\u001b[0m \u001b[0;34m=\u001b[0m \u001b[0mlayer\u001b[0m\u001b[0;34m(\u001b[0m\u001b[0minputs\u001b[0m\u001b[0;34m,\u001b[0m \u001b[0;34m**\u001b[0m\u001b[0mkwargs\u001b[0m\u001b[0;34m)\u001b[0m\u001b[0;34m\u001b[0m\u001b[0;34m\u001b[0m\u001b[0m\n\u001b[0m\u001b[1;32m    262\u001b[0m \u001b[0;34m\u001b[0m\u001b[0m\n\u001b[1;32m    263\u001b[0m       \u001b[0;31m# `outputs` will be the inputs to the next layer.\u001b[0m\u001b[0;34m\u001b[0m\u001b[0;34m\u001b[0m\u001b[0;34m\u001b[0m\u001b[0m\n",
      "\u001b[0;32m/usr/local/lib/python3.7/site-packages/tensorflow/python/keras/engine/base_layer.py\u001b[0m in \u001b[0;36m__call__\u001b[0;34m(self, inputs, *args, **kwargs)\u001b[0m\n\u001b[1;32m    589\u001b[0m           \u001b[0;31m# Build layer if applicable (if the `build` method has been\u001b[0m\u001b[0;34m\u001b[0m\u001b[0;34m\u001b[0m\u001b[0;34m\u001b[0m\u001b[0m\n\u001b[1;32m    590\u001b[0m           \u001b[0;31m# overridden).\u001b[0m\u001b[0;34m\u001b[0m\u001b[0;34m\u001b[0m\u001b[0;34m\u001b[0m\u001b[0m\n\u001b[0;32m--> 591\u001b[0;31m           \u001b[0mself\u001b[0m\u001b[0;34m.\u001b[0m\u001b[0m_maybe_build\u001b[0m\u001b[0;34m(\u001b[0m\u001b[0minputs\u001b[0m\u001b[0;34m)\u001b[0m\u001b[0;34m\u001b[0m\u001b[0;34m\u001b[0m\u001b[0m\n\u001b[0m\u001b[1;32m    592\u001b[0m \u001b[0;34m\u001b[0m\u001b[0m\n\u001b[1;32m    593\u001b[0m           \u001b[0;31m# Wrapping `call` function in autograph to allow for dynamic control\u001b[0m\u001b[0;34m\u001b[0m\u001b[0;34m\u001b[0m\u001b[0;34m\u001b[0m\u001b[0m\n",
      "\u001b[0;32m/usr/local/lib/python3.7/site-packages/tensorflow/python/keras/engine/base_layer.py\u001b[0m in \u001b[0;36m_maybe_build\u001b[0;34m(self, inputs)\u001b[0m\n\u001b[1;32m   1879\u001b[0m       \u001b[0;31m# operations.\u001b[0m\u001b[0;34m\u001b[0m\u001b[0;34m\u001b[0m\u001b[0;34m\u001b[0m\u001b[0m\n\u001b[1;32m   1880\u001b[0m       \u001b[0;32mwith\u001b[0m \u001b[0mtf_utils\u001b[0m\u001b[0;34m.\u001b[0m\u001b[0mmaybe_init_scope\u001b[0m\u001b[0;34m(\u001b[0m\u001b[0mself\u001b[0m\u001b[0;34m)\u001b[0m\u001b[0;34m:\u001b[0m\u001b[0;34m\u001b[0m\u001b[0;34m\u001b[0m\u001b[0m\n\u001b[0;32m-> 1881\u001b[0;31m         \u001b[0mself\u001b[0m\u001b[0;34m.\u001b[0m\u001b[0mbuild\u001b[0m\u001b[0;34m(\u001b[0m\u001b[0minput_shapes\u001b[0m\u001b[0;34m)\u001b[0m\u001b[0;34m\u001b[0m\u001b[0;34m\u001b[0m\u001b[0m\n\u001b[0m\u001b[1;32m   1882\u001b[0m     \u001b[0;31m# We must set self.built since user defined build functions are not\u001b[0m\u001b[0;34m\u001b[0m\u001b[0;34m\u001b[0m\u001b[0;34m\u001b[0m\u001b[0m\n\u001b[1;32m   1883\u001b[0m     \u001b[0;31m# constrained to set self.built.\u001b[0m\u001b[0;34m\u001b[0m\u001b[0;34m\u001b[0m\u001b[0;34m\u001b[0m\u001b[0m\n",
      "\u001b[0;32m<ipython-input-118-8cf9f1a90313>\u001b[0m in \u001b[0;36mbuild\u001b[0;34m(self, input_shape)\u001b[0m\n\u001b[1;32m      8\u001b[0m                                       \u001b[0mshape\u001b[0m\u001b[0;34m=\u001b[0m\u001b[0;34m(\u001b[0m\u001b[0minput_shape\u001b[0m\u001b[0;34m[\u001b[0m\u001b[0;36m1\u001b[0m\u001b[0;34m]\u001b[0m\u001b[0;34m,\u001b[0m \u001b[0mself\u001b[0m\u001b[0;34m.\u001b[0m\u001b[0moutput_dim\u001b[0m\u001b[0;34m)\u001b[0m\u001b[0;34m,\u001b[0m\u001b[0;34m\u001b[0m\u001b[0;34m\u001b[0m\u001b[0m\n\u001b[1;32m      9\u001b[0m                                       \u001b[0minitializer\u001b[0m\u001b[0;34m=\u001b[0m\u001b[0;34m'uniform'\u001b[0m\u001b[0;34m,\u001b[0m\u001b[0;34m\u001b[0m\u001b[0;34m\u001b[0m\u001b[0m\n\u001b[0;32m---> 10\u001b[0;31m                                       trainable=True)\n\u001b[0m\u001b[1;32m     11\u001b[0m \u001b[0;34m\u001b[0m\u001b[0m\n\u001b[1;32m     12\u001b[0m     \u001b[0;32mdef\u001b[0m \u001b[0mcall\u001b[0m\u001b[0;34m(\u001b[0m\u001b[0mself\u001b[0m\u001b[0;34m,\u001b[0m \u001b[0minputs\u001b[0m\u001b[0;34m)\u001b[0m\u001b[0;34m:\u001b[0m\u001b[0;34m\u001b[0m\u001b[0;34m\u001b[0m\u001b[0m\n",
      "\u001b[0;32m/usr/local/lib/python3.7/site-packages/tensorflow/python/keras/engine/base_layer.py\u001b[0m in \u001b[0;36madd_weight\u001b[0;34m(self, name, shape, dtype, initializer, regularizer, trainable, constraint, partitioner, use_resource, synchronization, aggregation, **kwargs)\u001b[0m\n\u001b[1;32m    382\u001b[0m         \u001b[0mcollections\u001b[0m\u001b[0;34m=\u001b[0m\u001b[0mcollections_arg\u001b[0m\u001b[0;34m,\u001b[0m\u001b[0;34m\u001b[0m\u001b[0;34m\u001b[0m\u001b[0m\n\u001b[1;32m    383\u001b[0m         \u001b[0msynchronization\u001b[0m\u001b[0;34m=\u001b[0m\u001b[0msynchronization\u001b[0m\u001b[0;34m,\u001b[0m\u001b[0;34m\u001b[0m\u001b[0;34m\u001b[0m\u001b[0m\n\u001b[0;32m--> 384\u001b[0;31m         aggregation=aggregation)\n\u001b[0m\u001b[1;32m    385\u001b[0m     \u001b[0mbackend\u001b[0m\u001b[0;34m.\u001b[0m\u001b[0mtrack_variable\u001b[0m\u001b[0;34m(\u001b[0m\u001b[0mvariable\u001b[0m\u001b[0;34m)\u001b[0m\u001b[0;34m\u001b[0m\u001b[0;34m\u001b[0m\u001b[0m\n\u001b[1;32m    386\u001b[0m \u001b[0;34m\u001b[0m\u001b[0m\n",
      "\u001b[0;32m/usr/local/lib/python3.7/site-packages/tensorflow/python/training/tracking/base.py\u001b[0m in \u001b[0;36m_add_variable_with_custom_getter\u001b[0;34m(self, name, shape, dtype, initializer, getter, overwrite, **kwargs_for_getter)\u001b[0m\n\u001b[1;32m    661\u001b[0m         \u001b[0mdtype\u001b[0m\u001b[0;34m=\u001b[0m\u001b[0mdtype\u001b[0m\u001b[0;34m,\u001b[0m\u001b[0;34m\u001b[0m\u001b[0;34m\u001b[0m\u001b[0m\n\u001b[1;32m    662\u001b[0m         \u001b[0minitializer\u001b[0m\u001b[0;34m=\u001b[0m\u001b[0minitializer\u001b[0m\u001b[0;34m,\u001b[0m\u001b[0;34m\u001b[0m\u001b[0;34m\u001b[0m\u001b[0m\n\u001b[0;32m--> 663\u001b[0;31m         **kwargs_for_getter)\n\u001b[0m\u001b[1;32m    664\u001b[0m \u001b[0;34m\u001b[0m\u001b[0m\n\u001b[1;32m    665\u001b[0m     \u001b[0;31m# If we set an initializer and the variable processed it, tracking will not\u001b[0m\u001b[0;34m\u001b[0m\u001b[0;34m\u001b[0m\u001b[0;34m\u001b[0m\u001b[0m\n",
      "\u001b[0;32m/usr/local/lib/python3.7/site-packages/tensorflow/python/keras/engine/base_layer_utils.py\u001b[0m in \u001b[0;36mmake_variable\u001b[0;34m(name, shape, dtype, initializer, trainable, caching_device, validate_shape, constraint, use_resource, collections, synchronization, aggregation, partitioner)\u001b[0m\n\u001b[1;32m    153\u001b[0m       \u001b[0msynchronization\u001b[0m\u001b[0;34m=\u001b[0m\u001b[0msynchronization\u001b[0m\u001b[0;34m,\u001b[0m\u001b[0;34m\u001b[0m\u001b[0;34m\u001b[0m\u001b[0m\n\u001b[1;32m    154\u001b[0m       \u001b[0maggregation\u001b[0m\u001b[0;34m=\u001b[0m\u001b[0maggregation\u001b[0m\u001b[0;34m,\u001b[0m\u001b[0;34m\u001b[0m\u001b[0;34m\u001b[0m\u001b[0m\n\u001b[0;32m--> 155\u001b[0;31m       shape=variable_shape if variable_shape.rank else None)\n\u001b[0m\u001b[1;32m    156\u001b[0m \u001b[0;34m\u001b[0m\u001b[0m\n\u001b[1;32m    157\u001b[0m \u001b[0;34m\u001b[0m\u001b[0m\n",
      "\u001b[0;32m/usr/local/lib/python3.7/site-packages/tensorflow/python/ops/variables.py\u001b[0m in \u001b[0;36m__call__\u001b[0;34m(cls, *args, **kwargs)\u001b[0m\n\u001b[1;32m    257\u001b[0m   \u001b[0;32mdef\u001b[0m \u001b[0m__call__\u001b[0m\u001b[0;34m(\u001b[0m\u001b[0mcls\u001b[0m\u001b[0;34m,\u001b[0m \u001b[0;34m*\u001b[0m\u001b[0margs\u001b[0m\u001b[0;34m,\u001b[0m \u001b[0;34m**\u001b[0m\u001b[0mkwargs\u001b[0m\u001b[0;34m)\u001b[0m\u001b[0;34m:\u001b[0m\u001b[0;34m\u001b[0m\u001b[0;34m\u001b[0m\u001b[0m\n\u001b[1;32m    258\u001b[0m     \u001b[0;32mif\u001b[0m \u001b[0mcls\u001b[0m \u001b[0;32mis\u001b[0m \u001b[0mVariableV1\u001b[0m\u001b[0;34m:\u001b[0m\u001b[0;34m\u001b[0m\u001b[0;34m\u001b[0m\u001b[0m\n\u001b[0;32m--> 259\u001b[0;31m       \u001b[0;32mreturn\u001b[0m \u001b[0mcls\u001b[0m\u001b[0;34m.\u001b[0m\u001b[0m_variable_v1_call\u001b[0m\u001b[0;34m(\u001b[0m\u001b[0;34m*\u001b[0m\u001b[0margs\u001b[0m\u001b[0;34m,\u001b[0m \u001b[0;34m**\u001b[0m\u001b[0mkwargs\u001b[0m\u001b[0;34m)\u001b[0m\u001b[0;34m\u001b[0m\u001b[0;34m\u001b[0m\u001b[0m\n\u001b[0m\u001b[1;32m    260\u001b[0m     \u001b[0;32melif\u001b[0m \u001b[0mcls\u001b[0m \u001b[0;32mis\u001b[0m \u001b[0mVariable\u001b[0m\u001b[0;34m:\u001b[0m\u001b[0;34m\u001b[0m\u001b[0;34m\u001b[0m\u001b[0m\n\u001b[1;32m    261\u001b[0m       \u001b[0;32mreturn\u001b[0m \u001b[0mcls\u001b[0m\u001b[0;34m.\u001b[0m\u001b[0m_variable_v2_call\u001b[0m\u001b[0;34m(\u001b[0m\u001b[0;34m*\u001b[0m\u001b[0margs\u001b[0m\u001b[0;34m,\u001b[0m \u001b[0;34m**\u001b[0m\u001b[0mkwargs\u001b[0m\u001b[0;34m)\u001b[0m\u001b[0;34m\u001b[0m\u001b[0;34m\u001b[0m\u001b[0m\n",
      "\u001b[0;32m/usr/local/lib/python3.7/site-packages/tensorflow/python/ops/variables.py\u001b[0m in \u001b[0;36m_variable_v1_call\u001b[0;34m(cls, initial_value, trainable, collections, validate_shape, caching_device, name, variable_def, dtype, expected_shape, import_scope, constraint, use_resource, synchronization, aggregation, shape)\u001b[0m\n\u001b[1;32m    218\u001b[0m         \u001b[0msynchronization\u001b[0m\u001b[0;34m=\u001b[0m\u001b[0msynchronization\u001b[0m\u001b[0;34m,\u001b[0m\u001b[0;34m\u001b[0m\u001b[0;34m\u001b[0m\u001b[0m\n\u001b[1;32m    219\u001b[0m         \u001b[0maggregation\u001b[0m\u001b[0;34m=\u001b[0m\u001b[0maggregation\u001b[0m\u001b[0;34m,\u001b[0m\u001b[0;34m\u001b[0m\u001b[0;34m\u001b[0m\u001b[0m\n\u001b[0;32m--> 220\u001b[0;31m         shape=shape)\n\u001b[0m\u001b[1;32m    221\u001b[0m \u001b[0;34m\u001b[0m\u001b[0m\n\u001b[1;32m    222\u001b[0m   def _variable_v2_call(cls,\n",
      "\u001b[0;32m/usr/local/lib/python3.7/site-packages/tensorflow/python/ops/variables.py\u001b[0m in \u001b[0;36m<lambda>\u001b[0;34m(**kwargs)\u001b[0m\n\u001b[1;32m    196\u001b[0m                         shape=None):\n\u001b[1;32m    197\u001b[0m     \u001b[0;34m\"\"\"Call on Variable class. Useful to force the signature.\"\"\"\u001b[0m\u001b[0;34m\u001b[0m\u001b[0;34m\u001b[0m\u001b[0m\n\u001b[0;32m--> 198\u001b[0;31m     \u001b[0mprevious_getter\u001b[0m \u001b[0;34m=\u001b[0m \u001b[0;32mlambda\u001b[0m \u001b[0;34m**\u001b[0m\u001b[0mkwargs\u001b[0m\u001b[0;34m:\u001b[0m \u001b[0mdefault_variable_creator\u001b[0m\u001b[0;34m(\u001b[0m\u001b[0;32mNone\u001b[0m\u001b[0;34m,\u001b[0m \u001b[0;34m**\u001b[0m\u001b[0mkwargs\u001b[0m\u001b[0;34m)\u001b[0m\u001b[0;34m\u001b[0m\u001b[0;34m\u001b[0m\u001b[0m\n\u001b[0m\u001b[1;32m    199\u001b[0m     \u001b[0;32mfor\u001b[0m \u001b[0m_\u001b[0m\u001b[0;34m,\u001b[0m \u001b[0mgetter\u001b[0m \u001b[0;32min\u001b[0m \u001b[0mops\u001b[0m\u001b[0;34m.\u001b[0m\u001b[0mget_default_graph\u001b[0m\u001b[0;34m(\u001b[0m\u001b[0;34m)\u001b[0m\u001b[0;34m.\u001b[0m\u001b[0m_variable_creator_stack\u001b[0m\u001b[0;34m:\u001b[0m  \u001b[0;31m# pylint: disable=protected-access\u001b[0m\u001b[0;34m\u001b[0m\u001b[0;34m\u001b[0m\u001b[0m\n\u001b[1;32m    200\u001b[0m       \u001b[0mprevious_getter\u001b[0m \u001b[0;34m=\u001b[0m \u001b[0m_make_getter\u001b[0m\u001b[0;34m(\u001b[0m\u001b[0mgetter\u001b[0m\u001b[0;34m,\u001b[0m \u001b[0mprevious_getter\u001b[0m\u001b[0;34m)\u001b[0m\u001b[0;34m\u001b[0m\u001b[0;34m\u001b[0m\u001b[0m\n",
      "\u001b[0;32m/usr/local/lib/python3.7/site-packages/tensorflow/python/ops/variable_scope.py\u001b[0m in \u001b[0;36mdefault_variable_creator\u001b[0;34m(next_creator, **kwargs)\u001b[0m\n\u001b[1;32m   2493\u001b[0m         \u001b[0msynchronization\u001b[0m\u001b[0;34m=\u001b[0m\u001b[0msynchronization\u001b[0m\u001b[0;34m,\u001b[0m\u001b[0;34m\u001b[0m\u001b[0;34m\u001b[0m\u001b[0m\n\u001b[1;32m   2494\u001b[0m         \u001b[0maggregation\u001b[0m\u001b[0;34m=\u001b[0m\u001b[0maggregation\u001b[0m\u001b[0;34m,\u001b[0m\u001b[0;34m\u001b[0m\u001b[0;34m\u001b[0m\u001b[0m\n\u001b[0;32m-> 2495\u001b[0;31m         shape=shape)\n\u001b[0m\u001b[1;32m   2496\u001b[0m   \u001b[0;32melse\u001b[0m\u001b[0;34m:\u001b[0m\u001b[0;34m\u001b[0m\u001b[0;34m\u001b[0m\u001b[0m\n\u001b[1;32m   2497\u001b[0m     return variables.RefVariable(\n",
      "\u001b[0;32m/usr/local/lib/python3.7/site-packages/tensorflow/python/ops/variables.py\u001b[0m in \u001b[0;36m__call__\u001b[0;34m(cls, *args, **kwargs)\u001b[0m\n\u001b[1;32m    261\u001b[0m       \u001b[0;32mreturn\u001b[0m \u001b[0mcls\u001b[0m\u001b[0;34m.\u001b[0m\u001b[0m_variable_v2_call\u001b[0m\u001b[0;34m(\u001b[0m\u001b[0;34m*\u001b[0m\u001b[0margs\u001b[0m\u001b[0;34m,\u001b[0m \u001b[0;34m**\u001b[0m\u001b[0mkwargs\u001b[0m\u001b[0;34m)\u001b[0m\u001b[0;34m\u001b[0m\u001b[0;34m\u001b[0m\u001b[0m\n\u001b[1;32m    262\u001b[0m     \u001b[0;32melse\u001b[0m\u001b[0;34m:\u001b[0m\u001b[0;34m\u001b[0m\u001b[0;34m\u001b[0m\u001b[0m\n\u001b[0;32m--> 263\u001b[0;31m       \u001b[0;32mreturn\u001b[0m \u001b[0msuper\u001b[0m\u001b[0;34m(\u001b[0m\u001b[0mVariableMetaclass\u001b[0m\u001b[0;34m,\u001b[0m \u001b[0mcls\u001b[0m\u001b[0;34m)\u001b[0m\u001b[0;34m.\u001b[0m\u001b[0m__call__\u001b[0m\u001b[0;34m(\u001b[0m\u001b[0;34m*\u001b[0m\u001b[0margs\u001b[0m\u001b[0;34m,\u001b[0m \u001b[0;34m**\u001b[0m\u001b[0mkwargs\u001b[0m\u001b[0;34m)\u001b[0m\u001b[0;34m\u001b[0m\u001b[0;34m\u001b[0m\u001b[0m\n\u001b[0m\u001b[1;32m    264\u001b[0m \u001b[0;34m\u001b[0m\u001b[0m\n\u001b[1;32m    265\u001b[0m \u001b[0;34m\u001b[0m\u001b[0m\n",
      "\u001b[0;32m/usr/local/lib/python3.7/site-packages/tensorflow/python/ops/resource_variable_ops.py\u001b[0m in \u001b[0;36m__init__\u001b[0;34m(self, initial_value, trainable, collections, validate_shape, caching_device, name, dtype, variable_def, import_scope, constraint, distribute_strategy, synchronization, aggregation, shape)\u001b[0m\n\u001b[1;32m    458\u001b[0m           \u001b[0msynchronization\u001b[0m\u001b[0;34m=\u001b[0m\u001b[0msynchronization\u001b[0m\u001b[0;34m,\u001b[0m\u001b[0;34m\u001b[0m\u001b[0;34m\u001b[0m\u001b[0m\n\u001b[1;32m    459\u001b[0m           \u001b[0maggregation\u001b[0m\u001b[0;34m=\u001b[0m\u001b[0maggregation\u001b[0m\u001b[0;34m,\u001b[0m\u001b[0;34m\u001b[0m\u001b[0;34m\u001b[0m\u001b[0m\n\u001b[0;32m--> 460\u001b[0;31m           shape=shape)\n\u001b[0m\u001b[1;32m    461\u001b[0m \u001b[0;34m\u001b[0m\u001b[0m\n\u001b[1;32m    462\u001b[0m   \u001b[0;32mdef\u001b[0m \u001b[0m__repr__\u001b[0m\u001b[0;34m(\u001b[0m\u001b[0mself\u001b[0m\u001b[0;34m)\u001b[0m\u001b[0;34m:\u001b[0m\u001b[0;34m\u001b[0m\u001b[0;34m\u001b[0m\u001b[0m\n",
      "\u001b[0;32m/usr/local/lib/python3.7/site-packages/tensorflow/python/ops/resource_variable_ops.py\u001b[0m in \u001b[0;36m_init_from_args\u001b[0;34m(self, initial_value, trainable, collections, caching_device, name, dtype, constraint, synchronization, aggregation, shape)\u001b[0m\n\u001b[1;32m    602\u001b[0m           \u001b[0;32mwith\u001b[0m \u001b[0mops\u001b[0m\u001b[0;34m.\u001b[0m\u001b[0mname_scope\u001b[0m\u001b[0;34m(\u001b[0m\u001b[0;34m\"Initializer\"\u001b[0m\u001b[0;34m)\u001b[0m\u001b[0;34m,\u001b[0m \u001b[0mdevice_context_manager\u001b[0m\u001b[0;34m(\u001b[0m\u001b[0;32mNone\u001b[0m\u001b[0;34m)\u001b[0m\u001b[0;34m:\u001b[0m\u001b[0;34m\u001b[0m\u001b[0;34m\u001b[0m\u001b[0m\n\u001b[1;32m    603\u001b[0m             initial_value = ops.convert_to_tensor(\n\u001b[0;32m--> 604\u001b[0;31m                 \u001b[0minitial_value\u001b[0m\u001b[0;34m(\u001b[0m\u001b[0;34m)\u001b[0m \u001b[0;32mif\u001b[0m \u001b[0minit_from_fn\u001b[0m \u001b[0;32melse\u001b[0m \u001b[0minitial_value\u001b[0m\u001b[0;34m,\u001b[0m\u001b[0;34m\u001b[0m\u001b[0;34m\u001b[0m\u001b[0m\n\u001b[0m\u001b[1;32m    605\u001b[0m                 name=\"initial_value\", dtype=dtype)\n\u001b[1;32m    606\u001b[0m           \u001b[0;31m# Don't use `shape or initial_value.shape` since TensorShape has\u001b[0m\u001b[0;34m\u001b[0m\u001b[0;34m\u001b[0m\u001b[0;34m\u001b[0m\u001b[0m\n",
      "\u001b[0;32m/usr/local/lib/python3.7/site-packages/tensorflow/python/keras/engine/base_layer_utils.py\u001b[0m in \u001b[0;36m<lambda>\u001b[0;34m()\u001b[0m\n\u001b[1;32m    133\u001b[0m           (type(init_ops.Initializer), type(init_ops_v2.Initializer))):\n\u001b[1;32m    134\u001b[0m         \u001b[0minitializer\u001b[0m \u001b[0;34m=\u001b[0m \u001b[0minitializer\u001b[0m\u001b[0;34m(\u001b[0m\u001b[0;34m)\u001b[0m\u001b[0;34m\u001b[0m\u001b[0;34m\u001b[0m\u001b[0m\n\u001b[0;32m--> 135\u001b[0;31m       \u001b[0minit_val\u001b[0m \u001b[0;34m=\u001b[0m \u001b[0;32mlambda\u001b[0m\u001b[0;34m:\u001b[0m \u001b[0minitializer\u001b[0m\u001b[0;34m(\u001b[0m\u001b[0mshape\u001b[0m\u001b[0;34m,\u001b[0m \u001b[0mdtype\u001b[0m\u001b[0;34m=\u001b[0m\u001b[0mdtype\u001b[0m\u001b[0;34m)\u001b[0m\u001b[0;34m\u001b[0m\u001b[0;34m\u001b[0m\u001b[0m\n\u001b[0m\u001b[1;32m    136\u001b[0m       \u001b[0mvariable_dtype\u001b[0m \u001b[0;34m=\u001b[0m \u001b[0mdtype\u001b[0m\u001b[0;34m.\u001b[0m\u001b[0mbase_dtype\u001b[0m\u001b[0;34m\u001b[0m\u001b[0;34m\u001b[0m\u001b[0m\n\u001b[1;32m    137\u001b[0m   \u001b[0;32mif\u001b[0m \u001b[0muse_resource\u001b[0m \u001b[0;32mis\u001b[0m \u001b[0;32mNone\u001b[0m\u001b[0;34m:\u001b[0m\u001b[0;34m\u001b[0m\u001b[0;34m\u001b[0m\u001b[0m\n",
      "\u001b[0;32m/usr/local/lib/python3.7/site-packages/tensorflow/python/ops/init_ops.py\u001b[0m in \u001b[0;36m__call__\u001b[0;34m(self, shape, dtype, partition_info)\u001b[0m\n\u001b[1;32m    281\u001b[0m       \u001b[0mdtype\u001b[0m \u001b[0;34m=\u001b[0m \u001b[0mself\u001b[0m\u001b[0;34m.\u001b[0m\u001b[0mdtype\u001b[0m\u001b[0;34m\u001b[0m\u001b[0;34m\u001b[0m\u001b[0m\n\u001b[1;32m    282\u001b[0m     return random_ops.random_uniform(\n\u001b[0;32m--> 283\u001b[0;31m         shape, self.minval, self.maxval, dtype, seed=self.seed)\n\u001b[0m\u001b[1;32m    284\u001b[0m \u001b[0;34m\u001b[0m\u001b[0m\n\u001b[1;32m    285\u001b[0m   \u001b[0;32mdef\u001b[0m \u001b[0mget_config\u001b[0m\u001b[0;34m(\u001b[0m\u001b[0mself\u001b[0m\u001b[0;34m)\u001b[0m\u001b[0;34m:\u001b[0m\u001b[0;34m\u001b[0m\u001b[0;34m\u001b[0m\u001b[0m\n",
      "\u001b[0;32m/usr/local/lib/python3.7/site-packages/tensorflow/python/ops/random_ops.py\u001b[0m in \u001b[0;36mrandom_uniform\u001b[0;34m(shape, minval, maxval, dtype, seed, name)\u001b[0m\n\u001b[1;32m    237\u001b[0m     \u001b[0mmaxval\u001b[0m \u001b[0;34m=\u001b[0m \u001b[0;36m1\u001b[0m\u001b[0;34m\u001b[0m\u001b[0;34m\u001b[0m\u001b[0m\n\u001b[1;32m    238\u001b[0m   \u001b[0;32mwith\u001b[0m \u001b[0mops\u001b[0m\u001b[0;34m.\u001b[0m\u001b[0mname_scope\u001b[0m\u001b[0;34m(\u001b[0m\u001b[0mname\u001b[0m\u001b[0;34m,\u001b[0m \u001b[0;34m\"random_uniform\"\u001b[0m\u001b[0;34m,\u001b[0m \u001b[0;34m[\u001b[0m\u001b[0mshape\u001b[0m\u001b[0;34m,\u001b[0m \u001b[0mminval\u001b[0m\u001b[0;34m,\u001b[0m \u001b[0mmaxval\u001b[0m\u001b[0;34m]\u001b[0m\u001b[0;34m)\u001b[0m \u001b[0;32mas\u001b[0m \u001b[0mname\u001b[0m\u001b[0;34m:\u001b[0m\u001b[0;34m\u001b[0m\u001b[0;34m\u001b[0m\u001b[0m\n\u001b[0;32m--> 239\u001b[0;31m     \u001b[0mshape\u001b[0m \u001b[0;34m=\u001b[0m \u001b[0m_ShapeTensor\u001b[0m\u001b[0;34m(\u001b[0m\u001b[0mshape\u001b[0m\u001b[0;34m)\u001b[0m\u001b[0;34m\u001b[0m\u001b[0;34m\u001b[0m\u001b[0m\n\u001b[0m\u001b[1;32m    240\u001b[0m     \u001b[0mminval\u001b[0m \u001b[0;34m=\u001b[0m \u001b[0mops\u001b[0m\u001b[0;34m.\u001b[0m\u001b[0mconvert_to_tensor\u001b[0m\u001b[0;34m(\u001b[0m\u001b[0mminval\u001b[0m\u001b[0;34m,\u001b[0m \u001b[0mdtype\u001b[0m\u001b[0;34m=\u001b[0m\u001b[0mdtype\u001b[0m\u001b[0;34m,\u001b[0m \u001b[0mname\u001b[0m\u001b[0;34m=\u001b[0m\u001b[0;34m\"min\"\u001b[0m\u001b[0;34m)\u001b[0m\u001b[0;34m\u001b[0m\u001b[0;34m\u001b[0m\u001b[0m\n\u001b[1;32m    241\u001b[0m     \u001b[0mmaxval\u001b[0m \u001b[0;34m=\u001b[0m \u001b[0mops\u001b[0m\u001b[0;34m.\u001b[0m\u001b[0mconvert_to_tensor\u001b[0m\u001b[0;34m(\u001b[0m\u001b[0mmaxval\u001b[0m\u001b[0;34m,\u001b[0m \u001b[0mdtype\u001b[0m\u001b[0;34m=\u001b[0m\u001b[0mdtype\u001b[0m\u001b[0;34m,\u001b[0m \u001b[0mname\u001b[0m\u001b[0;34m=\u001b[0m\u001b[0;34m\"max\"\u001b[0m\u001b[0;34m)\u001b[0m\u001b[0;34m\u001b[0m\u001b[0;34m\u001b[0m\u001b[0m\n",
      "\u001b[0;32m/usr/local/lib/python3.7/site-packages/tensorflow/python/ops/random_ops.py\u001b[0m in \u001b[0;36m_ShapeTensor\u001b[0;34m(shape)\u001b[0m\n\u001b[1;32m     42\u001b[0m   \u001b[0;32melse\u001b[0m\u001b[0;34m:\u001b[0m\u001b[0;34m\u001b[0m\u001b[0;34m\u001b[0m\u001b[0m\n\u001b[1;32m     43\u001b[0m     \u001b[0mdtype\u001b[0m \u001b[0;34m=\u001b[0m \u001b[0;32mNone\u001b[0m\u001b[0;34m\u001b[0m\u001b[0;34m\u001b[0m\u001b[0m\n\u001b[0;32m---> 44\u001b[0;31m   \u001b[0;32mreturn\u001b[0m \u001b[0mops\u001b[0m\u001b[0;34m.\u001b[0m\u001b[0mconvert_to_tensor\u001b[0m\u001b[0;34m(\u001b[0m\u001b[0mshape\u001b[0m\u001b[0;34m,\u001b[0m \u001b[0mdtype\u001b[0m\u001b[0;34m=\u001b[0m\u001b[0mdtype\u001b[0m\u001b[0;34m,\u001b[0m \u001b[0mname\u001b[0m\u001b[0;34m=\u001b[0m\u001b[0;34m\"shape\"\u001b[0m\u001b[0;34m)\u001b[0m\u001b[0;34m\u001b[0m\u001b[0;34m\u001b[0m\u001b[0m\n\u001b[0m\u001b[1;32m     45\u001b[0m \u001b[0;34m\u001b[0m\u001b[0m\n\u001b[1;32m     46\u001b[0m \u001b[0;34m\u001b[0m\u001b[0m\n",
      "\u001b[0;32m/usr/local/lib/python3.7/site-packages/tensorflow/python/framework/ops.py\u001b[0m in \u001b[0;36mconvert_to_tensor\u001b[0;34m(value, dtype, name, preferred_dtype, dtype_hint)\u001b[0m\n\u001b[1;32m   1085\u001b[0m   preferred_dtype = deprecation.deprecated_argument_lookup(\n\u001b[1;32m   1086\u001b[0m       \"dtype_hint\", dtype_hint, \"preferred_dtype\", preferred_dtype)\n\u001b[0;32m-> 1087\u001b[0;31m   \u001b[0;32mreturn\u001b[0m \u001b[0mconvert_to_tensor_v2\u001b[0m\u001b[0;34m(\u001b[0m\u001b[0mvalue\u001b[0m\u001b[0;34m,\u001b[0m \u001b[0mdtype\u001b[0m\u001b[0;34m,\u001b[0m \u001b[0mpreferred_dtype\u001b[0m\u001b[0;34m,\u001b[0m \u001b[0mname\u001b[0m\u001b[0;34m)\u001b[0m\u001b[0;34m\u001b[0m\u001b[0;34m\u001b[0m\u001b[0m\n\u001b[0m\u001b[1;32m   1088\u001b[0m \u001b[0;34m\u001b[0m\u001b[0m\n\u001b[1;32m   1089\u001b[0m \u001b[0;34m\u001b[0m\u001b[0m\n",
      "\u001b[0;32m/usr/local/lib/python3.7/site-packages/tensorflow/python/framework/ops.py\u001b[0m in \u001b[0;36mconvert_to_tensor_v2\u001b[0;34m(value, dtype, dtype_hint, name)\u001b[0m\n\u001b[1;32m   1143\u001b[0m       \u001b[0mname\u001b[0m\u001b[0;34m=\u001b[0m\u001b[0mname\u001b[0m\u001b[0;34m,\u001b[0m\u001b[0;34m\u001b[0m\u001b[0;34m\u001b[0m\u001b[0m\n\u001b[1;32m   1144\u001b[0m       \u001b[0mpreferred_dtype\u001b[0m\u001b[0;34m=\u001b[0m\u001b[0mdtype_hint\u001b[0m\u001b[0;34m,\u001b[0m\u001b[0;34m\u001b[0m\u001b[0;34m\u001b[0m\u001b[0m\n\u001b[0;32m-> 1145\u001b[0;31m       as_ref=False)\n\u001b[0m\u001b[1;32m   1146\u001b[0m \u001b[0;34m\u001b[0m\u001b[0m\n\u001b[1;32m   1147\u001b[0m \u001b[0;34m\u001b[0m\u001b[0m\n",
      "\u001b[0;32m/usr/local/lib/python3.7/site-packages/tensorflow/python/framework/ops.py\u001b[0m in \u001b[0;36minternal_convert_to_tensor\u001b[0;34m(value, dtype, name, as_ref, preferred_dtype, ctx, accept_symbolic_tensors, accept_composite_tensors)\u001b[0m\n\u001b[1;32m   1222\u001b[0m \u001b[0;34m\u001b[0m\u001b[0m\n\u001b[1;32m   1223\u001b[0m     \u001b[0;32mif\u001b[0m \u001b[0mret\u001b[0m \u001b[0;32mis\u001b[0m \u001b[0;32mNone\u001b[0m\u001b[0;34m:\u001b[0m\u001b[0;34m\u001b[0m\u001b[0;34m\u001b[0m\u001b[0m\n\u001b[0;32m-> 1224\u001b[0;31m       \u001b[0mret\u001b[0m \u001b[0;34m=\u001b[0m \u001b[0mconversion_func\u001b[0m\u001b[0;34m(\u001b[0m\u001b[0mvalue\u001b[0m\u001b[0;34m,\u001b[0m \u001b[0mdtype\u001b[0m\u001b[0;34m=\u001b[0m\u001b[0mdtype\u001b[0m\u001b[0;34m,\u001b[0m \u001b[0mname\u001b[0m\u001b[0;34m=\u001b[0m\u001b[0mname\u001b[0m\u001b[0;34m,\u001b[0m \u001b[0mas_ref\u001b[0m\u001b[0;34m=\u001b[0m\u001b[0mas_ref\u001b[0m\u001b[0;34m)\u001b[0m\u001b[0;34m\u001b[0m\u001b[0;34m\u001b[0m\u001b[0m\n\u001b[0m\u001b[1;32m   1225\u001b[0m \u001b[0;34m\u001b[0m\u001b[0m\n\u001b[1;32m   1226\u001b[0m     \u001b[0;32mif\u001b[0m \u001b[0mret\u001b[0m \u001b[0;32mis\u001b[0m \u001b[0mNotImplemented\u001b[0m\u001b[0;34m:\u001b[0m\u001b[0;34m\u001b[0m\u001b[0;34m\u001b[0m\u001b[0m\n",
      "\u001b[0;32m/usr/local/lib/python3.7/site-packages/tensorflow/python/framework/constant_op.py\u001b[0m in \u001b[0;36m_constant_tensor_conversion_function\u001b[0;34m(v, dtype, name, as_ref)\u001b[0m\n\u001b[1;32m    303\u001b[0m                                          as_ref=False):\n\u001b[1;32m    304\u001b[0m   \u001b[0m_\u001b[0m \u001b[0;34m=\u001b[0m \u001b[0mas_ref\u001b[0m\u001b[0;34m\u001b[0m\u001b[0;34m\u001b[0m\u001b[0m\n\u001b[0;32m--> 305\u001b[0;31m   \u001b[0;32mreturn\u001b[0m \u001b[0mconstant\u001b[0m\u001b[0;34m(\u001b[0m\u001b[0mv\u001b[0m\u001b[0;34m,\u001b[0m \u001b[0mdtype\u001b[0m\u001b[0;34m=\u001b[0m\u001b[0mdtype\u001b[0m\u001b[0;34m,\u001b[0m \u001b[0mname\u001b[0m\u001b[0;34m=\u001b[0m\u001b[0mname\u001b[0m\u001b[0;34m)\u001b[0m\u001b[0;34m\u001b[0m\u001b[0;34m\u001b[0m\u001b[0m\n\u001b[0m\u001b[1;32m    306\u001b[0m \u001b[0;34m\u001b[0m\u001b[0m\n\u001b[1;32m    307\u001b[0m \u001b[0;34m\u001b[0m\u001b[0m\n",
      "\u001b[0;32m/usr/local/lib/python3.7/site-packages/tensorflow/python/framework/constant_op.py\u001b[0m in \u001b[0;36mconstant\u001b[0;34m(value, dtype, shape, name)\u001b[0m\n\u001b[1;32m    244\u001b[0m   \"\"\"\n\u001b[1;32m    245\u001b[0m   return _constant_impl(value, dtype, shape, name, verify_shape=False,\n\u001b[0;32m--> 246\u001b[0;31m                         allow_broadcast=True)\n\u001b[0m\u001b[1;32m    247\u001b[0m \u001b[0;34m\u001b[0m\u001b[0m\n\u001b[1;32m    248\u001b[0m \u001b[0;34m\u001b[0m\u001b[0m\n",
      "\u001b[0;32m/usr/local/lib/python3.7/site-packages/tensorflow/python/framework/constant_op.py\u001b[0m in \u001b[0;36m_constant_impl\u001b[0;34m(value, dtype, shape, name, verify_shape, allow_broadcast)\u001b[0m\n\u001b[1;32m    282\u001b[0m       tensor_util.make_tensor_proto(\n\u001b[1;32m    283\u001b[0m           \u001b[0mvalue\u001b[0m\u001b[0;34m,\u001b[0m \u001b[0mdtype\u001b[0m\u001b[0;34m=\u001b[0m\u001b[0mdtype\u001b[0m\u001b[0;34m,\u001b[0m \u001b[0mshape\u001b[0m\u001b[0;34m=\u001b[0m\u001b[0mshape\u001b[0m\u001b[0;34m,\u001b[0m \u001b[0mverify_shape\u001b[0m\u001b[0;34m=\u001b[0m\u001b[0mverify_shape\u001b[0m\u001b[0;34m,\u001b[0m\u001b[0;34m\u001b[0m\u001b[0;34m\u001b[0m\u001b[0m\n\u001b[0;32m--> 284\u001b[0;31m           allow_broadcast=allow_broadcast))\n\u001b[0m\u001b[1;32m    285\u001b[0m   \u001b[0mdtype_value\u001b[0m \u001b[0;34m=\u001b[0m \u001b[0mattr_value_pb2\u001b[0m\u001b[0;34m.\u001b[0m\u001b[0mAttrValue\u001b[0m\u001b[0;34m(\u001b[0m\u001b[0mtype\u001b[0m\u001b[0;34m=\u001b[0m\u001b[0mtensor_value\u001b[0m\u001b[0;34m.\u001b[0m\u001b[0mtensor\u001b[0m\u001b[0;34m.\u001b[0m\u001b[0mdtype\u001b[0m\u001b[0;34m)\u001b[0m\u001b[0;34m\u001b[0m\u001b[0;34m\u001b[0m\u001b[0m\n\u001b[1;32m    286\u001b[0m   const_tensor = g.create_op(\n",
      "\u001b[0;32m/usr/local/lib/python3.7/site-packages/tensorflow/python/framework/tensor_util.py\u001b[0m in \u001b[0;36mmake_tensor_proto\u001b[0;34m(values, dtype, shape, verify_shape, allow_broadcast)\u001b[0m\n\u001b[1;32m    560\u001b[0m       raise TypeError(\"Failed to convert object of type %s to Tensor. \"\n\u001b[1;32m    561\u001b[0m                       \u001b[0;34m\"Contents: %s. Consider casting elements to a \"\u001b[0m\u001b[0;34m\u001b[0m\u001b[0;34m\u001b[0m\u001b[0m\n\u001b[0;32m--> 562\u001b[0;31m                       \"supported type.\" % (type(values), values))\n\u001b[0m\u001b[1;32m    563\u001b[0m     \u001b[0mtensor_proto\u001b[0m\u001b[0;34m.\u001b[0m\u001b[0mstring_val\u001b[0m\u001b[0;34m.\u001b[0m\u001b[0mextend\u001b[0m\u001b[0;34m(\u001b[0m\u001b[0mstr_values\u001b[0m\u001b[0;34m)\u001b[0m\u001b[0;34m\u001b[0m\u001b[0;34m\u001b[0m\u001b[0m\n\u001b[1;32m    564\u001b[0m     \u001b[0;32mreturn\u001b[0m \u001b[0mtensor_proto\u001b[0m\u001b[0;34m\u001b[0m\u001b[0;34m\u001b[0m\u001b[0m\n",
      "\u001b[0;31mTypeError\u001b[0m: Failed to convert object of type <class 'tuple'> to Tensor. Contents: (Dimension(32), 10). Consider casting elements to a supported type."
     ]
    }
   ],
   "source": [
    "model.fit(data, labels, batch_size=32, epochs=5)"
   ]
  },
  {
   "cell_type": "markdown",
   "metadata": {},
   "source": [
    "## Callbacks"
   ]
  },
  {
   "cell_type": "code",
   "execution_count": 132,
   "metadata": {},
   "outputs": [],
   "source": [
    "model = MyModel(num_classes=10)"
   ]
  },
  {
   "cell_type": "code",
   "execution_count": 133,
   "metadata": {},
   "outputs": [],
   "source": [
    "model.compile(optimizer=tf.keras.optimizers.RMSprop(0.001),\n",
    "              loss=tf.keras.losses.CategoricalCrossentropy(from_logits=True),\n",
    "              metrics=[tf.keras.metrics.Accuracy()])"
   ]
  },
  {
   "cell_type": "code",
   "execution_count": 135,
   "metadata": {},
   "outputs": [],
   "source": [
    "callbacks = [\n",
    "    tf.keras.callbacks.EarlyStopping(patience=5, monitor='val_loss'),\n",
    "    tf.keras.callbacks.TensorBoard(log_dir='./logs')\n",
    "]"
   ]
  },
  {
   "cell_type": "code",
   "execution_count": 137,
   "metadata": {},
   "outputs": [
    {
     "name": "stdout",
     "output_type": "stream",
     "text": [
      "Train on 1000 samples, validate on 100 samples\n",
      "Epoch 1/5\n",
      "1000/1000 [==============================] - 0s 33us/sample - loss: 24.1635 - accuracy: 0.0000e+00 - val_loss: 25.2670 - val_accuracy: 0.0000e+00\n",
      "Epoch 2/5\n",
      "1000/1000 [==============================] - 0s 36us/sample - loss: 25.8069 - accuracy: 0.0000e+00 - val_loss: 26.7220 - val_accuracy: 0.0000e+00\n",
      "Epoch 3/5\n",
      "1000/1000 [==============================] - 0s 34us/sample - loss: 27.2806 - accuracy: 0.0000e+00 - val_loss: 28.6135 - val_accuracy: 0.0000e+00\n",
      "Epoch 4/5\n",
      "1000/1000 [==============================] - 0s 30us/sample - loss: 28.9105 - accuracy: 0.0000e+00 - val_loss: 30.0936 - val_accuracy: 0.0000e+00\n",
      "Epoch 5/5\n",
      "1000/1000 [==============================] - 0s 29us/sample - loss: 30.4319 - accuracy: 0.0000e+00 - val_loss: 31.3043 - val_accuracy: 0.0000e+00\n"
     ]
    },
    {
     "data": {
      "text/plain": [
       "<tensorflow.python.keras.callbacks.History at 0x13bbc7b90>"
      ]
     },
     "execution_count": 137,
     "metadata": {},
     "output_type": "execute_result"
    }
   ],
   "source": [
    "model.fit(data,\n",
    "          labels,\n",
    "          epochs=5,\n",
    "          callbacks=callbacks,\n",
    "          validation_data=(val_data, val_labels))"
   ]
  },
  {
   "cell_type": "markdown",
   "metadata": {},
   "source": [
    "## Save and restore"
   ]
  },
  {
   "cell_type": "code",
   "execution_count": 138,
   "metadata": {},
   "outputs": [],
   "source": [
    "model.save_weights('./weights/my_model')"
   ]
  },
  {
   "cell_type": "code",
   "execution_count": 142,
   "metadata": {},
   "outputs": [
    {
     "data": {
      "text/plain": [
       "<tensorflow.python.training.tracking.util.CheckpointLoadStatus at 0x13b256ed0>"
      ]
     },
     "execution_count": 142,
     "metadata": {},
     "output_type": "execute_result"
    }
   ],
   "source": [
    "model.load_weights('./weights/my_model')"
   ]
  },
  {
   "cell_type": "code",
   "execution_count": 150,
   "metadata": {},
   "outputs": [],
   "source": [
    "inputs = tf.keras.Input(shape=(32, ))\n",
    "x = layers.Dense(64, activation=tf.nn.relu)(inputs)\n",
    "x = layers.Dense(64, activation=tf.nn.relu)(x)\n",
    "predictions = layers.Dense(10)(x)\n",
    "model = tf.keras.Model(inputs=inputs, outputs=predictions)\n",
    "json_string = model.to_json()"
   ]
  },
  {
   "cell_type": "code",
   "execution_count": 151,
   "metadata": {},
   "outputs": [
    {
     "name": "stdout",
     "output_type": "stream",
     "text": [
      "{'backend': 'tensorflow',\n",
      " 'class_name': 'Model',\n",
      " 'config': {'input_layers': [['input_3', 0, 0]],\n",
      "            'layers': [{'class_name': 'InputLayer',\n",
      "                        'config': {'batch_input_shape': [None, 32],\n",
      "                                   'dtype': 'float32',\n",
      "                                   'name': 'input_3',\n",
      "                                   'sparse': False},\n",
      "                        'inbound_nodes': [],\n",
      "                        'name': 'input_3'},\n",
      "                       {'class_name': 'Dense',\n",
      "                        'config': {'activation': 'relu',\n",
      "                                   'activity_regularizer': None,\n",
      "                                   'bias_constraint': None,\n",
      "                                   'bias_initializer': {'class_name': 'Zeros',\n",
      "                                                        'config': {'dtype': 'float32'}},\n",
      "                                   'bias_regularizer': None,\n",
      "                                   'dtype': 'float32',\n",
      "                                   'kernel_constraint': None,\n",
      "                                   'kernel_initializer': {'class_name': 'GlorotUniform',\n",
      "                                                          'config': {'dtype': 'float32',\n",
      "                                                                     'seed': None}},\n",
      "                                   'kernel_regularizer': None,\n",
      "                                   'name': 'dense_52',\n",
      "                                   'trainable': True,\n",
      "                                   'units': 64,\n",
      "                                   'use_bias': True},\n",
      "                        'inbound_nodes': [[['input_3', 0, 0, {}]]],\n",
      "                        'name': 'dense_52'},\n",
      "                       {'class_name': 'Dense',\n",
      "                        'config': {'activation': 'relu',\n",
      "                                   'activity_regularizer': None,\n",
      "                                   'bias_constraint': None,\n",
      "                                   'bias_initializer': {'class_name': 'Zeros',\n",
      "                                                        'config': {'dtype': 'float32'}},\n",
      "                                   'bias_regularizer': None,\n",
      "                                   'dtype': 'float32',\n",
      "                                   'kernel_constraint': None,\n",
      "                                   'kernel_initializer': {'class_name': 'GlorotUniform',\n",
      "                                                          'config': {'dtype': 'float32',\n",
      "                                                                     'seed': None}},\n",
      "                                   'kernel_regularizer': None,\n",
      "                                   'name': 'dense_53',\n",
      "                                   'trainable': True,\n",
      "                                   'units': 64,\n",
      "                                   'use_bias': True},\n",
      "                        'inbound_nodes': [[['dense_52', 0, 0, {}]]],\n",
      "                        'name': 'dense_53'},\n",
      "                       {'class_name': 'Dense',\n",
      "                        'config': {'activation': 'linear',\n",
      "                                   'activity_regularizer': None,\n",
      "                                   'bias_constraint': None,\n",
      "                                   'bias_initializer': {'class_name': 'Zeros',\n",
      "                                                        'config': {'dtype': 'float32'}},\n",
      "                                   'bias_regularizer': None,\n",
      "                                   'dtype': 'float32',\n",
      "                                   'kernel_constraint': None,\n",
      "                                   'kernel_initializer': {'class_name': 'GlorotUniform',\n",
      "                                                          'config': {'dtype': 'float32',\n",
      "                                                                     'seed': None}},\n",
      "                                   'kernel_regularizer': None,\n",
      "                                   'name': 'dense_54',\n",
      "                                   'trainable': True,\n",
      "                                   'units': 10,\n",
      "                                   'use_bias': True},\n",
      "                        'inbound_nodes': [[['dense_53', 0, 0, {}]]],\n",
      "                        'name': 'dense_54'}],\n",
      "            'name': 'model_3',\n",
      "            'output_layers': [['dense_54', 0, 0]]},\n",
      " 'keras_version': '2.2.4-tf'}\n"
     ]
    }
   ],
   "source": [
    "import json\n",
    "import pprint\n",
    "pprint.pprint(json.loads(model.to_json()))"
   ]
  },
  {
   "cell_type": "code",
   "execution_count": 152,
   "metadata": {},
   "outputs": [
    {
     "name": "stdout",
     "output_type": "stream",
     "text": [
      "WARNING:tensorflow:From /usr/local/lib/python3.7/site-packages/tensorflow/python/ops/init_ops.py:97: calling GlorotUniform.__init__ (from tensorflow.python.ops.init_ops) with dtype is deprecated and will be removed in a future version.\n",
      "Instructions for updating:\n",
      "Call initializer instance with the dtype argument instead of passing it to the constructor\n",
      "WARNING:tensorflow:From /usr/local/lib/python3.7/site-packages/tensorflow/python/ops/init_ops.py:97: calling Zeros.__init__ (from tensorflow.python.ops.init_ops) with dtype is deprecated and will be removed in a future version.\n",
      "Instructions for updating:\n",
      "Call initializer instance with the dtype argument instead of passing it to the constructor\n"
     ]
    },
    {
     "data": {
      "text/plain": [
       "<tensorflow.python.keras.engine.training.Model at 0x13b3832d0>"
      ]
     },
     "execution_count": 152,
     "metadata": {},
     "output_type": "execute_result"
    }
   ],
   "source": [
    "tf.keras.models.model_from_json(json_string)"
   ]
  },
  {
   "cell_type": "code",
   "execution_count": 153,
   "metadata": {},
   "outputs": [],
   "source": [
    "model.save('my_model')"
   ]
  },
  {
   "cell_type": "code",
   "execution_count": 155,
   "metadata": {},
   "outputs": [
    {
     "name": "stdout",
     "output_type": "stream",
     "text": [
      "WARNING:tensorflow:No training configuration found in save file: the model was *not* compiled. Compile it manually.\n"
     ]
    }
   ],
   "source": [
    "model = tf.keras.models.load_model('my_model')"
   ]
  },
  {
   "cell_type": "markdown",
   "metadata": {},
   "source": [
    "## Distribution"
   ]
  },
  {
   "cell_type": "code",
   "execution_count": 194,
   "metadata": {},
   "outputs": [
    {
     "name": "stdout",
     "output_type": "stream",
     "text": [
      "WARNING:tensorflow:Not all devices in `tf.distribute.Strategy` are visible to TensorFlow.\n"
     ]
    }
   ],
   "source": [
    "strategy = tf.distribute.MirroredStrategy()"
   ]
  },
  {
   "cell_type": "code",
   "execution_count": 195,
   "metadata": {},
   "outputs": [
    {
     "name": "stdout",
     "output_type": "stream",
     "text": [
      "Model: \"sequential_24\"\n",
      "_________________________________________________________________\n",
      "Layer (type)                 Output Shape              Param #   \n",
      "=================================================================\n",
      "dense_75 (Dense)             (None, 16)                176       \n",
      "_________________________________________________________________\n",
      "dense_76 (Dense)             (None, 1)                 17        \n",
      "=================================================================\n",
      "Total params: 193\n",
      "Trainable params: 193\n",
      "Non-trainable params: 0\n",
      "_________________________________________________________________\n"
     ]
    }
   ],
   "source": [
    "with strategy.scope():\n",
    "    model = tf.keras.Sequential()\n",
    "    model.add(layers.Dense(16, activation='relu', input_shape=(10, )))\n",
    "    model.add(layers.Dense(1))\n",
    "\n",
    "    model.compile(loss=tf.keras.losses.BinaryCrossentropy(from_logits=True),\n",
    "                  optimizer=tf.keras.optimizers.Adam(0.01),\n",
    "                  metrics=[tf.keras.metrics.Accuracy()])\n",
    "\n",
    "    model.summary()"
   ]
  },
  {
   "cell_type": "code",
   "execution_count": 196,
   "metadata": {},
   "outputs": [],
   "source": [
    "import time"
   ]
  },
  {
   "cell_type": "code",
   "execution_count": 197,
   "metadata": {},
   "outputs": [
    {
     "name": "stdout",
     "output_type": "stream",
     "text": [
      "Epoch 1/100\n",
      "4688/4688 [==============================] - 5s 965us/step - loss: 0.6935 - accuracy: 0.0000e+00\n",
      "Epoch 2/100\n",
      "4688/4688 [==============================] - 4s 849us/step - loss: 0.6933 - accuracy: 0.0000e+00\n",
      "Epoch 3/100\n",
      "4688/4688 [==============================] - 4s 848us/step - loss: 0.6933 - accuracy: 0.0000e+00\n",
      "Epoch 4/100\n",
      "4688/4688 [==============================] - 4s 846us/step - loss: 0.6934 - accuracy: 0.0000e+00\n",
      "Epoch 5/100\n",
      "4688/4688 [==============================] - 4s 849us/step - loss: 0.6934 - accuracy: 0.0000e+00\n",
      "Epoch 6/100\n",
      "4688/4688 [==============================] - 4s 898us/step - loss: 0.6934 - accuracy: 0.0000e+00\n",
      "Epoch 7/100\n",
      "4688/4688 [==============================] - 4s 851us/step - loss: 0.6934 - accuracy: 0.0000e+00\n",
      "Epoch 8/100\n",
      "4688/4688 [==============================] - 4s 841us/step - loss: 0.6934 - accuracy: 0.0000e+00\n",
      "Epoch 9/100\n",
      "4688/4688 [==============================] - 4s 858us/step - loss: 0.6934 - accuracy: 0.0000e+00\n",
      "Epoch 10/100\n",
      "4688/4688 [==============================] - 4s 839us/step - loss: 0.6933 - accuracy: 0.0000e+00\n",
      "Epoch 11/100\n",
      "4688/4688 [==============================] - 4s 845us/step - loss: 0.6934 - accuracy: 0.0000e+00\n",
      "Epoch 12/100\n",
      "4688/4688 [==============================] - 4s 842us/step - loss: 0.6934 - accuracy: 0.0000e+00\n",
      "Epoch 13/100\n",
      "4688/4688 [==============================] - 4s 858us/step - loss: 0.6933 - accuracy: 0.0000e+00\n",
      "Epoch 14/100\n",
      "4688/4688 [==============================] - 4s 849us/step - loss: 0.6934 - accuracy: 0.0000e+00\n",
      "Epoch 15/100\n",
      "4688/4688 [==============================] - 4s 835us/step - loss: 0.6933 - accuracy: 0.0000e+00\n",
      "Epoch 16/100\n",
      "4688/4688 [==============================] - 4s 847us/step - loss: 0.6933 - accuracy: 0.0000e+00\n",
      "Epoch 17/100\n",
      "4688/4688 [==============================] - 4s 845us/step - loss: 0.6934 - accuracy: 0.0000e+00\n",
      "Epoch 18/100\n",
      "4688/4688 [==============================] - 4s 847us/step - loss: 0.6934 - accuracy: 0.0000e+00\n",
      "Epoch 19/100\n",
      "4688/4688 [==============================] - 4s 847us/step - loss: 0.6934 - accuracy: 0.0000e+00\n",
      "Epoch 20/100\n",
      "4688/4688 [==============================] - 4s 866us/step - loss: 0.6934 - accuracy: 0.0000e+00\n",
      "Epoch 21/100\n",
      "4688/4688 [==============================] - 4s 853us/step - loss: 0.6934 - accuracy: 0.0000e+00\n",
      "Epoch 22/100\n",
      "4688/4688 [==============================] - 4s 871us/step - loss: 0.6933 - accuracy: 0.0000e+00\n",
      "Epoch 23/100\n",
      "4688/4688 [==============================] - 4s 865us/step - loss: 0.6934 - accuracy: 0.0000e+00\n",
      "Epoch 24/100\n",
      "4688/4688 [==============================] - 4s 842us/step - loss: 0.6933 - accuracy: 0.0000e+00\n",
      "Epoch 25/100\n",
      "4688/4688 [==============================] - 4s 848us/step - loss: 0.6933 - accuracy: 0.0000e+00\n",
      "Epoch 26/100\n",
      "4688/4688 [==============================] - 4s 851us/step - loss: 0.6934 - accuracy: 0.0000e+00\n",
      "Epoch 27/100\n",
      "4688/4688 [==============================] - 4s 947us/step - loss: 0.6934 - accuracy: 0.0000e+00\n",
      "Epoch 28/100\n",
      "4688/4688 [==============================] - 4s 851us/step - loss: 0.6934 - accuracy: 0.0000e+00\n",
      "Epoch 29/100\n",
      "4688/4688 [==============================] - 4s 900us/step - loss: 0.6934 - accuracy: 0.0000e+00\n",
      "Epoch 30/100\n",
      "4688/4688 [==============================] - 4s 949us/step - loss: 0.6933 - accuracy: 0.0000e+00\n",
      "Epoch 31/100\n",
      "4688/4688 [==============================] - 5s 1ms/step - loss: 0.6934 - accuracy: 0.0000e+00\n",
      "Epoch 32/100\n",
      "4688/4688 [==============================] - 5s 1ms/step - loss: 0.6934 - accuracy: 0.0000e+00\n",
      "Epoch 33/100\n",
      "4688/4688 [==============================] - 5s 970us/step - loss: 0.6934 - accuracy: 0.0000e+00\n",
      "Epoch 34/100\n",
      "4688/4688 [==============================] - 4s 937us/step - loss: 0.6934 - accuracy: 0.0000e+00\n",
      "Epoch 35/100\n",
      "4688/4688 [==============================] - 4s 897us/step - loss: 0.6934 - accuracy: 0.0000e+00\n",
      "Epoch 36/100\n",
      "4688/4688 [==============================] - 4s 909us/step - loss: 0.6934 - accuracy: 0.0000e+00\n",
      "Epoch 37/100\n",
      "4688/4688 [==============================] - 4s 927us/step - loss: 0.6933 - accuracy: 0.0000e+00\n",
      "Epoch 38/100\n",
      "4688/4688 [==============================] - 4s 937us/step - loss: 0.6933 - accuracy: 0.0000e+00\n",
      "Epoch 39/100\n",
      "4688/4688 [==============================] - 4s 944us/step - loss: 0.6933 - accuracy: 0.0000e+00\n",
      "Epoch 40/100\n",
      "4688/4688 [==============================] - 4s 897us/step - loss: 0.6933 - accuracy: 0.0000e+00\n",
      "Epoch 41/100\n",
      "4688/4688 [==============================] - 4s 895us/step - loss: 0.6933 - accuracy: 0.0000e+00\n",
      "Epoch 42/100\n",
      "4688/4688 [==============================] - 4s 918us/step - loss: 0.6934 - accuracy: 0.0000e+00\n",
      "Epoch 43/100\n",
      "4688/4688 [==============================] - 4s 875us/step - loss: 0.6934 - accuracy: 0.0000e+00\n",
      "Epoch 44/100\n",
      "4688/4688 [==============================] - 4s 885us/step - loss: 0.6933 - accuracy: 0.0000e+00\n",
      "Epoch 45/100\n",
      "4688/4688 [==============================] - 4s 939us/step - loss: 0.6933 - accuracy: 0.0000e+00\n",
      "Epoch 46/100\n",
      "4688/4688 [==============================] - 4s 907us/step - loss: 0.6934 - accuracy: 0.0000e+00\n",
      "Epoch 47/100\n",
      "4688/4688 [==============================] - 4s 928us/step - loss: 0.6933 - accuracy: 0.0000e+00\n",
      "Epoch 48/100\n",
      "4688/4688 [==============================] - 4s 930us/step - loss: 0.6934 - accuracy: 0.0000e+00\n",
      "Epoch 49/100\n",
      "4688/4688 [==============================] - 4s 936us/step - loss: 0.6934 - accuracy: 0.0000e+00\n",
      "Epoch 50/100\n",
      "4688/4688 [==============================] - 4s 949us/step - loss: 0.6934 - accuracy: 0.0000e+00\n",
      "Epoch 51/100\n",
      "4688/4688 [==============================] - 4s 904us/step - loss: 0.6933 - accuracy: 0.0000e+00\n",
      "Epoch 52/100\n",
      "4688/4688 [==============================] - 4s 917us/step - loss: 0.6933 - accuracy: 0.0000e+00\n",
      "Epoch 53/100\n",
      "4688/4688 [==============================] - 4s 908us/step - loss: 0.6934 - accuracy: 0.0000e+00\n",
      "Epoch 54/100\n",
      "4688/4688 [==============================] - 4s 917us/step - loss: 0.6934 - accuracy: 0.0000e+00\n",
      "Epoch 55/100\n",
      "4688/4688 [==============================] - 4s 894us/step - loss: 0.6933 - accuracy: 0.0000e+00\n",
      "Epoch 56/100\n",
      "4688/4688 [==============================] - 4s 956us/step - loss: 0.6934 - accuracy: 0.0000e+00\n",
      "Epoch 57/100\n",
      "4688/4688 [==============================] - 4s 930us/step - loss: 0.6934 - accuracy: 0.0000e+00\n",
      "Epoch 58/100\n",
      "4688/4688 [==============================] - 4s 945us/step - loss: 0.6934 - accuracy: 0.0000e+00\n",
      "Epoch 59/100\n",
      "4688/4688 [==============================] - 4s 912us/step - loss: 0.6934 - accuracy: 0.0000e+00\n",
      "Epoch 60/100\n",
      "4688/4688 [==============================] - 4s 902us/step - loss: 0.6934 - accuracy: 0.0000e+00\n",
      "Epoch 61/100\n",
      "4688/4688 [==============================] - 4s 903us/step - loss: 0.6934 - accuracy: 0.0000e+00\n",
      "Epoch 62/100\n",
      "4688/4688 [==============================] - 4s 902us/step - loss: 0.6934 - accuracy: 0.0000e+00\n",
      "Epoch 63/100\n",
      "4688/4688 [==============================] - 4s 899us/step - loss: 0.6933 - accuracy: 0.0000e+00\n",
      "Epoch 64/100\n",
      "4688/4688 [==============================] - 4s 912us/step - loss: 0.6934 - accuracy: 0.0000e+00\n",
      "Epoch 65/100\n",
      "4688/4688 [==============================] - 4s 914us/step - loss: 0.6933 - accuracy: 0.0000e+00\n",
      "Epoch 66/100\n",
      "4688/4688 [==============================] - 4s 959us/step - loss: 0.6934 - accuracy: 0.0000e+00\n",
      "Epoch 67/100\n",
      "4688/4688 [==============================] - 5s 1ms/step - loss: 0.6934 - accuracy: 0.0000e+00\n",
      "Epoch 68/100\n",
      "4688/4688 [==============================] - 5s 1ms/step - loss: 0.6933 - accuracy: 0.0000e+00\n",
      "Epoch 69/100\n",
      "4688/4688 [==============================] - 5s 1ms/step - loss: 0.6933 - accuracy: 0.0000e+00\n",
      "Epoch 70/100\n",
      "4688/4688 [==============================] - 5s 1ms/step - loss: 0.6934 - accuracy: 0.0000e+00\n",
      "Epoch 71/100\n",
      "4688/4688 [==============================] - 5s 1ms/step - loss: 0.6933 - accuracy: 0.0000e+00\n",
      "Epoch 72/100\n",
      "4688/4688 [==============================] - 5s 1ms/step - loss: 0.6933 - accuracy: 0.0000e+00\n",
      "Epoch 73/100\n",
      "4688/4688 [==============================] - 5s 1ms/step - loss: 0.6933 - accuracy: 0.0000e+00\n",
      "Epoch 74/100\n",
      "4688/4688 [==============================] - 5s 1ms/step - loss: 0.6934 - accuracy: 0.0000e+00\n",
      "Epoch 75/100\n"
     ]
    },
    {
     "name": "stdout",
     "output_type": "stream",
     "text": [
      "4688/4688 [==============================] - 5s 969us/step - loss: 0.6933 - accuracy: 0.0000e+00\n",
      "Epoch 76/100\n",
      "4688/4688 [==============================] - 4s 872us/step - loss: 0.6933 - accuracy: 0.0000e+00\n",
      "Epoch 77/100\n",
      "4688/4688 [==============================] - 4s 879us/step - loss: 0.6933 - accuracy: 0.0000e+00\n",
      "Epoch 78/100\n",
      "4688/4688 [==============================] - 4s 854us/step - loss: 0.6934 - accuracy: 0.0000e+00\n",
      "Epoch 79/100\n",
      "4688/4688 [==============================] - 4s 851us/step - loss: 0.6934 - accuracy: 0.0000e+00\n",
      "Epoch 80/100\n",
      "4688/4688 [==============================] - 4s 849us/step - loss: 0.6933 - accuracy: 0.0000e+00\n",
      "Epoch 81/100\n",
      "4688/4688 [==============================] - 4s 880us/step - loss: 0.6934 - accuracy: 0.0000e+00\n",
      "Epoch 82/100\n",
      "4688/4688 [==============================] - 4s 916us/step - loss: 0.6934 - accuracy: 0.0000e+00\n",
      "Epoch 83/100\n",
      "4688/4688 [==============================] - 5s 983us/step - loss: 0.6933 - accuracy: 0.0000e+00\n",
      "Epoch 84/100\n",
      "4688/4688 [==============================] - 5s 994us/step - loss: 0.6934 - accuracy: 0.0000e+00\n",
      "Epoch 85/100\n",
      "4688/4688 [==============================] - 4s 917us/step - loss: 0.6933 - accuracy: 0.0000e+00\n",
      "Epoch 86/100\n",
      "4688/4688 [==============================] - 4s 921us/step - loss: 0.6933 - accuracy: 0.0000e+00\n",
      "Epoch 87/100\n",
      "4688/4688 [==============================] - 4s 943us/step - loss: 0.6933 - accuracy: 0.0000e+00\n",
      "Epoch 88/100\n",
      "4688/4688 [==============================] - 4s 943us/step - loss: 0.6934 - accuracy: 0.0000e+00\n",
      "Epoch 89/100\n",
      "4688/4688 [==============================] - 4s 930us/step - loss: 0.6933 - accuracy: 0.0000e+00\n",
      "Epoch 90/100\n",
      "4688/4688 [==============================] - 4s 878us/step - loss: 0.6933 - accuracy: 0.0000e+00\n",
      "Epoch 91/100\n",
      "4688/4688 [==============================] - 4s 877us/step - loss: 0.6933 - accuracy: 0.0000e+00\n",
      "Epoch 92/100\n",
      "4688/4688 [==============================] - 4s 876us/step - loss: 0.6934 - accuracy: 0.0000e+00\n",
      "Epoch 93/100\n",
      "4688/4688 [==============================] - 4s 915us/step - loss: 0.6934 - accuracy: 0.0000e+00\n",
      "Epoch 94/100\n",
      "4688/4688 [==============================] - 4s 931us/step - loss: 0.6934 - accuracy: 0.0000e+00\n",
      "Epoch 95/100\n",
      "4688/4688 [==============================] - 4s 906us/step - loss: 0.6933 - accuracy: 0.0000e+00\n",
      "Epoch 96/100\n",
      "4688/4688 [==============================] - 4s 869us/step - loss: 0.6933 - accuracy: 0.0000e+00\n",
      "Epoch 97/100\n",
      "4688/4688 [==============================] - 4s 916us/step - loss: 0.6935 - accuracy: 0.0000e+00\n",
      "Epoch 98/100\n",
      "4688/4688 [==============================] - 5s 976us/step - loss: 0.6933 - accuracy: 0.0000e+00\n",
      "Epoch 99/100\n",
      "4688/4688 [==============================] - 5s 995us/step - loss: 0.6933 - accuracy: 0.0000e+00\n",
      "Epoch 100/100\n",
      "4688/4688 [==============================] - 4s 934us/step - loss: 0.6933 - accuracy: 0.0000e+00\n"
     ]
    }
   ],
   "source": [
    "x = np.random.random((150000, 10))\n",
    "y = np.random.randint(2, size=(150000, 1))\n",
    "x = tf.cast(x, tf.float32)\n",
    "dataset = tf.data.Dataset.from_tensor_slices((x, y))\n",
    "dataset = dataset.shuffle(buffer_size=150000).batch(32)\n",
    "\n",
    "start = time.time()\n",
    "model.fit(dataset, epochs=100)\n",
    "end = time.time()"
   ]
  },
  {
   "cell_type": "code",
   "execution_count": 198,
   "metadata": {},
   "outputs": [
    {
     "data": {
      "text/plain": [
       "485.8176860809326"
      ]
     },
     "execution_count": 198,
     "metadata": {},
     "output_type": "execute_result"
    }
   ],
   "source": [
    "end - start"
   ]
  },
  {
   "cell_type": "code",
   "execution_count": 199,
   "metadata": {},
   "outputs": [
    {
     "name": "stdout",
     "output_type": "stream",
     "text": [
      "Model: \"sequential_25\"\n",
      "_________________________________________________________________\n",
      "Layer (type)                 Output Shape              Param #   \n",
      "=================================================================\n",
      "dense_77 (Dense)             (None, 16)                176       \n",
      "_________________________________________________________________\n",
      "dense_78 (Dense)             (None, 1)                 17        \n",
      "=================================================================\n",
      "Total params: 193\n",
      "Trainable params: 193\n",
      "Non-trainable params: 0\n",
      "_________________________________________________________________\n"
     ]
    }
   ],
   "source": [
    "model = tf.keras.Sequential()\n",
    "model.add(layers.Dense(16, activation='relu', input_shape=(10, )))\n",
    "model.add(layers.Dense(1))\n",
    "\n",
    "model.compile(loss=tf.keras.losses.BinaryCrossentropy(from_logits=True),\n",
    "              optimizer=tf.keras.optimizers.Adam(0.01),\n",
    "              metrics=[tf.keras.metrics.Accuracy()])\n",
    "\n",
    "model.summary()"
   ]
  },
  {
   "cell_type": "code",
   "execution_count": 200,
   "metadata": {},
   "outputs": [
    {
     "name": "stdout",
     "output_type": "stream",
     "text": [
      "Epoch 1/100\n",
      "4688/4688 [==============================] - 5s 983us/step - loss: 0.6935 - accuracy: 0.0000e+00\n",
      "Epoch 2/100\n",
      "4688/4688 [==============================] - 4s 888us/step - loss: 0.6934 - accuracy: 0.0000e+00\n",
      "Epoch 3/100\n",
      "4688/4688 [==============================] - 4s 892us/step - loss: 0.6933 - accuracy: 0.0000e+00\n",
      "Epoch 4/100\n",
      "4688/4688 [==============================] - 4s 891us/step - loss: 0.6934 - accuracy: 0.0000e+00\n",
      "Epoch 5/100\n",
      "4688/4688 [==============================] - 4s 901us/step - loss: 0.6934 - accuracy: 0.0000e+00\n",
      "Epoch 6/100\n",
      "4688/4688 [==============================] - 4s 894us/step - loss: 0.6934 - accuracy: 0.0000e+00\n",
      "Epoch 7/100\n",
      "4688/4688 [==============================] - 4s 888us/step - loss: 0.6934 - accuracy: 0.0000e+00\n",
      "Epoch 8/100\n",
      "4688/4688 [==============================] - 4s 888us/step - loss: 0.6934 - accuracy: 0.0000e+00\n",
      "Epoch 9/100\n",
      "4688/4688 [==============================] - 4s 892us/step - loss: 0.6934 - accuracy: 0.0000e+00\n",
      "Epoch 10/100\n",
      "4688/4688 [==============================] - 4s 865us/step - loss: 0.6933 - accuracy: 0.0000e+00\n",
      "Epoch 11/100\n",
      "4688/4688 [==============================] - 4s 879us/step - loss: 0.6934 - accuracy: 0.0000e+00\n",
      "Epoch 12/100\n",
      "4688/4688 [==============================] - 4s 890us/step - loss: 0.6934 - accuracy: 0.0000e+00\n",
      "Epoch 13/100\n",
      "4688/4688 [==============================] - 4s 900us/step - loss: 0.6934 - accuracy: 0.0000e+00\n",
      "Epoch 14/100\n",
      "4688/4688 [==============================] - 4s 891us/step - loss: 0.6933 - accuracy: 0.0000e+00\n",
      "Epoch 15/100\n",
      "4688/4688 [==============================] - 4s 889us/step - loss: 0.6934 - accuracy: 0.0000e+00\n",
      "Epoch 16/100\n",
      "4688/4688 [==============================] - 4s 889us/step - loss: 0.6934 - accuracy: 0.0000e+00\n",
      "Epoch 17/100\n",
      "4688/4688 [==============================] - 4s 889us/step - loss: 0.6934 - accuracy: 0.0000e+00\n",
      "Epoch 18/100\n",
      "4688/4688 [==============================] - 4s 892us/step - loss: 0.6934 - accuracy: 0.0000e+00\n",
      "Epoch 19/100\n",
      "4688/4688 [==============================] - 4s 892us/step - loss: 0.6933 - accuracy: 0.0000e+00\n",
      "Epoch 20/100\n",
      "4688/4688 [==============================] - 4s 891us/step - loss: 0.6933 - accuracy: 0.0000e+00\n",
      "Epoch 21/100\n",
      "4688/4688 [==============================] - 4s 920us/step - loss: 0.6934 - accuracy: 0.0000e+00\n",
      "Epoch 22/100\n",
      "4688/4688 [==============================] - 5s 1ms/step - loss: 0.6933 - accuracy: 0.0000e+00\n",
      "Epoch 23/100\n",
      "4688/4688 [==============================] - 5s 965us/step - loss: 0.6934 - accuracy: 0.0000e+00\n",
      "Epoch 24/100\n",
      "4688/4688 [==============================] - 4s 909us/step - loss: 0.6933 - accuracy: 0.0000e+00\n",
      "Epoch 25/100\n",
      "4688/4688 [==============================] - 4s 898us/step - loss: 0.6934 - accuracy: 0.0000e+00\n",
      "Epoch 26/100\n",
      "4688/4688 [==============================] - 4s 882us/step - loss: 0.6934 - accuracy: 0.0000e+00\n",
      "Epoch 27/100\n",
      "4688/4688 [==============================] - 4s 862us/step - loss: 0.6933 - accuracy: 0.0000e+00\n",
      "Epoch 28/100\n",
      "4688/4688 [==============================] - 4s 887us/step - loss: 0.6934 - accuracy: 0.0000e+00\n",
      "Epoch 29/100\n",
      "4688/4688 [==============================] - 4s 896us/step - loss: 0.6934 - accuracy: 0.0000e+00\n",
      "Epoch 30/100\n",
      "4688/4688 [==============================] - 4s 908us/step - loss: 0.6933 - accuracy: 0.0000e+00\n",
      "Epoch 31/100\n",
      "4688/4688 [==============================] - 4s 929us/step - loss: 0.6934 - accuracy: 0.0000e+00\n",
      "Epoch 32/100\n",
      "4688/4688 [==============================] - 4s 915us/step - loss: 0.6934 - accuracy: 0.0000e+00\n",
      "Epoch 33/100\n",
      "4688/4688 [==============================] - 4s 890us/step - loss: 0.6934 - accuracy: 0.0000e+00\n",
      "Epoch 34/100\n",
      "4688/4688 [==============================] - 4s 889us/step - loss: 0.6934 - accuracy: 0.0000e+00\n",
      "Epoch 35/100\n",
      "4688/4688 [==============================] - 4s 893us/step - loss: 0.6934 - accuracy: 0.0000e+00\n",
      "Epoch 36/100\n",
      "4688/4688 [==============================] - 4s 898us/step - loss: 0.6933 - accuracy: 0.0000e+00\n",
      "Epoch 37/100\n",
      "4688/4688 [==============================] - 4s 892us/step - loss: 0.6934 - accuracy: 0.0000e+00\n",
      "Epoch 38/100\n",
      "4688/4688 [==============================] - 4s 892us/step - loss: 0.6934 - accuracy: 0.0000e+00\n",
      "Epoch 39/100\n",
      "4688/4688 [==============================] - 4s 900us/step - loss: 0.6934 - accuracy: 0.0000e+00\n",
      "Epoch 40/100\n",
      "4688/4688 [==============================] - 4s 891us/step - loss: 0.6934 - accuracy: 0.0000e+00\n",
      "Epoch 41/100\n",
      "4688/4688 [==============================] - 4s 895us/step - loss: 0.6934 - accuracy: 0.0000e+00\n",
      "Epoch 42/100\n",
      "4688/4688 [==============================] - 4s 895us/step - loss: 0.6934 - accuracy: 0.0000e+00\n",
      "Epoch 43/100\n",
      "4688/4688 [==============================] - 4s 894us/step - loss: 0.6934 - accuracy: 0.0000e+00\n",
      "Epoch 44/100\n",
      "4688/4688 [==============================] - 4s 893us/step - loss: 0.6934 - accuracy: 0.0000e+00\n",
      "Epoch 45/100\n",
      "4688/4688 [==============================] - 4s 896us/step - loss: 0.6934 - accuracy: 0.0000e+00\n",
      "Epoch 46/100\n",
      "4688/4688 [==============================] - 4s 919us/step - loss: 0.6933 - accuracy: 0.0000e+00\n",
      "Epoch 47/100\n",
      "4688/4688 [==============================] - 4s 931us/step - loss: 0.6934 - accuracy: 0.0000e+00\n",
      "Epoch 48/100\n",
      "4688/4688 [==============================] - 4s 935us/step - loss: 0.6933 - accuracy: 0.0000e+00\n",
      "Epoch 49/100\n",
      "4688/4688 [==============================] - 4s 900us/step - loss: 0.6934 - accuracy: 0.0000e+00\n",
      "Epoch 50/100\n",
      "4688/4688 [==============================] - 4s 897us/step - loss: 0.6933 - accuracy: 0.0000e+00\n",
      "Epoch 51/100\n",
      "4688/4688 [==============================] - 4s 895us/step - loss: 0.6934 - accuracy: 0.0000e+00\n",
      "Epoch 52/100\n",
      "4688/4688 [==============================] - 4s 933us/step - loss: 0.6934 - accuracy: 0.0000e+00\n",
      "Epoch 53/100\n",
      "4688/4688 [==============================] - 5s 986us/step - loss: 0.6934 - accuracy: 0.0000e+00\n",
      "Epoch 54/100\n",
      "4688/4688 [==============================] - 5s 989us/step - loss: 0.6933 - accuracy: 0.0000e+00\n",
      "Epoch 55/100\n",
      "4688/4688 [==============================] - 4s 933us/step - loss: 0.6933 - accuracy: 0.0000e+00\n",
      "Epoch 56/100\n",
      "4688/4688 [==============================] - 4s 896us/step - loss: 0.6934 - accuracy: 0.0000e+00\n",
      "Epoch 57/100\n",
      "4688/4688 [==============================] - 4s 896us/step - loss: 0.6934 - accuracy: 0.0000e+00\n",
      "Epoch 58/100\n",
      "4688/4688 [==============================] - 4s 891us/step - loss: 0.6934 - accuracy: 0.0000e+00\n",
      "Epoch 59/100\n",
      "4688/4688 [==============================] - 4s 895us/step - loss: 0.6933 - accuracy: 0.0000e+00\n",
      "Epoch 60/100\n",
      "4688/4688 [==============================] - 4s 883us/step - loss: 0.6934 - accuracy: 0.0000e+00\n",
      "Epoch 61/100\n",
      "4688/4688 [==============================] - 4s 937us/step - loss: 0.6934 - accuracy: 0.0000e+00\n",
      "Epoch 62/100\n",
      "4688/4688 [==============================] - 4s 945us/step - loss: 0.6933 - accuracy: 0.0000e+00\n",
      "Epoch 63/100\n",
      "4688/4688 [==============================] - 4s 955us/step - loss: 0.6934 - accuracy: 0.0000e+00\n",
      "Epoch 64/100\n",
      "4688/4688 [==============================] - 4s 931us/step - loss: 0.6934 - accuracy: 0.0000e+00\n",
      "Epoch 65/100\n",
      "4688/4688 [==============================] - 5s 978us/step - loss: 0.6934 - accuracy: 0.0000e+00\n",
      "Epoch 66/100\n",
      "4688/4688 [==============================] - 4s 955us/step - loss: 0.6934 - accuracy: 0.0000e+00\n",
      "Epoch 67/100\n",
      "4688/4688 [==============================] - 5s 974us/step - loss: 0.6934 - accuracy: 0.0000e+00\n",
      "Epoch 68/100\n",
      "4688/4688 [==============================] - 5s 980us/step - loss: 0.6934 - accuracy: 0.0000e+00\n",
      "Epoch 69/100\n",
      "4688/4688 [==============================] - 4s 937us/step - loss: 0.6934 - accuracy: 0.0000e+00\n",
      "Epoch 70/100\n",
      "4688/4688 [==============================] - 4s 898us/step - loss: 0.6934 - accuracy: 0.0000e+00\n",
      "Epoch 71/100\n",
      "4688/4688 [==============================] - 4s 898us/step - loss: 0.6933 - accuracy: 0.0000e+00\n",
      "Epoch 72/100\n",
      "4688/4688 [==============================] - 4s 896us/step - loss: 0.6933 - accuracy: 0.0000e+00\n",
      "Epoch 73/100\n",
      "4688/4688 [==============================] - 4s 917us/step - loss: 0.6934 - accuracy: 0.0000e+00\n",
      "Epoch 74/100\n",
      "4688/4688 [==============================] - 5s 994us/step - loss: 0.6934 - accuracy: 0.0000e+00\n",
      "Epoch 75/100\n"
     ]
    },
    {
     "name": "stdout",
     "output_type": "stream",
     "text": [
      "4688/4688 [==============================] - 5s 988us/step - loss: 0.6934 - accuracy: 0.0000e+00\n",
      "Epoch 76/100\n",
      "4688/4688 [==============================] - 4s 920us/step - loss: 0.6933 - accuracy: 0.0000e+00\n",
      "Epoch 77/100\n",
      "4688/4688 [==============================] - 4s 901us/step - loss: 0.6934 - accuracy: 0.0000e+00\n",
      "Epoch 78/100\n",
      "4688/4688 [==============================] - 4s 892us/step - loss: 0.6933 - accuracy: 0.0000e+00\n",
      "Epoch 79/100\n",
      "4688/4688 [==============================] - 4s 883us/step - loss: 0.6933 - accuracy: 0.0000e+00\n",
      "Epoch 80/100\n",
      "4688/4688 [==============================] - 4s 887us/step - loss: 0.6934 - accuracy: 0.0000e+00\n",
      "Epoch 81/100\n",
      "4688/4688 [==============================] - 4s 916us/step - loss: 0.6933 - accuracy: 0.0000e+00\n",
      "Epoch 82/100\n",
      "4688/4688 [==============================] - 4s 928us/step - loss: 0.6934 - accuracy: 0.0000e+00\n",
      "Epoch 83/100\n",
      "4688/4688 [==============================] - 4s 945us/step - loss: 0.6934 - accuracy: 0.0000e+00\n",
      "Epoch 84/100\n",
      "4688/4688 [==============================] - 4s 941us/step - loss: 0.6933 - accuracy: 0.0000e+00\n",
      "Epoch 85/100\n",
      "4688/4688 [==============================] - 5s 965us/step - loss: 0.6934 - accuracy: 0.0000e+00\n",
      "Epoch 86/100\n",
      "4688/4688 [==============================] - 5s 981us/step - loss: 0.6934 - accuracy: 0.0000e+00\n",
      "Epoch 87/100\n",
      "4688/4688 [==============================] - 5s 972us/step - loss: 0.6934 - accuracy: 0.0000e+00\n",
      "Epoch 88/100\n",
      "4688/4688 [==============================] - 4s 954us/step - loss: 0.6934 - accuracy: 0.0000e+00\n",
      "Epoch 89/100\n",
      "4688/4688 [==============================] - 4s 941us/step - loss: 0.6934 - accuracy: 0.0000e+00\n",
      "Epoch 90/100\n",
      "4688/4688 [==============================] - 4s 894us/step - loss: 0.6934 - accuracy: 0.0000e+00\n",
      "Epoch 91/100\n",
      "4688/4688 [==============================] - 4s 892us/step - loss: 0.6933 - accuracy: 0.0000e+00\n",
      "Epoch 92/100\n",
      "4688/4688 [==============================] - 4s 871us/step - loss: 0.6934 - accuracy: 0.0000e+00\n",
      "Epoch 93/100\n",
      "4688/4688 [==============================] - 4s 868us/step - loss: 0.6934 - accuracy: 0.0000e+00\n",
      "Epoch 94/100\n",
      "4688/4688 [==============================] - 4s 907us/step - loss: 0.6934 - accuracy: 0.0000e+00\n",
      "Epoch 95/100\n",
      "4688/4688 [==============================] - 4s 933us/step - loss: 0.6934 - accuracy: 0.0000e+00\n",
      "Epoch 96/100\n",
      "4688/4688 [==============================] - 4s 944us/step - loss: 0.6934 - accuracy: 0.0000e+00\n",
      "Epoch 97/100\n",
      "4688/4688 [==============================] - 4s 912us/step - loss: 0.6934 - accuracy: 0.0000e+00\n",
      "Epoch 98/100\n",
      "4688/4688 [==============================] - 4s 890us/step - loss: 0.6934 - accuracy: 0.0000e+00\n",
      "Epoch 99/100\n",
      "4688/4688 [==============================] - 4s 889us/step - loss: 0.6934 - accuracy: 0.0000e+00\n",
      "Epoch 100/100\n",
      "4688/4688 [==============================] - 4s 893us/step - loss: 0.6933 - accuracy: 0.0000e+00\n"
     ]
    }
   ],
   "source": [
    "x = np.random.random((150000, 10))\n",
    "y = np.random.randint(2, size=(150000, 1))\n",
    "x = tf.cast(x, tf.float32)\n",
    "dataset = tf.data.Dataset.from_tensor_slices((x, y))\n",
    "dataset = dataset.shuffle(buffer_size=150000).batch(32)\n",
    "\n",
    "start = time.time()\n",
    "model.fit(dataset, epochs=100)\n",
    "end = time.time()"
   ]
  },
  {
   "cell_type": "code",
   "execution_count": 201,
   "metadata": {},
   "outputs": [
    {
     "data": {
      "text/plain": [
       "431.5237398147583"
      ]
     },
     "execution_count": 201,
     "metadata": {},
     "output_type": "execute_result"
    }
   ],
   "source": [
    "end - start"
   ]
  }
 ],
 "metadata": {
  "kernelspec": {
   "display_name": "Python 3",
   "language": "python",
   "name": "python3"
  },
  "language_info": {
   "codemirror_mode": {
    "name": "ipython",
    "version": 3
   },
   "file_extension": ".py",
   "mimetype": "text/x-python",
   "name": "python",
   "nbconvert_exporter": "python",
   "pygments_lexer": "ipython3",
   "version": "3.7.5"
  },
  "toc": {
   "base_numbering": 1,
   "nav_menu": {},
   "number_sections": true,
   "sideBar": true,
   "skip_h1_title": false,
   "title_cell": "Table of Contents",
   "title_sidebar": "Contents",
   "toc_cell": false,
   "toc_position": {},
   "toc_section_display": true,
   "toc_window_display": true
  },
  "varInspector": {
   "cols": {
    "lenName": 16,
    "lenType": 16,
    "lenVar": 40
   },
   "kernels_config": {
    "python": {
     "delete_cmd_postfix": "",
     "delete_cmd_prefix": "del ",
     "library": "var_list.py",
     "varRefreshCmd": "print(var_dic_list())"
    },
    "r": {
     "delete_cmd_postfix": ") ",
     "delete_cmd_prefix": "rm(",
     "library": "var_list.r",
     "varRefreshCmd": "cat(var_dic_list()) "
    }
   },
   "types_to_exclude": [
    "module",
    "function",
    "builtin_function_or_method",
    "instance",
    "_Feature"
   ],
   "window_display": false
  }
 },
 "nbformat": 4,
 "nbformat_minor": 2
}
