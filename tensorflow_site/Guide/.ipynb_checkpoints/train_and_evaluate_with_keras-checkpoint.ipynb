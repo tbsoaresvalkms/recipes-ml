{
 "cells": [
  {
   "cell_type": "markdown",
   "metadata": {},
   "source": [
    "## Train and evaluate with Keras"
   ]
  },
  {
   "cell_type": "markdown",
   "metadata": {},
   "source": [
    "### Setup"
   ]
  },
  {
   "cell_type": "code",
   "execution_count": 281,
   "metadata": {},
   "outputs": [],
   "source": [
    "import tensorflow as tf\n",
    "\n",
    "import numpy as np\n",
    "\n",
    "import pprint"
   ]
  },
  {
   "cell_type": "markdown",
   "metadata": {},
   "source": [
    "### Part I: Using built-in training & evaluation loops"
   ]
  },
  {
   "cell_type": "markdown",
   "metadata": {},
   "source": [
    "<p>Numpy arrays (if your data is small and fits in memory) or tf.data Dataset objects</p>\n",
    "<p>In general, we recommend that you use Numpy input data if your data is small and fits in memory, and Datasets otherwise.</p>"
   ]
  },
  {
   "cell_type": "code",
   "execution_count": 282,
   "metadata": {},
   "outputs": [],
   "source": [
    "from tensorflow import keras\n",
    "from tensorflow.keras import layers\n",
    "\n",
    "inputs = keras.Input(shape=(784, ), name='digits')\n",
    "x = layers.Dense(64, activation=tf.nn.relu, name='dense_1')(inputs)\n",
    "x = layers.Dense(64, activation=tf.nn.relu, name='dense_2')(x)\n",
    "outputs = layers.Dense(10, name='predications')(x)\n",
    "\n",
    "model = keras.Model(inputs, outputs)"
   ]
  },
  {
   "cell_type": "code",
   "execution_count": 283,
   "metadata": {},
   "outputs": [],
   "source": [
    "((x_train, y_train), (x_test, y_test)) = keras.datasets.mnist.load_data()\n",
    "x_train = x_train.reshape(60000, 784).astype('float32') / 255.0\n",
    "x_test = x_test.reshape(10000, 784).astype('float32') / 255.0\n",
    "\n",
    "y_train = y_train.astype('float32')\n",
    "y_test = y_test.astype('float32')\n",
    "\n",
    "x_val = x_train[-10000:]\n",
    "y_val = y_train[-10000:]\n",
    "\n",
    "x_train = x_train[:-10000]\n",
    "y_train = y_train[:-10000]"
   ]
  },
  {
   "cell_type": "code",
   "execution_count": 284,
   "metadata": {},
   "outputs": [],
   "source": [
    "model.compile(\n",
    "    loss=tf.keras.losses.SparseCategoricalCrossentropy(from_logits=True),\n",
    "    optimizer=tf.keras.optimizers.RMSprop(),\n",
    "    metrics=['sparse_categorical_accuracy'])"
   ]
  },
  {
   "cell_type": "code",
   "execution_count": 285,
   "metadata": {},
   "outputs": [],
   "source": [
    "model.compile(\n",
    "    optimizer='rmsprop',\n",
    "    loss=keras.losses.SparseCategoricalCrossentropy(from_logits=True),\n",
    "    metrics=['sparse_categorical_accuracy'])"
   ]
  },
  {
   "cell_type": "code",
   "execution_count": 286,
   "metadata": {},
   "outputs": [
    {
     "name": "stdout",
     "output_type": "stream",
     "text": [
      "Train on 50000 samples, validate on 10000 samples\n",
      "Epoch 1/3\n",
      "50000/50000 [==============================] - 1s 28us/sample - loss: 0.3412 - sparse_categorical_accuracy: 0.9018 - val_loss: 0.1810 - val_sparse_categorical_accuracy: 0.9463\n",
      "Epoch 2/3\n",
      "50000/50000 [==============================] - 1s 21us/sample - loss: 0.1615 - sparse_categorical_accuracy: 0.9525 - val_loss: 0.1283 - val_sparse_categorical_accuracy: 0.9638\n",
      "Epoch 3/3\n",
      "50000/50000 [==============================] - 1s 21us/sample - loss: 0.1182 - sparse_categorical_accuracy: 0.9646 - val_loss: 0.1130 - val_sparse_categorical_accuracy: 0.9659\n"
     ]
    }
   ],
   "source": [
    "history = model.fit(x_train,\n",
    "                    y_train,\n",
    "                    batch_size=64,\n",
    "                    epochs=3,\n",
    "                    validation_data=(x_val, y_val))"
   ]
  },
  {
   "cell_type": "code",
   "execution_count": 287,
   "metadata": {},
   "outputs": [
    {
     "name": "stdout",
     "output_type": "stream",
     "text": [
      "history dict:\n",
      "{'loss': [0.3411789928102493, 0.16149162646889687, 0.1182172764416039],\n",
      " 'sparse_categorical_accuracy': [0.90178, 0.9525, 0.96458],\n",
      " 'val_loss': [0.1810368886858225, 0.12833034448176622, 0.11300711946859955],\n",
      " 'val_sparse_categorical_accuracy': [0.9463, 0.9638, 0.9659]}\n"
     ]
    }
   ],
   "source": [
    "print('history dict:')\n",
    "pprint.pprint(history.history)"
   ]
  },
  {
   "cell_type": "code",
   "execution_count": 288,
   "metadata": {},
   "outputs": [
    {
     "name": "stdout",
     "output_type": "stream",
     "text": [
      "10000/10000 [==============================] - 0s 10us/sample - loss: 0.1153 - sparse_categorical_accuracy: 0.9663\n"
     ]
    }
   ],
   "source": [
    "results = model.evaluate(x_test, y_test, batch_size=64)"
   ]
  },
  {
   "cell_type": "code",
   "execution_count": 289,
   "metadata": {},
   "outputs": [
    {
     "name": "stdout",
     "output_type": "stream",
     "text": [
      "results list:\n",
      "[0.11529541007652878, 0.9663]\n"
     ]
    }
   ],
   "source": [
    "print('results list:')\n",
    "pprint.pprint(results)"
   ]
  },
  {
   "cell_type": "code",
   "execution_count": 290,
   "metadata": {},
   "outputs": [],
   "source": [
    "predcitions = model.predict(x_test[:3])"
   ]
  },
  {
   "cell_type": "code",
   "execution_count": 291,
   "metadata": {},
   "outputs": [
    {
     "name": "stdout",
     "output_type": "stream",
     "text": [
      "predictions list:\n",
      "array([[-7.44035625e+00, -6.21233082e+00, -7.78478384e-01,\n",
      "        -1.06440494e-02, -1.52479467e+01, -4.47988510e+00,\n",
      "        -1.75591908e+01,  8.68856049e+00, -5.71874475e+00,\n",
      "        -3.66432762e+00],\n",
      "       [-4.78281832e+00, -2.31484675e+00,  9.42369461e+00,\n",
      "         7.89336264e-02, -1.44637575e+01, -4.62541103e+00,\n",
      "        -3.91584301e+00, -1.28555794e+01, -6.85088396e-01,\n",
      "        -1.43455877e+01],\n",
      "       [-7.56704617e+00,  5.39643288e+00, -1.64881778e+00,\n",
      "        -3.82153463e+00, -3.38913345e+00, -3.20638561e+00,\n",
      "        -3.71601057e+00, -1.37507975e+00, -1.86936569e+00,\n",
      "        -6.45305920e+00]], dtype=float32)\n"
     ]
    }
   ],
   "source": [
    "print('predictions list:')\n",
    "pprint.pprint(predcitions)"
   ]
  },
  {
   "cell_type": "code",
   "execution_count": 292,
   "metadata": {},
   "outputs": [],
   "source": [
    "def get_uncompiled_model():\n",
    "    inputs = keras.Input(shape=(784, ), name='digits')\n",
    "    x = layers.Dense(64, activation='relu', name='dense_1')(inputs)\n",
    "    x = layers.Dense(64, activation='relu', name='dense_2')(x)\n",
    "    outputs = layers.Dense(10, name='predictions')(x)\n",
    "    model = keras.Model(inputs=inputs, outputs=outputs)\n",
    "    return model"
   ]
  },
  {
   "cell_type": "code",
   "execution_count": 552,
   "metadata": {},
   "outputs": [],
   "source": [
    "def get_compiled_model():\n",
    "    model = get_uncompiled_model()\n",
    "    model.compile(\n",
    "        optimizer=keras.optimizers.RMSprop(learning_rate=1e-2),\n",
    "        loss=keras.losses.SparseCategoricalCrossentropy(from_logits=True),\n",
    "        metrics=['sparse_categorical_accuracy'])\n",
    "    return model"
   ]
  },
  {
   "cell_type": "markdown",
   "metadata": {},
   "source": [
    "### Specifying a loss, metrics, and an optimizer"
   ]
  },
  {
   "cell_type": "code",
   "execution_count": 294,
   "metadata": {},
   "outputs": [
    {
     "name": "stdout",
     "output_type": "stream",
     "text": [
      "Train on 50000 samples\n",
      "Epoch 1/10\n",
      "50000/50000 [==============================] - 1s 20us/sample - loss: 1.3731\n",
      "Epoch 2/10\n",
      "50000/50000 [==============================] - 1s 16us/sample - loss: 0.7076\n",
      "Epoch 3/10\n",
      "50000/50000 [==============================] - 1s 16us/sample - loss: 0.5860\n",
      "Epoch 4/10\n",
      "50000/50000 [==============================] - 1s 17us/sample - loss: 0.5203\n",
      "Epoch 5/10\n",
      "50000/50000 [==============================] - 1s 17us/sample - loss: 0.4774\n",
      "Epoch 6/10\n",
      "50000/50000 [==============================] - 1s 17us/sample - loss: 0.4469\n",
      "Epoch 7/10\n",
      "50000/50000 [==============================] - 1s 17us/sample - loss: 0.4211\n",
      "Epoch 8/10\n",
      "50000/50000 [==============================] - 1s 17us/sample - loss: 0.3945\n",
      "Epoch 9/10\n",
      "50000/50000 [==============================] - 1s 16us/sample - loss: 0.3757\n",
      "Epoch 10/10\n",
      "50000/50000 [==============================] - 1s 17us/sample - loss: 0.3525\n"
     ]
    },
    {
     "data": {
      "text/plain": [
       "<tensorflow.python.keras.callbacks.History at 0x15c297110>"
      ]
     },
     "execution_count": 294,
     "metadata": {},
     "output_type": "execute_result"
    }
   ],
   "source": [
    "def basic_loss_function(y_true, y_pred):\n",
    "    return tf.math.reduce_mean(tf.abs(y_true - y_pred))\n",
    "\n",
    "\n",
    "model.compile(optimizer=keras.optimizers.Adam(), loss=basic_loss_function)\n",
    "\n",
    "model.fit(x_train, y_train, batch_size=64, epochs=10)"
   ]
  },
  {
   "cell_type": "code",
   "execution_count": 295,
   "metadata": {},
   "outputs": [],
   "source": [
    "class WeightedBinaryCrossEntropy(keras.losses.Loss):\n",
    "    def __init__(self,\n",
    "                 pos_weight,\n",
    "                 weight,\n",
    "                 from_logits=False,\n",
    "                 reduction=keras.losses.Reduction.AUTO,\n",
    "                 name='weighted_binary_crossentropy'):\n",
    "\n",
    "        super().__init__(reduction=reduction, name=name)\n",
    "        self.pos_weight = pos_weight\n",
    "        self.weight = weight\n",
    "        self.from_logits = from_logits\n",
    "\n",
    "    def call(self, y_true, y_pred):\n",
    "        ce = tf.losses.binary_crossentropy(y_true,\n",
    "                                           y_pred,\n",
    "                                           from_logits=self.from_logits)[:,\n",
    "                                                                         None]\n",
    "        ce = self.weight * (ce * (1 - y_true) + self.pos_weight * ce *\n",
    "                            (y_true))\n",
    "        return ce"
   ]
  },
  {
   "cell_type": "code",
   "execution_count": 296,
   "metadata": {},
   "outputs": [],
   "source": [
    "one_hot_y_train = tf.one_hot(y_train.astype(np.int32), depth=10)"
   ]
  },
  {
   "cell_type": "code",
   "execution_count": 297,
   "metadata": {},
   "outputs": [
    {
     "name": "stdout",
     "output_type": "stream",
     "text": [
      "Train on 50000 samples\n",
      "Epoch 1/3\n",
      "50000/50000 [==============================] - 1s 26us/sample - loss: 0.1675 - acc: 0.8647\n",
      "Epoch 2/3\n",
      "50000/50000 [==============================] - 1s 20us/sample - loss: 0.0695 - acc: 0.9453\n",
      "Epoch 3/3\n",
      "50000/50000 [==============================] - 1s 20us/sample - loss: 0.0515 - acc: 0.9597\n"
     ]
    },
    {
     "data": {
      "text/plain": [
       "<tensorflow.python.keras.callbacks.History at 0x15ed1ef90>"
      ]
     },
     "execution_count": 297,
     "metadata": {},
     "output_type": "execute_result"
    }
   ],
   "source": [
    "model = get_uncompiled_model()\n",
    "model.compile(optimizer=tf.keras.optimizers.Adam(),\n",
    "              loss=WeightedBinaryCrossEntropy(pos_weight=0.5,\n",
    "                                              weight=2,\n",
    "                                              from_logits=True),\n",
    "              metrics=['acc'])\n",
    "model.fit(x_train, one_hot_y_train, batch_size=64, epochs=3)"
   ]
  },
  {
   "cell_type": "code",
   "execution_count": 298,
   "metadata": {},
   "outputs": [],
   "source": [
    "class CategoricalTruePositives(keras.metrics.Metric):\n",
    "    def __init__(self, name='categorical_true_positives', **kwargs):\n",
    "        super(CategoricalTruePositives, self).__init__(name=name, **kwargs)\n",
    "        self.true_positives = self.add_weight(name='tp', initializer='zeros')\n",
    "\n",
    "    def update_state(self, y_true, y_pred, sample_weight=None):\n",
    "        y_pred = tf.reshape(tf.argmax(y_pred, axis=1), shape=(-1, 1))\n",
    "        values = tf.cast(y_true, 'int32') == tf.cast(y_pred, 'int32')\n",
    "        values = tf.cast(values, 'float32')\n",
    "\n",
    "        if sample_weight is not None:\n",
    "            sample_weight = tf.cast(sample_weight, 'float32')\n",
    "            values = tf.multiply(values, sample_weight)\n",
    "        self.true_positives.assign_add(tf.reduce_sum(values))\n",
    "\n",
    "    def result(self):\n",
    "        return self.true_positives\n",
    "\n",
    "    def reset_states(self):\n",
    "        self.true_positives.assign(0.)"
   ]
  },
  {
   "cell_type": "code",
   "execution_count": 299,
   "metadata": {},
   "outputs": [
    {
     "name": "stdout",
     "output_type": "stream",
     "text": [
      "Train on 50000 samples\n",
      "Epoch 1/3\n",
      "50000/50000 [==============================] - 1s 25us/sample - loss: 0.3387 - categorical_true_positives: 45155.0000\n",
      "Epoch 2/3\n",
      "50000/50000 [==============================] - 1s 19us/sample - loss: 0.1563 - categorical_true_positives: 47642.0000\n",
      "Epoch 3/3\n",
      "50000/50000 [==============================] - 1s 19us/sample - loss: 0.1148 - categorical_true_positives: 48272.0000\n"
     ]
    },
    {
     "data": {
      "text/plain": [
       "<tensorflow.python.keras.callbacks.History at 0x15e929d50>"
      ]
     },
     "execution_count": 299,
     "metadata": {},
     "output_type": "execute_result"
    }
   ],
   "source": [
    "model = get_uncompiled_model()\n",
    "model.compile(\n",
    "    optimizer=keras.optimizers.RMSprop(learning_rate=1e-3),\n",
    "    loss=keras.losses.SparseCategoricalCrossentropy(from_logits=True),\n",
    "    metrics=[CategoricalTruePositives()])\n",
    "model.fit(x_train, y_train, batch_size=64, epochs=3)"
   ]
  },
  {
   "cell_type": "code",
   "execution_count": 300,
   "metadata": {},
   "outputs": [
    {
     "name": "stdout",
     "output_type": "stream",
     "text": [
      "Train on 50000 samples\n",
      "Epoch 1/3\n",
      "50000/50000 [==============================] - 1s 26us/sample - loss: 4.1445\n",
      "Epoch 2/3\n",
      "50000/50000 [==============================] - 1s 19us/sample - loss: 2.3017\n",
      "Epoch 3/3\n",
      "50000/50000 [==============================] - 1s 18us/sample - loss: 2.3013\n"
     ]
    },
    {
     "data": {
      "text/plain": [
       "<tensorflow.python.keras.callbacks.History at 0x15be29210>"
      ]
     },
     "execution_count": 300,
     "metadata": {},
     "output_type": "execute_result"
    }
   ],
   "source": [
    "class ActivityRegularizationLayer(layers.Layer):\n",
    "    def call(self, inputs):\n",
    "        self.add_loss(tf.reduce_sum(inputs))\n",
    "        return inputs\n",
    "\n",
    "\n",
    "inputs = keras.Input(shape=(784, ), name='digits')\n",
    "x = layers.Dense(64, activation=tf.nn.relu, name='dense_1')(inputs)\n",
    "x = ActivityRegularizationLayer()(x)\n",
    "x = layers.Dense(64, activation=tf.nn.relu, name='dense_2')(x)\n",
    "outputs = layers.Dense(10, name='predictions')(x)\n",
    "\n",
    "model = keras.Model(inputs=inputs, outputs=outputs)\n",
    "model.compile(\n",
    "    optimizer=tf.keras.optimizers.RMSprop(learning_rate=1e-3),\n",
    "    loss=keras.losses.SparseCategoricalCrossentropy(from_logits=True))\n",
    "model.fit(x_train, y_train, batch_size=64, epochs=3)"
   ]
  },
  {
   "cell_type": "code",
   "execution_count": 301,
   "metadata": {},
   "outputs": [
    {
     "name": "stdout",
     "output_type": "stream",
     "text": [
      "Train on 50000 samples\n",
      "50000/50000 [==============================] - 1s 27us/sample - loss: 0.3392 - std_of_activation_1: 5.8992 - std_of_activation_2: 7.5737 - std_of_activation_3: 12.4386\n"
     ]
    },
    {
     "data": {
      "text/plain": [
       "<tensorflow.python.keras.callbacks.History at 0x15f5f9610>"
      ]
     },
     "execution_count": 301,
     "metadata": {},
     "output_type": "execute_result"
    }
   ],
   "source": [
    "class MetricLoggingLayer(layers.Layer):\n",
    "    def __init__(self, name):\n",
    "        super(MetricLoggingLayer, self).__init__(name=name)\n",
    "\n",
    "    def call(self, inputs):\n",
    "        self.add_metric(keras.backend.max(inputs),\n",
    "                        name=self.name,\n",
    "                        aggregation='mean')\n",
    "        return inputs\n",
    "\n",
    "\n",
    "inputs = keras.Input(shape=(784, ), name='digits')\n",
    "x = layers.Dense(64, activation='relu', name='dense_1')(inputs)\n",
    "x = MetricLoggingLayer('std_of_activation_1')(x)\n",
    "x = layers.Dense(64, activation='relu', name='dense_2')(x)\n",
    "x = MetricLoggingLayer('std_of_activation_2')(x)\n",
    "outputs = layers.Dense(10, name='predictions')(x)\n",
    "outputs = MetricLoggingLayer('std_of_activation_3')(outputs)\n",
    "\n",
    "model = keras.Model(inputs=inputs, outputs=outputs)\n",
    "model.compile(\n",
    "    optimizer=keras.optimizers.RMSprop(learning_rate=1e-3),\n",
    "    loss=keras.losses.SparseCategoricalCrossentropy(from_logits=True))\n",
    "model.fit(x_train, y_train, batch_size=64, epochs=1)"
   ]
  },
  {
   "cell_type": "code",
   "execution_count": 302,
   "metadata": {},
   "outputs": [
    {
     "name": "stdout",
     "output_type": "stream",
     "text": [
      "Train on 50000 samples\n",
      "50000/50000 [==============================] - 1s 29us/sample - loss: 2.5605 - std_of_activation: 0.0358\n"
     ]
    },
    {
     "data": {
      "text/plain": [
       "<tensorflow.python.keras.callbacks.History at 0x15e8cf8d0>"
      ]
     },
     "execution_count": 302,
     "metadata": {},
     "output_type": "execute_result"
    }
   ],
   "source": [
    "inputs = keras.Input(shape=(784, ), name='digits')\n",
    "x1 = layers.Dense(64, activation='relu', name='dense_1')(inputs)\n",
    "x2 = layers.Dense(64, activation='relu', name='dense_2')(x1)\n",
    "outputs = layers.Dense(10, name='predictions')(x2)\n",
    "model = keras.Model(inputs=inputs, outputs=outputs)\n",
    "\n",
    "model.add_loss(tf.reduce_sum(x2) * 0.1)\n",
    "\n",
    "model.add_metric(keras.backend.std(outputs),\n",
    "                 name='std_of_activation',\n",
    "                 aggregation='mean')\n",
    "\n",
    "model.compile(\n",
    "    optimizer=keras.optimizers.RMSprop(1e-3),\n",
    "    loss=keras.losses.SparseCategoricalCrossentropy(from_logits=True))\n",
    "\n",
    "model.fit(x_train, y_train, batch_size=64, epochs=1)"
   ]
  },
  {
   "cell_type": "code",
   "execution_count": 303,
   "metadata": {},
   "outputs": [
    {
     "name": "stdout",
     "output_type": "stream",
     "text": [
      "Train on 40000 samples, validate on 10000 samples\n",
      "Epoch 1/5\n",
      "   64/40000 [..............................] - ETA: 4:44 - loss: 2.2946 - sparse_categorical_accuracy: 0.1250 - val_loss: 2.2518 - val_sparse_categorical_accuracy: 0.2103Epoch 2/5\n",
      "   64/40000 [..............................] - ETA: 1:16 - loss: 2.2735 - sparse_categorical_accuracy: 0.1719 - val_loss: 2.1643 - val_sparse_categorical_accuracy: 0.2615Epoch 3/5\n",
      "   64/40000 [..............................] - ETA: 1:19 - loss: 2.1780 - sparse_categorical_accuracy: 0.2188 - val_loss: 2.0845 - val_sparse_categorical_accuracy: 0.3615Epoch 4/5\n",
      "   64/40000 [..............................] - ETA: 1:19 - loss: 2.0731 - sparse_categorical_accuracy: 0.3438 - val_loss: 2.0063 - val_sparse_categorical_accuracy: 0.4165Epoch 5/5\n",
      "   64/40000 [..............................] - ETA: 1:27 - loss: 1.9701 - sparse_categorical_accuracy: 0.4219 - val_loss: 1.9202 - val_sparse_categorical_accuracy: 0.4396"
     ]
    },
    {
     "data": {
      "text/plain": [
       "<tensorflow.python.keras.callbacks.History at 0x15d762410>"
      ]
     },
     "execution_count": 303,
     "metadata": {},
     "output_type": "execute_result"
    }
   ],
   "source": [
    "model = get_compiled_model()\n",
    "model.fit(x_train,\n",
    "          y_train,\n",
    "          batch_size=64,\n",
    "          validation_split=0.2,\n",
    "          epochs=5,\n",
    "          steps_per_epoch=1)"
   ]
  },
  {
   "cell_type": "code",
   "execution_count": 394,
   "metadata": {},
   "outputs": [],
   "source": [
    "class WeightedBinaryCrossEntropy(keras.losses.Loss):\n",
    "    def __init__(self,\n",
    "                 pos_weight,\n",
    "                 weight,\n",
    "                 from_logits=False,\n",
    "                 reduction=keras.losses.Reduction.AUTO,\n",
    "                 name='weighted_binary_crossentropy'):\n",
    "\n",
    "        super().__init__(reduction=reduction, name=name)\n",
    "        self.pos_weight = pos_weight\n",
    "        self.weight = weight\n",
    "        self.from_logits = from_logits\n",
    "\n",
    "    def call(self, y_true, y_pred):\n",
    "        ce = tf.losses.binary_crossentropy(y_true,\n",
    "                                           y_pred,\n",
    "                                           from_logits=self.from_logits)[:,\n",
    "                                                                         None]\n",
    "        ce = self.weight * (ce * (1 - y_true) + self.pos_weight * ce *\n",
    "                            (y_true))\n",
    "\n",
    "        return ce"
   ]
  },
  {
   "cell_type": "code",
   "execution_count": 395,
   "metadata": {},
   "outputs": [],
   "source": [
    "class CategoricalFalsePositives(keras.metrics.Metric):\n",
    "    def __init__(self, feature, name='categorical_false_positives', **kwargs):\n",
    "        super(CategoricalFalsePositives, self).__init__(name=name, **kwargs)\n",
    "        self.true_positives = self.add_weight(name='tp', initializer='zeros')\n",
    "        self.feature = feature\n",
    "\n",
    "    def update_state(self, y_true, y_pred, sample_weight=None):\n",
    "        y_pred = tf.reshape(tf.argmax(y_pred, axis=1), shape=(-1, 1))\n",
    "        y_true = tf.reshape(tf.argmax(y_true, axis=1), shape=(-1, 1))\n",
    "\n",
    "        length = tf.cast(y_true, 'int32') == tf.constant(self.feature, 'int32')\n",
    "        values = tf.math.logical_and(\n",
    "            tf.cast(y_pred, 'int32') == tf.constant(self.feature, 'int32'),\n",
    "            tf.cast(y_true, 'int32') == tf.cast(y_pred, 'int32'))\n",
    "\n",
    "        values = tf.cast(values, 'float32')\n",
    "        length = tf.cast(length, 'float32')\n",
    "\n",
    "        if sample_weight is not None:\n",
    "            sample_weight = tf.cast(sample_weight, 'float32')\n",
    "            values = tf.multiply(values, sample_weight)\n",
    "\n",
    "        self.true_positives.assign_add(\n",
    "            tf.math.subtract(tf.reduce_sum(length), tf.reduce_sum(values)))\n",
    "\n",
    "    def result(self):\n",
    "        return self.true_positives\n",
    "\n",
    "    def reset_states(self):\n",
    "        self.true_positives.assign(0.)"
   ]
  },
  {
   "cell_type": "code",
   "execution_count": 396,
   "metadata": {},
   "outputs": [],
   "source": [
    "one_hot_y_train = tf.one_hot(y_train.astype(np.int32), depth=10)"
   ]
  },
  {
   "cell_type": "code",
   "execution_count": 404,
   "metadata": {},
   "outputs": [
    {
     "name": "stdout",
     "output_type": "stream",
     "text": [
      "Train on 45000 samples, validate on 5000 samples\n",
      "Epoch 1/10\n",
      "45000/45000 - 1s - loss: 0.1084 - categorical_false_positives: 422.0000 - acc: 0.8518 - val_loss: 0.0662 - val_categorical_false_positives: 10.0000 - val_acc: 0.9102\n",
      "Epoch 2/10\n",
      "45000/45000 - 1s - loss: 0.0452 - categorical_false_positives: 136.0000 - acc: 0.9380 - val_loss: 0.0516 - val_categorical_false_positives: 10.0000 - val_acc: 0.9328\n",
      "Epoch 3/10\n",
      "45000/45000 - 1s - loss: 0.0331 - categorical_false_positives: 122.0000 - acc: 0.9544 - val_loss: 0.0444 - val_categorical_false_positives: 9.0000 - val_acc: 0.9468\n",
      "Epoch 4/10\n",
      "45000/45000 - 1s - loss: 0.0265 - categorical_false_positives: 99.0000 - acc: 0.9645 - val_loss: 0.0432 - val_categorical_false_positives: 13.0000 - val_acc: 0.9484\n",
      "Epoch 5/10\n",
      "45000/45000 - 1s - loss: 0.0222 - categorical_false_positives: 91.0000 - acc: 0.9698 - val_loss: 0.0397 - val_categorical_false_positives: 6.0000 - val_acc: 0.9568\n",
      "Epoch 6/10\n",
      "45000/45000 - 1s - loss: 0.0190 - categorical_false_positives: 73.0000 - acc: 0.9746 - val_loss: 0.0385 - val_categorical_false_positives: 11.0000 - val_acc: 0.9596\n",
      "Epoch 7/10\n",
      "45000/45000 - 1s - loss: 0.0166 - categorical_false_positives: 67.0000 - acc: 0.9774 - val_loss: 0.0404 - val_categorical_false_positives: 7.0000 - val_acc: 0.9618\n",
      "Epoch 8/10\n",
      "45000/45000 - 1s - loss: 0.0147 - categorical_false_positives: 63.0000 - acc: 0.9810 - val_loss: 0.0426 - val_categorical_false_positives: 8.0000 - val_acc: 0.9618\n",
      "Epoch 9/10\n",
      "45000/45000 - 1s - loss: 0.0136 - categorical_false_positives: 59.0000 - acc: 0.9822 - val_loss: 0.0458 - val_categorical_false_positives: 3.0000 - val_acc: 0.9638\n",
      "Epoch 10/10\n",
      "45000/45000 - 1s - loss: 0.0117 - categorical_false_positives: 50.0000 - acc: 0.9852 - val_loss: 0.0445 - val_categorical_false_positives: 8.0000 - val_acc: 0.9636\n",
      "{'acc': [0.8518,\n",
      "         0.9379778,\n",
      "         0.95444447,\n",
      "         0.9645111,\n",
      "         0.96975553,\n",
      "         0.97455555,\n",
      "         0.9774,\n",
      "         0.981,\n",
      "         0.9822,\n",
      "         0.9851556],\n",
      " 'categorical_false_positives': [422.0,\n",
      "                                 136.0,\n",
      "                                 122.0,\n",
      "                                 99.0,\n",
      "                                 91.0,\n",
      "                                 73.0,\n",
      "                                 67.0,\n",
      "                                 63.0,\n",
      "                                 59.0,\n",
      "                                 50.0],\n",
      " 'loss': [0.10838124286631744,\n",
      "          0.04516366753213935,\n",
      "          0.0330535167992115,\n",
      "          0.026516893867899974,\n",
      "          0.02216818447758754,\n",
      "          0.01901143656923539,\n",
      "          0.016639971460029483,\n",
      "          0.014661486345529556,\n",
      "          0.013588206524815825,\n",
      "          0.011739218439161777],\n",
      " 'val_acc': [0.9102,\n",
      "             0.9328,\n",
      "             0.9468,\n",
      "             0.9484,\n",
      "             0.9568,\n",
      "             0.9596,\n",
      "             0.9618,\n",
      "             0.9618,\n",
      "             0.9638,\n",
      "             0.9636],\n",
      " 'val_categorical_false_positives': [10.0,\n",
      "                                     10.0,\n",
      "                                     9.0,\n",
      "                                     13.0,\n",
      "                                     6.0,\n",
      "                                     11.0,\n",
      "                                     7.0,\n",
      "                                     8.0,\n",
      "                                     3.0,\n",
      "                                     8.0],\n",
      " 'val_loss': [0.06615971043407917,\n",
      "              0.051621798641979695,\n",
      "              0.044357344584167006,\n",
      "              0.04317454473823309,\n",
      "              0.03965609352439642,\n",
      "              0.03854229529798031,\n",
      "              0.04039789857752621,\n",
      "              0.04258591929767281,\n",
      "              0.04577979987114668,\n",
      "              0.04450484504699707]}\n"
     ]
    }
   ],
   "source": [
    "model = get_uncompiled_model()\n",
    "model.compile(optimizer=keras.optimizers.RMSprop(learning_rate=1e-3),\n",
    "              loss=WeightedBinaryCrossEntropy(\n",
    "                  pos_weight=[100, 1, 1, 1, 1, 1, 1, 1, 1, 1],\n",
    "                  weight=[1, 1, 1, 1, 1, 1, 1, 1, 1, 1],\n",
    "                  from_logits=True),\n",
    "              metrics=[CategoricalFalsePositives(feature=1), 'acc'])\n",
    "history = model.fit(x_train,\n",
    "                    one_hot_y_train,\n",
    "                    batch_size=64,\n",
    "                    epochs=10,\n",
    "                    validation_split=0.1,\n",
    "                    verbose=2)\n",
    "pprint.pprint(history.history)"
   ]
  },
  {
   "cell_type": "code",
   "execution_count": 402,
   "metadata": {},
   "outputs": [
    {
     "data": {
      "text/plain": [
       "(array([0., 1., 2., 3., 4., 5., 6., 7., 8., 9.], dtype=float32),\n",
       " array([4932, 5678, 4968, 5101, 4859, 4506, 4951, 5175, 4842, 4988]))"
      ]
     },
     "execution_count": 402,
     "metadata": {},
     "output_type": "execute_result"
    }
   ],
   "source": [
    "np.unique(y_train, return_counts=True)"
   ]
  },
  {
   "cell_type": "markdown",
   "metadata": {},
   "source": [
    "### Training & evaluation from tf.data Datasets"
   ]
  },
  {
   "cell_type": "code",
   "execution_count": 420,
   "metadata": {},
   "outputs": [],
   "source": [
    "model = get_compiled_model()\n",
    "train_dataset = tf.data.Dataset.from_tensor_slices((x_train, y_train))\n",
    "train_dataset = train_dataset.shuffle(buffer_size=1024).batch(64)\n",
    "\n",
    "test_dataset = tf.data.Dataset.from_tensor_slices((x_test, y_test))\n",
    "test_dataset = test_dataset.batch(64)"
   ]
  },
  {
   "cell_type": "code",
   "execution_count": 422,
   "metadata": {},
   "outputs": [
    {
     "name": "stdout",
     "output_type": "stream",
     "text": [
      "Train for 782 steps\n",
      "Epoch 1/3\n",
      "782/782 [==============================] - 1s 1ms/step - loss: 0.2171 - sparse_categorical_accuracy: 0.9354\n",
      "Epoch 2/3\n",
      "782/782 [==============================] - 1s 1ms/step - loss: 0.1420 - sparse_categorical_accuracy: 0.9581\n",
      "Epoch 3/3\n",
      "782/782 [==============================] - 1s 1ms/step - loss: 0.1097 - sparse_categorical_accuracy: 0.9678\n",
      "157/157 [==============================] - 0s 656us/step - loss: 0.1120 - sparse_categorical_accuracy: 0.9672\n"
     ]
    },
    {
     "data": {
      "text/plain": [
       "{'loss': 0.11203732202163227, 'sparse_categorical_accuracy': 0.9672}"
      ]
     },
     "execution_count": 422,
     "metadata": {},
     "output_type": "execute_result"
    }
   ],
   "source": [
    "model.fit(train_dataset, epochs=3)\n",
    "result = model.evaluate(test_dataset)\n",
    "dict(zip(model.metrics_names, result))"
   ]
  },
  {
   "cell_type": "code",
   "execution_count": 421,
   "metadata": {},
   "outputs": [
    {
     "name": "stdout",
     "output_type": "stream",
     "text": [
      "Train for 100 steps\n",
      "Epoch 1/3\n",
      "100/100 [==============================] - 1s 5ms/step - loss: 0.7707 - sparse_categorical_accuracy: 0.7962\n",
      "Epoch 2/3\n",
      "100/100 [==============================] - 0s 2ms/step - loss: 0.3299 - sparse_categorical_accuracy: 0.9098\n",
      "Epoch 3/3\n",
      "100/100 [==============================] - 0s 2ms/step - loss: 0.2570 - sparse_categorical_accuracy: 0.9278\n",
      "157/157 [==============================] - 0s 1ms/step - loss: 0.2978 - sparse_categorical_accuracy: 0.9136\n"
     ]
    },
    {
     "data": {
      "text/plain": [
       "{'loss': 0.2978472929258066, 'sparse_categorical_accuracy': 0.9136}"
      ]
     },
     "execution_count": 421,
     "metadata": {},
     "output_type": "execute_result"
    }
   ],
   "source": [
    "model.fit(train_dataset.take(100), epochs=3)\n",
    "result = model.evaluate(test_dataset)\n",
    "dict(zip(model.metrics_names, result))"
   ]
  },
  {
   "cell_type": "code",
   "execution_count": 423,
   "metadata": {},
   "outputs": [
    {
     "name": "stdout",
     "output_type": "stream",
     "text": [
      "Train for 782 steps, validate for 157 steps\n",
      "Epoch 1/3\n",
      "782/782 [==============================] - 1s 2ms/step - loss: 0.3315 - sparse_categorical_accuracy: 0.9063 - val_loss: 0.1760 - val_sparse_categorical_accuracy: 0.9481\n",
      "Epoch 2/3\n",
      "782/782 [==============================] - 1s 1ms/step - loss: 0.1534 - sparse_categorical_accuracy: 0.9536 - val_loss: 0.1390 - val_sparse_categorical_accuracy: 0.9600\n",
      "Epoch 3/3\n",
      "782/782 [==============================] - 1s 1ms/step - loss: 0.1120 - sparse_categorical_accuracy: 0.9656 - val_loss: 0.1360 - val_sparse_categorical_accuracy: 0.9622\n"
     ]
    },
    {
     "data": {
      "text/plain": [
       "<tensorflow.python.keras.callbacks.History at 0x14db771d0>"
      ]
     },
     "execution_count": 423,
     "metadata": {},
     "output_type": "execute_result"
    }
   ],
   "source": [
    "model = get_compiled_model()\n",
    "\n",
    "train_dataset = tf.data.Dataset.from_tensor_slices((x_train, y_train))\n",
    "train_dataset = train_dataset.shuffle(buffer_size=1024).batch(64)\n",
    "\n",
    "val_dataset = tf.data.Dataset.from_tensor_slices((x_val, y_val))\n",
    "val_dataset = val_dataset.batch(64)\n",
    "\n",
    "model.fit(train_dataset, epochs=3, validation_data=val_dataset)"
   ]
  },
  {
   "cell_type": "code",
   "execution_count": 435,
   "metadata": {},
   "outputs": [],
   "source": [
    "class CategoricalFalsePositives(keras.metrics.Metric):\n",
    "    def __init__(self, feature, name='categorical_false_positives', **kwargs):\n",
    "        super(CategoricalFalsePositives, self).__init__(name=name, **kwargs)\n",
    "        self.true_positives = self.add_weight(name='tp', initializer='zeros')\n",
    "        self.feature = feature\n",
    "\n",
    "    def update_state(self, y_true, y_pred, sample_weight=None):\n",
    "        y_pred = tf.reshape(tf.argmax(y_pred, axis=1), shape=(-1, 1))\n",
    "\n",
    "        length = tf.cast(y_true, 'int32') == tf.constant(self.feature, 'int32')\n",
    "        values = tf.math.logical_and(\n",
    "            tf.cast(y_pred, 'int32') == tf.constant(self.feature, 'int32'),\n",
    "            tf.cast(y_true, 'int32') == tf.cast(y_pred, 'int32'))\n",
    "\n",
    "        values = tf.cast(values, 'float32')\n",
    "        length = tf.cast(length, 'float32')\n",
    "\n",
    "        if sample_weight is not None:\n",
    "            sample_weight = tf.cast(sample_weight, 'float32')\n",
    "            values = tf.multiply(values, sample_weight)\n",
    "\n",
    "        self.true_positives.assign_add(\n",
    "            tf.math.subtract(tf.reduce_sum(length), tf.reduce_sum(values)))\n",
    "\n",
    "    def result(self):\n",
    "        return self.true_positives\n",
    "\n",
    "    def reset_states(self):\n",
    "        self.true_positives.assign(0.)"
   ]
  },
  {
   "cell_type": "code",
   "execution_count": 443,
   "metadata": {},
   "outputs": [
    {
     "name": "stdout",
     "output_type": "stream",
     "text": [
      "WARNING:tensorflow:sample_weight modes were coerced from\n",
      "  ...\n",
      "    to  \n",
      "  ['...']\n",
      "Train on 50000 samples\n",
      "Epoch 1/4\n",
      "50000/50000 [==============================] - 1s 28us/sample - loss: 0.8404 - categorical_false_positives: 24.0000 - acc: 0.8251\n",
      "Epoch 2/4\n",
      "50000/50000 [==============================] - 1s 20us/sample - loss: 0.3941 - categorical_false_positives: 17.0000 - acc: 0.9188\n",
      "Epoch 3/4\n",
      "50000/50000 [==============================] - 1s 19us/sample - loss: 0.2939 - categorical_false_positives: 14.0000 - acc: 0.9399\n",
      "Epoch 4/4\n",
      "50000/50000 [==============================] - 1s 19us/sample - loss: 0.2480 - categorical_false_positives: 11.0000 - acc: 0.9510\n"
     ]
    },
    {
     "data": {
      "text/plain": [
       "<tensorflow.python.keras.callbacks.History at 0x15c2aab50>"
      ]
     },
     "execution_count": 443,
     "metadata": {},
     "output_type": "execute_result"
    }
   ],
   "source": [
    "model = get_uncompiled_model()\n",
    "\n",
    "model.compile(\n",
    "    optimizer=keras.optimizers.RMSprop(learning_rate=1e-3),\n",
    "    loss=keras.losses.SparseCategoricalCrossentropy(from_logits=True),\n",
    "    metrics=[CategoricalFalsePositives(feature=0), 'acc'])\n",
    "\n",
    "class_weight = {\n",
    "    0: 100.,\n",
    "    1: 1.,\n",
    "    2: 1.,\n",
    "    3: 1.,\n",
    "    4: 1.,\n",
    "    5: 1,\n",
    "    6: 1.,\n",
    "    7: 1.,\n",
    "    8: 1.,\n",
    "    9: 1.,\n",
    "}\n",
    "\n",
    "model.fit(x_train, y_train, class_weight=class_weight, batch_size=64, epochs=4)"
   ]
  },
  {
   "cell_type": "code",
   "execution_count": 453,
   "metadata": {},
   "outputs": [
    {
     "name": "stdout",
     "output_type": "stream",
     "text": [
      "WARNING:tensorflow:sample_weight modes were coerced from\n",
      "  ...\n",
      "    to  \n",
      "  ['...']\n",
      "Train on 50000 samples\n",
      "Epoch 1/4\n",
      "50000/50000 [==============================] - 1s 27us/sample - loss: 0.1447 - categorical_false_positives: 117.0000 - acc: 0.95820s - loss: 0.1471 - categorical_false_positives: 111.0000 - acc: 0.9\n",
      "Epoch 2/4\n",
      "50000/50000 [==============================] - 1s 21us/sample - loss: 0.1109 - categorical_false_positives: 98.0000 - acc: 0.9672\n",
      "Epoch 3/4\n",
      "50000/50000 [==============================] - 1s 21us/sample - loss: 0.0914 - categorical_false_positives: 79.0000 - acc: 0.9730\n",
      "Epoch 4/4\n",
      "50000/50000 [==============================] - 1s 20us/sample - loss: 0.0767 - categorical_false_positives: 66.0000 - acc: 0.9767\n"
     ]
    },
    {
     "data": {
      "text/plain": [
       "<tensorflow.python.keras.callbacks.History at 0x15ec30bd0>"
      ]
     },
     "execution_count": 453,
     "metadata": {},
     "output_type": "execute_result"
    }
   ],
   "source": [
    "sample_weight = np.ones(shape=(len(y_train), ))\n",
    "sample_weight[y_train == 0] = 2.\n",
    "\n",
    "model.fit(x_train,\n",
    "          y_train,\n",
    "          sample_weight=sample_weight,\n",
    "          batch_size=64,\n",
    "          epochs=4)"
   ]
  },
  {
   "cell_type": "code",
   "execution_count": 455,
   "metadata": {},
   "outputs": [
    {
     "name": "stdout",
     "output_type": "stream",
     "text": [
      "Train for 782 steps\n",
      "Epoch 1/3\n",
      "782/782 [==============================] - 2s 2ms/step - loss: 0.3448 - categorical_false_positives: 196.0000 - acc: 0.9026\n",
      "Epoch 2/3\n",
      "782/782 [==============================] - 1s 2ms/step - loss: 0.1648 - categorical_false_positives: 123.0000 - acc: 0.9505\n",
      "Epoch 3/3\n",
      "782/782 [==============================] - 1s 2ms/step - loss: 0.1206 - categorical_false_positives: 90.0000 - acc: 0.9639\n"
     ]
    },
    {
     "data": {
      "text/plain": [
       "<tensorflow.python.keras.callbacks.History at 0x16f646e90>"
      ]
     },
     "execution_count": 455,
     "metadata": {},
     "output_type": "execute_result"
    }
   ],
   "source": [
    "model = get_uncompiled_model()\n",
    "\n",
    "model.compile(\n",
    "    optimizer=keras.optimizers.RMSprop(learning_rate=1e-3),\n",
    "    loss=keras.losses.SparseCategoricalCrossentropy(from_logits=True),\n",
    "    metrics=[CategoricalFalsePositives(feature=0), 'acc'])\n",
    "\n",
    "sample_weight = np.ones(shape=(len(y_train), ))\n",
    "sample_weight[y_train == 0] = 1.\n",
    "\n",
    "train_dataset = tf.data.Dataset.from_tensor_slices(\n",
    "    (x_train, y_train, sample_weight))\n",
    "\n",
    "train_dataset = train_dataset.shuffle(buffer_size=50000).batch(64)\n",
    "\n",
    "model.fit(train_dataset, epochs=3)"
   ]
  },
  {
   "cell_type": "markdown",
   "metadata": {},
   "source": [
    "### Passing data to multi-input, multi-output models"
   ]
  },
  {
   "cell_type": "code",
   "execution_count": 462,
   "metadata": {},
   "outputs": [
    {
     "name": "stdout",
     "output_type": "stream",
     "text": [
      "Model: \"model_158\"\n",
      "__________________________________________________________________________________________________\n",
      "Layer (type)                    Output Shape         Param #     Connected to                     \n",
      "==================================================================================================\n",
      "img_input (InputLayer)          [(None, 32, 32, 3)]  0                                            \n",
      "__________________________________________________________________________________________________\n",
      "ts_input (InputLayer)           [(None, None, 10)]   0                                            \n",
      "__________________________________________________________________________________________________\n",
      "conv2d_6 (Conv2D)               (None, 30, 30, 3)    84          img_input[0][0]                  \n",
      "__________________________________________________________________________________________________\n",
      "conv1d_6 (Conv1D)               (None, None, 3)      93          ts_input[0][0]                   \n",
      "__________________________________________________________________________________________________\n",
      "global_max_pooling2d_6 (GlobalM (None, 3)            0           conv2d_6[0][0]                   \n",
      "__________________________________________________________________________________________________\n",
      "global_max_pooling1d_6 (GlobalM (None, 3)            0           conv1d_6[0][0]                   \n",
      "__________________________________________________________________________________________________\n",
      "concatenate_6 (Concatenate)     (None, 6)            0           global_max_pooling2d_6[0][0]     \n",
      "                                                                 global_max_pooling1d_6[0][0]     \n",
      "__________________________________________________________________________________________________\n",
      "score_output (Dense)            (None, 1)            7           concatenate_6[0][0]              \n",
      "__________________________________________________________________________________________________\n",
      "class_output (Dense)            (None, 5)            35          concatenate_6[0][0]              \n",
      "==================================================================================================\n",
      "Total params: 219\n",
      "Trainable params: 219\n",
      "Non-trainable params: 0\n",
      "__________________________________________________________________________________________________\n"
     ]
    },
    {
     "data": {
      "image/png": "[encoded data removed]",
      "text/plain": [
       "<IPython.core.display.Image object>"
      ]
     },
     "execution_count": 462,
     "metadata": {},
     "output_type": "execute_result"
    }
   ],
   "source": [
    "image_inputs = keras.Input(shape=(32, 32, 3), name='img_input')\n",
    "timeseries_inputs = keras.Input(shape=(None, 10), name='ts_input')\n",
    "\n",
    "x1 = layers.Conv2D(3, 3)(image_inputs)\n",
    "x1 = layers.GlobalMaxPooling2D()(x1)\n",
    "\n",
    "x2 = layers.Conv1D(3, 3)(timeseries_inputs)\n",
    "x2 = layers.GlobalMaxPooling1D()(x2)\n",
    "\n",
    "x = layers.concatenate([x1, x2])\n",
    "\n",
    "score_output = layers.Dense(1, name='score_output')(x)\n",
    "class_output = layers.Dense(5, name='class_output')(x)\n",
    "\n",
    "model = keras.Model(inputs=[image_inputs, timeseries_inputs],\n",
    "                    outputs=[score_output, class_output])\n",
    "model.summary()\n",
    "keras.utils.plot_model(model,\n",
    "                       'multi_input_and_output_model.png',\n",
    "                       show_shapes=True)"
   ]
  },
  {
   "cell_type": "code",
   "execution_count": 464,
   "metadata": {},
   "outputs": [],
   "source": [
    "model.compile(optimizer=keras.optimizers.RMSprop(1e-3),\n",
    "              loss=[\n",
    "                  keras.losses.MeanSquaredError(),\n",
    "                  keras.losses.CategoricalCrossentropy(from_logits=True)\n",
    "              ],\n",
    "              metrics=[[\n",
    "                  keras.metrics.MeanAbsolutePercentageError(),\n",
    "                  keras.metrics.MeanAbsoluteError()\n",
    "              ], [keras.metrics.CategoricalAccuracy()]])"
   ]
  },
  {
   "cell_type": "code",
   "execution_count": 467,
   "metadata": {},
   "outputs": [],
   "source": [
    "model.compile(optimizer=keras.optimizers.RMSprop(1e-3),\n",
    "              loss={\n",
    "                  'score_output':\n",
    "                  keras.losses.MeanSquaredError(),\n",
    "                  'class_output':\n",
    "                  keras.losses.CategoricalCrossentropy(from_logits=True)\n",
    "              },\n",
    "              metrics={\n",
    "                  'score_output': [\n",
    "                      keras.metrics.MeanAbsolutePercentageError(),\n",
    "                      keras.metrics.MeanAbsoluteError()\n",
    "                  ],\n",
    "                  'class_output': [keras.metrics.CategoricalAccuracy()]\n",
    "              },\n",
    "              loss_weights={\n",
    "                  'score_output': 2.,\n",
    "                  'class_output': 1.\n",
    "              })"
   ]
  },
  {
   "cell_type": "code",
   "execution_count": 466,
   "metadata": {},
   "outputs": [
    {
     "name": "stdout",
     "output_type": "stream",
     "text": [
      "WARNING:tensorflow:Output score_output missing from loss dictionary. We assume this was done on purpose. The fit and evaluate APIs will not be expecting any data to be passed to score_output.\n"
     ]
    }
   ],
   "source": [
    "# o loss para score_output não é calculado.\n",
    "model.compile(optimizer=keras.optimizers.RMSprop(1e-3),\n",
    "              loss={\n",
    "                  'class_output':\n",
    "                  keras.losses.CategoricalCrossentropy(from_logits=True)\n",
    "              })"
   ]
  },
  {
   "cell_type": "code",
   "execution_count": 468,
   "metadata": {},
   "outputs": [],
   "source": [
    "img_data = np.random.random_sample(size=(100, 32, 32, 3))\n",
    "ts_data = np.random.random_sample(size=(100, 20, 10))\n",
    "score_targets = np.random.random_sample(size=(100, 1))\n",
    "class_targets = np.random.random_sample(size=(100, 5))"
   ]
  },
  {
   "cell_type": "code",
   "execution_count": 469,
   "metadata": {},
   "outputs": [
    {
     "name": "stdout",
     "output_type": "stream",
     "text": [
      "Train on 100 samples\n",
      "Epoch 1/3\n",
      "100/100 [==============================] - 1s 7ms/sample - loss: 5.4463 - score_output_loss: 0.5584 - class_output_loss: 4.4680 - score_output_mean_absolute_percentage_error: 194.0124 - score_output_mean_absolute_error: 0.6597 - class_output_categorical_accuracy: 0.2000\n",
      "Epoch 2/3\n",
      "100/100 [==============================] - 0s 202us/sample - loss: 4.8317 - score_output_loss: 0.2672 - class_output_loss: 4.2578 - score_output_mean_absolute_percentage_error: 173.4042 - score_output_mean_absolute_error: 0.4418 - class_output_categorical_accuracy: 0.1900\n",
      "Epoch 3/3\n",
      "100/100 [==============================] - 0s 211us/sample - loss: 4.6129 - score_output_loss: 0.1748 - class_output_loss: 4.0732 - score_output_mean_absolute_percentage_error: 257.9428 - score_output_mean_absolute_error: 0.3661 - class_output_categorical_accuracy: 0.1800\n"
     ]
    },
    {
     "data": {
      "text/plain": [
       "<tensorflow.python.keras.callbacks.History at 0x163629510>"
      ]
     },
     "execution_count": 469,
     "metadata": {},
     "output_type": "execute_result"
    }
   ],
   "source": [
    "model.fit([img_data, ts_data], [score_targets, class_targets],\n",
    "          batch_size=32,\n",
    "          epochs=3)"
   ]
  },
  {
   "cell_type": "code",
   "execution_count": 470,
   "metadata": {},
   "outputs": [
    {
     "name": "stdout",
     "output_type": "stream",
     "text": [
      "Train on 100 samples\n",
      "Epoch 1/3\n",
      "100/100 [==============================] - 0s 253us/sample - loss: 4.5051 - score_output_loss: 0.1962 - class_output_loss: 4.1706 - score_output_mean_absolute_percentage_error: 307.4426 - score_output_mean_absolute_error: 0.3325 - class_output_categorical_accuracy: 0.1800\n",
      "Epoch 2/3\n",
      "100/100 [==============================] - 0s 212us/sample - loss: 4.4259 - score_output_loss: 0.1575 - class_output_loss: 4.1771 - score_output_mean_absolute_percentage_error: 360.0046 - score_output_mean_absolute_error: 0.3073 - class_output_categorical_accuracy: 0.1800\n",
      "Epoch 3/3\n",
      "100/100 [==============================] - 0s 261us/sample - loss: 4.3852 - score_output_loss: 0.1113 - class_output_loss: 3.9200 - score_output_mean_absolute_percentage_error: 368.8274 - score_output_mean_absolute_error: 0.3032 - class_output_categorical_accuracy: 0.1900\n"
     ]
    },
    {
     "data": {
      "text/plain": [
       "<tensorflow.python.keras.callbacks.History at 0x145641e10>"
      ]
     },
     "execution_count": 470,
     "metadata": {},
     "output_type": "execute_result"
    }
   ],
   "source": [
    "model.fit({\n",
    "    'img_input': img_data,\n",
    "    'ts_input': ts_data\n",
    "}, {\n",
    "    'score_output': score_targets,\n",
    "    'class_output': class_targets\n",
    "},\n",
    "          batch_size=32,\n",
    "          epochs=3)"
   ]
  },
  {
   "cell_type": "code",
   "execution_count": 474,
   "metadata": {},
   "outputs": [],
   "source": [
    "train_dataset = tf.data.Dataset.from_tensor_slices(({\n",
    "    'img_input': img_data,\n",
    "    'ts_input': ts_data\n",
    "}, {\n",
    "    'score_output':\n",
    "    score_targets,\n",
    "    'class_output':\n",
    "    class_targets\n",
    "}))\n",
    "train_dataset = train_dataset.shuffle(buffer_size=1024).batch(64)"
   ]
  },
  {
   "cell_type": "code",
   "execution_count": 475,
   "metadata": {},
   "outputs": [
    {
     "name": "stdout",
     "output_type": "stream",
     "text": [
      "Train for 2 steps\n",
      "Epoch 1/5\n",
      "2/2 [==============================] - 0s 219ms/step - loss: 4.3317 - score_output_loss: 0.1232 - class_output_loss: 4.0753 - score_output_mean_absolute_percentage_error: 382.7392 - score_output_mean_absolute_error: 0.2978 - class_output_categorical_accuracy: 0.1900\n",
      "Epoch 2/5\n",
      "2/2 [==============================] - 0s 14ms/step - loss: 4.3406 - score_output_loss: 0.1290 - class_output_loss: 4.0855 - score_output_mean_absolute_percentage_error: 384.2342 - score_output_mean_absolute_error: 0.2978 - class_output_categorical_accuracy: 0.2000\n",
      "Epoch 3/5\n",
      "2/2 [==============================] - 0s 17ms/step - loss: 4.2884 - score_output_loss: 0.1267 - class_output_loss: 4.0205 - score_output_mean_absolute_percentage_error: 380.1255 - score_output_mean_absolute_error: 0.2969 - class_output_categorical_accuracy: 0.2100\n",
      "Epoch 4/5\n",
      "2/2 [==============================] - 0s 15ms/step - loss: 4.2985 - score_output_loss: 0.1253 - class_output_loss: 4.0457 - score_output_mean_absolute_percentage_error: 381.7460 - score_output_mean_absolute_error: 0.2955 - class_output_categorical_accuracy: 0.2000\n",
      "Epoch 5/5\n",
      "2/2 [==============================] - 0s 12ms/step - loss: 4.2587 - score_output_loss: 0.1277 - class_output_loss: 3.9876 - score_output_mean_absolute_percentage_error: 387.1339 - score_output_mean_absolute_error: 0.2940 - class_output_categorical_accuracy: 0.2000\n"
     ]
    },
    {
     "data": {
      "text/plain": [
       "<tensorflow.python.keras.callbacks.History at 0x16f5295d0>"
      ]
     },
     "execution_count": 475,
     "metadata": {},
     "output_type": "execute_result"
    }
   ],
   "source": [
    "model.fit(train_dataset, epochs=5)"
   ]
  },
  {
   "cell_type": "markdown",
   "metadata": {},
   "source": [
    "### Using callbacks"
   ]
  },
  {
   "cell_type": "code",
   "execution_count": 478,
   "metadata": {},
   "outputs": [
    {
     "name": "stdout",
     "output_type": "stream",
     "text": [
      "Train on 40000 samples, validate on 10000 samples\n",
      "Epoch 1/20\n",
      "40000/40000 [==============================] - 1s 29us/sample - loss: 0.3727 - sparse_categorical_accuracy: 0.8948 - val_loss: 0.2549 - val_sparse_categorical_accuracy: 0.9255\n",
      "Epoch 2/20\n",
      "40000/40000 [==============================] - 1s 23us/sample - loss: 0.1774 - sparse_categorical_accuracy: 0.9477 - val_loss: 0.1764 - val_sparse_categorical_accuracy: 0.9474\n",
      "Epoch 3/20\n",
      "40000/40000 [==============================] - 1s 21us/sample - loss: 0.1280 - sparse_categorical_accuracy: 0.9627 - val_loss: 0.1599 - val_sparse_categorical_accuracy: 0.9511\n",
      "Epoch 4/20\n",
      "40000/40000 [==============================] - 1s 21us/sample - loss: 0.0999 - sparse_categorical_accuracy: 0.9708 - val_loss: 0.1431 - val_sparse_categorical_accuracy: 0.9561\n",
      "Epoch 5/20\n",
      "40000/40000 [==============================] - 1s 20us/sample - loss: 0.0811 - sparse_categorical_accuracy: 0.9755 - val_loss: 0.1407 - val_sparse_categorical_accuracy: 0.9589\n",
      "Epoch 6/20\n",
      "40000/40000 [==============================] - 1s 20us/sample - loss: 0.0675 - sparse_categorical_accuracy: 0.9792 - val_loss: 0.1341 - val_sparse_categorical_accuracy: 0.9627\n",
      "Epoch 00006: early stopping\n"
     ]
    },
    {
     "data": {
      "text/plain": [
       "<tensorflow.python.keras.callbacks.History at 0x1703c88d0>"
      ]
     },
     "execution_count": 478,
     "metadata": {},
     "output_type": "execute_result"
    }
   ],
   "source": [
    "model = get_compiled_model()\n",
    "\n",
    "callbacks = [\n",
    "    keras.callbacks.EarlyStopping(monitor='val_loss',\n",
    "                                  min_delta=1e-2,\n",
    "                                  patience=2,\n",
    "                                  verbose=1)\n",
    "]\n",
    "\n",
    "model.fit(x_train,\n",
    "          y_train,\n",
    "          epochs=20,\n",
    "          batch_size=64,\n",
    "          callbacks=callbacks,\n",
    "          validation_split=0.2)"
   ]
  },
  {
   "cell_type": "code",
   "execution_count": 495,
   "metadata": {},
   "outputs": [],
   "source": [
    "import matplotlib.pyplot as plt"
   ]
  },
  {
   "cell_type": "code",
   "execution_count": 525,
   "metadata": {},
   "outputs": [],
   "source": [
    "class LossHistory(keras.callbacks.Callback):\n",
    "    def __init__(self):\n",
    "        super(LossHistory, self).__init__()\n",
    "\n",
    "    def on_train_begin(self, logs):\n",
    "        self._losses = []\n",
    "        self._epochs = []\n",
    "\n",
    "    def on_batch_end(self, batch, logs):\n",
    "        self._losses.append((batch, logs.get('loss')))\n",
    "\n",
    "    def on_epoch_end(self, epoch, logs):\n",
    "        self._epochs.append((epoch, self._losses))\n",
    "        self._losses = []\n",
    "\n",
    "    def on_train_end(self, logs=None):\n",
    "        for epoch, data in self._epochs:\n",
    "            _data = np.array(data)\n",
    "            x = _data[:, 0]\n",
    "            y = _data[:, 1]\n",
    "            plt.figure()\n",
    "            plt.plot(x, y, '-', c='red')\n",
    "            plt.xlim((0, 650))\n",
    "            plt.ylim((0, 3))"
   ]
  },
  {
   "cell_type": "code",
   "execution_count": 526,
   "metadata": {},
   "outputs": [
    {
     "name": "stdout",
     "output_type": "stream",
     "text": [
      "Train on 40000 samples, validate on 10000 samples\n",
      "Epoch 1/3\n",
      "40000/40000 [==============================] - 1s 29us/sample - loss: 0.3630 - sparse_categorical_accuracy: 0.8997 - val_loss: 0.2396 - val_sparse_categorical_accuracy: 0.9275\n",
      "Epoch 2/3\n",
      "40000/40000 [==============================] - 1s 20us/sample - loss: 0.1715 - sparse_categorical_accuracy: 0.9499 - val_loss: 0.1768 - val_sparse_categorical_accuracy: 0.9461\n",
      "Epoch 3/3\n",
      "40000/40000 [==============================] - 1s 20us/sample - loss: 0.1255 - sparse_categorical_accuracy: 0.9621 - val_loss: 0.1619 - val_sparse_categorical_accuracy: 0.9515\n"
     ]
    },
    {
     "data": {
      "text/plain": [
       "<tensorflow.python.keras.callbacks.History at 0x170e65410>"
      ]
     },
     "execution_count": 526,
     "metadata": {},
     "output_type": "execute_result"
    },
    {
     "data": {
      "image/png": "[encoded data removed]",
      "text/plain": [
       "<Figure size 432x288 with 1 Axes>"
      ]
     },
     "metadata": {
      "needs_background": "light"
     },
     "output_type": "display_data"
    },
    {
     "data": {
      "image/png": "[encoded data removed]",
      "text/plain": [
       "<Figure size 432x288 with 1 Axes>"
      ]
     },
     "metadata": {
      "needs_background": "light"
     },
     "output_type": "display_data"
    },
    {
     "data": {
      "image/png": "[encoded data removed]",
      "text/plain": [
       "<Figure size 432x288 with 1 Axes>"
      ]
     },
     "metadata": {
      "needs_background": "light"
     },
     "output_type": "display_data"
    }
   ],
   "source": [
    "model = get_compiled_model()\n",
    "\n",
    "callbacks = [LossHistory()]\n",
    "\n",
    "model.fit(x_train,\n",
    "          y_train,\n",
    "          epochs=3,\n",
    "          batch_size=64,\n",
    "          callbacks=callbacks,\n",
    "          validation_split=0.2)"
   ]
  },
  {
   "cell_type": "markdown",
   "metadata": {},
   "source": [
    "### Checkpointing models"
   ]
  },
  {
   "cell_type": "code",
   "execution_count": 529,
   "metadata": {},
   "outputs": [
    {
     "name": "stdout",
     "output_type": "stream",
     "text": [
      "Train on 40000 samples, validate on 10000 samples\n",
      "Epoch 1/20\n",
      "37824/40000 [===========================>..] - ETA: 0s - loss: 0.3774 - sparse_categorical_accuracy: 0.8945\n",
      "Epoch 00001: val_loss improved from inf to 0.22753, saving model to mymodel_best\n",
      "INFO:tensorflow:Assets written to: mymodel_best/assets\n",
      "40000/40000 [==============================] - 2s 40us/sample - loss: 0.3678 - sparse_categorical_accuracy: 0.8970 - val_loss: 0.2275 - val_sparse_categorical_accuracy: 0.9317\n",
      "Epoch 2/20\n",
      "39808/40000 [============================>.] - ETA: 0s - loss: 0.1685 - sparse_categorical_accuracy: 0.9498\n",
      "Epoch 00002: val_loss improved from 0.22753 to 0.17673, saving model to mymodel_best\n",
      "INFO:tensorflow:Assets written to: mymodel_best/assets\n",
      "40000/40000 [==============================] - 1s 34us/sample - loss: 0.1683 - sparse_categorical_accuracy: 0.9499 - val_loss: 0.1767 - val_sparse_categorical_accuracy: 0.9462\n",
      "Epoch 3/20\n",
      "39488/40000 [============================>.] - ETA: 0s - loss: 0.1234 - sparse_categorical_accuracy: 0.9629\n",
      "Epoch 00003: val_loss improved from 0.17673 to 0.15848, saving model to mymodel_best\n",
      "INFO:tensorflow:Assets written to: mymodel_best/assets\n",
      "40000/40000 [==============================] - 1s 29us/sample - loss: 0.1227 - sparse_categorical_accuracy: 0.9632 - val_loss: 0.1585 - val_sparse_categorical_accuracy: 0.9504\n",
      "Epoch 4/20\n",
      "37440/40000 [===========================>..] - ETA: 0s - loss: 0.0970 - sparse_categorical_accuracy: 0.9702- ETA: 0s - loss: 0.0993 - sparse_categorical_accuracy: \n",
      "Epoch 00004: val_loss improved from 0.15848 to 0.13801, saving model to mymodel_best\n",
      "INFO:tensorflow:Assets written to: mymodel_best/assets\n",
      "40000/40000 [==============================] - 1s 31us/sample - loss: 0.0973 - sparse_categorical_accuracy: 0.9701 - val_loss: 0.1380 - val_sparse_categorical_accuracy: 0.9604\n",
      "Epoch 5/20\n",
      "38208/40000 [===========================>..] - ETA: 0s - loss: 0.0820 - sparse_categorical_accuracy: 0.9748\n",
      "Epoch 00005: val_loss did not improve from 0.13801\n",
      "40000/40000 [==============================] - 1s 22us/sample - loss: 0.0817 - sparse_categorical_accuracy: 0.9751 - val_loss: 0.1552 - val_sparse_categorical_accuracy: 0.9562\n",
      "Epoch 6/20\n",
      "38400/40000 [===========================>..] - ETA: 0s - loss: 0.0690 - sparse_categorical_accuracy: 0.9787\n",
      "Epoch 00006: val_loss improved from 0.13801 to 0.13372, saving model to mymodel_best\n",
      "INFO:tensorflow:Assets written to: mymodel_best/assets\n",
      "40000/40000 [==============================] - 1s 30us/sample - loss: 0.0691 - sparse_categorical_accuracy: 0.9789 - val_loss: 0.1337 - val_sparse_categorical_accuracy: 0.9601\n",
      "Epoch 7/20\n",
      "39744/40000 [============================>.] - ETA: 0s - loss: 0.0587 - sparse_categorical_accuracy: 0.9821\n",
      "Epoch 00007: val_loss did not improve from 0.13372\n",
      "40000/40000 [==============================] - 1s 24us/sample - loss: 0.0584 - sparse_categorical_accuracy: 0.9822 - val_loss: 0.1340 - val_sparse_categorical_accuracy: 0.9638\n",
      "Epoch 8/20\n",
      "39488/40000 [============================>.] - ETA: 0s - loss: 0.0507 - sparse_categorical_accuracy: 0.9845\n",
      "Epoch 00008: val_loss did not improve from 0.13372\n",
      "40000/40000 [==============================] - 1s 25us/sample - loss: 0.0510 - sparse_categorical_accuracy: 0.9844 - val_loss: 0.1403 - val_sparse_categorical_accuracy: 0.9642\n",
      "Epoch 9/20\n",
      "37760/40000 [===========================>..] - ETA: 0s - loss: 0.0437 - sparse_categorical_accuracy: 0.9867\n",
      "Epoch 00009: val_loss did not improve from 0.13372\n",
      "40000/40000 [==============================] - 1s 24us/sample - loss: 0.0439 - sparse_categorical_accuracy: 0.9868 - val_loss: 0.1403 - val_sparse_categorical_accuracy: 0.9643\n",
      "Epoch 10/20\n",
      "38272/40000 [===========================>..] - ETA: 0s - loss: 0.0395 - sparse_categorical_accuracy: 0.9880\n",
      "Epoch 00010: val_loss did not improve from 0.13372\n",
      "40000/40000 [==============================] - 1s 25us/sample - loss: 0.0391 - sparse_categorical_accuracy: 0.9882 - val_loss: 0.1412 - val_sparse_categorical_accuracy: 0.9656\n",
      "Epoch 11/20\n",
      "38528/40000 [===========================>..] - ETA: 0s - loss: 0.0333 - sparse_categorical_accuracy: 0.9900\n",
      "Epoch 00011: val_loss did not improve from 0.13372\n",
      "40000/40000 [==============================] - 1s 23us/sample - loss: 0.0333 - sparse_categorical_accuracy: 0.9898 - val_loss: 0.1410 - val_sparse_categorical_accuracy: 0.9676\n",
      "Epoch 12/20\n",
      "38528/40000 [===========================>..] - ETA: 0s - loss: 0.0304 - sparse_categorical_accuracy: 0.9909\n",
      "Epoch 00012: val_loss did not improve from 0.13372\n",
      "40000/40000 [==============================] - 1s 25us/sample - loss: 0.0305 - sparse_categorical_accuracy: 0.9908 - val_loss: 0.1487 - val_sparse_categorical_accuracy: 0.9670\n",
      "Epoch 13/20\n",
      "38464/40000 [===========================>..] - ETA: 0s - loss: 0.0264 - sparse_categorical_accuracy: 0.9917\n",
      "Epoch 00013: val_loss did not improve from 0.13372\n",
      "40000/40000 [==============================] - 1s 25us/sample - loss: 0.0260 - sparse_categorical_accuracy: 0.9918 - val_loss: 0.1624 - val_sparse_categorical_accuracy: 0.9655\n",
      "Epoch 14/20\n",
      "37760/40000 [===========================>..] - ETA: 0s - loss: 0.0225 - sparse_categorical_accuracy: 0.9930\n",
      "Epoch 00014: val_loss did not improve from 0.13372\n",
      "40000/40000 [==============================] - 1s 22us/sample - loss: 0.0231 - sparse_categorical_accuracy: 0.9927 - val_loss: 0.1726 - val_sparse_categorical_accuracy: 0.9644\n",
      "Epoch 15/20\n",
      "38656/40000 [===========================>..] - ETA: 0s - loss: 0.0198 - sparse_categorical_accuracy: 0.9938\n",
      "Epoch 00015: val_loss did not improve from 0.13372\n",
      "40000/40000 [==============================] - 1s 24us/sample - loss: 0.0196 - sparse_categorical_accuracy: 0.9938 - val_loss: 0.1803 - val_sparse_categorical_accuracy: 0.9650\n",
      "Epoch 16/20\n",
      "38592/40000 [===========================>..] - ETA: 0s - loss: 0.0168 - sparse_categorical_accuracy: 0.9950\n",
      "Epoch 00016: val_loss did not improve from 0.13372\n",
      "40000/40000 [==============================] - 1s 24us/sample - loss: 0.0175 - sparse_categorical_accuracy: 0.9948 - val_loss: 0.2041 - val_sparse_categorical_accuracy: 0.9610\n",
      "Epoch 17/20\n",
      "38528/40000 [===========================>..] - ETA: 0s - loss: 0.0157 - sparse_categorical_accuracy: 0.9949\n",
      "Epoch 00017: val_loss did not improve from 0.13372\n",
      "40000/40000 [==============================] - 1s 23us/sample - loss: 0.0156 - sparse_categorical_accuracy: 0.9949 - val_loss: 0.1970 - val_sparse_categorical_accuracy: 0.9630\n",
      "Epoch 18/20\n",
      "39232/40000 [============================>.] - ETA: 0s - loss: 0.0141 - sparse_categorical_accuracy: 0.9957\n",
      "Epoch 00018: val_loss did not improve from 0.13372\n",
      "40000/40000 [==============================] - 1s 21us/sample - loss: 0.0140 - sparse_categorical_accuracy: 0.9958 - val_loss: 0.1815 - val_sparse_categorical_accuracy: 0.9669\n",
      "Epoch 19/20\n",
      "39488/40000 [============================>.] - ETA: 0s - loss: 0.0122 - sparse_categorical_accuracy: 0.9956\n",
      "Epoch 00019: val_loss did not improve from 0.13372\n",
      "40000/40000 [==============================] - 1s 21us/sample - loss: 0.0123 - sparse_categorical_accuracy: 0.9956 - val_loss: 0.2052 - val_sparse_categorical_accuracy: 0.9626\n",
      "Epoch 20/20\n",
      "38464/40000 [===========================>..] - ETA: 0s - loss: 0.0106 - sparse_categorical_accuracy: 0.9967\n",
      "Epoch 00020: val_loss did not improve from 0.13372\n",
      "40000/40000 [==============================] - 1s 20us/sample - loss: 0.0106 - sparse_categorical_accuracy: 0.9967 - val_loss: 0.2050 - val_sparse_categorical_accuracy: 0.9674\n"
     ]
    },
    {
     "data": {
      "text/plain": [
       "<tensorflow.python.keras.callbacks.History at 0x173366d50>"
      ]
     },
     "execution_count": 529,
     "metadata": {},
     "output_type": "execute_result"
    }
   ],
   "source": [
    "model = get_compiled_model()\n",
    "\n",
    "callbacks = [\n",
    "    keras.callbacks.ModelCheckpoint(filepath='mymodel_best',\n",
    "                                    save_best_only=True,\n",
    "                                    monitor='val_loss',\n",
    "                                    verbose=1)\n",
    "]\n",
    "model.fit(x_train,\n",
    "          y_train,\n",
    "          epochs=20,\n",
    "          batch_size=64,\n",
    "          callbacks=callbacks,\n",
    "          validation_split=0.2)"
   ]
  },
  {
   "cell_type": "code",
   "execution_count": 536,
   "metadata": {},
   "outputs": [
    {
     "name": "stdout",
     "output_type": "stream",
     "text": [
      "50000/50000 [==============================] - 1s 20us/sample - loss: 0.0667 - sparse_categorical_accuracy: 0.9801\n"
     ]
    },
    {
     "data": {
      "text/plain": [
       "[0.06669620612971484, 0.98014]"
      ]
     },
     "execution_count": 536,
     "metadata": {},
     "output_type": "execute_result"
    }
   ],
   "source": [
    "model = keras.models.load_model('mymodel_best')\n",
    "model.evaluate(x_train, y_train)"
   ]
  },
  {
   "cell_type": "markdown",
   "metadata": {},
   "source": [
    "### Using learning rate schedules"
   ]
  },
  {
   "cell_type": "code",
   "execution_count": 538,
   "metadata": {},
   "outputs": [],
   "source": [
    "initial_learning_rate = 0.1\n",
    "lr_schedule = keras.optimizers.schedules.ExponentialDecay(\n",
    "    initial_learning_rate, decay_steps=100000, decay_rate=0.96, staircase=True)\n",
    "optimizer = keras.optimizers.RMSprop(learning_rate=lr_schedule)"
   ]
  },
  {
   "cell_type": "code",
   "execution_count": 542,
   "metadata": {},
   "outputs": [
    {
     "name": "stdout",
     "output_type": "stream",
     "text": [
      "Train on 50000 samples\n",
      "Epoch 1/5\n",
      "50000/50000 [==============================] - 2s 41us/sample - loss: 2.3249 - acc: 0.0971\n",
      "Epoch 2/5\n",
      "50000/50000 [==============================] - 2s 34us/sample - loss: 2.3026 - acc: 0.0972\n",
      "Epoch 3/5\n",
      "50000/50000 [==============================] - 2s 34us/sample - loss: 2.3026 - acc: 0.0972\n",
      "Epoch 4/5\n",
      "50000/50000 [==============================] - 2s 34us/sample - loss: 2.3026 - acc: 0.0972\n",
      "Epoch 5/5\n",
      "50000/50000 [==============================] - 2s 34us/sample - loss: 2.3026 - acc: 0.0972\n"
     ]
    },
    {
     "data": {
      "text/plain": [
       "<tensorflow.python.keras.callbacks.History at 0x170e6e0d0>"
      ]
     },
     "execution_count": 542,
     "metadata": {},
     "output_type": "execute_result"
    }
   ],
   "source": [
    "model = get_uncompiled_model()\n",
    "model.compile(optimizer=optimizer,\n",
    "              loss=tf.keras.losses.SparseCategoricalCrossentropy(),\n",
    "              metrics=['acc'])\n",
    "model.fit(x_train, y_train, epochs=5)"
   ]
  },
  {
   "cell_type": "code",
   "execution_count": 555,
   "metadata": {},
   "outputs": [
    {
     "name": "stdout",
     "output_type": "stream",
     "text": [
      "Train on 40000 samples, validate on 10000 samples\n",
      "Epoch 1/20\n",
      "40000/40000 [==============================] - 2s 50us/sample - loss: 0.3608 - sparse_categorical_accuracy: 0.8993 - val_loss: 0.3289 - val_sparse_categorical_accuracy: 0.9183\n",
      "Epoch 2/20\n",
      "40000/40000 [==============================] - 1s 37us/sample - loss: 0.2905 - sparse_categorical_accuracy: 0.9344 - val_loss: 0.3448 - val_sparse_categorical_accuracy: 0.9183\n",
      "Epoch 3/20\n",
      "39232/40000 [============================>.] - ETA: 0s - loss: 0.2826 - sparse_categorical_accuracy: 0.9402\n",
      "Epoch 00003: ReduceLROnPlateau reducing learning rate to 0.0019999999552965165.\n",
      "40000/40000 [==============================] - 2s 39us/sample - loss: 0.2839 - sparse_categorical_accuracy: 0.9402 - val_loss: 0.3657 - val_sparse_categorical_accuracy: 0.9194\n",
      "Epoch 4/20\n",
      "40000/40000 [==============================] - 2s 39us/sample - loss: 0.1465 - sparse_categorical_accuracy: 0.9670 - val_loss: 0.3441 - val_sparse_categorical_accuracy: 0.9552\n",
      "Epoch 5/20\n",
      "40000/40000 [==============================] - 2s 44us/sample - loss: 0.1270 - sparse_categorical_accuracy: 0.9729 - val_loss: 0.2969 - val_sparse_categorical_accuracy: 0.9555\n",
      "Epoch 6/20\n",
      "40000/40000 [==============================] - 2s 43us/sample - loss: 0.1120 - sparse_categorical_accuracy: 0.9754 - val_loss: 0.3605 - val_sparse_categorical_accuracy: 0.9565\n",
      "Epoch 7/20\n",
      "39008/40000 [============================>.] - ETA: 0s - loss: 0.1043 - sparse_categorical_accuracy: 0.9768\n",
      "Epoch 00007: ReduceLROnPlateau reducing learning rate to 0.0003999999724328518.\n",
      "40000/40000 [==============================] - 2s 39us/sample - loss: 0.1039 - sparse_categorical_accuracy: 0.9769 - val_loss: 0.3807 - val_sparse_categorical_accuracy: 0.9601\n",
      "Epoch 8/20\n",
      "40000/40000 [==============================] - 2s 40us/sample - loss: 0.0744 - sparse_categorical_accuracy: 0.9832 - val_loss: 0.3790 - val_sparse_categorical_accuracy: 0.9593\n",
      "Epoch 9/20\n",
      "39328/40000 [============================>.] - ETA: 0s - loss: 0.0716 - sparse_categorical_accuracy: 0.9838\n",
      "Epoch 00009: ReduceLROnPlateau reducing learning rate to 0.0001.\n",
      "40000/40000 [==============================] - 2s 41us/sample - loss: 0.0716 - sparse_categorical_accuracy: 0.9838 - val_loss: 0.3580 - val_sparse_categorical_accuracy: 0.9608\n",
      "Epoch 10/20\n",
      "40000/40000 [==============================] - 2s 44us/sample - loss: 0.0648 - sparse_categorical_accuracy: 0.9850 - val_loss: 0.3721 - val_sparse_categorical_accuracy: 0.9606\n",
      "Epoch 11/20\n",
      "40000/40000 [==============================] - 2s 43us/sample - loss: 0.0645 - sparse_categorical_accuracy: 0.9856 - val_loss: 0.3754 - val_sparse_categorical_accuracy: 0.9600\n",
      "Epoch 12/20\n",
      "40000/40000 [==============================] - 2s 39us/sample - loss: 0.0639 - sparse_categorical_accuracy: 0.9859 - val_loss: 0.3751 - val_sparse_categorical_accuracy: 0.9604\n",
      "Epoch 13/20\n",
      "40000/40000 [==============================] - 2s 41us/sample - loss: 0.0634 - sparse_categorical_accuracy: 0.9858 - val_loss: 0.3751 - val_sparse_categorical_accuracy: 0.9608\n",
      "Epoch 14/20\n",
      "40000/40000 [==============================] - 2s 42us/sample - loss: 0.0626 - sparse_categorical_accuracy: 0.9860 - val_loss: 0.3806 - val_sparse_categorical_accuracy: 0.9604\n",
      "Epoch 15/20\n",
      "40000/40000 [==============================] - 2s 43us/sample - loss: 0.0625 - sparse_categorical_accuracy: 0.9863 - val_loss: 0.3814 - val_sparse_categorical_accuracy: 0.9612\n",
      "Epoch 16/20\n",
      "40000/40000 [==============================] - 2s 42us/sample - loss: 0.0625 - sparse_categorical_accuracy: 0.9863 - val_loss: 0.3817 - val_sparse_categorical_accuracy: 0.9608\n",
      "Epoch 17/20\n",
      "40000/40000 [==============================] - 2s 42us/sample - loss: 0.0618 - sparse_categorical_accuracy: 0.9864 - val_loss: 0.3907 - val_sparse_categorical_accuracy: 0.9602\n",
      "Epoch 18/20\n",
      "40000/40000 [==============================] - 2s 42us/sample - loss: 0.0617 - sparse_categorical_accuracy: 0.9866 - val_loss: 0.3893 - val_sparse_categorical_accuracy: 0.9610\n",
      "Epoch 19/20\n",
      "40000/40000 [==============================] - 2s 42us/sample - loss: 0.0609 - sparse_categorical_accuracy: 0.9866 - val_loss: 0.3910 - val_sparse_categorical_accuracy: 0.9617\n",
      "Epoch 20/20\n",
      "40000/40000 [==============================] - 2s 48us/sample - loss: 0.0608 - sparse_categorical_accuracy: 0.9868 - val_loss: 0.3942 - val_sparse_categorical_accuracy: 0.9614\n"
     ]
    },
    {
     "data": {
      "text/plain": [
       "<tensorflow.python.keras.callbacks.History at 0x171ddc210>"
      ]
     },
     "execution_count": 555,
     "metadata": {},
     "output_type": "execute_result"
    }
   ],
   "source": [
    "model = get_compiled_model()\n",
    "\n",
    "reduce_lr = tf.keras.callbacks.ReduceLROnPlateau(monitor='val_loss',\n",
    "                                                 factor=0.2,\n",
    "                                                 patience=2,\n",
    "                                                 min_lr=0.0001,\n",
    "                                                 verbose=1,\n",
    "                                                 cooldown=1)\n",
    "\n",
    "model.fit(x_train,\n",
    "          y_train,\n",
    "          epochs=20,\n",
    "          callbacks=[reduce_lr],\n",
    "          validation_split=0.2)"
   ]
  },
  {
   "cell_type": "markdown",
   "metadata": {},
   "source": [
    "### Using the TensorBoard callback"
   ]
  },
  {
   "cell_type": "code",
   "execution_count": 558,
   "metadata": {},
   "outputs": [
    {
     "name": "stdout",
     "output_type": "stream",
     "text": [
      "Train on 50000 samples\n",
      "Epoch 1/10\n",
      "50000/50000 [==============================] - 2s 43us/sample - loss: 0.1232 - sparse_categorical_accuracy: 0.9818\n",
      "Epoch 2/10\n",
      "50000/50000 [==============================] - 2s 40us/sample - loss: 0.1180 - sparse_categorical_accuracy: 0.9816\n",
      "Epoch 3/10\n",
      "50000/50000 [==============================] - 2s 39us/sample - loss: 0.1156 - sparse_categorical_accuracy: 0.9818\n",
      "Epoch 4/10\n",
      "50000/50000 [==============================] - 2s 39us/sample - loss: 0.1127 - sparse_categorical_accuracy: 0.9817\n",
      "Epoch 5/10\n",
      "50000/50000 [==============================] - 2s 39us/sample - loss: 0.1113 - sparse_categorical_accuracy: 0.9818\n",
      "Epoch 6/10\n",
      "50000/50000 [==============================] - 2s 39us/sample - loss: 0.1096 - sparse_categorical_accuracy: 0.9820\n",
      "Epoch 7/10\n",
      "50000/50000 [==============================] - 2s 39us/sample - loss: 0.1089 - sparse_categorical_accuracy: 0.9822\n",
      "Epoch 8/10\n",
      "50000/50000 [==============================] - 2s 39us/sample - loss: 0.1066 - sparse_categorical_accuracy: 0.9821\n",
      "Epoch 9/10\n",
      "50000/50000 [==============================] - 2s 39us/sample - loss: 0.1055 - sparse_categorical_accuracy: 0.9825\n",
      "Epoch 10/10\n",
      "50000/50000 [==============================] - 2s 39us/sample - loss: 0.1040 - sparse_categorical_accuracy: 0.9824\n"
     ]
    },
    {
     "data": {
      "text/plain": [
       "<tensorflow.python.keras.callbacks.History at 0x173d88050>"
      ]
     },
     "execution_count": 558,
     "metadata": {},
     "output_type": "execute_result"
    }
   ],
   "source": [
    "tensorflow_cbk = tf.keras.callbacks.TensorBoard(log_dir='./logs')\n",
    "model.fit(x_train, y_train, epochs=10, callbacks=[tensorflow_cbk])"
   ]
  },
  {
   "cell_type": "code",
   "execution_count": 562,
   "metadata": {},
   "outputs": [
    {
     "name": "stdout",
     "output_type": "stream",
     "text": [
      "Train on 45000 samples, validate on 5000 samples\n",
      "Epoch 1/30\n",
      "45000/45000 [==============================] - 2s 49us/sample - loss: 0.3519 - sparse_categorical_accuracy: 0.9036 - val_loss: 0.3414 - val_sparse_categorical_accuracy: 0.9288\n",
      "Epoch 2/30\n",
      "45000/45000 [==============================] - 2s 42us/sample - loss: 0.2883 - sparse_categorical_accuracy: 0.9373 - val_loss: 0.5164 - val_sparse_categorical_accuracy: 0.9170\n",
      "Epoch 3/30\n",
      "44064/45000 [============================>.] - ETA: 0s - loss: 0.2914 - sparse_categorical_accuracy: 0.9390\n",
      "Epoch 00003: ReduceLROnPlateau reducing learning rate to 0.0019999999552965165.\n",
      "45000/45000 [==============================] - 2s 43us/sample - loss: 0.2918 - sparse_categorical_accuracy: 0.9388 - val_loss: 0.4951 - val_sparse_categorical_accuracy: 0.9060\n",
      "Epoch 4/30\n",
      "45000/45000 [==============================] - 2s 42us/sample - loss: 0.1570 - sparse_categorical_accuracy: 0.9663 - val_loss: 0.2832 - val_sparse_categorical_accuracy: 0.9510\n",
      "Epoch 5/30\n",
      "45000/45000 [==============================] - 2s 44us/sample - loss: 0.1283 - sparse_categorical_accuracy: 0.9720 - val_loss: 0.3038 - val_sparse_categorical_accuracy: 0.9518\n",
      "Epoch 6/30\n",
      "44896/45000 [============================>.] - ETA: 0s - loss: 0.1181 - sparse_categorical_accuracy: 0.9743\n",
      "Epoch 00006: ReduceLROnPlateau reducing learning rate to 0.0003999999724328518.\n",
      "45000/45000 [==============================] - 2s 43us/sample - loss: 0.1183 - sparse_categorical_accuracy: 0.9744 - val_loss: 0.3572 - val_sparse_categorical_accuracy: 0.9514\n",
      "Epoch 7/30\n",
      "45000/45000 [==============================] - 2s 45us/sample - loss: 0.0907 - sparse_categorical_accuracy: 0.9804 - val_loss: 0.3583 - val_sparse_categorical_accuracy: 0.9538\n",
      "Epoch 8/30\n",
      "44512/45000 [============================>.] - ETA: 0s - loss: 0.0853 - sparse_categorical_accuracy: 0.9815\n",
      "Epoch 00008: ReduceLROnPlateau reducing learning rate to 7.999999215826393e-05.\n",
      "45000/45000 [==============================] - 2s 44us/sample - loss: 0.0851 - sparse_categorical_accuracy: 0.9816 - val_loss: 0.3645 - val_sparse_categorical_accuracy: 0.9544\n",
      "Epoch 9/30\n",
      "45000/45000 [==============================] - 2s 44us/sample - loss: 0.0771 - sparse_categorical_accuracy: 0.9835 - val_loss: 0.3712 - val_sparse_categorical_accuracy: 0.9562\n",
      "Epoch 10/30\n",
      "44064/45000 [============================>.] - ETA: 0s - loss: 0.0762 - sparse_categorical_accuracy: 0.9839\n",
      "Epoch 00010: ReduceLROnPlateau reducing learning rate to 1.599999814061448e-05.\n",
      "45000/45000 [==============================] - 2s 44us/sample - loss: 0.0770 - sparse_categorical_accuracy: 0.9838 - val_loss: 0.3771 - val_sparse_categorical_accuracy: 0.9558\n",
      "Epoch 11/30\n",
      "45000/45000 [==============================] - 2s 44us/sample - loss: 0.0756 - sparse_categorical_accuracy: 0.9842 - val_loss: 0.3782 - val_sparse_categorical_accuracy: 0.9558\n",
      "Epoch 12/30\n",
      "44448/45000 [============================>.] - ETA: 0s - loss: 0.0736 - sparse_categorical_accuracy: 0.9844\n",
      "Epoch 00012: ReduceLROnPlateau reducing learning rate to 1e-05.\n",
      "45000/45000 [==============================] - 2s 44us/sample - loss: 0.0753 - sparse_categorical_accuracy: 0.9844 - val_loss: 0.3793 - val_sparse_categorical_accuracy: 0.9564\n",
      "Epoch 13/30\n",
      "45000/45000 [==============================] - 2s 43us/sample - loss: 0.0751 - sparse_categorical_accuracy: 0.9844 - val_loss: 0.3796 - val_sparse_categorical_accuracy: 0.9564\n",
      "Epoch 14/30\n",
      "45000/45000 [==============================] - 2s 44us/sample - loss: 0.0750 - sparse_categorical_accuracy: 0.9844 - val_loss: 0.3804 - val_sparse_categorical_accuracy: 0.9562\n",
      "Epoch 15/30\n",
      "45000/45000 [==============================] - 2s 44us/sample - loss: 0.0750 - sparse_categorical_accuracy: 0.9844 - val_loss: 0.3809 - val_sparse_categorical_accuracy: 0.9562\n",
      "Epoch 16/30\n",
      "45000/45000 [==============================] - 2s 43us/sample - loss: 0.0751 - sparse_categorical_accuracy: 0.9844 - val_loss: 0.3812 - val_sparse_categorical_accuracy: 0.9558\n",
      "Epoch 17/30\n",
      "45000/45000 [==============================] - 2s 43us/sample - loss: 0.0751 - sparse_categorical_accuracy: 0.9844 - val_loss: 0.3815 - val_sparse_categorical_accuracy: 0.9562\n",
      "Epoch 18/30\n",
      "45000/45000 [==============================] - 2s 45us/sample - loss: 0.0750 - sparse_categorical_accuracy: 0.9844 - val_loss: 0.3817 - val_sparse_categorical_accuracy: 0.9564\n",
      "Epoch 19/30\n",
      "45000/45000 [==============================] - 2s 43us/sample - loss: 0.0750 - sparse_categorical_accuracy: 0.9845 - val_loss: 0.3820 - val_sparse_categorical_accuracy: 0.9564\n",
      "Epoch 20/30\n",
      "45000/45000 [==============================] - 2s 42us/sample - loss: 0.0749 - sparse_categorical_accuracy: 0.9844 - val_loss: 0.3822 - val_sparse_categorical_accuracy: 0.9560\n",
      "Epoch 21/30\n",
      "45000/45000 [==============================] - 2s 43us/sample - loss: 0.0748 - sparse_categorical_accuracy: 0.9844 - val_loss: 0.3824 - val_sparse_categorical_accuracy: 0.9558\n",
      "Epoch 22/30\n",
      "45000/45000 [==============================] - 2s 45us/sample - loss: 0.0748 - sparse_categorical_accuracy: 0.9845 - val_loss: 0.3826 - val_sparse_categorical_accuracy: 0.9558\n",
      "Epoch 23/30\n",
      "45000/45000 [==============================] - 2s 43us/sample - loss: 0.0747 - sparse_categorical_accuracy: 0.9845 - val_loss: 0.3825 - val_sparse_categorical_accuracy: 0.9558\n",
      "Epoch 24/30\n",
      "45000/45000 [==============================] - 2s 46us/sample - loss: 0.0748 - sparse_categorical_accuracy: 0.9845 - val_loss: 0.3829 - val_sparse_categorical_accuracy: 0.9558\n",
      "Epoch 25/30\n",
      "45000/45000 [==============================] - 2s 48us/sample - loss: 0.0746 - sparse_categorical_accuracy: 0.9845 - val_loss: 0.3832 - val_sparse_categorical_accuracy: 0.9554\n",
      "Epoch 26/30\n",
      "45000/45000 [==============================] - 2s 43us/sample - loss: 0.0747 - sparse_categorical_accuracy: 0.9845 - val_loss: 0.3834 - val_sparse_categorical_accuracy: 0.9558\n",
      "Epoch 27/30\n",
      "45000/45000 [==============================] - 2s 40us/sample - loss: 0.0745 - sparse_categorical_accuracy: 0.9846 - val_loss: 0.3839 - val_sparse_categorical_accuracy: 0.9560\n",
      "Epoch 28/30\n",
      "45000/45000 [==============================] - 2s 49us/sample - loss: 0.0746 - sparse_categorical_accuracy: 0.9846 - val_loss: 0.3839 - val_sparse_categorical_accuracy: 0.9560\n",
      "Epoch 29/30\n",
      "45000/45000 [==============================] - 2s 41us/sample - loss: 0.0745 - sparse_categorical_accuracy: 0.9847 - val_loss: 0.3841 - val_sparse_categorical_accuracy: 0.9554\n",
      "Epoch 30/30\n",
      "45000/45000 [==============================] - 2s 40us/sample - loss: 0.0744 - sparse_categorical_accuracy: 0.9847 - val_loss: 0.3844 - val_sparse_categorical_accuracy: 0.9552\n"
     ]
    },
    {
     "data": {
      "text/plain": [
       "<tensorflow.python.keras.callbacks.History at 0x175dcf990>"
      ]
     },
     "execution_count": 562,
     "metadata": {},
     "output_type": "execute_result"
    }
   ],
   "source": [
    "model = get_compiled_model()\n",
    "\n",
    "reduce_lr = tf.keras.callbacks.ReduceLROnPlateau(monitor='val_loss',\n",
    "                                                 factor=0.2,\n",
    "                                                 patience=2,\n",
    "                                                 min_lr=0.00001,\n",
    "                                                 verbose=1,\n",
    "                                                 cooldown=1)\n",
    "\n",
    "tensorflow_cbk = tf.keras.callbacks.TensorBoard(log_dir='./logs',\n",
    "                                                histogram_freq=0,\n",
    "                                                embeddings_freq=0,\n",
    "                                                update_freq='epoch')\n",
    "model.fit(x_train,\n",
    "          y_train,\n",
    "          epochs=30,\n",
    "          callbacks=[tensorflow_cbk, reduce_lr],\n",
    "          validation_split=0.1)"
   ]
  },
  {
   "cell_type": "markdown",
   "metadata": {},
   "source": [
    "### Using the GradientTape: a first end-to-end example"
   ]
  },
  {
   "cell_type": "code",
   "execution_count": 563,
   "metadata": {},
   "outputs": [],
   "source": [
    "inputs = keras.Input(shape=(784, ), name='digits')\n",
    "x = layers.Dense(64, activation='relu', name='dense_1')(inputs)\n",
    "x = layers.Dense(64, activation='relu', name='dense_2')(x)\n",
    "outputs = layers.Dense(10, name='predictions')(x)\n",
    "model = keras.Model(inputs=inputs, outputs=outputs)"
   ]
  },
  {
   "cell_type": "code",
   "execution_count": 564,
   "metadata": {},
   "outputs": [],
   "source": [
    "optimizer = keras.optimizers.SGD(learning_rate=1e-3)\n",
    "loss_fn = keras.losses.SparseCategoricalCrossentropy(from_logits=True)"
   ]
  },
  {
   "cell_type": "code",
   "execution_count": 565,
   "metadata": {},
   "outputs": [],
   "source": [
    "batch_size = 64\n",
    "train_dataset = tf.data.Dataset.from_tensor_slices((x_train, y_train))\n",
    "train_dataset = train_dataset.shuffle(buffer_size=1024).batch(batch_size)"
   ]
  },
  {
   "cell_type": "code",
   "execution_count": 569,
   "metadata": {},
   "outputs": [
    {
     "name": "stdout",
     "output_type": "stream",
     "text": [
      "Start of epoch: 0\n",
      "Training loss (for one batch) at step 0: 0.7491543889045715\n",
      "Seen so far: 64 samples\n",
      "Training loss (for one batch) at step 200: 0.7220100164413452\n",
      "Seen so far: 12864 samples\n",
      "Training loss (for one batch) at step 400: 0.8633203506469727\n",
      "Seen so far: 25664 samples\n",
      "Training loss (for one batch) at step 600: 0.6302273273468018\n",
      "Seen so far: 38464 samples\n",
      "Start of epoch: 1\n",
      "Training loss (for one batch) at step 0: 0.7243016958236694\n",
      "Seen so far: 64 samples\n",
      "Training loss (for one batch) at step 200: 0.7709014415740967\n",
      "Seen so far: 12864 samples\n",
      "Training loss (for one batch) at step 400: 0.5377602577209473\n",
      "Seen so far: 25664 samples\n",
      "Training loss (for one batch) at step 600: 0.6249507665634155\n",
      "Seen so far: 38464 samples\n",
      "Start of epoch: 2\n",
      "Training loss (for one batch) at step 0: 0.507185161113739\n",
      "Seen so far: 64 samples\n",
      "Training loss (for one batch) at step 200: 0.4987650215625763\n",
      "Seen so far: 12864 samples\n",
      "Training loss (for one batch) at step 400: 0.5248315334320068\n",
      "Seen so far: 25664 samples\n",
      "Training loss (for one batch) at step 600: 0.5575383901596069\n",
      "Seen so far: 38464 samples\n"
     ]
    }
   ],
   "source": [
    "epochs = 3\n",
    "for epoch in range(epochs):\n",
    "    print('Start of epoch: %d' % (epoch, ))\n",
    "\n",
    "    for step, (x_batch_train, y_batch_train) in enumerate(train_dataset):\n",
    "        with tf.GradientTape() as tape:\n",
    "            logits = model(x_batch_train, training=True)\n",
    "            loss_value = loss_fn(y_batch_train, logits)\n",
    "            grads = tape.gradient(loss_value, model.trainable_weights)\n",
    "        optimizer.apply_gradients(zip(grads, model.trainable_weights))\n",
    "        if step % 200 == 0:\n",
    "            print('Training loss (for one batch) at step %s: %s' %\n",
    "                  (step, float(loss_value)))\n",
    "            print('Seen so far: %s samples' % ((step + 1) * 64))"
   ]
  },
  {
   "cell_type": "code",
   "execution_count": 578,
   "metadata": {},
   "outputs": [
    {
     "name": "stdout",
     "output_type": "stream",
     "text": [
      "Start of epoch: 0\n",
      "Training acc over epoch: 0.24860000610351562\n",
      "Validation acc over epoch: 0.3407000005245209\n",
      "Start of epoch: 1\n",
      "Training acc over epoch: 0.4208199977874756\n",
      "Validation acc over epoch: 0.5393999814987183\n",
      "Start of epoch: 2\n",
      "Training acc over epoch: 0.6335399746894836\n",
      "Validation acc over epoch: 0.7303000092506409\n"
     ]
    }
   ],
   "source": [
    "inputs = keras.Input(shape=(784, ), name='digits')\n",
    "x = layers.Dense(64, activation='relu', name='dense_1')(inputs)\n",
    "x = layers.Dense(64, activation='relu', name='dense_2')(x)\n",
    "outputs = layers.Dense(10, name='predictions')(x)\n",
    "model = keras.Model(inputs=inputs, outputs=outputs)\n",
    "\n",
    "optimizer = keras.optimizers.SGD(learning_rate=1e-3)\n",
    "loss_fn = keras.losses.SparseCategoricalCrossentropy(from_logits=True)\n",
    "\n",
    "batch_size = 64\n",
    "train_dataset = tf.data.Dataset.from_tensor_slices((x_train, y_train))\n",
    "train_dataset = train_dataset.shuffle(buffer_size=1024).batch(batch_size)\n",
    "\n",
    "val_dataset = tf.data.Dataset.from_tensor_slices((x_val, y_val))\n",
    "val_dataset = val_dataset.batch(64)\n",
    "\n",
    "train_acc_metric = keras.metrics.SparseCategoricalAccuracy()\n",
    "val_acc_metric = keras.metrics.SparseCategoricalAccuracy()\n",
    "\n",
    "epochs = 3\n",
    "for epoch in range(epochs):\n",
    "    print('Start of epoch: %d' % (epoch, ))\n",
    "\n",
    "    for step, (x_batch_train, y_batch_train) in enumerate(train_dataset):\n",
    "        with tf.GradientTape() as tape:\n",
    "            logits = model(x_batch_train, training=True)\n",
    "            loss_value = loss_fn(y_batch_train, logits)\n",
    "            grads = tape.gradient(loss_value, model.trainable_weights)\n",
    "        optimizer.apply_gradients(zip(grads, model.trainable_weights))\n",
    "\n",
    "        train_acc_metric(y_batch_train, logits)\n",
    "\n",
    "        #if step % 200 == 0:\n",
    "        #print('Training loss (for one batch) at step %s: %s' % (step, float(loss_value)))\n",
    "        #print('Seen so far: %s samples' % ((step + 1) * 64))\n",
    "    train_acc = train_acc_metric.result()\n",
    "    print('Training acc over epoch: %s' % (float(train_acc), ))\n",
    "    train_acc_metric.reset_states()\n",
    "\n",
    "    for x_batch_val, y_batch_val in val_dataset:\n",
    "        val_logits = model(x_batch_val)\n",
    "        val_acc_metric(y_batch_val, val_logits)\n",
    "    val_acc = val_acc_metric.result()\n",
    "    print('Validation acc over epoch: %s' % (float(val_acc), ))\n",
    "    val_acc_metric.reset_states()"
   ]
  },
  {
   "cell_type": "markdown",
   "metadata": {},
   "source": [
    "### Low-level handling of extra losses"
   ]
  },
  {
   "cell_type": "code",
   "execution_count": 579,
   "metadata": {},
   "outputs": [],
   "source": [
    "class ActivityRegularizationLayer(layers.Layer):\n",
    "    def call(self, inputs):\n",
    "        self.add_loss(1e-2 * tf.reduce_sum(inputs))\n",
    "        return inputs"
   ]
  },
  {
   "cell_type": "code",
   "execution_count": 580,
   "metadata": {},
   "outputs": [],
   "source": [
    "\n",
    "inputs = keras.Input(shape=(784,), name='digits')\n",
    "x = layers.Dense(64, activation='relu', name='dense_1')(inputs)\n",
    "x = ActivityRegularizationLayer()(x)\n",
    "x = layers.Dense(64, activation='relu', name='dense_2')(x)\n",
    "outputs = layers.Dense(10, name='predictions')(x)\n",
    "\n",
    "model = keras.Model(inputs=inputs, outputs=outputs)"
   ]
  },
  {
   "cell_type": "code",
   "execution_count": 581,
   "metadata": {},
   "outputs": [
    {
     "data": {
      "text/plain": [
       "[<tf.Tensor: shape=(), dtype=float32, numpy=6.991987>]"
      ]
     },
     "execution_count": 581,
     "metadata": {},
     "output_type": "execute_result"
    }
   ],
   "source": [
    "logits = model(x_train)\n",
    "logits = model(x_train[:64])\n",
    "model.losses"
   ]
  },
  {
   "cell_type": "code",
   "execution_count": 584,
   "metadata": {},
   "outputs": [
    {
     "name": "stdout",
     "output_type": "stream",
     "text": [
      "[<tf.Tensor: shape=(), dtype=float32, numpy=6.991987>]\n",
      "[<tf.Tensor: shape=(), dtype=float32, numpy=7.26926>]\n",
      "[<tf.Tensor: shape=(), dtype=float32, numpy=7.3501315>]\n"
     ]
    }
   ],
   "source": [
    "logits = model(x_train[:64])\n",
    "print(model.losses)\n",
    "logits = model(x_train[64: 128])\n",
    "print(model.losses)\n",
    "logits = model(x_train[128: 192])\n",
    "print(model.losses)"
   ]
  },
  {
   "cell_type": "code",
   "execution_count": 591,
   "metadata": {},
   "outputs": [
    {
     "name": "stdout",
     "output_type": "stream",
     "text": [
      "Start of epoch: 0\n",
      "Training acc over epoch: 0.2712799906730652\n",
      "Validation acc over epoch: 0.3831000030040741\n",
      "Start of epoch: 1\n",
      "Training acc over epoch: 0.46408000588417053\n",
      "Validation acc over epoch: 0.583899974822998\n",
      "Start of epoch: 2\n",
      "Training acc over epoch: 0.6507800221443176\n",
      "Validation acc over epoch: 0.7378000020980835\n"
     ]
    }
   ],
   "source": [
    "inputs = keras.Input(shape=(784, ), name='digits')\n",
    "x = layers.Dense(64, activation='relu', name='dense_1')(inputs)\n",
    "x = layers.Dense(64, activation='relu', name='dense_2')(x)\n",
    "outputs = layers.Dense(10, name='predictions')(x)\n",
    "model = keras.Model(inputs=inputs, outputs=outputs)\n",
    "\n",
    "optimizer = keras.optimizers.SGD(learning_rate=1e-3)\n",
    "loss_fn = keras.losses.SparseCategoricalCrossentropy(from_logits=True)\n",
    "\n",
    "batch_size = 64\n",
    "train_dataset = tf.data.Dataset.from_tensor_slices((x_train, y_train))\n",
    "train_dataset = train_dataset.shuffle(buffer_size=1024).batch(batch_size)\n",
    "\n",
    "val_dataset = tf.data.Dataset.from_tensor_slices((x_val, y_val))\n",
    "val_dataset = val_dataset.batch(64)\n",
    "\n",
    "train_acc_metric = keras.metrics.SparseCategoricalAccuracy()\n",
    "val_acc_metric = keras.metrics.SparseCategoricalAccuracy()\n",
    "\n",
    "epochs = 3\n",
    "for epoch in range(epochs):\n",
    "    print('Start of epoch: %d' % (epoch, ))\n",
    "\n",
    "    for step, (x_batch_train, y_batch_train) in enumerate(train_dataset):\n",
    "        with tf.GradientTape() as tape:\n",
    "            logits = model(x_batch_train, training=True)\n",
    "            loss_value = loss_fn(y_batch_train, logits)\n",
    "            loss_value += sum(model.losses)\n",
    "            grads = tape.gradient(loss_value, model.trainable_weights)\n",
    "        optimizer.apply_gradients(zip(grads, model.trainable_weights))\n",
    "\n",
    "        train_acc_metric(y_batch_train, logits)\n",
    "\n",
    "    train_acc = train_acc_metric.result()\n",
    "    print('Training acc over epoch: %s' % (float(train_acc), ))\n",
    "    train_acc_metric.reset_states()\n",
    "\n",
    "    for x_batch_val, y_batch_val in val_dataset:\n",
    "        val_logits = model(x_batch_val)\n",
    "        val_acc_metric(y_batch_val, val_logits)\n",
    "    val_acc = val_acc_metric.result()\n",
    "    print('Validation acc over epoch: %s' % (float(val_acc), ))\n",
    "    val_acc_metric.reset_states()"
   ]
  },
  {
   "cell_type": "code",
   "execution_count": null,
   "metadata": {},
   "outputs": [],
   "source": []
  }
 ],
 "metadata": {
  "kernelspec": {
   "display_name": "Python 3",
   "language": "python",
   "name": "python3"
  },
  "language_info": {
   "codemirror_mode": {
    "name": "ipython",
    "version": 3
   },
   "file_extension": ".py",
   "mimetype": "text/x-python",
   "name": "python",
   "nbconvert_exporter": "python",
   "pygments_lexer": "ipython3",
   "version": "3.7.7"
  },
  "toc": {
   "base_numbering": 1,
   "nav_menu": {},
   "number_sections": true,
   "sideBar": true,
   "skip_h1_title": false,
   "title_cell": "Table of Contents",
   "title_sidebar": "Contents",
   "toc_cell": false,
   "toc_position": {},
   "toc_section_display": true,
   "toc_window_display": false
  },
  "varInspector": {
   "cols": {
    "lenName": 16,
    "lenType": 16,
    "lenVar": 40
   },
   "kernels_config": {
    "python": {
     "delete_cmd_postfix": "",
     "delete_cmd_prefix": "del ",
     "library": "var_list.py",
     "varRefreshCmd": "print(var_dic_list())"
    },
    "r": {
     "delete_cmd_postfix": ") ",
     "delete_cmd_prefix": "rm(",
     "library": "var_list.r",
     "varRefreshCmd": "cat(var_dic_list()) "
    }
   },
   "types_to_exclude": [
    "module",
    "function",
    "builtin_function_or_method",
    "instance",
    "_Feature"
   ],
   "window_display": false
  }
 },
 "nbformat": 4,
 "nbformat_minor": 2
}
