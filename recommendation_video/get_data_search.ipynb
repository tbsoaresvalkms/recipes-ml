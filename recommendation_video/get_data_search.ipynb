{
 "cells": [
  {
   "cell_type": "code",
   "execution_count": 54,
   "metadata": {
    "pycharm": {
     "is_executing": false
    }
   },
   "outputs": [],
   "source": [
    "import pandas as pd\n",
    "import numpy as np\n",
    "import requests\n",
    "import re\n",
    "import time\n",
    "import bs4\n",
    "import json\n",
    "import tqdm\n",
    "import matplotlib.pyplot as plt\n",
    "\n",
    "from sklearn.tree import DecisionTreeClassifier\n",
    "from sklearn.ensemble import RandomForestClassifier\n",
    "from sklearn.linear_model import LogisticRegression\n",
    "from sklearn.metrics import roc_auc_score, average_precision_score\n",
    "from sklearn.model_selection import train_test_split\n",
    "from sklearn.tree import plot_tree\n",
    "from sklearn.feature_extraction.text import TfidfVectorizer\n",
    "from scipy.sparse import hstack\n",
    "from skopt import forest_minimize"
   ]
  },
  {
   "cell_type": "code",
   "execution_count": 6,
   "metadata": {},
   "outputs": [],
   "source": [
    "queries = [\n",
    "    'deep+learning', 'machine+learning', 'numpy+for+data+science',\n",
    "    'tensorflow', 'data+science', 'tensorflow+2.0'\n",
    "]\n",
    "url = 'https://www.youtube.com/results?search_query={query}&sp=CAI%253D&p={page}'"
   ]
  },
  {
   "cell_type": "code",
   "execution_count": 7,
   "metadata": {},
   "outputs": [
    {
     "data": {
      "application/vnd.jupyter.widget-view+json": {
       "model_id": "acd91a63f10b454bac8abed105e9e125",
       "version_major": 2,
       "version_minor": 0
      },
      "text/plain": [
       "HBox(children=(IntProgress(value=0, max=6), HTML(value='')))"
      ]
     },
     "metadata": {},
     "output_type": "display_data"
    },
    {
     "data": {
      "application/vnd.jupyter.widget-view+json": {
       "model_id": "323a2dc25db941c1a3d8a4648d71442a",
       "version_major": 2,
       "version_minor": 0
      },
      "text/plain": [
       "HBox(children=(IntProgress(value=0, max=29), HTML(value='')))"
      ]
     },
     "metadata": {},
     "output_type": "display_data"
    },
    {
     "data": {
      "application/vnd.jupyter.widget-view+json": {
       "model_id": "5a9527ac36394b7b968df7a925978ba2",
       "version_major": 2,
       "version_minor": 0
      },
      "text/plain": [
       "HBox(children=(IntProgress(value=0, max=29), HTML(value='')))"
      ]
     },
     "metadata": {},
     "output_type": "display_data"
    },
    {
     "data": {
      "application/vnd.jupyter.widget-view+json": {
       "model_id": "3d0c4d8b336d4bcb98417bf0db67d3b2",
       "version_major": 2,
       "version_minor": 0
      },
      "text/plain": [
       "HBox(children=(IntProgress(value=0, max=29), HTML(value='')))"
      ]
     },
     "metadata": {},
     "output_type": "display_data"
    },
    {
     "data": {
      "application/vnd.jupyter.widget-view+json": {
       "model_id": "67381e5804a8436fb1f4e2d66d34e6a4",
       "version_major": 2,
       "version_minor": 0
      },
      "text/plain": [
       "HBox(children=(IntProgress(value=0, max=29), HTML(value='')))"
      ]
     },
     "metadata": {},
     "output_type": "display_data"
    },
    {
     "data": {
      "application/vnd.jupyter.widget-view+json": {
       "model_id": "74aa2625ead04e66a9c0612034d6620d",
       "version_major": 2,
       "version_minor": 0
      },
      "text/plain": [
       "HBox(children=(IntProgress(value=0, max=29), HTML(value='')))"
      ]
     },
     "metadata": {},
     "output_type": "display_data"
    },
    {
     "data": {
      "application/vnd.jupyter.widget-view+json": {
       "model_id": "0d205d06769346f8ae1665e062bca6a8",
       "version_major": 2,
       "version_minor": 0
      },
      "text/plain": [
       "HBox(children=(IntProgress(value=0, max=29), HTML(value='')))"
      ]
     },
     "metadata": {},
     "output_type": "display_data"
    },
    {
     "name": "stdout",
     "output_type": "stream",
     "text": [
      "\n"
     ]
    }
   ],
   "source": [
    "for query in tqdm.tqdm_notebook(queries):\n",
    "    for page in tqdm.tqdm_notebook(range(1, 30)):\n",
    "        response = requests.get(url.format(query=query, page=page))\n",
    "        page_html = response.text\n",
    "        parsed = bs4.BeautifulSoup(page_html)\n",
    "        tags = parsed.findAll('a')\n",
    "\n",
    "        for tag in tags:\n",
    "            if tag.has_attr('aria-describedby'):\n",
    "                link = tag['href']\n",
    "                title = tag['title']\n",
    "                with open('data/parsed_video.json', 'a+') as out:\n",
    "                    data = {\"link\": link, \"title\": title, \"query\": query}\n",
    "                    out.write(f'{json.dumps(data)}\\n')"
   ]
  },
  {
   "cell_type": "code",
   "execution_count": 8,
   "metadata": {},
   "outputs": [
    {
     "data": {
      "text/html": [
       "<div>\n",
       "<style scoped>\n",
       "    .dataframe tbody tr th:only-of-type {\n",
       "        vertical-align: middle;\n",
       "    }\n",
       "\n",
       "    .dataframe tbody tr th {\n",
       "        vertical-align: top;\n",
       "    }\n",
       "\n",
       "    .dataframe thead th {\n",
       "        text-align: right;\n",
       "    }\n",
       "</style>\n",
       "<table border=\"1\" class=\"dataframe\">\n",
       "  <thead>\n",
       "    <tr style=\"text-align: right;\">\n",
       "      <th></th>\n",
       "      <th>link</th>\n",
       "      <th>title</th>\n",
       "      <th>query</th>\n",
       "    </tr>\n",
       "  </thead>\n",
       "  <tbody>\n",
       "    <tr>\n",
       "      <td>0</td>\n",
       "      <td>/watch?v=ftMq5ps503w</td>\n",
       "      <td>How to Predict Stock Prices Easily - Intro to ...</td>\n",
       "      <td>deep+learning</td>\n",
       "    </tr>\n",
       "    <tr>\n",
       "      <td>1</td>\n",
       "      <td>/watch?v=5cFUZ03Sbhc</td>\n",
       "      <td>Why Machine Learning is The Future? | Sundar P...</td>\n",
       "      <td>deep+learning</td>\n",
       "    </tr>\n",
       "    <tr>\n",
       "      <td>2</td>\n",
       "      <td>/watch?v=cAICT4Al5Ow</td>\n",
       "      <td>How to Make an Image Classifier - Intro to Dee...</td>\n",
       "      <td>deep+learning</td>\n",
       "    </tr>\n",
       "    <tr>\n",
       "      <td>3</td>\n",
       "      <td>/watch?v=mWl45NkFBOc</td>\n",
       "      <td>TensorFlow: Machine Learning for Everyone</td>\n",
       "      <td>deep+learning</td>\n",
       "    </tr>\n",
       "    <tr>\n",
       "      <td>4</td>\n",
       "      <td>/watch?v=xl3yQBhI6vY</td>\n",
       "      <td>Machine Learning and Prediction in Economics a...</td>\n",
       "      <td>deep+learning</td>\n",
       "    </tr>\n",
       "  </tbody>\n",
       "</table>\n",
       "</div>"
      ],
      "text/plain": [
       "                   link                                              title  \\\n",
       "0  /watch?v=ftMq5ps503w  How to Predict Stock Prices Easily - Intro to ...   \n",
       "1  /watch?v=5cFUZ03Sbhc  Why Machine Learning is The Future? | Sundar P...   \n",
       "2  /watch?v=cAICT4Al5Ow  How to Make an Image Classifier - Intro to Dee...   \n",
       "3  /watch?v=mWl45NkFBOc          TensorFlow: Machine Learning for Everyone   \n",
       "4  /watch?v=xl3yQBhI6vY  Machine Learning and Prediction in Economics a...   \n",
       "\n",
       "           query  \n",
       "0  deep+learning  \n",
       "1  deep+learning  \n",
       "2  deep+learning  \n",
       "3  deep+learning  \n",
       "4  deep+learning  "
      ]
     },
     "execution_count": 8,
     "metadata": {},
     "output_type": "execute_result"
    }
   ],
   "source": [
    "df = pd.read_json('data/parsed_video.json', lines=True, orient='records')\n",
    "df.head()"
   ]
  },
  {
   "cell_type": "code",
   "execution_count": 9,
   "metadata": {},
   "outputs": [],
   "source": [
    "url_video = 'https://www.youtube.com{link}'"
   ]
  },
  {
   "cell_type": "code",
   "execution_count": 10,
   "metadata": {},
   "outputs": [
    {
     "data": {
      "application/vnd.jupyter.widget-view+json": {
       "model_id": "34af086cfa8841afb42da80dfe83badc",
       "version_major": 2,
       "version_minor": 0
      },
      "text/plain": [
       "HBox(children=(IntProgress(value=0, max=2017), HTML(value='')))"
      ]
     },
     "metadata": {},
     "output_type": "display_data"
    },
    {
     "name": "stdout",
     "output_type": "stream",
     "text": [
      "\n"
     ]
    }
   ],
   "source": [
    "for _link in tqdm.tqdm_notebook(df['link'].unique()):\n",
    "    response = requests.get(url_video.format(link=_link))\n",
    "    page_html = response.text\n",
    "    parsed = bs4.BeautifulSoup(page_html, 'html.parser')\n",
    "    class_watch = parsed.findAll(attrs={'class': re.compile(r'watch')})\n",
    "    id_watch = parsed.findAll(attrs={'id': re.compile(r'watch')})\n",
    "    channel = parsed.findAll('a', attrs={'href': re.compile(r'channel')})\n",
    "    meta = parsed.findAll('meta')\n",
    "\n",
    "    data = {}\n",
    "\n",
    "    for _class in class_watch:\n",
    "        colname = '_'.join(_class['class'])\n",
    "        if 'clearfix' not in colname:\n",
    "            data[colname] = _class.text.strip()\n",
    "\n",
    "    for _id in id_watch:\n",
    "        colname = _id['id']\n",
    "        data[colname] = _id.text.strip()\n",
    "\n",
    "    for _meta in meta:\n",
    "        colname = _meta.get('property')\n",
    "        if colname is not None:\n",
    "            data[colname] = _meta['content']\n",
    "\n",
    "    for i, _channel in enumerate(channel):\n",
    "        data[f'channel_link_{i}'] = _channel['href']\n",
    "\n",
    "    with open('data/parsed_video_info.json', 'a+') as out:\n",
    "        out.write(f'{json.dumps(data)}\\n')"
   ]
  },
  {
   "cell_type": "code",
   "execution_count": 11,
   "metadata": {},
   "outputs": [
    {
     "data": {
      "text/html": [
       "<div>\n",
       "<style scoped>\n",
       "    .dataframe tbody tr th:only-of-type {\n",
       "        vertical-align: middle;\n",
       "    }\n",
       "\n",
       "    .dataframe tbody tr th {\n",
       "        vertical-align: top;\n",
       "    }\n",
       "\n",
       "    .dataframe thead th {\n",
       "        text-align: right;\n",
       "    }\n",
       "</style>\n",
       "<table border=\"1\" class=\"dataframe\">\n",
       "  <thead>\n",
       "    <tr style=\"text-align: right;\">\n",
       "      <th></th>\n",
       "      <th>content-alignment_watch-small</th>\n",
       "      <th>watch-playlist_player-height</th>\n",
       "      <th>watch-queue-header</th>\n",
       "      <th>watch-queue-info</th>\n",
       "      <th>watch-queue-info-icon</th>\n",
       "      <th>watch-queue-title</th>\n",
       "      <th>watch-queue-control-bar_control-bar-button</th>\n",
       "      <th>watch-queue-mole-info</th>\n",
       "      <th>watch-queue-control-bar-icon</th>\n",
       "      <th>watch-queue-icon_yt-sprite</th>\n",
       "      <th>...</th>\n",
       "      <th>channel_link_12</th>\n",
       "      <th>channel_link_13</th>\n",
       "      <th>channel_link_14</th>\n",
       "      <th>channel_link_15</th>\n",
       "      <th>channel_link_16</th>\n",
       "      <th>channel_link_17</th>\n",
       "      <th>channel_link_18</th>\n",
       "      <th>channel_link_19</th>\n",
       "      <th>channel_link_20</th>\n",
       "      <th>channel_link_21</th>\n",
       "    </tr>\n",
       "  </thead>\n",
       "  <tbody>\n",
       "    <tr>\n",
       "      <td>0</td>\n",
       "      <td>Este vídeo não está disponível.\\n\\n    \\n\\n\\n\\...</td>\n",
       "      <td>Fila de exibiçãoFilaFila de exibiçãoFila \\nRem...</td>\n",
       "      <td>Fila de exibiçãoFilaFila de exibiçãoFila \\nRem...</td>\n",
       "      <td>Fila de exibiçãoFila</td>\n",
       "      <td></td>\n",
       "      <td>Fila de exibição</td>\n",
       "      <td>Fila de exibiçãoFila \\nRemover todosDesconectar</td>\n",
       "      <td>Fila de exibiçãoFila</td>\n",
       "      <td></td>\n",
       "      <td></td>\n",
       "      <td>...</td>\n",
       "      <td>NaN</td>\n",
       "      <td>NaN</td>\n",
       "      <td>NaN</td>\n",
       "      <td>NaN</td>\n",
       "      <td>NaN</td>\n",
       "      <td>NaN</td>\n",
       "      <td>NaN</td>\n",
       "      <td>NaN</td>\n",
       "      <td>NaN</td>\n",
       "      <td>NaN</td>\n",
       "    </tr>\n",
       "    <tr>\n",
       "      <td>1</td>\n",
       "      <td>Este vídeo não está disponível.\\n\\n    \\n\\n\\n\\...</td>\n",
       "      <td>Fila de exibiçãoFilaFila de exibiçãoFila \\nRem...</td>\n",
       "      <td>Fila de exibiçãoFilaFila de exibiçãoFila \\nRem...</td>\n",
       "      <td>Fila de exibiçãoFila</td>\n",
       "      <td></td>\n",
       "      <td>Fila de exibição</td>\n",
       "      <td>Fila de exibiçãoFila \\nRemover todosDesconectar</td>\n",
       "      <td>Fila de exibiçãoFila</td>\n",
       "      <td></td>\n",
       "      <td></td>\n",
       "      <td>...</td>\n",
       "      <td>NaN</td>\n",
       "      <td>NaN</td>\n",
       "      <td>NaN</td>\n",
       "      <td>NaN</td>\n",
       "      <td>NaN</td>\n",
       "      <td>NaN</td>\n",
       "      <td>NaN</td>\n",
       "      <td>NaN</td>\n",
       "      <td>NaN</td>\n",
       "      <td>NaN</td>\n",
       "    </tr>\n",
       "  </tbody>\n",
       "</table>\n",
       "<p>2 rows × 171 columns</p>\n",
       "</div>"
      ],
      "text/plain": [
       "                       content-alignment_watch-small  \\\n",
       "0  Este vídeo não está disponível.\\n\\n    \\n\\n\\n\\...   \n",
       "1  Este vídeo não está disponível.\\n\\n    \\n\\n\\n\\...   \n",
       "\n",
       "                        watch-playlist_player-height  \\\n",
       "0  Fila de exibiçãoFilaFila de exibiçãoFila \\nRem...   \n",
       "1  Fila de exibiçãoFilaFila de exibiçãoFila \\nRem...   \n",
       "\n",
       "                                  watch-queue-header      watch-queue-info  \\\n",
       "0  Fila de exibiçãoFilaFila de exibiçãoFila \\nRem...  Fila de exibiçãoFila   \n",
       "1  Fila de exibiçãoFilaFila de exibiçãoFila \\nRem...  Fila de exibiçãoFila   \n",
       "\n",
       "  watch-queue-info-icon watch-queue-title  \\\n",
       "0                        Fila de exibição   \n",
       "1                        Fila de exibição   \n",
       "\n",
       "        watch-queue-control-bar_control-bar-button watch-queue-mole-info  \\\n",
       "0  Fila de exibiçãoFila \\nRemover todosDesconectar  Fila de exibiçãoFila   \n",
       "1  Fila de exibiçãoFila \\nRemover todosDesconectar  Fila de exibiçãoFila   \n",
       "\n",
       "  watch-queue-control-bar-icon watch-queue-icon_yt-sprite  ...  \\\n",
       "0                                                          ...   \n",
       "1                                                          ...   \n",
       "\n",
       "  channel_link_12 channel_link_13 channel_link_14 channel_link_15  \\\n",
       "0             NaN             NaN             NaN             NaN   \n",
       "1             NaN             NaN             NaN             NaN   \n",
       "\n",
       "  channel_link_16 channel_link_17 channel_link_18 channel_link_19  \\\n",
       "0             NaN             NaN             NaN             NaN   \n",
       "1             NaN             NaN             NaN             NaN   \n",
       "\n",
       "  channel_link_20 channel_link_21  \n",
       "0             NaN             NaN  \n",
       "1             NaN             NaN  \n",
       "\n",
       "[2 rows x 171 columns]"
      ]
     },
     "execution_count": 11,
     "metadata": {},
     "output_type": "execute_result"
    }
   ],
   "source": [
    "df_info = pd.read_json('data/parsed_video_info.json',\n",
    "                       lines=True,\n",
    "                       orient='records')\n",
    "df_info.head(2)"
   ]
  },
  {
   "cell_type": "code",
   "execution_count": 12,
   "metadata": {},
   "outputs": [
    {
     "data": {
      "text/plain": [
       "Index(['content-alignment_watch-small', 'watch-playlist_player-height',\n",
       "       'watch-queue-header', 'watch-queue-info', 'watch-queue-info-icon',\n",
       "       'watch-queue-title', 'watch-queue-control-bar_control-bar-button',\n",
       "       'watch-queue-mole-info', 'watch-queue-control-bar-icon',\n",
       "       'watch-queue-icon_yt-sprite',\n",
       "       ...\n",
       "       'channel_link_12', 'channel_link_13', 'channel_link_14',\n",
       "       'channel_link_15', 'channel_link_16', 'channel_link_17',\n",
       "       'channel_link_18', 'channel_link_19', 'channel_link_20',\n",
       "       'channel_link_21'],\n",
       "      dtype='object', length=171)"
      ]
     },
     "execution_count": 12,
     "metadata": {},
     "output_type": "execute_result"
    }
   ],
   "source": [
    "df_info.columns"
   ]
  },
  {
   "cell_type": "code",
   "execution_count": 13,
   "metadata": {},
   "outputs": [],
   "source": [
    "columns = [\n",
    "    'watch-title', 'watch-view-count', 'watch-time-text',\n",
    "    'content_watch-info-tag-list', 'watch7-headline', 'watch7-user-header',\n",
    "    'watch8-sentiment-actions', 'og:image', 'og:image:width',\n",
    "    'og:image:height', 'og:description', 'og:video:width', 'og:video:height',\n",
    "    'og:video:tag', 'channel_link_0'\n",
    "]"
   ]
  },
  {
   "cell_type": "code",
   "execution_count": 14,
   "metadata": {},
   "outputs": [],
   "source": [
    "df_filtered = df_info[columns]"
   ]
  },
  {
   "cell_type": "code",
   "execution_count": 15,
   "metadata": {},
   "outputs": [
    {
     "name": "stdout",
     "output_type": "stream",
     "text": [
      "<class 'pandas.core.frame.DataFrame'>\n",
      "RangeIndex: 2017 entries, 0 to 2016\n",
      "Data columns (total 15 columns):\n",
      "watch-title                    1916 non-null object\n",
      "watch-view-count               1890 non-null object\n",
      "watch-time-text                1916 non-null object\n",
      "content_watch-info-tag-list    1903 non-null object\n",
      "watch7-headline                1916 non-null object\n",
      "watch7-user-header             1916 non-null object\n",
      "watch8-sentiment-actions       1890 non-null object\n",
      "og:image                       2017 non-null object\n",
      "og:image:width                 2017 non-null int64\n",
      "og:image:height                2017 non-null int64\n",
      "og:description                 2017 non-null object\n",
      "og:video:width                 1997 non-null float64\n",
      "og:video:height                1997 non-null float64\n",
      "og:video:tag                   1801 non-null object\n",
      "channel_link_0                 1916 non-null object\n",
      "dtypes: float64(2), int64(2), object(11)\n",
      "memory usage: 236.5+ KB\n"
     ]
    }
   ],
   "source": [
    "df_filtered.info()"
   ]
  },
  {
   "cell_type": "code",
   "execution_count": 16,
   "metadata": {},
   "outputs": [
    {
     "data": {
      "text/plain": [
       "Index(['watch-title', 'watch-view-count', 'watch-time-text',\n",
       "       'content_watch-info-tag-list', 'watch7-headline', 'watch7-user-header',\n",
       "       'watch8-sentiment-actions', 'og:image', 'og:image:width',\n",
       "       'og:image:height', 'og:description', 'og:video:width',\n",
       "       'og:video:height', 'og:video:tag', 'channel_link_0'],\n",
       "      dtype='object')"
      ]
     },
     "execution_count": 16,
     "metadata": {},
     "output_type": "execute_result"
    }
   ],
   "source": [
    "df_filtered.columns"
   ]
  },
  {
   "cell_type": "code",
   "execution_count": 17,
   "metadata": {},
   "outputs": [
    {
     "name": "stderr",
     "output_type": "stream",
     "text": [
      "/usr/local/lib/python3.7/site-packages/ipykernel_launcher.py:1: SettingWithCopyWarning: \n",
      "A value is trying to be set on a copy of a slice from a DataFrame\n",
      "\n",
      "See the caveats in the documentation: http://pandas.pydata.org/pandas-docs/stable/user_guide/indexing.html#returning-a-view-versus-a-copy\n",
      "  \"\"\"Entry point for launching an IPython kernel.\n"
     ]
    }
   ],
   "source": [
    "df_filtered.dropna(subset=['watch-time-text'], inplace=True)\n",
    "\n",
    "month_map = {\n",
    "    \"jan\": \"Jan\",\n",
    "    \"fev\": \"Feb\",\n",
    "    \"mar\": \"Mar\",\n",
    "    \"abr\": \"Apr\",\n",
    "    \"mai\": \"May\",\n",
    "    \"jun\": \"Jun\",\n",
    "    \"jul\": \"Jul\",\n",
    "    \"ago\": \"Aug\",\n",
    "    \"set\": \"Sep\",\n",
    "    \"out\": \"Oct\",\n",
    "    \"nov\": \"Nov\",\n",
    "    \"dez\": \"Dec\"\n",
    "}\n",
    "\n",
    "clean_date = df_filtered['watch-time-text'].str.extract(\n",
    "    r\"(\\d+) de ([a-z]+)\\. de (\\d+)\")\n",
    "\n",
    "df_filtered = df_filtered[~clean_date[0].isna()]\n",
    "clean_date = clean_date[~clean_date[0].isna()]\n",
    "\n",
    "clean_date[0] = clean_date[0].map(lambda x: \"0\" + x[0] if len(x) == 1 else x)\n",
    "clean_date[1] = clean_date[1].map(month_map)\n",
    "clean_date = clean_date.apply(lambda x: \" \".join(x), axis=1)\n",
    "\n",
    "df_filtered['watch-time-text'] = pd.to_datetime(clean_date, format=\"%d %b %Y\")"
   ]
  },
  {
   "cell_type": "code",
   "execution_count": 18,
   "metadata": {},
   "outputs": [
    {
     "data": {
      "text/html": [
       "<div>\n",
       "<style scoped>\n",
       "    .dataframe tbody tr th:only-of-type {\n",
       "        vertical-align: middle;\n",
       "    }\n",
       "\n",
       "    .dataframe tbody tr th {\n",
       "        vertical-align: top;\n",
       "    }\n",
       "\n",
       "    .dataframe thead th {\n",
       "        text-align: right;\n",
       "    }\n",
       "</style>\n",
       "<table border=\"1\" class=\"dataframe\">\n",
       "  <thead>\n",
       "    <tr style=\"text-align: right;\">\n",
       "      <th></th>\n",
       "      <th>watch-title</th>\n",
       "      <th>watch-view-count</th>\n",
       "      <th>watch-time-text</th>\n",
       "      <th>content_watch-info-tag-list</th>\n",
       "      <th>watch7-headline</th>\n",
       "      <th>watch7-user-header</th>\n",
       "      <th>watch8-sentiment-actions</th>\n",
       "      <th>og:image</th>\n",
       "      <th>og:image:width</th>\n",
       "      <th>og:image:height</th>\n",
       "      <th>og:description</th>\n",
       "      <th>og:video:width</th>\n",
       "      <th>og:video:height</th>\n",
       "      <th>og:video:tag</th>\n",
       "      <th>channel_link_0</th>\n",
       "    </tr>\n",
       "  </thead>\n",
       "  <tbody>\n",
       "    <tr>\n",
       "      <td>0</td>\n",
       "      <td>How to Predict Stock Prices Easily - Intro to ...</td>\n",
       "      <td>586.962 visualizações</td>\n",
       "      <td>2017-02-24</td>\n",
       "      <td>Educação</td>\n",
       "      <td>How to Predict Stock Prices Easily - Intro to ...</td>\n",
       "      <td>Siraj Raval\\n\\n\\n\\n\\n\\n\\n\\n\\n\\n\\n\\n\\n\\n\\nCarre...</td>\n",
       "      <td>586.962 visualizações\\n\\n\\n\\n\\n\\n\\n\\n7.784\\n\\n...</td>\n",
       "      <td>https://i.ytimg.com/vi/ftMq5ps503w/hqdefault.jpg</td>\n",
       "      <td>480</td>\n",
       "      <td>360</td>\n",
       "      <td>We're going to predict the closing price of th...</td>\n",
       "      <td>1280.0</td>\n",
       "      <td>720.0</td>\n",
       "      <td>stock</td>\n",
       "      <td>/channel/UCWN3xxRkmTPmbKwht9FuE5A</td>\n",
       "    </tr>\n",
       "    <tr>\n",
       "      <td>1</td>\n",
       "      <td>Why Machine Learning is The Future? | Sundar P...</td>\n",
       "      <td>776.795 visualizações</td>\n",
       "      <td>2017-02-21</td>\n",
       "      <td>Ciência e tecnologia</td>\n",
       "      <td>Why Machine Learning is The Future? | Sundar P...</td>\n",
       "      <td>ACADGILD\\n\\n\\n\\n\\n\\n\\n\\n\\n\\n\\n\\n\\n\\nCarregando...</td>\n",
       "      <td>776.795 visualizações\\n\\n\\n\\n\\n\\n\\n\\n7.009\\n\\n...</td>\n",
       "      <td>https://i.ytimg.com/vi/5cFUZ03Sbhc/maxresdefau...</td>\n",
       "      <td>1280</td>\n",
       "      <td>720</td>\n",
       "      <td>Why Machine Learning is The Future? | Sundar P...</td>\n",
       "      <td>640.0</td>\n",
       "      <td>360.0</td>\n",
       "      <td>Sundhar pichai talks about machine learning</td>\n",
       "      <td>/channel/UCaQfgvMsjpImSxrJQDBjd-Q</td>\n",
       "    </tr>\n",
       "  </tbody>\n",
       "</table>\n",
       "</div>"
      ],
      "text/plain": [
       "                                         watch-title       watch-view-count  \\\n",
       "0  How to Predict Stock Prices Easily - Intro to ...  586.962 visualizações   \n",
       "1  Why Machine Learning is The Future? | Sundar P...  776.795 visualizações   \n",
       "\n",
       "  watch-time-text content_watch-info-tag-list  \\\n",
       "0      2017-02-24                    Educação   \n",
       "1      2017-02-21        Ciência e tecnologia   \n",
       "\n",
       "                                     watch7-headline  \\\n",
       "0  How to Predict Stock Prices Easily - Intro to ...   \n",
       "1  Why Machine Learning is The Future? | Sundar P...   \n",
       "\n",
       "                                  watch7-user-header  \\\n",
       "0  Siraj Raval\\n\\n\\n\\n\\n\\n\\n\\n\\n\\n\\n\\n\\n\\n\\nCarre...   \n",
       "1  ACADGILD\\n\\n\\n\\n\\n\\n\\n\\n\\n\\n\\n\\n\\n\\nCarregando...   \n",
       "\n",
       "                            watch8-sentiment-actions  \\\n",
       "0  586.962 visualizações\\n\\n\\n\\n\\n\\n\\n\\n7.784\\n\\n...   \n",
       "1  776.795 visualizações\\n\\n\\n\\n\\n\\n\\n\\n7.009\\n\\n...   \n",
       "\n",
       "                                            og:image  og:image:width  \\\n",
       "0   https://i.ytimg.com/vi/ftMq5ps503w/hqdefault.jpg             480   \n",
       "1  https://i.ytimg.com/vi/5cFUZ03Sbhc/maxresdefau...            1280   \n",
       "\n",
       "   og:image:height                                     og:description  \\\n",
       "0              360  We're going to predict the closing price of th...   \n",
       "1              720  Why Machine Learning is The Future? | Sundar P...   \n",
       "\n",
       "   og:video:width  og:video:height  \\\n",
       "0          1280.0            720.0   \n",
       "1           640.0            360.0   \n",
       "\n",
       "                                  og:video:tag  \\\n",
       "0                                        stock   \n",
       "1  Sundhar pichai talks about machine learning   \n",
       "\n",
       "                      channel_link_0  \n",
       "0  /channel/UCWN3xxRkmTPmbKwht9FuE5A  \n",
       "1  /channel/UCaQfgvMsjpImSxrJQDBjd-Q  "
      ]
     },
     "execution_count": 18,
     "metadata": {},
     "output_type": "execute_result"
    }
   ],
   "source": [
    "df_filtered.head(2)"
   ]
  },
  {
   "cell_type": "code",
   "execution_count": 19,
   "metadata": {},
   "outputs": [],
   "source": [
    "df_filtered['watch-view-count'] = df_filtered['watch-view-count'].str.extract(\n",
    "    r\"(\\d+\\.?\\d*)\", expand=False).str.replace(\".\", \"\").fillna(0).astype(int)"
   ]
  },
  {
   "cell_type": "code",
   "execution_count": 20,
   "metadata": {},
   "outputs": [
    {
     "data": {
      "text/html": [
       "<div>\n",
       "<style scoped>\n",
       "    .dataframe tbody tr th:only-of-type {\n",
       "        vertical-align: middle;\n",
       "    }\n",
       "\n",
       "    .dataframe tbody tr th {\n",
       "        vertical-align: top;\n",
       "    }\n",
       "\n",
       "    .dataframe thead th {\n",
       "        text-align: right;\n",
       "    }\n",
       "</style>\n",
       "<table border=\"1\" class=\"dataframe\">\n",
       "  <thead>\n",
       "    <tr style=\"text-align: right;\">\n",
       "      <th></th>\n",
       "      <th>watch-title</th>\n",
       "      <th>watch-view-count</th>\n",
       "      <th>watch-time-text</th>\n",
       "      <th>content_watch-info-tag-list</th>\n",
       "      <th>watch7-headline</th>\n",
       "      <th>watch7-user-header</th>\n",
       "      <th>watch8-sentiment-actions</th>\n",
       "      <th>og:image</th>\n",
       "      <th>og:image:width</th>\n",
       "      <th>og:image:height</th>\n",
       "      <th>og:description</th>\n",
       "      <th>og:video:width</th>\n",
       "      <th>og:video:height</th>\n",
       "      <th>og:video:tag</th>\n",
       "      <th>channel_link_0</th>\n",
       "    </tr>\n",
       "  </thead>\n",
       "  <tbody>\n",
       "    <tr>\n",
       "      <td>0</td>\n",
       "      <td>How to Predict Stock Prices Easily - Intro to ...</td>\n",
       "      <td>586962</td>\n",
       "      <td>2017-02-24</td>\n",
       "      <td>Educação</td>\n",
       "      <td>How to Predict Stock Prices Easily - Intro to ...</td>\n",
       "      <td>Siraj Raval\\n\\n\\n\\n\\n\\n\\n\\n\\n\\n\\n\\n\\n\\n\\nCarre...</td>\n",
       "      <td>586.962 visualizações\\n\\n\\n\\n\\n\\n\\n\\n7.784\\n\\n...</td>\n",
       "      <td>https://i.ytimg.com/vi/ftMq5ps503w/hqdefault.jpg</td>\n",
       "      <td>480</td>\n",
       "      <td>360</td>\n",
       "      <td>We're going to predict the closing price of th...</td>\n",
       "      <td>1280.0</td>\n",
       "      <td>720.0</td>\n",
       "      <td>stock</td>\n",
       "      <td>/channel/UCWN3xxRkmTPmbKwht9FuE5A</td>\n",
       "    </tr>\n",
       "    <tr>\n",
       "      <td>1</td>\n",
       "      <td>Why Machine Learning is The Future? | Sundar P...</td>\n",
       "      <td>776795</td>\n",
       "      <td>2017-02-21</td>\n",
       "      <td>Ciência e tecnologia</td>\n",
       "      <td>Why Machine Learning is The Future? | Sundar P...</td>\n",
       "      <td>ACADGILD\\n\\n\\n\\n\\n\\n\\n\\n\\n\\n\\n\\n\\n\\nCarregando...</td>\n",
       "      <td>776.795 visualizações\\n\\n\\n\\n\\n\\n\\n\\n7.009\\n\\n...</td>\n",
       "      <td>https://i.ytimg.com/vi/5cFUZ03Sbhc/maxresdefau...</td>\n",
       "      <td>1280</td>\n",
       "      <td>720</td>\n",
       "      <td>Why Machine Learning is The Future? | Sundar P...</td>\n",
       "      <td>640.0</td>\n",
       "      <td>360.0</td>\n",
       "      <td>Sundhar pichai talks about machine learning</td>\n",
       "      <td>/channel/UCaQfgvMsjpImSxrJQDBjd-Q</td>\n",
       "    </tr>\n",
       "  </tbody>\n",
       "</table>\n",
       "</div>"
      ],
      "text/plain": [
       "                                         watch-title  watch-view-count  \\\n",
       "0  How to Predict Stock Prices Easily - Intro to ...            586962   \n",
       "1  Why Machine Learning is The Future? | Sundar P...            776795   \n",
       "\n",
       "  watch-time-text content_watch-info-tag-list  \\\n",
       "0      2017-02-24                    Educação   \n",
       "1      2017-02-21        Ciência e tecnologia   \n",
       "\n",
       "                                     watch7-headline  \\\n",
       "0  How to Predict Stock Prices Easily - Intro to ...   \n",
       "1  Why Machine Learning is The Future? | Sundar P...   \n",
       "\n",
       "                                  watch7-user-header  \\\n",
       "0  Siraj Raval\\n\\n\\n\\n\\n\\n\\n\\n\\n\\n\\n\\n\\n\\n\\nCarre...   \n",
       "1  ACADGILD\\n\\n\\n\\n\\n\\n\\n\\n\\n\\n\\n\\n\\n\\nCarregando...   \n",
       "\n",
       "                            watch8-sentiment-actions  \\\n",
       "0  586.962 visualizações\\n\\n\\n\\n\\n\\n\\n\\n7.784\\n\\n...   \n",
       "1  776.795 visualizações\\n\\n\\n\\n\\n\\n\\n\\n7.009\\n\\n...   \n",
       "\n",
       "                                            og:image  og:image:width  \\\n",
       "0   https://i.ytimg.com/vi/ftMq5ps503w/hqdefault.jpg             480   \n",
       "1  https://i.ytimg.com/vi/5cFUZ03Sbhc/maxresdefau...            1280   \n",
       "\n",
       "   og:image:height                                     og:description  \\\n",
       "0              360  We're going to predict the closing price of th...   \n",
       "1              720  Why Machine Learning is The Future? | Sundar P...   \n",
       "\n",
       "   og:video:width  og:video:height  \\\n",
       "0          1280.0            720.0   \n",
       "1           640.0            360.0   \n",
       "\n",
       "                                  og:video:tag  \\\n",
       "0                                        stock   \n",
       "1  Sundhar pichai talks about machine learning   \n",
       "\n",
       "                      channel_link_0  \n",
       "0  /channel/UCWN3xxRkmTPmbKwht9FuE5A  \n",
       "1  /channel/UCaQfgvMsjpImSxrJQDBjd-Q  "
      ]
     },
     "execution_count": 20,
     "metadata": {},
     "output_type": "execute_result"
    }
   ],
   "source": [
    "df_filtered.head(2)"
   ]
  },
  {
   "cell_type": "code",
   "execution_count": 21,
   "metadata": {},
   "outputs": [],
   "source": [
    "df_filtered['days_published'] = (pd.to_datetime('today') -\n",
    "                                 df_filtered['watch-time-text']).dt.days + 1"
   ]
  },
  {
   "cell_type": "code",
   "execution_count": 22,
   "metadata": {},
   "outputs": [
    {
     "data": {
      "text/plain": [
       "count    1912.000000\n",
       "mean      429.000000\n",
       "std       369.840342\n",
       "min         1.000000\n",
       "25%       128.750000\n",
       "50%       356.000000\n",
       "75%       664.000000\n",
       "max      2471.000000\n",
       "Name: days_published, dtype: float64"
      ]
     },
     "execution_count": 22,
     "metadata": {},
     "output_type": "execute_result"
    }
   ],
   "source": [
    "df_filtered['days_published'].describe()"
   ]
  },
  {
   "cell_type": "code",
   "execution_count": 23,
   "metadata": {},
   "outputs": [],
   "source": [
    "df_filtered['view_per_day'] = df_filtered['watch-view-count'] // df_filtered[\n",
    "    'days_published']"
   ]
  },
  {
   "cell_type": "code",
   "execution_count": 24,
   "metadata": {},
   "outputs": [
    {
     "data": {
      "text/plain": [
       "<matplotlib.axes._subplots.AxesSubplot at 0x128199b90>"
      ]
     },
     "execution_count": 24,
     "metadata": {},
     "output_type": "execute_result"
    },
    {
     "data": {
      "image/png": "[encoded data removed]",
      "text/plain": [
       "<Figure size 432x288 with 1 Axes>"
      ]
     },
     "metadata": {
      "needs_background": "light"
     },
     "output_type": "display_data"
    }
   ],
   "source": [
    "df_filtered['view_per_day'].hist(bins=100)"
   ]
  },
  {
   "cell_type": "code",
   "execution_count": 25,
   "metadata": {},
   "outputs": [
    {
     "data": {
      "text/plain": [
       "<matplotlib.axes._subplots.AxesSubplot at 0x12783df50>"
      ]
     },
     "execution_count": 25,
     "metadata": {},
     "output_type": "execute_result"
    },
    {
     "data": {
      "image/png": "[encoded data removed]",
      "text/plain": [
       "<Figure size 1152x576 with 1 Axes>"
      ]
     },
     "metadata": {
      "needs_background": "light"
     },
     "output_type": "display_data"
    }
   ],
   "source": [
    "df_filtered['watch-time-text'].value_counts().plot(figsize=(16, 8))"
   ]
  },
  {
   "cell_type": "code",
   "execution_count": 26,
   "metadata": {},
   "outputs": [],
   "source": [
    "df_filtered['like'] = df_filtered['watch8-sentiment-actions'].str.extract(\n",
    "    r\"\\n(\\d+)\").fillna(0).astype(int)"
   ]
  },
  {
   "cell_type": "code",
   "execution_count": 27,
   "metadata": {},
   "outputs": [
    {
     "data": {
      "text/plain": [
       "count    1912.000000\n",
       "mean      142.473849\n",
       "std       220.943525\n",
       "min         0.000000\n",
       "25%         3.000000\n",
       "50%        26.000000\n",
       "75%       198.250000\n",
       "max       991.000000\n",
       "Name: like, dtype: float64"
      ]
     },
     "execution_count": 27,
     "metadata": {},
     "output_type": "execute_result"
    }
   ],
   "source": [
    "df_filtered['like'].describe()"
   ]
  },
  {
   "cell_type": "code",
   "execution_count": 28,
   "metadata": {},
   "outputs": [],
   "source": [
    "df_likes = df_filtered['watch8-sentiment-actions'].str.findall(r\"\\n(\\d+)\\n\")\n",
    "df_likes = df_likes.apply(lambda x: (0, 0) if type(x) != list or len(x) != 3\n",
    "                          else (int(x[0]), int(x[2])))\n",
    "df_likes = pd.DataFrame(df_likes.tolist(), columns=['likes', 'dislikes'])"
   ]
  },
  {
   "cell_type": "code",
   "execution_count": 29,
   "metadata": {},
   "outputs": [],
   "source": [
    "df_filtered = df_filtered.reset_index()"
   ]
  },
  {
   "cell_type": "code",
   "execution_count": 30,
   "metadata": {},
   "outputs": [],
   "source": [
    "df_filtered['likes'] = df_likes['likes']\n",
    "df_filtered['dislikes'] = df_likes['dislikes']"
   ]
  },
  {
   "cell_type": "code",
   "execution_count": 31,
   "metadata": {},
   "outputs": [
    {
     "data": {
      "text/plain": [
       "count    1912.000000\n",
       "mean      140.049686\n",
       "std       221.543376\n",
       "min         0.000000\n",
       "25%         0.000000\n",
       "50%        21.000000\n",
       "75%       195.000000\n",
       "max       991.000000\n",
       "Name: likes, dtype: float64"
      ]
     },
     "execution_count": 31,
     "metadata": {},
     "output_type": "execute_result"
    }
   ],
   "source": [
    "df_filtered['likes'].describe()"
   ]
  },
  {
   "cell_type": "code",
   "execution_count": 32,
   "metadata": {},
   "outputs": [
    {
     "data": {
      "text/plain": [
       "count    1912.000000\n",
       "mean        4.654812\n",
       "std        14.633070\n",
       "min         0.000000\n",
       "25%         0.000000\n",
       "50%         0.000000\n",
       "75%         4.000000\n",
       "max       341.000000\n",
       "Name: dislikes, dtype: float64"
      ]
     },
     "execution_count": 32,
     "metadata": {},
     "output_type": "execute_result"
    }
   ],
   "source": [
    "df_filtered['dislikes'].describe()"
   ]
  },
  {
   "cell_type": "code",
   "execution_count": 33,
   "metadata": {},
   "outputs": [],
   "source": [
    "df_filtered['target'] = (df_filtered['likes'] >= df_filtered['likes'].quantile(\n",
    "    0.75)) & (df_filtered['likes'] >= df_filtered['dislikes'] * 3)"
   ]
  },
  {
   "cell_type": "code",
   "execution_count": 34,
   "metadata": {},
   "outputs": [
    {
     "data": {
      "text/plain": [
       "False    1436\n",
       "True      476\n",
       "Name: target, dtype: int64"
      ]
     },
     "execution_count": 34,
     "metadata": {},
     "output_type": "execute_result"
    }
   ],
   "source": [
    "df_filtered['target'].value_counts()"
   ]
  },
  {
   "cell_type": "code",
   "execution_count": 35,
   "metadata": {},
   "outputs": [],
   "source": [
    "X = df_filtered[['watch-view-count', 'view_per_day']]\n",
    "y = df_filtered[['target']]\n",
    "X_train, X_test, y_train, y_test = train_test_split(X,\n",
    "                                                    y,\n",
    "                                                    test_size=0.15,\n",
    "                                                    random_state=42)"
   ]
  },
  {
   "cell_type": "code",
   "execution_count": null,
   "outputs": [],
   "source": [
    "model = DecisionTreeClassifier(random_state=0,\n",
    "                               max_depth=2,\n",
    "                               class_weight='balanced')"
   ],
   "metadata": {
    "collapsed": false,
    "pycharm": {
     "name": "#%%\n"
    }
   }
  },
  {
   "cell_type": "code",
   "execution_count": null,
   "outputs": [],
   "source": [
    "model.fit(X_train, y_train)"
   ],
   "metadata": {
    "collapsed": false,
    "pycharm": {
     "name": "#%%\n"
    }
   }
  },
  {
   "cell_type": "code",
   "execution_count": null,
   "outputs": [],
   "source": [
    "predict = model.predict_proba(X_test)\n",
    "print(f'AVG precision: {average_precision_score(y_test, predict[:, 1])}')\n",
    "print(f'ROC AUC: {roc_auc_score(y_test, predict[:, 1])}')"
   ],
   "metadata": {
    "collapsed": false,
    "pycharm": {
     "name": "#%%\n"
    }
   }
  },
  {
   "cell_type": "code",
   "execution_count": null,
   "outputs": [],
   "source": [
    "fig, ax = plt.subplots(1, 1, figsize=(16, 10))\n",
    "plot_tree(model, ax=ax, feature_names=X_train.columns)"
   ],
   "metadata": {
    "collapsed": false,
    "pycharm": {
     "name": "#%%\n"
    }
   }
  },
  {
   "cell_type": "code",
   "execution_count": null,
   "outputs": [],
   "source": [
    "tfidf = TfidfVectorizer(min_df=2)\n",
    "matriz_words = tfidf.fit_transform(df_filtered['watch-title'])"
   ],
   "metadata": {
    "collapsed": false,
    "pycharm": {
     "name": "#%%\n"
    }
   }
  },
  {
   "cell_type": "code",
   "execution_count": null,
   "outputs": [],
   "source": [
    "X = hstack([df_filtered[['watch-view-count', 'view_per_day']], matriz_words])\n",
    "y = df_filtered[['target']]\n",
    "X_train, X_test, y_train, y_test = train_test_split(X,\n",
    "                                                    y,\n",
    "                                                    test_size=0.15,\n",
    "                                                    random_state=42)"
   ],
   "metadata": {
    "collapsed": false,
    "pycharm": {
     "name": "#%%\n"
    }
   }
  },
  {
   "cell_type": "code",
   "execution_count": null,
   "outputs": [],
   "source": [
    "model_rfc = RandomForestClassifier(n_estimators=1000,\n",
    "                                   class_weight='balanced',\n",
    "                                   n_jobs=6,\n",
    "                                   random_state=0)"
   ],
   "metadata": {
    "collapsed": false,
    "pycharm": {
     "name": "#%%\n"
    }
   }
  },
  {
   "cell_type": "code",
   "execution_count": null,
   "outputs": [],
   "source": [
    "model_rfc.fit(X_train, y_train)"
   ],
   "metadata": {
    "collapsed": false,
    "pycharm": {
     "name": "#%%\n"
    }
   }
  },
  {
   "cell_type": "code",
   "execution_count": null,
   "outputs": [],
   "source": [
    "predict = model_rfc.predict_proba(X_test)\n",
    "print(f'AVG precision: {average_precision_score(y_test, predict[:, 1])}')\n",
    "print(f'ROC AUC: {roc_auc_score(y_test, predict[:, 1])}')"
   ],
   "metadata": {
    "collapsed": false,
    "pycharm": {
     "name": "#%%\n"
    }
   }
  },
  {
   "cell_type": "markdown",
   "source": [
    "## Active Learning"
   ],
   "metadata": {
    "collapsed": false
   }
  },
  {
   "cell_type": "markdown",
   "source": [
    "Rotulamos apenas uma parte do dataset, treinamos a rede com esse dataset. Pegamos a outra parte do dataset que não foi rotulada, coloca na rede e as previsões que a rede ficar confusa (proximo a 50%) rotulamos na mão novamente, assim ganhamos o beneficio de diminuir a rotulação."
   ],
   "metadata": {
    "collapsed": false
   }
  },
  {
   "cell_type": "code",
   "execution_count": null,
   "outputs": [],
   "source": [
    "from skopt import forest_minimize\n",
    "from sklearn.preprocessing import MaxAbsScaler, StandardScaler\n",
    "from scipy.sparse import csr_matrix"
   ],
   "metadata": {
    "collapsed": false,
    "pycharm": {
     "name": "#%%\n"
    }
   }
  },
  {
   "cell_type": "code",
   "execution_count": null,
   "outputs": [],
   "source": [
    "maxAbs = MaxAbsScaler()\n",
    "stdScaler = StandardScaler()\n",
    "X_abs = maxAbs.fit_transform(df_filtered[['watch-view-count', 'view_per_day']])\n",
    "X_abs = stdScaler.fit_transform(\n",
    "    df_filtered[['watch-view-count', 'view_per_day']])\n",
    "y = df_filtered[['target']]"
   ],
   "metadata": {
    "collapsed": false,
    "pycharm": {
     "name": "#%%\n"
    }
   }
  },
  {
   "cell_type": "code",
   "execution_count": null,
   "outputs": [],
   "source": [
    "def tune_forest(params):\n",
    "    print(params)\n",
    "    max_depth = params[0]\n",
    "    n_estimators = params[1]\n",
    "\n",
    "    min_df = params[2]\n",
    "    ngram_range = (1, params[3])\n",
    "\n",
    "    title_vec = TfidfVectorizer(min_df=min_df, ngram_range=ngram_range)\n",
    "    matriz_words = title_vec.fit_transform(df_filtered['watch-title'])\n",
    "\n",
    "    stdScaler = StandardScaler()\n",
    "    X = stdScaler.fit_transform(\n",
    "        df_filtered[['watch-view-count', 'view_per_day']])\n",
    "    X = hstack([X, matriz_words])\n",
    "    y = df_filtered[['target']]\n",
    "\n",
    "    X_train, X_test, y_train, y_test = train_test_split(X,\n",
    "                                                        y,\n",
    "                                                        test_size=0.15,\n",
    "                                                        random_state=42)\n",
    "\n",
    "    mdl = RandomForestClassifier(max_depth=max_depth,\n",
    "                                 n_estimators=n_estimators,\n",
    "                                 class_weight='balanced',\n",
    "                                 n_jobs=6,\n",
    "                                 random_state=0)\n",
    "\n",
    "    mdl.fit(X_train, y_train)\n",
    "\n",
    "    p = mdl.predict_proba(X_test)[:, 1]\n",
    "\n",
    "    print(\n",
    "        f'AVG precision: {average_precision_score(y_test, p)} - ROC AUC: {roc_auc_score(y_test, p)}'\n",
    "    )\n",
    "\n",
    "    return -average_precision_score(y_test, p)\n",
    "\n",
    "\n",
    "space = [\n",
    "    (1, 10),  # max_depth\n",
    "    (100, 1000),  # n_estimators\n",
    "    (1, 5),  # min_df\n",
    "    (1, 5)\n",
    "]  # ngram_range\n",
    "\n",
    "res_forest = forest_minimize(tune_forest,\n",
    "                             space,\n",
    "                             random_state=160745,\n",
    "                             n_random_starts=20,\n",
    "                             n_calls=50,\n",
    "                             verbose=1)"
   ],
   "metadata": {
    "collapsed": false,
    "pycharm": {
     "name": "#%%\n"
    }
   }
  },
  {
   "cell_type": "code",
   "execution_count": null,
   "outputs": [],
   "source": [
    "params = res_forest.x\n",
    "\n",
    "max_depth = params[0]\n",
    "n_estimators = params[1]\n",
    "\n",
    "min_df = params[2]\n",
    "ngram_range = (1, params[3])\n",
    "\n",
    "title_vec = TfidfVectorizer(min_df=min_df, ngram_range=ngram_range)\n",
    "matriz_words = title_vec.fit_transform(df_filtered['watch-title'])\n",
    "    \n",
    "stdScaler = StandardScaler()\n",
    "X = stdScaler.fit_transform(df_filtered[['watch-view-count', 'view_per_day']])\n",
    "X = hstack([X, matriz_words])\n",
    "y = df_filtered[['target']]\n",
    "\n",
    "X_train, X_test, y_train, y_test = train_test_split(X,\n",
    "                                                    y,\n",
    "                                                    test_size=0.15,\n",
    "                                                    random_state=42)\n",
    "    \n",
    "model_forest = RandomForestClassifier(max_depth=max_depth, n_estimators=n_estimators, class_weight='balanced',\n",
    "                                 n_jobs=6, random_state=0)\n",
    "    \n",
    "model_forest.fit(X_train, y_train)\n",
    "    \n",
    "predict_forest = model_forest.predict_proba(X_test)[:, 1]\n",
    "    \n",
    "print(f'AVG precision: {average_precision_score(y_test, predict_forest)} - ROC AUC: {roc_auc_score(y_test, predict_forest)}')"
   ],
   "metadata": {
    "collapsed": false,
    "pycharm": {
     "name": "#%%\n"
    }
   }
  },
  {
   "cell_type": "code",
   "execution_count": null,
   "outputs": [],
   "source": [
    "def tune_logistic(params):\n",
    "    print(params)\n",
    "    c = params[0]\n",
    "    penalty = params[1]\n",
    "    \n",
    "    min_df = params[2]\n",
    "    ngram_range = (1, params[3])\n",
    "    \n",
    "    title_vec = TfidfVectorizer(min_df=min_df, ngram_range=ngram_range)\n",
    "    matriz_words = title_vec.fit_transform(df_filtered['watch-title'])\n",
    "    \n",
    "    stdScaler = StandardScaler()\n",
    "    X = stdScaler.fit_transform(df_filtered[['watch-view-count', 'view_per_day']])\n",
    "    X = hstack([X, matriz_words])\n",
    "    y = df_filtered[['target']]\n",
    "\n",
    "    X_train, X_test, y_train, y_test = train_test_split(X,\n",
    "                                                    y,\n",
    "                                                    test_size=0.15,\n",
    "                                                    random_state=42)\n",
    "    \n",
    "    mdl = LogisticRegression(C=c, class_weight='balanced', n_jobs=6, random_state=0, penalty=penalty)\n",
    "    \n",
    "    mdl.fit(X_train, y_train)\n",
    "    \n",
    "    p = mdl.predict_proba(X_test)[:, 1]\n",
    "    print(f'AVG precision: {average_precision_score(y_test, p)} - ROC AUC: {roc_auc_score(y_test, p)}')\n",
    "    \n",
    "    return -average_precision_score(y_test, p)\n",
    "\n",
    "\n",
    "space = [(0.001, 1000), # c\n",
    "         ('l1', 'l2'),\n",
    "          (1,5), # min_df\n",
    "          (1,5)] # ngram_range\n",
    "\n",
    "res_logistic = forest_minimize(tune_logistic, space, random_state=160745, n_random_starts=20, n_calls=200, verbose=1)\n"
   ],
   "metadata": {
    "collapsed": false,
    "pycharm": {
     "name": "#%%\n"
    }
   }
  },
  {
   "cell_type": "code",
   "execution_count": null,
   "outputs": [],
   "source": [
    "params = res_logistic.x\n",
    "\n",
    "c = params[0]\n",
    "penalty = params[1]\n",
    "\n",
    "min_df = params[2]\n",
    "ngram_range = (1, params[3])\n",
    "    \n",
    "title_vec = TfidfVectorizer(min_df=min_df, ngram_range=ngram_range)\n",
    "matriz_words = title_vec.fit_transform(df_filtered['watch-title'])\n",
    "    \n",
    "stdScaler = StandardScaler()\n",
    "X = stdScaler.fit_transform(df_filtered[['watch-view-count', 'view_per_day']])\n",
    "X = hstack([X, matriz_words])\n",
    "y = df_filtered[['target']]\n",
    "\n",
    "X_train, X_test, y_train, y_test = train_test_split(X,\n",
    "                                                    y,\n",
    "                                                    test_size=0.15,\n",
    "                                                    random_state=42)\n",
    "    \n",
    "model_logistic = LogisticRegression(C=c, class_weight='balanced', n_jobs=6, random_state=0, penalty=penalty)\n",
    "    \n",
    "model_logistic.fit(X_train, y_train)\n",
    "    \n",
    "predict_logistic = model_logistic.predict_proba(X_test)[:, 1]\n",
    "print(f'AVG precision: {average_precision_score(y_test, predict_logistic)} - ROC AUC: {roc_auc_score(y_test, predict_logistic)}')"
   ],
   "metadata": {
    "collapsed": false,
    "pycharm": {
     "name": "#%%\n"
    }
   }
  },
  {
   "cell_type": "code",
   "execution_count": null,
   "outputs": [],
   "source": [
    "df_predict = pd.DataFrame({'logistic': predict_logistic, 'forest': predict_forest})"
   ],
   "metadata": {
    "collapsed": false,
    "pycharm": {
     "name": "#%%\n"
    }
   }
  },
  {
   "cell_type": "code",
   "execution_count": null,
   "outputs": [],
   "source": [
    "df_predict.corr()"
   ],
   "metadata": {
    "collapsed": false,
    "pycharm": {
     "name": "#%%\n"
    }
   }
  },
  {
   "cell_type": "code",
   "execution_count": null,
   "outputs": [],
   "source": [
    "print(f'AVG precision: {average_precision_score(y, predict_logistic)} - ROC AUC: {roc_auc_score(y_test, predict_logistic)}')"
   ],
   "metadata": {
    "collapsed": false,
    "pycharm": {
     "name": "#%%\n"
    }
   }
  },
  {
   "cell_type": "code",
   "execution_count": 36,
   "metadata": {},
   "outputs": [],
   "source": [
    "print(f'AVG precision: {average_precision_score(y, predict_logistic)} - ROC AUC: {roc_auc_score(y_test, predict_logistic)}')"
   ]
  },
  {
   "cell_type": "code",
   "execution_count": 37,
   "metadata": {},
   "outputs": [
    {
     "data": {
      "text/plain": [
       "DecisionTreeClassifier(class_weight='balanced', criterion='gini', max_depth=2,\n",
       "                       max_features=None, max_leaf_nodes=None,\n",
       "                       min_impurity_decrease=0.0, min_impurity_split=None,\n",
       "                       min_samples_leaf=1, min_samples_split=2,\n",
       "                       min_weight_fraction_leaf=0.0, presort=False,\n",
       "                       random_state=0, splitter='best')"
      ]
     },
     "execution_count": 37,
     "metadata": {},
     "output_type": "execute_result"
    }
   ],
   "source": [
    "model.fit(X_train, y_train)"
   ]
  },
  {
   "cell_type": "code",
   "execution_count": 38,
   "metadata": {},
   "outputs": [
    {
     "name": "stdout",
     "output_type": "stream",
     "text": [
      "AVG precision: 0.5135788219917363\n",
      "ROC AUC: 0.855291723202171\n"
     ]
    }
   ],
   "source": [
    "predict = model.predict_proba(X_test)\n",
    "print(f'AVG precision: {average_precision_score(y_test, predict[:, 1])}')\n",
    "print(f'ROC AUC: {roc_auc_score(y_test, predict[:, 1])}')"
   ]
  },
  {
   "cell_type": "code",
   "execution_count": 39,
   "metadata": {},
   "outputs": [
    {
     "data": {
      "text/plain": [
       "[Text(446.4, 453.0, 'watch-view-count <= 4405.5\\ngini = 0.5\\nsamples = 1625\\nvalue = [812.5, 812.5]'),\n",
       " Text(223.2, 271.8, 'view_per_day <= 403.5\\ngini = 0.027\\nsamples = 654\\nvalue = [434.981, 5.96]'),\n",
       " Text(111.6, 90.59999999999997, 'gini = 0.018\\nsamples = 648\\nvalue = [431.641, 3.973]'),\n",
       " Text(334.79999999999995, 90.59999999999997, 'gini = 0.468\\nsamples = 6\\nvalue = [3.341, 1.987]'),\n",
       " Text(669.5999999999999, 271.8, 'watch-view-count <= 77305.0\\ngini = 0.434\\nsamples = 971\\nvalue = [377.519, 806.54]'),\n",
       " Text(558.0, 90.59999999999997, 'gini = 0.325\\nsamples = 681\\nvalue = [197.111, 766.809]'),\n",
       " Text(781.1999999999999, 90.59999999999997, 'gini = 0.296\\nsamples = 290\\nvalue = [180.407, 39.731]')]"
      ]
     },
     "execution_count": 39,
     "metadata": {},
     "output_type": "execute_result"
    },
    {
     "data": {
      "image/png": "[encoded data removed]",
      "text/plain": [
       "<Figure size 1152x720 with 1 Axes>"
      ]
     },
     "metadata": {
      "needs_background": "light"
     },
     "output_type": "display_data"
    }
   ],
   "source": [
    "fig, ax = plt.subplots(1, 1, figsize=(16, 10))\n",
    "plot_tree(model, ax=ax, feature_names=X_train.columns)"
   ]
  },
  {
   "cell_type": "code",
   "execution_count": 40,
   "metadata": {},
   "outputs": [],
   "source": [
    "tfidf = TfidfVectorizer(min_df=2)\n",
    "matriz_words = tfidf.fit_transform(df_filtered['watch-title'])"
   ]
  },
  {
   "cell_type": "code",
   "execution_count": 41,
   "metadata": {},
   "outputs": [],
   "source": [
    "X = hstack([df_filtered[['watch-view-count', 'view_per_day']], matriz_words])\n",
    "y = df_filtered[['target']]\n",
    "X_train, X_test, y_train, y_test = train_test_split(X,\n",
    "                                                    y,\n",
    "                                                    test_size=0.15,\n",
    "                                                    random_state=42)"
   ]
  },
  {
   "cell_type": "code",
   "execution_count": 42,
   "metadata": {},
   "outputs": [],
   "source": [
    "model_rfc = RandomForestClassifier(n_estimators=1000,\n",
    "                                   class_weight='balanced',\n",
    "                                   n_jobs=6,\n",
    "                                   random_state=0)"
   ]
  },
  {
   "cell_type": "code",
   "execution_count": 43,
   "metadata": {},
   "outputs": [
    {
     "name": "stderr",
     "output_type": "stream",
     "text": [
      "/usr/local/lib/python3.7/site-packages/ipykernel_launcher.py:1: DataConversionWarning: A column-vector y was passed when a 1d array was expected. Please change the shape of y to (n_samples,), for example using ravel().\n",
      "  \"\"\"Entry point for launching an IPython kernel.\n"
     ]
    },
    {
     "data": {
      "text/plain": [
       "RandomForestClassifier(bootstrap=True, class_weight='balanced',\n",
       "                       criterion='gini', max_depth=None, max_features='auto',\n",
       "                       max_leaf_nodes=None, min_impurity_decrease=0.0,\n",
       "                       min_impurity_split=None, min_samples_leaf=1,\n",
       "                       min_samples_split=2, min_weight_fraction_leaf=0.0,\n",
       "                       n_estimators=1000, n_jobs=6, oob_score=False,\n",
       "                       random_state=0, verbose=0, warm_start=False)"
      ]
     },
     "execution_count": 43,
     "metadata": {},
     "output_type": "execute_result"
    }
   ],
   "source": [
    "model_rfc.fit(X_train, y_train)"
   ]
  },
  {
   "cell_type": "code",
   "execution_count": 44,
   "metadata": {},
   "outputs": [
    {
     "name": "stdout",
     "output_type": "stream",
     "text": [
      "AVG precision: 0.7324176111188868\n",
      "ROC AUC: 0.9247625508819539\n"
     ]
    }
   ],
   "source": [
    "predict = model_rfc.predict_proba(X_test)\n",
    "print(f'AVG precision: {average_precision_score(y_test, predict[:, 1])}')\n",
    "print(f'ROC AUC: {roc_auc_score(y_test, predict[:, 1])}')"
   ]
  },
  {
   "cell_type": "markdown",
   "metadata": {},
   "source": [
    "## Active Learning"
   ]
  },
  {
   "cell_type": "markdown",
   "metadata": {},
   "source": [
    "Rotulamos apenas uma parte do dataset, treinamos a rede com esse dataset. Pegamos a outra parte do dataset que não foi rotulada, coloca na rede e as previsões que a rede ficar confusa (proximo a 50%) rotulamos na mão novamente, assim ganhamos o beneficio de diminuir a rotulação."
   ]
  },
  {
   "cell_type": "code",
   "execution_count": 45,
   "metadata": {},
   "outputs": [],
   "source": [
    "from skopt import forest_minimize\n",
    "from sklearn.preprocessing import MaxAbsScaler, StandardScaler\n",
    "from scipy.sparse import csr_matrix"
   ]
  },
  {
   "cell_type": "code",
   "execution_count": 46,
   "metadata": {},
   "outputs": [],
   "source": [
    "maxAbs = MaxAbsScaler()\n",
    "stdScaler = StandardScaler()\n",
    "X_abs = maxAbs.fit_transform(df_filtered[['watch-view-count', 'view_per_day']])\n",
    "X_abs = stdScaler.fit_transform(\n",
    "    df_filtered[['watch-view-count', 'view_per_day']])\n",
    "y = df_filtered[['target']]"
   ]
  },
  {
   "cell_type": "code",
   "execution_count": 53,
   "metadata": {},
   "outputs": [
    {
     "name": "stdout",
     "output_type": "stream",
     "text": [
      "Iteration No: 1 started. Evaluating function at random point.\n",
      "[5, 771, 1, 3]\n"
     ]
    },
    {
     "name": "stderr",
     "output_type": "stream",
     "text": [
      "/usr/local/lib/python3.7/site-packages/ipykernel_launcher.py:25: DataConversionWarning: A column-vector y was passed when a 1d array was expected. Please change the shape of y to (n_samples,), for example using ravel().\n"
     ]
    },
    {
     "name": "stdout",
     "output_type": "stream",
     "text": [
      "AVG precision: 0.5688855991013047 - ROC AUC: 0.8257123473541383\n",
      "Iteration No: 1 ended. Evaluation done at random point.\n",
      "Time taken: 1.3978\n",
      "Function value obtained: -0.5689\n",
      "Current minimum: -0.5689\n",
      "Iteration No: 2 started. Evaluating function at random point.\n",
      "[8, 108, 5, 3]\n"
     ]
    },
    {
     "name": "stderr",
     "output_type": "stream",
     "text": [
      "/usr/local/lib/python3.7/site-packages/ipykernel_launcher.py:25: DataConversionWarning: A column-vector y was passed when a 1d array was expected. Please change the shape of y to (n_samples,), for example using ravel().\n"
     ]
    },
    {
     "name": "stdout",
     "output_type": "stream",
     "text": [
      "AVG precision: 0.7348524295416435 - ROC AUC: 0.8918249660786974\n",
      "Iteration No: 2 ended. Evaluation done at random point.\n",
      "Time taken: 0.4391\n",
      "Function value obtained: -0.7349\n",
      "Current minimum: -0.7349\n",
      "Iteration No: 3 started. Evaluating function at random point.\n",
      "[9, 101, 2, 1]\n"
     ]
    },
    {
     "name": "stderr",
     "output_type": "stream",
     "text": [
      "/usr/local/lib/python3.7/site-packages/ipykernel_launcher.py:25: DataConversionWarning: A column-vector y was passed when a 1d array was expected. Please change the shape of y to (n_samples,), for example using ravel().\n"
     ]
    },
    {
     "name": "stdout",
     "output_type": "stream",
     "text": [
      "AVG precision: 0.6273189488713773 - ROC AUC: 0.8602442333785617\n",
      "Iteration No: 3 ended. Evaluation done at random point.\n",
      "Time taken: 0.3947\n",
      "Function value obtained: -0.6273\n",
      "Current minimum: -0.7349\n",
      "Iteration No: 4 started. Evaluating function at random point.\n",
      "[6, 600, 2, 3]\n"
     ]
    },
    {
     "name": "stderr",
     "output_type": "stream",
     "text": [
      "/usr/local/lib/python3.7/site-packages/ipykernel_launcher.py:25: DataConversionWarning: A column-vector y was passed when a 1d array was expected. Please change the shape of y to (n_samples,), for example using ravel().\n"
     ]
    },
    {
     "name": "stdout",
     "output_type": "stream",
     "text": [
      "AVG precision: 0.569728979890268 - ROC AUC: 0.826662143826323\n",
      "Iteration No: 4 ended. Evaluation done at random point.\n",
      "Time taken: 1.1392\n",
      "Function value obtained: -0.5697\n",
      "Current minimum: -0.7349\n",
      "Iteration No: 5 started. Evaluating function at random point.\n",
      "[5, 450, 4, 4]\n"
     ]
    },
    {
     "name": "stderr",
     "output_type": "stream",
     "text": [
      "/usr/local/lib/python3.7/site-packages/ipykernel_launcher.py:25: DataConversionWarning: A column-vector y was passed when a 1d array was expected. Please change the shape of y to (n_samples,), for example using ravel().\n"
     ]
    },
    {
     "name": "stdout",
     "output_type": "stream",
     "text": [
      "AVG precision: 0.6547069628365184 - ROC AUC: 0.8626187245590231\n",
      "Iteration No: 5 ended. Evaluation done at random point.\n",
      "Time taken: 0.9249\n",
      "Function value obtained: -0.6547\n",
      "Current minimum: -0.7349\n",
      "Iteration No: 6 started. Evaluating function at random point.\n",
      "[7, 273, 1, 4]\n"
     ]
    },
    {
     "name": "stderr",
     "output_type": "stream",
     "text": [
      "/usr/local/lib/python3.7/site-packages/ipykernel_launcher.py:25: DataConversionWarning: A column-vector y was passed when a 1d array was expected. Please change the shape of y to (n_samples,), for example using ravel().\n"
     ]
    },
    {
     "name": "stdout",
     "output_type": "stream",
     "text": [
      "AVG precision: 0.4643638884402288 - ROC AUC: 0.7628222523744912\n",
      "Iteration No: 6 ended. Evaluation done at random point.\n",
      "Time taken: 0.7548\n",
      "Function value obtained: -0.4644\n",
      "Current minimum: -0.7349\n",
      "Iteration No: 7 started. Evaluating function at random point.\n",
      "[9, 492, 2, 1]\n"
     ]
    },
    {
     "name": "stderr",
     "output_type": "stream",
     "text": [
      "/usr/local/lib/python3.7/site-packages/ipykernel_launcher.py:25: DataConversionWarning: A column-vector y was passed when a 1d array was expected. Please change the shape of y to (n_samples,), for example using ravel().\n"
     ]
    },
    {
     "name": "stdout",
     "output_type": "stream",
     "text": [
      "AVG precision: 0.7232311661428978 - ROC AUC: 0.8949796472184532\n",
      "Iteration No: 7 ended. Evaluation done at random point.\n",
      "Time taken: 0.9403\n",
      "Function value obtained: -0.7232\n",
      "Current minimum: -0.7349\n",
      "Iteration No: 8 started. Evaluating function at random point.\n",
      "[2, 828, 5, 2]\n"
     ]
    },
    {
     "name": "stderr",
     "output_type": "stream",
     "text": [
      "/usr/local/lib/python3.7/site-packages/ipykernel_launcher.py:25: DataConversionWarning: A column-vector y was passed when a 1d array was expected. Please change the shape of y to (n_samples,), for example using ravel().\n"
     ]
    },
    {
     "name": "stdout",
     "output_type": "stream",
     "text": [
      "AVG precision: 0.6136989006439245 - ROC AUC: 0.848371777476255\n",
      "Iteration No: 8 ended. Evaluation done at random point.\n",
      "Time taken: 1.5019\n",
      "Function value obtained: -0.6137\n",
      "Current minimum: -0.7349\n",
      "Iteration No: 9 started. Evaluating function at random point.\n",
      "[1, 491, 3, 5]\n"
     ]
    },
    {
     "name": "stderr",
     "output_type": "stream",
     "text": [
      "/usr/local/lib/python3.7/site-packages/ipykernel_launcher.py:25: DataConversionWarning: A column-vector y was passed when a 1d array was expected. Please change the shape of y to (n_samples,), for example using ravel().\n"
     ]
    },
    {
     "name": "stdout",
     "output_type": "stream",
     "text": [
      "AVG precision: 0.559336780989006 - ROC AUC: 0.818012211668928\n",
      "Iteration No: 9 ended. Evaluation done at random point.\n",
      "Time taken: 0.9593\n",
      "Function value obtained: -0.5593\n",
      "Current minimum: -0.7349\n",
      "Iteration No: 10 started. Evaluating function at random point.\n",
      "[6, 961, 4, 1]\n"
     ]
    },
    {
     "name": "stderr",
     "output_type": "stream",
     "text": [
      "/usr/local/lib/python3.7/site-packages/ipykernel_launcher.py:25: DataConversionWarning: A column-vector y was passed when a 1d array was expected. Please change the shape of y to (n_samples,), for example using ravel().\n"
     ]
    },
    {
     "name": "stdout",
     "output_type": "stream",
     "text": [
      "AVG precision: 0.7217676924004326 - ROC AUC: 0.900067842605156\n",
      "Iteration No: 10 ended. Evaluation done at random point.\n",
      "Time taken: 1.6184\n",
      "Function value obtained: -0.7218\n",
      "Current minimum: -0.7349\n",
      "Iteration No: 11 started. Evaluating function at random point.\n",
      "[10, 800, 3, 1]\n"
     ]
    },
    {
     "name": "stderr",
     "output_type": "stream",
     "text": [
      "/usr/local/lib/python3.7/site-packages/ipykernel_launcher.py:25: DataConversionWarning: A column-vector y was passed when a 1d array was expected. Please change the shape of y to (n_samples,), for example using ravel().\n"
     ]
    },
    {
     "name": "stdout",
     "output_type": "stream",
     "text": [
      "AVG precision: 0.7742324205053588 - ROC AUC: 0.9211668928086839\n",
      "Iteration No: 11 ended. Evaluation done at random point.\n",
      "Time taken: 1.4482\n",
      "Function value obtained: -0.7742\n",
      "Current minimum: -0.7742\n",
      "Iteration No: 12 started. Evaluating function at random point.\n",
      "[10, 672, 5, 4]\n"
     ]
    },
    {
     "name": "stderr",
     "output_type": "stream",
     "text": [
      "/usr/local/lib/python3.7/site-packages/ipykernel_launcher.py:25: DataConversionWarning: A column-vector y was passed when a 1d array was expected. Please change the shape of y to (n_samples,), for example using ravel().\n"
     ]
    },
    {
     "name": "stdout",
     "output_type": "stream",
     "text": [
      "AVG precision: 0.740853792474186 - ROC AUC: 0.899864314789688\n",
      "Iteration No: 12 ended. Evaluation done at random point.\n",
      "Time taken: 1.1804\n",
      "Function value obtained: -0.7409\n",
      "Current minimum: -0.7742\n",
      "Iteration No: 13 started. Evaluating function at random point.\n",
      "[3, 760, 3, 2]\n"
     ]
    },
    {
     "name": "stderr",
     "output_type": "stream",
     "text": [
      "/usr/local/lib/python3.7/site-packages/ipykernel_launcher.py:25: DataConversionWarning: A column-vector y was passed when a 1d array was expected. Please change the shape of y to (n_samples,), for example using ravel().\n"
     ]
    },
    {
     "name": "stdout",
     "output_type": "stream",
     "text": [
      "AVG precision: 0.6662148565816639 - ROC AUC: 0.8597693351424694\n",
      "Iteration No: 13 ended. Evaluation done at random point.\n",
      "Time taken: 1.2620\n",
      "Function value obtained: -0.6662\n",
      "Current minimum: -0.7742\n",
      "Iteration No: 14 started. Evaluating function at random point.\n",
      "[1, 803, 1, 2]\n"
     ]
    },
    {
     "name": "stderr",
     "output_type": "stream",
     "text": [
      "/usr/local/lib/python3.7/site-packages/ipykernel_launcher.py:25: DataConversionWarning: A column-vector y was passed when a 1d array was expected. Please change the shape of y to (n_samples,), for example using ravel().\n"
     ]
    },
    {
     "name": "stdout",
     "output_type": "stream",
     "text": [
      "AVG precision: 0.5089834923920177 - ROC AUC: 0.8138738127544097\n",
      "Iteration No: 14 ended. Evaluation done at random point.\n",
      "Time taken: 1.3749\n",
      "Function value obtained: -0.5090\n",
      "Current minimum: -0.7742\n",
      "Iteration No: 15 started. Evaluating function at random point.\n",
      "[1, 683, 3, 4]\n"
     ]
    },
    {
     "name": "stderr",
     "output_type": "stream",
     "text": [
      "/usr/local/lib/python3.7/site-packages/ipykernel_launcher.py:25: DataConversionWarning: A column-vector y was passed when a 1d array was expected. Please change the shape of y to (n_samples,), for example using ravel().\n"
     ]
    },
    {
     "name": "stdout",
     "output_type": "stream",
     "text": [
      "AVG precision: 0.5515320909087396 - ROC AUC: 0.8328018995929444\n",
      "Iteration No: 15 ended. Evaluation done at random point.\n",
      "Time taken: 1.2431\n",
      "Function value obtained: -0.5515\n",
      "Current minimum: -0.7742\n",
      "Iteration No: 16 started. Evaluating function at random point.\n",
      "[8, 604, 3, 2]\n"
     ]
    },
    {
     "name": "stderr",
     "output_type": "stream",
     "text": [
      "/usr/local/lib/python3.7/site-packages/ipykernel_launcher.py:25: DataConversionWarning: A column-vector y was passed when a 1d array was expected. Please change the shape of y to (n_samples,), for example using ravel().\n"
     ]
    },
    {
     "name": "stdout",
     "output_type": "stream",
     "text": [
      "AVG precision: 0.7142145261510426 - ROC AUC: 0.8905020352781547\n",
      "Iteration No: 16 ended. Evaluation done at random point.\n",
      "Time taken: 1.2225\n",
      "Function value obtained: -0.7142\n",
      "Current minimum: -0.7742\n",
      "Iteration No: 17 started. Evaluating function at random point.\n",
      "[6, 732, 2, 3]\n"
     ]
    },
    {
     "name": "stderr",
     "output_type": "stream",
     "text": [
      "/usr/local/lib/python3.7/site-packages/ipykernel_launcher.py:25: DataConversionWarning: A column-vector y was passed when a 1d array was expected. Please change the shape of y to (n_samples,), for example using ravel().\n"
     ]
    },
    {
     "name": "stdout",
     "output_type": "stream",
     "text": [
      "AVG precision: 0.5752089400368774 - ROC AUC: 0.8277476255088195\n",
      "Iteration No: 17 ended. Evaluation done at random point.\n",
      "Time taken: 1.2854\n",
      "Function value obtained: -0.5752\n",
      "Current minimum: -0.7742\n",
      "Iteration No: 18 started. Evaluating function at random point.\n",
      "[9, 346, 4, 5]\n"
     ]
    },
    {
     "name": "stderr",
     "output_type": "stream",
     "text": [
      "/usr/local/lib/python3.7/site-packages/ipykernel_launcher.py:25: DataConversionWarning: A column-vector y was passed when a 1d array was expected. Please change the shape of y to (n_samples,), for example using ravel().\n"
     ]
    },
    {
     "name": "stdout",
     "output_type": "stream",
     "text": [
      "AVG precision: 0.67610748043007 - ROC AUC: 0.8745590230664858\n",
      "Iteration No: 18 ended. Evaluation done at random point.\n",
      "Time taken: 0.8062\n",
      "Function value obtained: -0.6761\n",
      "Current minimum: -0.7742\n",
      "Iteration No: 19 started. Evaluating function at random point.\n",
      "[6, 790, 5, 2]\n"
     ]
    },
    {
     "name": "stderr",
     "output_type": "stream",
     "text": [
      "/usr/local/lib/python3.7/site-packages/ipykernel_launcher.py:25: DataConversionWarning: A column-vector y was passed when a 1d array was expected. Please change the shape of y to (n_samples,), for example using ravel().\n"
     ]
    },
    {
     "name": "stdout",
     "output_type": "stream",
     "text": [
      "AVG precision: 0.7180475015807644 - ROC AUC: 0.9\n",
      "Iteration No: 19 ended. Evaluation done at random point.\n",
      "Time taken: 1.4710\n",
      "Function value obtained: -0.7180\n",
      "Current minimum: -0.7742\n",
      "Iteration No: 20 started. Evaluating function at random point.\n",
      "[1, 449, 5, 2]\n"
     ]
    },
    {
     "name": "stderr",
     "output_type": "stream",
     "text": [
      "/usr/local/lib/python3.7/site-packages/ipykernel_launcher.py:25: DataConversionWarning: A column-vector y was passed when a 1d array was expected. Please change the shape of y to (n_samples,), for example using ravel().\n"
     ]
    },
    {
     "name": "stdout",
     "output_type": "stream",
     "text": [
      "AVG precision: 0.5678726929360862 - ROC AUC: 0.8260854816824966\n",
      "Iteration No: 20 ended. Evaluation done at random point.\n",
      "Time taken: 1.2934\n",
      "Function value obtained: -0.5679\n",
      "Current minimum: -0.7742\n",
      "Iteration No: 21 started. Searching for the next optimal point.\n",
      "[10, 886, 1, 1]\n"
     ]
    },
    {
     "name": "stderr",
     "output_type": "stream",
     "text": [
      "/usr/local/lib/python3.7/site-packages/ipykernel_launcher.py:25: DataConversionWarning: A column-vector y was passed when a 1d array was expected. Please change the shape of y to (n_samples,), for example using ravel().\n"
     ]
    },
    {
     "name": "stdout",
     "output_type": "stream",
     "text": [
      "AVG precision: 0.6820874653517677 - ROC AUC: 0.8682496607869742\n",
      "Iteration No: 21 ended. Search finished for the next optimal point.\n",
      "Time taken: 2.0134\n",
      "Function value obtained: -0.6821\n",
      "Current minimum: -0.7742\n",
      "Iteration No: 22 started. Searching for the next optimal point.\n",
      "[10, 600, 1, 2]\n"
     ]
    },
    {
     "name": "stderr",
     "output_type": "stream",
     "text": [
      "/usr/local/lib/python3.7/site-packages/ipykernel_launcher.py:25: DataConversionWarning: A column-vector y was passed when a 1d array was expected. Please change the shape of y to (n_samples,), for example using ravel().\n"
     ]
    },
    {
     "name": "stdout",
     "output_type": "stream",
     "text": [
      "AVG precision: 0.6050915737533588 - ROC AUC: 0.8470827679782904\n",
      "Iteration No: 22 ended. Search finished for the next optimal point.\n",
      "Time taken: 1.5331\n",
      "Function value obtained: -0.6051\n",
      "Current minimum: -0.7742\n",
      "Iteration No: 23 started. Searching for the next optimal point.\n",
      "[10, 831, 3, 4]\n"
     ]
    },
    {
     "name": "stderr",
     "output_type": "stream",
     "text": [
      "/usr/local/lib/python3.7/site-packages/ipykernel_launcher.py:25: DataConversionWarning: A column-vector y was passed when a 1d array was expected. Please change the shape of y to (n_samples,), for example using ravel().\n"
     ]
    },
    {
     "name": "stdout",
     "output_type": "stream",
     "text": [
      "AVG precision: 0.7197198684283836 - ROC AUC: 0.8936227951153325\n",
      "Iteration No: 23 ended. Search finished for the next optimal point.\n",
      "Time taken: 2.0270\n",
      "Function value obtained: -0.7197\n",
      "Current minimum: -0.7742\n",
      "Iteration No: 24 started. Searching for the next optimal point.\n",
      "[10, 891, 2, 5]\n"
     ]
    },
    {
     "name": "stderr",
     "output_type": "stream",
     "text": [
      "/usr/local/lib/python3.7/site-packages/ipykernel_launcher.py:25: DataConversionWarning: A column-vector y was passed when a 1d array was expected. Please change the shape of y to (n_samples,), for example using ravel().\n"
     ]
    },
    {
     "name": "stdout",
     "output_type": "stream",
     "text": [
      "AVG precision: 0.6147386789951798 - ROC AUC: 0.8521031207598372\n",
      "Iteration No: 24 ended. Search finished for the next optimal point.\n",
      "Time taken: 2.1515\n",
      "Function value obtained: -0.6147\n",
      "Current minimum: -0.7742\n",
      "Iteration No: 25 started. Searching for the next optimal point.\n",
      "[7, 799, 3, 1]\n"
     ]
    },
    {
     "name": "stderr",
     "output_type": "stream",
     "text": [
      "/usr/local/lib/python3.7/site-packages/ipykernel_launcher.py:25: DataConversionWarning: A column-vector y was passed when a 1d array was expected. Please change the shape of y to (n_samples,), for example using ravel().\n"
     ]
    },
    {
     "name": "stdout",
     "output_type": "stream",
     "text": [
      "AVG precision: 0.7642375937176481 - ROC AUC: 0.9168928086838535\n",
      "Iteration No: 25 ended. Search finished for the next optimal point.\n",
      "Time taken: 1.8908\n",
      "Function value obtained: -0.7642\n",
      "Current minimum: -0.7742\n",
      "Iteration No: 26 started. Searching for the next optimal point.\n",
      "[7, 140, 3, 1]\n"
     ]
    },
    {
     "name": "stderr",
     "output_type": "stream",
     "text": [
      "/usr/local/lib/python3.7/site-packages/ipykernel_launcher.py:25: DataConversionWarning: A column-vector y was passed when a 1d array was expected. Please change the shape of y to (n_samples,), for example using ravel().\n"
     ]
    },
    {
     "name": "stdout",
     "output_type": "stream",
     "text": [
      "AVG precision: 0.7762468260180856 - ROC AUC: 0.9151967435549524\n",
      "Iteration No: 26 ended. Search finished for the next optimal point.\n",
      "Time taken: 0.8329\n",
      "Function value obtained: -0.7762\n",
      "Current minimum: -0.7762\n",
      "Iteration No: 27 started. Searching for the next optimal point.\n",
      "[4, 699, 3, 1]\n"
     ]
    },
    {
     "name": "stderr",
     "output_type": "stream",
     "text": [
      "/usr/local/lib/python3.7/site-packages/ipykernel_launcher.py:25: DataConversionWarning: A column-vector y was passed when a 1d array was expected. Please change the shape of y to (n_samples,), for example using ravel().\n"
     ]
    },
    {
     "name": "stdout",
     "output_type": "stream",
     "text": [
      "AVG precision: 0.7083582634858858 - ROC AUC: 0.8879240162822252\n",
      "Iteration No: 27 ended. Search finished for the next optimal point.\n",
      "Time taken: 1.5350\n",
      "Function value obtained: -0.7084\n",
      "Current minimum: -0.7762\n",
      "Iteration No: 28 started. Searching for the next optimal point.\n",
      "[3, 734, 3, 1]\n"
     ]
    },
    {
     "name": "stderr",
     "output_type": "stream",
     "text": [
      "/usr/local/lib/python3.7/site-packages/ipykernel_launcher.py:25: DataConversionWarning: A column-vector y was passed when a 1d array was expected. Please change the shape of y to (n_samples,), for example using ravel().\n"
     ]
    },
    {
     "name": "stdout",
     "output_type": "stream",
     "text": [
      "AVG precision: 0.7074131681286197 - ROC AUC: 0.8867706919945726\n",
      "Iteration No: 28 ended. Search finished for the next optimal point.\n",
      "Time taken: 1.6892\n",
      "Function value obtained: -0.7074\n",
      "Current minimum: -0.7762\n",
      "Iteration No: 29 started. Searching for the next optimal point.\n",
      "[1, 887, 5, 1]\n"
     ]
    },
    {
     "name": "stderr",
     "output_type": "stream",
     "text": [
      "/usr/local/lib/python3.7/site-packages/ipykernel_launcher.py:25: DataConversionWarning: A column-vector y was passed when a 1d array was expected. Please change the shape of y to (n_samples,), for example using ravel().\n"
     ]
    },
    {
     "name": "stdout",
     "output_type": "stream",
     "text": [
      "AVG precision: 0.5865358026622918 - ROC AUC: 0.8314789687924016\n",
      "Iteration No: 29 ended. Search finished for the next optimal point.\n",
      "Time taken: 1.9094\n",
      "Function value obtained: -0.5865\n",
      "Current minimum: -0.7762\n",
      "Iteration No: 30 started. Searching for the next optimal point.\n",
      "[7, 903, 3, 1]\n"
     ]
    },
    {
     "name": "stderr",
     "output_type": "stream",
     "text": [
      "/usr/local/lib/python3.7/site-packages/ipykernel_launcher.py:25: DataConversionWarning: A column-vector y was passed when a 1d array was expected. Please change the shape of y to (n_samples,), for example using ravel().\n"
     ]
    },
    {
     "name": "stdout",
     "output_type": "stream",
     "text": [
      "AVG precision: 0.7660684629375165 - ROC AUC: 0.9170284938941655\n",
      "Iteration No: 30 ended. Search finished for the next optimal point.\n",
      "Time taken: 2.1256\n",
      "Function value obtained: -0.7661\n",
      "Current minimum: -0.7762\n",
      "Iteration No: 31 started. Searching for the next optimal point.\n",
      "[6, 180, 3, 1]\n"
     ]
    },
    {
     "name": "stderr",
     "output_type": "stream",
     "text": [
      "/usr/local/lib/python3.7/site-packages/ipykernel_launcher.py:25: DataConversionWarning: A column-vector y was passed when a 1d array was expected. Please change the shape of y to (n_samples,), for example using ravel().\n"
     ]
    },
    {
     "name": "stdout",
     "output_type": "stream",
     "text": [
      "AVG precision: 0.7468188203998958 - ROC AUC: 0.9042740841248303\n",
      "Iteration No: 31 ended. Search finished for the next optimal point.\n",
      "Time taken: 0.8761\n",
      "Function value obtained: -0.7468\n",
      "Current minimum: -0.7762\n",
      "Iteration No: 32 started. Searching for the next optimal point.\n",
      "[10, 154, 3, 1]\n"
     ]
    },
    {
     "name": "stderr",
     "output_type": "stream",
     "text": [
      "/usr/local/lib/python3.7/site-packages/ipykernel_launcher.py:25: DataConversionWarning: A column-vector y was passed when a 1d array was expected. Please change the shape of y to (n_samples,), for example using ravel().\n"
     ]
    },
    {
     "name": "stdout",
     "output_type": "stream",
     "text": [
      "AVG precision: 0.7705442029857806 - ROC AUC: 0.9110583446404342\n",
      "Iteration No: 32 ended. Search finished for the next optimal point.\n",
      "Time taken: 0.8396\n",
      "Function value obtained: -0.7705\n",
      "Current minimum: -0.7762\n",
      "Iteration No: 33 started. Searching for the next optimal point.\n",
      "[10, 144, 3, 1]\n"
     ]
    },
    {
     "name": "stderr",
     "output_type": "stream",
     "text": [
      "/usr/local/lib/python3.7/site-packages/ipykernel_launcher.py:25: DataConversionWarning: A column-vector y was passed when a 1d array was expected. Please change the shape of y to (n_samples,), for example using ravel().\n"
     ]
    },
    {
     "name": "stdout",
     "output_type": "stream",
     "text": [
      "AVG precision: 0.7609401674515326 - ROC AUC: 0.9116010854816825\n",
      "Iteration No: 33 ended. Search finished for the next optimal point.\n",
      "Time taken: 0.8973\n",
      "Function value obtained: -0.7609\n",
      "Current minimum: -0.7762\n",
      "Iteration No: 34 started. Searching for the next optimal point.\n",
      "[9, 114, 3, 1]\n"
     ]
    },
    {
     "name": "stderr",
     "output_type": "stream",
     "text": [
      "/usr/local/lib/python3.7/site-packages/ipykernel_launcher.py:25: DataConversionWarning: A column-vector y was passed when a 1d array was expected. Please change the shape of y to (n_samples,), for example using ravel().\n"
     ]
    },
    {
     "name": "stdout",
     "output_type": "stream",
     "text": [
      "AVG precision: 0.7456400360822777 - ROC AUC: 0.9084803256445048\n",
      "Iteration No: 34 ended. Search finished for the next optimal point.\n",
      "Time taken: 0.8240\n",
      "Function value obtained: -0.7456\n",
      "Current minimum: -0.7762\n",
      "Iteration No: 35 started. Searching for the next optimal point.\n",
      "[7, 161, 1, 1]\n"
     ]
    },
    {
     "name": "stderr",
     "output_type": "stream",
     "text": [
      "/usr/local/lib/python3.7/site-packages/ipykernel_launcher.py:25: DataConversionWarning: A column-vector y was passed when a 1d array was expected. Please change the shape of y to (n_samples,), for example using ravel().\n"
     ]
    },
    {
     "name": "stdout",
     "output_type": "stream",
     "text": [
      "AVG precision: 0.5929339429201754 - ROC AUC: 0.8332767978290366\n",
      "Iteration No: 35 ended. Search finished for the next optimal point.\n",
      "Time taken: 0.8518\n",
      "Function value obtained: -0.5929\n",
      "Current minimum: -0.7762\n",
      "Iteration No: 36 started. Searching for the next optimal point.\n",
      "[7, 123, 3, 1]\n"
     ]
    },
    {
     "name": "stderr",
     "output_type": "stream",
     "text": [
      "/usr/local/lib/python3.7/site-packages/ipykernel_launcher.py:25: DataConversionWarning: A column-vector y was passed when a 1d array was expected. Please change the shape of y to (n_samples,), for example using ravel().\n"
     ]
    },
    {
     "name": "stdout",
     "output_type": "stream",
     "text": [
      "AVG precision: 0.7794557428725207 - ROC AUC: 0.917910447761194\n",
      "Iteration No: 36 ended. Search finished for the next optimal point.\n",
      "Time taken: 0.8505\n",
      "Function value obtained: -0.7795\n",
      "Current minimum: -0.7795\n",
      "Iteration No: 37 started. Searching for the next optimal point.\n",
      "[7, 120, 4, 1]\n"
     ]
    },
    {
     "name": "stderr",
     "output_type": "stream",
     "text": [
      "/usr/local/lib/python3.7/site-packages/ipykernel_launcher.py:25: DataConversionWarning: A column-vector y was passed when a 1d array was expected. Please change the shape of y to (n_samples,), for example using ravel().\n"
     ]
    },
    {
     "name": "stdout",
     "output_type": "stream",
     "text": [
      "AVG precision: 0.7264913078875693 - ROC AUC: 0.9117367706919945\n",
      "Iteration No: 37 ended. Search finished for the next optimal point.\n",
      "Time taken: 0.8560\n",
      "Function value obtained: -0.7265\n",
      "Current minimum: -0.7795\n",
      "Iteration No: 38 started. Searching for the next optimal point.\n",
      "[7, 144, 3, 3]\n"
     ]
    },
    {
     "name": "stderr",
     "output_type": "stream",
     "text": [
      "/usr/local/lib/python3.7/site-packages/ipykernel_launcher.py:25: DataConversionWarning: A column-vector y was passed when a 1d array was expected. Please change the shape of y to (n_samples,), for example using ravel().\n"
     ]
    },
    {
     "name": "stdout",
     "output_type": "stream",
     "text": [
      "AVG precision: 0.6576486452046317 - ROC AUC: 0.8733378561736771\n",
      "Iteration No: 38 ended. Search finished for the next optimal point.\n",
      "Time taken: 0.9149\n",
      "Function value obtained: -0.6576\n",
      "Current minimum: -0.7795\n",
      "Iteration No: 39 started. Searching for the next optimal point.\n",
      "[7, 168, 3, 1]\n"
     ]
    },
    {
     "name": "stderr",
     "output_type": "stream",
     "text": [
      "/usr/local/lib/python3.7/site-packages/ipykernel_launcher.py:25: DataConversionWarning: A column-vector y was passed when a 1d array was expected. Please change the shape of y to (n_samples,), for example using ravel().\n"
     ]
    },
    {
     "name": "stdout",
     "output_type": "stream",
     "text": [
      "AVG precision: 0.769846849013364 - ROC AUC: 0.912618724559023\n",
      "Iteration No: 39 ended. Search finished for the next optimal point.\n",
      "Time taken: 0.8563\n",
      "Function value obtained: -0.7698\n",
      "Current minimum: -0.7795\n",
      "Iteration No: 40 started. Searching for the next optimal point.\n",
      "[7, 174, 4, 1]\n"
     ]
    },
    {
     "name": "stderr",
     "output_type": "stream",
     "text": [
      "/usr/local/lib/python3.7/site-packages/ipykernel_launcher.py:25: DataConversionWarning: A column-vector y was passed when a 1d array was expected. Please change the shape of y to (n_samples,), for example using ravel().\n"
     ]
    },
    {
     "name": "stdout",
     "output_type": "stream",
     "text": [
      "AVG precision: 0.7282857973460131 - ROC AUC: 0.9076662143826324\n",
      "Iteration No: 40 ended. Search finished for the next optimal point.\n",
      "Time taken: 0.8748\n",
      "Function value obtained: -0.7283\n",
      "Current minimum: -0.7795\n",
      "Iteration No: 41 started. Searching for the next optimal point.\n",
      "[7, 185, 3, 1]\n"
     ]
    },
    {
     "name": "stderr",
     "output_type": "stream",
     "text": [
      "/usr/local/lib/python3.7/site-packages/ipykernel_launcher.py:25: DataConversionWarning: A column-vector y was passed when a 1d array was expected. Please change the shape of y to (n_samples,), for example using ravel().\n"
     ]
    },
    {
     "name": "stdout",
     "output_type": "stream",
     "text": [
      "AVG precision: 0.7764597500983574 - ROC AUC: 0.914246947082768\n",
      "Iteration No: 41 ended. Search finished for the next optimal point.\n",
      "Time taken: 0.9361\n",
      "Function value obtained: -0.7765\n",
      "Current minimum: -0.7795\n",
      "Iteration No: 42 started. Searching for the next optimal point.\n",
      "[6, 164, 3, 1]\n"
     ]
    },
    {
     "name": "stderr",
     "output_type": "stream",
     "text": [
      "/usr/local/lib/python3.7/site-packages/ipykernel_launcher.py:25: DataConversionWarning: A column-vector y was passed when a 1d array was expected. Please change the shape of y to (n_samples,), for example using ravel().\n"
     ]
    },
    {
     "name": "stdout",
     "output_type": "stream",
     "text": [
      "AVG precision: 0.7427589762383937 - ROC AUC: 0.9024423337856173\n",
      "Iteration No: 42 ended. Search finished for the next optimal point.\n",
      "Time taken: 0.8489\n",
      "Function value obtained: -0.7428\n",
      "Current minimum: -0.7795\n",
      "Iteration No: 43 started. Searching for the next optimal point.\n",
      "[7, 121, 3, 1]\n"
     ]
    },
    {
     "name": "stderr",
     "output_type": "stream",
     "text": [
      "/usr/local/lib/python3.7/site-packages/ipykernel_launcher.py:25: DataConversionWarning: A column-vector y was passed when a 1d array was expected. Please change the shape of y to (n_samples,), for example using ravel().\n"
     ]
    },
    {
     "name": "stdout",
     "output_type": "stream",
     "text": [
      "AVG precision: 0.7700709674341485 - ROC AUC: 0.9147896879240163\n",
      "Iteration No: 43 ended. Search finished for the next optimal point.\n",
      "Time taken: 0.8477\n",
      "Function value obtained: -0.7701\n",
      "Current minimum: -0.7795\n",
      "Iteration No: 44 started. Searching for the next optimal point.\n",
      "[5, 139, 3, 1]\n"
     ]
    },
    {
     "name": "stderr",
     "output_type": "stream",
     "text": [
      "/usr/local/lib/python3.7/site-packages/ipykernel_launcher.py:25: DataConversionWarning: A column-vector y was passed when a 1d array was expected. Please change the shape of y to (n_samples,), for example using ravel().\n"
     ]
    },
    {
     "name": "stdout",
     "output_type": "stream",
     "text": [
      "AVG precision: 0.6940285511620936 - ROC AUC: 0.8822252374491181\n",
      "Iteration No: 44 ended. Search finished for the next optimal point.\n",
      "Time taken: 0.8602\n",
      "Function value obtained: -0.6940\n",
      "Current minimum: -0.7795\n",
      "Iteration No: 45 started. Searching for the next optimal point.\n",
      "[7, 161, 3, 1]\n"
     ]
    },
    {
     "name": "stderr",
     "output_type": "stream",
     "text": [
      "/usr/local/lib/python3.7/site-packages/ipykernel_launcher.py:25: DataConversionWarning: A column-vector y was passed when a 1d array was expected. Please change the shape of y to (n_samples,), for example using ravel().\n"
     ]
    },
    {
     "name": "stdout",
     "output_type": "stream",
     "text": [
      "AVG precision: 0.7695764382361292 - ROC AUC: 0.9132971506105835\n",
      "Iteration No: 45 ended. Search finished for the next optimal point.\n",
      "Time taken: 0.8709\n",
      "Function value obtained: -0.7696\n",
      "Current minimum: -0.7795\n",
      "Iteration No: 46 started. Searching for the next optimal point.\n",
      "[8, 154, 3, 1]\n"
     ]
    },
    {
     "name": "stderr",
     "output_type": "stream",
     "text": [
      "/usr/local/lib/python3.7/site-packages/ipykernel_launcher.py:25: DataConversionWarning: A column-vector y was passed when a 1d array was expected. Please change the shape of y to (n_samples,), for example using ravel().\n"
     ]
    },
    {
     "name": "stdout",
     "output_type": "stream",
     "text": [
      "AVG precision: 0.7690228239574081 - ROC AUC: 0.9141451831750339\n",
      "Iteration No: 46 ended. Search finished for the next optimal point.\n",
      "Time taken: 0.8673\n",
      "Function value obtained: -0.7690\n",
      "Current minimum: -0.7795\n",
      "Iteration No: 47 started. Searching for the next optimal point.\n",
      "[7, 138, 2, 1]\n"
     ]
    },
    {
     "name": "stderr",
     "output_type": "stream",
     "text": [
      "/usr/local/lib/python3.7/site-packages/ipykernel_launcher.py:25: DataConversionWarning: A column-vector y was passed when a 1d array was expected. Please change the shape of y to (n_samples,), for example using ravel().\n"
     ]
    },
    {
     "name": "stdout",
     "output_type": "stream",
     "text": [
      "AVG precision: 0.6968849734772913 - ROC AUC: 0.8919606512890095\n",
      "Iteration No: 47 ended. Search finished for the next optimal point.\n",
      "Time taken: 0.8454\n",
      "Function value obtained: -0.6969\n",
      "Current minimum: -0.7795\n",
      "Iteration No: 48 started. Searching for the next optimal point.\n",
      "[7, 162, 3, 1]\n"
     ]
    },
    {
     "name": "stderr",
     "output_type": "stream",
     "text": [
      "/usr/local/lib/python3.7/site-packages/ipykernel_launcher.py:25: DataConversionWarning: A column-vector y was passed when a 1d array was expected. Please change the shape of y to (n_samples,), for example using ravel().\n"
     ]
    },
    {
     "name": "stdout",
     "output_type": "stream",
     "text": [
      "AVG precision: 0.768687805568002 - ROC AUC: 0.9139755766621438\n",
      "Iteration No: 48 ended. Search finished for the next optimal point.\n",
      "Time taken: 0.8473\n",
      "Function value obtained: -0.7687\n",
      "Current minimum: -0.7795\n",
      "Iteration No: 49 started. Searching for the next optimal point.\n",
      "[7, 153, 3, 1]\n"
     ]
    },
    {
     "name": "stderr",
     "output_type": "stream",
     "text": [
      "/usr/local/lib/python3.7/site-packages/ipykernel_launcher.py:25: DataConversionWarning: A column-vector y was passed when a 1d array was expected. Please change the shape of y to (n_samples,), for example using ravel().\n"
     ]
    },
    {
     "name": "stdout",
     "output_type": "stream",
     "text": [
      "AVG precision: 0.7690759661539357 - ROC AUC: 0.9128222523744912\n",
      "Iteration No: 49 ended. Search finished for the next optimal point.\n",
      "Time taken: 0.8715\n",
      "Function value obtained: -0.7691\n",
      "Current minimum: -0.7795\n",
      "Iteration No: 50 started. Searching for the next optimal point.\n",
      "[7, 165, 3, 1]\n"
     ]
    },
    {
     "name": "stderr",
     "output_type": "stream",
     "text": [
      "/usr/local/lib/python3.7/site-packages/ipykernel_launcher.py:25: DataConversionWarning: A column-vector y was passed when a 1d array was expected. Please change the shape of y to (n_samples,), for example using ravel().\n"
     ]
    },
    {
     "name": "stdout",
     "output_type": "stream",
     "text": [
      "AVG precision: 0.769678240836446 - ROC AUC: 0.9135006784260515\n",
      "Iteration No: 50 ended. Search finished for the next optimal point.\n",
      "Time taken: 0.9265\n",
      "Function value obtained: -0.7697\n",
      "Current minimum: -0.7795\n"
     ]
    }
   ],
   "source": [
    "def tune_forest(params):\n",
    "    print(params)\n",
    "    max_depth = params[0]\n",
    "    n_estimators = params[1]\n",
    "\n",
    "    min_df = params[2]\n",
    "    ngram_range = (1, params[3])\n",
    "\n",
    "    title_vec = TfidfVectorizer(min_df=min_df, ngram_range=ngram_range)\n",
    "    matriz_words = title_vec.fit_transform(df_filtered['watch-title'])\n",
    "\n",
    "    stdScaler = StandardScaler()\n",
    "    X = stdScaler.fit_transform(\n",
    "        df_filtered[['watch-view-count', 'view_per_day']])\n",
    "    X = hstack([X, matriz_words])\n",
    "    y = df_filtered[['target']]\n",
    "\n",
    "    X_train, X_test, y_train, y_test = train_test_split(X,\n",
    "                                                        y,\n",
    "                                                        test_size=0.15,\n",
    "                                                        random_state=42)\n",
    "\n",
    "    mdl = RandomForestClassifier(max_depth=max_depth,\n",
    "                                 n_estimators=n_estimators,\n",
    "                                 class_weight='balanced',\n",
    "                                 n_jobs=6,\n",
    "                                 random_state=0)\n",
    "\n",
    "    mdl.fit(X_train, y_train)\n",
    "\n",
    "    p = mdl.predict_proba(X_test)[:, 1]\n",
    "\n",
    "    print(\n",
    "        f'AVG precision: {average_precision_score(y_test, p)} - ROC AUC: {roc_auc_score(y_test, p)}'\n",
    "    )\n",
    "\n",
    "    return -average_precision_score(y_test, p)\n",
    "\n",
    "\n",
    "space = [\n",
    "    (1, 10),  # max_depth\n",
    "    (100, 1000),  # n_estimators\n",
    "    (1, 5),  # min_df\n",
    "    (1, 5)\n",
    "]  # ngram_range\n",
    "\n",
    "res_forest = forest_minimize(tune_forest,\n",
    "                             space,\n",
    "                             random_state=160745,\n",
    "                             n_random_starts=20,\n",
    "                             n_calls=50,\n",
    "                             verbose=1)"
   ]
  },
  {
   "cell_type": "code",
   "execution_count": 72,
   "metadata": {},
   "outputs": [
    {
     "name": "stderr",
     "output_type": "stream",
     "text": [
      "/usr/local/lib/python3.7/site-packages/ipykernel_launcher.py:25: DataConversionWarning: A column-vector y was passed when a 1d array was expected. Please change the shape of y to (n_samples,), for example using ravel().\n"
     ]
    },
    {
     "name": "stdout",
     "output_type": "stream",
     "text": [
      "AVG precision: 0.7794557428725207 - ROC AUC: 0.917910447761194\n"
     ]
    }
   ],
   "source": [
    "params = res_forest.x\n",
    "\n",
    "max_depth = params[0]\n",
    "n_estimators = params[1]\n",
    "\n",
    "min_df = params[2]\n",
    "ngram_range = (1, params[3])\n",
    "\n",
    "title_vec = TfidfVectorizer(min_df=min_df, ngram_range=ngram_range)\n",
    "matriz_words = title_vec.fit_transform(df_filtered['watch-title'])\n",
    "    \n",
    "stdScaler = StandardScaler()\n",
    "X = stdScaler.fit_transform(df_filtered[['watch-view-count', 'view_per_day']])\n",
    "X = hstack([X, matriz_words])\n",
    "y = df_filtered[['target']]\n",
    "\n",
    "X_train, X_test, y_train, y_test = train_test_split(X,\n",
    "                                                    y,\n",
    "                                                    test_size=0.15,\n",
    "                                                    random_state=42)\n",
    "    \n",
    "model_forest = RandomForestClassifier(max_depth=max_depth, n_estimators=n_estimators, class_weight='balanced',\n",
    "                                 n_jobs=6, random_state=0)\n",
    "    \n",
    "model_forest.fit(X_train, y_train)\n",
    "    \n",
    "predict_forest = model_forest.predict_proba(X_test)[:, 1]\n",
    "    \n",
    "print(f'AVG precision: {average_precision_score(y_test, predict_forest)} - ROC AUC: {roc_auc_score(y_test, predict_forest)}')"
   ]
  },
  {
   "cell_type": "code",
   "execution_count": 67,
   "metadata": {},
   "outputs": [
    {
     "name": "stdout",
     "output_type": "stream",
     "text": [
      "Iteration No: 1 started. Evaluating function at random point.\n",
      "[498.80097587347984, 'l1', 1, 3]\n",
      "AVG precision: 0.36372938708490743 - ROC AUC: 0.6670284938941655\n",
      "Iteration No: 1 ended. Evaluation done at random point.\n",
      "Time taken: 0.1916\n",
      "Function value obtained: -0.3637\n",
      "Current minimum: -0.3637\n",
      "Iteration No: 2 started. Evaluating function at random point.\n",
      "[465.92919761001815, 'l1', 1, 2]\n"
     ]
    },
    {
     "name": "stderr",
     "output_type": "stream",
     "text": [
      "/usr/local/lib/python3.7/site-packages/sklearn/linear_model/logistic.py:432: FutureWarning: Default solver will be changed to 'lbfgs' in 0.22. Specify a solver to silence this warning.\n",
      "  FutureWarning)\n",
      "/usr/local/lib/python3.7/site-packages/sklearn/utils/validation.py:724: DataConversionWarning: A column-vector y was passed when a 1d array was expected. Please change the shape of y to (n_samples, ), for example using ravel().\n",
      "  y = column_or_1d(y, warn=True)\n",
      "/usr/local/lib/python3.7/site-packages/sklearn/linear_model/logistic.py:1544: UserWarning: 'n_jobs' > 1 does not have any effect when 'solver' is set to 'liblinear'. Got 'n_jobs' = 6.\n",
      "  \" = {}.\".format(effective_n_jobs(self.n_jobs)))\n",
      "/usr/local/lib/python3.7/site-packages/sklearn/linear_model/logistic.py:432: FutureWarning: Default solver will be changed to 'lbfgs' in 0.22. Specify a solver to silence this warning.\n",
      "  FutureWarning)\n",
      "/usr/local/lib/python3.7/site-packages/sklearn/utils/validation.py:724: DataConversionWarning: A column-vector y was passed when a 1d array was expected. Please change the shape of y to (n_samples, ), for example using ravel().\n",
      "  y = column_or_1d(y, warn=True)\n",
      "/usr/local/lib/python3.7/site-packages/sklearn/linear_model/logistic.py:1544: UserWarning: 'n_jobs' > 1 does not have any effect when 'solver' is set to 'liblinear'. Got 'n_jobs' = 6.\n",
      "  \" = {}.\".format(effective_n_jobs(self.n_jobs)))\n"
     ]
    },
    {
     "name": "stdout",
     "output_type": "stream",
     "text": [
      "AVG precision: 0.3702254739283236 - ROC AUC: 0.6720488466757124\n",
      "Iteration No: 2 ended. Evaluation done at random point.\n",
      "Time taken: 0.1245\n",
      "Function value obtained: -0.3702\n",
      "Current minimum: -0.3702\n",
      "Iteration No: 3 started. Evaluating function at random point.\n",
      "[73.98797112722825, 'l2', 4, 5]\n",
      "AVG precision: 0.3329170876483635 - ROC AUC: 0.6279511533242876\n",
      "Iteration No: 3 ended. Evaluation done at random point.\n",
      "Time taken: 0.1703\n",
      "Function value obtained: -0.3329\n",
      "Current minimum: -0.3702\n",
      "Iteration No: 4 started. Evaluating function at random point.\n",
      "[548.5628477714339, 'l2', 4, 4]\n"
     ]
    },
    {
     "name": "stderr",
     "output_type": "stream",
     "text": [
      "/usr/local/lib/python3.7/site-packages/sklearn/linear_model/logistic.py:432: FutureWarning: Default solver will be changed to 'lbfgs' in 0.22. Specify a solver to silence this warning.\n",
      "  FutureWarning)\n",
      "/usr/local/lib/python3.7/site-packages/sklearn/utils/validation.py:724: DataConversionWarning: A column-vector y was passed when a 1d array was expected. Please change the shape of y to (n_samples, ), for example using ravel().\n",
      "  y = column_or_1d(y, warn=True)\n",
      "/usr/local/lib/python3.7/site-packages/sklearn/linear_model/logistic.py:1544: UserWarning: 'n_jobs' > 1 does not have any effect when 'solver' is set to 'liblinear'. Got 'n_jobs' = 6.\n",
      "  \" = {}.\".format(effective_n_jobs(self.n_jobs)))\n",
      "/usr/local/lib/python3.7/site-packages/sklearn/linear_model/logistic.py:432: FutureWarning: Default solver will be changed to 'lbfgs' in 0.22. Specify a solver to silence this warning.\n",
      "  FutureWarning)\n",
      "/usr/local/lib/python3.7/site-packages/sklearn/utils/validation.py:724: DataConversionWarning: A column-vector y was passed when a 1d array was expected. Please change the shape of y to (n_samples, ), for example using ravel().\n",
      "  y = column_or_1d(y, warn=True)\n",
      "/usr/local/lib/python3.7/site-packages/sklearn/linear_model/logistic.py:1544: UserWarning: 'n_jobs' > 1 does not have any effect when 'solver' is set to 'liblinear'. Got 'n_jobs' = 6.\n",
      "  \" = {}.\".format(effective_n_jobs(self.n_jobs)))\n"
     ]
    },
    {
     "name": "stdout",
     "output_type": "stream",
     "text": [
      "AVG precision: 0.31669848935712863 - ROC AUC: 0.592876526458616\n",
      "Iteration No: 4 ended. Evaluation done at random point.\n",
      "Time taken: 0.1607\n",
      "Function value obtained: -0.3167\n",
      "Current minimum: -0.3702\n",
      "Iteration No: 5 started. Evaluating function at random point.\n",
      "[861.2712022890199, 'l2', 4, 3]\n",
      "AVG precision: 0.3054185468350371 - ROC AUC: 0.5883310719131615\n",
      "Iteration No: 5 ended. Evaluation done at random point.\n",
      "Time taken: 0.1225\n",
      "Function value obtained: -0.3054\n",
      "Current minimum: -0.3702\n",
      "Iteration No: 6 started. Evaluating function at random point.\n",
      "[74.60938538423518, 'l1', 2, 1]\n"
     ]
    },
    {
     "name": "stderr",
     "output_type": "stream",
     "text": [
      "/usr/local/lib/python3.7/site-packages/sklearn/linear_model/logistic.py:432: FutureWarning: Default solver will be changed to 'lbfgs' in 0.22. Specify a solver to silence this warning.\n",
      "  FutureWarning)\n",
      "/usr/local/lib/python3.7/site-packages/sklearn/utils/validation.py:724: DataConversionWarning: A column-vector y was passed when a 1d array was expected. Please change the shape of y to (n_samples, ), for example using ravel().\n",
      "  y = column_or_1d(y, warn=True)\n",
      "/usr/local/lib/python3.7/site-packages/sklearn/linear_model/logistic.py:1544: UserWarning: 'n_jobs' > 1 does not have any effect when 'solver' is set to 'liblinear'. Got 'n_jobs' = 6.\n",
      "  \" = {}.\".format(effective_n_jobs(self.n_jobs)))\n",
      "/usr/local/lib/python3.7/site-packages/sklearn/linear_model/logistic.py:432: FutureWarning: Default solver will be changed to 'lbfgs' in 0.22. Specify a solver to silence this warning.\n",
      "  FutureWarning)\n",
      "/usr/local/lib/python3.7/site-packages/sklearn/utils/validation.py:724: DataConversionWarning: A column-vector y was passed when a 1d array was expected. Please change the shape of y to (n_samples, ), for example using ravel().\n",
      "  y = column_or_1d(y, warn=True)\n",
      "/usr/local/lib/python3.7/site-packages/sklearn/linear_model/logistic.py:1544: UserWarning: 'n_jobs' > 1 does not have any effect when 'solver' is set to 'liblinear'. Got 'n_jobs' = 6.\n",
      "  \" = {}.\".format(effective_n_jobs(self.n_jobs)))\n",
      "/usr/local/lib/python3.7/site-packages/sklearn/linear_model/logistic.py:432: FutureWarning: Default solver will be changed to 'lbfgs' in 0.22. Specify a solver to silence this warning.\n",
      "  FutureWarning)\n",
      "/usr/local/lib/python3.7/site-packages/sklearn/utils/validation.py:724: DataConversionWarning: A column-vector y was passed when a 1d array was expected. Please change the shape of y to (n_samples, ), for example using ravel().\n",
      "  y = column_or_1d(y, warn=True)\n",
      "/usr/local/lib/python3.7/site-packages/sklearn/linear_model/logistic.py:1544: UserWarning: 'n_jobs' > 1 does not have any effect when 'solver' is set to 'liblinear'. Got 'n_jobs' = 6.\n",
      "  \" = {}.\".format(effective_n_jobs(self.n_jobs)))\n"
     ]
    },
    {
     "name": "stdout",
     "output_type": "stream",
     "text": [
      "AVG precision: 0.35510863282282223 - ROC AUC: 0.6194708276797829\n",
      "Iteration No: 6 ended. Evaluation done at random point.\n",
      "Time taken: 0.0873\n",
      "Function value obtained: -0.3551\n",
      "Current minimum: -0.3702\n",
      "Iteration No: 7 started. Evaluating function at random point.\n",
      "[670.1277566291132, 'l1', 5, 2]\n",
      "AVG precision: 0.31219399436089235 - ROC AUC: 0.5980325644504748\n",
      "Iteration No: 7 ended. Evaluation done at random point.\n",
      "Time taken: 0.7471\n",
      "Function value obtained: -0.3122\n",
      "Current minimum: -0.3702\n",
      "Iteration No: 8 started. Evaluating function at random point.\n",
      "[965.4887607290873, 'l2', 5, 3]\n",
      "AVG precision: 0.3101360365078235 - ROC AUC: 0.6007462686567164\n",
      "Iteration No: 8 ended. Evaluation done at random point.\n",
      "Time taken: 0.1189\n",
      "Function value obtained: -0.3101\n",
      "Current minimum: -0.3702\n",
      "Iteration No: 9 started. Evaluating function at random point.\n",
      "[85.66044530909893, 'l1', 4, 1]\n",
      "AVG precision: 0.30351180301399444 - ROC AUC: 0.6184531886024422\n",
      "Iteration No: 9 ended. Evaluation done at random point.\n",
      "Time taken: 0.0683\n",
      "Function value obtained: -0.3035\n",
      "Current minimum: -0.3702\n",
      "Iteration No: 10 started. Evaluating function at random point.\n",
      "[276.21007025891987, 'l1', 3, 2]\n"
     ]
    },
    {
     "name": "stderr",
     "output_type": "stream",
     "text": [
      "/usr/local/lib/python3.7/site-packages/sklearn/linear_model/logistic.py:432: FutureWarning: Default solver will be changed to 'lbfgs' in 0.22. Specify a solver to silence this warning.\n",
      "  FutureWarning)\n",
      "/usr/local/lib/python3.7/site-packages/sklearn/utils/validation.py:724: DataConversionWarning: A column-vector y was passed when a 1d array was expected. Please change the shape of y to (n_samples, ), for example using ravel().\n",
      "  y = column_or_1d(y, warn=True)\n",
      "/usr/local/lib/python3.7/site-packages/sklearn/linear_model/logistic.py:1544: UserWarning: 'n_jobs' > 1 does not have any effect when 'solver' is set to 'liblinear'. Got 'n_jobs' = 6.\n",
      "  \" = {}.\".format(effective_n_jobs(self.n_jobs)))\n",
      "/usr/local/lib/python3.7/site-packages/sklearn/linear_model/logistic.py:432: FutureWarning: Default solver will be changed to 'lbfgs' in 0.22. Specify a solver to silence this warning.\n",
      "  FutureWarning)\n",
      "/usr/local/lib/python3.7/site-packages/sklearn/utils/validation.py:724: DataConversionWarning: A column-vector y was passed when a 1d array was expected. Please change the shape of y to (n_samples, ), for example using ravel().\n",
      "  y = column_or_1d(y, warn=True)\n",
      "/usr/local/lib/python3.7/site-packages/sklearn/linear_model/logistic.py:1544: UserWarning: 'n_jobs' > 1 does not have any effect when 'solver' is set to 'liblinear'. Got 'n_jobs' = 6.\n",
      "  \" = {}.\".format(effective_n_jobs(self.n_jobs)))\n",
      "/usr/local/lib/python3.7/site-packages/sklearn/linear_model/logistic.py:432: FutureWarning: Default solver will be changed to 'lbfgs' in 0.22. Specify a solver to silence this warning.\n",
      "  FutureWarning)\n",
      "/usr/local/lib/python3.7/site-packages/sklearn/utils/validation.py:724: DataConversionWarning: A column-vector y was passed when a 1d array was expected. Please change the shape of y to (n_samples, ), for example using ravel().\n",
      "  y = column_or_1d(y, warn=True)\n",
      "/usr/local/lib/python3.7/site-packages/sklearn/linear_model/logistic.py:1544: UserWarning: 'n_jobs' > 1 does not have any effect when 'solver' is set to 'liblinear'. Got 'n_jobs' = 6.\n",
      "  \" = {}.\".format(effective_n_jobs(self.n_jobs)))\n"
     ]
    },
    {
     "name": "stdout",
     "output_type": "stream",
     "text": [
      "AVG precision: 0.3542058200405942 - ROC AUC: 0.6181818181818182\n",
      "Iteration No: 10 ended. Evaluation done at random point.\n",
      "Time taken: 0.2715\n",
      "Function value obtained: -0.3542\n",
      "Current minimum: -0.3702\n",
      "Iteration No: 11 started. Evaluating function at random point.\n",
      "[16.769121724580142, 'l2', 5, 5]\n",
      "AVG precision: 0.3444148838355644 - ROC AUC: 0.6529850746268656\n",
      "Iteration No: 11 ended. Evaluation done at random point.\n",
      "Time taken: 0.1520\n",
      "Function value obtained: -0.3444\n",
      "Current minimum: -0.3702\n",
      "Iteration No: 12 started. Evaluating function at random point.\n",
      "[179.74955299653243, 'l2', 5, 3]\n"
     ]
    },
    {
     "name": "stderr",
     "output_type": "stream",
     "text": [
      "/usr/local/lib/python3.7/site-packages/sklearn/linear_model/logistic.py:432: FutureWarning: Default solver will be changed to 'lbfgs' in 0.22. Specify a solver to silence this warning.\n",
      "  FutureWarning)\n",
      "/usr/local/lib/python3.7/site-packages/sklearn/utils/validation.py:724: DataConversionWarning: A column-vector y was passed when a 1d array was expected. Please change the shape of y to (n_samples, ), for example using ravel().\n",
      "  y = column_or_1d(y, warn=True)\n",
      "/usr/local/lib/python3.7/site-packages/sklearn/linear_model/logistic.py:1544: UserWarning: 'n_jobs' > 1 does not have any effect when 'solver' is set to 'liblinear'. Got 'n_jobs' = 6.\n",
      "  \" = {}.\".format(effective_n_jobs(self.n_jobs)))\n",
      "/usr/local/lib/python3.7/site-packages/sklearn/linear_model/logistic.py:432: FutureWarning: Default solver will be changed to 'lbfgs' in 0.22. Specify a solver to silence this warning.\n",
      "  FutureWarning)\n",
      "/usr/local/lib/python3.7/site-packages/sklearn/utils/validation.py:724: DataConversionWarning: A column-vector y was passed when a 1d array was expected. Please change the shape of y to (n_samples, ), for example using ravel().\n",
      "  y = column_or_1d(y, warn=True)\n",
      "/usr/local/lib/python3.7/site-packages/sklearn/linear_model/logistic.py:1544: UserWarning: 'n_jobs' > 1 does not have any effect when 'solver' is set to 'liblinear'. Got 'n_jobs' = 6.\n",
      "  \" = {}.\".format(effective_n_jobs(self.n_jobs)))\n",
      "/usr/local/lib/python3.7/site-packages/sklearn/linear_model/logistic.py:432: FutureWarning: Default solver will be changed to 'lbfgs' in 0.22. Specify a solver to silence this warning.\n",
      "  FutureWarning)\n",
      "/usr/local/lib/python3.7/site-packages/sklearn/utils/validation.py:724: DataConversionWarning: A column-vector y was passed when a 1d array was expected. Please change the shape of y to (n_samples, ), for example using ravel().\n",
      "  y = column_or_1d(y, warn=True)\n",
      "/usr/local/lib/python3.7/site-packages/sklearn/linear_model/logistic.py:1544: UserWarning: 'n_jobs' > 1 does not have any effect when 'solver' is set to 'liblinear'. Got 'n_jobs' = 6.\n",
      "  \" = {}.\".format(effective_n_jobs(self.n_jobs)))\n"
     ]
    },
    {
     "name": "stdout",
     "output_type": "stream",
     "text": [
      "AVG precision: 0.32626488149857097 - ROC AUC: 0.6167571234735415\n",
      "Iteration No: 12 ended. Evaluation done at random point.\n",
      "Time taken: 0.1093\n",
      "Function value obtained: -0.3263\n",
      "Current minimum: -0.3702\n",
      "Iteration No: 13 started. Evaluating function at random point.\n",
      "[241.78291622300338, 'l1', 1, 2]\n",
      "AVG precision: 0.37043549947864685 - ROC AUC: 0.6694029850746268\n",
      "Iteration No: 13 ended. Evaluation done at random point.\n",
      "Time taken: 0.1124\n",
      "Function value obtained: -0.3704\n",
      "Current minimum: -0.3704\n",
      "Iteration No: 14 started. Evaluating function at random point.\n",
      "[91.108012830608, 'l1', 4, 1]\n",
      "AVG precision: 0.3025274713887936 - ROC AUC: 0.6165535956580733\n",
      "Iteration No: 14 ended. Evaluation done at random point.\n",
      "Time taken: 0.0712\n",
      "Function value obtained: -0.3025\n",
      "Current minimum: -0.3704\n",
      "Iteration No: 15 started. Evaluating function at random point.\n",
      "[367.7388466201667, 'l1', 5, 3]\n"
     ]
    },
    {
     "name": "stderr",
     "output_type": "stream",
     "text": [
      "/usr/local/lib/python3.7/site-packages/sklearn/linear_model/logistic.py:432: FutureWarning: Default solver will be changed to 'lbfgs' in 0.22. Specify a solver to silence this warning.\n",
      "  FutureWarning)\n",
      "/usr/local/lib/python3.7/site-packages/sklearn/utils/validation.py:724: DataConversionWarning: A column-vector y was passed when a 1d array was expected. Please change the shape of y to (n_samples, ), for example using ravel().\n",
      "  y = column_or_1d(y, warn=True)\n",
      "/usr/local/lib/python3.7/site-packages/sklearn/linear_model/logistic.py:1544: UserWarning: 'n_jobs' > 1 does not have any effect when 'solver' is set to 'liblinear'. Got 'n_jobs' = 6.\n",
      "  \" = {}.\".format(effective_n_jobs(self.n_jobs)))\n",
      "/usr/local/lib/python3.7/site-packages/sklearn/linear_model/logistic.py:432: FutureWarning: Default solver will be changed to 'lbfgs' in 0.22. Specify a solver to silence this warning.\n",
      "  FutureWarning)\n",
      "/usr/local/lib/python3.7/site-packages/sklearn/utils/validation.py:724: DataConversionWarning: A column-vector y was passed when a 1d array was expected. Please change the shape of y to (n_samples, ), for example using ravel().\n",
      "  y = column_or_1d(y, warn=True)\n",
      "/usr/local/lib/python3.7/site-packages/sklearn/linear_model/logistic.py:1544: UserWarning: 'n_jobs' > 1 does not have any effect when 'solver' is set to 'liblinear'. Got 'n_jobs' = 6.\n",
      "  \" = {}.\".format(effective_n_jobs(self.n_jobs)))\n"
     ]
    },
    {
     "name": "stdout",
     "output_type": "stream",
     "text": [
      "AVG precision: 0.2936994671050216 - ROC AUC: 0.5844301221166893\n",
      "Iteration No: 15 ended. Evaluation done at random point.\n",
      "Time taken: 0.4628\n",
      "Function value obtained: -0.2937\n",
      "Current minimum: -0.3704\n",
      "Iteration No: 16 started. Evaluating function at random point.\n",
      "[988.2332353728526, 'l2', 3, 4]\n",
      "AVG precision: 0.32484657077432877 - ROC AUC: 0.605563093622795\n",
      "Iteration No: 16 ended. Evaluation done at random point.\n",
      "Time taken: 0.1531\n",
      "Function value obtained: -0.3248\n",
      "Current minimum: -0.3704\n",
      "Iteration No: 17 started. Evaluating function at random point.\n",
      "[655.6507969899259, 'l2', 5, 3]\n"
     ]
    },
    {
     "name": "stderr",
     "output_type": "stream",
     "text": [
      "/usr/local/lib/python3.7/site-packages/sklearn/linear_model/logistic.py:432: FutureWarning: Default solver will be changed to 'lbfgs' in 0.22. Specify a solver to silence this warning.\n",
      "  FutureWarning)\n",
      "/usr/local/lib/python3.7/site-packages/sklearn/utils/validation.py:724: DataConversionWarning: A column-vector y was passed when a 1d array was expected. Please change the shape of y to (n_samples, ), for example using ravel().\n",
      "  y = column_or_1d(y, warn=True)\n",
      "/usr/local/lib/python3.7/site-packages/sklearn/linear_model/logistic.py:1544: UserWarning: 'n_jobs' > 1 does not have any effect when 'solver' is set to 'liblinear'. Got 'n_jobs' = 6.\n",
      "  \" = {}.\".format(effective_n_jobs(self.n_jobs)))\n",
      "/usr/local/lib/python3.7/site-packages/sklearn/linear_model/logistic.py:432: FutureWarning: Default solver will be changed to 'lbfgs' in 0.22. Specify a solver to silence this warning.\n",
      "  FutureWarning)\n",
      "/usr/local/lib/python3.7/site-packages/sklearn/utils/validation.py:724: DataConversionWarning: A column-vector y was passed when a 1d array was expected. Please change the shape of y to (n_samples, ), for example using ravel().\n",
      "  y = column_or_1d(y, warn=True)\n",
      "/usr/local/lib/python3.7/site-packages/sklearn/linear_model/logistic.py:1544: UserWarning: 'n_jobs' > 1 does not have any effect when 'solver' is set to 'liblinear'. Got 'n_jobs' = 6.\n",
      "  \" = {}.\".format(effective_n_jobs(self.n_jobs)))\n",
      "/usr/local/lib/python3.7/site-packages/sklearn/linear_model/logistic.py:432: FutureWarning: Default solver will be changed to 'lbfgs' in 0.22. Specify a solver to silence this warning.\n",
      "  FutureWarning)\n",
      "/usr/local/lib/python3.7/site-packages/sklearn/utils/validation.py:724: DataConversionWarning: A column-vector y was passed when a 1d array was expected. Please change the shape of y to (n_samples, ), for example using ravel().\n",
      "  y = column_or_1d(y, warn=True)\n",
      "/usr/local/lib/python3.7/site-packages/sklearn/linear_model/logistic.py:1544: UserWarning: 'n_jobs' > 1 does not have any effect when 'solver' is set to 'liblinear'. Got 'n_jobs' = 6.\n",
      "  \" = {}.\".format(effective_n_jobs(self.n_jobs)))\n"
     ]
    },
    {
     "name": "stdout",
     "output_type": "stream",
     "text": [
      "AVG precision: 0.3095802780989875 - ROC AUC: 0.6028493894165535\n",
      "Iteration No: 17 ended. Evaluation done at random point.\n",
      "Time taken: 0.1235\n",
      "Function value obtained: -0.3096\n",
      "Current minimum: -0.3704\n",
      "Iteration No: 18 started. Evaluating function at random point.\n",
      "[651.5854231583742, 'l1', 2, 1]\n",
      "AVG precision: 0.330204073419612 - ROC AUC: 0.5879579375848033\n",
      "Iteration No: 18 ended. Evaluation done at random point.\n",
      "Time taken: 0.1865\n",
      "Function value obtained: -0.3302\n",
      "Current minimum: -0.3704\n",
      "Iteration No: 19 started. Evaluating function at random point.\n",
      "[612.9579405315293, 'l2', 2, 5]\n"
     ]
    },
    {
     "name": "stderr",
     "output_type": "stream",
     "text": [
      "/usr/local/lib/python3.7/site-packages/sklearn/linear_model/logistic.py:432: FutureWarning: Default solver will be changed to 'lbfgs' in 0.22. Specify a solver to silence this warning.\n",
      "  FutureWarning)\n",
      "/usr/local/lib/python3.7/site-packages/sklearn/utils/validation.py:724: DataConversionWarning: A column-vector y was passed when a 1d array was expected. Please change the shape of y to (n_samples, ), for example using ravel().\n",
      "  y = column_or_1d(y, warn=True)\n",
      "/usr/local/lib/python3.7/site-packages/sklearn/linear_model/logistic.py:1544: UserWarning: 'n_jobs' > 1 does not have any effect when 'solver' is set to 'liblinear'. Got 'n_jobs' = 6.\n",
      "  \" = {}.\".format(effective_n_jobs(self.n_jobs)))\n",
      "/usr/local/lib/python3.7/site-packages/sklearn/linear_model/logistic.py:432: FutureWarning: Default solver will be changed to 'lbfgs' in 0.22. Specify a solver to silence this warning.\n",
      "  FutureWarning)\n",
      "/usr/local/lib/python3.7/site-packages/sklearn/utils/validation.py:724: DataConversionWarning: A column-vector y was passed when a 1d array was expected. Please change the shape of y to (n_samples, ), for example using ravel().\n",
      "  y = column_or_1d(y, warn=True)\n",
      "/usr/local/lib/python3.7/site-packages/sklearn/linear_model/logistic.py:1544: UserWarning: 'n_jobs' > 1 does not have any effect when 'solver' is set to 'liblinear'. Got 'n_jobs' = 6.\n",
      "  \" = {}.\".format(effective_n_jobs(self.n_jobs)))\n"
     ]
    },
    {
     "name": "stdout",
     "output_type": "stream",
     "text": [
      "AVG precision: 0.3869318074791487 - ROC AUC: 0.6748303934871098\n",
      "Iteration No: 19 ended. Evaluation done at random point.\n",
      "Time taken: 0.1803\n",
      "Function value obtained: -0.3869\n",
      "Current minimum: -0.3869\n",
      "Iteration No: 20 started. Evaluating function at random point.\n",
      "[362.71049786530364, 'l1', 4, 4]\n",
      "AVG precision: 0.27018793748918735 - ROC AUC: 0.5688602442333786\n",
      "Iteration No: 20 ended. Evaluation done at random point.\n",
      "Time taken: 0.7741\n",
      "Function value obtained: -0.2702\n",
      "Current minimum: -0.3869\n",
      "Iteration No: 21 started. Searching for the next optimal point.\n",
      "[631.8609771833967, 'l1', 2, 4]\n",
      "AVG precision: 0.42195912019819015 - ROC AUC: 0.6806648575305291\n"
     ]
    },
    {
     "name": "stderr",
     "output_type": "stream",
     "text": [
      "/usr/local/lib/python3.7/site-packages/sklearn/linear_model/logistic.py:432: FutureWarning: Default solver will be changed to 'lbfgs' in 0.22. Specify a solver to silence this warning.\n",
      "  FutureWarning)\n",
      "/usr/local/lib/python3.7/site-packages/sklearn/utils/validation.py:724: DataConversionWarning: A column-vector y was passed when a 1d array was expected. Please change the shape of y to (n_samples, ), for example using ravel().\n",
      "  y = column_or_1d(y, warn=True)\n",
      "/usr/local/lib/python3.7/site-packages/sklearn/linear_model/logistic.py:1544: UserWarning: 'n_jobs' > 1 does not have any effect when 'solver' is set to 'liblinear'. Got 'n_jobs' = 6.\n",
      "  \" = {}.\".format(effective_n_jobs(self.n_jobs)))\n"
     ]
    },
    {
     "name": "stdout",
     "output_type": "stream",
     "text": [
      "Iteration No: 21 ended. Search finished for the next optimal point.\n",
      "Time taken: 0.5239\n",
      "Function value obtained: -0.4220\n",
      "Current minimum: -0.4220\n",
      "Iteration No: 22 started. Searching for the next optimal point.\n",
      "[812.9662888602005, 'l2', 2, 4]\n",
      "AVG precision: 0.39316224590447396 - ROC AUC: 0.6743554952510177\n"
     ]
    },
    {
     "name": "stderr",
     "output_type": "stream",
     "text": [
      "/usr/local/lib/python3.7/site-packages/sklearn/linear_model/logistic.py:432: FutureWarning: Default solver will be changed to 'lbfgs' in 0.22. Specify a solver to silence this warning.\n",
      "  FutureWarning)\n",
      "/usr/local/lib/python3.7/site-packages/sklearn/utils/validation.py:724: DataConversionWarning: A column-vector y was passed when a 1d array was expected. Please change the shape of y to (n_samples, ), for example using ravel().\n",
      "  y = column_or_1d(y, warn=True)\n",
      "/usr/local/lib/python3.7/site-packages/sklearn/linear_model/logistic.py:1544: UserWarning: 'n_jobs' > 1 does not have any effect when 'solver' is set to 'liblinear'. Got 'n_jobs' = 6.\n",
      "  \" = {}.\".format(effective_n_jobs(self.n_jobs)))\n"
     ]
    },
    {
     "name": "stdout",
     "output_type": "stream",
     "text": [
      "Iteration No: 22 ended. Search finished for the next optimal point.\n",
      "Time taken: 0.4758\n",
      "Function value obtained: -0.3932\n",
      "Current minimum: -0.4220\n",
      "Iteration No: 23 started. Searching for the next optimal point.\n",
      "[636.2097093054006, 'l1', 2, 4]\n"
     ]
    },
    {
     "name": "stderr",
     "output_type": "stream",
     "text": [
      "/usr/local/lib/python3.7/site-packages/sklearn/linear_model/logistic.py:432: FutureWarning: Default solver will be changed to 'lbfgs' in 0.22. Specify a solver to silence this warning.\n",
      "  FutureWarning)\n",
      "/usr/local/lib/python3.7/site-packages/sklearn/utils/validation.py:724: DataConversionWarning: A column-vector y was passed when a 1d array was expected. Please change the shape of y to (n_samples, ), for example using ravel().\n",
      "  y = column_or_1d(y, warn=True)\n",
      "/usr/local/lib/python3.7/site-packages/sklearn/linear_model/logistic.py:1544: UserWarning: 'n_jobs' > 1 does not have any effect when 'solver' is set to 'liblinear'. Got 'n_jobs' = 6.\n",
      "  \" = {}.\".format(effective_n_jobs(self.n_jobs)))\n"
     ]
    },
    {
     "name": "stdout",
     "output_type": "stream",
     "text": [
      "AVG precision: 0.4239882367083888 - ROC AUC: 0.6812075983717775\n",
      "Iteration No: 23 ended. Search finished for the next optimal point.\n",
      "Time taken: 0.5480\n",
      "Function value obtained: -0.4240\n",
      "Current minimum: -0.4240\n",
      "Iteration No: 24 started. Searching for the next optimal point.\n",
      "[966.4094502119888, 'l1', 2, 4]\n"
     ]
    },
    {
     "name": "stderr",
     "output_type": "stream",
     "text": [
      "/usr/local/lib/python3.7/site-packages/sklearn/linear_model/logistic.py:432: FutureWarning: Default solver will be changed to 'lbfgs' in 0.22. Specify a solver to silence this warning.\n",
      "  FutureWarning)\n",
      "/usr/local/lib/python3.7/site-packages/sklearn/utils/validation.py:724: DataConversionWarning: A column-vector y was passed when a 1d array was expected. Please change the shape of y to (n_samples, ), for example using ravel().\n",
      "  y = column_or_1d(y, warn=True)\n",
      "/usr/local/lib/python3.7/site-packages/sklearn/linear_model/logistic.py:1544: UserWarning: 'n_jobs' > 1 does not have any effect when 'solver' is set to 'liblinear'. Got 'n_jobs' = 6.\n",
      "  \" = {}.\".format(effective_n_jobs(self.n_jobs)))\n"
     ]
    },
    {
     "name": "stdout",
     "output_type": "stream",
     "text": [
      "AVG precision: 0.4088258785428651 - ROC AUC: 0.6760515603799186\n",
      "Iteration No: 24 ended. Search finished for the next optimal point.\n",
      "Time taken: 0.5584\n",
      "Function value obtained: -0.4088\n",
      "Current minimum: -0.4240\n",
      "Iteration No: 25 started. Searching for the next optimal point.\n",
      "[997.8826855539633, 'l1', 3, 5]\n"
     ]
    },
    {
     "name": "stderr",
     "output_type": "stream",
     "text": [
      "/usr/local/lib/python3.7/site-packages/sklearn/linear_model/logistic.py:432: FutureWarning: Default solver will be changed to 'lbfgs' in 0.22. Specify a solver to silence this warning.\n",
      "  FutureWarning)\n",
      "/usr/local/lib/python3.7/site-packages/sklearn/utils/validation.py:724: DataConversionWarning: A column-vector y was passed when a 1d array was expected. Please change the shape of y to (n_samples, ), for example using ravel().\n",
      "  y = column_or_1d(y, warn=True)\n",
      "/usr/local/lib/python3.7/site-packages/sklearn/linear_model/logistic.py:1544: UserWarning: 'n_jobs' > 1 does not have any effect when 'solver' is set to 'liblinear'. Got 'n_jobs' = 6.\n",
      "  \" = {}.\".format(effective_n_jobs(self.n_jobs)))\n"
     ]
    },
    {
     "name": "stdout",
     "output_type": "stream",
     "text": [
      "AVG precision: 0.3217158454667257 - ROC AUC: 0.5863636363636364\n",
      "Iteration No: 25 ended. Search finished for the next optimal point.\n",
      "Time taken: 0.7185\n",
      "Function value obtained: -0.3217\n",
      "Current minimum: -0.4240\n",
      "Iteration No: 26 started. Searching for the next optimal point.\n",
      "[740.7236718010084, 'l1', 2, 4]\n"
     ]
    },
    {
     "name": "stderr",
     "output_type": "stream",
     "text": [
      "/usr/local/lib/python3.7/site-packages/sklearn/linear_model/logistic.py:432: FutureWarning: Default solver will be changed to 'lbfgs' in 0.22. Specify a solver to silence this warning.\n",
      "  FutureWarning)\n",
      "/usr/local/lib/python3.7/site-packages/sklearn/utils/validation.py:724: DataConversionWarning: A column-vector y was passed when a 1d array was expected. Please change the shape of y to (n_samples, ), for example using ravel().\n",
      "  y = column_or_1d(y, warn=True)\n",
      "/usr/local/lib/python3.7/site-packages/sklearn/linear_model/logistic.py:1544: UserWarning: 'n_jobs' > 1 does not have any effect when 'solver' is set to 'liblinear'. Got 'n_jobs' = 6.\n",
      "  \" = {}.\".format(effective_n_jobs(self.n_jobs)))\n"
     ]
    },
    {
     "name": "stdout",
     "output_type": "stream",
     "text": [
      "AVG precision: 0.4184109967893808 - ROC AUC: 0.6798507462686567\n",
      "Iteration No: 26 ended. Search finished for the next optimal point.\n",
      "Time taken: 0.5584\n",
      "Function value obtained: -0.4184\n",
      "Current minimum: -0.4240\n",
      "Iteration No: 27 started. Searching for the next optimal point.\n",
      "[994.8063941505845, 'l1', 2, 4]\n"
     ]
    },
    {
     "name": "stderr",
     "output_type": "stream",
     "text": [
      "/usr/local/lib/python3.7/site-packages/sklearn/linear_model/logistic.py:432: FutureWarning: Default solver will be changed to 'lbfgs' in 0.22. Specify a solver to silence this warning.\n",
      "  FutureWarning)\n",
      "/usr/local/lib/python3.7/site-packages/sklearn/utils/validation.py:724: DataConversionWarning: A column-vector y was passed when a 1d array was expected. Please change the shape of y to (n_samples, ), for example using ravel().\n",
      "  y = column_or_1d(y, warn=True)\n",
      "/usr/local/lib/python3.7/site-packages/sklearn/linear_model/logistic.py:1544: UserWarning: 'n_jobs' > 1 does not have any effect when 'solver' is set to 'liblinear'. Got 'n_jobs' = 6.\n",
      "  \" = {}.\".format(effective_n_jobs(self.n_jobs)))\n"
     ]
    },
    {
     "name": "stdout",
     "output_type": "stream",
     "text": [
      "AVG precision: 0.40789992649261286 - ROC AUC: 0.6750339213025781\n",
      "Iteration No: 27 ended. Search finished for the next optimal point.\n",
      "Time taken: 0.5536\n",
      "Function value obtained: -0.4079\n",
      "Current minimum: -0.4240\n",
      "Iteration No: 28 started. Searching for the next optimal point.\n",
      "[649.7991740567187, 'l1', 2, 5]\n"
     ]
    },
    {
     "name": "stderr",
     "output_type": "stream",
     "text": [
      "/usr/local/lib/python3.7/site-packages/sklearn/linear_model/logistic.py:432: FutureWarning: Default solver will be changed to 'lbfgs' in 0.22. Specify a solver to silence this warning.\n",
      "  FutureWarning)\n",
      "/usr/local/lib/python3.7/site-packages/sklearn/utils/validation.py:724: DataConversionWarning: A column-vector y was passed when a 1d array was expected. Please change the shape of y to (n_samples, ), for example using ravel().\n",
      "  y = column_or_1d(y, warn=True)\n",
      "/usr/local/lib/python3.7/site-packages/sklearn/linear_model/logistic.py:1544: UserWarning: 'n_jobs' > 1 does not have any effect when 'solver' is set to 'liblinear'. Got 'n_jobs' = 6.\n",
      "  \" = {}.\".format(effective_n_jobs(self.n_jobs)))\n"
     ]
    },
    {
     "name": "stdout",
     "output_type": "stream",
     "text": [
      "AVG precision: 0.41828876193365594 - ROC AUC: 0.6778833107191315\n",
      "Iteration No: 28 ended. Search finished for the next optimal point.\n",
      "Time taken: 0.5804\n",
      "Function value obtained: -0.4183\n",
      "Current minimum: -0.4240\n",
      "Iteration No: 29 started. Searching for the next optimal point.\n",
      "[584.3936609490627, 'l1', 2, 4]\n"
     ]
    },
    {
     "name": "stderr",
     "output_type": "stream",
     "text": [
      "/usr/local/lib/python3.7/site-packages/sklearn/linear_model/logistic.py:432: FutureWarning: Default solver will be changed to 'lbfgs' in 0.22. Specify a solver to silence this warning.\n",
      "  FutureWarning)\n",
      "/usr/local/lib/python3.7/site-packages/sklearn/utils/validation.py:724: DataConversionWarning: A column-vector y was passed when a 1d array was expected. Please change the shape of y to (n_samples, ), for example using ravel().\n",
      "  y = column_or_1d(y, warn=True)\n",
      "/usr/local/lib/python3.7/site-packages/sklearn/linear_model/logistic.py:1544: UserWarning: 'n_jobs' > 1 does not have any effect when 'solver' is set to 'liblinear'. Got 'n_jobs' = 6.\n",
      "  \" = {}.\".format(effective_n_jobs(self.n_jobs)))\n"
     ]
    },
    {
     "name": "stdout",
     "output_type": "stream",
     "text": [
      "AVG precision: 0.4240188440987942 - ROC AUC: 0.6792401628222523\n",
      "Iteration No: 29 ended. Search finished for the next optimal point.\n",
      "Time taken: 0.5345\n",
      "Function value obtained: -0.4240\n",
      "Current minimum: -0.4240\n",
      "Iteration No: 30 started. Searching for the next optimal point.\n",
      "[584.8924886406253, 'l1', 2, 4]\n"
     ]
    },
    {
     "name": "stderr",
     "output_type": "stream",
     "text": [
      "/usr/local/lib/python3.7/site-packages/sklearn/linear_model/logistic.py:432: FutureWarning: Default solver will be changed to 'lbfgs' in 0.22. Specify a solver to silence this warning.\n",
      "  FutureWarning)\n",
      "/usr/local/lib/python3.7/site-packages/sklearn/utils/validation.py:724: DataConversionWarning: A column-vector y was passed when a 1d array was expected. Please change the shape of y to (n_samples, ), for example using ravel().\n",
      "  y = column_or_1d(y, warn=True)\n",
      "/usr/local/lib/python3.7/site-packages/sklearn/linear_model/logistic.py:1544: UserWarning: 'n_jobs' > 1 does not have any effect when 'solver' is set to 'liblinear'. Got 'n_jobs' = 6.\n",
      "  \" = {}.\".format(effective_n_jobs(self.n_jobs)))\n"
     ]
    },
    {
     "name": "stdout",
     "output_type": "stream",
     "text": [
      "AVG precision: 0.42492265129524615 - ROC AUC: 0.6800542740841248\n",
      "Iteration No: 30 ended. Search finished for the next optimal point.\n",
      "Time taken: 0.5336\n",
      "Function value obtained: -0.4249\n",
      "Current minimum: -0.4249\n",
      "Iteration No: 31 started. Searching for the next optimal point.\n",
      "[283.13533249575295, 'l1', 2, 5]\n"
     ]
    },
    {
     "name": "stderr",
     "output_type": "stream",
     "text": [
      "/usr/local/lib/python3.7/site-packages/sklearn/linear_model/logistic.py:432: FutureWarning: Default solver will be changed to 'lbfgs' in 0.22. Specify a solver to silence this warning.\n",
      "  FutureWarning)\n",
      "/usr/local/lib/python3.7/site-packages/sklearn/utils/validation.py:724: DataConversionWarning: A column-vector y was passed when a 1d array was expected. Please change the shape of y to (n_samples, ), for example using ravel().\n",
      "  y = column_or_1d(y, warn=True)\n",
      "/usr/local/lib/python3.7/site-packages/sklearn/linear_model/logistic.py:1544: UserWarning: 'n_jobs' > 1 does not have any effect when 'solver' is set to 'liblinear'. Got 'n_jobs' = 6.\n",
      "  \" = {}.\".format(effective_n_jobs(self.n_jobs)))\n"
     ]
    },
    {
     "name": "stdout",
     "output_type": "stream",
     "text": [
      "AVG precision: 0.42124653632787984 - ROC AUC: 0.674966078697422\n",
      "Iteration No: 31 ended. Search finished for the next optimal point.\n",
      "Time taken: 0.5329\n",
      "Function value obtained: -0.4212\n",
      "Current minimum: -0.4249\n",
      "Iteration No: 32 started. Searching for the next optimal point.\n",
      "[527.416921438456, 'l1', 2, 4]\n",
      "AVG precision: 0.4281986288940378 - ROC AUC: 0.6808005427408413\n"
     ]
    },
    {
     "name": "stderr",
     "output_type": "stream",
     "text": [
      "/usr/local/lib/python3.7/site-packages/sklearn/linear_model/logistic.py:432: FutureWarning: Default solver will be changed to 'lbfgs' in 0.22. Specify a solver to silence this warning.\n",
      "  FutureWarning)\n",
      "/usr/local/lib/python3.7/site-packages/sklearn/utils/validation.py:724: DataConversionWarning: A column-vector y was passed when a 1d array was expected. Please change the shape of y to (n_samples, ), for example using ravel().\n",
      "  y = column_or_1d(y, warn=True)\n",
      "/usr/local/lib/python3.7/site-packages/sklearn/linear_model/logistic.py:1544: UserWarning: 'n_jobs' > 1 does not have any effect when 'solver' is set to 'liblinear'. Got 'n_jobs' = 6.\n",
      "  \" = {}.\".format(effective_n_jobs(self.n_jobs)))\n"
     ]
    },
    {
     "name": "stdout",
     "output_type": "stream",
     "text": [
      "Iteration No: 32 ended. Search finished for the next optimal point.\n",
      "Time taken: 0.5077\n",
      "Function value obtained: -0.4282\n",
      "Current minimum: -0.4282\n",
      "Iteration No: 33 started. Searching for the next optimal point.\n",
      "[442.8130987379365, 'l1', 2, 4]\n"
     ]
    },
    {
     "name": "stderr",
     "output_type": "stream",
     "text": [
      "/usr/local/lib/python3.7/site-packages/sklearn/linear_model/logistic.py:432: FutureWarning: Default solver will be changed to 'lbfgs' in 0.22. Specify a solver to silence this warning.\n",
      "  FutureWarning)\n",
      "/usr/local/lib/python3.7/site-packages/sklearn/utils/validation.py:724: DataConversionWarning: A column-vector y was passed when a 1d array was expected. Please change the shape of y to (n_samples, ), for example using ravel().\n",
      "  y = column_or_1d(y, warn=True)\n",
      "/usr/local/lib/python3.7/site-packages/sklearn/linear_model/logistic.py:1544: UserWarning: 'n_jobs' > 1 does not have any effect when 'solver' is set to 'liblinear'. Got 'n_jobs' = 6.\n",
      "  \" = {}.\".format(effective_n_jobs(self.n_jobs)))\n"
     ]
    },
    {
     "name": "stdout",
     "output_type": "stream",
     "text": [
      "AVG precision: 0.4247186446274338 - ROC AUC: 0.6791044776119401\n",
      "Iteration No: 33 ended. Search finished for the next optimal point.\n",
      "Time taken: 0.5857\n",
      "Function value obtained: -0.4247\n",
      "Current minimum: -0.4282\n",
      "Iteration No: 34 started. Searching for the next optimal point.\n",
      "[378.97436642475856, 'l1', 2, 4]\n",
      "AVG precision: 0.42633752011553294 - ROC AUC: 0.676865671641791\n"
     ]
    },
    {
     "name": "stderr",
     "output_type": "stream",
     "text": [
      "/usr/local/lib/python3.7/site-packages/sklearn/linear_model/logistic.py:432: FutureWarning: Default solver will be changed to 'lbfgs' in 0.22. Specify a solver to silence this warning.\n",
      "  FutureWarning)\n",
      "/usr/local/lib/python3.7/site-packages/sklearn/utils/validation.py:724: DataConversionWarning: A column-vector y was passed when a 1d array was expected. Please change the shape of y to (n_samples, ), for example using ravel().\n",
      "  y = column_or_1d(y, warn=True)\n",
      "/usr/local/lib/python3.7/site-packages/sklearn/linear_model/logistic.py:1544: UserWarning: 'n_jobs' > 1 does not have any effect when 'solver' is set to 'liblinear'. Got 'n_jobs' = 6.\n",
      "  \" = {}.\".format(effective_n_jobs(self.n_jobs)))\n"
     ]
    },
    {
     "name": "stdout",
     "output_type": "stream",
     "text": [
      "Iteration No: 34 ended. Search finished for the next optimal point.\n",
      "Time taken: 0.5091\n",
      "Function value obtained: -0.4263\n",
      "Current minimum: -0.4282\n",
      "Iteration No: 35 started. Searching for the next optimal point.\n",
      "[383.7088006162781, 'l1', 2, 4]\n"
     ]
    },
    {
     "name": "stderr",
     "output_type": "stream",
     "text": [
      "/usr/local/lib/python3.7/site-packages/sklearn/linear_model/logistic.py:432: FutureWarning: Default solver will be changed to 'lbfgs' in 0.22. Specify a solver to silence this warning.\n",
      "  FutureWarning)\n",
      "/usr/local/lib/python3.7/site-packages/sklearn/utils/validation.py:724: DataConversionWarning: A column-vector y was passed when a 1d array was expected. Please change the shape of y to (n_samples, ), for example using ravel().\n",
      "  y = column_or_1d(y, warn=True)\n",
      "/usr/local/lib/python3.7/site-packages/sklearn/linear_model/logistic.py:1544: UserWarning: 'n_jobs' > 1 does not have any effect when 'solver' is set to 'liblinear'. Got 'n_jobs' = 6.\n",
      "  \" = {}.\".format(effective_n_jobs(self.n_jobs)))\n"
     ]
    },
    {
     "name": "stdout",
     "output_type": "stream",
     "text": [
      "AVG precision: 0.4275308843945699 - ROC AUC: 0.67876526458616\n",
      "Iteration No: 35 ended. Search finished for the next optimal point.\n",
      "Time taken: 0.5382\n",
      "Function value obtained: -0.4275\n",
      "Current minimum: -0.4282\n",
      "Iteration No: 36 started. Searching for the next optimal point.\n",
      "[353.57150200613495, 'l1', 2, 4]\n"
     ]
    },
    {
     "name": "stderr",
     "output_type": "stream",
     "text": [
      "/usr/local/lib/python3.7/site-packages/sklearn/linear_model/logistic.py:432: FutureWarning: Default solver will be changed to 'lbfgs' in 0.22. Specify a solver to silence this warning.\n",
      "  FutureWarning)\n",
      "/usr/local/lib/python3.7/site-packages/sklearn/utils/validation.py:724: DataConversionWarning: A column-vector y was passed when a 1d array was expected. Please change the shape of y to (n_samples, ), for example using ravel().\n",
      "  y = column_or_1d(y, warn=True)\n",
      "/usr/local/lib/python3.7/site-packages/sklearn/linear_model/logistic.py:1544: UserWarning: 'n_jobs' > 1 does not have any effect when 'solver' is set to 'liblinear'. Got 'n_jobs' = 6.\n",
      "  \" = {}.\".format(effective_n_jobs(self.n_jobs)))\n"
     ]
    },
    {
     "name": "stdout",
     "output_type": "stream",
     "text": [
      "AVG precision: 0.42547096183168626 - ROC AUC: 0.6765264586160109\n",
      "Iteration No: 36 ended. Search finished for the next optimal point.\n",
      "Time taken: 0.5532\n",
      "Function value obtained: -0.4255\n",
      "Current minimum: -0.4282\n",
      "Iteration No: 37 started. Searching for the next optimal point.\n",
      "[360.15181152560314, 'l1', 2, 4]\n"
     ]
    },
    {
     "name": "stderr",
     "output_type": "stream",
     "text": [
      "/usr/local/lib/python3.7/site-packages/sklearn/linear_model/logistic.py:432: FutureWarning: Default solver will be changed to 'lbfgs' in 0.22. Specify a solver to silence this warning.\n",
      "  FutureWarning)\n",
      "/usr/local/lib/python3.7/site-packages/sklearn/utils/validation.py:724: DataConversionWarning: A column-vector y was passed when a 1d array was expected. Please change the shape of y to (n_samples, ), for example using ravel().\n",
      "  y = column_or_1d(y, warn=True)\n",
      "/usr/local/lib/python3.7/site-packages/sklearn/linear_model/logistic.py:1544: UserWarning: 'n_jobs' > 1 does not have any effect when 'solver' is set to 'liblinear'. Got 'n_jobs' = 6.\n",
      "  \" = {}.\".format(effective_n_jobs(self.n_jobs)))\n"
     ]
    },
    {
     "name": "stdout",
     "output_type": "stream",
     "text": [
      "AVG precision: 0.42589578280897195 - ROC AUC: 0.6778154681139755\n",
      "Iteration No: 37 ended. Search finished for the next optimal point.\n",
      "Time taken: 0.5513\n",
      "Function value obtained: -0.4259\n",
      "Current minimum: -0.4282\n",
      "Iteration No: 38 started. Searching for the next optimal point.\n",
      "[345.8703915438146, 'l1', 2, 4]\n"
     ]
    },
    {
     "name": "stderr",
     "output_type": "stream",
     "text": [
      "/usr/local/lib/python3.7/site-packages/sklearn/linear_model/logistic.py:432: FutureWarning: Default solver will be changed to 'lbfgs' in 0.22. Specify a solver to silence this warning.\n",
      "  FutureWarning)\n",
      "/usr/local/lib/python3.7/site-packages/sklearn/utils/validation.py:724: DataConversionWarning: A column-vector y was passed when a 1d array was expected. Please change the shape of y to (n_samples, ), for example using ravel().\n",
      "  y = column_or_1d(y, warn=True)\n",
      "/usr/local/lib/python3.7/site-packages/sklearn/linear_model/logistic.py:1544: UserWarning: 'n_jobs' > 1 does not have any effect when 'solver' is set to 'liblinear'. Got 'n_jobs' = 6.\n",
      "  \" = {}.\".format(effective_n_jobs(self.n_jobs)))\n"
     ]
    },
    {
     "name": "stdout",
     "output_type": "stream",
     "text": [
      "AVG precision: 0.4233823269658664 - ROC AUC: 0.6757801899592945\n",
      "Iteration No: 38 ended. Search finished for the next optimal point.\n",
      "Time taken: 0.5412\n",
      "Function value obtained: -0.4234\n",
      "Current minimum: -0.4282\n",
      "Iteration No: 39 started. Searching for the next optimal point.\n",
      "[373.16539642954234, 'l2', 2, 4]\n",
      "AVG precision: 0.3927217805298155 - ROC AUC: 0.6765943012211669\n"
     ]
    },
    {
     "name": "stderr",
     "output_type": "stream",
     "text": [
      "/usr/local/lib/python3.7/site-packages/sklearn/linear_model/logistic.py:432: FutureWarning: Default solver will be changed to 'lbfgs' in 0.22. Specify a solver to silence this warning.\n",
      "  FutureWarning)\n",
      "/usr/local/lib/python3.7/site-packages/sklearn/utils/validation.py:724: DataConversionWarning: A column-vector y was passed when a 1d array was expected. Please change the shape of y to (n_samples, ), for example using ravel().\n",
      "  y = column_or_1d(y, warn=True)\n",
      "/usr/local/lib/python3.7/site-packages/sklearn/linear_model/logistic.py:1544: UserWarning: 'n_jobs' > 1 does not have any effect when 'solver' is set to 'liblinear'. Got 'n_jobs' = 6.\n",
      "  \" = {}.\".format(effective_n_jobs(self.n_jobs)))\n"
     ]
    },
    {
     "name": "stdout",
     "output_type": "stream",
     "text": [
      "Iteration No: 39 ended. Search finished for the next optimal point.\n",
      "Time taken: 0.4630\n",
      "Function value obtained: -0.3927\n",
      "Current minimum: -0.4282\n",
      "Iteration No: 40 started. Searching for the next optimal point.\n",
      "[367.16478471353173, 'l1', 2, 5]\n"
     ]
    },
    {
     "name": "stderr",
     "output_type": "stream",
     "text": [
      "/usr/local/lib/python3.7/site-packages/sklearn/linear_model/logistic.py:432: FutureWarning: Default solver will be changed to 'lbfgs' in 0.22. Specify a solver to silence this warning.\n",
      "  FutureWarning)\n",
      "/usr/local/lib/python3.7/site-packages/sklearn/utils/validation.py:724: DataConversionWarning: A column-vector y was passed when a 1d array was expected. Please change the shape of y to (n_samples, ), for example using ravel().\n",
      "  y = column_or_1d(y, warn=True)\n",
      "/usr/local/lib/python3.7/site-packages/sklearn/linear_model/logistic.py:1544: UserWarning: 'n_jobs' > 1 does not have any effect when 'solver' is set to 'liblinear'. Got 'n_jobs' = 6.\n",
      "  \" = {}.\".format(effective_n_jobs(self.n_jobs)))\n"
     ]
    },
    {
     "name": "stdout",
     "output_type": "stream",
     "text": [
      "AVG precision: 0.4243962336673419 - ROC AUC: 0.6780189959294437\n",
      "Iteration No: 40 ended. Search finished for the next optimal point.\n",
      "Time taken: 0.5683\n",
      "Function value obtained: -0.4244\n",
      "Current minimum: -0.4282\n",
      "Iteration No: 41 started. Searching for the next optimal point.\n",
      "[367.178560232087, 'l1', 2, 4]\n"
     ]
    },
    {
     "name": "stderr",
     "output_type": "stream",
     "text": [
      "/usr/local/lib/python3.7/site-packages/sklearn/linear_model/logistic.py:432: FutureWarning: Default solver will be changed to 'lbfgs' in 0.22. Specify a solver to silence this warning.\n",
      "  FutureWarning)\n",
      "/usr/local/lib/python3.7/site-packages/sklearn/utils/validation.py:724: DataConversionWarning: A column-vector y was passed when a 1d array was expected. Please change the shape of y to (n_samples, ), for example using ravel().\n",
      "  y = column_or_1d(y, warn=True)\n",
      "/usr/local/lib/python3.7/site-packages/sklearn/linear_model/logistic.py:1544: UserWarning: 'n_jobs' > 1 does not have any effect when 'solver' is set to 'liblinear'. Got 'n_jobs' = 6.\n",
      "  \" = {}.\".format(effective_n_jobs(self.n_jobs)))\n"
     ]
    },
    {
     "name": "stdout",
     "output_type": "stream",
     "text": [
      "AVG precision: 0.4266707122509107 - ROC AUC: 0.678493894165536\n",
      "Iteration No: 41 ended. Search finished for the next optimal point.\n",
      "Time taken: 0.5489\n",
      "Function value obtained: -0.4267\n",
      "Current minimum: -0.4282\n",
      "Iteration No: 42 started. Searching for the next optimal point.\n",
      "[112.24310112806627, 'l1', 2, 4]\n",
      "AVG precision: 0.41385025089782923 - ROC AUC: 0.6757801899592945\n"
     ]
    },
    {
     "name": "stderr",
     "output_type": "stream",
     "text": [
      "/usr/local/lib/python3.7/site-packages/sklearn/linear_model/logistic.py:432: FutureWarning: Default solver will be changed to 'lbfgs' in 0.22. Specify a solver to silence this warning.\n",
      "  FutureWarning)\n",
      "/usr/local/lib/python3.7/site-packages/sklearn/utils/validation.py:724: DataConversionWarning: A column-vector y was passed when a 1d array was expected. Please change the shape of y to (n_samples, ), for example using ravel().\n",
      "  y = column_or_1d(y, warn=True)\n",
      "/usr/local/lib/python3.7/site-packages/sklearn/linear_model/logistic.py:1544: UserWarning: 'n_jobs' > 1 does not have any effect when 'solver' is set to 'liblinear'. Got 'n_jobs' = 6.\n",
      "  \" = {}.\".format(effective_n_jobs(self.n_jobs)))\n"
     ]
    },
    {
     "name": "stdout",
     "output_type": "stream",
     "text": [
      "Iteration No: 42 ended. Search finished for the next optimal point.\n",
      "Time taken: 0.5099\n",
      "Function value obtained: -0.4139\n",
      "Current minimum: -0.4282\n",
      "Iteration No: 43 started. Searching for the next optimal point.\n",
      "[983.2924724659448, 'l1', 2, 5]\n"
     ]
    },
    {
     "name": "stderr",
     "output_type": "stream",
     "text": [
      "/usr/local/lib/python3.7/site-packages/sklearn/linear_model/logistic.py:432: FutureWarning: Default solver will be changed to 'lbfgs' in 0.22. Specify a solver to silence this warning.\n",
      "  FutureWarning)\n",
      "/usr/local/lib/python3.7/site-packages/sklearn/utils/validation.py:724: DataConversionWarning: A column-vector y was passed when a 1d array was expected. Please change the shape of y to (n_samples, ), for example using ravel().\n",
      "  y = column_or_1d(y, warn=True)\n",
      "/usr/local/lib/python3.7/site-packages/sklearn/linear_model/logistic.py:1544: UserWarning: 'n_jobs' > 1 does not have any effect when 'solver' is set to 'liblinear'. Got 'n_jobs' = 6.\n",
      "  \" = {}.\".format(effective_n_jobs(self.n_jobs)))\n"
     ]
    },
    {
     "name": "stdout",
     "output_type": "stream",
     "text": [
      "AVG precision: 0.4052597664681556 - ROC AUC: 0.6753731343283582\n",
      "Iteration No: 43 ended. Search finished for the next optimal point.\n",
      "Time taken: 0.5893\n",
      "Function value obtained: -0.4053\n",
      "Current minimum: -0.4282\n",
      "Iteration No: 44 started. Searching for the next optimal point.\n",
      "[365.55254122541834, 'l1', 2, 3]\n",
      "AVG precision: 0.4161606081412662 - ROC AUC: 0.6803934871099051\n"
     ]
    },
    {
     "name": "stderr",
     "output_type": "stream",
     "text": [
      "/usr/local/lib/python3.7/site-packages/sklearn/linear_model/logistic.py:432: FutureWarning: Default solver will be changed to 'lbfgs' in 0.22. Specify a solver to silence this warning.\n",
      "  FutureWarning)\n",
      "/usr/local/lib/python3.7/site-packages/sklearn/utils/validation.py:724: DataConversionWarning: A column-vector y was passed when a 1d array was expected. Please change the shape of y to (n_samples, ), for example using ravel().\n",
      "  y = column_or_1d(y, warn=True)\n",
      "/usr/local/lib/python3.7/site-packages/sklearn/linear_model/logistic.py:1544: UserWarning: 'n_jobs' > 1 does not have any effect when 'solver' is set to 'liblinear'. Got 'n_jobs' = 6.\n",
      "  \" = {}.\".format(effective_n_jobs(self.n_jobs)))\n"
     ]
    },
    {
     "name": "stdout",
     "output_type": "stream",
     "text": [
      "Iteration No: 44 ended. Search finished for the next optimal point.\n",
      "Time taken: 0.5708\n",
      "Function value obtained: -0.4162\n",
      "Current minimum: -0.4282\n",
      "Iteration No: 45 started. Searching for the next optimal point.\n",
      "[387.8107881656655, 'l1', 2, 3]\n",
      "AVG precision: 0.4167224580961859 - ROC AUC: 0.6814789687924017\n"
     ]
    },
    {
     "name": "stderr",
     "output_type": "stream",
     "text": [
      "/usr/local/lib/python3.7/site-packages/sklearn/linear_model/logistic.py:432: FutureWarning: Default solver will be changed to 'lbfgs' in 0.22. Specify a solver to silence this warning.\n",
      "  FutureWarning)\n",
      "/usr/local/lib/python3.7/site-packages/sklearn/utils/validation.py:724: DataConversionWarning: A column-vector y was passed when a 1d array was expected. Please change the shape of y to (n_samples, ), for example using ravel().\n",
      "  y = column_or_1d(y, warn=True)\n",
      "/usr/local/lib/python3.7/site-packages/sklearn/linear_model/logistic.py:1544: UserWarning: 'n_jobs' > 1 does not have any effect when 'solver' is set to 'liblinear'. Got 'n_jobs' = 6.\n",
      "  \" = {}.\".format(effective_n_jobs(self.n_jobs)))\n"
     ]
    },
    {
     "name": "stdout",
     "output_type": "stream",
     "text": [
      "Iteration No: 45 ended. Search finished for the next optimal point.\n",
      "Time taken: 0.5311\n",
      "Function value obtained: -0.4167\n",
      "Current minimum: -0.4282\n",
      "Iteration No: 46 started. Searching for the next optimal point.\n",
      "[41.577030741597376, 'l1', 2, 4]\n",
      "AVG precision: 0.4123340081608511 - ROC AUC: 0.6767299864314789\n"
     ]
    },
    {
     "name": "stderr",
     "output_type": "stream",
     "text": [
      "/usr/local/lib/python3.7/site-packages/sklearn/linear_model/logistic.py:432: FutureWarning: Default solver will be changed to 'lbfgs' in 0.22. Specify a solver to silence this warning.\n",
      "  FutureWarning)\n",
      "/usr/local/lib/python3.7/site-packages/sklearn/utils/validation.py:724: DataConversionWarning: A column-vector y was passed when a 1d array was expected. Please change the shape of y to (n_samples, ), for example using ravel().\n",
      "  y = column_or_1d(y, warn=True)\n",
      "/usr/local/lib/python3.7/site-packages/sklearn/linear_model/logistic.py:1544: UserWarning: 'n_jobs' > 1 does not have any effect when 'solver' is set to 'liblinear'. Got 'n_jobs' = 6.\n",
      "  \" = {}.\".format(effective_n_jobs(self.n_jobs)))\n"
     ]
    },
    {
     "name": "stdout",
     "output_type": "stream",
     "text": [
      "Iteration No: 46 ended. Search finished for the next optimal point.\n",
      "Time taken: 0.5146\n",
      "Function value obtained: -0.4123\n",
      "Current minimum: -0.4282\n",
      "Iteration No: 47 started. Searching for the next optimal point.\n",
      "[353.364935112004, 'l1', 2, 3]\n",
      "AVG precision: 0.41652652065733664 - ROC AUC: 0.6806648575305292\n"
     ]
    },
    {
     "name": "stderr",
     "output_type": "stream",
     "text": [
      "/usr/local/lib/python3.7/site-packages/sklearn/linear_model/logistic.py:432: FutureWarning: Default solver will be changed to 'lbfgs' in 0.22. Specify a solver to silence this warning.\n",
      "  FutureWarning)\n",
      "/usr/local/lib/python3.7/site-packages/sklearn/utils/validation.py:724: DataConversionWarning: A column-vector y was passed when a 1d array was expected. Please change the shape of y to (n_samples, ), for example using ravel().\n",
      "  y = column_or_1d(y, warn=True)\n",
      "/usr/local/lib/python3.7/site-packages/sklearn/linear_model/logistic.py:1544: UserWarning: 'n_jobs' > 1 does not have any effect when 'solver' is set to 'liblinear'. Got 'n_jobs' = 6.\n",
      "  \" = {}.\".format(effective_n_jobs(self.n_jobs)))\n"
     ]
    },
    {
     "name": "stdout",
     "output_type": "stream",
     "text": [
      "Iteration No: 47 ended. Search finished for the next optimal point.\n",
      "Time taken: 0.5141\n",
      "Function value obtained: -0.4165\n",
      "Current minimum: -0.4282\n",
      "Iteration No: 48 started. Searching for the next optimal point.\n",
      "[647.2912893673906, 'l1', 2, 5]\n"
     ]
    },
    {
     "name": "stderr",
     "output_type": "stream",
     "text": [
      "/usr/local/lib/python3.7/site-packages/sklearn/linear_model/logistic.py:432: FutureWarning: Default solver will be changed to 'lbfgs' in 0.22. Specify a solver to silence this warning.\n",
      "  FutureWarning)\n",
      "/usr/local/lib/python3.7/site-packages/sklearn/utils/validation.py:724: DataConversionWarning: A column-vector y was passed when a 1d array was expected. Please change the shape of y to (n_samples, ), for example using ravel().\n",
      "  y = column_or_1d(y, warn=True)\n",
      "/usr/local/lib/python3.7/site-packages/sklearn/linear_model/logistic.py:1544: UserWarning: 'n_jobs' > 1 does not have any effect when 'solver' is set to 'liblinear'. Got 'n_jobs' = 6.\n",
      "  \" = {}.\".format(effective_n_jobs(self.n_jobs)))\n"
     ]
    },
    {
     "name": "stdout",
     "output_type": "stream",
     "text": [
      "AVG precision: 0.41958096152321245 - ROC AUC: 0.678697421981004\n",
      "Iteration No: 48 ended. Search finished for the next optimal point.\n",
      "Time taken: 0.5861\n",
      "Function value obtained: -0.4196\n",
      "Current minimum: -0.4282\n",
      "Iteration No: 49 started. Searching for the next optimal point.\n",
      "[87.32307337485037, 'l1', 2, 4]\n",
      "AVG precision: 0.41486716710879135 - ROC AUC: 0.675101763907734\n"
     ]
    },
    {
     "name": "stderr",
     "output_type": "stream",
     "text": [
      "/usr/local/lib/python3.7/site-packages/sklearn/linear_model/logistic.py:432: FutureWarning: Default solver will be changed to 'lbfgs' in 0.22. Specify a solver to silence this warning.\n",
      "  FutureWarning)\n",
      "/usr/local/lib/python3.7/site-packages/sklearn/utils/validation.py:724: DataConversionWarning: A column-vector y was passed when a 1d array was expected. Please change the shape of y to (n_samples, ), for example using ravel().\n",
      "  y = column_or_1d(y, warn=True)\n",
      "/usr/local/lib/python3.7/site-packages/sklearn/linear_model/logistic.py:1544: UserWarning: 'n_jobs' > 1 does not have any effect when 'solver' is set to 'liblinear'. Got 'n_jobs' = 6.\n",
      "  \" = {}.\".format(effective_n_jobs(self.n_jobs)))\n"
     ]
    },
    {
     "name": "stdout",
     "output_type": "stream",
     "text": [
      "Iteration No: 49 ended. Search finished for the next optimal point.\n",
      "Time taken: 0.5350\n",
      "Function value obtained: -0.4149\n",
      "Current minimum: -0.4282\n",
      "Iteration No: 50 started. Searching for the next optimal point.\n",
      "[375.67359015635196, 'l1', 1, 4]\n"
     ]
    },
    {
     "name": "stderr",
     "output_type": "stream",
     "text": [
      "/usr/local/lib/python3.7/site-packages/sklearn/linear_model/logistic.py:432: FutureWarning: Default solver will be changed to 'lbfgs' in 0.22. Specify a solver to silence this warning.\n",
      "  FutureWarning)\n",
      "/usr/local/lib/python3.7/site-packages/sklearn/utils/validation.py:724: DataConversionWarning: A column-vector y was passed when a 1d array was expected. Please change the shape of y to (n_samples, ), for example using ravel().\n",
      "  y = column_or_1d(y, warn=True)\n",
      "/usr/local/lib/python3.7/site-packages/sklearn/linear_model/logistic.py:1544: UserWarning: 'n_jobs' > 1 does not have any effect when 'solver' is set to 'liblinear'. Got 'n_jobs' = 6.\n",
      "  \" = {}.\".format(effective_n_jobs(self.n_jobs)))\n"
     ]
    },
    {
     "name": "stdout",
     "output_type": "stream",
     "text": [
      "AVG precision: 0.36824213993095484 - ROC AUC: 0.6581411126187245\n",
      "Iteration No: 50 ended. Search finished for the next optimal point.\n",
      "Time taken: 0.5727\n",
      "Function value obtained: -0.3682\n",
      "Current minimum: -0.4282\n",
      "Iteration No: 51 started. Searching for the next optimal point.\n",
      "[369.89360022668586, 'l1', 2, 4]\n"
     ]
    },
    {
     "name": "stderr",
     "output_type": "stream",
     "text": [
      "/usr/local/lib/python3.7/site-packages/sklearn/linear_model/logistic.py:432: FutureWarning: Default solver will be changed to 'lbfgs' in 0.22. Specify a solver to silence this warning.\n",
      "  FutureWarning)\n",
      "/usr/local/lib/python3.7/site-packages/sklearn/utils/validation.py:724: DataConversionWarning: A column-vector y was passed when a 1d array was expected. Please change the shape of y to (n_samples, ), for example using ravel().\n",
      "  y = column_or_1d(y, warn=True)\n",
      "/usr/local/lib/python3.7/site-packages/sklearn/linear_model/logistic.py:1544: UserWarning: 'n_jobs' > 1 does not have any effect when 'solver' is set to 'liblinear'. Got 'n_jobs' = 6.\n",
      "  \" = {}.\".format(effective_n_jobs(self.n_jobs)))\n"
     ]
    },
    {
     "name": "stdout",
     "output_type": "stream",
     "text": [
      "AVG precision: 0.42606839689176135 - ROC AUC: 0.6777476255088196\n",
      "Iteration No: 51 ended. Search finished for the next optimal point.\n",
      "Time taken: 0.5467\n",
      "Function value obtained: -0.4261\n",
      "Current minimum: -0.4282\n",
      "Iteration No: 52 started. Searching for the next optimal point.\n",
      "[377.18343643186273, 'l1', 2, 4]\n"
     ]
    },
    {
     "name": "stderr",
     "output_type": "stream",
     "text": [
      "/usr/local/lib/python3.7/site-packages/sklearn/linear_model/logistic.py:432: FutureWarning: Default solver will be changed to 'lbfgs' in 0.22. Specify a solver to silence this warning.\n",
      "  FutureWarning)\n",
      "/usr/local/lib/python3.7/site-packages/sklearn/utils/validation.py:724: DataConversionWarning: A column-vector y was passed when a 1d array was expected. Please change the shape of y to (n_samples, ), for example using ravel().\n",
      "  y = column_or_1d(y, warn=True)\n",
      "/usr/local/lib/python3.7/site-packages/sklearn/linear_model/logistic.py:1544: UserWarning: 'n_jobs' > 1 does not have any effect when 'solver' is set to 'liblinear'. Got 'n_jobs' = 6.\n",
      "  \" = {}.\".format(effective_n_jobs(self.n_jobs)))\n"
     ]
    },
    {
     "name": "stdout",
     "output_type": "stream",
     "text": [
      "AVG precision: 0.4266855721873261 - ROC AUC: 0.6788331071913162\n",
      "Iteration No: 52 ended. Search finished for the next optimal point.\n",
      "Time taken: 0.6138\n",
      "Function value obtained: -0.4267\n",
      "Current minimum: -0.4282\n",
      "Iteration No: 53 started. Searching for the next optimal point.\n",
      "[372.1509322216003, 'l1', 2, 4]\n"
     ]
    },
    {
     "name": "stderr",
     "output_type": "stream",
     "text": [
      "/usr/local/lib/python3.7/site-packages/sklearn/linear_model/logistic.py:432: FutureWarning: Default solver will be changed to 'lbfgs' in 0.22. Specify a solver to silence this warning.\n",
      "  FutureWarning)\n",
      "/usr/local/lib/python3.7/site-packages/sklearn/utils/validation.py:724: DataConversionWarning: A column-vector y was passed when a 1d array was expected. Please change the shape of y to (n_samples, ), for example using ravel().\n",
      "  y = column_or_1d(y, warn=True)\n",
      "/usr/local/lib/python3.7/site-packages/sklearn/linear_model/logistic.py:1544: UserWarning: 'n_jobs' > 1 does not have any effect when 'solver' is set to 'liblinear'. Got 'n_jobs' = 6.\n",
      "  \" = {}.\".format(effective_n_jobs(self.n_jobs)))\n"
     ]
    },
    {
     "name": "stdout",
     "output_type": "stream",
     "text": [
      "AVG precision: 0.4272937377542259 - ROC AUC: 0.6787652645861602\n",
      "Iteration No: 53 ended. Search finished for the next optimal point.\n",
      "Time taken: 0.5644\n",
      "Function value obtained: -0.4273\n",
      "Current minimum: -0.4282\n",
      "Iteration No: 54 started. Searching for the next optimal point.\n",
      "[377.2205040857361, 'l1', 2, 4]\n",
      "AVG precision: 0.42727006254769184 - ROC AUC: 0.6780189959294437\n"
     ]
    },
    {
     "name": "stderr",
     "output_type": "stream",
     "text": [
      "/usr/local/lib/python3.7/site-packages/sklearn/linear_model/logistic.py:432: FutureWarning: Default solver will be changed to 'lbfgs' in 0.22. Specify a solver to silence this warning.\n",
      "  FutureWarning)\n",
      "/usr/local/lib/python3.7/site-packages/sklearn/utils/validation.py:724: DataConversionWarning: A column-vector y was passed when a 1d array was expected. Please change the shape of y to (n_samples, ), for example using ravel().\n",
      "  y = column_or_1d(y, warn=True)\n",
      "/usr/local/lib/python3.7/site-packages/sklearn/linear_model/logistic.py:1544: UserWarning: 'n_jobs' > 1 does not have any effect when 'solver' is set to 'liblinear'. Got 'n_jobs' = 6.\n",
      "  \" = {}.\".format(effective_n_jobs(self.n_jobs)))\n"
     ]
    },
    {
     "name": "stdout",
     "output_type": "stream",
     "text": [
      "Iteration No: 54 ended. Search finished for the next optimal point.\n",
      "Time taken: 0.5484\n",
      "Function value obtained: -0.4273\n",
      "Current minimum: -0.4282\n",
      "Iteration No: 55 started. Searching for the next optimal point.\n",
      "[379.3935734506987, 'l1', 2, 4]\n",
      "AVG precision: 0.42697568103857286 - ROC AUC: 0.6779511533242876\n"
     ]
    },
    {
     "name": "stderr",
     "output_type": "stream",
     "text": [
      "/usr/local/lib/python3.7/site-packages/sklearn/linear_model/logistic.py:432: FutureWarning: Default solver will be changed to 'lbfgs' in 0.22. Specify a solver to silence this warning.\n",
      "  FutureWarning)\n",
      "/usr/local/lib/python3.7/site-packages/sklearn/utils/validation.py:724: DataConversionWarning: A column-vector y was passed when a 1d array was expected. Please change the shape of y to (n_samples, ), for example using ravel().\n",
      "  y = column_or_1d(y, warn=True)\n",
      "/usr/local/lib/python3.7/site-packages/sklearn/linear_model/logistic.py:1544: UserWarning: 'n_jobs' > 1 does not have any effect when 'solver' is set to 'liblinear'. Got 'n_jobs' = 6.\n",
      "  \" = {}.\".format(effective_n_jobs(self.n_jobs)))\n"
     ]
    },
    {
     "name": "stdout",
     "output_type": "stream",
     "text": [
      "Iteration No: 55 ended. Search finished for the next optimal point.\n",
      "Time taken: 0.5306\n",
      "Function value obtained: -0.4270\n",
      "Current minimum: -0.4282\n",
      "Iteration No: 56 started. Searching for the next optimal point.\n",
      "[371.6735306739364, 'l1', 2, 4]\n"
     ]
    },
    {
     "name": "stderr",
     "output_type": "stream",
     "text": [
      "/usr/local/lib/python3.7/site-packages/sklearn/linear_model/logistic.py:432: FutureWarning: Default solver will be changed to 'lbfgs' in 0.22. Specify a solver to silence this warning.\n",
      "  FutureWarning)\n",
      "/usr/local/lib/python3.7/site-packages/sklearn/utils/validation.py:724: DataConversionWarning: A column-vector y was passed when a 1d array was expected. Please change the shape of y to (n_samples, ), for example using ravel().\n",
      "  y = column_or_1d(y, warn=True)\n",
      "/usr/local/lib/python3.7/site-packages/sklearn/linear_model/logistic.py:1544: UserWarning: 'n_jobs' > 1 does not have any effect when 'solver' is set to 'liblinear'. Got 'n_jobs' = 6.\n",
      "  \" = {}.\".format(effective_n_jobs(self.n_jobs)))\n"
     ]
    },
    {
     "name": "stdout",
     "output_type": "stream",
     "text": [
      "AVG precision: 0.4266041587037616 - ROC AUC: 0.6778154681139755\n",
      "Iteration No: 56 ended. Search finished for the next optimal point.\n",
      "Time taken: 0.5596\n",
      "Function value obtained: -0.4266\n",
      "Current minimum: -0.4282\n",
      "Iteration No: 57 started. Searching for the next optimal point.\n",
      "[375.534420718882, 'l1', 2, 4]\n"
     ]
    },
    {
     "name": "stderr",
     "output_type": "stream",
     "text": [
      "/usr/local/lib/python3.7/site-packages/sklearn/linear_model/logistic.py:432: FutureWarning: Default solver will be changed to 'lbfgs' in 0.22. Specify a solver to silence this warning.\n",
      "  FutureWarning)\n",
      "/usr/local/lib/python3.7/site-packages/sklearn/utils/validation.py:724: DataConversionWarning: A column-vector y was passed when a 1d array was expected. Please change the shape of y to (n_samples, ), for example using ravel().\n",
      "  y = column_or_1d(y, warn=True)\n",
      "/usr/local/lib/python3.7/site-packages/sklearn/linear_model/logistic.py:1544: UserWarning: 'n_jobs' > 1 does not have any effect when 'solver' is set to 'liblinear'. Got 'n_jobs' = 6.\n",
      "  \" = {}.\".format(effective_n_jobs(self.n_jobs)))\n"
     ]
    },
    {
     "name": "stdout",
     "output_type": "stream",
     "text": [
      "AVG precision: 0.4267500449864424 - ROC AUC: 0.6782903663500678\n",
      "Iteration No: 57 ended. Search finished for the next optimal point.\n",
      "Time taken: 0.5550\n",
      "Function value obtained: -0.4268\n",
      "Current minimum: -0.4282\n",
      "Iteration No: 58 started. Searching for the next optimal point.\n",
      "[364.28409388383363, 'l1', 1, 4]\n"
     ]
    },
    {
     "name": "stderr",
     "output_type": "stream",
     "text": [
      "/usr/local/lib/python3.7/site-packages/sklearn/linear_model/logistic.py:432: FutureWarning: Default solver will be changed to 'lbfgs' in 0.22. Specify a solver to silence this warning.\n",
      "  FutureWarning)\n",
      "/usr/local/lib/python3.7/site-packages/sklearn/utils/validation.py:724: DataConversionWarning: A column-vector y was passed when a 1d array was expected. Please change the shape of y to (n_samples, ), for example using ravel().\n",
      "  y = column_or_1d(y, warn=True)\n",
      "/usr/local/lib/python3.7/site-packages/sklearn/linear_model/logistic.py:1544: UserWarning: 'n_jobs' > 1 does not have any effect when 'solver' is set to 'liblinear'. Got 'n_jobs' = 6.\n",
      "  \" = {}.\".format(effective_n_jobs(self.n_jobs)))\n"
     ]
    },
    {
     "name": "stdout",
     "output_type": "stream",
     "text": [
      "AVG precision: 0.36848082544885097 - ROC AUC: 0.6579375848032564\n",
      "Iteration No: 58 ended. Search finished for the next optimal point.\n",
      "Time taken: 0.5767\n",
      "Function value obtained: -0.3685\n",
      "Current minimum: -0.4282\n",
      "Iteration No: 59 started. Searching for the next optimal point.\n",
      "[603.5517611627162, 'l1', 2, 3]\n",
      "AVG precision: 0.420384059436367 - ROC AUC: 0.6827001356852104\n"
     ]
    },
    {
     "name": "stderr",
     "output_type": "stream",
     "text": [
      "/usr/local/lib/python3.7/site-packages/sklearn/linear_model/logistic.py:432: FutureWarning: Default solver will be changed to 'lbfgs' in 0.22. Specify a solver to silence this warning.\n",
      "  FutureWarning)\n",
      "/usr/local/lib/python3.7/site-packages/sklearn/utils/validation.py:724: DataConversionWarning: A column-vector y was passed when a 1d array was expected. Please change the shape of y to (n_samples, ), for example using ravel().\n",
      "  y = column_or_1d(y, warn=True)\n",
      "/usr/local/lib/python3.7/site-packages/sklearn/linear_model/logistic.py:1544: UserWarning: 'n_jobs' > 1 does not have any effect when 'solver' is set to 'liblinear'. Got 'n_jobs' = 6.\n",
      "  \" = {}.\".format(effective_n_jobs(self.n_jobs)))\n"
     ]
    },
    {
     "name": "stdout",
     "output_type": "stream",
     "text": [
      "Iteration No: 59 ended. Search finished for the next optimal point.\n",
      "Time taken: 0.5258\n",
      "Function value obtained: -0.4204\n",
      "Current minimum: -0.4282\n",
      "Iteration No: 60 started. Searching for the next optimal point.\n",
      "[656.5190545970377, 'l1', 2, 3]\n",
      "AVG precision: 0.41902952815767125 - ROC AUC: 0.6824287652645862\n"
     ]
    },
    {
     "name": "stderr",
     "output_type": "stream",
     "text": [
      "/usr/local/lib/python3.7/site-packages/sklearn/linear_model/logistic.py:432: FutureWarning: Default solver will be changed to 'lbfgs' in 0.22. Specify a solver to silence this warning.\n",
      "  FutureWarning)\n",
      "/usr/local/lib/python3.7/site-packages/sklearn/utils/validation.py:724: DataConversionWarning: A column-vector y was passed when a 1d array was expected. Please change the shape of y to (n_samples, ), for example using ravel().\n",
      "  y = column_or_1d(y, warn=True)\n",
      "/usr/local/lib/python3.7/site-packages/sklearn/linear_model/logistic.py:1544: UserWarning: 'n_jobs' > 1 does not have any effect when 'solver' is set to 'liblinear'. Got 'n_jobs' = 6.\n",
      "  \" = {}.\".format(effective_n_jobs(self.n_jobs)))\n"
     ]
    },
    {
     "name": "stdout",
     "output_type": "stream",
     "text": [
      "Iteration No: 60 ended. Search finished for the next optimal point.\n",
      "Time taken: 0.5203\n",
      "Function value obtained: -0.4190\n",
      "Current minimum: -0.4282\n",
      "Iteration No: 61 started. Searching for the next optimal point.\n",
      "[648.6455034688262, 'l1', 2, 3]\n"
     ]
    },
    {
     "name": "stderr",
     "output_type": "stream",
     "text": [
      "/usr/local/lib/python3.7/site-packages/sklearn/linear_model/logistic.py:432: FutureWarning: Default solver will be changed to 'lbfgs' in 0.22. Specify a solver to silence this warning.\n",
      "  FutureWarning)\n",
      "/usr/local/lib/python3.7/site-packages/sklearn/utils/validation.py:724: DataConversionWarning: A column-vector y was passed when a 1d array was expected. Please change the shape of y to (n_samples, ), for example using ravel().\n",
      "  y = column_or_1d(y, warn=True)\n",
      "/usr/local/lib/python3.7/site-packages/sklearn/linear_model/logistic.py:1544: UserWarning: 'n_jobs' > 1 does not have any effect when 'solver' is set to 'liblinear'. Got 'n_jobs' = 6.\n",
      "  \" = {}.\".format(effective_n_jobs(self.n_jobs)))\n"
     ]
    },
    {
     "name": "stdout",
     "output_type": "stream",
     "text": [
      "AVG precision: 0.4164305131870464 - ROC AUC: 0.6813432835820895\n",
      "Iteration No: 61 ended. Search finished for the next optimal point.\n",
      "Time taken: 0.6289\n",
      "Function value obtained: -0.4164\n",
      "Current minimum: -0.4282\n",
      "Iteration No: 62 started. Searching for the next optimal point.\n",
      "[649.537008350226, 'l1', 2, 3]\n",
      "AVG precision: 0.4166637605530088 - ROC AUC: 0.6818181818181819\n"
     ]
    },
    {
     "name": "stderr",
     "output_type": "stream",
     "text": [
      "/usr/local/lib/python3.7/site-packages/sklearn/linear_model/logistic.py:432: FutureWarning: Default solver will be changed to 'lbfgs' in 0.22. Specify a solver to silence this warning.\n",
      "  FutureWarning)\n",
      "/usr/local/lib/python3.7/site-packages/sklearn/utils/validation.py:724: DataConversionWarning: A column-vector y was passed when a 1d array was expected. Please change the shape of y to (n_samples, ), for example using ravel().\n",
      "  y = column_or_1d(y, warn=True)\n",
      "/usr/local/lib/python3.7/site-packages/sklearn/linear_model/logistic.py:1544: UserWarning: 'n_jobs' > 1 does not have any effect when 'solver' is set to 'liblinear'. Got 'n_jobs' = 6.\n",
      "  \" = {}.\".format(effective_n_jobs(self.n_jobs)))\n"
     ]
    },
    {
     "name": "stdout",
     "output_type": "stream",
     "text": [
      "Iteration No: 62 ended. Search finished for the next optimal point.\n",
      "Time taken: 0.5401\n",
      "Function value obtained: -0.4167\n",
      "Current minimum: -0.4282\n",
      "Iteration No: 63 started. Searching for the next optimal point.\n",
      "[653.973904158854, 'l1', 2, 3]\n",
      "AVG precision: 0.4184466244260579 - ROC AUC: 0.6816146540027137\n"
     ]
    },
    {
     "name": "stderr",
     "output_type": "stream",
     "text": [
      "/usr/local/lib/python3.7/site-packages/sklearn/linear_model/logistic.py:432: FutureWarning: Default solver will be changed to 'lbfgs' in 0.22. Specify a solver to silence this warning.\n",
      "  FutureWarning)\n",
      "/usr/local/lib/python3.7/site-packages/sklearn/utils/validation.py:724: DataConversionWarning: A column-vector y was passed when a 1d array was expected. Please change the shape of y to (n_samples, ), for example using ravel().\n",
      "  y = column_or_1d(y, warn=True)\n",
      "/usr/local/lib/python3.7/site-packages/sklearn/linear_model/logistic.py:1544: UserWarning: 'n_jobs' > 1 does not have any effect when 'solver' is set to 'liblinear'. Got 'n_jobs' = 6.\n",
      "  \" = {}.\".format(effective_n_jobs(self.n_jobs)))\n"
     ]
    },
    {
     "name": "stdout",
     "output_type": "stream",
     "text": [
      "Iteration No: 63 ended. Search finished for the next optimal point.\n",
      "Time taken: 0.5414\n",
      "Function value obtained: -0.4184\n",
      "Current minimum: -0.4282\n",
      "Iteration No: 64 started. Searching for the next optimal point.\n",
      "[658.2718818039993, 'l1', 2, 3]\n",
      "AVG precision: 0.4192910590665723 - ROC AUC: 0.6824966078697423\n"
     ]
    },
    {
     "name": "stderr",
     "output_type": "stream",
     "text": [
      "/usr/local/lib/python3.7/site-packages/sklearn/linear_model/logistic.py:432: FutureWarning: Default solver will be changed to 'lbfgs' in 0.22. Specify a solver to silence this warning.\n",
      "  FutureWarning)\n",
      "/usr/local/lib/python3.7/site-packages/sklearn/utils/validation.py:724: DataConversionWarning: A column-vector y was passed when a 1d array was expected. Please change the shape of y to (n_samples, ), for example using ravel().\n",
      "  y = column_or_1d(y, warn=True)\n",
      "/usr/local/lib/python3.7/site-packages/sklearn/linear_model/logistic.py:1544: UserWarning: 'n_jobs' > 1 does not have any effect when 'solver' is set to 'liblinear'. Got 'n_jobs' = 6.\n",
      "  \" = {}.\".format(effective_n_jobs(self.n_jobs)))\n"
     ]
    },
    {
     "name": "stdout",
     "output_type": "stream",
     "text": [
      "Iteration No: 64 ended. Search finished for the next optimal point.\n",
      "Time taken: 0.5337\n",
      "Function value obtained: -0.4193\n",
      "Current minimum: -0.4282\n",
      "Iteration No: 65 started. Searching for the next optimal point.\n",
      "[376.87844015667594, 'l1', 2, 1]\n",
      "AVG precision: 0.3420981825309518 - ROC AUC: 0.5924016282225236\n"
     ]
    },
    {
     "name": "stderr",
     "output_type": "stream",
     "text": [
      "/usr/local/lib/python3.7/site-packages/sklearn/linear_model/logistic.py:432: FutureWarning: Default solver will be changed to 'lbfgs' in 0.22. Specify a solver to silence this warning.\n",
      "  FutureWarning)\n",
      "/usr/local/lib/python3.7/site-packages/sklearn/utils/validation.py:724: DataConversionWarning: A column-vector y was passed when a 1d array was expected. Please change the shape of y to (n_samples, ), for example using ravel().\n",
      "  y = column_or_1d(y, warn=True)\n",
      "/usr/local/lib/python3.7/site-packages/sklearn/linear_model/logistic.py:1544: UserWarning: 'n_jobs' > 1 does not have any effect when 'solver' is set to 'liblinear'. Got 'n_jobs' = 6.\n",
      "  \" = {}.\".format(effective_n_jobs(self.n_jobs)))\n"
     ]
    },
    {
     "name": "stdout",
     "output_type": "stream",
     "text": [
      "Iteration No: 65 ended. Search finished for the next optimal point.\n",
      "Time taken: 0.4897\n",
      "Function value obtained: -0.3421\n",
      "Current minimum: -0.4282\n",
      "Iteration No: 66 started. Searching for the next optimal point.\n",
      "[360.5747697144576, 'l1', 2, 4]\n"
     ]
    },
    {
     "name": "stderr",
     "output_type": "stream",
     "text": [
      "/usr/local/lib/python3.7/site-packages/sklearn/linear_model/logistic.py:432: FutureWarning: Default solver will be changed to 'lbfgs' in 0.22. Specify a solver to silence this warning.\n",
      "  FutureWarning)\n",
      "/usr/local/lib/python3.7/site-packages/sklearn/utils/validation.py:724: DataConversionWarning: A column-vector y was passed when a 1d array was expected. Please change the shape of y to (n_samples, ), for example using ravel().\n",
      "  y = column_or_1d(y, warn=True)\n",
      "/usr/local/lib/python3.7/site-packages/sklearn/linear_model/logistic.py:1544: UserWarning: 'n_jobs' > 1 does not have any effect when 'solver' is set to 'liblinear'. Got 'n_jobs' = 6.\n",
      "  \" = {}.\".format(effective_n_jobs(self.n_jobs)))\n"
     ]
    },
    {
     "name": "stdout",
     "output_type": "stream",
     "text": [
      "AVG precision: 0.4264410537367627 - ROC AUC: 0.6777476255088195\n",
      "Iteration No: 66 ended. Search finished for the next optimal point.\n",
      "Time taken: 0.5584\n",
      "Function value obtained: -0.4264\n",
      "Current minimum: -0.4282\n",
      "Iteration No: 67 started. Searching for the next optimal point.\n",
      "[382.9474280710251, 'l1', 2, 5]\n"
     ]
    },
    {
     "name": "stderr",
     "output_type": "stream",
     "text": [
      "/usr/local/lib/python3.7/site-packages/sklearn/linear_model/logistic.py:432: FutureWarning: Default solver will be changed to 'lbfgs' in 0.22. Specify a solver to silence this warning.\n",
      "  FutureWarning)\n",
      "/usr/local/lib/python3.7/site-packages/sklearn/utils/validation.py:724: DataConversionWarning: A column-vector y was passed when a 1d array was expected. Please change the shape of y to (n_samples, ), for example using ravel().\n",
      "  y = column_or_1d(y, warn=True)\n",
      "/usr/local/lib/python3.7/site-packages/sklearn/linear_model/logistic.py:1544: UserWarning: 'n_jobs' > 1 does not have any effect when 'solver' is set to 'liblinear'. Got 'n_jobs' = 6.\n",
      "  \" = {}.\".format(effective_n_jobs(self.n_jobs)))\n"
     ]
    },
    {
     "name": "stdout",
     "output_type": "stream",
     "text": [
      "AVG precision: 0.423594878027101 - ROC AUC: 0.6782225237449119\n",
      "Iteration No: 67 ended. Search finished for the next optimal point.\n",
      "Time taken: 0.5683\n",
      "Function value obtained: -0.4236\n",
      "Current minimum: -0.4282\n",
      "Iteration No: 68 started. Searching for the next optimal point.\n",
      "[363.74210821520734, 'l1', 2, 4]\n",
      "AVG precision: 0.4249935435292931 - ROC AUC: 0.6768656716417911\n"
     ]
    },
    {
     "name": "stderr",
     "output_type": "stream",
     "text": [
      "/usr/local/lib/python3.7/site-packages/sklearn/linear_model/logistic.py:432: FutureWarning: Default solver will be changed to 'lbfgs' in 0.22. Specify a solver to silence this warning.\n",
      "  FutureWarning)\n",
      "/usr/local/lib/python3.7/site-packages/sklearn/utils/validation.py:724: DataConversionWarning: A column-vector y was passed when a 1d array was expected. Please change the shape of y to (n_samples, ), for example using ravel().\n",
      "  y = column_or_1d(y, warn=True)\n",
      "/usr/local/lib/python3.7/site-packages/sklearn/linear_model/logistic.py:1544: UserWarning: 'n_jobs' > 1 does not have any effect when 'solver' is set to 'liblinear'. Got 'n_jobs' = 6.\n",
      "  \" = {}.\".format(effective_n_jobs(self.n_jobs)))\n"
     ]
    },
    {
     "name": "stdout",
     "output_type": "stream",
     "text": [
      "Iteration No: 68 ended. Search finished for the next optimal point.\n",
      "Time taken: 0.5401\n",
      "Function value obtained: -0.4250\n",
      "Current minimum: -0.4282\n",
      "Iteration No: 69 started. Searching for the next optimal point.\n",
      "[358.7212764722747, 'l1', 2, 4]\n",
      "AVG precision: 0.4255232970174782 - ROC AUC: 0.6778154681139756\n"
     ]
    },
    {
     "name": "stderr",
     "output_type": "stream",
     "text": [
      "/usr/local/lib/python3.7/site-packages/sklearn/linear_model/logistic.py:432: FutureWarning: Default solver will be changed to 'lbfgs' in 0.22. Specify a solver to silence this warning.\n",
      "  FutureWarning)\n",
      "/usr/local/lib/python3.7/site-packages/sklearn/utils/validation.py:724: DataConversionWarning: A column-vector y was passed when a 1d array was expected. Please change the shape of y to (n_samples, ), for example using ravel().\n",
      "  y = column_or_1d(y, warn=True)\n",
      "/usr/local/lib/python3.7/site-packages/sklearn/linear_model/logistic.py:1544: UserWarning: 'n_jobs' > 1 does not have any effect when 'solver' is set to 'liblinear'. Got 'n_jobs' = 6.\n",
      "  \" = {}.\".format(effective_n_jobs(self.n_jobs)))\n"
     ]
    },
    {
     "name": "stdout",
     "output_type": "stream",
     "text": [
      "Iteration No: 69 ended. Search finished for the next optimal point.\n",
      "Time taken: 0.5363\n",
      "Function value obtained: -0.4255\n",
      "Current minimum: -0.4282\n",
      "Iteration No: 70 started. Searching for the next optimal point.\n",
      "[594.7869579207695, 'l1', 2, 2]\n",
      "AVG precision: 0.4041617966073377 - ROC AUC: 0.6534599728629579\n"
     ]
    },
    {
     "name": "stderr",
     "output_type": "stream",
     "text": [
      "/usr/local/lib/python3.7/site-packages/sklearn/linear_model/logistic.py:432: FutureWarning: Default solver will be changed to 'lbfgs' in 0.22. Specify a solver to silence this warning.\n",
      "  FutureWarning)\n",
      "/usr/local/lib/python3.7/site-packages/sklearn/utils/validation.py:724: DataConversionWarning: A column-vector y was passed when a 1d array was expected. Please change the shape of y to (n_samples, ), for example using ravel().\n",
      "  y = column_or_1d(y, warn=True)\n",
      "/usr/local/lib/python3.7/site-packages/sklearn/linear_model/logistic.py:1544: UserWarning: 'n_jobs' > 1 does not have any effect when 'solver' is set to 'liblinear'. Got 'n_jobs' = 6.\n",
      "  \" = {}.\".format(effective_n_jobs(self.n_jobs)))\n"
     ]
    },
    {
     "name": "stdout",
     "output_type": "stream",
     "text": [
      "Iteration No: 70 ended. Search finished for the next optimal point.\n",
      "Time taken: 0.4805\n",
      "Function value obtained: -0.4042\n",
      "Current minimum: -0.4282\n",
      "Iteration No: 71 started. Searching for the next optimal point.\n",
      "[647.6069594096209, 'l1', 2, 2]\n",
      "AVG precision: 0.40547691823179965 - ROC AUC: 0.6537313432835821\n"
     ]
    },
    {
     "name": "stderr",
     "output_type": "stream",
     "text": [
      "/usr/local/lib/python3.7/site-packages/sklearn/linear_model/logistic.py:432: FutureWarning: Default solver will be changed to 'lbfgs' in 0.22. Specify a solver to silence this warning.\n",
      "  FutureWarning)\n",
      "/usr/local/lib/python3.7/site-packages/sklearn/utils/validation.py:724: DataConversionWarning: A column-vector y was passed when a 1d array was expected. Please change the shape of y to (n_samples, ), for example using ravel().\n",
      "  y = column_or_1d(y, warn=True)\n",
      "/usr/local/lib/python3.7/site-packages/sklearn/linear_model/logistic.py:1544: UserWarning: 'n_jobs' > 1 does not have any effect when 'solver' is set to 'liblinear'. Got 'n_jobs' = 6.\n",
      "  \" = {}.\".format(effective_n_jobs(self.n_jobs)))\n"
     ]
    },
    {
     "name": "stdout",
     "output_type": "stream",
     "text": [
      "Iteration No: 71 ended. Search finished for the next optimal point.\n",
      "Time taken: 0.5405\n",
      "Function value obtained: -0.4055\n",
      "Current minimum: -0.4282\n",
      "Iteration No: 72 started. Searching for the next optimal point.\n",
      "[368.4959540521349, 'l1', 2, 4]\n"
     ]
    },
    {
     "name": "stderr",
     "output_type": "stream",
     "text": [
      "/usr/local/lib/python3.7/site-packages/sklearn/linear_model/logistic.py:432: FutureWarning: Default solver will be changed to 'lbfgs' in 0.22. Specify a solver to silence this warning.\n",
      "  FutureWarning)\n",
      "/usr/local/lib/python3.7/site-packages/sklearn/utils/validation.py:724: DataConversionWarning: A column-vector y was passed when a 1d array was expected. Please change the shape of y to (n_samples, ), for example using ravel().\n",
      "  y = column_or_1d(y, warn=True)\n",
      "/usr/local/lib/python3.7/site-packages/sklearn/linear_model/logistic.py:1544: UserWarning: 'n_jobs' > 1 does not have any effect when 'solver' is set to 'liblinear'. Got 'n_jobs' = 6.\n",
      "  \" = {}.\".format(effective_n_jobs(self.n_jobs)))\n"
     ]
    },
    {
     "name": "stdout",
     "output_type": "stream",
     "text": [
      "AVG precision: 0.42582820870509813 - ROC AUC: 0.6774084124830394\n",
      "Iteration No: 72 ended. Search finished for the next optimal point.\n",
      "Time taken: 0.5407\n",
      "Function value obtained: -0.4258\n",
      "Current minimum: -0.4282\n",
      "Iteration No: 73 started. Searching for the next optimal point.\n",
      "[448.1076534923281, 'l1', 2, 2]\n",
      "AVG precision: 0.4055462928604676 - ROC AUC: 0.6542062415196744\n"
     ]
    },
    {
     "name": "stderr",
     "output_type": "stream",
     "text": [
      "/usr/local/lib/python3.7/site-packages/sklearn/linear_model/logistic.py:432: FutureWarning: Default solver will be changed to 'lbfgs' in 0.22. Specify a solver to silence this warning.\n",
      "  FutureWarning)\n",
      "/usr/local/lib/python3.7/site-packages/sklearn/utils/validation.py:724: DataConversionWarning: A column-vector y was passed when a 1d array was expected. Please change the shape of y to (n_samples, ), for example using ravel().\n",
      "  y = column_or_1d(y, warn=True)\n",
      "/usr/local/lib/python3.7/site-packages/sklearn/linear_model/logistic.py:1544: UserWarning: 'n_jobs' > 1 does not have any effect when 'solver' is set to 'liblinear'. Got 'n_jobs' = 6.\n",
      "  \" = {}.\".format(effective_n_jobs(self.n_jobs)))\n"
     ]
    },
    {
     "name": "stdout",
     "output_type": "stream",
     "text": [
      "Iteration No: 73 ended. Search finished for the next optimal point.\n",
      "Time taken: 0.4628\n",
      "Function value obtained: -0.4055\n",
      "Current minimum: -0.4282\n",
      "Iteration No: 74 started. Searching for the next optimal point.\n",
      "[358.6388748036239, 'l1', 2, 4]\n",
      "AVG precision: 0.4265013570217677 - ROC AUC: 0.6782225237449118\n"
     ]
    },
    {
     "name": "stderr",
     "output_type": "stream",
     "text": [
      "/usr/local/lib/python3.7/site-packages/sklearn/linear_model/logistic.py:432: FutureWarning: Default solver will be changed to 'lbfgs' in 0.22. Specify a solver to silence this warning.\n",
      "  FutureWarning)\n",
      "/usr/local/lib/python3.7/site-packages/sklearn/utils/validation.py:724: DataConversionWarning: A column-vector y was passed when a 1d array was expected. Please change the shape of y to (n_samples, ), for example using ravel().\n",
      "  y = column_or_1d(y, warn=True)\n",
      "/usr/local/lib/python3.7/site-packages/sklearn/linear_model/logistic.py:1544: UserWarning: 'n_jobs' > 1 does not have any effect when 'solver' is set to 'liblinear'. Got 'n_jobs' = 6.\n",
      "  \" = {}.\".format(effective_n_jobs(self.n_jobs)))\n"
     ]
    },
    {
     "name": "stdout",
     "output_type": "stream",
     "text": [
      "Iteration No: 74 ended. Search finished for the next optimal point.\n",
      "Time taken: 0.5236\n",
      "Function value obtained: -0.4265\n",
      "Current minimum: -0.4282\n",
      "Iteration No: 75 started. Searching for the next optimal point.\n",
      "[378.7314085142362, 'l1', 2, 4]\n",
      "AVG precision: 0.42554861131197813 - ROC AUC: 0.6774084124830393\n"
     ]
    },
    {
     "name": "stderr",
     "output_type": "stream",
     "text": [
      "/usr/local/lib/python3.7/site-packages/sklearn/linear_model/logistic.py:432: FutureWarning: Default solver will be changed to 'lbfgs' in 0.22. Specify a solver to silence this warning.\n",
      "  FutureWarning)\n",
      "/usr/local/lib/python3.7/site-packages/sklearn/utils/validation.py:724: DataConversionWarning: A column-vector y was passed when a 1d array was expected. Please change the shape of y to (n_samples, ), for example using ravel().\n",
      "  y = column_or_1d(y, warn=True)\n",
      "/usr/local/lib/python3.7/site-packages/sklearn/linear_model/logistic.py:1544: UserWarning: 'n_jobs' > 1 does not have any effect when 'solver' is set to 'liblinear'. Got 'n_jobs' = 6.\n",
      "  \" = {}.\".format(effective_n_jobs(self.n_jobs)))\n"
     ]
    },
    {
     "name": "stdout",
     "output_type": "stream",
     "text": [
      "Iteration No: 75 ended. Search finished for the next optimal point.\n",
      "Time taken: 0.5249\n",
      "Function value obtained: -0.4255\n",
      "Current minimum: -0.4282\n",
      "Iteration No: 76 started. Searching for the next optimal point.\n",
      "[384.18002927226854, 'l1', 2, 4]\n"
     ]
    },
    {
     "name": "stderr",
     "output_type": "stream",
     "text": [
      "/usr/local/lib/python3.7/site-packages/sklearn/linear_model/logistic.py:432: FutureWarning: Default solver will be changed to 'lbfgs' in 0.22. Specify a solver to silence this warning.\n",
      "  FutureWarning)\n",
      "/usr/local/lib/python3.7/site-packages/sklearn/utils/validation.py:724: DataConversionWarning: A column-vector y was passed when a 1d array was expected. Please change the shape of y to (n_samples, ), for example using ravel().\n",
      "  y = column_or_1d(y, warn=True)\n",
      "/usr/local/lib/python3.7/site-packages/sklearn/linear_model/logistic.py:1544: UserWarning: 'n_jobs' > 1 does not have any effect when 'solver' is set to 'liblinear'. Got 'n_jobs' = 6.\n",
      "  \" = {}.\".format(effective_n_jobs(self.n_jobs)))\n"
     ]
    },
    {
     "name": "stdout",
     "output_type": "stream",
     "text": [
      "AVG precision: 0.42640986738056574 - ROC AUC: 0.6782225237449119\n",
      "Iteration No: 76 ended. Search finished for the next optimal point.\n",
      "Time taken: 0.5686\n",
      "Function value obtained: -0.4264\n",
      "Current minimum: -0.4282\n",
      "Iteration No: 77 started. Searching for the next optimal point.\n",
      "[372.0782787520401, 'l1', 2, 4]\n",
      "AVG precision: 0.4258729020169303 - ROC AUC: 0.6780189959294437\n"
     ]
    },
    {
     "name": "stderr",
     "output_type": "stream",
     "text": [
      "/usr/local/lib/python3.7/site-packages/sklearn/linear_model/logistic.py:432: FutureWarning: Default solver will be changed to 'lbfgs' in 0.22. Specify a solver to silence this warning.\n",
      "  FutureWarning)\n",
      "/usr/local/lib/python3.7/site-packages/sklearn/utils/validation.py:724: DataConversionWarning: A column-vector y was passed when a 1d array was expected. Please change the shape of y to (n_samples, ), for example using ravel().\n",
      "  y = column_or_1d(y, warn=True)\n",
      "/usr/local/lib/python3.7/site-packages/sklearn/linear_model/logistic.py:1544: UserWarning: 'n_jobs' > 1 does not have any effect when 'solver' is set to 'liblinear'. Got 'n_jobs' = 6.\n",
      "  \" = {}.\".format(effective_n_jobs(self.n_jobs)))\n"
     ]
    },
    {
     "name": "stdout",
     "output_type": "stream",
     "text": [
      "Iteration No: 77 ended. Search finished for the next optimal point.\n",
      "Time taken: 0.5267\n",
      "Function value obtained: -0.4259\n",
      "Current minimum: -0.4282\n",
      "Iteration No: 78 started. Searching for the next optimal point.\n",
      "[917.2183738019462, 'l1', 2, 5]\n"
     ]
    },
    {
     "name": "stderr",
     "output_type": "stream",
     "text": [
      "/usr/local/lib/python3.7/site-packages/sklearn/linear_model/logistic.py:432: FutureWarning: Default solver will be changed to 'lbfgs' in 0.22. Specify a solver to silence this warning.\n",
      "  FutureWarning)\n",
      "/usr/local/lib/python3.7/site-packages/sklearn/utils/validation.py:724: DataConversionWarning: A column-vector y was passed when a 1d array was expected. Please change the shape of y to (n_samples, ), for example using ravel().\n",
      "  y = column_or_1d(y, warn=True)\n",
      "/usr/local/lib/python3.7/site-packages/sklearn/linear_model/logistic.py:1544: UserWarning: 'n_jobs' > 1 does not have any effect when 'solver' is set to 'liblinear'. Got 'n_jobs' = 6.\n",
      "  \" = {}.\".format(effective_n_jobs(self.n_jobs)))\n"
     ]
    },
    {
     "name": "stdout",
     "output_type": "stream",
     "text": [
      "AVG precision: 0.4126972076025486 - ROC AUC: 0.6753731343283582\n",
      "Iteration No: 78 ended. Search finished for the next optimal point.\n",
      "Time taken: 0.6279\n",
      "Function value obtained: -0.4127\n",
      "Current minimum: -0.4282\n",
      "Iteration No: 79 started. Searching for the next optimal point.\n",
      "[376.7562048081003, 'l1', 2, 4]\n"
     ]
    },
    {
     "name": "stderr",
     "output_type": "stream",
     "text": [
      "/usr/local/lib/python3.7/site-packages/sklearn/linear_model/logistic.py:432: FutureWarning: Default solver will be changed to 'lbfgs' in 0.22. Specify a solver to silence this warning.\n",
      "  FutureWarning)\n",
      "/usr/local/lib/python3.7/site-packages/sklearn/utils/validation.py:724: DataConversionWarning: A column-vector y was passed when a 1d array was expected. Please change the shape of y to (n_samples, ), for example using ravel().\n",
      "  y = column_or_1d(y, warn=True)\n",
      "/usr/local/lib/python3.7/site-packages/sklearn/linear_model/logistic.py:1544: UserWarning: 'n_jobs' > 1 does not have any effect when 'solver' is set to 'liblinear'. Got 'n_jobs' = 6.\n",
      "  \" = {}.\".format(effective_n_jobs(self.n_jobs)))\n"
     ]
    },
    {
     "name": "stdout",
     "output_type": "stream",
     "text": [
      "AVG precision: 0.42597508407824847 - ROC AUC: 0.6777476255088195\n",
      "Iteration No: 79 ended. Search finished for the next optimal point.\n",
      "Time taken: 0.5800\n",
      "Function value obtained: -0.4260\n",
      "Current minimum: -0.4282\n",
      "Iteration No: 80 started. Searching for the next optimal point.\n",
      "[999.107982673882, 'l1', 2, 5]\n"
     ]
    },
    {
     "name": "stderr",
     "output_type": "stream",
     "text": [
      "/usr/local/lib/python3.7/site-packages/sklearn/linear_model/logistic.py:432: FutureWarning: Default solver will be changed to 'lbfgs' in 0.22. Specify a solver to silence this warning.\n",
      "  FutureWarning)\n",
      "/usr/local/lib/python3.7/site-packages/sklearn/utils/validation.py:724: DataConversionWarning: A column-vector y was passed when a 1d array was expected. Please change the shape of y to (n_samples, ), for example using ravel().\n",
      "  y = column_or_1d(y, warn=True)\n",
      "/usr/local/lib/python3.7/site-packages/sklearn/linear_model/logistic.py:1544: UserWarning: 'n_jobs' > 1 does not have any effect when 'solver' is set to 'liblinear'. Got 'n_jobs' = 6.\n",
      "  \" = {}.\".format(effective_n_jobs(self.n_jobs)))\n"
     ]
    },
    {
     "name": "stdout",
     "output_type": "stream",
     "text": [
      "AVG precision: 0.40436452922247657 - ROC AUC: 0.6748303934871098\n",
      "Iteration No: 80 ended. Search finished for the next optimal point.\n",
      "Time taken: 0.6746\n",
      "Function value obtained: -0.4044\n",
      "Current minimum: -0.4282\n",
      "Iteration No: 81 started. Searching for the next optimal point.\n",
      "[384.89329520126336, 'l1', 2, 4]\n"
     ]
    },
    {
     "name": "stderr",
     "output_type": "stream",
     "text": [
      "/usr/local/lib/python3.7/site-packages/sklearn/linear_model/logistic.py:432: FutureWarning: Default solver will be changed to 'lbfgs' in 0.22. Specify a solver to silence this warning.\n",
      "  FutureWarning)\n",
      "/usr/local/lib/python3.7/site-packages/sklearn/utils/validation.py:724: DataConversionWarning: A column-vector y was passed when a 1d array was expected. Please change the shape of y to (n_samples, ), for example using ravel().\n",
      "  y = column_or_1d(y, warn=True)\n",
      "/usr/local/lib/python3.7/site-packages/sklearn/linear_model/logistic.py:1544: UserWarning: 'n_jobs' > 1 does not have any effect when 'solver' is set to 'liblinear'. Got 'n_jobs' = 6.\n",
      "  \" = {}.\".format(effective_n_jobs(self.n_jobs)))\n"
     ]
    },
    {
     "name": "stdout",
     "output_type": "stream",
     "text": [
      "AVG precision: 0.4259050500935859 - ROC AUC: 0.6779511533242876\n",
      "Iteration No: 81 ended. Search finished for the next optimal point.\n",
      "Time taken: 0.5753\n",
      "Function value obtained: -0.4259\n",
      "Current minimum: -0.4282\n",
      "Iteration No: 82 started. Searching for the next optimal point.\n",
      "[377.2730679328271, 'l1', 2, 4]\n"
     ]
    },
    {
     "name": "stderr",
     "output_type": "stream",
     "text": [
      "/usr/local/lib/python3.7/site-packages/sklearn/linear_model/logistic.py:432: FutureWarning: Default solver will be changed to 'lbfgs' in 0.22. Specify a solver to silence this warning.\n",
      "  FutureWarning)\n",
      "/usr/local/lib/python3.7/site-packages/sklearn/utils/validation.py:724: DataConversionWarning: A column-vector y was passed when a 1d array was expected. Please change the shape of y to (n_samples, ), for example using ravel().\n",
      "  y = column_or_1d(y, warn=True)\n",
      "/usr/local/lib/python3.7/site-packages/sklearn/linear_model/logistic.py:1544: UserWarning: 'n_jobs' > 1 does not have any effect when 'solver' is set to 'liblinear'. Got 'n_jobs' = 6.\n",
      "  \" = {}.\".format(effective_n_jobs(self.n_jobs)))\n"
     ]
    },
    {
     "name": "stdout",
     "output_type": "stream",
     "text": [
      "AVG precision: 0.4272275595422378 - ROC AUC: 0.6780868385345997\n",
      "Iteration No: 82 ended. Search finished for the next optimal point.\n",
      "Time taken: 0.5612\n",
      "Function value obtained: -0.4272\n",
      "Current minimum: -0.4282\n",
      "Iteration No: 83 started. Searching for the next optimal point.\n",
      "[387.9595647448573, 'l1', 2, 4]\n"
     ]
    },
    {
     "name": "stderr",
     "output_type": "stream",
     "text": [
      "/usr/local/lib/python3.7/site-packages/sklearn/linear_model/logistic.py:432: FutureWarning: Default solver will be changed to 'lbfgs' in 0.22. Specify a solver to silence this warning.\n",
      "  FutureWarning)\n",
      "/usr/local/lib/python3.7/site-packages/sklearn/utils/validation.py:724: DataConversionWarning: A column-vector y was passed when a 1d array was expected. Please change the shape of y to (n_samples, ), for example using ravel().\n",
      "  y = column_or_1d(y, warn=True)\n",
      "/usr/local/lib/python3.7/site-packages/sklearn/linear_model/logistic.py:1544: UserWarning: 'n_jobs' > 1 does not have any effect when 'solver' is set to 'liblinear'. Got 'n_jobs' = 6.\n",
      "  \" = {}.\".format(effective_n_jobs(self.n_jobs)))\n"
     ]
    },
    {
     "name": "stdout",
     "output_type": "stream",
     "text": [
      "AVG precision: 0.42756270943128943 - ROC AUC: 0.6780189959294437\n",
      "Iteration No: 83 ended. Search finished for the next optimal point.\n",
      "Time taken: 0.6322\n",
      "Function value obtained: -0.4276\n",
      "Current minimum: -0.4282\n",
      "Iteration No: 84 started. Searching for the next optimal point.\n",
      "[385.09688751632336, 'l1', 2, 4]\n"
     ]
    },
    {
     "name": "stderr",
     "output_type": "stream",
     "text": [
      "/usr/local/lib/python3.7/site-packages/sklearn/linear_model/logistic.py:432: FutureWarning: Default solver will be changed to 'lbfgs' in 0.22. Specify a solver to silence this warning.\n",
      "  FutureWarning)\n",
      "/usr/local/lib/python3.7/site-packages/sklearn/utils/validation.py:724: DataConversionWarning: A column-vector y was passed when a 1d array was expected. Please change the shape of y to (n_samples, ), for example using ravel().\n",
      "  y = column_or_1d(y, warn=True)\n",
      "/usr/local/lib/python3.7/site-packages/sklearn/linear_model/logistic.py:1544: UserWarning: 'n_jobs' > 1 does not have any effect when 'solver' is set to 'liblinear'. Got 'n_jobs' = 6.\n",
      "  \" = {}.\".format(effective_n_jobs(self.n_jobs)))\n"
     ]
    },
    {
     "name": "stdout",
     "output_type": "stream",
     "text": [
      "AVG precision: 0.42781424502795096 - ROC AUC: 0.6792401628222523\n",
      "Iteration No: 84 ended. Search finished for the next optimal point.\n",
      "Time taken: 0.5699\n",
      "Function value obtained: -0.4278\n",
      "Current minimum: -0.4282\n",
      "Iteration No: 85 started. Searching for the next optimal point.\n",
      "[390.7907780462591, 'l1', 2, 4]\n"
     ]
    },
    {
     "name": "stderr",
     "output_type": "stream",
     "text": [
      "/usr/local/lib/python3.7/site-packages/sklearn/linear_model/logistic.py:432: FutureWarning: Default solver will be changed to 'lbfgs' in 0.22. Specify a solver to silence this warning.\n",
      "  FutureWarning)\n",
      "/usr/local/lib/python3.7/site-packages/sklearn/utils/validation.py:724: DataConversionWarning: A column-vector y was passed when a 1d array was expected. Please change the shape of y to (n_samples, ), for example using ravel().\n",
      "  y = column_or_1d(y, warn=True)\n",
      "/usr/local/lib/python3.7/site-packages/sklearn/linear_model/logistic.py:1544: UserWarning: 'n_jobs' > 1 does not have any effect when 'solver' is set to 'liblinear'. Got 'n_jobs' = 6.\n",
      "  \" = {}.\".format(effective_n_jobs(self.n_jobs)))\n"
     ]
    },
    {
     "name": "stdout",
     "output_type": "stream",
     "text": [
      "AVG precision: 0.4264075698237242 - ROC AUC: 0.6781546811397559\n",
      "Iteration No: 85 ended. Search finished for the next optimal point.\n",
      "Time taken: 0.5634\n",
      "Function value obtained: -0.4264\n",
      "Current minimum: -0.4282\n",
      "Iteration No: 86 started. Searching for the next optimal point.\n",
      "[367.77889052206257, 'l1', 2, 4]\n"
     ]
    },
    {
     "name": "stderr",
     "output_type": "stream",
     "text": [
      "/usr/local/lib/python3.7/site-packages/sklearn/linear_model/logistic.py:432: FutureWarning: Default solver will be changed to 'lbfgs' in 0.22. Specify a solver to silence this warning.\n",
      "  FutureWarning)\n",
      "/usr/local/lib/python3.7/site-packages/sklearn/utils/validation.py:724: DataConversionWarning: A column-vector y was passed when a 1d array was expected. Please change the shape of y to (n_samples, ), for example using ravel().\n",
      "  y = column_or_1d(y, warn=True)\n",
      "/usr/local/lib/python3.7/site-packages/sklearn/linear_model/logistic.py:1544: UserWarning: 'n_jobs' > 1 does not have any effect when 'solver' is set to 'liblinear'. Got 'n_jobs' = 6.\n",
      "  \" = {}.\".format(effective_n_jobs(self.n_jobs)))\n"
     ]
    },
    {
     "name": "stdout",
     "output_type": "stream",
     "text": [
      "AVG precision: 0.4254110783015951 - ROC AUC: 0.676933514246947\n",
      "Iteration No: 86 ended. Search finished for the next optimal point.\n",
      "Time taken: 0.5587\n",
      "Function value obtained: -0.4254\n",
      "Current minimum: -0.4282\n",
      "Iteration No: 87 started. Searching for the next optimal point.\n",
      "[362.1294303379748, 'l1', 2, 4]\n"
     ]
    },
    {
     "name": "stderr",
     "output_type": "stream",
     "text": [
      "/usr/local/lib/python3.7/site-packages/sklearn/linear_model/logistic.py:432: FutureWarning: Default solver will be changed to 'lbfgs' in 0.22. Specify a solver to silence this warning.\n",
      "  FutureWarning)\n",
      "/usr/local/lib/python3.7/site-packages/sklearn/utils/validation.py:724: DataConversionWarning: A column-vector y was passed when a 1d array was expected. Please change the shape of y to (n_samples, ), for example using ravel().\n",
      "  y = column_or_1d(y, warn=True)\n",
      "/usr/local/lib/python3.7/site-packages/sklearn/linear_model/logistic.py:1544: UserWarning: 'n_jobs' > 1 does not have any effect when 'solver' is set to 'liblinear'. Got 'n_jobs' = 6.\n",
      "  \" = {}.\".format(effective_n_jobs(self.n_jobs)))\n"
     ]
    },
    {
     "name": "stdout",
     "output_type": "stream",
     "text": [
      "AVG precision: 0.4244162099930382 - ROC AUC: 0.6769335142469471\n",
      "Iteration No: 87 ended. Search finished for the next optimal point.\n",
      "Time taken: 0.5725\n",
      "Function value obtained: -0.4244\n",
      "Current minimum: -0.4282\n",
      "Iteration No: 88 started. Searching for the next optimal point.\n",
      "[730.2150778202551, 'l1', 2, 5]\n"
     ]
    },
    {
     "name": "stderr",
     "output_type": "stream",
     "text": [
      "/usr/local/lib/python3.7/site-packages/sklearn/linear_model/logistic.py:432: FutureWarning: Default solver will be changed to 'lbfgs' in 0.22. Specify a solver to silence this warning.\n",
      "  FutureWarning)\n",
      "/usr/local/lib/python3.7/site-packages/sklearn/utils/validation.py:724: DataConversionWarning: A column-vector y was passed when a 1d array was expected. Please change the shape of y to (n_samples, ), for example using ravel().\n",
      "  y = column_or_1d(y, warn=True)\n",
      "/usr/local/lib/python3.7/site-packages/sklearn/linear_model/logistic.py:1544: UserWarning: 'n_jobs' > 1 does not have any effect when 'solver' is set to 'liblinear'. Got 'n_jobs' = 6.\n",
      "  \" = {}.\".format(effective_n_jobs(self.n_jobs)))\n"
     ]
    },
    {
     "name": "stdout",
     "output_type": "stream",
     "text": [
      "AVG precision: 0.4140457682989256 - ROC AUC: 0.6771370420624152\n",
      "Iteration No: 88 ended. Search finished for the next optimal point.\n",
      "Time taken: 0.6191\n",
      "Function value obtained: -0.4140\n",
      "Current minimum: -0.4282\n",
      "Iteration No: 89 started. Searching for the next optimal point.\n",
      "[371.6064626777173, 'l1', 2, 4]\n"
     ]
    },
    {
     "name": "stderr",
     "output_type": "stream",
     "text": [
      "/usr/local/lib/python3.7/site-packages/sklearn/linear_model/logistic.py:432: FutureWarning: Default solver will be changed to 'lbfgs' in 0.22. Specify a solver to silence this warning.\n",
      "  FutureWarning)\n",
      "/usr/local/lib/python3.7/site-packages/sklearn/utils/validation.py:724: DataConversionWarning: A column-vector y was passed when a 1d array was expected. Please change the shape of y to (n_samples, ), for example using ravel().\n",
      "  y = column_or_1d(y, warn=True)\n",
      "/usr/local/lib/python3.7/site-packages/sklearn/linear_model/logistic.py:1544: UserWarning: 'n_jobs' > 1 does not have any effect when 'solver' is set to 'liblinear'. Got 'n_jobs' = 6.\n",
      "  \" = {}.\".format(effective_n_jobs(self.n_jobs)))\n"
     ]
    },
    {
     "name": "stdout",
     "output_type": "stream",
     "text": [
      "AVG precision: 0.4256074385700447 - ROC AUC: 0.676662143826323\n",
      "Iteration No: 89 ended. Search finished for the next optimal point.\n",
      "Time taken: 0.5699\n",
      "Function value obtained: -0.4256\n",
      "Current minimum: -0.4282\n",
      "Iteration No: 90 started. Searching for the next optimal point.\n",
      "[365.08899408999787, 'l1', 2, 4]\n"
     ]
    },
    {
     "name": "stderr",
     "output_type": "stream",
     "text": [
      "/usr/local/lib/python3.7/site-packages/sklearn/linear_model/logistic.py:432: FutureWarning: Default solver will be changed to 'lbfgs' in 0.22. Specify a solver to silence this warning.\n",
      "  FutureWarning)\n",
      "/usr/local/lib/python3.7/site-packages/sklearn/utils/validation.py:724: DataConversionWarning: A column-vector y was passed when a 1d array was expected. Please change the shape of y to (n_samples, ), for example using ravel().\n",
      "  y = column_or_1d(y, warn=True)\n",
      "/usr/local/lib/python3.7/site-packages/sklearn/linear_model/logistic.py:1544: UserWarning: 'n_jobs' > 1 does not have any effect when 'solver' is set to 'liblinear'. Got 'n_jobs' = 6.\n",
      "  \" = {}.\".format(effective_n_jobs(self.n_jobs)))\n"
     ]
    },
    {
     "name": "stdout",
     "output_type": "stream",
     "text": [
      "AVG precision: 0.4258548774548843 - ROC AUC: 0.6772048846675712\n",
      "Iteration No: 90 ended. Search finished for the next optimal point.\n",
      "Time taken: 0.5662\n",
      "Function value obtained: -0.4259\n",
      "Current minimum: -0.4282\n",
      "Iteration No: 91 started. Searching for the next optimal point.\n",
      "[362.0660917139788, 'l1', 2, 4]\n"
     ]
    },
    {
     "name": "stderr",
     "output_type": "stream",
     "text": [
      "/usr/local/lib/python3.7/site-packages/sklearn/linear_model/logistic.py:432: FutureWarning: Default solver will be changed to 'lbfgs' in 0.22. Specify a solver to silence this warning.\n",
      "  FutureWarning)\n",
      "/usr/local/lib/python3.7/site-packages/sklearn/utils/validation.py:724: DataConversionWarning: A column-vector y was passed when a 1d array was expected. Please change the shape of y to (n_samples, ), for example using ravel().\n",
      "  y = column_or_1d(y, warn=True)\n",
      "/usr/local/lib/python3.7/site-packages/sklearn/linear_model/logistic.py:1544: UserWarning: 'n_jobs' > 1 does not have any effect when 'solver' is set to 'liblinear'. Got 'n_jobs' = 6.\n",
      "  \" = {}.\".format(effective_n_jobs(self.n_jobs)))\n"
     ]
    },
    {
     "name": "stdout",
     "output_type": "stream",
     "text": [
      "AVG precision: 0.4255925719815875 - ROC AUC: 0.6780189959294437\n",
      "Iteration No: 91 ended. Search finished for the next optimal point.\n",
      "Time taken: 0.6404\n",
      "Function value obtained: -0.4256\n",
      "Current minimum: -0.4282\n",
      "Iteration No: 92 started. Searching for the next optimal point.\n",
      "[366.95393251474667, 'l1', 2, 4]\n"
     ]
    },
    {
     "name": "stderr",
     "output_type": "stream",
     "text": [
      "/usr/local/lib/python3.7/site-packages/sklearn/linear_model/logistic.py:432: FutureWarning: Default solver will be changed to 'lbfgs' in 0.22. Specify a solver to silence this warning.\n",
      "  FutureWarning)\n",
      "/usr/local/lib/python3.7/site-packages/sklearn/utils/validation.py:724: DataConversionWarning: A column-vector y was passed when a 1d array was expected. Please change the shape of y to (n_samples, ), for example using ravel().\n",
      "  y = column_or_1d(y, warn=True)\n",
      "/usr/local/lib/python3.7/site-packages/sklearn/linear_model/logistic.py:1544: UserWarning: 'n_jobs' > 1 does not have any effect when 'solver' is set to 'liblinear'. Got 'n_jobs' = 6.\n",
      "  \" = {}.\".format(effective_n_jobs(self.n_jobs)))\n"
     ]
    },
    {
     "name": "stdout",
     "output_type": "stream",
     "text": [
      "AVG precision: 0.42690932064534065 - ROC AUC: 0.6783582089552239\n",
      "Iteration No: 92 ended. Search finished for the next optimal point.\n",
      "Time taken: 0.5734\n",
      "Function value obtained: -0.4269\n",
      "Current minimum: -0.4282\n",
      "Iteration No: 93 started. Searching for the next optimal point.\n",
      "[367.1061957249209, 'l1', 2, 4]\n"
     ]
    },
    {
     "name": "stderr",
     "output_type": "stream",
     "text": [
      "/usr/local/lib/python3.7/site-packages/sklearn/linear_model/logistic.py:432: FutureWarning: Default solver will be changed to 'lbfgs' in 0.22. Specify a solver to silence this warning.\n",
      "  FutureWarning)\n",
      "/usr/local/lib/python3.7/site-packages/sklearn/utils/validation.py:724: DataConversionWarning: A column-vector y was passed when a 1d array was expected. Please change the shape of y to (n_samples, ), for example using ravel().\n",
      "  y = column_or_1d(y, warn=True)\n",
      "/usr/local/lib/python3.7/site-packages/sklearn/linear_model/logistic.py:1544: UserWarning: 'n_jobs' > 1 does not have any effect when 'solver' is set to 'liblinear'. Got 'n_jobs' = 6.\n",
      "  \" = {}.\".format(effective_n_jobs(self.n_jobs)))\n"
     ]
    },
    {
     "name": "stdout",
     "output_type": "stream",
     "text": [
      "AVG precision: 0.4265439532219798 - ROC AUC: 0.6780189959294436\n",
      "Iteration No: 93 ended. Search finished for the next optimal point.\n",
      "Time taken: 0.5669\n",
      "Function value obtained: -0.4265\n",
      "Current minimum: -0.4282\n",
      "Iteration No: 94 started. Searching for the next optimal point.\n",
      "[366.8604351633323, 'l1', 2, 4]\n"
     ]
    },
    {
     "name": "stderr",
     "output_type": "stream",
     "text": [
      "/usr/local/lib/python3.7/site-packages/sklearn/linear_model/logistic.py:432: FutureWarning: Default solver will be changed to 'lbfgs' in 0.22. Specify a solver to silence this warning.\n",
      "  FutureWarning)\n",
      "/usr/local/lib/python3.7/site-packages/sklearn/utils/validation.py:724: DataConversionWarning: A column-vector y was passed when a 1d array was expected. Please change the shape of y to (n_samples, ), for example using ravel().\n",
      "  y = column_or_1d(y, warn=True)\n",
      "/usr/local/lib/python3.7/site-packages/sklearn/linear_model/logistic.py:1544: UserWarning: 'n_jobs' > 1 does not have any effect when 'solver' is set to 'liblinear'. Got 'n_jobs' = 6.\n",
      "  \" = {}.\".format(effective_n_jobs(self.n_jobs)))\n"
     ]
    },
    {
     "name": "stdout",
     "output_type": "stream",
     "text": [
      "AVG precision: 0.4247340127304532 - ROC AUC: 0.6776797829036636\n",
      "Iteration No: 94 ended. Search finished for the next optimal point.\n",
      "Time taken: 0.5602\n",
      "Function value obtained: -0.4247\n",
      "Current minimum: -0.4282\n",
      "Iteration No: 95 started. Searching for the next optimal point.\n",
      "[362.4110485405558, 'l1', 2, 4]\n"
     ]
    },
    {
     "name": "stderr",
     "output_type": "stream",
     "text": [
      "/usr/local/lib/python3.7/site-packages/sklearn/linear_model/logistic.py:432: FutureWarning: Default solver will be changed to 'lbfgs' in 0.22. Specify a solver to silence this warning.\n",
      "  FutureWarning)\n",
      "/usr/local/lib/python3.7/site-packages/sklearn/utils/validation.py:724: DataConversionWarning: A column-vector y was passed when a 1d array was expected. Please change the shape of y to (n_samples, ), for example using ravel().\n",
      "  y = column_or_1d(y, warn=True)\n",
      "/usr/local/lib/python3.7/site-packages/sklearn/linear_model/logistic.py:1544: UserWarning: 'n_jobs' > 1 does not have any effect when 'solver' is set to 'liblinear'. Got 'n_jobs' = 6.\n",
      "  \" = {}.\".format(effective_n_jobs(self.n_jobs)))\n"
     ]
    },
    {
     "name": "stdout",
     "output_type": "stream",
     "text": [
      "AVG precision: 0.4256114255443612 - ROC AUC: 0.6771370420624152\n",
      "Iteration No: 95 ended. Search finished for the next optimal point.\n",
      "Time taken: 0.5690\n",
      "Function value obtained: -0.4256\n",
      "Current minimum: -0.4282\n",
      "Iteration No: 96 started. Searching for the next optimal point.\n",
      "[365.0137229173668, 'l1', 2, 4]\n"
     ]
    },
    {
     "name": "stderr",
     "output_type": "stream",
     "text": [
      "/usr/local/lib/python3.7/site-packages/sklearn/linear_model/logistic.py:432: FutureWarning: Default solver will be changed to 'lbfgs' in 0.22. Specify a solver to silence this warning.\n",
      "  FutureWarning)\n",
      "/usr/local/lib/python3.7/site-packages/sklearn/utils/validation.py:724: DataConversionWarning: A column-vector y was passed when a 1d array was expected. Please change the shape of y to (n_samples, ), for example using ravel().\n",
      "  y = column_or_1d(y, warn=True)\n",
      "/usr/local/lib/python3.7/site-packages/sklearn/linear_model/logistic.py:1544: UserWarning: 'n_jobs' > 1 does not have any effect when 'solver' is set to 'liblinear'. Got 'n_jobs' = 6.\n",
      "  \" = {}.\".format(effective_n_jobs(self.n_jobs)))\n"
     ]
    },
    {
     "name": "stdout",
     "output_type": "stream",
     "text": [
      "AVG precision: 0.42527059332488293 - ROC AUC: 0.6774762550881954\n",
      "Iteration No: 96 ended. Search finished for the next optimal point.\n",
      "Time taken: 0.5615\n",
      "Function value obtained: -0.4253\n",
      "Current minimum: -0.4282\n",
      "Iteration No: 97 started. Searching for the next optimal point.\n",
      "[366.4735178811569, 'l1', 2, 4]\n"
     ]
    },
    {
     "name": "stderr",
     "output_type": "stream",
     "text": [
      "/usr/local/lib/python3.7/site-packages/sklearn/linear_model/logistic.py:432: FutureWarning: Default solver will be changed to 'lbfgs' in 0.22. Specify a solver to silence this warning.\n",
      "  FutureWarning)\n",
      "/usr/local/lib/python3.7/site-packages/sklearn/utils/validation.py:724: DataConversionWarning: A column-vector y was passed when a 1d array was expected. Please change the shape of y to (n_samples, ), for example using ravel().\n",
      "  y = column_or_1d(y, warn=True)\n",
      "/usr/local/lib/python3.7/site-packages/sklearn/linear_model/logistic.py:1544: UserWarning: 'n_jobs' > 1 does not have any effect when 'solver' is set to 'liblinear'. Got 'n_jobs' = 6.\n",
      "  \" = {}.\".format(effective_n_jobs(self.n_jobs)))\n"
     ]
    },
    {
     "name": "stdout",
     "output_type": "stream",
     "text": [
      "AVG precision: 0.4254422570157125 - ROC AUC: 0.6770013568521032\n",
      "Iteration No: 97 ended. Search finished for the next optimal point.\n",
      "Time taken: 0.5700\n",
      "Function value obtained: -0.4254\n",
      "Current minimum: -0.4282\n",
      "Iteration No: 98 started. Searching for the next optimal point.\n",
      "[363.3552846398437, 'l1', 2, 4]\n"
     ]
    },
    {
     "name": "stderr",
     "output_type": "stream",
     "text": [
      "/usr/local/lib/python3.7/site-packages/sklearn/linear_model/logistic.py:432: FutureWarning: Default solver will be changed to 'lbfgs' in 0.22. Specify a solver to silence this warning.\n",
      "  FutureWarning)\n",
      "/usr/local/lib/python3.7/site-packages/sklearn/utils/validation.py:724: DataConversionWarning: A column-vector y was passed when a 1d array was expected. Please change the shape of y to (n_samples, ), for example using ravel().\n",
      "  y = column_or_1d(y, warn=True)\n",
      "/usr/local/lib/python3.7/site-packages/sklearn/linear_model/logistic.py:1544: UserWarning: 'n_jobs' > 1 does not have any effect when 'solver' is set to 'liblinear'. Got 'n_jobs' = 6.\n",
      "  \" = {}.\".format(effective_n_jobs(self.n_jobs)))\n"
     ]
    },
    {
     "name": "stdout",
     "output_type": "stream",
     "text": [
      "AVG precision: 0.42667503540703716 - ROC AUC: 0.6778833107191317\n",
      "Iteration No: 98 ended. Search finished for the next optimal point.\n",
      "Time taken: 0.5616\n",
      "Function value obtained: -0.4267\n",
      "Current minimum: -0.4282\n",
      "Iteration No: 99 started. Searching for the next optimal point.\n",
      "[362.1952775404652, 'l1', 2, 3]\n",
      "AVG precision: 0.4169459014125465 - ROC AUC: 0.6811397557666216\n"
     ]
    },
    {
     "name": "stderr",
     "output_type": "stream",
     "text": [
      "/usr/local/lib/python3.7/site-packages/sklearn/linear_model/logistic.py:432: FutureWarning: Default solver will be changed to 'lbfgs' in 0.22. Specify a solver to silence this warning.\n",
      "  FutureWarning)\n",
      "/usr/local/lib/python3.7/site-packages/sklearn/utils/validation.py:724: DataConversionWarning: A column-vector y was passed when a 1d array was expected. Please change the shape of y to (n_samples, ), for example using ravel().\n",
      "  y = column_or_1d(y, warn=True)\n",
      "/usr/local/lib/python3.7/site-packages/sklearn/linear_model/logistic.py:1544: UserWarning: 'n_jobs' > 1 does not have any effect when 'solver' is set to 'liblinear'. Got 'n_jobs' = 6.\n",
      "  \" = {}.\".format(effective_n_jobs(self.n_jobs)))\n"
     ]
    },
    {
     "name": "stdout",
     "output_type": "stream",
     "text": [
      "Iteration No: 99 ended. Search finished for the next optimal point.\n",
      "Time taken: 0.5261\n",
      "Function value obtained: -0.4169\n",
      "Current minimum: -0.4282\n",
      "Iteration No: 100 started. Searching for the next optimal point.\n",
      "[369.3529830537336, 'l1', 2, 4]\n"
     ]
    },
    {
     "name": "stderr",
     "output_type": "stream",
     "text": [
      "/usr/local/lib/python3.7/site-packages/sklearn/linear_model/logistic.py:432: FutureWarning: Default solver will be changed to 'lbfgs' in 0.22. Specify a solver to silence this warning.\n",
      "  FutureWarning)\n",
      "/usr/local/lib/python3.7/site-packages/sklearn/utils/validation.py:724: DataConversionWarning: A column-vector y was passed when a 1d array was expected. Please change the shape of y to (n_samples, ), for example using ravel().\n",
      "  y = column_or_1d(y, warn=True)\n",
      "/usr/local/lib/python3.7/site-packages/sklearn/linear_model/logistic.py:1544: UserWarning: 'n_jobs' > 1 does not have any effect when 'solver' is set to 'liblinear'. Got 'n_jobs' = 6.\n",
      "  \" = {}.\".format(effective_n_jobs(self.n_jobs)))\n"
     ]
    },
    {
     "name": "stdout",
     "output_type": "stream",
     "text": [
      "AVG precision: 0.4262578355530803 - ROC AUC: 0.6776797829036635\n",
      "Iteration No: 100 ended. Search finished for the next optimal point.\n",
      "Time taken: 0.6398\n",
      "Function value obtained: -0.4263\n",
      "Current minimum: -0.4282\n",
      "Iteration No: 101 started. Searching for the next optimal point.\n",
      "[370.1388712389312, 'l1', 2, 4]\n"
     ]
    },
    {
     "name": "stderr",
     "output_type": "stream",
     "text": [
      "/usr/local/lib/python3.7/site-packages/sklearn/linear_model/logistic.py:432: FutureWarning: Default solver will be changed to 'lbfgs' in 0.22. Specify a solver to silence this warning.\n",
      "  FutureWarning)\n",
      "/usr/local/lib/python3.7/site-packages/sklearn/utils/validation.py:724: DataConversionWarning: A column-vector y was passed when a 1d array was expected. Please change the shape of y to (n_samples, ), for example using ravel().\n",
      "  y = column_or_1d(y, warn=True)\n",
      "/usr/local/lib/python3.7/site-packages/sklearn/linear_model/logistic.py:1544: UserWarning: 'n_jobs' > 1 does not have any effect when 'solver' is set to 'liblinear'. Got 'n_jobs' = 6.\n",
      "  \" = {}.\".format(effective_n_jobs(self.n_jobs)))\n"
     ]
    },
    {
     "name": "stdout",
     "output_type": "stream",
     "text": [
      "AVG precision: 0.4262370512576765 - ROC AUC: 0.6779511533242876\n",
      "Iteration No: 101 ended. Search finished for the next optimal point.\n",
      "Time taken: 0.5607\n",
      "Function value obtained: -0.4262\n",
      "Current minimum: -0.4282\n",
      "Iteration No: 102 started. Searching for the next optimal point.\n",
      "[362.75789645243583, 'l1', 2, 4]\n"
     ]
    },
    {
     "name": "stderr",
     "output_type": "stream",
     "text": [
      "/usr/local/lib/python3.7/site-packages/sklearn/linear_model/logistic.py:432: FutureWarning: Default solver will be changed to 'lbfgs' in 0.22. Specify a solver to silence this warning.\n",
      "  FutureWarning)\n",
      "/usr/local/lib/python3.7/site-packages/sklearn/utils/validation.py:724: DataConversionWarning: A column-vector y was passed when a 1d array was expected. Please change the shape of y to (n_samples, ), for example using ravel().\n",
      "  y = column_or_1d(y, warn=True)\n",
      "/usr/local/lib/python3.7/site-packages/sklearn/linear_model/logistic.py:1544: UserWarning: 'n_jobs' > 1 does not have any effect when 'solver' is set to 'liblinear'. Got 'n_jobs' = 6.\n",
      "  \" = {}.\".format(effective_n_jobs(self.n_jobs)))\n"
     ]
    },
    {
     "name": "stdout",
     "output_type": "stream",
     "text": [
      "AVG precision: 0.42623178423243935 - ROC AUC: 0.6775440976933514\n",
      "Iteration No: 102 ended. Search finished for the next optimal point.\n",
      "Time taken: 0.5685\n",
      "Function value obtained: -0.4262\n",
      "Current minimum: -0.4282\n",
      "Iteration No: 103 started. Searching for the next optimal point.\n",
      "[362.11866719349166, 'l1', 2, 4]\n"
     ]
    },
    {
     "name": "stderr",
     "output_type": "stream",
     "text": [
      "/usr/local/lib/python3.7/site-packages/sklearn/linear_model/logistic.py:432: FutureWarning: Default solver will be changed to 'lbfgs' in 0.22. Specify a solver to silence this warning.\n",
      "  FutureWarning)\n",
      "/usr/local/lib/python3.7/site-packages/sklearn/utils/validation.py:724: DataConversionWarning: A column-vector y was passed when a 1d array was expected. Please change the shape of y to (n_samples, ), for example using ravel().\n",
      "  y = column_or_1d(y, warn=True)\n",
      "/usr/local/lib/python3.7/site-packages/sklearn/linear_model/logistic.py:1544: UserWarning: 'n_jobs' > 1 does not have any effect when 'solver' is set to 'liblinear'. Got 'n_jobs' = 6.\n",
      "  \" = {}.\".format(effective_n_jobs(self.n_jobs)))\n"
     ]
    },
    {
     "name": "stdout",
     "output_type": "stream",
     "text": [
      "AVG precision: 0.42545915737959805 - ROC AUC: 0.6772727272727272\n",
      "Iteration No: 103 ended. Search finished for the next optimal point.\n",
      "Time taken: 0.5611\n",
      "Function value obtained: -0.4255\n",
      "Current minimum: -0.4282\n",
      "Iteration No: 104 started. Searching for the next optimal point.\n",
      "[956.7070549090356, 'l1', 2, 4]\n"
     ]
    },
    {
     "name": "stderr",
     "output_type": "stream",
     "text": [
      "/usr/local/lib/python3.7/site-packages/sklearn/linear_model/logistic.py:432: FutureWarning: Default solver will be changed to 'lbfgs' in 0.22. Specify a solver to silence this warning.\n",
      "  FutureWarning)\n",
      "/usr/local/lib/python3.7/site-packages/sklearn/utils/validation.py:724: DataConversionWarning: A column-vector y was passed when a 1d array was expected. Please change the shape of y to (n_samples, ), for example using ravel().\n",
      "  y = column_or_1d(y, warn=True)\n",
      "/usr/local/lib/python3.7/site-packages/sklearn/linear_model/logistic.py:1544: UserWarning: 'n_jobs' > 1 does not have any effect when 'solver' is set to 'liblinear'. Got 'n_jobs' = 6.\n",
      "  \" = {}.\".format(effective_n_jobs(self.n_jobs)))\n"
     ]
    },
    {
     "name": "stdout",
     "output_type": "stream",
     "text": [
      "AVG precision: 0.4083830959743846 - ROC AUC: 0.6761194029850746\n",
      "Iteration No: 104 ended. Search finished for the next optimal point.\n",
      "Time taken: 0.5812\n",
      "Function value obtained: -0.4084\n",
      "Current minimum: -0.4282\n",
      "Iteration No: 105 started. Searching for the next optimal point.\n",
      "[987.3889501737572, 'l1', 2, 5]\n"
     ]
    },
    {
     "name": "stderr",
     "output_type": "stream",
     "text": [
      "/usr/local/lib/python3.7/site-packages/sklearn/linear_model/logistic.py:432: FutureWarning: Default solver will be changed to 'lbfgs' in 0.22. Specify a solver to silence this warning.\n",
      "  FutureWarning)\n",
      "/usr/local/lib/python3.7/site-packages/sklearn/utils/validation.py:724: DataConversionWarning: A column-vector y was passed when a 1d array was expected. Please change the shape of y to (n_samples, ), for example using ravel().\n",
      "  y = column_or_1d(y, warn=True)\n",
      "/usr/local/lib/python3.7/site-packages/sklearn/linear_model/logistic.py:1544: UserWarning: 'n_jobs' > 1 does not have any effect when 'solver' is set to 'liblinear'. Got 'n_jobs' = 6.\n",
      "  \" = {}.\".format(effective_n_jobs(self.n_jobs)))\n"
     ]
    },
    {
     "name": "stdout",
     "output_type": "stream",
     "text": [
      "AVG precision: 0.40624615583283663 - ROC AUC: 0.6752374491180461\n",
      "Iteration No: 105 ended. Search finished for the next optimal point.\n",
      "Time taken: 0.6128\n",
      "Function value obtained: -0.4062\n",
      "Current minimum: -0.4282\n",
      "Iteration No: 106 started. Searching for the next optimal point.\n",
      "[383.957189605581, 'l1', 3, 4]\n"
     ]
    },
    {
     "name": "stderr",
     "output_type": "stream",
     "text": [
      "/usr/local/lib/python3.7/site-packages/sklearn/linear_model/logistic.py:432: FutureWarning: Default solver will be changed to 'lbfgs' in 0.22. Specify a solver to silence this warning.\n",
      "  FutureWarning)\n",
      "/usr/local/lib/python3.7/site-packages/sklearn/utils/validation.py:724: DataConversionWarning: A column-vector y was passed when a 1d array was expected. Please change the shape of y to (n_samples, ), for example using ravel().\n",
      "  y = column_or_1d(y, warn=True)\n",
      "/usr/local/lib/python3.7/site-packages/sklearn/linear_model/logistic.py:1544: UserWarning: 'n_jobs' > 1 does not have any effect when 'solver' is set to 'liblinear'. Got 'n_jobs' = 6.\n",
      "  \" = {}.\".format(effective_n_jobs(self.n_jobs)))\n"
     ]
    },
    {
     "name": "stdout",
     "output_type": "stream",
     "text": [
      "AVG precision: 0.33093805389474895 - ROC AUC: 0.5957937584803257\n",
      "Iteration No: 106 ended. Search finished for the next optimal point.\n",
      "Time taken: 0.6078\n",
      "Function value obtained: -0.3309\n",
      "Current minimum: -0.4282\n",
      "Iteration No: 107 started. Searching for the next optimal point.\n",
      "[396.6013654357442, 'l1', 2, 4]\n"
     ]
    },
    {
     "name": "stderr",
     "output_type": "stream",
     "text": [
      "/usr/local/lib/python3.7/site-packages/sklearn/linear_model/logistic.py:432: FutureWarning: Default solver will be changed to 'lbfgs' in 0.22. Specify a solver to silence this warning.\n",
      "  FutureWarning)\n",
      "/usr/local/lib/python3.7/site-packages/sklearn/utils/validation.py:724: DataConversionWarning: A column-vector y was passed when a 1d array was expected. Please change the shape of y to (n_samples, ), for example using ravel().\n",
      "  y = column_or_1d(y, warn=True)\n",
      "/usr/local/lib/python3.7/site-packages/sklearn/linear_model/logistic.py:1544: UserWarning: 'n_jobs' > 1 does not have any effect when 'solver' is set to 'liblinear'. Got 'n_jobs' = 6.\n",
      "  \" = {}.\".format(effective_n_jobs(self.n_jobs)))\n"
     ]
    },
    {
     "name": "stdout",
     "output_type": "stream",
     "text": [
      "AVG precision: 0.42554095357567867 - ROC AUC: 0.677001356852103\n",
      "Iteration No: 107 ended. Search finished for the next optimal point.\n",
      "Time taken: 0.5716\n",
      "Function value obtained: -0.4255\n",
      "Current minimum: -0.4282\n",
      "Iteration No: 108 started. Searching for the next optimal point.\n",
      "[383.6918357279404, 'l1', 2, 4]\n"
     ]
    },
    {
     "name": "stderr",
     "output_type": "stream",
     "text": [
      "/usr/local/lib/python3.7/site-packages/sklearn/linear_model/logistic.py:432: FutureWarning: Default solver will be changed to 'lbfgs' in 0.22. Specify a solver to silence this warning.\n",
      "  FutureWarning)\n",
      "/usr/local/lib/python3.7/site-packages/sklearn/utils/validation.py:724: DataConversionWarning: A column-vector y was passed when a 1d array was expected. Please change the shape of y to (n_samples, ), for example using ravel().\n",
      "  y = column_or_1d(y, warn=True)\n",
      "/usr/local/lib/python3.7/site-packages/sklearn/linear_model/logistic.py:1544: UserWarning: 'n_jobs' > 1 does not have any effect when 'solver' is set to 'liblinear'. Got 'n_jobs' = 6.\n",
      "  \" = {}.\".format(effective_n_jobs(self.n_jobs)))\n"
     ]
    },
    {
     "name": "stdout",
     "output_type": "stream",
     "text": [
      "AVG precision: 0.42761882268161155 - ROC AUC: 0.6787652645861602\n",
      "Iteration No: 108 ended. Search finished for the next optimal point.\n",
      "Time taken: 0.5564\n",
      "Function value obtained: -0.4276\n",
      "Current minimum: -0.4282\n",
      "Iteration No: 109 started. Searching for the next optimal point.\n",
      "[365.1719172950836, 'l1', 2, 4]\n"
     ]
    },
    {
     "name": "stderr",
     "output_type": "stream",
     "text": [
      "/usr/local/lib/python3.7/site-packages/sklearn/linear_model/logistic.py:432: FutureWarning: Default solver will be changed to 'lbfgs' in 0.22. Specify a solver to silence this warning.\n",
      "  FutureWarning)\n",
      "/usr/local/lib/python3.7/site-packages/sklearn/utils/validation.py:724: DataConversionWarning: A column-vector y was passed when a 1d array was expected. Please change the shape of y to (n_samples, ), for example using ravel().\n",
      "  y = column_or_1d(y, warn=True)\n",
      "/usr/local/lib/python3.7/site-packages/sklearn/linear_model/logistic.py:1544: UserWarning: 'n_jobs' > 1 does not have any effect when 'solver' is set to 'liblinear'. Got 'n_jobs' = 6.\n",
      "  \" = {}.\".format(effective_n_jobs(self.n_jobs)))\n"
     ]
    },
    {
     "name": "stdout",
     "output_type": "stream",
     "text": [
      "AVG precision: 0.42449826631745313 - ROC AUC: 0.6768656716417911\n",
      "Iteration No: 109 ended. Search finished for the next optimal point.\n",
      "Time taken: 0.5584\n",
      "Function value obtained: -0.4245\n",
      "Current minimum: -0.4282\n",
      "Iteration No: 110 started. Searching for the next optimal point.\n",
      "[385.8577491101478, 'l1', 2, 4]\n"
     ]
    },
    {
     "name": "stderr",
     "output_type": "stream",
     "text": [
      "/usr/local/lib/python3.7/site-packages/sklearn/linear_model/logistic.py:432: FutureWarning: Default solver will be changed to 'lbfgs' in 0.22. Specify a solver to silence this warning.\n",
      "  FutureWarning)\n",
      "/usr/local/lib/python3.7/site-packages/sklearn/utils/validation.py:724: DataConversionWarning: A column-vector y was passed when a 1d array was expected. Please change the shape of y to (n_samples, ), for example using ravel().\n",
      "  y = column_or_1d(y, warn=True)\n",
      "/usr/local/lib/python3.7/site-packages/sklearn/linear_model/logistic.py:1544: UserWarning: 'n_jobs' > 1 does not have any effect when 'solver' is set to 'liblinear'. Got 'n_jobs' = 6.\n",
      "  \" = {}.\".format(effective_n_jobs(self.n_jobs)))\n"
     ]
    },
    {
     "name": "stdout",
     "output_type": "stream",
     "text": [
      "AVG precision: 0.4258939015738923 - ROC AUC: 0.6777476255088195\n",
      "Iteration No: 110 ended. Search finished for the next optimal point.\n",
      "Time taken: 0.6345\n",
      "Function value obtained: -0.4259\n",
      "Current minimum: -0.4282\n",
      "Iteration No: 111 started. Searching for the next optimal point.\n",
      "[362.7680611571866, 'l1', 2, 4]\n"
     ]
    },
    {
     "name": "stderr",
     "output_type": "stream",
     "text": [
      "/usr/local/lib/python3.7/site-packages/sklearn/linear_model/logistic.py:432: FutureWarning: Default solver will be changed to 'lbfgs' in 0.22. Specify a solver to silence this warning.\n",
      "  FutureWarning)\n",
      "/usr/local/lib/python3.7/site-packages/sklearn/utils/validation.py:724: DataConversionWarning: A column-vector y was passed when a 1d array was expected. Please change the shape of y to (n_samples, ), for example using ravel().\n",
      "  y = column_or_1d(y, warn=True)\n",
      "/usr/local/lib/python3.7/site-packages/sklearn/linear_model/logistic.py:1544: UserWarning: 'n_jobs' > 1 does not have any effect when 'solver' is set to 'liblinear'. Got 'n_jobs' = 6.\n",
      "  \" = {}.\".format(effective_n_jobs(self.n_jobs)))\n"
     ]
    },
    {
     "name": "stdout",
     "output_type": "stream",
     "text": [
      "AVG precision: 0.42570636559595815 - ROC AUC: 0.6772727272727272\n",
      "Iteration No: 111 ended. Search finished for the next optimal point.\n",
      "Time taken: 0.5587\n",
      "Function value obtained: -0.4257\n",
      "Current minimum: -0.4282\n",
      "Iteration No: 112 started. Searching for the next optimal point.\n",
      "[364.41398710828616, 'l1', 2, 4]\n"
     ]
    },
    {
     "name": "stderr",
     "output_type": "stream",
     "text": [
      "/usr/local/lib/python3.7/site-packages/sklearn/linear_model/logistic.py:432: FutureWarning: Default solver will be changed to 'lbfgs' in 0.22. Specify a solver to silence this warning.\n",
      "  FutureWarning)\n",
      "/usr/local/lib/python3.7/site-packages/sklearn/utils/validation.py:724: DataConversionWarning: A column-vector y was passed when a 1d array was expected. Please change the shape of y to (n_samples, ), for example using ravel().\n",
      "  y = column_or_1d(y, warn=True)\n",
      "/usr/local/lib/python3.7/site-packages/sklearn/linear_model/logistic.py:1544: UserWarning: 'n_jobs' > 1 does not have any effect when 'solver' is set to 'liblinear'. Got 'n_jobs' = 6.\n",
      "  \" = {}.\".format(effective_n_jobs(self.n_jobs)))\n"
     ]
    },
    {
     "name": "stdout",
     "output_type": "stream",
     "text": [
      "AVG precision: 0.4245218192171058 - ROC AUC: 0.6764586160108548\n",
      "Iteration No: 112 ended. Search finished for the next optimal point.\n",
      "Time taken: 0.5782\n",
      "Function value obtained: -0.4245\n",
      "Current minimum: -0.4282\n",
      "Iteration No: 113 started. Searching for the next optimal point.\n",
      "[384.5575011670343, 'l1', 2, 4]\n"
     ]
    },
    {
     "name": "stderr",
     "output_type": "stream",
     "text": [
      "/usr/local/lib/python3.7/site-packages/sklearn/linear_model/logistic.py:432: FutureWarning: Default solver will be changed to 'lbfgs' in 0.22. Specify a solver to silence this warning.\n",
      "  FutureWarning)\n",
      "/usr/local/lib/python3.7/site-packages/sklearn/utils/validation.py:724: DataConversionWarning: A column-vector y was passed when a 1d array was expected. Please change the shape of y to (n_samples, ), for example using ravel().\n",
      "  y = column_or_1d(y, warn=True)\n",
      "/usr/local/lib/python3.7/site-packages/sklearn/linear_model/logistic.py:1544: UserWarning: 'n_jobs' > 1 does not have any effect when 'solver' is set to 'liblinear'. Got 'n_jobs' = 6.\n",
      "  \" = {}.\".format(effective_n_jobs(self.n_jobs)))\n"
     ]
    },
    {
     "name": "stdout",
     "output_type": "stream",
     "text": [
      "AVG precision: 0.4272850499937726 - ROC AUC: 0.6782903663500678\n",
      "Iteration No: 113 ended. Search finished for the next optimal point.\n",
      "Time taken: 0.5542\n",
      "Function value obtained: -0.4273\n",
      "Current minimum: -0.4282\n",
      "Iteration No: 114 started. Searching for the next optimal point.\n",
      "[360.3215499156509, 'l1', 2, 4]\n"
     ]
    },
    {
     "name": "stderr",
     "output_type": "stream",
     "text": [
      "/usr/local/lib/python3.7/site-packages/sklearn/linear_model/logistic.py:432: FutureWarning: Default solver will be changed to 'lbfgs' in 0.22. Specify a solver to silence this warning.\n",
      "  FutureWarning)\n",
      "/usr/local/lib/python3.7/site-packages/sklearn/utils/validation.py:724: DataConversionWarning: A column-vector y was passed when a 1d array was expected. Please change the shape of y to (n_samples, ), for example using ravel().\n",
      "  y = column_or_1d(y, warn=True)\n",
      "/usr/local/lib/python3.7/site-packages/sklearn/linear_model/logistic.py:1544: UserWarning: 'n_jobs' > 1 does not have any effect when 'solver' is set to 'liblinear'. Got 'n_jobs' = 6.\n",
      "  \" = {}.\".format(effective_n_jobs(self.n_jobs)))\n"
     ]
    },
    {
     "name": "stdout",
     "output_type": "stream",
     "text": [
      "AVG precision: 0.42505564491332576 - ROC AUC: 0.6770691994572592\n",
      "Iteration No: 114 ended. Search finished for the next optimal point.\n",
      "Time taken: 0.5568\n",
      "Function value obtained: -0.4251\n",
      "Current minimum: -0.4282\n",
      "Iteration No: 115 started. Searching for the next optimal point.\n",
      "[382.0439859182958, 'l1', 2, 4]\n"
     ]
    },
    {
     "name": "stderr",
     "output_type": "stream",
     "text": [
      "/usr/local/lib/python3.7/site-packages/sklearn/linear_model/logistic.py:432: FutureWarning: Default solver will be changed to 'lbfgs' in 0.22. Specify a solver to silence this warning.\n",
      "  FutureWarning)\n",
      "/usr/local/lib/python3.7/site-packages/sklearn/utils/validation.py:724: DataConversionWarning: A column-vector y was passed when a 1d array was expected. Please change the shape of y to (n_samples, ), for example using ravel().\n",
      "  y = column_or_1d(y, warn=True)\n",
      "/usr/local/lib/python3.7/site-packages/sklearn/linear_model/logistic.py:1544: UserWarning: 'n_jobs' > 1 does not have any effect when 'solver' is set to 'liblinear'. Got 'n_jobs' = 6.\n",
      "  \" = {}.\".format(effective_n_jobs(self.n_jobs)))\n"
     ]
    },
    {
     "name": "stdout",
     "output_type": "stream",
     "text": [
      "AVG precision: 0.42627784381679723 - ROC AUC: 0.6779511533242877\n",
      "Iteration No: 115 ended. Search finished for the next optimal point.\n",
      "Time taken: 0.5663\n",
      "Function value obtained: -0.4263\n",
      "Current minimum: -0.4282\n",
      "Iteration No: 116 started. Searching for the next optimal point.\n",
      "[384.04001651498527, 'l1', 2, 4]\n"
     ]
    },
    {
     "name": "stderr",
     "output_type": "stream",
     "text": [
      "/usr/local/lib/python3.7/site-packages/sklearn/linear_model/logistic.py:432: FutureWarning: Default solver will be changed to 'lbfgs' in 0.22. Specify a solver to silence this warning.\n",
      "  FutureWarning)\n",
      "/usr/local/lib/python3.7/site-packages/sklearn/utils/validation.py:724: DataConversionWarning: A column-vector y was passed when a 1d array was expected. Please change the shape of y to (n_samples, ), for example using ravel().\n",
      "  y = column_or_1d(y, warn=True)\n",
      "/usr/local/lib/python3.7/site-packages/sklearn/linear_model/logistic.py:1544: UserWarning: 'n_jobs' > 1 does not have any effect when 'solver' is set to 'liblinear'. Got 'n_jobs' = 6.\n",
      "  \" = {}.\".format(effective_n_jobs(self.n_jobs)))\n"
     ]
    },
    {
     "name": "stdout",
     "output_type": "stream",
     "text": [
      "AVG precision: 0.4252485825482986 - ROC AUC: 0.6779511533242876\n",
      "Iteration No: 116 ended. Search finished for the next optimal point.\n",
      "Time taken: 0.5649\n",
      "Function value obtained: -0.4252\n",
      "Current minimum: -0.4282\n",
      "Iteration No: 117 started. Searching for the next optimal point.\n",
      "[359.4776883715022, 'l1', 2, 4]\n"
     ]
    },
    {
     "name": "stderr",
     "output_type": "stream",
     "text": [
      "/usr/local/lib/python3.7/site-packages/sklearn/linear_model/logistic.py:432: FutureWarning: Default solver will be changed to 'lbfgs' in 0.22. Specify a solver to silence this warning.\n",
      "  FutureWarning)\n",
      "/usr/local/lib/python3.7/site-packages/sklearn/utils/validation.py:724: DataConversionWarning: A column-vector y was passed when a 1d array was expected. Please change the shape of y to (n_samples, ), for example using ravel().\n",
      "  y = column_or_1d(y, warn=True)\n",
      "/usr/local/lib/python3.7/site-packages/sklearn/linear_model/logistic.py:1544: UserWarning: 'n_jobs' > 1 does not have any effect when 'solver' is set to 'liblinear'. Got 'n_jobs' = 6.\n",
      "  \" = {}.\".format(effective_n_jobs(self.n_jobs)))\n"
     ]
    },
    {
     "name": "stdout",
     "output_type": "stream",
     "text": [
      "AVG precision: 0.42432745435909075 - ROC AUC: 0.6765264586160109\n",
      "Iteration No: 117 ended. Search finished for the next optimal point.\n",
      "Time taken: 0.5544\n",
      "Function value obtained: -0.4243\n",
      "Current minimum: -0.4282\n",
      "Iteration No: 118 started. Searching for the next optimal point.\n",
      "[381.6918811012127, 'l1', 2, 4]\n"
     ]
    },
    {
     "name": "stderr",
     "output_type": "stream",
     "text": [
      "/usr/local/lib/python3.7/site-packages/sklearn/linear_model/logistic.py:432: FutureWarning: Default solver will be changed to 'lbfgs' in 0.22. Specify a solver to silence this warning.\n",
      "  FutureWarning)\n",
      "/usr/local/lib/python3.7/site-packages/sklearn/utils/validation.py:724: DataConversionWarning: A column-vector y was passed when a 1d array was expected. Please change the shape of y to (n_samples, ), for example using ravel().\n",
      "  y = column_or_1d(y, warn=True)\n",
      "/usr/local/lib/python3.7/site-packages/sklearn/linear_model/logistic.py:1544: UserWarning: 'n_jobs' > 1 does not have any effect when 'solver' is set to 'liblinear'. Got 'n_jobs' = 6.\n",
      "  \" = {}.\".format(effective_n_jobs(self.n_jobs)))\n"
     ]
    },
    {
     "name": "stdout",
     "output_type": "stream",
     "text": [
      "AVG precision: 0.4262271196983571 - ROC AUC: 0.6768656716417911\n",
      "Iteration No: 118 ended. Search finished for the next optimal point.\n",
      "Time taken: 0.5746\n",
      "Function value obtained: -0.4262\n",
      "Current minimum: -0.4282\n",
      "Iteration No: 119 started. Searching for the next optimal point.\n",
      "[362.09430419652597, 'l1', 2, 4]\n"
     ]
    },
    {
     "name": "stderr",
     "output_type": "stream",
     "text": [
      "/usr/local/lib/python3.7/site-packages/sklearn/linear_model/logistic.py:432: FutureWarning: Default solver will be changed to 'lbfgs' in 0.22. Specify a solver to silence this warning.\n",
      "  FutureWarning)\n",
      "/usr/local/lib/python3.7/site-packages/sklearn/utils/validation.py:724: DataConversionWarning: A column-vector y was passed when a 1d array was expected. Please change the shape of y to (n_samples, ), for example using ravel().\n",
      "  y = column_or_1d(y, warn=True)\n",
      "/usr/local/lib/python3.7/site-packages/sklearn/linear_model/logistic.py:1544: UserWarning: 'n_jobs' > 1 does not have any effect when 'solver' is set to 'liblinear'. Got 'n_jobs' = 6.\n",
      "  \" = {}.\".format(effective_n_jobs(self.n_jobs)))\n"
     ]
    },
    {
     "name": "stdout",
     "output_type": "stream",
     "text": [
      "AVG precision: 0.42452677681969375 - ROC AUC: 0.6772727272727272\n",
      "Iteration No: 119 ended. Search finished for the next optimal point.\n",
      "Time taken: 0.5644\n",
      "Function value obtained: -0.4245\n",
      "Current minimum: -0.4282\n",
      "Iteration No: 120 started. Searching for the next optimal point.\n",
      "[363.4674089596233, 'l1', 2, 4]\n"
     ]
    },
    {
     "name": "stderr",
     "output_type": "stream",
     "text": [
      "/usr/local/lib/python3.7/site-packages/sklearn/linear_model/logistic.py:432: FutureWarning: Default solver will be changed to 'lbfgs' in 0.22. Specify a solver to silence this warning.\n",
      "  FutureWarning)\n",
      "/usr/local/lib/python3.7/site-packages/sklearn/utils/validation.py:724: DataConversionWarning: A column-vector y was passed when a 1d array was expected. Please change the shape of y to (n_samples, ), for example using ravel().\n",
      "  y = column_or_1d(y, warn=True)\n",
      "/usr/local/lib/python3.7/site-packages/sklearn/linear_model/logistic.py:1544: UserWarning: 'n_jobs' > 1 does not have any effect when 'solver' is set to 'liblinear'. Got 'n_jobs' = 6.\n",
      "  \" = {}.\".format(effective_n_jobs(self.n_jobs)))\n"
     ]
    },
    {
     "name": "stdout",
     "output_type": "stream",
     "text": [
      "AVG precision: 0.4258647935789588 - ROC AUC: 0.6778833107191315\n",
      "Iteration No: 120 ended. Search finished for the next optimal point.\n",
      "Time taken: 0.5600\n",
      "Function value obtained: -0.4259\n",
      "Current minimum: -0.4282\n",
      "Iteration No: 121 started. Searching for the next optimal point.\n",
      "[216.45110273281924, 'l1', 2, 2]\n",
      "AVG precision: 0.40615036083058387 - ROC AUC: 0.6578018995929444\n"
     ]
    },
    {
     "name": "stderr",
     "output_type": "stream",
     "text": [
      "/usr/local/lib/python3.7/site-packages/sklearn/linear_model/logistic.py:432: FutureWarning: Default solver will be changed to 'lbfgs' in 0.22. Specify a solver to silence this warning.\n",
      "  FutureWarning)\n",
      "/usr/local/lib/python3.7/site-packages/sklearn/utils/validation.py:724: DataConversionWarning: A column-vector y was passed when a 1d array was expected. Please change the shape of y to (n_samples, ), for example using ravel().\n",
      "  y = column_or_1d(y, warn=True)\n",
      "/usr/local/lib/python3.7/site-packages/sklearn/linear_model/logistic.py:1544: UserWarning: 'n_jobs' > 1 does not have any effect when 'solver' is set to 'liblinear'. Got 'n_jobs' = 6.\n",
      "  \" = {}.\".format(effective_n_jobs(self.n_jobs)))\n"
     ]
    },
    {
     "name": "stdout",
     "output_type": "stream",
     "text": [
      "Iteration No: 121 ended. Search finished for the next optimal point.\n",
      "Time taken: 0.4749\n",
      "Function value obtained: -0.4062\n",
      "Current minimum: -0.4282\n",
      "Iteration No: 122 started. Searching for the next optimal point.\n",
      "[362.99057697295217, 'l1', 2, 4]\n"
     ]
    },
    {
     "name": "stderr",
     "output_type": "stream",
     "text": [
      "/usr/local/lib/python3.7/site-packages/sklearn/linear_model/logistic.py:432: FutureWarning: Default solver will be changed to 'lbfgs' in 0.22. Specify a solver to silence this warning.\n",
      "  FutureWarning)\n",
      "/usr/local/lib/python3.7/site-packages/sklearn/utils/validation.py:724: DataConversionWarning: A column-vector y was passed when a 1d array was expected. Please change the shape of y to (n_samples, ), for example using ravel().\n",
      "  y = column_or_1d(y, warn=True)\n",
      "/usr/local/lib/python3.7/site-packages/sklearn/linear_model/logistic.py:1544: UserWarning: 'n_jobs' > 1 does not have any effect when 'solver' is set to 'liblinear'. Got 'n_jobs' = 6.\n",
      "  \" = {}.\".format(effective_n_jobs(self.n_jobs)))\n"
     ]
    },
    {
     "name": "stdout",
     "output_type": "stream",
     "text": [
      "AVG precision: 0.4254569533752093 - ROC AUC: 0.6776797829036635\n",
      "Iteration No: 122 ended. Search finished for the next optimal point.\n",
      "Time taken: 0.6374\n",
      "Function value obtained: -0.4255\n",
      "Current minimum: -0.4282\n",
      "Iteration No: 123 started. Searching for the next optimal point.\n",
      "[363.0359069410993, 'l1', 2, 4]\n"
     ]
    },
    {
     "name": "stderr",
     "output_type": "stream",
     "text": [
      "/usr/local/lib/python3.7/site-packages/sklearn/linear_model/logistic.py:432: FutureWarning: Default solver will be changed to 'lbfgs' in 0.22. Specify a solver to silence this warning.\n",
      "  FutureWarning)\n",
      "/usr/local/lib/python3.7/site-packages/sklearn/utils/validation.py:724: DataConversionWarning: A column-vector y was passed when a 1d array was expected. Please change the shape of y to (n_samples, ), for example using ravel().\n",
      "  y = column_or_1d(y, warn=True)\n",
      "/usr/local/lib/python3.7/site-packages/sklearn/linear_model/logistic.py:1544: UserWarning: 'n_jobs' > 1 does not have any effect when 'solver' is set to 'liblinear'. Got 'n_jobs' = 6.\n",
      "  \" = {}.\".format(effective_n_jobs(self.n_jobs)))\n"
     ]
    },
    {
     "name": "stdout",
     "output_type": "stream",
     "text": [
      "AVG precision: 0.42549918806788767 - ROC AUC: 0.6777476255088195\n",
      "Iteration No: 123 ended. Search finished for the next optimal point.\n",
      "Time taken: 0.5789\n",
      "Function value obtained: -0.4255\n",
      "Current minimum: -0.4282\n",
      "Iteration No: 124 started. Searching for the next optimal point.\n",
      "[412.4730877215318, 'l2', 2, 2]\n",
      "AVG precision: 0.41158899980400776 - ROC AUC: 0.6664857530529171\n"
     ]
    },
    {
     "name": "stderr",
     "output_type": "stream",
     "text": [
      "/usr/local/lib/python3.7/site-packages/sklearn/linear_model/logistic.py:432: FutureWarning: Default solver will be changed to 'lbfgs' in 0.22. Specify a solver to silence this warning.\n",
      "  FutureWarning)\n",
      "/usr/local/lib/python3.7/site-packages/sklearn/utils/validation.py:724: DataConversionWarning: A column-vector y was passed when a 1d array was expected. Please change the shape of y to (n_samples, ), for example using ravel().\n",
      "  y = column_or_1d(y, warn=True)\n",
      "/usr/local/lib/python3.7/site-packages/sklearn/linear_model/logistic.py:1544: UserWarning: 'n_jobs' > 1 does not have any effect when 'solver' is set to 'liblinear'. Got 'n_jobs' = 6.\n",
      "  \" = {}.\".format(effective_n_jobs(self.n_jobs)))\n"
     ]
    },
    {
     "name": "stdout",
     "output_type": "stream",
     "text": [
      "Iteration No: 124 ended. Search finished for the next optimal point.\n",
      "Time taken: 0.4204\n",
      "Function value obtained: -0.4116\n",
      "Current minimum: -0.4282\n",
      "Iteration No: 125 started. Searching for the next optimal point.\n",
      "[341.8277517729932, 'l1', 2, 3]\n",
      "AVG precision: 0.4165610425496355 - ROC AUC: 0.6805970149253732\n"
     ]
    },
    {
     "name": "stderr",
     "output_type": "stream",
     "text": [
      "/usr/local/lib/python3.7/site-packages/sklearn/linear_model/logistic.py:432: FutureWarning: Default solver will be changed to 'lbfgs' in 0.22. Specify a solver to silence this warning.\n",
      "  FutureWarning)\n",
      "/usr/local/lib/python3.7/site-packages/sklearn/utils/validation.py:724: DataConversionWarning: A column-vector y was passed when a 1d array was expected. Please change the shape of y to (n_samples, ), for example using ravel().\n",
      "  y = column_or_1d(y, warn=True)\n",
      "/usr/local/lib/python3.7/site-packages/sklearn/linear_model/logistic.py:1544: UserWarning: 'n_jobs' > 1 does not have any effect when 'solver' is set to 'liblinear'. Got 'n_jobs' = 6.\n",
      "  \" = {}.\".format(effective_n_jobs(self.n_jobs)))\n"
     ]
    },
    {
     "name": "stdout",
     "output_type": "stream",
     "text": [
      "Iteration No: 125 ended. Search finished for the next optimal point.\n",
      "Time taken: 0.5212\n",
      "Function value obtained: -0.4166\n",
      "Current minimum: -0.4282\n",
      "Iteration No: 126 started. Searching for the next optimal point.\n",
      "[362.70860338080234, 'l1', 2, 4]\n"
     ]
    },
    {
     "name": "stderr",
     "output_type": "stream",
     "text": [
      "/usr/local/lib/python3.7/site-packages/sklearn/linear_model/logistic.py:432: FutureWarning: Default solver will be changed to 'lbfgs' in 0.22. Specify a solver to silence this warning.\n",
      "  FutureWarning)\n",
      "/usr/local/lib/python3.7/site-packages/sklearn/utils/validation.py:724: DataConversionWarning: A column-vector y was passed when a 1d array was expected. Please change the shape of y to (n_samples, ), for example using ravel().\n",
      "  y = column_or_1d(y, warn=True)\n",
      "/usr/local/lib/python3.7/site-packages/sklearn/linear_model/logistic.py:1544: UserWarning: 'n_jobs' > 1 does not have any effect when 'solver' is set to 'liblinear'. Got 'n_jobs' = 6.\n",
      "  \" = {}.\".format(effective_n_jobs(self.n_jobs)))\n"
     ]
    },
    {
     "name": "stdout",
     "output_type": "stream",
     "text": [
      "AVG precision: 0.42433257086622495 - ROC AUC: 0.6770691994572592\n",
      "Iteration No: 126 ended. Search finished for the next optimal point.\n",
      "Time taken: 0.5683\n",
      "Function value obtained: -0.4243\n",
      "Current minimum: -0.4282\n",
      "Iteration No: 127 started. Searching for the next optimal point.\n",
      "[714.1221227874464, 'l1', 2, 2]\n",
      "AVG precision: 0.40544019400215425 - ROC AUC: 0.6533921302578019\n"
     ]
    },
    {
     "name": "stderr",
     "output_type": "stream",
     "text": [
      "/usr/local/lib/python3.7/site-packages/sklearn/linear_model/logistic.py:432: FutureWarning: Default solver will be changed to 'lbfgs' in 0.22. Specify a solver to silence this warning.\n",
      "  FutureWarning)\n",
      "/usr/local/lib/python3.7/site-packages/sklearn/utils/validation.py:724: DataConversionWarning: A column-vector y was passed when a 1d array was expected. Please change the shape of y to (n_samples, ), for example using ravel().\n",
      "  y = column_or_1d(y, warn=True)\n",
      "/usr/local/lib/python3.7/site-packages/sklearn/linear_model/logistic.py:1544: UserWarning: 'n_jobs' > 1 does not have any effect when 'solver' is set to 'liblinear'. Got 'n_jobs' = 6.\n",
      "  \" = {}.\".format(effective_n_jobs(self.n_jobs)))\n"
     ]
    },
    {
     "name": "stdout",
     "output_type": "stream",
     "text": [
      "Iteration No: 127 ended. Search finished for the next optimal point.\n",
      "Time taken: 0.5062\n",
      "Function value obtained: -0.4054\n",
      "Current minimum: -0.4282\n",
      "Iteration No: 128 started. Searching for the next optimal point.\n",
      "[354.9684362651911, 'l1', 2, 4]\n"
     ]
    },
    {
     "name": "stderr",
     "output_type": "stream",
     "text": [
      "/usr/local/lib/python3.7/site-packages/sklearn/linear_model/logistic.py:432: FutureWarning: Default solver will be changed to 'lbfgs' in 0.22. Specify a solver to silence this warning.\n",
      "  FutureWarning)\n",
      "/usr/local/lib/python3.7/site-packages/sklearn/utils/validation.py:724: DataConversionWarning: A column-vector y was passed when a 1d array was expected. Please change the shape of y to (n_samples, ), for example using ravel().\n",
      "  y = column_or_1d(y, warn=True)\n",
      "/usr/local/lib/python3.7/site-packages/sklearn/linear_model/logistic.py:1544: UserWarning: 'n_jobs' > 1 does not have any effect when 'solver' is set to 'liblinear'. Got 'n_jobs' = 6.\n",
      "  \" = {}.\".format(effective_n_jobs(self.n_jobs)))\n"
     ]
    },
    {
     "name": "stdout",
     "output_type": "stream",
     "text": [
      "AVG precision: 0.4249187367919427 - ROC AUC: 0.6763229308005427\n",
      "Iteration No: 128 ended. Search finished for the next optimal point.\n",
      "Time taken: 0.5651\n",
      "Function value obtained: -0.4249\n",
      "Current minimum: -0.4282\n",
      "Iteration No: 129 started. Searching for the next optimal point.\n",
      "[357.5112218174034, 'l1', 2, 4]\n"
     ]
    },
    {
     "name": "stderr",
     "output_type": "stream",
     "text": [
      "/usr/local/lib/python3.7/site-packages/sklearn/linear_model/logistic.py:432: FutureWarning: Default solver will be changed to 'lbfgs' in 0.22. Specify a solver to silence this warning.\n",
      "  FutureWarning)\n",
      "/usr/local/lib/python3.7/site-packages/sklearn/utils/validation.py:724: DataConversionWarning: A column-vector y was passed when a 1d array was expected. Please change the shape of y to (n_samples, ), for example using ravel().\n",
      "  y = column_or_1d(y, warn=True)\n",
      "/usr/local/lib/python3.7/site-packages/sklearn/linear_model/logistic.py:1544: UserWarning: 'n_jobs' > 1 does not have any effect when 'solver' is set to 'liblinear'. Got 'n_jobs' = 6.\n",
      "  \" = {}.\".format(effective_n_jobs(self.n_jobs)))\n"
     ]
    },
    {
     "name": "stdout",
     "output_type": "stream",
     "text": [
      "AVG precision: 0.42574119445443503 - ROC AUC: 0.6772048846675712\n",
      "Iteration No: 129 ended. Search finished for the next optimal point.\n",
      "Time taken: 0.5560\n",
      "Function value obtained: -0.4257\n",
      "Current minimum: -0.4282\n",
      "Iteration No: 130 started. Searching for the next optimal point.\n",
      "[359.77093896727376, 'l1', 2, 4]\n"
     ]
    },
    {
     "name": "stderr",
     "output_type": "stream",
     "text": [
      "/usr/local/lib/python3.7/site-packages/sklearn/linear_model/logistic.py:432: FutureWarning: Default solver will be changed to 'lbfgs' in 0.22. Specify a solver to silence this warning.\n",
      "  FutureWarning)\n",
      "/usr/local/lib/python3.7/site-packages/sklearn/utils/validation.py:724: DataConversionWarning: A column-vector y was passed when a 1d array was expected. Please change the shape of y to (n_samples, ), for example using ravel().\n",
      "  y = column_or_1d(y, warn=True)\n",
      "/usr/local/lib/python3.7/site-packages/sklearn/linear_model/logistic.py:1544: UserWarning: 'n_jobs' > 1 does not have any effect when 'solver' is set to 'liblinear'. Got 'n_jobs' = 6.\n",
      "  \" = {}.\".format(effective_n_jobs(self.n_jobs)))\n"
     ]
    },
    {
     "name": "stdout",
     "output_type": "stream",
     "text": [
      "AVG precision: 0.4254783851612037 - ROC AUC: 0.676797829036635\n",
      "Iteration No: 130 ended. Search finished for the next optimal point.\n",
      "Time taken: 0.5645\n",
      "Function value obtained: -0.4255\n",
      "Current minimum: -0.4282\n",
      "Iteration No: 131 started. Searching for the next optimal point.\n",
      "[358.95547240112995, 'l1', 2, 4]\n"
     ]
    },
    {
     "name": "stderr",
     "output_type": "stream",
     "text": [
      "/usr/local/lib/python3.7/site-packages/sklearn/linear_model/logistic.py:432: FutureWarning: Default solver will be changed to 'lbfgs' in 0.22. Specify a solver to silence this warning.\n",
      "  FutureWarning)\n",
      "/usr/local/lib/python3.7/site-packages/sklearn/utils/validation.py:724: DataConversionWarning: A column-vector y was passed when a 1d array was expected. Please change the shape of y to (n_samples, ), for example using ravel().\n",
      "  y = column_or_1d(y, warn=True)\n",
      "/usr/local/lib/python3.7/site-packages/sklearn/linear_model/logistic.py:1544: UserWarning: 'n_jobs' > 1 does not have any effect when 'solver' is set to 'liblinear'. Got 'n_jobs' = 6.\n",
      "  \" = {}.\".format(effective_n_jobs(self.n_jobs)))\n"
     ]
    },
    {
     "name": "stdout",
     "output_type": "stream",
     "text": [
      "AVG precision: 0.42429029083241776 - ROC AUC: 0.6776797829036634\n",
      "Iteration No: 131 ended. Search finished for the next optimal point.\n",
      "Time taken: 0.5637\n",
      "Function value obtained: -0.4243\n",
      "Current minimum: -0.4282\n",
      "Iteration No: 132 started. Searching for the next optimal point.\n",
      "[359.9518842388907, 'l1', 2, 4]\n"
     ]
    },
    {
     "name": "stderr",
     "output_type": "stream",
     "text": [
      "/usr/local/lib/python3.7/site-packages/sklearn/linear_model/logistic.py:432: FutureWarning: Default solver will be changed to 'lbfgs' in 0.22. Specify a solver to silence this warning.\n",
      "  FutureWarning)\n",
      "/usr/local/lib/python3.7/site-packages/sklearn/utils/validation.py:724: DataConversionWarning: A column-vector y was passed when a 1d array was expected. Please change the shape of y to (n_samples, ), for example using ravel().\n",
      "  y = column_or_1d(y, warn=True)\n",
      "/usr/local/lib/python3.7/site-packages/sklearn/linear_model/logistic.py:1544: UserWarning: 'n_jobs' > 1 does not have any effect when 'solver' is set to 'liblinear'. Got 'n_jobs' = 6.\n",
      "  \" = {}.\".format(effective_n_jobs(self.n_jobs)))\n"
     ]
    },
    {
     "name": "stdout",
     "output_type": "stream",
     "text": [
      "AVG precision: 0.4249858948735749 - ROC AUC: 0.6774084124830393\n",
      "Iteration No: 132 ended. Search finished for the next optimal point.\n",
      "Time taken: 0.5641\n",
      "Function value obtained: -0.4250\n",
      "Current minimum: -0.4282\n",
      "Iteration No: 133 started. Searching for the next optimal point.\n",
      "[364.353079120924, 'l1', 2, 4]\n"
     ]
    },
    {
     "name": "stderr",
     "output_type": "stream",
     "text": [
      "/usr/local/lib/python3.7/site-packages/sklearn/linear_model/logistic.py:432: FutureWarning: Default solver will be changed to 'lbfgs' in 0.22. Specify a solver to silence this warning.\n",
      "  FutureWarning)\n",
      "/usr/local/lib/python3.7/site-packages/sklearn/utils/validation.py:724: DataConversionWarning: A column-vector y was passed when a 1d array was expected. Please change the shape of y to (n_samples, ), for example using ravel().\n",
      "  y = column_or_1d(y, warn=True)\n",
      "/usr/local/lib/python3.7/site-packages/sklearn/linear_model/logistic.py:1544: UserWarning: 'n_jobs' > 1 does not have any effect when 'solver' is set to 'liblinear'. Got 'n_jobs' = 6.\n",
      "  \" = {}.\".format(effective_n_jobs(self.n_jobs)))\n"
     ]
    },
    {
     "name": "stdout",
     "output_type": "stream",
     "text": [
      "AVG precision: 0.4257134987377668 - ROC AUC: 0.6776119402985075\n",
      "Iteration No: 133 ended. Search finished for the next optimal point.\n",
      "Time taken: 0.5649\n",
      "Function value obtained: -0.4257\n",
      "Current minimum: -0.4282\n",
      "Iteration No: 134 started. Searching for the next optimal point.\n",
      "[241.56764437131508, 'l2', 2, 2]\n",
      "AVG precision: 0.40719685497730795 - ROC AUC: 0.6689280868385347\n"
     ]
    },
    {
     "name": "stderr",
     "output_type": "stream",
     "text": [
      "/usr/local/lib/python3.7/site-packages/sklearn/linear_model/logistic.py:432: FutureWarning: Default solver will be changed to 'lbfgs' in 0.22. Specify a solver to silence this warning.\n",
      "  FutureWarning)\n",
      "/usr/local/lib/python3.7/site-packages/sklearn/utils/validation.py:724: DataConversionWarning: A column-vector y was passed when a 1d array was expected. Please change the shape of y to (n_samples, ), for example using ravel().\n",
      "  y = column_or_1d(y, warn=True)\n",
      "/usr/local/lib/python3.7/site-packages/sklearn/linear_model/logistic.py:1544: UserWarning: 'n_jobs' > 1 does not have any effect when 'solver' is set to 'liblinear'. Got 'n_jobs' = 6.\n",
      "  \" = {}.\".format(effective_n_jobs(self.n_jobs)))\n"
     ]
    },
    {
     "name": "stdout",
     "output_type": "stream",
     "text": [
      "Iteration No: 134 ended. Search finished for the next optimal point.\n",
      "Time taken: 0.4361\n",
      "Function value obtained: -0.4072\n",
      "Current minimum: -0.4282\n",
      "Iteration No: 135 started. Searching for the next optimal point.\n",
      "[687.6619866701639, 'l2', 2, 2]\n",
      "AVG precision: 0.40982364932971027 - ROC AUC: 0.6651967435549526\n"
     ]
    },
    {
     "name": "stderr",
     "output_type": "stream",
     "text": [
      "/usr/local/lib/python3.7/site-packages/sklearn/linear_model/logistic.py:432: FutureWarning: Default solver will be changed to 'lbfgs' in 0.22. Specify a solver to silence this warning.\n",
      "  FutureWarning)\n",
      "/usr/local/lib/python3.7/site-packages/sklearn/utils/validation.py:724: DataConversionWarning: A column-vector y was passed when a 1d array was expected. Please change the shape of y to (n_samples, ), for example using ravel().\n",
      "  y = column_or_1d(y, warn=True)\n",
      "/usr/local/lib/python3.7/site-packages/sklearn/linear_model/logistic.py:1544: UserWarning: 'n_jobs' > 1 does not have any effect when 'solver' is set to 'liblinear'. Got 'n_jobs' = 6.\n",
      "  \" = {}.\".format(effective_n_jobs(self.n_jobs)))\n"
     ]
    },
    {
     "name": "stdout",
     "output_type": "stream",
     "text": [
      "Iteration No: 135 ended. Search finished for the next optimal point.\n",
      "Time taken: 0.5109\n",
      "Function value obtained: -0.4098\n",
      "Current minimum: -0.4282\n",
      "Iteration No: 136 started. Searching for the next optimal point.\n",
      "[86.00285295092053, 'l2', 2, 1]\n",
      "AVG precision: 0.37240401503404885 - ROC AUC: 0.6630257801899594\n"
     ]
    },
    {
     "name": "stderr",
     "output_type": "stream",
     "text": [
      "/usr/local/lib/python3.7/site-packages/sklearn/linear_model/logistic.py:432: FutureWarning: Default solver will be changed to 'lbfgs' in 0.22. Specify a solver to silence this warning.\n",
      "  FutureWarning)\n",
      "/usr/local/lib/python3.7/site-packages/sklearn/utils/validation.py:724: DataConversionWarning: A column-vector y was passed when a 1d array was expected. Please change the shape of y to (n_samples, ), for example using ravel().\n",
      "  y = column_or_1d(y, warn=True)\n",
      "/usr/local/lib/python3.7/site-packages/sklearn/linear_model/logistic.py:1544: UserWarning: 'n_jobs' > 1 does not have any effect when 'solver' is set to 'liblinear'. Got 'n_jobs' = 6.\n",
      "  \" = {}.\".format(effective_n_jobs(self.n_jobs)))\n"
     ]
    },
    {
     "name": "stdout",
     "output_type": "stream",
     "text": [
      "Iteration No: 136 ended. Search finished for the next optimal point.\n",
      "Time taken: 0.3874\n",
      "Function value obtained: -0.3724\n",
      "Current minimum: -0.4282\n",
      "Iteration No: 137 started. Searching for the next optimal point.\n",
      "[449.2855550432716, 'l2', 2, 1]\n",
      "AVG precision: 0.36030951874223915 - ROC AUC: 0.6421302578018996\n"
     ]
    },
    {
     "name": "stderr",
     "output_type": "stream",
     "text": [
      "/usr/local/lib/python3.7/site-packages/sklearn/linear_model/logistic.py:432: FutureWarning: Default solver will be changed to 'lbfgs' in 0.22. Specify a solver to silence this warning.\n",
      "  FutureWarning)\n",
      "/usr/local/lib/python3.7/site-packages/sklearn/utils/validation.py:724: DataConversionWarning: A column-vector y was passed when a 1d array was expected. Please change the shape of y to (n_samples, ), for example using ravel().\n",
      "  y = column_or_1d(y, warn=True)\n",
      "/usr/local/lib/python3.7/site-packages/sklearn/linear_model/logistic.py:1544: UserWarning: 'n_jobs' > 1 does not have any effect when 'solver' is set to 'liblinear'. Got 'n_jobs' = 6.\n",
      "  \" = {}.\".format(effective_n_jobs(self.n_jobs)))\n"
     ]
    },
    {
     "name": "stdout",
     "output_type": "stream",
     "text": [
      "Iteration No: 137 ended. Search finished for the next optimal point.\n",
      "Time taken: 0.4005\n",
      "Function value obtained: -0.3603\n",
      "Current minimum: -0.4282\n",
      "Iteration No: 138 started. Searching for the next optimal point.\n",
      "[359.42644138465414, 'l1', 2, 4]\n"
     ]
    },
    {
     "name": "stderr",
     "output_type": "stream",
     "text": [
      "/usr/local/lib/python3.7/site-packages/sklearn/linear_model/logistic.py:432: FutureWarning: Default solver will be changed to 'lbfgs' in 0.22. Specify a solver to silence this warning.\n",
      "  FutureWarning)\n",
      "/usr/local/lib/python3.7/site-packages/sklearn/utils/validation.py:724: DataConversionWarning: A column-vector y was passed when a 1d array was expected. Please change the shape of y to (n_samples, ), for example using ravel().\n",
      "  y = column_or_1d(y, warn=True)\n",
      "/usr/local/lib/python3.7/site-packages/sklearn/linear_model/logistic.py:1544: UserWarning: 'n_jobs' > 1 does not have any effect when 'solver' is set to 'liblinear'. Got 'n_jobs' = 6.\n",
      "  \" = {}.\".format(effective_n_jobs(self.n_jobs)))\n"
     ]
    },
    {
     "name": "stdout",
     "output_type": "stream",
     "text": [
      "AVG precision: 0.42444500546149533 - ROC AUC: 0.676662143826323\n",
      "Iteration No: 138 ended. Search finished for the next optimal point.\n",
      "Time taken: 0.5544\n",
      "Function value obtained: -0.4244\n",
      "Current minimum: -0.4282\n",
      "Iteration No: 139 started. Searching for the next optimal point.\n",
      "[364.73995002190736, 'l1', 2, 4]\n"
     ]
    },
    {
     "name": "stderr",
     "output_type": "stream",
     "text": [
      "/usr/local/lib/python3.7/site-packages/sklearn/linear_model/logistic.py:432: FutureWarning: Default solver will be changed to 'lbfgs' in 0.22. Specify a solver to silence this warning.\n",
      "  FutureWarning)\n",
      "/usr/local/lib/python3.7/site-packages/sklearn/utils/validation.py:724: DataConversionWarning: A column-vector y was passed when a 1d array was expected. Please change the shape of y to (n_samples, ), for example using ravel().\n",
      "  y = column_or_1d(y, warn=True)\n",
      "/usr/local/lib/python3.7/site-packages/sklearn/linear_model/logistic.py:1544: UserWarning: 'n_jobs' > 1 does not have any effect when 'solver' is set to 'liblinear'. Got 'n_jobs' = 6.\n",
      "  \" = {}.\".format(effective_n_jobs(self.n_jobs)))\n"
     ]
    },
    {
     "name": "stdout",
     "output_type": "stream",
     "text": [
      "AVG precision: 0.4259515499738089 - ROC AUC: 0.6774762550881954\n",
      "Iteration No: 139 ended. Search finished for the next optimal point.\n",
      "Time taken: 0.5661\n",
      "Function value obtained: -0.4260\n",
      "Current minimum: -0.4282\n",
      "Iteration No: 140 started. Searching for the next optimal point.\n",
      "[378.2614920330722, 'l1', 2, 4]\n"
     ]
    },
    {
     "name": "stderr",
     "output_type": "stream",
     "text": [
      "/usr/local/lib/python3.7/site-packages/sklearn/linear_model/logistic.py:432: FutureWarning: Default solver will be changed to 'lbfgs' in 0.22. Specify a solver to silence this warning.\n",
      "  FutureWarning)\n",
      "/usr/local/lib/python3.7/site-packages/sklearn/utils/validation.py:724: DataConversionWarning: A column-vector y was passed when a 1d array was expected. Please change the shape of y to (n_samples, ), for example using ravel().\n",
      "  y = column_or_1d(y, warn=True)\n",
      "/usr/local/lib/python3.7/site-packages/sklearn/linear_model/logistic.py:1544: UserWarning: 'n_jobs' > 1 does not have any effect when 'solver' is set to 'liblinear'. Got 'n_jobs' = 6.\n",
      "  \" = {}.\".format(effective_n_jobs(self.n_jobs)))\n"
     ]
    },
    {
     "name": "stdout",
     "output_type": "stream",
     "text": [
      "AVG precision: 0.42734028423984327 - ROC AUC: 0.6784260515603799\n",
      "Iteration No: 140 ended. Search finished for the next optimal point.\n",
      "Time taken: 0.5738\n",
      "Function value obtained: -0.4273\n",
      "Current minimum: -0.4282\n",
      "Iteration No: 141 started. Searching for the next optimal point.\n",
      "[376.26011685784135, 'l1', 2, 4]\n"
     ]
    },
    {
     "name": "stderr",
     "output_type": "stream",
     "text": [
      "/usr/local/lib/python3.7/site-packages/sklearn/linear_model/logistic.py:432: FutureWarning: Default solver will be changed to 'lbfgs' in 0.22. Specify a solver to silence this warning.\n",
      "  FutureWarning)\n",
      "/usr/local/lib/python3.7/site-packages/sklearn/utils/validation.py:724: DataConversionWarning: A column-vector y was passed when a 1d array was expected. Please change the shape of y to (n_samples, ), for example using ravel().\n",
      "  y = column_or_1d(y, warn=True)\n",
      "/usr/local/lib/python3.7/site-packages/sklearn/linear_model/logistic.py:1544: UserWarning: 'n_jobs' > 1 does not have any effect when 'solver' is set to 'liblinear'. Got 'n_jobs' = 6.\n",
      "  \" = {}.\".format(effective_n_jobs(self.n_jobs)))\n"
     ]
    },
    {
     "name": "stdout",
     "output_type": "stream",
     "text": [
      "AVG precision: 0.42757665376596743 - ROC AUC: 0.678697421981004\n",
      "Iteration No: 141 ended. Search finished for the next optimal point.\n",
      "Time taken: 0.5659\n",
      "Function value obtained: -0.4276\n",
      "Current minimum: -0.4282\n",
      "Iteration No: 142 started. Searching for the next optimal point.\n",
      "[373.83973551201973, 'l1', 2, 4]\n",
      "AVG precision: 0.4267217546137798 - ROC AUC: 0.6779511533242877\n"
     ]
    },
    {
     "name": "stderr",
     "output_type": "stream",
     "text": [
      "/usr/local/lib/python3.7/site-packages/sklearn/linear_model/logistic.py:432: FutureWarning: Default solver will be changed to 'lbfgs' in 0.22. Specify a solver to silence this warning.\n",
      "  FutureWarning)\n",
      "/usr/local/lib/python3.7/site-packages/sklearn/utils/validation.py:724: DataConversionWarning: A column-vector y was passed when a 1d array was expected. Please change the shape of y to (n_samples, ), for example using ravel().\n",
      "  y = column_or_1d(y, warn=True)\n",
      "/usr/local/lib/python3.7/site-packages/sklearn/linear_model/logistic.py:1544: UserWarning: 'n_jobs' > 1 does not have any effect when 'solver' is set to 'liblinear'. Got 'n_jobs' = 6.\n",
      "  \" = {}.\".format(effective_n_jobs(self.n_jobs)))\n"
     ]
    },
    {
     "name": "stdout",
     "output_type": "stream",
     "text": [
      "Iteration No: 142 ended. Search finished for the next optimal point.\n",
      "Time taken: 0.5553\n",
      "Function value obtained: -0.4267\n",
      "Current minimum: -0.4282\n",
      "Iteration No: 143 started. Searching for the next optimal point.\n",
      "[383.69449398599363, 'l1', 2, 4]\n"
     ]
    },
    {
     "name": "stderr",
     "output_type": "stream",
     "text": [
      "/usr/local/lib/python3.7/site-packages/sklearn/linear_model/logistic.py:432: FutureWarning: Default solver will be changed to 'lbfgs' in 0.22. Specify a solver to silence this warning.\n",
      "  FutureWarning)\n",
      "/usr/local/lib/python3.7/site-packages/sklearn/utils/validation.py:724: DataConversionWarning: A column-vector y was passed when a 1d array was expected. Please change the shape of y to (n_samples, ), for example using ravel().\n",
      "  y = column_or_1d(y, warn=True)\n",
      "/usr/local/lib/python3.7/site-packages/sklearn/linear_model/logistic.py:1544: UserWarning: 'n_jobs' > 1 does not have any effect when 'solver' is set to 'liblinear'. Got 'n_jobs' = 6.\n",
      "  \" = {}.\".format(effective_n_jobs(self.n_jobs)))\n"
     ]
    },
    {
     "name": "stdout",
     "output_type": "stream",
     "text": [
      "AVG precision: 0.42761882268161155 - ROC AUC: 0.6787652645861602\n",
      "Iteration No: 143 ended. Search finished for the next optimal point.\n",
      "Time taken: 0.6211\n",
      "Function value obtained: -0.4276\n",
      "Current minimum: -0.4282\n",
      "Iteration No: 144 started. Searching for the next optimal point.\n",
      "[379.43262716557155, 'l1', 2, 4]\n"
     ]
    },
    {
     "name": "stderr",
     "output_type": "stream",
     "text": [
      "/usr/local/lib/python3.7/site-packages/sklearn/linear_model/logistic.py:432: FutureWarning: Default solver will be changed to 'lbfgs' in 0.22. Specify a solver to silence this warning.\n",
      "  FutureWarning)\n",
      "/usr/local/lib/python3.7/site-packages/sklearn/utils/validation.py:724: DataConversionWarning: A column-vector y was passed when a 1d array was expected. Please change the shape of y to (n_samples, ), for example using ravel().\n",
      "  y = column_or_1d(y, warn=True)\n",
      "/usr/local/lib/python3.7/site-packages/sklearn/linear_model/logistic.py:1544: UserWarning: 'n_jobs' > 1 does not have any effect when 'solver' is set to 'liblinear'. Got 'n_jobs' = 6.\n",
      "  \" = {}.\".format(effective_n_jobs(self.n_jobs)))\n"
     ]
    },
    {
     "name": "stdout",
     "output_type": "stream",
     "text": [
      "AVG precision: 0.4267887059635633 - ROC AUC: 0.6774762550881954\n",
      "Iteration No: 144 ended. Search finished for the next optimal point.\n",
      "Time taken: 0.5622\n",
      "Function value obtained: -0.4268\n",
      "Current minimum: -0.4282\n",
      "Iteration No: 145 started. Searching for the next optimal point.\n",
      "[364.12797568963254, 'l1', 2, 4]\n"
     ]
    },
    {
     "name": "stderr",
     "output_type": "stream",
     "text": [
      "/usr/local/lib/python3.7/site-packages/sklearn/linear_model/logistic.py:432: FutureWarning: Default solver will be changed to 'lbfgs' in 0.22. Specify a solver to silence this warning.\n",
      "  FutureWarning)\n",
      "/usr/local/lib/python3.7/site-packages/sklearn/utils/validation.py:724: DataConversionWarning: A column-vector y was passed when a 1d array was expected. Please change the shape of y to (n_samples, ), for example using ravel().\n",
      "  y = column_or_1d(y, warn=True)\n",
      "/usr/local/lib/python3.7/site-packages/sklearn/linear_model/logistic.py:1544: UserWarning: 'n_jobs' > 1 does not have any effect when 'solver' is set to 'liblinear'. Got 'n_jobs' = 6.\n",
      "  \" = {}.\".format(effective_n_jobs(self.n_jobs)))\n"
     ]
    },
    {
     "name": "stdout",
     "output_type": "stream",
     "text": [
      "AVG precision: 0.42686339097374904 - ROC AUC: 0.6788331071913162\n",
      "Iteration No: 145 ended. Search finished for the next optimal point.\n",
      "Time taken: 0.5648\n",
      "Function value obtained: -0.4269\n",
      "Current minimum: -0.4282\n",
      "Iteration No: 146 started. Searching for the next optimal point.\n",
      "[377.6085735554384, 'l1', 2, 4]\n"
     ]
    },
    {
     "name": "stderr",
     "output_type": "stream",
     "text": [
      "/usr/local/lib/python3.7/site-packages/sklearn/linear_model/logistic.py:432: FutureWarning: Default solver will be changed to 'lbfgs' in 0.22. Specify a solver to silence this warning.\n",
      "  FutureWarning)\n",
      "/usr/local/lib/python3.7/site-packages/sklearn/utils/validation.py:724: DataConversionWarning: A column-vector y was passed when a 1d array was expected. Please change the shape of y to (n_samples, ), for example using ravel().\n",
      "  y = column_or_1d(y, warn=True)\n",
      "/usr/local/lib/python3.7/site-packages/sklearn/linear_model/logistic.py:1544: UserWarning: 'n_jobs' > 1 does not have any effect when 'solver' is set to 'liblinear'. Got 'n_jobs' = 6.\n",
      "  \" = {}.\".format(effective_n_jobs(self.n_jobs)))\n"
     ]
    },
    {
     "name": "stdout",
     "output_type": "stream",
     "text": [
      "AVG precision: 0.4273550606165809 - ROC AUC: 0.6778154681139755\n",
      "Iteration No: 146 ended. Search finished for the next optimal point.\n",
      "Time taken: 0.5669\n",
      "Function value obtained: -0.4274\n",
      "Current minimum: -0.4282\n",
      "Iteration No: 147 started. Searching for the next optimal point.\n",
      "[367.81467418299496, 'l1', 2, 4]\n",
      "AVG precision: 0.42596143905134465 - ROC AUC: 0.6776119402985075\n"
     ]
    },
    {
     "name": "stderr",
     "output_type": "stream",
     "text": [
      "/usr/local/lib/python3.7/site-packages/sklearn/linear_model/logistic.py:432: FutureWarning: Default solver will be changed to 'lbfgs' in 0.22. Specify a solver to silence this warning.\n",
      "  FutureWarning)\n",
      "/usr/local/lib/python3.7/site-packages/sklearn/utils/validation.py:724: DataConversionWarning: A column-vector y was passed when a 1d array was expected. Please change the shape of y to (n_samples, ), for example using ravel().\n",
      "  y = column_or_1d(y, warn=True)\n",
      "/usr/local/lib/python3.7/site-packages/sklearn/linear_model/logistic.py:1544: UserWarning: 'n_jobs' > 1 does not have any effect when 'solver' is set to 'liblinear'. Got 'n_jobs' = 6.\n",
      "  \" = {}.\".format(effective_n_jobs(self.n_jobs)))\n"
     ]
    },
    {
     "name": "stdout",
     "output_type": "stream",
     "text": [
      "Iteration No: 147 ended. Search finished for the next optimal point.\n",
      "Time taken: 0.5604\n",
      "Function value obtained: -0.4260\n",
      "Current minimum: -0.4282\n",
      "Iteration No: 148 started. Searching for the next optimal point.\n",
      "[383.9971519722403, 'l1', 2, 4]\n"
     ]
    },
    {
     "name": "stderr",
     "output_type": "stream",
     "text": [
      "/usr/local/lib/python3.7/site-packages/sklearn/linear_model/logistic.py:432: FutureWarning: Default solver will be changed to 'lbfgs' in 0.22. Specify a solver to silence this warning.\n",
      "  FutureWarning)\n",
      "/usr/local/lib/python3.7/site-packages/sklearn/utils/validation.py:724: DataConversionWarning: A column-vector y was passed when a 1d array was expected. Please change the shape of y to (n_samples, ), for example using ravel().\n",
      "  y = column_or_1d(y, warn=True)\n",
      "/usr/local/lib/python3.7/site-packages/sklearn/linear_model/logistic.py:1544: UserWarning: 'n_jobs' > 1 does not have any effect when 'solver' is set to 'liblinear'. Got 'n_jobs' = 6.\n",
      "  \" = {}.\".format(effective_n_jobs(self.n_jobs)))\n"
     ]
    },
    {
     "name": "stdout",
     "output_type": "stream",
     "text": [
      "AVG precision: 0.42497247896669854 - ROC AUC: 0.6777476255088195\n",
      "Iteration No: 148 ended. Search finished for the next optimal point.\n",
      "Time taken: 0.5664\n",
      "Function value obtained: -0.4250\n",
      "Current minimum: -0.4282\n",
      "Iteration No: 149 started. Searching for the next optimal point.\n",
      "[377.55197530325046, 'l1', 2, 4]\n"
     ]
    },
    {
     "name": "stderr",
     "output_type": "stream",
     "text": [
      "/usr/local/lib/python3.7/site-packages/sklearn/linear_model/logistic.py:432: FutureWarning: Default solver will be changed to 'lbfgs' in 0.22. Specify a solver to silence this warning.\n",
      "  FutureWarning)\n",
      "/usr/local/lib/python3.7/site-packages/sklearn/utils/validation.py:724: DataConversionWarning: A column-vector y was passed when a 1d array was expected. Please change the shape of y to (n_samples, ), for example using ravel().\n",
      "  y = column_or_1d(y, warn=True)\n",
      "/usr/local/lib/python3.7/site-packages/sklearn/linear_model/logistic.py:1544: UserWarning: 'n_jobs' > 1 does not have any effect when 'solver' is set to 'liblinear'. Got 'n_jobs' = 6.\n",
      "  \" = {}.\".format(effective_n_jobs(self.n_jobs)))\n"
     ]
    },
    {
     "name": "stdout",
     "output_type": "stream",
     "text": [
      "AVG precision: 0.4266473367225048 - ROC AUC: 0.6780868385345997\n",
      "Iteration No: 149 ended. Search finished for the next optimal point.\n",
      "Time taken: 0.5627\n",
      "Function value obtained: -0.4266\n",
      "Current minimum: -0.4282\n",
      "Iteration No: 150 started. Searching for the next optimal point.\n",
      "[968.258321244337, 'l2', 2, 3]\n",
      "AVG precision: 0.39716106281660435 - ROC AUC: 0.6675033921302579\n"
     ]
    },
    {
     "name": "stderr",
     "output_type": "stream",
     "text": [
      "/usr/local/lib/python3.7/site-packages/sklearn/linear_model/logistic.py:432: FutureWarning: Default solver will be changed to 'lbfgs' in 0.22. Specify a solver to silence this warning.\n",
      "  FutureWarning)\n",
      "/usr/local/lib/python3.7/site-packages/sklearn/utils/validation.py:724: DataConversionWarning: A column-vector y was passed when a 1d array was expected. Please change the shape of y to (n_samples, ), for example using ravel().\n",
      "  y = column_or_1d(y, warn=True)\n",
      "/usr/local/lib/python3.7/site-packages/sklearn/linear_model/logistic.py:1544: UserWarning: 'n_jobs' > 1 does not have any effect when 'solver' is set to 'liblinear'. Got 'n_jobs' = 6.\n",
      "  \" = {}.\".format(effective_n_jobs(self.n_jobs)))\n"
     ]
    },
    {
     "name": "stdout",
     "output_type": "stream",
     "text": [
      "Iteration No: 150 ended. Search finished for the next optimal point.\n",
      "Time taken: 0.4575\n",
      "Function value obtained: -0.3972\n",
      "Current minimum: -0.4282\n",
      "Iteration No: 151 started. Searching for the next optimal point.\n",
      "[368.04930200597266, 'l1', 2, 4]\n"
     ]
    },
    {
     "name": "stderr",
     "output_type": "stream",
     "text": [
      "/usr/local/lib/python3.7/site-packages/sklearn/linear_model/logistic.py:432: FutureWarning: Default solver will be changed to 'lbfgs' in 0.22. Specify a solver to silence this warning.\n",
      "  FutureWarning)\n",
      "/usr/local/lib/python3.7/site-packages/sklearn/utils/validation.py:724: DataConversionWarning: A column-vector y was passed when a 1d array was expected. Please change the shape of y to (n_samples, ), for example using ravel().\n",
      "  y = column_or_1d(y, warn=True)\n",
      "/usr/local/lib/python3.7/site-packages/sklearn/linear_model/logistic.py:1544: UserWarning: 'n_jobs' > 1 does not have any effect when 'solver' is set to 'liblinear'. Got 'n_jobs' = 6.\n",
      "  \" = {}.\".format(effective_n_jobs(self.n_jobs)))\n"
     ]
    },
    {
     "name": "stdout",
     "output_type": "stream",
     "text": [
      "AVG precision: 0.4243277698807436 - ROC AUC: 0.676797829036635\n",
      "Iteration No: 151 ended. Search finished for the next optimal point.\n",
      "Time taken: 0.5738\n",
      "Function value obtained: -0.4243\n",
      "Current minimum: -0.4282\n",
      "Iteration No: 152 started. Searching for the next optimal point.\n",
      "[363.2426894585822, 'l1', 2, 4]\n"
     ]
    },
    {
     "name": "stderr",
     "output_type": "stream",
     "text": [
      "/usr/local/lib/python3.7/site-packages/sklearn/linear_model/logistic.py:432: FutureWarning: Default solver will be changed to 'lbfgs' in 0.22. Specify a solver to silence this warning.\n",
      "  FutureWarning)\n",
      "/usr/local/lib/python3.7/site-packages/sklearn/utils/validation.py:724: DataConversionWarning: A column-vector y was passed when a 1d array was expected. Please change the shape of y to (n_samples, ), for example using ravel().\n",
      "  y = column_or_1d(y, warn=True)\n",
      "/usr/local/lib/python3.7/site-packages/sklearn/linear_model/logistic.py:1544: UserWarning: 'n_jobs' > 1 does not have any effect when 'solver' is set to 'liblinear'. Got 'n_jobs' = 6.\n",
      "  \" = {}.\".format(effective_n_jobs(self.n_jobs)))\n"
     ]
    },
    {
     "name": "stdout",
     "output_type": "stream",
     "text": [
      "AVG precision: 0.42528315101789005 - ROC AUC: 0.6764586160108548\n",
      "Iteration No: 152 ended. Search finished for the next optimal point.\n",
      "Time taken: 0.5587\n",
      "Function value obtained: -0.4253\n",
      "Current minimum: -0.4282\n",
      "Iteration No: 153 started. Searching for the next optimal point.\n",
      "[387.06885781297456, 'l1', 1, 4]\n"
     ]
    },
    {
     "name": "stderr",
     "output_type": "stream",
     "text": [
      "/usr/local/lib/python3.7/site-packages/sklearn/linear_model/logistic.py:432: FutureWarning: Default solver will be changed to 'lbfgs' in 0.22. Specify a solver to silence this warning.\n",
      "  FutureWarning)\n",
      "/usr/local/lib/python3.7/site-packages/sklearn/utils/validation.py:724: DataConversionWarning: A column-vector y was passed when a 1d array was expected. Please change the shape of y to (n_samples, ), for example using ravel().\n",
      "  y = column_or_1d(y, warn=True)\n",
      "/usr/local/lib/python3.7/site-packages/sklearn/linear_model/logistic.py:1544: UserWarning: 'n_jobs' > 1 does not have any effect when 'solver' is set to 'liblinear'. Got 'n_jobs' = 6.\n",
      "  \" = {}.\".format(effective_n_jobs(self.n_jobs)))\n"
     ]
    },
    {
     "name": "stdout",
     "output_type": "stream",
     "text": [
      "AVG precision: 0.3676604900168776 - ROC AUC: 0.6575305291723201\n",
      "Iteration No: 153 ended. Search finished for the next optimal point.\n",
      "Time taken: 0.6483\n",
      "Function value obtained: -0.3677\n",
      "Current minimum: -0.4282\n",
      "Iteration No: 154 started. Searching for the next optimal point.\n",
      "[234.5943868660557, 'l1', 2, 3]\n",
      "AVG precision: 0.40292402153322815 - ROC AUC: 0.6807327001356853\n"
     ]
    },
    {
     "name": "stderr",
     "output_type": "stream",
     "text": [
      "/usr/local/lib/python3.7/site-packages/sklearn/linear_model/logistic.py:432: FutureWarning: Default solver will be changed to 'lbfgs' in 0.22. Specify a solver to silence this warning.\n",
      "  FutureWarning)\n",
      "/usr/local/lib/python3.7/site-packages/sklearn/utils/validation.py:724: DataConversionWarning: A column-vector y was passed when a 1d array was expected. Please change the shape of y to (n_samples, ), for example using ravel().\n",
      "  y = column_or_1d(y, warn=True)\n",
      "/usr/local/lib/python3.7/site-packages/sklearn/linear_model/logistic.py:1544: UserWarning: 'n_jobs' > 1 does not have any effect when 'solver' is set to 'liblinear'. Got 'n_jobs' = 6.\n",
      "  \" = {}.\".format(effective_n_jobs(self.n_jobs)))\n"
     ]
    },
    {
     "name": "stdout",
     "output_type": "stream",
     "text": [
      "Iteration No: 154 ended. Search finished for the next optimal point.\n",
      "Time taken: 0.5153\n",
      "Function value obtained: -0.4029\n",
      "Current minimum: -0.4282\n",
      "Iteration No: 155 started. Searching for the next optimal point.\n",
      "[911.2491196603642, 'l2', 2, 2]\n",
      "AVG precision: 0.41099821771645906 - ROC AUC: 0.6645861601085482\n"
     ]
    },
    {
     "name": "stderr",
     "output_type": "stream",
     "text": [
      "/usr/local/lib/python3.7/site-packages/sklearn/linear_model/logistic.py:432: FutureWarning: Default solver will be changed to 'lbfgs' in 0.22. Specify a solver to silence this warning.\n",
      "  FutureWarning)\n",
      "/usr/local/lib/python3.7/site-packages/sklearn/utils/validation.py:724: DataConversionWarning: A column-vector y was passed when a 1d array was expected. Please change the shape of y to (n_samples, ), for example using ravel().\n",
      "  y = column_or_1d(y, warn=True)\n",
      "/usr/local/lib/python3.7/site-packages/sklearn/linear_model/logistic.py:1544: UserWarning: 'n_jobs' > 1 does not have any effect when 'solver' is set to 'liblinear'. Got 'n_jobs' = 6.\n",
      "  \" = {}.\".format(effective_n_jobs(self.n_jobs)))\n"
     ]
    },
    {
     "name": "stdout",
     "output_type": "stream",
     "text": [
      "Iteration No: 155 ended. Search finished for the next optimal point.\n",
      "Time taken: 0.4262\n",
      "Function value obtained: -0.4110\n",
      "Current minimum: -0.4282\n",
      "Iteration No: 156 started. Searching for the next optimal point.\n",
      "[16.098598716210624, 'l1', 2, 3]\n"
     ]
    },
    {
     "name": "stderr",
     "output_type": "stream",
     "text": [
      "/usr/local/lib/python3.7/site-packages/sklearn/linear_model/logistic.py:432: FutureWarning: Default solver will be changed to 'lbfgs' in 0.22. Specify a solver to silence this warning.\n",
      "  FutureWarning)\n",
      "/usr/local/lib/python3.7/site-packages/sklearn/utils/validation.py:724: DataConversionWarning: A column-vector y was passed when a 1d array was expected. Please change the shape of y to (n_samples, ), for example using ravel().\n",
      "  y = column_or_1d(y, warn=True)\n",
      "/usr/local/lib/python3.7/site-packages/sklearn/linear_model/logistic.py:1544: UserWarning: 'n_jobs' > 1 does not have any effect when 'solver' is set to 'liblinear'. Got 'n_jobs' = 6.\n",
      "  \" = {}.\".format(effective_n_jobs(self.n_jobs)))\n",
      "/usr/local/lib/python3.7/site-packages/sklearn/svm/base.py:929: ConvergenceWarning: Liblinear failed to converge, increase the number of iterations.\n",
      "  \"the number of iterations.\", ConvergenceWarning)\n"
     ]
    },
    {
     "name": "stdout",
     "output_type": "stream",
     "text": [
      "AVG precision: 0.4148612472692105 - ROC AUC: 0.6852781546811397\n",
      "Iteration No: 156 ended. Search finished for the next optimal point.\n",
      "Time taken: 4.4710\n",
      "Function value obtained: -0.4149\n",
      "Current minimum: -0.4282\n",
      "Iteration No: 157 started. Searching for the next optimal point.\n",
      "[882.9711013846344, 'l2', 2, 2]\n",
      "AVG precision: 0.41007639543495544 - ROC AUC: 0.6648575305291723\n"
     ]
    },
    {
     "name": "stderr",
     "output_type": "stream",
     "text": [
      "/usr/local/lib/python3.7/site-packages/sklearn/linear_model/logistic.py:432: FutureWarning: Default solver will be changed to 'lbfgs' in 0.22. Specify a solver to silence this warning.\n",
      "  FutureWarning)\n",
      "/usr/local/lib/python3.7/site-packages/sklearn/utils/validation.py:724: DataConversionWarning: A column-vector y was passed when a 1d array was expected. Please change the shape of y to (n_samples, ), for example using ravel().\n",
      "  y = column_or_1d(y, warn=True)\n",
      "/usr/local/lib/python3.7/site-packages/sklearn/linear_model/logistic.py:1544: UserWarning: 'n_jobs' > 1 does not have any effect when 'solver' is set to 'liblinear'. Got 'n_jobs' = 6.\n",
      "  \" = {}.\".format(effective_n_jobs(self.n_jobs)))\n"
     ]
    },
    {
     "name": "stdout",
     "output_type": "stream",
     "text": [
      "Iteration No: 157 ended. Search finished for the next optimal point.\n",
      "Time taken: 0.4273\n",
      "Function value obtained: -0.4101\n",
      "Current minimum: -0.4282\n",
      "Iteration No: 158 started. Searching for the next optimal point.\n",
      "[362.84127923360523, 'l1', 2, 4]\n"
     ]
    },
    {
     "name": "stderr",
     "output_type": "stream",
     "text": [
      "/usr/local/lib/python3.7/site-packages/sklearn/linear_model/logistic.py:432: FutureWarning: Default solver will be changed to 'lbfgs' in 0.22. Specify a solver to silence this warning.\n",
      "  FutureWarning)\n",
      "/usr/local/lib/python3.7/site-packages/sklearn/utils/validation.py:724: DataConversionWarning: A column-vector y was passed when a 1d array was expected. Please change the shape of y to (n_samples, ), for example using ravel().\n",
      "  y = column_or_1d(y, warn=True)\n",
      "/usr/local/lib/python3.7/site-packages/sklearn/linear_model/logistic.py:1544: UserWarning: 'n_jobs' > 1 does not have any effect when 'solver' is set to 'liblinear'. Got 'n_jobs' = 6.\n",
      "  \" = {}.\".format(effective_n_jobs(self.n_jobs)))\n"
     ]
    },
    {
     "name": "stdout",
     "output_type": "stream",
     "text": [
      "AVG precision: 0.4259497883913549 - ROC AUC: 0.6773405698778833\n",
      "Iteration No: 158 ended. Search finished for the next optimal point.\n",
      "Time taken: 0.5737\n",
      "Function value obtained: -0.4259\n",
      "Current minimum: -0.4282\n",
      "Iteration No: 159 started. Searching for the next optimal point.\n",
      "[191.1619022708558, 'l1', 2, 3]\n",
      "AVG precision: 0.40349360944155 - ROC AUC: 0.6795793758480325\n"
     ]
    },
    {
     "name": "stderr",
     "output_type": "stream",
     "text": [
      "/usr/local/lib/python3.7/site-packages/sklearn/linear_model/logistic.py:432: FutureWarning: Default solver will be changed to 'lbfgs' in 0.22. Specify a solver to silence this warning.\n",
      "  FutureWarning)\n",
      "/usr/local/lib/python3.7/site-packages/sklearn/utils/validation.py:724: DataConversionWarning: A column-vector y was passed when a 1d array was expected. Please change the shape of y to (n_samples, ), for example using ravel().\n",
      "  y = column_or_1d(y, warn=True)\n",
      "/usr/local/lib/python3.7/site-packages/sklearn/linear_model/logistic.py:1544: UserWarning: 'n_jobs' > 1 does not have any effect when 'solver' is set to 'liblinear'. Got 'n_jobs' = 6.\n",
      "  \" = {}.\".format(effective_n_jobs(self.n_jobs)))\n"
     ]
    },
    {
     "name": "stdout",
     "output_type": "stream",
     "text": [
      "Iteration No: 159 ended. Search finished for the next optimal point.\n",
      "Time taken: 0.5107\n",
      "Function value obtained: -0.4035\n",
      "Current minimum: -0.4282\n",
      "Iteration No: 160 started. Searching for the next optimal point.\n",
      "[362.85678126809984, 'l1', 2, 4]\n"
     ]
    },
    {
     "name": "stderr",
     "output_type": "stream",
     "text": [
      "/usr/local/lib/python3.7/site-packages/sklearn/linear_model/logistic.py:432: FutureWarning: Default solver will be changed to 'lbfgs' in 0.22. Specify a solver to silence this warning.\n",
      "  FutureWarning)\n",
      "/usr/local/lib/python3.7/site-packages/sklearn/utils/validation.py:724: DataConversionWarning: A column-vector y was passed when a 1d array was expected. Please change the shape of y to (n_samples, ), for example using ravel().\n",
      "  y = column_or_1d(y, warn=True)\n",
      "/usr/local/lib/python3.7/site-packages/sklearn/linear_model/logistic.py:1544: UserWarning: 'n_jobs' > 1 does not have any effect when 'solver' is set to 'liblinear'. Got 'n_jobs' = 6.\n",
      "  \" = {}.\".format(effective_n_jobs(self.n_jobs)))\n"
     ]
    },
    {
     "name": "stdout",
     "output_type": "stream",
     "text": [
      "AVG precision: 0.4271943216021539 - ROC AUC: 0.6781546811397557\n",
      "Iteration No: 160 ended. Search finished for the next optimal point.\n",
      "Time taken: 0.5794\n",
      "Function value obtained: -0.4272\n",
      "Current minimum: -0.4282\n",
      "Iteration No: 161 started. Searching for the next optimal point.\n",
      "[909.6164091614231, 'l2', 1, 2]\n",
      "AVG precision: 0.3732851549103736 - ROC AUC: 0.6736770691994572\n"
     ]
    },
    {
     "name": "stderr",
     "output_type": "stream",
     "text": [
      "/usr/local/lib/python3.7/site-packages/sklearn/linear_model/logistic.py:432: FutureWarning: Default solver will be changed to 'lbfgs' in 0.22. Specify a solver to silence this warning.\n",
      "  FutureWarning)\n",
      "/usr/local/lib/python3.7/site-packages/sklearn/utils/validation.py:724: DataConversionWarning: A column-vector y was passed when a 1d array was expected. Please change the shape of y to (n_samples, ), for example using ravel().\n",
      "  y = column_or_1d(y, warn=True)\n",
      "/usr/local/lib/python3.7/site-packages/sklearn/linear_model/logistic.py:1544: UserWarning: 'n_jobs' > 1 does not have any effect when 'solver' is set to 'liblinear'. Got 'n_jobs' = 6.\n",
      "  \" = {}.\".format(effective_n_jobs(self.n_jobs)))\n"
     ]
    },
    {
     "name": "stdout",
     "output_type": "stream",
     "text": [
      "Iteration No: 161 ended. Search finished for the next optimal point.\n",
      "Time taken: 0.4475\n",
      "Function value obtained: -0.3733\n",
      "Current minimum: -0.4282\n",
      "Iteration No: 162 started. Searching for the next optimal point.\n",
      "[910.2985276225311, 'l2', 2, 3]\n",
      "AVG precision: 0.3987094614890696 - ROC AUC: 0.6680461329715061\n"
     ]
    },
    {
     "name": "stderr",
     "output_type": "stream",
     "text": [
      "/usr/local/lib/python3.7/site-packages/sklearn/linear_model/logistic.py:432: FutureWarning: Default solver will be changed to 'lbfgs' in 0.22. Specify a solver to silence this warning.\n",
      "  FutureWarning)\n",
      "/usr/local/lib/python3.7/site-packages/sklearn/utils/validation.py:724: DataConversionWarning: A column-vector y was passed when a 1d array was expected. Please change the shape of y to (n_samples, ), for example using ravel().\n",
      "  y = column_or_1d(y, warn=True)\n",
      "/usr/local/lib/python3.7/site-packages/sklearn/linear_model/logistic.py:1544: UserWarning: 'n_jobs' > 1 does not have any effect when 'solver' is set to 'liblinear'. Got 'n_jobs' = 6.\n",
      "  \" = {}.\".format(effective_n_jobs(self.n_jobs)))\n"
     ]
    },
    {
     "name": "stdout",
     "output_type": "stream",
     "text": [
      "Iteration No: 162 ended. Search finished for the next optimal point.\n",
      "Time taken: 0.5359\n",
      "Function value obtained: -0.3987\n",
      "Current minimum: -0.4282\n",
      "Iteration No: 163 started. Searching for the next optimal point.\n",
      "[903.2826465688931, 'l2', 2, 3]\n",
      "AVG precision: 0.3982320411259177 - ROC AUC: 0.667842605156038\n"
     ]
    },
    {
     "name": "stderr",
     "output_type": "stream",
     "text": [
      "/usr/local/lib/python3.7/site-packages/sklearn/linear_model/logistic.py:432: FutureWarning: Default solver will be changed to 'lbfgs' in 0.22. Specify a solver to silence this warning.\n",
      "  FutureWarning)\n",
      "/usr/local/lib/python3.7/site-packages/sklearn/utils/validation.py:724: DataConversionWarning: A column-vector y was passed when a 1d array was expected. Please change the shape of y to (n_samples, ), for example using ravel().\n",
      "  y = column_or_1d(y, warn=True)\n",
      "/usr/local/lib/python3.7/site-packages/sklearn/linear_model/logistic.py:1544: UserWarning: 'n_jobs' > 1 does not have any effect when 'solver' is set to 'liblinear'. Got 'n_jobs' = 6.\n",
      "  \" = {}.\".format(effective_n_jobs(self.n_jobs)))\n"
     ]
    },
    {
     "name": "stdout",
     "output_type": "stream",
     "text": [
      "Iteration No: 163 ended. Search finished for the next optimal point.\n",
      "Time taken: 0.4633\n",
      "Function value obtained: -0.3982\n",
      "Current minimum: -0.4282\n",
      "Iteration No: 164 started. Searching for the next optimal point.\n",
      "[14.379574282554728, 'l2', 2, 2]\n",
      "AVG precision: 0.41837172102010856 - ROC AUC: 0.6991180461329715\n"
     ]
    },
    {
     "name": "stderr",
     "output_type": "stream",
     "text": [
      "/usr/local/lib/python3.7/site-packages/sklearn/linear_model/logistic.py:432: FutureWarning: Default solver will be changed to 'lbfgs' in 0.22. Specify a solver to silence this warning.\n",
      "  FutureWarning)\n",
      "/usr/local/lib/python3.7/site-packages/sklearn/utils/validation.py:724: DataConversionWarning: A column-vector y was passed when a 1d array was expected. Please change the shape of y to (n_samples, ), for example using ravel().\n",
      "  y = column_or_1d(y, warn=True)\n",
      "/usr/local/lib/python3.7/site-packages/sklearn/linear_model/logistic.py:1544: UserWarning: 'n_jobs' > 1 does not have any effect when 'solver' is set to 'liblinear'. Got 'n_jobs' = 6.\n",
      "  \" = {}.\".format(effective_n_jobs(self.n_jobs)))\n"
     ]
    },
    {
     "name": "stdout",
     "output_type": "stream",
     "text": [
      "Iteration No: 164 ended. Search finished for the next optimal point.\n",
      "Time taken: 0.4196\n",
      "Function value obtained: -0.4184\n",
      "Current minimum: -0.4282\n",
      "Iteration No: 165 started. Searching for the next optimal point.\n",
      "[967.2367454555094, 'l2', 2, 2]\n",
      "AVG precision: 0.41109688076872003 - ROC AUC: 0.664111261872456\n"
     ]
    },
    {
     "name": "stderr",
     "output_type": "stream",
     "text": [
      "/usr/local/lib/python3.7/site-packages/sklearn/linear_model/logistic.py:432: FutureWarning: Default solver will be changed to 'lbfgs' in 0.22. Specify a solver to silence this warning.\n",
      "  FutureWarning)\n",
      "/usr/local/lib/python3.7/site-packages/sklearn/utils/validation.py:724: DataConversionWarning: A column-vector y was passed when a 1d array was expected. Please change the shape of y to (n_samples, ), for example using ravel().\n",
      "  y = column_or_1d(y, warn=True)\n",
      "/usr/local/lib/python3.7/site-packages/sklearn/linear_model/logistic.py:1544: UserWarning: 'n_jobs' > 1 does not have any effect when 'solver' is set to 'liblinear'. Got 'n_jobs' = 6.\n",
      "  \" = {}.\".format(effective_n_jobs(self.n_jobs)))\n"
     ]
    },
    {
     "name": "stdout",
     "output_type": "stream",
     "text": [
      "Iteration No: 165 ended. Search finished for the next optimal point.\n",
      "Time taken: 0.4290\n",
      "Function value obtained: -0.4111\n",
      "Current minimum: -0.4282\n",
      "Iteration No: 166 started. Searching for the next optimal point.\n",
      "[362.9616440452508, 'l1', 2, 4]\n"
     ]
    },
    {
     "name": "stderr",
     "output_type": "stream",
     "text": [
      "/usr/local/lib/python3.7/site-packages/sklearn/linear_model/logistic.py:432: FutureWarning: Default solver will be changed to 'lbfgs' in 0.22. Specify a solver to silence this warning.\n",
      "  FutureWarning)\n",
      "/usr/local/lib/python3.7/site-packages/sklearn/utils/validation.py:724: DataConversionWarning: A column-vector y was passed when a 1d array was expected. Please change the shape of y to (n_samples, ), for example using ravel().\n",
      "  y = column_or_1d(y, warn=True)\n",
      "/usr/local/lib/python3.7/site-packages/sklearn/linear_model/logistic.py:1544: UserWarning: 'n_jobs' > 1 does not have any effect when 'solver' is set to 'liblinear'. Got 'n_jobs' = 6.\n",
      "  \" = {}.\".format(effective_n_jobs(self.n_jobs)))\n"
     ]
    },
    {
     "name": "stdout",
     "output_type": "stream",
     "text": [
      "AVG precision: 0.42701647691457967 - ROC AUC: 0.6783582089552239\n",
      "Iteration No: 166 ended. Search finished for the next optimal point.\n",
      "Time taken: 0.5778\n",
      "Function value obtained: -0.4270\n",
      "Current minimum: -0.4282\n",
      "Iteration No: 167 started. Searching for the next optimal point.\n",
      "[140.88196591026468, 'l2', 2, 2]\n",
      "AVG precision: 0.4092679487586203 - ROC AUC: 0.6727272727272726\n"
     ]
    },
    {
     "name": "stderr",
     "output_type": "stream",
     "text": [
      "/usr/local/lib/python3.7/site-packages/sklearn/linear_model/logistic.py:432: FutureWarning: Default solver will be changed to 'lbfgs' in 0.22. Specify a solver to silence this warning.\n",
      "  FutureWarning)\n",
      "/usr/local/lib/python3.7/site-packages/sklearn/utils/validation.py:724: DataConversionWarning: A column-vector y was passed when a 1d array was expected. Please change the shape of y to (n_samples, ), for example using ravel().\n",
      "  y = column_or_1d(y, warn=True)\n",
      "/usr/local/lib/python3.7/site-packages/sklearn/linear_model/logistic.py:1544: UserWarning: 'n_jobs' > 1 does not have any effect when 'solver' is set to 'liblinear'. Got 'n_jobs' = 6.\n",
      "  \" = {}.\".format(effective_n_jobs(self.n_jobs)))\n"
     ]
    },
    {
     "name": "stdout",
     "output_type": "stream",
     "text": [
      "Iteration No: 167 ended. Search finished for the next optimal point.\n",
      "Time taken: 0.4235\n",
      "Function value obtained: -0.4093\n",
      "Current minimum: -0.4282\n",
      "Iteration No: 168 started. Searching for the next optimal point.\n",
      "[383.85360123572394, 'l2', 3, 2]\n",
      "AVG precision: 0.37986585984452736 - ROC AUC: 0.6350746268656716\n"
     ]
    },
    {
     "name": "stderr",
     "output_type": "stream",
     "text": [
      "/usr/local/lib/python3.7/site-packages/sklearn/linear_model/logistic.py:432: FutureWarning: Default solver will be changed to 'lbfgs' in 0.22. Specify a solver to silence this warning.\n",
      "  FutureWarning)\n",
      "/usr/local/lib/python3.7/site-packages/sklearn/utils/validation.py:724: DataConversionWarning: A column-vector y was passed when a 1d array was expected. Please change the shape of y to (n_samples, ), for example using ravel().\n",
      "  y = column_or_1d(y, warn=True)\n",
      "/usr/local/lib/python3.7/site-packages/sklearn/linear_model/logistic.py:1544: UserWarning: 'n_jobs' > 1 does not have any effect when 'solver' is set to 'liblinear'. Got 'n_jobs' = 6.\n",
      "  \" = {}.\".format(effective_n_jobs(self.n_jobs)))\n"
     ]
    },
    {
     "name": "stdout",
     "output_type": "stream",
     "text": [
      "Iteration No: 168 ended. Search finished for the next optimal point.\n",
      "Time taken: 0.4299\n",
      "Function value obtained: -0.3799\n",
      "Current minimum: -0.4282\n",
      "Iteration No: 169 started. Searching for the next optimal point.\n",
      "[874.9233511865863, 'l2', 3, 2]\n",
      "AVG precision: 0.377605495708333 - ROC AUC: 0.6367028493894166\n"
     ]
    },
    {
     "name": "stderr",
     "output_type": "stream",
     "text": [
      "/usr/local/lib/python3.7/site-packages/sklearn/linear_model/logistic.py:432: FutureWarning: Default solver will be changed to 'lbfgs' in 0.22. Specify a solver to silence this warning.\n",
      "  FutureWarning)\n",
      "/usr/local/lib/python3.7/site-packages/sklearn/utils/validation.py:724: DataConversionWarning: A column-vector y was passed when a 1d array was expected. Please change the shape of y to (n_samples, ), for example using ravel().\n",
      "  y = column_or_1d(y, warn=True)\n",
      "/usr/local/lib/python3.7/site-packages/sklearn/linear_model/logistic.py:1544: UserWarning: 'n_jobs' > 1 does not have any effect when 'solver' is set to 'liblinear'. Got 'n_jobs' = 6.\n",
      "  \" = {}.\".format(effective_n_jobs(self.n_jobs)))\n"
     ]
    },
    {
     "name": "stdout",
     "output_type": "stream",
     "text": [
      "Iteration No: 169 ended. Search finished for the next optimal point.\n",
      "Time taken: 0.4401\n",
      "Function value obtained: -0.3776\n",
      "Current minimum: -0.4282\n",
      "Iteration No: 170 started. Searching for the next optimal point.\n",
      "[679.909300814389, 'l1', 3, 3]\n"
     ]
    },
    {
     "name": "stderr",
     "output_type": "stream",
     "text": [
      "/usr/local/lib/python3.7/site-packages/sklearn/linear_model/logistic.py:432: FutureWarning: Default solver will be changed to 'lbfgs' in 0.22. Specify a solver to silence this warning.\n",
      "  FutureWarning)\n",
      "/usr/local/lib/python3.7/site-packages/sklearn/utils/validation.py:724: DataConversionWarning: A column-vector y was passed when a 1d array was expected. Please change the shape of y to (n_samples, ), for example using ravel().\n",
      "  y = column_or_1d(y, warn=True)\n",
      "/usr/local/lib/python3.7/site-packages/sklearn/linear_model/logistic.py:1544: UserWarning: 'n_jobs' > 1 does not have any effect when 'solver' is set to 'liblinear'. Got 'n_jobs' = 6.\n",
      "  \" = {}.\".format(effective_n_jobs(self.n_jobs)))\n"
     ]
    },
    {
     "name": "stdout",
     "output_type": "stream",
     "text": [
      "AVG precision: 0.32786997572403564 - ROC AUC: 0.594640434192673\n",
      "Iteration No: 170 ended. Search finished for the next optimal point.\n",
      "Time taken: 0.6056\n",
      "Function value obtained: -0.3279\n",
      "Current minimum: -0.4282\n",
      "Iteration No: 171 started. Searching for the next optimal point.\n",
      "[674.1310079199927, 'l1', 2, 3]\n",
      "AVG precision: 0.4183467784143529 - ROC AUC: 0.6820217096336498\n"
     ]
    },
    {
     "name": "stderr",
     "output_type": "stream",
     "text": [
      "/usr/local/lib/python3.7/site-packages/sklearn/linear_model/logistic.py:432: FutureWarning: Default solver will be changed to 'lbfgs' in 0.22. Specify a solver to silence this warning.\n",
      "  FutureWarning)\n",
      "/usr/local/lib/python3.7/site-packages/sklearn/utils/validation.py:724: DataConversionWarning: A column-vector y was passed when a 1d array was expected. Please change the shape of y to (n_samples, ), for example using ravel().\n",
      "  y = column_or_1d(y, warn=True)\n",
      "/usr/local/lib/python3.7/site-packages/sklearn/linear_model/logistic.py:1544: UserWarning: 'n_jobs' > 1 does not have any effect when 'solver' is set to 'liblinear'. Got 'n_jobs' = 6.\n",
      "  \" = {}.\".format(effective_n_jobs(self.n_jobs)))\n"
     ]
    },
    {
     "name": "stdout",
     "output_type": "stream",
     "text": [
      "Iteration No: 171 ended. Search finished for the next optimal point.\n",
      "Time taken: 0.5507\n",
      "Function value obtained: -0.4183\n",
      "Current minimum: -0.4282\n",
      "Iteration No: 172 started. Searching for the next optimal point.\n",
      "[675.6760309946341, 'l1', 2, 3]\n",
      "AVG precision: 0.4182275079232194 - ROC AUC: 0.6814789687924017\n"
     ]
    },
    {
     "name": "stderr",
     "output_type": "stream",
     "text": [
      "/usr/local/lib/python3.7/site-packages/sklearn/linear_model/logistic.py:432: FutureWarning: Default solver will be changed to 'lbfgs' in 0.22. Specify a solver to silence this warning.\n",
      "  FutureWarning)\n",
      "/usr/local/lib/python3.7/site-packages/sklearn/utils/validation.py:724: DataConversionWarning: A column-vector y was passed when a 1d array was expected. Please change the shape of y to (n_samples, ), for example using ravel().\n",
      "  y = column_or_1d(y, warn=True)\n",
      "/usr/local/lib/python3.7/site-packages/sklearn/linear_model/logistic.py:1544: UserWarning: 'n_jobs' > 1 does not have any effect when 'solver' is set to 'liblinear'. Got 'n_jobs' = 6.\n",
      "  \" = {}.\".format(effective_n_jobs(self.n_jobs)))\n"
     ]
    },
    {
     "name": "stdout",
     "output_type": "stream",
     "text": [
      "Iteration No: 172 ended. Search finished for the next optimal point.\n",
      "Time taken: 0.5520\n",
      "Function value obtained: -0.4182\n",
      "Current minimum: -0.4282\n",
      "Iteration No: 173 started. Searching for the next optimal point.\n",
      "[684.515268657319, 'l1', 2, 3]\n"
     ]
    },
    {
     "name": "stderr",
     "output_type": "stream",
     "text": [
      "/usr/local/lib/python3.7/site-packages/sklearn/linear_model/logistic.py:432: FutureWarning: Default solver will be changed to 'lbfgs' in 0.22. Specify a solver to silence this warning.\n",
      "  FutureWarning)\n",
      "/usr/local/lib/python3.7/site-packages/sklearn/utils/validation.py:724: DataConversionWarning: A column-vector y was passed when a 1d array was expected. Please change the shape of y to (n_samples, ), for example using ravel().\n",
      "  y = column_or_1d(y, warn=True)\n",
      "/usr/local/lib/python3.7/site-packages/sklearn/linear_model/logistic.py:1544: UserWarning: 'n_jobs' > 1 does not have any effect when 'solver' is set to 'liblinear'. Got 'n_jobs' = 6.\n",
      "  \" = {}.\".format(effective_n_jobs(self.n_jobs)))\n"
     ]
    },
    {
     "name": "stdout",
     "output_type": "stream",
     "text": [
      "AVG precision: 0.41849425575798543 - ROC AUC: 0.6815468113975577\n",
      "Iteration No: 173 ended. Search finished for the next optimal point.\n",
      "Time taken: 0.5674\n",
      "Function value obtained: -0.4185\n",
      "Current minimum: -0.4282\n",
      "Iteration No: 174 started. Searching for the next optimal point.\n",
      "[679.8638835759024, 'l1', 2, 3]\n",
      "AVG precision: 0.4188007199690943 - ROC AUC: 0.682225237449118\n"
     ]
    },
    {
     "name": "stderr",
     "output_type": "stream",
     "text": [
      "/usr/local/lib/python3.7/site-packages/sklearn/linear_model/logistic.py:432: FutureWarning: Default solver will be changed to 'lbfgs' in 0.22. Specify a solver to silence this warning.\n",
      "  FutureWarning)\n",
      "/usr/local/lib/python3.7/site-packages/sklearn/utils/validation.py:724: DataConversionWarning: A column-vector y was passed when a 1d array was expected. Please change the shape of y to (n_samples, ), for example using ravel().\n",
      "  y = column_or_1d(y, warn=True)\n",
      "/usr/local/lib/python3.7/site-packages/sklearn/linear_model/logistic.py:1544: UserWarning: 'n_jobs' > 1 does not have any effect when 'solver' is set to 'liblinear'. Got 'n_jobs' = 6.\n",
      "  \" = {}.\".format(effective_n_jobs(self.n_jobs)))\n"
     ]
    },
    {
     "name": "stdout",
     "output_type": "stream",
     "text": [
      "Iteration No: 174 ended. Search finished for the next optimal point.\n",
      "Time taken: 0.5505\n",
      "Function value obtained: -0.4188\n",
      "Current minimum: -0.4282\n",
      "Iteration No: 175 started. Searching for the next optimal point.\n",
      "[690.8817368481165, 'l1', 2, 3]\n",
      "AVG precision: 0.41644184132936657 - ROC AUC: 0.682089552238806\n"
     ]
    },
    {
     "name": "stderr",
     "output_type": "stream",
     "text": [
      "/usr/local/lib/python3.7/site-packages/sklearn/linear_model/logistic.py:432: FutureWarning: Default solver will be changed to 'lbfgs' in 0.22. Specify a solver to silence this warning.\n",
      "  FutureWarning)\n",
      "/usr/local/lib/python3.7/site-packages/sklearn/utils/validation.py:724: DataConversionWarning: A column-vector y was passed when a 1d array was expected. Please change the shape of y to (n_samples, ), for example using ravel().\n",
      "  y = column_or_1d(y, warn=True)\n",
      "/usr/local/lib/python3.7/site-packages/sklearn/linear_model/logistic.py:1544: UserWarning: 'n_jobs' > 1 does not have any effect when 'solver' is set to 'liblinear'. Got 'n_jobs' = 6.\n",
      "  \" = {}.\".format(effective_n_jobs(self.n_jobs)))\n"
     ]
    },
    {
     "name": "stdout",
     "output_type": "stream",
     "text": [
      "Iteration No: 175 ended. Search finished for the next optimal point.\n",
      "Time taken: 0.6323\n",
      "Function value obtained: -0.4164\n",
      "Current minimum: -0.4282\n",
      "Iteration No: 176 started. Searching for the next optimal point.\n",
      "[998.1313040585235, 'l1', 2, 5]\n"
     ]
    },
    {
     "name": "stderr",
     "output_type": "stream",
     "text": [
      "/usr/local/lib/python3.7/site-packages/sklearn/linear_model/logistic.py:432: FutureWarning: Default solver will be changed to 'lbfgs' in 0.22. Specify a solver to silence this warning.\n",
      "  FutureWarning)\n",
      "/usr/local/lib/python3.7/site-packages/sklearn/utils/validation.py:724: DataConversionWarning: A column-vector y was passed when a 1d array was expected. Please change the shape of y to (n_samples, ), for example using ravel().\n",
      "  y = column_or_1d(y, warn=True)\n",
      "/usr/local/lib/python3.7/site-packages/sklearn/linear_model/logistic.py:1544: UserWarning: 'n_jobs' > 1 does not have any effect when 'solver' is set to 'liblinear'. Got 'n_jobs' = 6.\n",
      "  \" = {}.\".format(effective_n_jobs(self.n_jobs)))\n"
     ]
    },
    {
     "name": "stdout",
     "output_type": "stream",
     "text": [
      "AVG precision: 0.4040476833729958 - ROC AUC: 0.6744911804613297\n",
      "Iteration No: 176 ended. Search finished for the next optimal point.\n",
      "Time taken: 0.6317\n",
      "Function value obtained: -0.4040\n",
      "Current minimum: -0.4282\n",
      "Iteration No: 177 started. Searching for the next optimal point.\n",
      "[685.2419407940106, 'l1', 2, 3]\n",
      "AVG precision: 0.41640686210832967 - ROC AUC: 0.6814111261872456\n"
     ]
    },
    {
     "name": "stderr",
     "output_type": "stream",
     "text": [
      "/usr/local/lib/python3.7/site-packages/sklearn/linear_model/logistic.py:432: FutureWarning: Default solver will be changed to 'lbfgs' in 0.22. Specify a solver to silence this warning.\n",
      "  FutureWarning)\n",
      "/usr/local/lib/python3.7/site-packages/sklearn/utils/validation.py:724: DataConversionWarning: A column-vector y was passed when a 1d array was expected. Please change the shape of y to (n_samples, ), for example using ravel().\n",
      "  y = column_or_1d(y, warn=True)\n",
      "/usr/local/lib/python3.7/site-packages/sklearn/linear_model/logistic.py:1544: UserWarning: 'n_jobs' > 1 does not have any effect when 'solver' is set to 'liblinear'. Got 'n_jobs' = 6.\n",
      "  \" = {}.\".format(effective_n_jobs(self.n_jobs)))\n"
     ]
    },
    {
     "name": "stdout",
     "output_type": "stream",
     "text": [
      "Iteration No: 177 ended. Search finished for the next optimal point.\n",
      "Time taken: 0.5507\n",
      "Function value obtained: -0.4164\n",
      "Current minimum: -0.4282\n",
      "Iteration No: 178 started. Searching for the next optimal point.\n",
      "[679.4672977596687, 'l1', 2, 3]\n",
      "AVG precision: 0.41848573212507567 - ROC AUC: 0.6814789687924017\n"
     ]
    },
    {
     "name": "stderr",
     "output_type": "stream",
     "text": [
      "/usr/local/lib/python3.7/site-packages/sklearn/linear_model/logistic.py:432: FutureWarning: Default solver will be changed to 'lbfgs' in 0.22. Specify a solver to silence this warning.\n",
      "  FutureWarning)\n",
      "/usr/local/lib/python3.7/site-packages/sklearn/utils/validation.py:724: DataConversionWarning: A column-vector y was passed when a 1d array was expected. Please change the shape of y to (n_samples, ), for example using ravel().\n",
      "  y = column_or_1d(y, warn=True)\n",
      "/usr/local/lib/python3.7/site-packages/sklearn/linear_model/logistic.py:1544: UserWarning: 'n_jobs' > 1 does not have any effect when 'solver' is set to 'liblinear'. Got 'n_jobs' = 6.\n",
      "  \" = {}.\".format(effective_n_jobs(self.n_jobs)))\n"
     ]
    },
    {
     "name": "stdout",
     "output_type": "stream",
     "text": [
      "Iteration No: 178 ended. Search finished for the next optimal point.\n",
      "Time taken: 0.5737\n",
      "Function value obtained: -0.4185\n",
      "Current minimum: -0.4282\n",
      "Iteration No: 179 started. Searching for the next optimal point.\n",
      "[679.6678314239248, 'l1', 2, 3]\n",
      "AVG precision: 0.41862011384078507 - ROC AUC: 0.6817503392130257\n"
     ]
    },
    {
     "name": "stderr",
     "output_type": "stream",
     "text": [
      "/usr/local/lib/python3.7/site-packages/sklearn/linear_model/logistic.py:432: FutureWarning: Default solver will be changed to 'lbfgs' in 0.22. Specify a solver to silence this warning.\n",
      "  FutureWarning)\n",
      "/usr/local/lib/python3.7/site-packages/sklearn/utils/validation.py:724: DataConversionWarning: A column-vector y was passed when a 1d array was expected. Please change the shape of y to (n_samples, ), for example using ravel().\n",
      "  y = column_or_1d(y, warn=True)\n",
      "/usr/local/lib/python3.7/site-packages/sklearn/linear_model/logistic.py:1544: UserWarning: 'n_jobs' > 1 does not have any effect when 'solver' is set to 'liblinear'. Got 'n_jobs' = 6.\n",
      "  \" = {}.\".format(effective_n_jobs(self.n_jobs)))\n"
     ]
    },
    {
     "name": "stdout",
     "output_type": "stream",
     "text": [
      "Iteration No: 179 ended. Search finished for the next optimal point.\n",
      "Time taken: 0.5577\n",
      "Function value obtained: -0.4186\n",
      "Current minimum: -0.4282\n",
      "Iteration No: 180 started. Searching for the next optimal point.\n",
      "[677.7717532619642, 'l1', 2, 3]\n",
      "AVG precision: 0.4177313710919538 - ROC AUC: 0.6812075983717775\n"
     ]
    },
    {
     "name": "stderr",
     "output_type": "stream",
     "text": [
      "/usr/local/lib/python3.7/site-packages/sklearn/linear_model/logistic.py:432: FutureWarning: Default solver will be changed to 'lbfgs' in 0.22. Specify a solver to silence this warning.\n",
      "  FutureWarning)\n",
      "/usr/local/lib/python3.7/site-packages/sklearn/utils/validation.py:724: DataConversionWarning: A column-vector y was passed when a 1d array was expected. Please change the shape of y to (n_samples, ), for example using ravel().\n",
      "  y = column_or_1d(y, warn=True)\n",
      "/usr/local/lib/python3.7/site-packages/sklearn/linear_model/logistic.py:1544: UserWarning: 'n_jobs' > 1 does not have any effect when 'solver' is set to 'liblinear'. Got 'n_jobs' = 6.\n",
      "  \" = {}.\".format(effective_n_jobs(self.n_jobs)))\n"
     ]
    },
    {
     "name": "stdout",
     "output_type": "stream",
     "text": [
      "Iteration No: 180 ended. Search finished for the next optimal point.\n",
      "Time taken: 0.5583\n",
      "Function value obtained: -0.4177\n",
      "Current minimum: -0.4282\n",
      "Iteration No: 181 started. Searching for the next optimal point.\n",
      "[132.69668545538244, 'l2', 2, 2]\n",
      "AVG precision: 0.41053542951276734 - ROC AUC: 0.6730664857530528\n"
     ]
    },
    {
     "name": "stderr",
     "output_type": "stream",
     "text": [
      "/usr/local/lib/python3.7/site-packages/sklearn/linear_model/logistic.py:432: FutureWarning: Default solver will be changed to 'lbfgs' in 0.22. Specify a solver to silence this warning.\n",
      "  FutureWarning)\n",
      "/usr/local/lib/python3.7/site-packages/sklearn/utils/validation.py:724: DataConversionWarning: A column-vector y was passed when a 1d array was expected. Please change the shape of y to (n_samples, ), for example using ravel().\n",
      "  y = column_or_1d(y, warn=True)\n",
      "/usr/local/lib/python3.7/site-packages/sklearn/linear_model/logistic.py:1544: UserWarning: 'n_jobs' > 1 does not have any effect when 'solver' is set to 'liblinear'. Got 'n_jobs' = 6.\n",
      "  \" = {}.\".format(effective_n_jobs(self.n_jobs)))\n"
     ]
    },
    {
     "name": "stdout",
     "output_type": "stream",
     "text": [
      "Iteration No: 181 ended. Search finished for the next optimal point.\n",
      "Time taken: 0.4316\n",
      "Function value obtained: -0.4105\n",
      "Current minimum: -0.4282\n",
      "Iteration No: 182 started. Searching for the next optimal point.\n",
      "[42.57343973148885, 'l2', 2, 1]\n",
      "AVG precision: 0.38056546264700397 - ROC AUC: 0.6701492537313433\n"
     ]
    },
    {
     "name": "stderr",
     "output_type": "stream",
     "text": [
      "/usr/local/lib/python3.7/site-packages/sklearn/linear_model/logistic.py:432: FutureWarning: Default solver will be changed to 'lbfgs' in 0.22. Specify a solver to silence this warning.\n",
      "  FutureWarning)\n",
      "/usr/local/lib/python3.7/site-packages/sklearn/utils/validation.py:724: DataConversionWarning: A column-vector y was passed when a 1d array was expected. Please change the shape of y to (n_samples, ), for example using ravel().\n",
      "  y = column_or_1d(y, warn=True)\n",
      "/usr/local/lib/python3.7/site-packages/sklearn/linear_model/logistic.py:1544: UserWarning: 'n_jobs' > 1 does not have any effect when 'solver' is set to 'liblinear'. Got 'n_jobs' = 6.\n",
      "  \" = {}.\".format(effective_n_jobs(self.n_jobs)))\n"
     ]
    },
    {
     "name": "stdout",
     "output_type": "stream",
     "text": [
      "Iteration No: 182 ended. Search finished for the next optimal point.\n",
      "Time taken: 0.3994\n",
      "Function value obtained: -0.3806\n",
      "Current minimum: -0.4282\n",
      "Iteration No: 183 started. Searching for the next optimal point.\n",
      "[681.245176546664, 'l1', 2, 3]\n",
      "AVG precision: 0.4183408960405476 - ROC AUC: 0.6812754409769336\n"
     ]
    },
    {
     "name": "stderr",
     "output_type": "stream",
     "text": [
      "/usr/local/lib/python3.7/site-packages/sklearn/linear_model/logistic.py:432: FutureWarning: Default solver will be changed to 'lbfgs' in 0.22. Specify a solver to silence this warning.\n",
      "  FutureWarning)\n",
      "/usr/local/lib/python3.7/site-packages/sklearn/utils/validation.py:724: DataConversionWarning: A column-vector y was passed when a 1d array was expected. Please change the shape of y to (n_samples, ), for example using ravel().\n",
      "  y = column_or_1d(y, warn=True)\n",
      "/usr/local/lib/python3.7/site-packages/sklearn/linear_model/logistic.py:1544: UserWarning: 'n_jobs' > 1 does not have any effect when 'solver' is set to 'liblinear'. Got 'n_jobs' = 6.\n",
      "  \" = {}.\".format(effective_n_jobs(self.n_jobs)))\n"
     ]
    },
    {
     "name": "stdout",
     "output_type": "stream",
     "text": [
      "Iteration No: 183 ended. Search finished for the next optimal point.\n",
      "Time taken: 0.5661\n",
      "Function value obtained: -0.4183\n",
      "Current minimum: -0.4282\n",
      "Iteration No: 184 started. Searching for the next optimal point.\n",
      "[262.4889850021541, 'l1', 2, 4]\n"
     ]
    },
    {
     "name": "stderr",
     "output_type": "stream",
     "text": [
      "/usr/local/lib/python3.7/site-packages/sklearn/linear_model/logistic.py:432: FutureWarning: Default solver will be changed to 'lbfgs' in 0.22. Specify a solver to silence this warning.\n",
      "  FutureWarning)\n",
      "/usr/local/lib/python3.7/site-packages/sklearn/utils/validation.py:724: DataConversionWarning: A column-vector y was passed when a 1d array was expected. Please change the shape of y to (n_samples, ), for example using ravel().\n",
      "  y = column_or_1d(y, warn=True)\n",
      "/usr/local/lib/python3.7/site-packages/sklearn/linear_model/logistic.py:1544: UserWarning: 'n_jobs' > 1 does not have any effect when 'solver' is set to 'liblinear'. Got 'n_jobs' = 6.\n",
      "  \" = {}.\".format(effective_n_jobs(self.n_jobs)))\n"
     ]
    },
    {
     "name": "stdout",
     "output_type": "stream",
     "text": [
      "AVG precision: 0.4240022779449294 - ROC AUC: 0.6771370420624152\n",
      "Iteration No: 184 ended. Search finished for the next optimal point.\n",
      "Time taken: 0.5754\n",
      "Function value obtained: -0.4240\n",
      "Current minimum: -0.4282\n",
      "Iteration No: 185 started. Searching for the next optimal point.\n",
      "[681.4609020688538, 'l1', 2, 3]\n",
      "AVG precision: 0.4170632131318851 - ROC AUC: 0.680325644504749\n"
     ]
    },
    {
     "name": "stderr",
     "output_type": "stream",
     "text": [
      "/usr/local/lib/python3.7/site-packages/sklearn/linear_model/logistic.py:432: FutureWarning: Default solver will be changed to 'lbfgs' in 0.22. Specify a solver to silence this warning.\n",
      "  FutureWarning)\n",
      "/usr/local/lib/python3.7/site-packages/sklearn/utils/validation.py:724: DataConversionWarning: A column-vector y was passed when a 1d array was expected. Please change the shape of y to (n_samples, ), for example using ravel().\n",
      "  y = column_or_1d(y, warn=True)\n",
      "/usr/local/lib/python3.7/site-packages/sklearn/linear_model/logistic.py:1544: UserWarning: 'n_jobs' > 1 does not have any effect when 'solver' is set to 'liblinear'. Got 'n_jobs' = 6.\n",
      "  \" = {}.\".format(effective_n_jobs(self.n_jobs)))\n"
     ]
    },
    {
     "name": "stdout",
     "output_type": "stream",
     "text": [
      "Iteration No: 185 ended. Search finished for the next optimal point.\n",
      "Time taken: 0.5565\n",
      "Function value obtained: -0.4171\n",
      "Current minimum: -0.4282\n",
      "Iteration No: 186 started. Searching for the next optimal point.\n",
      "[362.94590821861016, 'l1', 2, 4]\n"
     ]
    },
    {
     "name": "stderr",
     "output_type": "stream",
     "text": [
      "/usr/local/lib/python3.7/site-packages/sklearn/linear_model/logistic.py:432: FutureWarning: Default solver will be changed to 'lbfgs' in 0.22. Specify a solver to silence this warning.\n",
      "  FutureWarning)\n",
      "/usr/local/lib/python3.7/site-packages/sklearn/utils/validation.py:724: DataConversionWarning: A column-vector y was passed when a 1d array was expected. Please change the shape of y to (n_samples, ), for example using ravel().\n",
      "  y = column_or_1d(y, warn=True)\n",
      "/usr/local/lib/python3.7/site-packages/sklearn/linear_model/logistic.py:1544: UserWarning: 'n_jobs' > 1 does not have any effect when 'solver' is set to 'liblinear'. Got 'n_jobs' = 6.\n",
      "  \" = {}.\".format(effective_n_jobs(self.n_jobs)))\n"
     ]
    },
    {
     "name": "stdout",
     "output_type": "stream",
     "text": [
      "AVG precision: 0.4254985524795861 - ROC AUC: 0.6776119402985075\n",
      "Iteration No: 186 ended. Search finished for the next optimal point.\n",
      "Time taken: 0.6613\n",
      "Function value obtained: -0.4255\n",
      "Current minimum: -0.4282\n",
      "Iteration No: 187 started. Searching for the next optimal point.\n",
      "[204.755987294278, 'l1', 2, 4]\n",
      "AVG precision: 0.42323715944470663 - ROC AUC: 0.675101763907734\n"
     ]
    },
    {
     "name": "stderr",
     "output_type": "stream",
     "text": [
      "/usr/local/lib/python3.7/site-packages/sklearn/linear_model/logistic.py:432: FutureWarning: Default solver will be changed to 'lbfgs' in 0.22. Specify a solver to silence this warning.\n",
      "  FutureWarning)\n",
      "/usr/local/lib/python3.7/site-packages/sklearn/utils/validation.py:724: DataConversionWarning: A column-vector y was passed when a 1d array was expected. Please change the shape of y to (n_samples, ), for example using ravel().\n",
      "  y = column_or_1d(y, warn=True)\n",
      "/usr/local/lib/python3.7/site-packages/sklearn/linear_model/logistic.py:1544: UserWarning: 'n_jobs' > 1 does not have any effect when 'solver' is set to 'liblinear'. Got 'n_jobs' = 6.\n",
      "  \" = {}.\".format(effective_n_jobs(self.n_jobs)))\n"
     ]
    },
    {
     "name": "stdout",
     "output_type": "stream",
     "text": [
      "Iteration No: 187 ended. Search finished for the next optimal point.\n",
      "Time taken: 0.5476\n",
      "Function value obtained: -0.4232\n",
      "Current minimum: -0.4282\n",
      "Iteration No: 188 started. Searching for the next optimal point.\n",
      "[116.72177174877011, 'l2', 3, 3]\n",
      "AVG precision: 0.35387038836954 - ROC AUC: 0.6248982360922659\n"
     ]
    },
    {
     "name": "stderr",
     "output_type": "stream",
     "text": [
      "/usr/local/lib/python3.7/site-packages/sklearn/linear_model/logistic.py:432: FutureWarning: Default solver will be changed to 'lbfgs' in 0.22. Specify a solver to silence this warning.\n",
      "  FutureWarning)\n",
      "/usr/local/lib/python3.7/site-packages/sklearn/utils/validation.py:724: DataConversionWarning: A column-vector y was passed when a 1d array was expected. Please change the shape of y to (n_samples, ), for example using ravel().\n",
      "  y = column_or_1d(y, warn=True)\n",
      "/usr/local/lib/python3.7/site-packages/sklearn/linear_model/logistic.py:1544: UserWarning: 'n_jobs' > 1 does not have any effect when 'solver' is set to 'liblinear'. Got 'n_jobs' = 6.\n",
      "  \" = {}.\".format(effective_n_jobs(self.n_jobs)))\n"
     ]
    },
    {
     "name": "stdout",
     "output_type": "stream",
     "text": [
      "Iteration No: 188 ended. Search finished for the next optimal point.\n",
      "Time taken: 0.4690\n",
      "Function value obtained: -0.3539\n",
      "Current minimum: -0.4282\n",
      "Iteration No: 189 started. Searching for the next optimal point.\n",
      "[449.3887732104457, 'l1', 2, 4]\n"
     ]
    },
    {
     "name": "stderr",
     "output_type": "stream",
     "text": [
      "/usr/local/lib/python3.7/site-packages/sklearn/linear_model/logistic.py:432: FutureWarning: Default solver will be changed to 'lbfgs' in 0.22. Specify a solver to silence this warning.\n",
      "  FutureWarning)\n",
      "/usr/local/lib/python3.7/site-packages/sklearn/utils/validation.py:724: DataConversionWarning: A column-vector y was passed when a 1d array was expected. Please change the shape of y to (n_samples, ), for example using ravel().\n",
      "  y = column_or_1d(y, warn=True)\n",
      "/usr/local/lib/python3.7/site-packages/sklearn/linear_model/logistic.py:1544: UserWarning: 'n_jobs' > 1 does not have any effect when 'solver' is set to 'liblinear'. Got 'n_jobs' = 6.\n",
      "  \" = {}.\".format(effective_n_jobs(self.n_jobs)))\n"
     ]
    },
    {
     "name": "stdout",
     "output_type": "stream",
     "text": [
      "AVG precision: 0.4255714566989318 - ROC AUC: 0.6796472184531885\n",
      "Iteration No: 189 ended. Search finished for the next optimal point.\n",
      "Time taken: 0.5859\n",
      "Function value obtained: -0.4256\n",
      "Current minimum: -0.4282\n",
      "Iteration No: 190 started. Searching for the next optimal point.\n",
      "[432.6254713387548, 'l1', 2, 4]\n"
     ]
    },
    {
     "name": "stderr",
     "output_type": "stream",
     "text": [
      "/usr/local/lib/python3.7/site-packages/sklearn/linear_model/logistic.py:432: FutureWarning: Default solver will be changed to 'lbfgs' in 0.22. Specify a solver to silence this warning.\n",
      "  FutureWarning)\n",
      "/usr/local/lib/python3.7/site-packages/sklearn/utils/validation.py:724: DataConversionWarning: A column-vector y was passed when a 1d array was expected. Please change the shape of y to (n_samples, ), for example using ravel().\n",
      "  y = column_or_1d(y, warn=True)\n",
      "/usr/local/lib/python3.7/site-packages/sklearn/linear_model/logistic.py:1544: UserWarning: 'n_jobs' > 1 does not have any effect when 'solver' is set to 'liblinear'. Got 'n_jobs' = 6.\n",
      "  \" = {}.\".format(effective_n_jobs(self.n_jobs)))\n"
     ]
    },
    {
     "name": "stdout",
     "output_type": "stream",
     "text": [
      "AVG precision: 0.42603334834071777 - ROC AUC: 0.6792401628222523\n",
      "Iteration No: 190 ended. Search finished for the next optimal point.\n",
      "Time taken: 0.5964\n",
      "Function value obtained: -0.4260\n",
      "Current minimum: -0.4282\n",
      "Iteration No: 191 started. Searching for the next optimal point.\n",
      "[362.7057285822356, 'l1', 2, 4]\n"
     ]
    },
    {
     "name": "stderr",
     "output_type": "stream",
     "text": [
      "/usr/local/lib/python3.7/site-packages/sklearn/linear_model/logistic.py:432: FutureWarning: Default solver will be changed to 'lbfgs' in 0.22. Specify a solver to silence this warning.\n",
      "  FutureWarning)\n",
      "/usr/local/lib/python3.7/site-packages/sklearn/utils/validation.py:724: DataConversionWarning: A column-vector y was passed when a 1d array was expected. Please change the shape of y to (n_samples, ), for example using ravel().\n",
      "  y = column_or_1d(y, warn=True)\n",
      "/usr/local/lib/python3.7/site-packages/sklearn/linear_model/logistic.py:1544: UserWarning: 'n_jobs' > 1 does not have any effect when 'solver' is set to 'liblinear'. Got 'n_jobs' = 6.\n",
      "  \" = {}.\".format(effective_n_jobs(self.n_jobs)))\n"
     ]
    },
    {
     "name": "stdout",
     "output_type": "stream",
     "text": [
      "AVG precision: 0.4241754879605166 - ROC AUC: 0.676594301221167\n",
      "Iteration No: 191 ended. Search finished for the next optimal point.\n",
      "Time taken: 0.6129\n",
      "Function value obtained: -0.4242\n",
      "Current minimum: -0.4282\n",
      "Iteration No: 192 started. Searching for the next optimal point.\n",
      "[713.6703218001597, 'l1', 2, 4]\n"
     ]
    },
    {
     "name": "stderr",
     "output_type": "stream",
     "text": [
      "/usr/local/lib/python3.7/site-packages/sklearn/linear_model/logistic.py:432: FutureWarning: Default solver will be changed to 'lbfgs' in 0.22. Specify a solver to silence this warning.\n",
      "  FutureWarning)\n",
      "/usr/local/lib/python3.7/site-packages/sklearn/utils/validation.py:724: DataConversionWarning: A column-vector y was passed when a 1d array was expected. Please change the shape of y to (n_samples, ), for example using ravel().\n",
      "  y = column_or_1d(y, warn=True)\n",
      "/usr/local/lib/python3.7/site-packages/sklearn/linear_model/logistic.py:1544: UserWarning: 'n_jobs' > 1 does not have any effect when 'solver' is set to 'liblinear'. Got 'n_jobs' = 6.\n",
      "  \" = {}.\".format(effective_n_jobs(self.n_jobs)))\n"
     ]
    },
    {
     "name": "stdout",
     "output_type": "stream",
     "text": [
      "AVG precision: 0.41883523565262837 - ROC AUC: 0.6792401628222524\n",
      "Iteration No: 192 ended. Search finished for the next optimal point.\n",
      "Time taken: 0.6065\n",
      "Function value obtained: -0.4188\n",
      "Current minimum: -0.4282\n",
      "Iteration No: 193 started. Searching for the next optimal point.\n",
      "[999.7696949622275, 'l1', 2, 4]\n"
     ]
    },
    {
     "name": "stderr",
     "output_type": "stream",
     "text": [
      "/usr/local/lib/python3.7/site-packages/sklearn/linear_model/logistic.py:432: FutureWarning: Default solver will be changed to 'lbfgs' in 0.22. Specify a solver to silence this warning.\n",
      "  FutureWarning)\n",
      "/usr/local/lib/python3.7/site-packages/sklearn/utils/validation.py:724: DataConversionWarning: A column-vector y was passed when a 1d array was expected. Please change the shape of y to (n_samples, ), for example using ravel().\n",
      "  y = column_or_1d(y, warn=True)\n",
      "/usr/local/lib/python3.7/site-packages/sklearn/linear_model/logistic.py:1544: UserWarning: 'n_jobs' > 1 does not have any effect when 'solver' is set to 'liblinear'. Got 'n_jobs' = 6.\n",
      "  \" = {}.\".format(effective_n_jobs(self.n_jobs)))\n"
     ]
    },
    {
     "name": "stdout",
     "output_type": "stream",
     "text": [
      "AVG precision: 0.4075532117972862 - ROC AUC: 0.6757801899592945\n",
      "Iteration No: 193 ended. Search finished for the next optimal point.\n",
      "Time taken: 0.6347\n",
      "Function value obtained: -0.4076\n",
      "Current minimum: -0.4282\n",
      "Iteration No: 194 started. Searching for the next optimal point.\n",
      "[468.3028425586323, 'l2', 2, 2]\n",
      "AVG precision: 0.41107509868909786 - ROC AUC: 0.666078697421981\n"
     ]
    },
    {
     "name": "stderr",
     "output_type": "stream",
     "text": [
      "/usr/local/lib/python3.7/site-packages/sklearn/linear_model/logistic.py:432: FutureWarning: Default solver will be changed to 'lbfgs' in 0.22. Specify a solver to silence this warning.\n",
      "  FutureWarning)\n",
      "/usr/local/lib/python3.7/site-packages/sklearn/utils/validation.py:724: DataConversionWarning: A column-vector y was passed when a 1d array was expected. Please change the shape of y to (n_samples, ), for example using ravel().\n",
      "  y = column_or_1d(y, warn=True)\n",
      "/usr/local/lib/python3.7/site-packages/sklearn/linear_model/logistic.py:1544: UserWarning: 'n_jobs' > 1 does not have any effect when 'solver' is set to 'liblinear'. Got 'n_jobs' = 6.\n",
      "  \" = {}.\".format(effective_n_jobs(self.n_jobs)))\n"
     ]
    },
    {
     "name": "stdout",
     "output_type": "stream",
     "text": [
      "Iteration No: 194 ended. Search finished for the next optimal point.\n",
      "Time taken: 0.5118\n",
      "Function value obtained: -0.4111\n",
      "Current minimum: -0.4282\n",
      "Iteration No: 195 started. Searching for the next optimal point.\n",
      "[968.7088538168696, 'l2', 2, 2]\n",
      "AVG precision: 0.41123275501877343 - ROC AUC: 0.664111261872456\n"
     ]
    },
    {
     "name": "stderr",
     "output_type": "stream",
     "text": [
      "/usr/local/lib/python3.7/site-packages/sklearn/linear_model/logistic.py:432: FutureWarning: Default solver will be changed to 'lbfgs' in 0.22. Specify a solver to silence this warning.\n",
      "  FutureWarning)\n",
      "/usr/local/lib/python3.7/site-packages/sklearn/utils/validation.py:724: DataConversionWarning: A column-vector y was passed when a 1d array was expected. Please change the shape of y to (n_samples, ), for example using ravel().\n",
      "  y = column_or_1d(y, warn=True)\n",
      "/usr/local/lib/python3.7/site-packages/sklearn/linear_model/logistic.py:1544: UserWarning: 'n_jobs' > 1 does not have any effect when 'solver' is set to 'liblinear'. Got 'n_jobs' = 6.\n",
      "  \" = {}.\".format(effective_n_jobs(self.n_jobs)))\n"
     ]
    },
    {
     "name": "stdout",
     "output_type": "stream",
     "text": [
      "Iteration No: 195 ended. Search finished for the next optimal point.\n",
      "Time taken: 0.4505\n",
      "Function value obtained: -0.4112\n",
      "Current minimum: -0.4282\n",
      "Iteration No: 196 started. Searching for the next optimal point.\n",
      "[362.64592702462517, 'l1', 2, 4]\n"
     ]
    },
    {
     "name": "stderr",
     "output_type": "stream",
     "text": [
      "/usr/local/lib/python3.7/site-packages/sklearn/linear_model/logistic.py:432: FutureWarning: Default solver will be changed to 'lbfgs' in 0.22. Specify a solver to silence this warning.\n",
      "  FutureWarning)\n",
      "/usr/local/lib/python3.7/site-packages/sklearn/utils/validation.py:724: DataConversionWarning: A column-vector y was passed when a 1d array was expected. Please change the shape of y to (n_samples, ), for example using ravel().\n",
      "  y = column_or_1d(y, warn=True)\n",
      "/usr/local/lib/python3.7/site-packages/sklearn/linear_model/logistic.py:1544: UserWarning: 'n_jobs' > 1 does not have any effect when 'solver' is set to 'liblinear'. Got 'n_jobs' = 6.\n",
      "  \" = {}.\".format(effective_n_jobs(self.n_jobs)))\n"
     ]
    },
    {
     "name": "stdout",
     "output_type": "stream",
     "text": [
      "AVG precision: 0.4256601594735757 - ROC AUC: 0.6771370420624151\n",
      "Iteration No: 196 ended. Search finished for the next optimal point.\n",
      "Time taken: 0.5814\n",
      "Function value obtained: -0.4257\n",
      "Current minimum: -0.4282\n",
      "Iteration No: 197 started. Searching for the next optimal point.\n",
      "[509.9277788012643, 'l1', 2, 3]\n",
      "AVG precision: 0.418005388246281 - ROC AUC: 0.6816824966078697\n"
     ]
    },
    {
     "name": "stderr",
     "output_type": "stream",
     "text": [
      "/usr/local/lib/python3.7/site-packages/sklearn/linear_model/logistic.py:432: FutureWarning: Default solver will be changed to 'lbfgs' in 0.22. Specify a solver to silence this warning.\n",
      "  FutureWarning)\n",
      "/usr/local/lib/python3.7/site-packages/sklearn/utils/validation.py:724: DataConversionWarning: A column-vector y was passed when a 1d array was expected. Please change the shape of y to (n_samples, ), for example using ravel().\n",
      "  y = column_or_1d(y, warn=True)\n",
      "/usr/local/lib/python3.7/site-packages/sklearn/linear_model/logistic.py:1544: UserWarning: 'n_jobs' > 1 does not have any effect when 'solver' is set to 'liblinear'. Got 'n_jobs' = 6.\n",
      "  \" = {}.\".format(effective_n_jobs(self.n_jobs)))\n"
     ]
    },
    {
     "name": "stdout",
     "output_type": "stream",
     "text": [
      "Iteration No: 197 ended. Search finished for the next optimal point.\n",
      "Time taken: 0.5521\n",
      "Function value obtained: -0.4180\n",
      "Current minimum: -0.4282\n",
      "Iteration No: 198 started. Searching for the next optimal point.\n",
      "[466.4621394789696, 'l1', 2, 4]\n"
     ]
    },
    {
     "name": "stderr",
     "output_type": "stream",
     "text": [
      "/usr/local/lib/python3.7/site-packages/sklearn/linear_model/logistic.py:432: FutureWarning: Default solver will be changed to 'lbfgs' in 0.22. Specify a solver to silence this warning.\n",
      "  FutureWarning)\n",
      "/usr/local/lib/python3.7/site-packages/sklearn/utils/validation.py:724: DataConversionWarning: A column-vector y was passed when a 1d array was expected. Please change the shape of y to (n_samples, ), for example using ravel().\n",
      "  y = column_or_1d(y, warn=True)\n",
      "/usr/local/lib/python3.7/site-packages/sklearn/linear_model/logistic.py:1544: UserWarning: 'n_jobs' > 1 does not have any effect when 'solver' is set to 'liblinear'. Got 'n_jobs' = 6.\n",
      "  \" = {}.\".format(effective_n_jobs(self.n_jobs)))\n"
     ]
    },
    {
     "name": "stdout",
     "output_type": "stream",
     "text": [
      "AVG precision: 0.4266291902177333 - ROC AUC: 0.6808005427408412\n",
      "Iteration No: 198 ended. Search finished for the next optimal point.\n",
      "Time taken: 0.5866\n",
      "Function value obtained: -0.4266\n",
      "Current minimum: -0.4282\n",
      "Iteration No: 199 started. Searching for the next optimal point.\n",
      "[393.8714352627785, 'l1', 2, 4]\n"
     ]
    },
    {
     "name": "stderr",
     "output_type": "stream",
     "text": [
      "/usr/local/lib/python3.7/site-packages/sklearn/linear_model/logistic.py:432: FutureWarning: Default solver will be changed to 'lbfgs' in 0.22. Specify a solver to silence this warning.\n",
      "  FutureWarning)\n",
      "/usr/local/lib/python3.7/site-packages/sklearn/utils/validation.py:724: DataConversionWarning: A column-vector y was passed when a 1d array was expected. Please change the shape of y to (n_samples, ), for example using ravel().\n",
      "  y = column_or_1d(y, warn=True)\n",
      "/usr/local/lib/python3.7/site-packages/sklearn/linear_model/logistic.py:1544: UserWarning: 'n_jobs' > 1 does not have any effect when 'solver' is set to 'liblinear'. Got 'n_jobs' = 6.\n",
      "  \" = {}.\".format(effective_n_jobs(self.n_jobs)))\n"
     ]
    },
    {
     "name": "stdout",
     "output_type": "stream",
     "text": [
      "AVG precision: 0.4270085836924311 - ROC AUC: 0.6784260515603798\n",
      "Iteration No: 199 ended. Search finished for the next optimal point.\n",
      "Time taken: 0.5824\n",
      "Function value obtained: -0.4270\n",
      "Current minimum: -0.4282\n",
      "Iteration No: 200 started. Searching for the next optimal point.\n",
      "[204.10944541572587, 'l1', 2, 4]\n",
      "AVG precision: 0.4232133474860043 - ROC AUC: 0.6759837177747625\n"
     ]
    },
    {
     "name": "stderr",
     "output_type": "stream",
     "text": [
      "/usr/local/lib/python3.7/site-packages/sklearn/linear_model/logistic.py:432: FutureWarning: Default solver will be changed to 'lbfgs' in 0.22. Specify a solver to silence this warning.\n",
      "  FutureWarning)\n",
      "/usr/local/lib/python3.7/site-packages/sklearn/utils/validation.py:724: DataConversionWarning: A column-vector y was passed when a 1d array was expected. Please change the shape of y to (n_samples, ), for example using ravel().\n",
      "  y = column_or_1d(y, warn=True)\n",
      "/usr/local/lib/python3.7/site-packages/sklearn/linear_model/logistic.py:1544: UserWarning: 'n_jobs' > 1 does not have any effect when 'solver' is set to 'liblinear'. Got 'n_jobs' = 6.\n",
      "  \" = {}.\".format(effective_n_jobs(self.n_jobs)))\n"
     ]
    },
    {
     "name": "stdout",
     "output_type": "stream",
     "text": [
      "Iteration No: 200 ended. Search finished for the next optimal point.\n",
      "Time taken: 0.5577\n",
      "Function value obtained: -0.4232\n",
      "Current minimum: -0.4282\n"
     ]
    }
   ],
   "source": [
    "def tune_logistic(params):\n",
    "    print(params)\n",
    "    c = params[0]\n",
    "    penalty = params[1]\n",
    "    \n",
    "    min_df = params[2]\n",
    "    ngram_range = (1, params[3])\n",
    "    \n",
    "    title_vec = TfidfVectorizer(min_df=min_df, ngram_range=ngram_range)\n",
    "    matriz_words = title_vec.fit_transform(df_filtered['watch-title'])\n",
    "    \n",
    "    stdScaler = StandardScaler()\n",
    "    X = stdScaler.fit_transform(df_filtered[['watch-view-count', 'view_per_day']])\n",
    "    X = hstack([X, matriz_words])\n",
    "    y = df_filtered[['target']]\n",
    "\n",
    "    X_train, X_test, y_train, y_test = train_test_split(X,\n",
    "                                                    y,\n",
    "                                                    test_size=0.15,\n",
    "                                                    random_state=42)\n",
    "    \n",
    "    mdl = LogisticRegression(C=c, class_weight='balanced', n_jobs=6, random_state=0, penalty=penalty)\n",
    "    \n",
    "    mdl.fit(X_train, y_train)\n",
    "    \n",
    "    p = mdl.predict_proba(X_test)[:, 1]\n",
    "    print(f'AVG precision: {average_precision_score(y_test, p)} - ROC AUC: {roc_auc_score(y_test, p)}')\n",
    "    \n",
    "    return -average_precision_score(y_test, p)\n",
    "\n",
    "\n",
    "space = [(0.001, 1000), # c\n",
    "         ('l1', 'l2'),\n",
    "          (1,5), # min_df\n",
    "          (1,5)] # ngram_range\n",
    "\n",
    "res_logistic = forest_minimize(tune_logistic, space, random_state=160745, n_random_starts=20, n_calls=200, verbose=1)\n"
   ]
  },
  {
   "cell_type": "code",
   "execution_count": 70,
   "metadata": {},
   "outputs": [
    {
     "name": "stdout",
     "output_type": "stream",
     "text": [
      "AVG precision: 0.4281986288940378 - ROC AUC: 0.6808005427408413\n"
     ]
    },
    {
     "name": "stderr",
     "output_type": "stream",
     "text": [
      "/usr/local/lib/python3.7/site-packages/sklearn/linear_model/logistic.py:432: FutureWarning: Default solver will be changed to 'lbfgs' in 0.22. Specify a solver to silence this warning.\n",
      "  FutureWarning)\n",
      "/usr/local/lib/python3.7/site-packages/sklearn/utils/validation.py:724: DataConversionWarning: A column-vector y was passed when a 1d array was expected. Please change the shape of y to (n_samples, ), for example using ravel().\n",
      "  y = column_or_1d(y, warn=True)\n",
      "/usr/local/lib/python3.7/site-packages/sklearn/linear_model/logistic.py:1544: UserWarning: 'n_jobs' > 1 does not have any effect when 'solver' is set to 'liblinear'. Got 'n_jobs' = 6.\n",
      "  \" = {}.\".format(effective_n_jobs(self.n_jobs)))\n"
     ]
    }
   ],
   "source": [
    "params = res_logistic.x\n",
    "\n",
    "c = params[0]\n",
    "penalty = params[1]\n",
    "\n",
    "min_df = params[2]\n",
    "ngram_range = (1, params[3])\n",
    "    \n",
    "title_vec = TfidfVectorizer(min_df=min_df, ngram_range=ngram_range)\n",
    "matriz_words = title_vec.fit_transform(df_filtered['watch-title'])\n",
    "    \n",
    "stdScaler = StandardScaler()\n",
    "X = stdScaler.fit_transform(df_filtered[['watch-view-count', 'view_per_day']])\n",
    "X = hstack([X, matriz_words])\n",
    "y = df_filtered[['target']]\n",
    "\n",
    "X_train, X_test, y_train, y_test = train_test_split(X,\n",
    "                                                    y,\n",
    "                                                    test_size=0.15,\n",
    "                                                    random_state=42)\n",
    "    \n",
    "model_logistic = LogisticRegression(C=c, class_weight='balanced', n_jobs=6, random_state=0, penalty=penalty)\n",
    "    \n",
    "model_logistic.fit(X_train, y_train)\n",
    "    \n",
    "predict_logistic = model_logistic.predict_proba(X_test)[:, 1]\n",
    "print(f'AVG precision: {average_precision_score(y_test, predict_logistic)} - ROC AUC: {roc_auc_score(y_test, predict_logistic)}')"
   ]
  },
  {
   "cell_type": "code",
   "execution_count": 76,
   "metadata": {},
   "outputs": [],
   "source": [
    "df_predict = pd.DataFrame({'logistic': predict_logistic, 'forest': predict_forest})"
   ]
  },
  {
   "cell_type": "code",
   "execution_count": 77,
   "metadata": {},
   "outputs": [
    {
     "data": {
      "text/html": [
       "<div>\n",
       "<style scoped>\n",
       "    .dataframe tbody tr th:only-of-type {\n",
       "        vertical-align: middle;\n",
       "    }\n",
       "\n",
       "    .dataframe tbody tr th {\n",
       "        vertical-align: top;\n",
       "    }\n",
       "\n",
       "    .dataframe thead th {\n",
       "        text-align: right;\n",
       "    }\n",
       "</style>\n",
       "<table border=\"1\" class=\"dataframe\">\n",
       "  <thead>\n",
       "    <tr style=\"text-align: right;\">\n",
       "      <th></th>\n",
       "      <th>logistic</th>\n",
       "      <th>forest</th>\n",
       "    </tr>\n",
       "  </thead>\n",
       "  <tbody>\n",
       "    <tr>\n",
       "      <td>logistic</td>\n",
       "      <td>1.000000</td>\n",
       "      <td>0.250904</td>\n",
       "    </tr>\n",
       "    <tr>\n",
       "      <td>forest</td>\n",
       "      <td>0.250904</td>\n",
       "      <td>1.000000</td>\n",
       "    </tr>\n",
       "  </tbody>\n",
       "</table>\n",
       "</div>"
      ],
      "text/plain": [
       "          logistic    forest\n",
       "logistic  1.000000  0.250904\n",
       "forest    0.250904  1.000000"
      ]
     },
     "execution_count": 77,
     "metadata": {},
     "output_type": "execute_result"
    }
   ],
   "source": [
    "df_predict.corr()"
   ]
  },
  {
   "cell_type": "code",
   "execution_count": null,
   "metadata": {},
   "outputs": [],
   "source": [
    "print(f'AVG precision: {average_precision_score(y, predict_logistic)} - ROC AUC: {roc_auc_score(y_test, predict_logistic)}')"
   ]
  }
 ],
 "metadata": {
  "kernelspec": {
   "display_name": "Python 3",
   "language": "python",
   "name": "python3"
  },
  "language_info": {
   "codemirror_mode": {
    "name": "ipython",
    "version": 3
   },
   "file_extension": ".py",
   "mimetype": "text/x-python",
   "name": "python",
   "nbconvert_exporter": "python",
   "pygments_lexer": "ipython3",
   "version": "3.7.5"
  },
  "toc": {
   "base_numbering": 1,
   "nav_menu": {},
   "number_sections": true,
   "sideBar": true,
   "skip_h1_title": false,
   "title_cell": "Table of Contents",
   "title_sidebar": "Contents",
   "toc_cell": false,
   "toc_position": {},
   "toc_section_display": true,
   "toc_window_display": false
  },
  "varInspector": {
   "cols": {
    "lenName": 16,
    "lenType": 16,
    "lenVar": 40
   },
   "kernels_config": {
    "python": {
     "delete_cmd_postfix": "",
     "delete_cmd_prefix": "del ",
     "library": "var_list.py",
     "varRefreshCmd": "print(var_dic_list())"
    },
    "r": {
     "delete_cmd_postfix": ") ",
     "delete_cmd_prefix": "rm(",
     "library": "var_list.r",
     "varRefreshCmd": "cat(var_dic_list()) "
    }
   },
   "types_to_exclude": [
    "module",
    "function",
    "builtin_function_or_method",
    "instance",
    "_Feature"
   ],
   "window_display": false
  },
  "pycharm": {
   "stem_cell": {
    "cell_type": "raw",
    "source": [],
    "metadata": {
     "collapsed": false
    }
   }
  }
 },
 "nbformat": 4,
 "nbformat_minor": 1
}