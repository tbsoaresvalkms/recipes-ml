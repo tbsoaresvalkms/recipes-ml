{
 "cells": [
  {
   "cell_type": "code",
   "execution_count": 40,
   "metadata": {
    "pycharm": {
     "is_executing": false
    }
   },
   "outputs": [
    {
     "ename": "ModuleNotFoundError",
     "evalue": "No module named 'skopt'",
     "output_type": "error",
     "traceback": [
      "\u001b[0;31m---------------------------------------------------------------------------\u001b[0m",
      "\u001b[0;31mModuleNotFoundError\u001b[0m                       Traceback (most recent call last)",
      "\u001b[0;32m<ipython-input-40-ed38f820a25f>\u001b[0m in \u001b[0;36m<module>\u001b[0;34m\u001b[0m\n\u001b[1;32m     16\u001b[0m \u001b[0;32mfrom\u001b[0m \u001b[0msklearn\u001b[0m\u001b[0;34m.\u001b[0m\u001b[0mfeature_extraction\u001b[0m\u001b[0;34m.\u001b[0m\u001b[0mtext\u001b[0m \u001b[0;32mimport\u001b[0m \u001b[0mTfidfVectorizer\u001b[0m\u001b[0;34m\u001b[0m\u001b[0;34m\u001b[0m\u001b[0m\n\u001b[1;32m     17\u001b[0m \u001b[0;32mfrom\u001b[0m \u001b[0mscipy\u001b[0m\u001b[0;34m.\u001b[0m\u001b[0msparse\u001b[0m \u001b[0;32mimport\u001b[0m \u001b[0mhstack\u001b[0m\u001b[0;34m\u001b[0m\u001b[0;34m\u001b[0m\u001b[0m\n\u001b[0;32m---> 18\u001b[0;31m \u001b[0;32mfrom\u001b[0m \u001b[0mskopt\u001b[0m \u001b[0;32mimport\u001b[0m \u001b[0mforest_minimize\u001b[0m\u001b[0;34m\u001b[0m\u001b[0;34m\u001b[0m\u001b[0m\n\u001b[0m",
      "\u001b[0;31mModuleNotFoundError\u001b[0m: No module named 'skopt'"
     ]
    }
   ],
   "source": [
    "import pandas as pd\n",
    "import numpy as np\n",
    "import requests\n",
    "import re\n",
    "import time\n",
    "import bs4\n",
    "import json\n",
    "import tqdm\n",
    "import matplotlib.pyplot as plt\n",
    "\n",
    "from sklearn.tree import DecisionTreeClassifier\n",
    "from sklearn.ensemble import RandomForestClassifier\n",
    "from sklearn.metrics import roc_auc_score, average_precision_score\n",
    "from sklearn.model_selection import train_test_split\n",
    "from sklearn.tree import plot_tree\n",
    "from sklearn.feature_extraction.text import TfidfVectorizer\n",
    "from scipy.sparse import hstack\n",
    "from skopt import forest_minimize"
   ]
  },
  {
   "cell_type": "code",
   "execution_count": 45,
   "metadata": {},
   "outputs": [],
   "source": [
    "queries = ['deep+learning', 'machine+learning', 'clash+royale']\n",
    "url = 'https://www.youtube.com/results?search_query={query}&sp=CAI%253D&p={page}'"
   ]
  },
  {
   "cell_type": "code",
   "execution_count": 48,
   "metadata": {},
   "outputs": [
    {
     "data": {
      "application/vnd.jupyter.widget-view+json": {
       "model_id": "2bcde6e015804fb791844f9a7ed9948d",
       "version_major": 2,
       "version_minor": 0
      },
      "text/plain": [
       "HBox(children=(IntProgress(value=0, max=3), HTML(value='')))"
      ]
     },
     "metadata": {},
     "output_type": "display_data"
    },
    {
     "data": {
      "application/vnd.jupyter.widget-view+json": {
       "model_id": "ae5ef5e8a0514f78935d73d7015dacae",
       "version_major": 2,
       "version_minor": 0
      },
      "text/plain": [
       "HBox(children=(IntProgress(value=0, max=19), HTML(value='')))"
      ]
     },
     "metadata": {},
     "output_type": "display_data"
    },
    {
     "data": {
      "application/vnd.jupyter.widget-view+json": {
       "model_id": "1133ce2a14d3440da3f769c7c95d0687",
       "version_major": 2,
       "version_minor": 0
      },
      "text/plain": [
       "HBox(children=(IntProgress(value=0, max=19), HTML(value='')))"
      ]
     },
     "metadata": {},
     "output_type": "display_data"
    },
    {
     "data": {
      "application/vnd.jupyter.widget-view+json": {
       "model_id": "99d4a79746b54be2bd5def5803938001",
       "version_major": 2,
       "version_minor": 0
      },
      "text/plain": [
       "HBox(children=(IntProgress(value=0, max=19), HTML(value='')))"
      ]
     },
     "metadata": {},
     "output_type": "display_data"
    },
    {
     "name": "stdout",
     "output_type": "stream",
     "text": [
      "\n"
     ]
    }
   ],
   "source": [
    "for query in tqdm.tqdm_notebook(queries):\n",
    "    for page in tqdm.tqdm_notebook(range(1, 20)):\n",
    "        response = requests.get(url.format(query=query, page=page))\n",
    "        page_html = response.text\n",
    "        parsed = bs4.BeautifulSoup(page_html)\n",
    "        tags = parsed.findAll('a')\n",
    "\n",
    "        for tag in tags:\n",
    "            if tag.has_attr('aria-describedby'):\n",
    "                link = tag['href']\n",
    "                title = tag['title']\n",
    "                with open('data/parsed_video.json', 'a+') as out:\n",
    "                    data = {\"link\": link, \"title\": title, \"query\": query}\n",
    "                    out.write(f'{json.dumps(data)}\\n')"
   ]
  },
  {
   "cell_type": "code",
   "execution_count": 49,
   "metadata": {},
   "outputs": [
    {
     "data": {
      "text/html": [
       "<div>\n",
       "<style scoped>\n",
       "    .dataframe tbody tr th:only-of-type {\n",
       "        vertical-align: middle;\n",
       "    }\n",
       "\n",
       "    .dataframe tbody tr th {\n",
       "        vertical-align: top;\n",
       "    }\n",
       "\n",
       "    .dataframe thead th {\n",
       "        text-align: right;\n",
       "    }\n",
       "</style>\n",
       "<table border=\"1\" class=\"dataframe\">\n",
       "  <thead>\n",
       "    <tr style=\"text-align: right;\">\n",
       "      <th></th>\n",
       "      <th>link</th>\n",
       "      <th>title</th>\n",
       "      <th>query</th>\n",
       "    </tr>\n",
       "  </thead>\n",
       "  <tbody>\n",
       "    <tr>\n",
       "      <td>0</td>\n",
       "      <td>/watch?v=SQX4SzzBg0s</td>\n",
       "      <td>Automatic Baseball Commentary Generation Using...</td>\n",
       "      <td>deep+learning</td>\n",
       "    </tr>\n",
       "    <tr>\n",
       "      <td>1</td>\n",
       "      <td>/watch?v=aL0aX0sL-PE</td>\n",
       "      <td>Advanced Topics in CNN &amp; RNN | Deep Learning T...</td>\n",
       "      <td>deep+learning</td>\n",
       "    </tr>\n",
       "    <tr>\n",
       "      <td>2</td>\n",
       "      <td>/watch?v=WFDSOz2RVsA</td>\n",
       "      <td>Introduction to Deep Learning - Lecture 4</td>\n",
       "      <td>deep+learning</td>\n",
       "    </tr>\n",
       "    <tr>\n",
       "      <td>3</td>\n",
       "      <td>/watch?v=FB1xiBwAiMA</td>\n",
       "      <td>DLSS 2.0 Control PC 4K highest settings ray tr...</td>\n",
       "      <td>deep+learning</td>\n",
       "    </tr>\n",
       "    <tr>\n",
       "      <td>4</td>\n",
       "      <td>/watch?v=WsL8WODCXJU</td>\n",
       "      <td>Benefits and Challenges of combining Deep Lear...</td>\n",
       "      <td>deep+learning</td>\n",
       "    </tr>\n",
       "  </tbody>\n",
       "</table>\n",
       "</div>"
      ],
      "text/plain": [
       "                   link                                              title  \\\n",
       "0  /watch?v=SQX4SzzBg0s  Automatic Baseball Commentary Generation Using...   \n",
       "1  /watch?v=aL0aX0sL-PE  Advanced Topics in CNN & RNN | Deep Learning T...   \n",
       "2  /watch?v=WFDSOz2RVsA          Introduction to Deep Learning - Lecture 4   \n",
       "3  /watch?v=FB1xiBwAiMA  DLSS 2.0 Control PC 4K highest settings ray tr...   \n",
       "4  /watch?v=WsL8WODCXJU  Benefits and Challenges of combining Deep Lear...   \n",
       "\n",
       "           query  \n",
       "0  deep+learning  \n",
       "1  deep+learning  \n",
       "2  deep+learning  \n",
       "3  deep+learning  \n",
       "4  deep+learning  "
      ]
     },
     "execution_count": 49,
     "metadata": {},
     "output_type": "execute_result"
    }
   ],
   "source": [
    "df = pd.read_json('data/parsed_video.json', lines=True, orient='records')\n",
    "df.head()"
   ]
  },
  {
   "cell_type": "code",
   "execution_count": 50,
   "metadata": {},
   "outputs": [],
   "source": [
    "url_video = 'https://www.youtube.com{link}'"
   ]
  },
  {
   "cell_type": "code",
   "execution_count": 51,
   "metadata": {},
   "outputs": [
    {
     "data": {
      "application/vnd.jupyter.widget-view+json": {
       "model_id": "eb99db95def04147bbd3f3111ebaaf94",
       "version_major": 2,
       "version_minor": 0
      },
      "text/plain": [
       "HBox(children=(IntProgress(value=0, max=887), HTML(value='')))"
      ]
     },
     "metadata": {},
     "output_type": "display_data"
    },
    {
     "name": "stdout",
     "output_type": "stream",
     "text": [
      "\n"
     ]
    }
   ],
   "source": [
    "for _link in tqdm.tqdm_notebook(df['link'].unique()):\n",
    "    response = requests.get(url_video.format(link=_link))\n",
    "    page_html = response.text\n",
    "    parsed = bs4.BeautifulSoup(page_html, 'html.parser')\n",
    "    class_watch = parsed.findAll(attrs={'class': re.compile(r'watch')})\n",
    "    id_watch = parsed.findAll(attrs={'id': re.compile(r'watch')})\n",
    "    channel = parsed.findAll('a', attrs={'href': re.compile(r'channel')})\n",
    "    meta = parsed.findAll('meta')\n",
    "\n",
    "    data = {}\n",
    "\n",
    "    for _class in class_watch:\n",
    "        colname = '_'.join(_class['class'])\n",
    "        if 'clearfix' not in colname:\n",
    "            data[colname] = _class.text.strip()\n",
    "\n",
    "    for _id in id_watch:\n",
    "        colname = _id['id']\n",
    "        data[colname] = _id.text.strip()\n",
    "\n",
    "    for _meta in meta:\n",
    "        colname = _meta.get('property')\n",
    "        if colname is not None:\n",
    "            data[colname] = _meta['content']\n",
    "\n",
    "    for i, _channel in enumerate(channel):\n",
    "        data[f'channel_link_{i}'] = _channel['href']\n",
    "\n",
    "    with open('data/parsed_video_info.json', 'a+') as out:\n",
    "        out.write(f'{json.dumps(data)}\\n')"
   ]
  },
  {
   "cell_type": "code",
   "execution_count": 3,
   "metadata": {},
   "outputs": [
    {
     "data": {
      "text/html": [
       "<div>\n",
       "<style scoped>\n",
       "    .dataframe tbody tr th:only-of-type {\n",
       "        vertical-align: middle;\n",
       "    }\n",
       "\n",
       "    .dataframe tbody tr th {\n",
       "        vertical-align: top;\n",
       "    }\n",
       "\n",
       "    .dataframe thead th {\n",
       "        text-align: right;\n",
       "    }\n",
       "</style>\n",
       "<table border=\"1\" class=\"dataframe\">\n",
       "  <thead>\n",
       "    <tr style=\"text-align: right;\">\n",
       "      <th></th>\n",
       "      <th>content-alignment_watch-small</th>\n",
       "      <th>watch-playlist_player-height</th>\n",
       "      <th>watch-queue-header</th>\n",
       "      <th>watch-queue-info</th>\n",
       "      <th>watch-queue-info-icon</th>\n",
       "      <th>watch-queue-title</th>\n",
       "      <th>watch-queue-control-bar_control-bar-button</th>\n",
       "      <th>watch-queue-mole-info</th>\n",
       "      <th>watch-queue-control-bar-icon</th>\n",
       "      <th>watch-queue-icon_yt-sprite</th>\n",
       "      <th>...</th>\n",
       "      <th>ytd-watch-next-secondary-results-renderer</th>\n",
       "      <th>ytd-watch-fixie</th>\n",
       "      <th>ytd-watch-flexy</th>\n",
       "      <th>watch-page-skeleton</th>\n",
       "      <th>channel_link_3</th>\n",
       "      <th>channel_link_4</th>\n",
       "      <th>channel_link_5</th>\n",
       "      <th>channel_link_6</th>\n",
       "      <th>channel_link_7</th>\n",
       "      <th>channel_link_8</th>\n",
       "    </tr>\n",
       "  </thead>\n",
       "  <tbody>\n",
       "    <tr>\n",
       "      <td>0</td>\n",
       "      <td>Este vídeo não está disponível.\\n\\n    \\n\\n\\n\\...</td>\n",
       "      <td>Fila de exibiçãoFilaFila de exibiçãoFila \\nRem...</td>\n",
       "      <td>Fila de exibiçãoFilaFila de exibiçãoFila \\nRem...</td>\n",
       "      <td>Fila de exibiçãoFila</td>\n",
       "      <td></td>\n",
       "      <td>Fila de exibição</td>\n",
       "      <td>Fila de exibiçãoFila \\nRemover todosDesconectar</td>\n",
       "      <td>Fila de exibiçãoFila</td>\n",
       "      <td></td>\n",
       "      <td></td>\n",
       "      <td>...</td>\n",
       "      <td>NaN</td>\n",
       "      <td>NaN</td>\n",
       "      <td>NaN</td>\n",
       "      <td>NaN</td>\n",
       "      <td>NaN</td>\n",
       "      <td>NaN</td>\n",
       "      <td>NaN</td>\n",
       "      <td>NaN</td>\n",
       "      <td>NaN</td>\n",
       "      <td>NaN</td>\n",
       "    </tr>\n",
       "    <tr>\n",
       "      <td>1</td>\n",
       "      <td>Este vídeo não está disponível.\\n\\n    \\n\\n\\n\\...</td>\n",
       "      <td>Fila de exibiçãoFilaFila de exibiçãoFila \\nRem...</td>\n",
       "      <td>Fila de exibiçãoFilaFila de exibiçãoFila \\nRem...</td>\n",
       "      <td>Fila de exibiçãoFila</td>\n",
       "      <td></td>\n",
       "      <td>Fila de exibição</td>\n",
       "      <td>Fila de exibiçãoFila \\nRemover todosDesconectar</td>\n",
       "      <td>Fila de exibiçãoFila</td>\n",
       "      <td></td>\n",
       "      <td></td>\n",
       "      <td>...</td>\n",
       "      <td>NaN</td>\n",
       "      <td>NaN</td>\n",
       "      <td>NaN</td>\n",
       "      <td>NaN</td>\n",
       "      <td>NaN</td>\n",
       "      <td>NaN</td>\n",
       "      <td>NaN</td>\n",
       "      <td>NaN</td>\n",
       "      <td>NaN</td>\n",
       "      <td>NaN</td>\n",
       "    </tr>\n",
       "  </tbody>\n",
       "</table>\n",
       "<p>2 rows × 158 columns</p>\n",
       "</div>"
      ],
      "text/plain": [
       "                       content-alignment_watch-small  \\\n",
       "0  Este vídeo não está disponível.\\n\\n    \\n\\n\\n\\...   \n",
       "1  Este vídeo não está disponível.\\n\\n    \\n\\n\\n\\...   \n",
       "\n",
       "                        watch-playlist_player-height  \\\n",
       "0  Fila de exibiçãoFilaFila de exibiçãoFila \\nRem...   \n",
       "1  Fila de exibiçãoFilaFila de exibiçãoFila \\nRem...   \n",
       "\n",
       "                                  watch-queue-header      watch-queue-info  \\\n",
       "0  Fila de exibiçãoFilaFila de exibiçãoFila \\nRem...  Fila de exibiçãoFila   \n",
       "1  Fila de exibiçãoFilaFila de exibiçãoFila \\nRem...  Fila de exibiçãoFila   \n",
       "\n",
       "  watch-queue-info-icon watch-queue-title  \\\n",
       "0                        Fila de exibição   \n",
       "1                        Fila de exibição   \n",
       "\n",
       "        watch-queue-control-bar_control-bar-button watch-queue-mole-info  \\\n",
       "0  Fila de exibiçãoFila \\nRemover todosDesconectar  Fila de exibiçãoFila   \n",
       "1  Fila de exibiçãoFila \\nRemover todosDesconectar  Fila de exibiçãoFila   \n",
       "\n",
       "  watch-queue-control-bar-icon watch-queue-icon_yt-sprite  ...  \\\n",
       "0                                                          ...   \n",
       "1                                                          ...   \n",
       "\n",
       "  ytd-watch-next-secondary-results-renderer ytd-watch-fixie ytd-watch-flexy  \\\n",
       "0                                       NaN             NaN             NaN   \n",
       "1                                       NaN             NaN             NaN   \n",
       "\n",
       "  watch-page-skeleton channel_link_3 channel_link_4 channel_link_5  \\\n",
       "0                 NaN            NaN            NaN            NaN   \n",
       "1                 NaN            NaN            NaN            NaN   \n",
       "\n",
       "  channel_link_6 channel_link_7 channel_link_8  \n",
       "0            NaN            NaN            NaN  \n",
       "1            NaN            NaN            NaN  \n",
       "\n",
       "[2 rows x 158 columns]"
      ]
     },
     "execution_count": 3,
     "metadata": {},
     "output_type": "execute_result"
    }
   ],
   "source": [
    "df_info = pd.read_json('data/parsed_video_info.json',\n",
    "                       lines=True,\n",
    "                       orient='records')\n",
    "df_info.head(2)"
   ]
  },
  {
   "cell_type": "code",
   "execution_count": 4,
   "metadata": {},
   "outputs": [
    {
     "data": {
      "text/plain": [
       "Index(['content-alignment_watch-small', 'watch-playlist_player-height',\n",
       "       'watch-queue-header', 'watch-queue-info', 'watch-queue-info-icon',\n",
       "       'watch-queue-title', 'watch-queue-control-bar_control-bar-button',\n",
       "       'watch-queue-mole-info', 'watch-queue-control-bar-icon',\n",
       "       'watch-queue-icon_yt-sprite',\n",
       "       ...\n",
       "       'ytd-watch-next-secondary-results-renderer', 'ytd-watch-fixie',\n",
       "       'ytd-watch-flexy', 'watch-page-skeleton', 'channel_link_3',\n",
       "       'channel_link_4', 'channel_link_5', 'channel_link_6', 'channel_link_7',\n",
       "       'channel_link_8'],\n",
       "      dtype='object', length=158)"
      ]
     },
     "execution_count": 4,
     "metadata": {},
     "output_type": "execute_result"
    }
   ],
   "source": [
    "df_info.columns"
   ]
  },
  {
   "cell_type": "code",
   "execution_count": 5,
   "metadata": {},
   "outputs": [],
   "source": [
    "columns = [\n",
    "    'watch-title', 'watch-view-count', 'watch-time-text',\n",
    "    'content_watch-info-tag-list', 'watch7-headline', 'watch7-user-header',\n",
    "    'watch8-sentiment-actions', 'og:image', 'og:image:width',\n",
    "    'og:image:height', 'og:description', 'og:video:width', 'og:video:height',\n",
    "    'og:video:tag', 'channel_link_0'\n",
    "]"
   ]
  },
  {
   "cell_type": "code",
   "execution_count": 6,
   "metadata": {},
   "outputs": [],
   "source": [
    "df_filtered = df_info[columns]"
   ]
  },
  {
   "cell_type": "code",
   "execution_count": 7,
   "metadata": {},
   "outputs": [
    {
     "name": "stdout",
     "output_type": "stream",
     "text": [
      "<class 'pandas.core.frame.DataFrame'>\n",
      "RangeIndex: 887 entries, 0 to 886\n",
      "Data columns (total 15 columns):\n",
      "watch-title                    836 non-null object\n",
      "watch-view-count               817 non-null object\n",
      "watch-time-text                836 non-null object\n",
      "content_watch-info-tag-list    836 non-null object\n",
      "watch7-headline                836 non-null object\n",
      "watch7-user-header             836 non-null object\n",
      "watch8-sentiment-actions       817 non-null object\n",
      "og:image                       887 non-null object\n",
      "og:image:width                 887 non-null int64\n",
      "og:image:height                887 non-null int64\n",
      "og:description                 887 non-null object\n",
      "og:video:width                 877 non-null float64\n",
      "og:video:height                877 non-null float64\n",
      "og:video:tag                   733 non-null object\n",
      "channel_link_0                 836 non-null object\n",
      "dtypes: float64(2), int64(2), object(11)\n",
      "memory usage: 104.1+ KB\n"
     ]
    }
   ],
   "source": [
    "df_filtered.info()"
   ]
  },
  {
   "cell_type": "code",
   "execution_count": 8,
   "metadata": {},
   "outputs": [
    {
     "data": {
      "text/plain": [
       "Index(['watch-title', 'watch-view-count', 'watch-time-text',\n",
       "       'content_watch-info-tag-list', 'watch7-headline', 'watch7-user-header',\n",
       "       'watch8-sentiment-actions', 'og:image', 'og:image:width',\n",
       "       'og:image:height', 'og:description', 'og:video:width',\n",
       "       'og:video:height', 'og:video:tag', 'channel_link_0'],\n",
       "      dtype='object')"
      ]
     },
     "execution_count": 8,
     "metadata": {},
     "output_type": "execute_result"
    }
   ],
   "source": [
    "df_filtered.columns"
   ]
  },
  {
   "cell_type": "code",
   "execution_count": 9,
   "metadata": {},
   "outputs": [
    {
     "name": "stderr",
     "output_type": "stream",
     "text": [
      "/usr/local/lib/python3.7/site-packages/ipykernel_launcher.py:1: SettingWithCopyWarning: \n",
      "A value is trying to be set on a copy of a slice from a DataFrame\n",
      "\n",
      "See the caveats in the documentation: http://pandas.pydata.org/pandas-docs/stable/user_guide/indexing.html#returning-a-view-versus-a-copy\n",
      "  \"\"\"Entry point for launching an IPython kernel.\n"
     ]
    }
   ],
   "source": [
    "df_filtered.dropna(subset=['watch-time-text'], inplace=True)\n",
    "\n",
    "month_map = {\n",
    "    \"jan\": \"Jan\",\n",
    "    \"fev\": \"Feb\",\n",
    "    \"mar\": \"Mar\",\n",
    "    \"abr\": \"Apr\",\n",
    "    \"mai\": \"May\",\n",
    "    \"jun\": \"Jun\",\n",
    "    \"jul\": \"Jul\",\n",
    "    \"ago\": \"Aug\",\n",
    "    \"set\": \"Sep\",\n",
    "    \"out\": \"Oct\",\n",
    "    \"nov\": \"Nov\",\n",
    "    \"dez\": \"Dec\"\n",
    "}\n",
    "\n",
    "clean_date = df_filtered['watch-time-text'].str.extract(\n",
    "    r\"(\\d+) de ([a-z]+)\\. de (\\d+)\")\n",
    "\n",
    "df_filtered = df_filtered[~clean_date[0].isna()]\n",
    "clean_date = clean_date[~clean_date[0].isna()]\n",
    "\n",
    "clean_date[0] = clean_date[0].map(lambda x: \"0\" + x[0] if len(x) == 1 else x)\n",
    "clean_date[1] = clean_date[1].map(month_map)\n",
    "clean_date = clean_date.apply(lambda x: \" \".join(x), axis=1)\n",
    "\n",
    "df_filtered['watch-time-text'] = pd.to_datetime(clean_date, format=\"%d %b %Y\")"
   ]
  },
  {
   "cell_type": "code",
   "execution_count": 10,
   "metadata": {},
   "outputs": [
    {
     "data": {
      "text/html": [
       "<div>\n",
       "<style scoped>\n",
       "    .dataframe tbody tr th:only-of-type {\n",
       "        vertical-align: middle;\n",
       "    }\n",
       "\n",
       "    .dataframe tbody tr th {\n",
       "        vertical-align: top;\n",
       "    }\n",
       "\n",
       "    .dataframe thead th {\n",
       "        text-align: right;\n",
       "    }\n",
       "</style>\n",
       "<table border=\"1\" class=\"dataframe\">\n",
       "  <thead>\n",
       "    <tr style=\"text-align: right;\">\n",
       "      <th></th>\n",
       "      <th>watch-title</th>\n",
       "      <th>watch-view-count</th>\n",
       "      <th>watch-time-text</th>\n",
       "      <th>content_watch-info-tag-list</th>\n",
       "      <th>watch7-headline</th>\n",
       "      <th>watch7-user-header</th>\n",
       "      <th>watch8-sentiment-actions</th>\n",
       "      <th>og:image</th>\n",
       "      <th>og:image:width</th>\n",
       "      <th>og:image:height</th>\n",
       "      <th>og:description</th>\n",
       "      <th>og:video:width</th>\n",
       "      <th>og:video:height</th>\n",
       "      <th>og:video:tag</th>\n",
       "      <th>channel_link_0</th>\n",
       "    </tr>\n",
       "  </thead>\n",
       "  <tbody>\n",
       "    <tr>\n",
       "      <td>0</td>\n",
       "      <td>Automatic Baseball Commentary Generation Using...</td>\n",
       "      <td>4 visualizações</td>\n",
       "      <td>2020-03-26</td>\n",
       "      <td>Pessoas e blogs</td>\n",
       "      <td>Automatic Baseball Commentary Generation Using...</td>\n",
       "      <td>BYEONGJO KIM\\n\\n\\n\\n\\n\\n\\n\\n\\n\\n\\n\\n\\n\\nCarreg...</td>\n",
       "      <td>4 visualizações\\n\\n\\n\\n\\n\\n\\n\\n0\\n\\nGostou des...</td>\n",
       "      <td>https://i.ytimg.com/vi/SQX4SzzBg0s/hqdefault.jpg</td>\n",
       "      <td>480</td>\n",
       "      <td>360</td>\n",
       "      <td>Automatic Baseball Commentary Generation Using...</td>\n",
       "      <td>640.0</td>\n",
       "      <td>360.0</td>\n",
       "      <td>NaN</td>\n",
       "      <td>/channel/UCnE5vTYow72tgutLGRsDZnQ</td>\n",
       "    </tr>\n",
       "    <tr>\n",
       "      <td>1</td>\n",
       "      <td>Advanced Topics in CNN &amp; RNN | Deep Learning T...</td>\n",
       "      <td>20 visualizações</td>\n",
       "      <td>2020-03-26</td>\n",
       "      <td>Educação</td>\n",
       "      <td>Advanced Topics in CNN &amp; RNN | Deep Learning T...</td>\n",
       "      <td>Sridhar Swaminathan\\n\\n\\n\\n\\n\\n\\n\\n\\n\\n\\n\\n\\n\\...</td>\n",
       "      <td>20 visualizações\\n\\n\\n\\n\\n\\n\\n\\n2\\n\\nGostou de...</td>\n",
       "      <td>https://i.ytimg.com/vi/aL0aX0sL-PE/maxresdefau...</td>\n",
       "      <td>1280</td>\n",
       "      <td>720</td>\n",
       "      <td>In this video, I cover the following topics. 1...</td>\n",
       "      <td>1280.0</td>\n",
       "      <td>720.0</td>\n",
       "      <td>RNN</td>\n",
       "      <td>/channel/UC2YVnH6aMky1SMdmlo5S9-A</td>\n",
       "    </tr>\n",
       "  </tbody>\n",
       "</table>\n",
       "</div>"
      ],
      "text/plain": [
       "                                         watch-title  watch-view-count  \\\n",
       "0  Automatic Baseball Commentary Generation Using...   4 visualizações   \n",
       "1  Advanced Topics in CNN & RNN | Deep Learning T...  20 visualizações   \n",
       "\n",
       "  watch-time-text content_watch-info-tag-list  \\\n",
       "0      2020-03-26             Pessoas e blogs   \n",
       "1      2020-03-26                    Educação   \n",
       "\n",
       "                                     watch7-headline  \\\n",
       "0  Automatic Baseball Commentary Generation Using...   \n",
       "1  Advanced Topics in CNN & RNN | Deep Learning T...   \n",
       "\n",
       "                                  watch7-user-header  \\\n",
       "0  BYEONGJO KIM\\n\\n\\n\\n\\n\\n\\n\\n\\n\\n\\n\\n\\n\\nCarreg...   \n",
       "1  Sridhar Swaminathan\\n\\n\\n\\n\\n\\n\\n\\n\\n\\n\\n\\n\\n\\...   \n",
       "\n",
       "                            watch8-sentiment-actions  \\\n",
       "0  4 visualizações\\n\\n\\n\\n\\n\\n\\n\\n0\\n\\nGostou des...   \n",
       "1  20 visualizações\\n\\n\\n\\n\\n\\n\\n\\n2\\n\\nGostou de...   \n",
       "\n",
       "                                            og:image  og:image:width  \\\n",
       "0   https://i.ytimg.com/vi/SQX4SzzBg0s/hqdefault.jpg             480   \n",
       "1  https://i.ytimg.com/vi/aL0aX0sL-PE/maxresdefau...            1280   \n",
       "\n",
       "   og:image:height                                     og:description  \\\n",
       "0              360  Automatic Baseball Commentary Generation Using...   \n",
       "1              720  In this video, I cover the following topics. 1...   \n",
       "\n",
       "   og:video:width  og:video:height og:video:tag  \\\n",
       "0           640.0            360.0          NaN   \n",
       "1          1280.0            720.0          RNN   \n",
       "\n",
       "                      channel_link_0  \n",
       "0  /channel/UCnE5vTYow72tgutLGRsDZnQ  \n",
       "1  /channel/UC2YVnH6aMky1SMdmlo5S9-A  "
      ]
     },
     "execution_count": 10,
     "metadata": {},
     "output_type": "execute_result"
    }
   ],
   "source": [
    "df_filtered.head(2)"
   ]
  },
  {
   "cell_type": "code",
   "execution_count": 11,
   "metadata": {},
   "outputs": [],
   "source": [
    "df_filtered['watch-view-count'] = df_filtered['watch-view-count'].str.extract(\n",
    "    r\"(\\d+\\.?\\d*)\", expand=False).str.replace(\".\", \"\").fillna(0).astype(int)"
   ]
  },
  {
   "cell_type": "code",
   "execution_count": 12,
   "metadata": {},
   "outputs": [
    {
     "data": {
      "text/html": [
       "<div>\n",
       "<style scoped>\n",
       "    .dataframe tbody tr th:only-of-type {\n",
       "        vertical-align: middle;\n",
       "    }\n",
       "\n",
       "    .dataframe tbody tr th {\n",
       "        vertical-align: top;\n",
       "    }\n",
       "\n",
       "    .dataframe thead th {\n",
       "        text-align: right;\n",
       "    }\n",
       "</style>\n",
       "<table border=\"1\" class=\"dataframe\">\n",
       "  <thead>\n",
       "    <tr style=\"text-align: right;\">\n",
       "      <th></th>\n",
       "      <th>watch-title</th>\n",
       "      <th>watch-view-count</th>\n",
       "      <th>watch-time-text</th>\n",
       "      <th>content_watch-info-tag-list</th>\n",
       "      <th>watch7-headline</th>\n",
       "      <th>watch7-user-header</th>\n",
       "      <th>watch8-sentiment-actions</th>\n",
       "      <th>og:image</th>\n",
       "      <th>og:image:width</th>\n",
       "      <th>og:image:height</th>\n",
       "      <th>og:description</th>\n",
       "      <th>og:video:width</th>\n",
       "      <th>og:video:height</th>\n",
       "      <th>og:video:tag</th>\n",
       "      <th>channel_link_0</th>\n",
       "    </tr>\n",
       "  </thead>\n",
       "  <tbody>\n",
       "    <tr>\n",
       "      <td>0</td>\n",
       "      <td>Automatic Baseball Commentary Generation Using...</td>\n",
       "      <td>4</td>\n",
       "      <td>2020-03-26</td>\n",
       "      <td>Pessoas e blogs</td>\n",
       "      <td>Automatic Baseball Commentary Generation Using...</td>\n",
       "      <td>BYEONGJO KIM\\n\\n\\n\\n\\n\\n\\n\\n\\n\\n\\n\\n\\n\\nCarreg...</td>\n",
       "      <td>4 visualizações\\n\\n\\n\\n\\n\\n\\n\\n0\\n\\nGostou des...</td>\n",
       "      <td>https://i.ytimg.com/vi/SQX4SzzBg0s/hqdefault.jpg</td>\n",
       "      <td>480</td>\n",
       "      <td>360</td>\n",
       "      <td>Automatic Baseball Commentary Generation Using...</td>\n",
       "      <td>640.0</td>\n",
       "      <td>360.0</td>\n",
       "      <td>NaN</td>\n",
       "      <td>/channel/UCnE5vTYow72tgutLGRsDZnQ</td>\n",
       "    </tr>\n",
       "    <tr>\n",
       "      <td>1</td>\n",
       "      <td>Advanced Topics in CNN &amp; RNN | Deep Learning T...</td>\n",
       "      <td>20</td>\n",
       "      <td>2020-03-26</td>\n",
       "      <td>Educação</td>\n",
       "      <td>Advanced Topics in CNN &amp; RNN | Deep Learning T...</td>\n",
       "      <td>Sridhar Swaminathan\\n\\n\\n\\n\\n\\n\\n\\n\\n\\n\\n\\n\\n\\...</td>\n",
       "      <td>20 visualizações\\n\\n\\n\\n\\n\\n\\n\\n2\\n\\nGostou de...</td>\n",
       "      <td>https://i.ytimg.com/vi/aL0aX0sL-PE/maxresdefau...</td>\n",
       "      <td>1280</td>\n",
       "      <td>720</td>\n",
       "      <td>In this video, I cover the following topics. 1...</td>\n",
       "      <td>1280.0</td>\n",
       "      <td>720.0</td>\n",
       "      <td>RNN</td>\n",
       "      <td>/channel/UC2YVnH6aMky1SMdmlo5S9-A</td>\n",
       "    </tr>\n",
       "  </tbody>\n",
       "</table>\n",
       "</div>"
      ],
      "text/plain": [
       "                                         watch-title  watch-view-count  \\\n",
       "0  Automatic Baseball Commentary Generation Using...                 4   \n",
       "1  Advanced Topics in CNN & RNN | Deep Learning T...                20   \n",
       "\n",
       "  watch-time-text content_watch-info-tag-list  \\\n",
       "0      2020-03-26             Pessoas e blogs   \n",
       "1      2020-03-26                    Educação   \n",
       "\n",
       "                                     watch7-headline  \\\n",
       "0  Automatic Baseball Commentary Generation Using...   \n",
       "1  Advanced Topics in CNN & RNN | Deep Learning T...   \n",
       "\n",
       "                                  watch7-user-header  \\\n",
       "0  BYEONGJO KIM\\n\\n\\n\\n\\n\\n\\n\\n\\n\\n\\n\\n\\n\\nCarreg...   \n",
       "1  Sridhar Swaminathan\\n\\n\\n\\n\\n\\n\\n\\n\\n\\n\\n\\n\\n\\...   \n",
       "\n",
       "                            watch8-sentiment-actions  \\\n",
       "0  4 visualizações\\n\\n\\n\\n\\n\\n\\n\\n0\\n\\nGostou des...   \n",
       "1  20 visualizações\\n\\n\\n\\n\\n\\n\\n\\n2\\n\\nGostou de...   \n",
       "\n",
       "                                            og:image  og:image:width  \\\n",
       "0   https://i.ytimg.com/vi/SQX4SzzBg0s/hqdefault.jpg             480   \n",
       "1  https://i.ytimg.com/vi/aL0aX0sL-PE/maxresdefau...            1280   \n",
       "\n",
       "   og:image:height                                     og:description  \\\n",
       "0              360  Automatic Baseball Commentary Generation Using...   \n",
       "1              720  In this video, I cover the following topics. 1...   \n",
       "\n",
       "   og:video:width  og:video:height og:video:tag  \\\n",
       "0           640.0            360.0          NaN   \n",
       "1          1280.0            720.0          RNN   \n",
       "\n",
       "                      channel_link_0  \n",
       "0  /channel/UCnE5vTYow72tgutLGRsDZnQ  \n",
       "1  /channel/UC2YVnH6aMky1SMdmlo5S9-A  "
      ]
     },
     "execution_count": 12,
     "metadata": {},
     "output_type": "execute_result"
    }
   ],
   "source": [
    "df_filtered.head(2)"
   ]
  },
  {
   "cell_type": "code",
   "execution_count": 13,
   "metadata": {},
   "outputs": [],
   "source": [
    "df_filtered['days_published'] = (pd.to_datetime('today') -\n",
    "                                 df_filtered['watch-time-text']).dt.days + 1"
   ]
  },
  {
   "cell_type": "code",
   "execution_count": 14,
   "metadata": {},
   "outputs": [
    {
     "data": {
      "text/plain": [
       "count    828.000000\n",
       "mean     140.393720\n",
       "std      176.019702\n",
       "min        5.000000\n",
       "25%       10.000000\n",
       "50%       44.500000\n",
       "75%      241.250000\n",
       "max      659.000000\n",
       "Name: days_published, dtype: float64"
      ]
     },
     "execution_count": 14,
     "metadata": {},
     "output_type": "execute_result"
    }
   ],
   "source": [
    "df_filtered['days_published'].describe()"
   ]
  },
  {
   "cell_type": "code",
   "execution_count": 15,
   "metadata": {},
   "outputs": [],
   "source": [
    "df_filtered['view_per_day'] = df_filtered['watch-view-count'] // df_filtered[\n",
    "    'days_published']"
   ]
  },
  {
   "cell_type": "code",
   "execution_count": 16,
   "metadata": {},
   "outputs": [
    {
     "data": {
      "text/plain": [
       "<matplotlib.axes._subplots.AxesSubplot at 0x121a23cd0>"
      ]
     },
     "execution_count": 16,
     "metadata": {},
     "output_type": "execute_result"
    },
    {
     "data": {
      "image/png": "[encoded data removed]",
      "text/plain": [
       "<Figure size 432x288 with 1 Axes>"
      ]
     },
     "metadata": {
      "needs_background": "light"
     },
     "output_type": "display_data"
    }
   ],
   "source": [
    "df_filtered['view_per_day'].hist(bins=100)"
   ]
  },
  {
   "cell_type": "code",
   "execution_count": 17,
   "metadata": {},
   "outputs": [
    {
     "data": {
      "text/plain": [
       "<matplotlib.axes._subplots.AxesSubplot at 0x121a31a10>"
      ]
     },
     "execution_count": 17,
     "metadata": {},
     "output_type": "execute_result"
    },
    {
     "data": {
      "image/png": "[encoded data removed]",
      "text/plain": [
       "<Figure size 1152x576 with 1 Axes>"
      ]
     },
     "metadata": {
      "needs_background": "light"
     },
     "output_type": "display_data"
    }
   ],
   "source": [
    "df_filtered['watch-time-text'].value_counts().plot(figsize=(16, 8))"
   ]
  },
  {
   "cell_type": "code",
   "execution_count": 18,
   "metadata": {},
   "outputs": [],
   "source": [
    "df_filtered['like'] = df_filtered['watch8-sentiment-actions'].str.extract(\n",
    "    r\"\\n(\\d+)\").fillna(0).astype(int)"
   ]
  },
  {
   "cell_type": "code",
   "execution_count": 19,
   "metadata": {},
   "outputs": [
    {
     "data": {
      "text/plain": [
       "count    828.000000\n",
       "mean     104.527778\n",
       "std      216.977206\n",
       "min        0.000000\n",
       "25%        2.000000\n",
       "50%        6.000000\n",
       "75%       49.250000\n",
       "max      990.000000\n",
       "Name: like, dtype: float64"
      ]
     },
     "execution_count": 19,
     "metadata": {},
     "output_type": "execute_result"
    }
   ],
   "source": [
    "df_filtered['like'].describe()"
   ]
  },
  {
   "cell_type": "code",
   "execution_count": 20,
   "metadata": {},
   "outputs": [],
   "source": [
    "df_likes = df_filtered['watch8-sentiment-actions'].str.findall(r\"\\n(\\d+)\\n\")\n",
    "df_likes = df_likes.apply(lambda x: (0, 0) if type(x) != list or len(x) != 3\n",
    "                          else (int(x[0]), int(x[2])))\n",
    "df_likes = pd.DataFrame(df_likes.tolist(), columns=['likes', 'dislikes'])"
   ]
  },
  {
   "cell_type": "code",
   "execution_count": 21,
   "metadata": {},
   "outputs": [],
   "source": [
    "df_filtered = df_filtered.reset_index()"
   ]
  },
  {
   "cell_type": "code",
   "execution_count": 22,
   "metadata": {},
   "outputs": [],
   "source": [
    "df_filtered['likes'] = df_likes['likes']\n",
    "df_filtered['dislikes'] = df_likes['dislikes']"
   ]
  },
  {
   "cell_type": "code",
   "execution_count": 23,
   "metadata": {},
   "outputs": [
    {
     "data": {
      "text/plain": [
       "count    828.000000\n",
       "mean      98.136473\n",
       "std      217.685332\n",
       "min        0.000000\n",
       "25%        0.000000\n",
       "50%        0.000000\n",
       "75%       33.000000\n",
       "max      990.000000\n",
       "Name: likes, dtype: float64"
      ]
     },
     "execution_count": 23,
     "metadata": {},
     "output_type": "execute_result"
    }
   ],
   "source": [
    "df_filtered['likes'].describe()"
   ]
  },
  {
   "cell_type": "code",
   "execution_count": 24,
   "metadata": {},
   "outputs": [
    {
     "data": {
      "text/plain": [
       "count    828.000000\n",
       "mean       4.264493\n",
       "std       23.908256\n",
       "min        0.000000\n",
       "25%        0.000000\n",
       "50%        0.000000\n",
       "75%        0.000000\n",
       "max      503.000000\n",
       "Name: dislikes, dtype: float64"
      ]
     },
     "execution_count": 24,
     "metadata": {},
     "output_type": "execute_result"
    }
   ],
   "source": [
    "df_filtered['dislikes'].describe()"
   ]
  },
  {
   "cell_type": "code",
   "execution_count": 25,
   "metadata": {},
   "outputs": [],
   "source": [
    "df_filtered['target'] = (df_filtered['likes'] >= df_filtered['likes'].quantile(\n",
    "    0.75)) & (df_filtered['likes'] >= df_filtered['dislikes'] * 3)"
   ]
  },
  {
   "cell_type": "code",
   "execution_count": 26,
   "metadata": {},
   "outputs": [
    {
     "data": {
      "text/plain": [
       "False    626\n",
       "True     202\n",
       "Name: target, dtype: int64"
      ]
     },
     "execution_count": 26,
     "metadata": {},
     "output_type": "execute_result"
    }
   ],
   "source": [
    "df_filtered['target'].value_counts()"
   ]
  },
  {
   "cell_type": "code",
   "execution_count": 27,
   "metadata": {},
   "outputs": [],
   "source": [
    "X = df_filtered[['watch-view-count', 'view_per_day']]\n",
    "y = df_filtered[['target']]\n",
    "X_train, X_test, y_train, y_test = train_test_split(X,\n",
    "                                                    y,\n",
    "                                                    test_size=0.15,\n",
    "                                                    random_state=42)"
   ]
  },
  {
   "cell_type": "code",
   "execution_count": 28,
   "metadata": {},
   "outputs": [],
   "source": [
    "model = DecisionTreeClassifier(random_state=0,\n",
    "                               max_depth=2,\n",
    "                               class_weight='balanced')"
   ]
  },
  {
   "cell_type": "code",
   "execution_count": 29,
   "metadata": {},
   "outputs": [
    {
     "data": {
      "text/plain": [
       "DecisionTreeClassifier(class_weight='balanced', criterion='gini', max_depth=2,\n",
       "                       max_features=None, max_leaf_nodes=None,\n",
       "                       min_impurity_decrease=0.0, min_impurity_split=None,\n",
       "                       min_samples_leaf=1, min_samples_split=2,\n",
       "                       min_weight_fraction_leaf=0.0, presort=False,\n",
       "                       random_state=0, splitter='best')"
      ]
     },
     "execution_count": 29,
     "metadata": {},
     "output_type": "execute_result"
    }
   ],
   "source": [
    "model.fit(X_train, y_train)"
   ]
  },
  {
   "cell_type": "code",
   "execution_count": 30,
   "metadata": {},
   "outputs": [
    {
     "name": "stdout",
     "output_type": "stream",
     "text": [
      "AVG precision: 0.5749005602240895\n",
      "ROC AUC: 0.8353968253968254\n"
     ]
    }
   ],
   "source": [
    "predict = model.predict_proba(X_test)\n",
    "print(f'AVG precision: {average_precision_score(y_test, predict[:, 1])}')\n",
    "print(f'ROC AUC: {roc_auc_score(y_test, predict[:, 1])}')"
   ]
  },
  {
   "cell_type": "code",
   "execution_count": 31,
   "metadata": {},
   "outputs": [
    {
     "data": {
      "text/plain": [
       "[Text(446.4, 453.0, 'watch-view-count <= 52916.5\\ngini = 0.5\\nsamples = 703\\nvalue = [351.5, 351.5]'),\n",
       " Text(223.2, 271.8, 'watch-view-count <= 924.0\\ngini = 0.426\\nsamples = 391\\nvalue = [150.83, 338.871]'),\n",
       " Text(111.6, 90.59999999999997, 'gini = 0.156\\nsamples = 142\\nvalue = [90.498, 8.419]'),\n",
       " Text(334.79999999999995, 90.59999999999997, 'gini = 0.261\\nsamples = 249\\nvalue = [60.332, 330.452]'),\n",
       " Text(669.5999999999999, 271.8, 'view_per_day <= 327.5\\ngini = 0.111\\nsamples = 312\\nvalue = [200.67, 12.629]'),\n",
       " Text(558.0, 90.59999999999997, 'gini = 0.409\\nsamples = 45\\nvalue = [26.231, 10.524]'),\n",
       " Text(781.1999999999999, 90.59999999999997, 'gini = 0.024\\nsamples = 267\\nvalue = [174.438, 2.105]')]"
      ]
     },
     "execution_count": 31,
     "metadata": {},
     "output_type": "execute_result"
    },
    {
     "data": {
      "image/png": "[encoded data removed]",
      "text/plain": [
       "<Figure size 1152x720 with 1 Axes>"
      ]
     },
     "metadata": {
      "needs_background": "light"
     },
     "output_type": "display_data"
    }
   ],
   "source": [
    "fig, ax = plt.subplots(1, 1, figsize=(16, 10))\n",
    "plot_tree(model, ax=ax, feature_names=X_train.columns)"
   ]
  },
  {
   "cell_type": "code",
   "execution_count": 32,
   "metadata": {},
   "outputs": [],
   "source": [
    "tfidf = TfidfVectorizer(min_df=2)\n",
    "matriz_words = tfidf.fit_transform(df_filtered['watch-title'])"
   ]
  },
  {
   "cell_type": "code",
   "execution_count": 33,
   "metadata": {},
   "outputs": [],
   "source": [
    "X = hstack([df_filtered[['watch-view-count', 'view_per_day']], matriz_words])\n",
    "y = df_filtered[['target']]\n",
    "X_train, X_test, y_train, y_test = train_test_split(X,\n",
    "                                                    y,\n",
    "                                                    test_size=0.15,\n",
    "                                                    random_state=42)"
   ]
  },
  {
   "cell_type": "code",
   "execution_count": 34,
   "metadata": {},
   "outputs": [],
   "source": [
    "model_rfc = RandomForestClassifier(n_estimators=1000, class_weight='balanced', n_jobs=6, random_state=0)"
   ]
  },
  {
   "cell_type": "code",
   "execution_count": 35,
   "metadata": {},
   "outputs": [
    {
     "name": "stderr",
     "output_type": "stream",
     "text": [
      "/usr/local/lib/python3.7/site-packages/ipykernel_launcher.py:1: DataConversionWarning: A column-vector y was passed when a 1d array was expected. Please change the shape of y to (n_samples,), for example using ravel().\n",
      "  \"\"\"Entry point for launching an IPython kernel.\n"
     ]
    },
    {
     "data": {
      "text/plain": [
       "RandomForestClassifier(bootstrap=True, class_weight='balanced',\n",
       "                       criterion='gini', max_depth=None, max_features='auto',\n",
       "                       max_leaf_nodes=None, min_impurity_decrease=0.0,\n",
       "                       min_impurity_split=None, min_samples_leaf=1,\n",
       "                       min_samples_split=2, min_weight_fraction_leaf=0.0,\n",
       "                       n_estimators=1000, n_jobs=6, oob_score=False,\n",
       "                       random_state=0, verbose=0, warm_start=False)"
      ]
     },
     "execution_count": 35,
     "metadata": {},
     "output_type": "execute_result"
    }
   ],
   "source": [
    "model_rfc.fit(X_train, y_train)"
   ]
  },
  {
   "cell_type": "code",
   "execution_count": 36,
   "metadata": {},
   "outputs": [
    {
     "name": "stdout",
     "output_type": "stream",
     "text": [
      "AVG precision: 0.9029106499852565\n",
      "ROC AUC: 0.9528571428571428\n"
     ]
    }
   ],
   "source": [
    "predict = model_rfc.predict_proba(X_test)\n",
    "print(f'AVG precision: {average_precision_score(y_test, predict[:, 1])}')\n",
    "print(f'ROC AUC: {roc_auc_score(y_test, predict[:, 1])}')"
   ]
  },
  {
   "cell_type": "markdown",
   "metadata": {},
   "source": [
    "## Active Learning"
   ]
  },
  {
   "cell_type": "markdown",
   "metadata": {},
   "source": [
    "Rotulamos apenas uma parte do dataset, treinamos a rede com esse dataset. Pegamos a outra parte do dataset que não foi rotulada, coloca na rede e as previsões que a rede ficar confusa (proximo a 50%) rotulamos na mão novamente, assim ganhamos o beneficio de diminuir a rotulação."
   ]
  },
  {
   "cell_type": "code",
   "execution_count": 58,
   "metadata": {},
   "outputs": [],
   "source": [
    "from skopt import forest_minimize\n",
    "from sklearn.preprocessing import MaxAbsScaler, StandardScaler\n",
    "from scipy.sparse import csr_matrix"
   ]
  },
  {
   "cell_type": "code",
   "execution_count": 59,
   "metadata": {},
   "outputs": [],
   "source": [
    "maxAbs = MaxAbsScaler()\n",
    "stdScaler = StandardScaler()\n",
    "X_abs = maxAbs.fit_transform(df_filtered[['watch-view-count', 'view_per_day']])\n",
    "X_abs = stdScaler.fit_transform(df_filtered[['watch-view-count', 'view_per_day']])\n",
    "y = df_filtered[['target']]"
   ]
  },
  {
   "cell_type": "code",
   "execution_count": 65,
   "metadata": {},
   "outputs": [
    {
     "name": "stdout",
     "output_type": "stream",
     "text": [
      "Iteration No: 1 started. Evaluating function at random point.\n",
      "[5, 771, 1, 3]\n"
     ]
    },
    {
     "name": "stderr",
     "output_type": "stream",
     "text": [
      "/usr/local/lib/python3.7/site-packages/ipykernel_launcher.py:25: DataConversionWarning: A column-vector y was passed when a 1d array was expected. Please change the shape of y to (n_samples,), for example using ravel().\n"
     ]
    },
    {
     "name": "stdout",
     "output_type": "stream",
     "text": [
      "0.8882539682539683\n",
      "Iteration No: 1 ended. Evaluation done at random point.\n",
      "Time taken: 1.5095\n",
      "Function value obtained: -0.7977\n",
      "Current minimum: -0.7977\n",
      "Iteration No: 2 started. Evaluating function at random point.\n",
      "[8, 108, 5, 3]\n"
     ]
    },
    {
     "name": "stderr",
     "output_type": "stream",
     "text": [
      "/usr/local/lib/python3.7/site-packages/ipykernel_launcher.py:25: DataConversionWarning: A column-vector y was passed when a 1d array was expected. Please change the shape of y to (n_samples,), for example using ravel().\n"
     ]
    },
    {
     "name": "stdout",
     "output_type": "stream",
     "text": [
      "0.9422222222222222\n",
      "Iteration No: 2 ended. Evaluation done at random point.\n",
      "Time taken: 0.4291\n",
      "Function value obtained: -0.8720\n",
      "Current minimum: -0.8720\n",
      "Iteration No: 3 started. Evaluating function at random point.\n",
      "[9, 101, 2, 1]\n"
     ]
    },
    {
     "name": "stderr",
     "output_type": "stream",
     "text": [
      "/usr/local/lib/python3.7/site-packages/ipykernel_launcher.py:25: DataConversionWarning: A column-vector y was passed when a 1d array was expected. Please change the shape of y to (n_samples,), for example using ravel().\n"
     ]
    },
    {
     "name": "stdout",
     "output_type": "stream",
     "text": [
      "0.939047619047619\n",
      "Iteration No: 3 ended. Evaluation done at random point.\n",
      "Time taken: 0.3871\n",
      "Function value obtained: -0.8904\n",
      "Current minimum: -0.8904\n",
      "Iteration No: 4 started. Evaluating function at random point.\n",
      "[6, 600, 2, 3]\n"
     ]
    },
    {
     "name": "stderr",
     "output_type": "stream",
     "text": [
      "/usr/local/lib/python3.7/site-packages/ipykernel_launcher.py:25: DataConversionWarning: A column-vector y was passed when a 1d array was expected. Please change the shape of y to (n_samples,), for example using ravel().\n"
     ]
    },
    {
     "name": "stdout",
     "output_type": "stream",
     "text": [
      "0.9187301587301586\n",
      "Iteration No: 4 ended. Evaluation done at random point.\n",
      "Time taken: 1.2644\n",
      "Function value obtained: -0.8553\n",
      "Current minimum: -0.8904\n",
      "Iteration No: 5 started. Evaluating function at random point.\n",
      "[5, 450, 4, 4]\n"
     ]
    },
    {
     "name": "stderr",
     "output_type": "stream",
     "text": [
      "/usr/local/lib/python3.7/site-packages/ipykernel_launcher.py:25: DataConversionWarning: A column-vector y was passed when a 1d array was expected. Please change the shape of y to (n_samples,), for example using ravel().\n"
     ]
    },
    {
     "name": "stdout",
     "output_type": "stream",
     "text": [
      "0.9355555555555556\n",
      "Iteration No: 5 ended. Evaluation done at random point.\n",
      "Time taken: 0.9953\n",
      "Function value obtained: -0.8690\n",
      "Current minimum: -0.8904\n",
      "Iteration No: 6 started. Evaluating function at random point.\n",
      "[7, 273, 1, 4]\n"
     ]
    },
    {
     "name": "stderr",
     "output_type": "stream",
     "text": [
      "/usr/local/lib/python3.7/site-packages/ipykernel_launcher.py:25: DataConversionWarning: A column-vector y was passed when a 1d array was expected. Please change the shape of y to (n_samples,), for example using ravel().\n"
     ]
    },
    {
     "name": "stdout",
     "output_type": "stream",
     "text": [
      "0.863174603174603\n",
      "Iteration No: 6 ended. Evaluation done at random point.\n",
      "Time taken: 0.8084\n",
      "Function value obtained: -0.7099\n",
      "Current minimum: -0.8904\n",
      "Iteration No: 7 started. Evaluating function at random point.\n",
      "[9, 492, 2, 1]\n"
     ]
    },
    {
     "name": "stderr",
     "output_type": "stream",
     "text": [
      "/usr/local/lib/python3.7/site-packages/ipykernel_launcher.py:25: DataConversionWarning: A column-vector y was passed when a 1d array was expected. Please change the shape of y to (n_samples,), for example using ravel().\n"
     ]
    },
    {
     "name": "stdout",
     "output_type": "stream",
     "text": [
      "0.9473015873015873\n",
      "Iteration No: 7 ended. Evaluation done at random point.\n",
      "Time taken: 1.0344\n",
      "Function value obtained: -0.9035\n",
      "Current minimum: -0.9035\n",
      "Iteration No: 8 started. Evaluating function at random point.\n",
      "[2, 828, 5, 2]\n"
     ]
    },
    {
     "name": "stderr",
     "output_type": "stream",
     "text": [
      "/usr/local/lib/python3.7/site-packages/ipykernel_launcher.py:25: DataConversionWarning: A column-vector y was passed when a 1d array was expected. Please change the shape of y to (n_samples,), for example using ravel().\n"
     ]
    },
    {
     "name": "stdout",
     "output_type": "stream",
     "text": [
      "0.8806349206349207\n",
      "Iteration No: 8 ended. Evaluation done at random point.\n",
      "Time taken: 1.8365\n",
      "Function value obtained: -0.7517\n",
      "Current minimum: -0.9035\n",
      "Iteration No: 9 started. Evaluating function at random point.\n",
      "[1, 491, 3, 5]\n"
     ]
    },
    {
     "name": "stderr",
     "output_type": "stream",
     "text": [
      "/usr/local/lib/python3.7/site-packages/ipykernel_launcher.py:25: DataConversionWarning: A column-vector y was passed when a 1d array was expected. Please change the shape of y to (n_samples,), for example using ravel().\n"
     ]
    },
    {
     "name": "stdout",
     "output_type": "stream",
     "text": [
      "0.8292063492063493\n",
      "Iteration No: 9 ended. Evaluation done at random point.\n",
      "Time taken: 1.1485\n",
      "Function value obtained: -0.5886\n",
      "Current minimum: -0.9035\n",
      "Iteration No: 10 started. Evaluating function at random point.\n",
      "[6, 961, 4, 1]\n"
     ]
    },
    {
     "name": "stderr",
     "output_type": "stream",
     "text": [
      "/usr/local/lib/python3.7/site-packages/ipykernel_launcher.py:25: DataConversionWarning: A column-vector y was passed when a 1d array was expected. Please change the shape of y to (n_samples,), for example using ravel().\n"
     ]
    },
    {
     "name": "stdout",
     "output_type": "stream",
     "text": [
      "0.9476190476190476\n",
      "Iteration No: 10 ended. Evaluation done at random point.\n",
      "Time taken: 2.2317\n",
      "Function value obtained: -0.8941\n",
      "Current minimum: -0.9035\n",
      "Iteration No: 11 started. Evaluating function at random point.\n",
      "[10, 800, 3, 1]\n"
     ]
    },
    {
     "name": "stderr",
     "output_type": "stream",
     "text": [
      "/usr/local/lib/python3.7/site-packages/ipykernel_launcher.py:25: DataConversionWarning: A column-vector y was passed when a 1d array was expected. Please change the shape of y to (n_samples,), for example using ravel().\n"
     ]
    },
    {
     "name": "stdout",
     "output_type": "stream",
     "text": [
      "0.9546031746031746\n",
      "Iteration No: 11 ended. Evaluation done at random point.\n",
      "Time taken: 1.8993\n",
      "Function value obtained: -0.8943\n",
      "Current minimum: -0.9035\n",
      "Iteration No: 12 started. Evaluating function at random point.\n",
      "[10, 672, 5, 4]\n"
     ]
    },
    {
     "name": "stderr",
     "output_type": "stream",
     "text": [
      "/usr/local/lib/python3.7/site-packages/ipykernel_launcher.py:25: DataConversionWarning: A column-vector y was passed when a 1d array was expected. Please change the shape of y to (n_samples,), for example using ravel().\n"
     ]
    },
    {
     "name": "stdout",
     "output_type": "stream",
     "text": [
      "0.947936507936508\n",
      "Iteration No: 12 ended. Evaluation done at random point.\n",
      "Time taken: 1.7775\n",
      "Function value obtained: -0.8757\n",
      "Current minimum: -0.9035\n",
      "Iteration No: 13 started. Evaluating function at random point.\n",
      "[3, 760, 3, 2]\n"
     ]
    },
    {
     "name": "stderr",
     "output_type": "stream",
     "text": [
      "/usr/local/lib/python3.7/site-packages/ipykernel_launcher.py:25: DataConversionWarning: A column-vector y was passed when a 1d array was expected. Please change the shape of y to (n_samples,), for example using ravel().\n"
     ]
    },
    {
     "name": "stdout",
     "output_type": "stream",
     "text": [
      "0.8996825396825396\n",
      "Iteration No: 13 ended. Evaluation done at random point.\n",
      "Time taken: 1.7283\n",
      "Function value obtained: -0.8115\n",
      "Current minimum: -0.9035\n",
      "Iteration No: 14 started. Evaluating function at random point.\n",
      "[1, 803, 1, 2]\n"
     ]
    },
    {
     "name": "stderr",
     "output_type": "stream",
     "text": [
      "/usr/local/lib/python3.7/site-packages/ipykernel_launcher.py:25: DataConversionWarning: A column-vector y was passed when a 1d array was expected. Please change the shape of y to (n_samples,), for example using ravel().\n"
     ]
    },
    {
     "name": "stdout",
     "output_type": "stream",
     "text": [
      "0.846031746031746\n",
      "Iteration No: 14 ended. Evaluation done at random point.\n",
      "Time taken: 1.7453\n",
      "Function value obtained: -0.6230\n",
      "Current minimum: -0.9035\n",
      "Iteration No: 15 started. Evaluating function at random point.\n",
      "[1, 683, 3, 4]\n"
     ]
    },
    {
     "name": "stderr",
     "output_type": "stream",
     "text": [
      "/usr/local/lib/python3.7/site-packages/ipykernel_launcher.py:25: DataConversionWarning: A column-vector y was passed when a 1d array was expected. Please change the shape of y to (n_samples,), for example using ravel().\n"
     ]
    },
    {
     "name": "stdout",
     "output_type": "stream",
     "text": [
      "0.8171428571428572\n",
      "Iteration No: 15 ended. Evaluation done at random point.\n",
      "Time taken: 1.4099\n",
      "Function value obtained: -0.5471\n",
      "Current minimum: -0.9035\n",
      "Iteration No: 16 started. Evaluating function at random point.\n",
      "[8, 604, 3, 2]\n"
     ]
    },
    {
     "name": "stderr",
     "output_type": "stream",
     "text": [
      "/usr/local/lib/python3.7/site-packages/ipykernel_launcher.py:25: DataConversionWarning: A column-vector y was passed when a 1d array was expected. Please change the shape of y to (n_samples,), for example using ravel().\n"
     ]
    },
    {
     "name": "stdout",
     "output_type": "stream",
     "text": [
      "0.9438095238095238\n",
      "Iteration No: 16 ended. Evaluation done at random point.\n",
      "Time taken: 1.2478\n",
      "Function value obtained: -0.8830\n",
      "Current minimum: -0.9035\n",
      "Iteration No: 17 started. Evaluating function at random point.\n",
      "[6, 732, 2, 3]\n"
     ]
    },
    {
     "name": "stderr",
     "output_type": "stream",
     "text": [
      "/usr/local/lib/python3.7/site-packages/ipykernel_launcher.py:25: DataConversionWarning: A column-vector y was passed when a 1d array was expected. Please change the shape of y to (n_samples,), for example using ravel().\n"
     ]
    },
    {
     "name": "stdout",
     "output_type": "stream",
     "text": [
      "0.9193650793650793\n",
      "Iteration No: 17 ended. Evaluation done at random point.\n",
      "Time taken: 1.4006\n",
      "Function value obtained: -0.8571\n",
      "Current minimum: -0.9035\n",
      "Iteration No: 18 started. Evaluating function at random point.\n",
      "[9, 346, 4, 5]\n"
     ]
    },
    {
     "name": "stderr",
     "output_type": "stream",
     "text": [
      "/usr/local/lib/python3.7/site-packages/ipykernel_launcher.py:25: DataConversionWarning: A column-vector y was passed when a 1d array was expected. Please change the shape of y to (n_samples,), for example using ravel().\n"
     ]
    },
    {
     "name": "stdout",
     "output_type": "stream",
     "text": [
      "0.9453968253968253\n",
      "Iteration No: 18 ended. Evaluation done at random point.\n",
      "Time taken: 0.8719\n",
      "Function value obtained: -0.8800\n",
      "Current minimum: -0.9035\n",
      "Iteration No: 19 started. Evaluating function at random point.\n",
      "[6, 790, 5, 2]\n"
     ]
    },
    {
     "name": "stderr",
     "output_type": "stream",
     "text": [
      "/usr/local/lib/python3.7/site-packages/ipykernel_launcher.py:25: DataConversionWarning: A column-vector y was passed when a 1d array was expected. Please change the shape of y to (n_samples,), for example using ravel().\n"
     ]
    },
    {
     "name": "stdout",
     "output_type": "stream",
     "text": [
      "0.9422222222222222\n",
      "Iteration No: 19 ended. Evaluation done at random point.\n",
      "Time taken: 1.7226\n",
      "Function value obtained: -0.8642\n",
      "Current minimum: -0.9035\n",
      "Iteration No: 20 started. Evaluating function at random point.\n",
      "[1, 449, 5, 2]\n"
     ]
    },
    {
     "name": "stderr",
     "output_type": "stream",
     "text": [
      "/usr/local/lib/python3.7/site-packages/ipykernel_launcher.py:25: DataConversionWarning: A column-vector y was passed when a 1d array was expected. Please change the shape of y to (n_samples,), for example using ravel().\n"
     ]
    },
    {
     "name": "stdout",
     "output_type": "stream",
     "text": [
      "0.8095238095238096\n",
      "Iteration No: 20 ended. Evaluation done at random point.\n",
      "Time taken: 1.5101\n",
      "Function value obtained: -0.5528\n",
      "Current minimum: -0.9035\n",
      "Iteration No: 21 started. Searching for the next optimal point.\n",
      "[4, 479, 4, 1]\n"
     ]
    },
    {
     "name": "stderr",
     "output_type": "stream",
     "text": [
      "/usr/local/lib/python3.7/site-packages/ipykernel_launcher.py:25: DataConversionWarning: A column-vector y was passed when a 1d array was expected. Please change the shape of y to (n_samples,), for example using ravel().\n"
     ]
    },
    {
     "name": "stdout",
     "output_type": "stream",
     "text": [
      "0.9406349206349205\n",
      "Iteration No: 21 ended. Search finished for the next optimal point.\n",
      "Time taken: 1.6650\n",
      "Function value obtained: -0.8794\n",
      "Current minimum: -0.9035\n",
      "Iteration No: 22 started. Searching for the next optimal point.\n",
      "[4, 518, 4, 1]\n"
     ]
    },
    {
     "name": "stderr",
     "output_type": "stream",
     "text": [
      "/usr/local/lib/python3.7/site-packages/ipykernel_launcher.py:25: DataConversionWarning: A column-vector y was passed when a 1d array was expected. Please change the shape of y to (n_samples,), for example using ravel().\n"
     ]
    },
    {
     "name": "stdout",
     "output_type": "stream",
     "text": [
      "0.9428571428571428\n",
      "Iteration No: 22 ended. Search finished for the next optimal point.\n",
      "Time taken: 1.8816\n",
      "Function value obtained: -0.8853\n",
      "Current minimum: -0.9035\n",
      "Iteration No: 23 started. Searching for the next optimal point.\n",
      "[3, 115, 4, 1]\n"
     ]
    },
    {
     "name": "stderr",
     "output_type": "stream",
     "text": [
      "/usr/local/lib/python3.7/site-packages/ipykernel_launcher.py:25: DataConversionWarning: A column-vector y was passed when a 1d array was expected. Please change the shape of y to (n_samples,), for example using ravel().\n"
     ]
    },
    {
     "name": "stdout",
     "output_type": "stream",
     "text": [
      "0.9193650793650794\n",
      "Iteration No: 23 ended. Search finished for the next optimal point.\n",
      "Time taken: 1.0673\n",
      "Function value obtained: -0.8549\n",
      "Current minimum: -0.9035\n",
      "Iteration No: 24 started. Searching for the next optimal point.\n",
      "[3, 128, 3, 1]\n"
     ]
    },
    {
     "name": "stderr",
     "output_type": "stream",
     "text": [
      "/usr/local/lib/python3.7/site-packages/ipykernel_launcher.py:25: DataConversionWarning: A column-vector y was passed when a 1d array was expected. Please change the shape of y to (n_samples,), for example using ravel().\n"
     ]
    },
    {
     "name": "stdout",
     "output_type": "stream",
     "text": [
      "0.8996825396825396\n",
      "Iteration No: 24 ended. Search finished for the next optimal point.\n",
      "Time taken: 1.1603\n",
      "Function value obtained: -0.7611\n",
      "Current minimum: -0.9035\n",
      "Iteration No: 25 started. Searching for the next optimal point.\n",
      "[4, 478, 4, 5]\n"
     ]
    },
    {
     "name": "stderr",
     "output_type": "stream",
     "text": [
      "/usr/local/lib/python3.7/site-packages/ipykernel_launcher.py:25: DataConversionWarning: A column-vector y was passed when a 1d array was expected. Please change the shape of y to (n_samples,), for example using ravel().\n"
     ]
    },
    {
     "name": "stdout",
     "output_type": "stream",
     "text": [
      "0.9263492063492064\n",
      "Iteration No: 25 ended. Search finished for the next optimal point.\n",
      "Time taken: 2.1121\n",
      "Function value obtained: -0.8563\n",
      "Current minimum: -0.9035\n",
      "Iteration No: 26 started. Searching for the next optimal point.\n",
      "[10, 330, 1, 4]\n"
     ]
    },
    {
     "name": "stderr",
     "output_type": "stream",
     "text": [
      "/usr/local/lib/python3.7/site-packages/ipykernel_launcher.py:25: DataConversionWarning: A column-vector y was passed when a 1d array was expected. Please change the shape of y to (n_samples,), for example using ravel().\n"
     ]
    },
    {
     "name": "stdout",
     "output_type": "stream",
     "text": [
      "0.8844444444444445\n",
      "Iteration No: 26 ended. Search finished for the next optimal point.\n",
      "Time taken: 2.1844\n",
      "Function value obtained: -0.7753\n",
      "Current minimum: -0.9035\n",
      "Iteration No: 27 started. Searching for the next optimal point.\n",
      "[9, 512, 1, 1]\n"
     ]
    },
    {
     "name": "stderr",
     "output_type": "stream",
     "text": [
      "/usr/local/lib/python3.7/site-packages/ipykernel_launcher.py:25: DataConversionWarning: A column-vector y was passed when a 1d array was expected. Please change the shape of y to (n_samples,), for example using ravel().\n"
     ]
    },
    {
     "name": "stdout",
     "output_type": "stream",
     "text": [
      "0.9174603174603174\n",
      "Iteration No: 27 ended. Search finished for the next optimal point.\n",
      "Time taken: 2.4399\n",
      "Function value obtained: -0.8493\n",
      "Current minimum: -0.9035\n",
      "Iteration No: 28 started. Searching for the next optimal point.\n",
      "[4, 472, 5, 2]\n"
     ]
    },
    {
     "name": "stderr",
     "output_type": "stream",
     "text": [
      "/usr/local/lib/python3.7/site-packages/ipykernel_launcher.py:25: DataConversionWarning: A column-vector y was passed when a 1d array was expected. Please change the shape of y to (n_samples,), for example using ravel().\n"
     ]
    },
    {
     "name": "stdout",
     "output_type": "stream",
     "text": [
      "0.9298412698412698\n",
      "Iteration No: 28 ended. Search finished for the next optimal point.\n",
      "Time taken: 2.0358\n",
      "Function value obtained: -0.8626\n",
      "Current minimum: -0.9035\n",
      "Iteration No: 29 started. Searching for the next optimal point.\n",
      "[4, 450, 5, 4]\n"
     ]
    },
    {
     "name": "stderr",
     "output_type": "stream",
     "text": [
      "/usr/local/lib/python3.7/site-packages/ipykernel_launcher.py:25: DataConversionWarning: A column-vector y was passed when a 1d array was expected. Please change the shape of y to (n_samples,), for example using ravel().\n"
     ]
    },
    {
     "name": "stdout",
     "output_type": "stream",
     "text": [
      "0.932063492063492\n",
      "Iteration No: 29 ended. Search finished for the next optimal point.\n",
      "Time taken: 1.9760\n",
      "Function value obtained: -0.8703\n",
      "Current minimum: -0.9035\n",
      "Iteration No: 30 started. Searching for the next optimal point.\n",
      "[4, 446, 3, 4]\n"
     ]
    },
    {
     "name": "stderr",
     "output_type": "stream",
     "text": [
      "/usr/local/lib/python3.7/site-packages/ipykernel_launcher.py:25: DataConversionWarning: A column-vector y was passed when a 1d array was expected. Please change the shape of y to (n_samples,), for example using ravel().\n"
     ]
    },
    {
     "name": "stdout",
     "output_type": "stream",
     "text": [
      "0.9193650793650794\n",
      "Iteration No: 30 ended. Search finished for the next optimal point.\n",
      "Time taken: 1.9978\n",
      "Function value obtained: -0.8383\n",
      "Current minimum: -0.9035\n",
      "Iteration No: 31 started. Searching for the next optimal point.\n",
      "[5, 224, 5, 1]\n"
     ]
    },
    {
     "name": "stderr",
     "output_type": "stream",
     "text": [
      "/usr/local/lib/python3.7/site-packages/ipykernel_launcher.py:25: DataConversionWarning: A column-vector y was passed when a 1d array was expected. Please change the shape of y to (n_samples,), for example using ravel().\n"
     ]
    },
    {
     "name": "stdout",
     "output_type": "stream",
     "text": [
      "0.9336507936507937\n",
      "Iteration No: 31 ended. Search finished for the next optimal point.\n",
      "Time taken: 1.2363\n",
      "Function value obtained: -0.8650\n",
      "Current minimum: -0.9035\n",
      "Iteration No: 32 started. Searching for the next optimal point.\n",
      "[2, 457, 4, 1]\n"
     ]
    },
    {
     "name": "stderr",
     "output_type": "stream",
     "text": [
      "/usr/local/lib/python3.7/site-packages/ipykernel_launcher.py:25: DataConversionWarning: A column-vector y was passed when a 1d array was expected. Please change the shape of y to (n_samples,), for example using ravel().\n"
     ]
    },
    {
     "name": "stdout",
     "output_type": "stream",
     "text": [
      "0.9123809523809524\n",
      "Iteration No: 32 ended. Search finished for the next optimal point.\n",
      "Time taken: 1.5568\n",
      "Function value obtained: -0.8180\n",
      "Current minimum: -0.9035\n",
      "Iteration No: 33 started. Searching for the next optimal point.\n",
      "[2, 487, 4, 1]\n"
     ]
    },
    {
     "name": "stderr",
     "output_type": "stream",
     "text": [
      "/usr/local/lib/python3.7/site-packages/ipykernel_launcher.py:25: DataConversionWarning: A column-vector y was passed when a 1d array was expected. Please change the shape of y to (n_samples,), for example using ravel().\n"
     ]
    },
    {
     "name": "stdout",
     "output_type": "stream",
     "text": [
      "0.9066666666666667\n",
      "Iteration No: 33 ended. Search finished for the next optimal point.\n",
      "Time taken: 1.7810\n",
      "Function value obtained: -0.8011\n",
      "Current minimum: -0.9035\n",
      "Iteration No: 34 started. Searching for the next optimal point.\n",
      "[9, 486, 1, 1]\n"
     ]
    },
    {
     "name": "stderr",
     "output_type": "stream",
     "text": [
      "/usr/local/lib/python3.7/site-packages/ipykernel_launcher.py:25: DataConversionWarning: A column-vector y was passed when a 1d array was expected. Please change the shape of y to (n_samples,), for example using ravel().\n"
     ]
    },
    {
     "name": "stdout",
     "output_type": "stream",
     "text": [
      "0.9184126984126985\n",
      "Iteration No: 34 ended. Search finished for the next optimal point.\n",
      "Time taken: 1.7355\n",
      "Function value obtained: -0.8473\n",
      "Current minimum: -0.9035\n",
      "Iteration No: 35 started. Searching for the next optimal point.\n",
      "[9, 320, 3, 4]\n"
     ]
    },
    {
     "name": "stderr",
     "output_type": "stream",
     "text": [
      "/usr/local/lib/python3.7/site-packages/ipykernel_launcher.py:25: DataConversionWarning: A column-vector y was passed when a 1d array was expected. Please change the shape of y to (n_samples,), for example using ravel().\n"
     ]
    },
    {
     "name": "stdout",
     "output_type": "stream",
     "text": [
      "0.9377777777777777\n",
      "Iteration No: 35 ended. Search finished for the next optimal point.\n",
      "Time taken: 1.3837\n",
      "Function value obtained: -0.8690\n",
      "Current minimum: -0.9035\n",
      "Iteration No: 36 started. Searching for the next optimal point.\n",
      "[5, 590, 4, 2]\n"
     ]
    },
    {
     "name": "stderr",
     "output_type": "stream",
     "text": [
      "/usr/local/lib/python3.7/site-packages/ipykernel_launcher.py:25: DataConversionWarning: A column-vector y was passed when a 1d array was expected. Please change the shape of y to (n_samples,), for example using ravel().\n"
     ]
    },
    {
     "name": "stdout",
     "output_type": "stream",
     "text": [
      "0.939047619047619\n",
      "Iteration No: 36 ended. Search finished for the next optimal point.\n",
      "Time taken: 1.9265\n",
      "Function value obtained: -0.8870\n",
      "Current minimum: -0.9035\n",
      "Iteration No: 37 started. Searching for the next optimal point.\n",
      "[7, 108, 2, 2]\n"
     ]
    },
    {
     "name": "stderr",
     "output_type": "stream",
     "text": [
      "/usr/local/lib/python3.7/site-packages/ipykernel_launcher.py:25: DataConversionWarning: A column-vector y was passed when a 1d array was expected. Please change the shape of y to (n_samples,), for example using ravel().\n"
     ]
    },
    {
     "name": "stdout",
     "output_type": "stream",
     "text": [
      "0.9311111111111111\n",
      "Iteration No: 37 ended. Search finished for the next optimal point.\n",
      "Time taken: 0.9866\n",
      "Function value obtained: -0.8583\n",
      "Current minimum: -0.9035\n",
      "Iteration No: 38 started. Searching for the next optimal point.\n",
      "[7, 522, 3, 5]\n"
     ]
    },
    {
     "name": "stderr",
     "output_type": "stream",
     "text": [
      "/usr/local/lib/python3.7/site-packages/ipykernel_launcher.py:25: DataConversionWarning: A column-vector y was passed when a 1d array was expected. Please change the shape of y to (n_samples,), for example using ravel().\n"
     ]
    },
    {
     "name": "stdout",
     "output_type": "stream",
     "text": [
      "0.9263492063492063\n",
      "Iteration No: 38 ended. Search finished for the next optimal point.\n",
      "Time taken: 2.0802\n",
      "Function value obtained: -0.8460\n",
      "Current minimum: -0.9035\n",
      "Iteration No: 39 started. Searching for the next optimal point.\n",
      "[3, 501, 4, 3]\n"
     ]
    },
    {
     "name": "stderr",
     "output_type": "stream",
     "text": [
      "/usr/local/lib/python3.7/site-packages/ipykernel_launcher.py:25: DataConversionWarning: A column-vector y was passed when a 1d array was expected. Please change the shape of y to (n_samples,), for example using ravel().\n"
     ]
    },
    {
     "name": "stdout",
     "output_type": "stream",
     "text": [
      "0.9088888888888889\n",
      "Iteration No: 39 ended. Search finished for the next optimal point.\n",
      "Time taken: 1.8546\n",
      "Function value obtained: -0.8168\n",
      "Current minimum: -0.9035\n",
      "Iteration No: 40 started. Searching for the next optimal point.\n",
      "[7, 344, 2, 1]\n"
     ]
    },
    {
     "name": "stderr",
     "output_type": "stream",
     "text": [
      "/usr/local/lib/python3.7/site-packages/ipykernel_launcher.py:25: DataConversionWarning: A column-vector y was passed when a 1d array was expected. Please change the shape of y to (n_samples,), for example using ravel().\n"
     ]
    },
    {
     "name": "stdout",
     "output_type": "stream",
     "text": [
      "0.9412698412698413\n",
      "Iteration No: 40 ended. Search finished for the next optimal point.\n",
      "Time taken: 1.5292\n",
      "Function value obtained: -0.8811\n",
      "Current minimum: -0.9035\n",
      "Iteration No: 41 started. Searching for the next optimal point.\n",
      "[4, 262, 5, 2]\n"
     ]
    },
    {
     "name": "stderr",
     "output_type": "stream",
     "text": [
      "/usr/local/lib/python3.7/site-packages/ipykernel_launcher.py:25: DataConversionWarning: A column-vector y was passed when a 1d array was expected. Please change the shape of y to (n_samples,), for example using ravel().\n"
     ]
    },
    {
     "name": "stdout",
     "output_type": "stream",
     "text": [
      "0.9361904761904761\n",
      "Iteration No: 41 ended. Search finished for the next optimal point.\n",
      "Time taken: 1.4836\n",
      "Function value obtained: -0.8734\n",
      "Current minimum: -0.9035\n",
      "Iteration No: 42 started. Searching for the next optimal point.\n",
      "[4, 444, 5, 2]\n"
     ]
    },
    {
     "name": "stderr",
     "output_type": "stream",
     "text": [
      "/usr/local/lib/python3.7/site-packages/ipykernel_launcher.py:25: DataConversionWarning: A column-vector y was passed when a 1d array was expected. Please change the shape of y to (n_samples,), for example using ravel().\n"
     ]
    },
    {
     "name": "stdout",
     "output_type": "stream",
     "text": [
      "0.9307936507936507\n",
      "Iteration No: 42 ended. Search finished for the next optimal point.\n",
      "Time taken: 1.6992\n",
      "Function value obtained: -0.8637\n",
      "Current minimum: -0.9035\n",
      "Iteration No: 43 started. Searching for the next optimal point.\n",
      "[7, 495, 1, 1]\n"
     ]
    },
    {
     "name": "stderr",
     "output_type": "stream",
     "text": [
      "/usr/local/lib/python3.7/site-packages/ipykernel_launcher.py:25: DataConversionWarning: A column-vector y was passed when a 1d array was expected. Please change the shape of y to (n_samples,), for example using ravel().\n"
     ]
    },
    {
     "name": "stdout",
     "output_type": "stream",
     "text": [
      "0.9222222222222223\n",
      "Iteration No: 43 ended. Search finished for the next optimal point.\n",
      "Time taken: 1.7807\n",
      "Function value obtained: -0.8474\n",
      "Current minimum: -0.9035\n",
      "Iteration No: 44 started. Searching for the next optimal point.\n",
      "[4, 430, 3, 2]\n"
     ]
    },
    {
     "name": "stderr",
     "output_type": "stream",
     "text": [
      "/usr/local/lib/python3.7/site-packages/ipykernel_launcher.py:25: DataConversionWarning: A column-vector y was passed when a 1d array was expected. Please change the shape of y to (n_samples,), for example using ravel().\n"
     ]
    },
    {
     "name": "stdout",
     "output_type": "stream",
     "text": [
      "0.906984126984127\n",
      "Iteration No: 44 ended. Search finished for the next optimal point.\n",
      "Time taken: 1.8942\n",
      "Function value obtained: -0.8202\n",
      "Current minimum: -0.9035\n",
      "Iteration No: 45 started. Searching for the next optimal point.\n",
      "[4, 511, 5, 2]\n"
     ]
    },
    {
     "name": "stderr",
     "output_type": "stream",
     "text": [
      "/usr/local/lib/python3.7/site-packages/ipykernel_launcher.py:25: DataConversionWarning: A column-vector y was passed when a 1d array was expected. Please change the shape of y to (n_samples,), for example using ravel().\n"
     ]
    },
    {
     "name": "stdout",
     "output_type": "stream",
     "text": [
      "0.9298412698412698\n",
      "Iteration No: 45 ended. Search finished for the next optimal point.\n",
      "Time taken: 1.8438\n",
      "Function value obtained: -0.8605\n",
      "Current minimum: -0.9035\n",
      "Iteration No: 46 started. Searching for the next optimal point.\n",
      "[10, 338, 3, 4]\n"
     ]
    },
    {
     "name": "stderr",
     "output_type": "stream",
     "text": [
      "/usr/local/lib/python3.7/site-packages/ipykernel_launcher.py:25: DataConversionWarning: A column-vector y was passed when a 1d array was expected. Please change the shape of y to (n_samples,), for example using ravel().\n"
     ]
    },
    {
     "name": "stdout",
     "output_type": "stream",
     "text": [
      "0.9295238095238095\n",
      "Iteration No: 46 ended. Search finished for the next optimal point.\n",
      "Time taken: 1.4015\n",
      "Function value obtained: -0.8484\n",
      "Current minimum: -0.9035\n",
      "Iteration No: 47 started. Searching for the next optimal point.\n",
      "[5, 899, 4, 1]\n"
     ]
    },
    {
     "name": "stderr",
     "output_type": "stream",
     "text": [
      "/usr/local/lib/python3.7/site-packages/ipykernel_launcher.py:25: DataConversionWarning: A column-vector y was passed when a 1d array was expected. Please change the shape of y to (n_samples,), for example using ravel().\n"
     ]
    },
    {
     "name": "stdout",
     "output_type": "stream",
     "text": [
      "0.9434920634920635\n",
      "Iteration No: 47 ended. Search finished for the next optimal point.\n",
      "Time taken: 2.3746\n",
      "Function value obtained: -0.8854\n",
      "Current minimum: -0.9035\n",
      "Iteration No: 48 started. Searching for the next optimal point.\n",
      "[3, 383, 5, 2]\n"
     ]
    },
    {
     "name": "stderr",
     "output_type": "stream",
     "text": [
      "/usr/local/lib/python3.7/site-packages/ipykernel_launcher.py:25: DataConversionWarning: A column-vector y was passed when a 1d array was expected. Please change the shape of y to (n_samples,), for example using ravel().\n"
     ]
    },
    {
     "name": "stdout",
     "output_type": "stream",
     "text": [
      "0.9225396825396825\n",
      "Iteration No: 48 ended. Search finished for the next optimal point.\n",
      "Time taken: 1.4167\n",
      "Function value obtained: -0.8465\n",
      "Current minimum: -0.9035\n",
      "Iteration No: 49 started. Searching for the next optimal point.\n",
      "[9, 650, 1, 2]\n"
     ]
    },
    {
     "name": "stderr",
     "output_type": "stream",
     "text": [
      "/usr/local/lib/python3.7/site-packages/ipykernel_launcher.py:25: DataConversionWarning: A column-vector y was passed when a 1d array was expected. Please change the shape of y to (n_samples,), for example using ravel().\n"
     ]
    },
    {
     "name": "stdout",
     "output_type": "stream",
     "text": [
      "0.9117460317460319\n",
      "Iteration No: 49 ended. Search finished for the next optimal point.\n",
      "Time taken: 2.3901\n",
      "Function value obtained: -0.8504\n",
      "Current minimum: -0.9035\n",
      "Iteration No: 50 started. Searching for the next optimal point.\n",
      "[4, 606, 2, 5]\n"
     ]
    },
    {
     "name": "stderr",
     "output_type": "stream",
     "text": [
      "/usr/local/lib/python3.7/site-packages/ipykernel_launcher.py:25: DataConversionWarning: A column-vector y was passed when a 1d array was expected. Please change the shape of y to (n_samples,), for example using ravel().\n"
     ]
    },
    {
     "name": "stdout",
     "output_type": "stream",
     "text": [
      "0.8984126984126983\n",
      "Iteration No: 50 ended. Search finished for the next optimal point.\n",
      "Time taken: 3.8847\n",
      "Function value obtained: -0.7995\n",
      "Current minimum: -0.9035\n"
     ]
    }
   ],
   "source": [
    "def tune_lgbm(params):\n",
    "    print(params)\n",
    "    max_depth = params[0]\n",
    "    n_estimators = params[1]\n",
    "    \n",
    "    min_df = params[2]\n",
    "    ngram_range = (1, params[3])\n",
    "    \n",
    "    title_vec = TfidfVectorizer(min_df=min_df, ngram_range=ngram_range)\n",
    "    matriz_words = title_vec.fit_transform(df_filtered['watch-title'])\n",
    "    \n",
    "    stdScaler = StandardScaler()\n",
    "    X = stdScaler.fit_transform(df_filtered[['watch-view-count', 'view_per_day']])\n",
    "    X = hstack([X, matriz_words])\n",
    "    y = df_filtered[['target']]\n",
    "\n",
    "    X_train, X_test, y_train, y_test = train_test_split(X,\n",
    "                                                    y,\n",
    "                                                    test_size=0.15,\n",
    "                                                    random_state=42)\n",
    "    \n",
    "    mdl = RandomForestClassifier(max_depth=max_depth, n_estimators=n_estimators, class_weight='balanced',\n",
    "                                 n_jobs=6, random_state=0)\n",
    "    \n",
    "    mdl.fit(X_train, y_train)\n",
    "    \n",
    "    p = mdl.predict_proba(X_test)[:, 1]\n",
    "    \n",
    "    print(roc_auc_score(y_test, p))\n",
    "    \n",
    "    return -average_precision_score(y_test, p)\n",
    "\n",
    "\n",
    "space = [(1, 10), # max_depth\n",
    "          (100,1000), # n_estimators\n",
    "          (1,5), # min_df\n",
    "          (1,5)] # ngram_range\n",
    "\n",
    "res = forest_minimize(tune_lgbm, space, random_state=160745, n_random_starts=20, n_calls=50, verbose=1)"
   ]
  },
  {
   "cell_type": "code",
   "execution_count": 67,
   "metadata": {},
   "outputs": [
    {
     "data": {
      "text/plain": [
       "[9, 492, 2, 1]"
      ]
     },
     "execution_count": 67,
     "metadata": {},
     "output_type": "execute_result"
    }
   ],
   "source": [
    "res.x"
   ]
  },
  {
   "cell_type": "code",
   "execution_count": null,
   "metadata": {},
   "outputs": [],
   "source": []
  }
 ],
 "metadata": {
  "kernelspec": {
   "display_name": "Python 3",
   "language": "python",
   "name": "python3"
  },
  "language_info": {
   "codemirror_mode": {
    "name": "ipython",
    "version": 3
   },
   "file_extension": ".py",
   "mimetype": "text/x-python",
   "name": "python",
   "nbconvert_exporter": "python",
   "pygments_lexer": "ipython3",
   "version": "3.7.5"
  },
  "toc": {
   "base_numbering": 1,
   "nav_menu": {},
   "number_sections": true,
   "sideBar": true,
   "skip_h1_title": false,
   "title_cell": "Table of Contents",
   "title_sidebar": "Contents",
   "toc_cell": false,
   "toc_position": {},
   "toc_section_display": true,
   "toc_window_display": false
  },
  "varInspector": {
   "cols": {
    "lenName": 16,
    "lenType": 16,
    "lenVar": 40
   },
   "kernels_config": {
    "python": {
     "delete_cmd_postfix": "",
     "delete_cmd_prefix": "del ",
     "library": "var_list.py",
     "varRefreshCmd": "print(var_dic_list())"
    },
    "r": {
     "delete_cmd_postfix": ") ",
     "delete_cmd_prefix": "rm(",
     "library": "var_list.r",
     "varRefreshCmd": "cat(var_dic_list()) "
    }
   },
   "types_to_exclude": [
    "module",
    "function",
    "builtin_function_or_method",
    "instance",
    "_Feature"
   ],
   "window_display": false
  }
 },
 "nbformat": 4,
 "nbformat_minor": 1
}
